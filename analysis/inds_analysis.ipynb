{
 "cells": [
  {
   "cell_type": "code",
   "execution_count": 1,
   "id": "48394437-d7c2-4ac1-887a-f7b04bbbd022",
   "metadata": {
    "tags": []
   },
   "outputs": [
    {
     "name": "stdout",
     "output_type": "stream",
     "text": [
      "/pfs/data5/home/hd/hd_hd/hd_nf283/MA_Thesis\n"
     ]
    }
   ],
   "source": [
    "cd /pfs/data5/home/hd/hd_hd/hd_nf283/MA_Thesis/"
   ]
  },
  {
   "cell_type": "code",
   "execution_count": 18,
   "id": "7eb40afb-41bb-4dbe-9801-65c1e97e33f6",
   "metadata": {
    "tags": []
   },
   "outputs": [],
   "source": [
    "import pickle\n",
    "import numpy as np\n",
    "from tqdm import tqdm\n",
    "tqdm.pandas()\n",
    "import pandas as pd\n",
    "import json\n",
    "import gc\n",
    "from wordcloud import WordCloud, STOPWORDS\n",
    "import matplotlib.pyplot as plt"
   ]
  },
  {
   "cell_type": "code",
   "execution_count": 3,
   "id": "fe6ad365-c6a1-4b93-ba0f-786bc37ef4e9",
   "metadata": {
    "tags": []
   },
   "outputs": [],
   "source": [
    "data_path = 'Data/sepsis_removed_0.pkl'\n",
    "pkl = pickle.load(open(data_path, 'rb'))\n",
    "data = pkl[0]\n",
    "oc = pkl[1]\n",
    "train_ind = pkl[2]\n",
    "valid_ind = pkl[3]\n",
    "test_ind = pkl[4]\n",
    "del pkl"
   ]
  },
  {
   "cell_type": "code",
   "execution_count": null,
   "id": "6c73b78b-4d1b-4b54-8c3c-1d0f2d18a35c",
   "metadata": {},
   "outputs": [],
   "source": [
    "pos_oc = oc[oc['in_hospital_sepsis']==1]\n",
    "pos_inds = pos_oc['ts_ind'].to_list()"
   ]
  },
  {
   "cell_type": "code",
   "execution_count": 4,
   "id": "4f7fbd2c-b9db-48bd-9924-b9db002ecf2f",
   "metadata": {
    "tags": []
   },
   "outputs": [
    {
     "data": {
      "text/html": [
       "<div>\n",
       "<style scoped>\n",
       "    .dataframe tbody tr th:only-of-type {\n",
       "        vertical-align: middle;\n",
       "    }\n",
       "\n",
       "    .dataframe tbody tr th {\n",
       "        vertical-align: top;\n",
       "    }\n",
       "\n",
       "    .dataframe thead th {\n",
       "        text-align: right;\n",
       "    }\n",
       "</style>\n",
       "<table border=\"1\" class=\"dataframe\">\n",
       "  <thead>\n",
       "    <tr style=\"text-align: right;\">\n",
       "      <th></th>\n",
       "      <th>ts_ind</th>\n",
       "      <th>hour</th>\n",
       "      <th>variable</th>\n",
       "      <th>value</th>\n",
       "      <th>TABLE</th>\n",
       "      <th>mean</th>\n",
       "      <th>std</th>\n",
       "    </tr>\n",
       "  </thead>\n",
       "  <tbody>\n",
       "    <tr>\n",
       "      <th>0</th>\n",
       "      <td>10223</td>\n",
       "      <td>467.816667</td>\n",
       "      <td>Text</td>\n",
       "      <td>Admission Date:  [**2119-5-4**]              D...</td>\n",
       "      <td>noteevents</td>\n",
       "      <td>1.000000</td>\n",
       "      <td>1.000000</td>\n",
       "    </tr>\n",
       "    <tr>\n",
       "      <th>1</th>\n",
       "      <td>18407</td>\n",
       "      <td>28.016667</td>\n",
       "      <td>Text</td>\n",
       "      <td>Admission Date:  [**2112-12-8**]              ...</td>\n",
       "      <td>noteevents</td>\n",
       "      <td>1.000000</td>\n",
       "      <td>1.000000</td>\n",
       "    </tr>\n",
       "    <tr>\n",
       "      <th>2</th>\n",
       "      <td>40300</td>\n",
       "      <td>155.166667</td>\n",
       "      <td>Text</td>\n",
       "      <td>Admission Date:  [**2194-7-18**]              ...</td>\n",
       "      <td>noteevents</td>\n",
       "      <td>1.000000</td>\n",
       "      <td>1.000000</td>\n",
       "    </tr>\n",
       "    <tr>\n",
       "      <th>3</th>\n",
       "      <td>23747</td>\n",
       "      <td>52.383333</td>\n",
       "      <td>Text</td>\n",
       "      <td>Admission Date:  [**2194-1-7**]              D...</td>\n",
       "      <td>noteevents</td>\n",
       "      <td>1.000000</td>\n",
       "      <td>1.000000</td>\n",
       "    </tr>\n",
       "    <tr>\n",
       "      <th>4</th>\n",
       "      <td>2357</td>\n",
       "      <td>73.133333</td>\n",
       "      <td>Text</td>\n",
       "      <td>Admission Date:  [**2186-6-7**]     Discharge ...</td>\n",
       "      <td>noteevents</td>\n",
       "      <td>1.000000</td>\n",
       "      <td>1.000000</td>\n",
       "    </tr>\n",
       "    <tr>\n",
       "      <th>...</th>\n",
       "      <td>...</td>\n",
       "      <td>...</td>\n",
       "      <td>...</td>\n",
       "      <td>...</td>\n",
       "      <td>...</td>\n",
       "      <td>...</td>\n",
       "      <td>...</td>\n",
       "    </tr>\n",
       "    <tr>\n",
       "      <th>82886223</th>\n",
       "      <td>57281</td>\n",
       "      <td>20.400000</td>\n",
       "      <td>MBP</td>\n",
       "      <td>0.195381</td>\n",
       "      <td>chart</td>\n",
       "      <td>78.552377</td>\n",
       "      <td>17.645628</td>\n",
       "    </tr>\n",
       "    <tr>\n",
       "      <th>82886224</th>\n",
       "      <td>57281</td>\n",
       "      <td>20.400000</td>\n",
       "      <td>O2 Saturation</td>\n",
       "      <td>-0.678068</td>\n",
       "      <td>chart</td>\n",
       "      <td>96.820961</td>\n",
       "      <td>4.160290</td>\n",
       "    </tr>\n",
       "    <tr>\n",
       "      <th>82886225</th>\n",
       "      <td>57281</td>\n",
       "      <td>20.400000</td>\n",
       "      <td>RR</td>\n",
       "      <td>0.179866</td>\n",
       "      <td>chart</td>\n",
       "      <td>26.278501</td>\n",
       "      <td>15.130729</td>\n",
       "    </tr>\n",
       "    <tr>\n",
       "      <th>82886226</th>\n",
       "      <td>57281</td>\n",
       "      <td>20.400000</td>\n",
       "      <td>SBP</td>\n",
       "      <td>-0.404061</td>\n",
       "      <td>chart</td>\n",
       "      <td>120.239648</td>\n",
       "      <td>25.341836</td>\n",
       "    </tr>\n",
       "    <tr>\n",
       "      <th>82886227</th>\n",
       "      <td>57281</td>\n",
       "      <td>20.400000</td>\n",
       "      <td>Urine</td>\n",
       "      <td>-0.24296</td>\n",
       "      <td>output</td>\n",
       "      <td>123.393012</td>\n",
       "      <td>137.442433</td>\n",
       "    </tr>\n",
       "  </tbody>\n",
       "</table>\n",
       "<p>82447326 rows × 7 columns</p>\n",
       "</div>"
      ],
      "text/plain": [
       "          ts_ind        hour       variable  \\\n",
       "0          10223  467.816667           Text   \n",
       "1          18407   28.016667           Text   \n",
       "2          40300  155.166667           Text   \n",
       "3          23747   52.383333           Text   \n",
       "4           2357   73.133333           Text   \n",
       "...          ...         ...            ...   \n",
       "82886223   57281   20.400000            MBP   \n",
       "82886224   57281   20.400000  O2 Saturation   \n",
       "82886225   57281   20.400000             RR   \n",
       "82886226   57281   20.400000            SBP   \n",
       "82886227   57281   20.400000          Urine   \n",
       "\n",
       "                                                      value       TABLE  \\\n",
       "0         Admission Date:  [**2119-5-4**]              D...  noteevents   \n",
       "1         Admission Date:  [**2112-12-8**]              ...  noteevents   \n",
       "2         Admission Date:  [**2194-7-18**]              ...  noteevents   \n",
       "3         Admission Date:  [**2194-1-7**]              D...  noteevents   \n",
       "4         Admission Date:  [**2186-6-7**]     Discharge ...  noteevents   \n",
       "...                                                     ...         ...   \n",
       "82886223                                           0.195381       chart   \n",
       "82886224                                          -0.678068       chart   \n",
       "82886225                                           0.179866       chart   \n",
       "82886226                                          -0.404061       chart   \n",
       "82886227                                           -0.24296      output   \n",
       "\n",
       "                mean         std  \n",
       "0           1.000000    1.000000  \n",
       "1           1.000000    1.000000  \n",
       "2           1.000000    1.000000  \n",
       "3           1.000000    1.000000  \n",
       "4           1.000000    1.000000  \n",
       "...              ...         ...  \n",
       "82886223   78.552377   17.645628  \n",
       "82886224   96.820961    4.160290  \n",
       "82886225   26.278501   15.130729  \n",
       "82886226  120.239648   25.341836  \n",
       "82886227  123.393012  137.442433  \n",
       "\n",
       "[82447326 rows x 7 columns]"
      ]
     },
     "execution_count": 4,
     "metadata": {},
     "output_type": "execute_result"
    }
   ],
   "source": [
    "data"
   ]
  },
  {
   "cell_type": "code",
   "execution_count": 7,
   "id": "6ac40429-12fa-4ab9-bd9e-40bf7d3276b8",
   "metadata": {
    "tags": []
   },
   "outputs": [
    {
     "data": {
      "text/html": [
       "<div>\n",
       "<style scoped>\n",
       "    .dataframe tbody tr th:only-of-type {\n",
       "        vertical-align: middle;\n",
       "    }\n",
       "\n",
       "    .dataframe tbody tr th {\n",
       "        vertical-align: top;\n",
       "    }\n",
       "\n",
       "    .dataframe thead th {\n",
       "        text-align: right;\n",
       "    }\n",
       "</style>\n",
       "<table border=\"1\" class=\"dataframe\">\n",
       "  <thead>\n",
       "    <tr style=\"text-align: right;\">\n",
       "      <th></th>\n",
       "      <th>ts_ind</th>\n",
       "      <th>hour</th>\n",
       "      <th>variable</th>\n",
       "      <th>value</th>\n",
       "      <th>TABLE</th>\n",
       "      <th>mean</th>\n",
       "      <th>std</th>\n",
       "    </tr>\n",
       "  </thead>\n",
       "  <tbody>\n",
       "    <tr>\n",
       "      <th>0</th>\n",
       "      <td>10223</td>\n",
       "      <td>467.816667</td>\n",
       "      <td>Text</td>\n",
       "      <td>Admission Date:  [**2119-5-4**]              D...</td>\n",
       "      <td>noteevents</td>\n",
       "      <td>1.0</td>\n",
       "      <td>1.0</td>\n",
       "    </tr>\n",
       "    <tr>\n",
       "      <th>1</th>\n",
       "      <td>18407</td>\n",
       "      <td>28.016667</td>\n",
       "      <td>Text</td>\n",
       "      <td>Admission Date:  [**2112-12-8**]              ...</td>\n",
       "      <td>noteevents</td>\n",
       "      <td>1.0</td>\n",
       "      <td>1.0</td>\n",
       "    </tr>\n",
       "    <tr>\n",
       "      <th>2</th>\n",
       "      <td>40300</td>\n",
       "      <td>155.166667</td>\n",
       "      <td>Text</td>\n",
       "      <td>Admission Date:  [**2194-7-18**]              ...</td>\n",
       "      <td>noteevents</td>\n",
       "      <td>1.0</td>\n",
       "      <td>1.0</td>\n",
       "    </tr>\n",
       "    <tr>\n",
       "      <th>3</th>\n",
       "      <td>23747</td>\n",
       "      <td>52.383333</td>\n",
       "      <td>Text</td>\n",
       "      <td>Admission Date:  [**2194-1-7**]              D...</td>\n",
       "      <td>noteevents</td>\n",
       "      <td>1.0</td>\n",
       "      <td>1.0</td>\n",
       "    </tr>\n",
       "    <tr>\n",
       "      <th>4</th>\n",
       "      <td>2357</td>\n",
       "      <td>73.133333</td>\n",
       "      <td>Text</td>\n",
       "      <td>Admission Date:  [**2186-6-7**]     Discharge ...</td>\n",
       "      <td>noteevents</td>\n",
       "      <td>1.0</td>\n",
       "      <td>1.0</td>\n",
       "    </tr>\n",
       "    <tr>\n",
       "      <th>...</th>\n",
       "      <td>...</td>\n",
       "      <td>...</td>\n",
       "      <td>...</td>\n",
       "      <td>...</td>\n",
       "      <td>...</td>\n",
       "      <td>...</td>\n",
       "      <td>...</td>\n",
       "    </tr>\n",
       "    <tr>\n",
       "      <th>1407425</th>\n",
       "      <td>31015</td>\n",
       "      <td>99.400000</td>\n",
       "      <td>Text</td>\n",
       "      <td>NPN\\n\\n\\n#1  Infant remains in RA with O2 sats...</td>\n",
       "      <td>noteevents</td>\n",
       "      <td>1.0</td>\n",
       "      <td>1.0</td>\n",
       "    </tr>\n",
       "    <tr>\n",
       "      <th>1407426</th>\n",
       "      <td>31015</td>\n",
       "      <td>105.783333</td>\n",
       "      <td>Text</td>\n",
       "      <td>Neonatology\\nDOL #5, CGA 36 weeks. \\n\\nCVR: Co...</td>\n",
       "      <td>noteevents</td>\n",
       "      <td>1.0</td>\n",
       "      <td>1.0</td>\n",
       "    </tr>\n",
       "    <tr>\n",
       "      <th>1407427</th>\n",
       "      <td>31015</td>\n",
       "      <td>112.650000</td>\n",
       "      <td>Text</td>\n",
       "      <td>Family Meeting Note\\nFamily meeting held with ...</td>\n",
       "      <td>noteevents</td>\n",
       "      <td>1.0</td>\n",
       "      <td>1.0</td>\n",
       "    </tr>\n",
       "    <tr>\n",
       "      <th>1407428</th>\n",
       "      <td>31015</td>\n",
       "      <td>114.033333</td>\n",
       "      <td>Text</td>\n",
       "      <td>NPN 1800\\n\\n\\n#1 Resp: [**Known lastname 2243*...</td>\n",
       "      <td>noteevents</td>\n",
       "      <td>1.0</td>\n",
       "      <td>1.0</td>\n",
       "    </tr>\n",
       "    <tr>\n",
       "      <th>1407429</th>\n",
       "      <td>31015</td>\n",
       "      <td>114.033333</td>\n",
       "      <td>Text</td>\n",
       "      <td>NPN 1800\\nNursing Addendum:\\n[**Known lastname...</td>\n",
       "      <td>noteevents</td>\n",
       "      <td>1.0</td>\n",
       "      <td>1.0</td>\n",
       "    </tr>\n",
       "  </tbody>\n",
       "</table>\n",
       "<p>1407430 rows × 7 columns</p>\n",
       "</div>"
      ],
      "text/plain": [
       "         ts_ind        hour variable  \\\n",
       "0         10223  467.816667     Text   \n",
       "1         18407   28.016667     Text   \n",
       "2         40300  155.166667     Text   \n",
       "3         23747   52.383333     Text   \n",
       "4          2357   73.133333     Text   \n",
       "...         ...         ...      ...   \n",
       "1407425   31015   99.400000     Text   \n",
       "1407426   31015  105.783333     Text   \n",
       "1407427   31015  112.650000     Text   \n",
       "1407428   31015  114.033333     Text   \n",
       "1407429   31015  114.033333     Text   \n",
       "\n",
       "                                                     value       TABLE  mean  \\\n",
       "0        Admission Date:  [**2119-5-4**]              D...  noteevents   1.0   \n",
       "1        Admission Date:  [**2112-12-8**]              ...  noteevents   1.0   \n",
       "2        Admission Date:  [**2194-7-18**]              ...  noteevents   1.0   \n",
       "3        Admission Date:  [**2194-1-7**]              D...  noteevents   1.0   \n",
       "4        Admission Date:  [**2186-6-7**]     Discharge ...  noteevents   1.0   \n",
       "...                                                    ...         ...   ...   \n",
       "1407425  NPN\\n\\n\\n#1  Infant remains in RA with O2 sats...  noteevents   1.0   \n",
       "1407426  Neonatology\\nDOL #5, CGA 36 weeks. \\n\\nCVR: Co...  noteevents   1.0   \n",
       "1407427  Family Meeting Note\\nFamily meeting held with ...  noteevents   1.0   \n",
       "1407428  NPN 1800\\n\\n\\n#1 Resp: [**Known lastname 2243*...  noteevents   1.0   \n",
       "1407429  NPN 1800\\nNursing Addendum:\\n[**Known lastname...  noteevents   1.0   \n",
       "\n",
       "         std  \n",
       "0        1.0  \n",
       "1        1.0  \n",
       "2        1.0  \n",
       "3        1.0  \n",
       "4        1.0  \n",
       "...      ...  \n",
       "1407425  1.0  \n",
       "1407426  1.0  \n",
       "1407427  1.0  \n",
       "1407428  1.0  \n",
       "1407429  1.0  \n",
       "\n",
       "[1407430 rows x 7 columns]"
      ]
     },
     "execution_count": 7,
     "metadata": {},
     "output_type": "execute_result"
    }
   ],
   "source": [
    "text_data = data[data.variable == 'Text']\n",
    "text_data"
   ]
  },
  {
   "cell_type": "code",
   "execution_count": 10,
   "id": "9d0cd403-c661-4df9-b9e3-42720563a476",
   "metadata": {
    "tags": []
   },
   "outputs": [
    {
     "data": {
      "text/html": [
       "<div>\n",
       "<style scoped>\n",
       "    .dataframe tbody tr th:only-of-type {\n",
       "        vertical-align: middle;\n",
       "    }\n",
       "\n",
       "    .dataframe tbody tr th {\n",
       "        vertical-align: top;\n",
       "    }\n",
       "\n",
       "    .dataframe thead th {\n",
       "        text-align: right;\n",
       "    }\n",
       "</style>\n",
       "<table border=\"1\" class=\"dataframe\">\n",
       "  <thead>\n",
       "    <tr style=\"text-align: right;\">\n",
       "      <th></th>\n",
       "      <th>ts_ind</th>\n",
       "      <th>hour</th>\n",
       "      <th>variable</th>\n",
       "      <th>value</th>\n",
       "      <th>TABLE</th>\n",
       "      <th>mean</th>\n",
       "      <th>std</th>\n",
       "    </tr>\n",
       "  </thead>\n",
       "  <tbody>\n",
       "    <tr>\n",
       "      <th>638818</th>\n",
       "      <td>0</td>\n",
       "      <td>5.683333</td>\n",
       "      <td>Text</td>\n",
       "      <td>rn progress note\\nneuro; pt aox3 pt affect slo...</td>\n",
       "      <td>noteevents</td>\n",
       "      <td>1.0</td>\n",
       "      <td>1.0</td>\n",
       "    </tr>\n",
       "    <tr>\n",
       "      <th>453442</th>\n",
       "      <td>0</td>\n",
       "      <td>9.066667</td>\n",
       "      <td>Text</td>\n",
       "      <td>[**2198-2-15**] 8:32 AM\\n CHEST (PORTABLE AP) ...</td>\n",
       "      <td>noteevents</td>\n",
       "      <td>1.0</td>\n",
       "      <td>1.0</td>\n",
       "    </tr>\n",
       "    <tr>\n",
       "      <th>453932</th>\n",
       "      <td>0</td>\n",
       "      <td>11.133333</td>\n",
       "      <td>Text</td>\n",
       "      <td>[**2198-2-15**] 10:36 AM\\n CHEST (PORTABLE AP)...</td>\n",
       "      <td>noteevents</td>\n",
       "      <td>1.0</td>\n",
       "      <td>1.0</td>\n",
       "    </tr>\n",
       "    <tr>\n",
       "      <th>453987</th>\n",
       "      <td>0</td>\n",
       "      <td>15.666667</td>\n",
       "      <td>Text</td>\n",
       "      <td>[**2198-2-15**] 3:08 PM\\n CHEST (PORTABLE AP) ...</td>\n",
       "      <td>noteevents</td>\n",
       "      <td>1.0</td>\n",
       "      <td>1.0</td>\n",
       "    </tr>\n",
       "    <tr>\n",
       "      <th>638069</th>\n",
       "      <td>0</td>\n",
       "      <td>18.933333</td>\n",
       "      <td>Text</td>\n",
       "      <td>RESP: PT. INTUBATED AFTER SEVERAL ATTEMPT AT N...</td>\n",
       "      <td>noteevents</td>\n",
       "      <td>1.0</td>\n",
       "      <td>1.0</td>\n",
       "    </tr>\n",
       "    <tr>\n",
       "      <th>...</th>\n",
       "      <td>...</td>\n",
       "      <td>...</td>\n",
       "      <td>...</td>\n",
       "      <td>...</td>\n",
       "      <td>...</td>\n",
       "      <td>...</td>\n",
       "      <td>...</td>\n",
       "    </tr>\n",
       "    <tr>\n",
       "      <th>742243</th>\n",
       "      <td>57280</td>\n",
       "      <td>16.966667</td>\n",
       "      <td>Text</td>\n",
       "      <td>TRANSFER NOTE FROM N-SICU\\nD: 80 YR OLD RETIRE...</td>\n",
       "      <td>noteevents</td>\n",
       "      <td>1.0</td>\n",
       "      <td>1.0</td>\n",
       "    </tr>\n",
       "    <tr>\n",
       "      <th>675206</th>\n",
       "      <td>57281</td>\n",
       "      <td>1.000000</td>\n",
       "      <td>Text</td>\n",
       "      <td>Mr. [**Known lastname 829**] is a 60 yr gentle...</td>\n",
       "      <td>noteevents</td>\n",
       "      <td>1.0</td>\n",
       "      <td>1.0</td>\n",
       "    </tr>\n",
       "    <tr>\n",
       "      <th>17469</th>\n",
       "      <td>57281</td>\n",
       "      <td>5.400000</td>\n",
       "      <td>Text</td>\n",
       "      <td>PATIENT/TEST INFORMATION:\\nIndication: Coronar...</td>\n",
       "      <td>noteevents</td>\n",
       "      <td>1.0</td>\n",
       "      <td>1.0</td>\n",
       "    </tr>\n",
       "    <tr>\n",
       "      <th>675207</th>\n",
       "      <td>57281</td>\n",
       "      <td>9.300000</td>\n",
       "      <td>Text</td>\n",
       "      <td>CCU NPN 1900-0700\\nS: \" Can I go home tomorrow...</td>\n",
       "      <td>noteevents</td>\n",
       "      <td>1.0</td>\n",
       "      <td>1.0</td>\n",
       "    </tr>\n",
       "    <tr>\n",
       "      <th>470769</th>\n",
       "      <td>57281</td>\n",
       "      <td>14.716667</td>\n",
       "      <td>Text</td>\n",
       "      <td>[**2190-10-21**] 9:19 AM\\n CAROTID SERIES COMP...</td>\n",
       "      <td>noteevents</td>\n",
       "      <td>1.0</td>\n",
       "      <td>1.0</td>\n",
       "    </tr>\n",
       "  </tbody>\n",
       "</table>\n",
       "<p>1407430 rows × 7 columns</p>\n",
       "</div>"
      ],
      "text/plain": [
       "        ts_ind       hour variable  \\\n",
       "638818       0   5.683333     Text   \n",
       "453442       0   9.066667     Text   \n",
       "453932       0  11.133333     Text   \n",
       "453987       0  15.666667     Text   \n",
       "638069       0  18.933333     Text   \n",
       "...        ...        ...      ...   \n",
       "742243   57280  16.966667     Text   \n",
       "675206   57281   1.000000     Text   \n",
       "17469    57281   5.400000     Text   \n",
       "675207   57281   9.300000     Text   \n",
       "470769   57281  14.716667     Text   \n",
       "\n",
       "                                                    value       TABLE  mean  \\\n",
       "638818  rn progress note\\nneuro; pt aox3 pt affect slo...  noteevents   1.0   \n",
       "453442  [**2198-2-15**] 8:32 AM\\n CHEST (PORTABLE AP) ...  noteevents   1.0   \n",
       "453932  [**2198-2-15**] 10:36 AM\\n CHEST (PORTABLE AP)...  noteevents   1.0   \n",
       "453987  [**2198-2-15**] 3:08 PM\\n CHEST (PORTABLE AP) ...  noteevents   1.0   \n",
       "638069  RESP: PT. INTUBATED AFTER SEVERAL ATTEMPT AT N...  noteevents   1.0   \n",
       "...                                                   ...         ...   ...   \n",
       "742243  TRANSFER NOTE FROM N-SICU\\nD: 80 YR OLD RETIRE...  noteevents   1.0   \n",
       "675206  Mr. [**Known lastname 829**] is a 60 yr gentle...  noteevents   1.0   \n",
       "17469   PATIENT/TEST INFORMATION:\\nIndication: Coronar...  noteevents   1.0   \n",
       "675207  CCU NPN 1900-0700\\nS: \" Can I go home tomorrow...  noteevents   1.0   \n",
       "470769  [**2190-10-21**] 9:19 AM\\n CAROTID SERIES COMP...  noteevents   1.0   \n",
       "\n",
       "        std  \n",
       "638818  1.0  \n",
       "453442  1.0  \n",
       "453932  1.0  \n",
       "453987  1.0  \n",
       "638069  1.0  \n",
       "...     ...  \n",
       "742243  1.0  \n",
       "675206  1.0  \n",
       "17469   1.0  \n",
       "675207  1.0  \n",
       "470769  1.0  \n",
       "\n",
       "[1407430 rows x 7 columns]"
      ]
     },
     "execution_count": 10,
     "metadata": {},
     "output_type": "execute_result"
    }
   ],
   "source": [
    "text_data.sort_values(['ts_ind', 'hour'])"
   ]
  },
  {
   "cell_type": "code",
   "execution_count": 5,
   "id": "f8358172-fa12-466c-9eef-5e41f8c4d00f",
   "metadata": {
    "tags": []
   },
   "outputs": [
    {
     "data": {
      "text/html": [
       "<div>\n",
       "<style scoped>\n",
       "    .dataframe tbody tr th:only-of-type {\n",
       "        vertical-align: middle;\n",
       "    }\n",
       "\n",
       "    .dataframe tbody tr th {\n",
       "        vertical-align: top;\n",
       "    }\n",
       "\n",
       "    .dataframe thead th {\n",
       "        text-align: right;\n",
       "    }\n",
       "</style>\n",
       "<table border=\"1\" class=\"dataframe\">\n",
       "  <thead>\n",
       "    <tr style=\"text-align: right;\">\n",
       "      <th></th>\n",
       "      <th>ts_ind</th>\n",
       "      <th>HADM_ID</th>\n",
       "      <th>SUBJECT_ID</th>\n",
       "      <th>in_hospital_sepsis</th>\n",
       "    </tr>\n",
       "  </thead>\n",
       "  <tbody>\n",
       "    <tr>\n",
       "      <th>0</th>\n",
       "      <td>0</td>\n",
       "      <td>110404</td>\n",
       "      <td>268</td>\n",
       "      <td>1</td>\n",
       "    </tr>\n",
       "    <tr>\n",
       "      <th>1</th>\n",
       "      <td>1</td>\n",
       "      <td>188028</td>\n",
       "      <td>270</td>\n",
       "      <td>0</td>\n",
       "    </tr>\n",
       "    <tr>\n",
       "      <th>2</th>\n",
       "      <td>2</td>\n",
       "      <td>173727</td>\n",
       "      <td>271</td>\n",
       "      <td>0</td>\n",
       "    </tr>\n",
       "    <tr>\n",
       "      <th>3</th>\n",
       "      <td>3</td>\n",
       "      <td>164716</td>\n",
       "      <td>272</td>\n",
       "      <td>0</td>\n",
       "    </tr>\n",
       "    <tr>\n",
       "      <th>4</th>\n",
       "      <td>4</td>\n",
       "      <td>158689</td>\n",
       "      <td>273</td>\n",
       "      <td>0</td>\n",
       "    </tr>\n",
       "    <tr>\n",
       "      <th>...</th>\n",
       "      <td>...</td>\n",
       "      <td>...</td>\n",
       "      <td>...</td>\n",
       "      <td>...</td>\n",
       "    </tr>\n",
       "    <tr>\n",
       "      <th>57376</th>\n",
       "      <td>45558</td>\n",
       "      <td>143774</td>\n",
       "      <td>94944</td>\n",
       "      <td>0</td>\n",
       "    </tr>\n",
       "    <tr>\n",
       "      <th>57377</th>\n",
       "      <td>45559</td>\n",
       "      <td>123750</td>\n",
       "      <td>94950</td>\n",
       "      <td>0</td>\n",
       "    </tr>\n",
       "    <tr>\n",
       "      <th>57378</th>\n",
       "      <td>50487</td>\n",
       "      <td>196881</td>\n",
       "      <td>94953</td>\n",
       "      <td>0</td>\n",
       "    </tr>\n",
       "    <tr>\n",
       "      <th>57379</th>\n",
       "      <td>45560</td>\n",
       "      <td>118475</td>\n",
       "      <td>94954</td>\n",
       "      <td>0</td>\n",
       "    </tr>\n",
       "    <tr>\n",
       "      <th>57380</th>\n",
       "      <td>45561</td>\n",
       "      <td>156386</td>\n",
       "      <td>94956</td>\n",
       "      <td>0</td>\n",
       "    </tr>\n",
       "  </tbody>\n",
       "</table>\n",
       "<p>57282 rows × 4 columns</p>\n",
       "</div>"
      ],
      "text/plain": [
       "       ts_ind  HADM_ID  SUBJECT_ID  in_hospital_sepsis\n",
       "0           0   110404         268                   1\n",
       "1           1   188028         270                   0\n",
       "2           2   173727         271                   0\n",
       "3           3   164716         272                   0\n",
       "4           4   158689         273                   0\n",
       "...       ...      ...         ...                 ...\n",
       "57376   45558   143774       94944                   0\n",
       "57377   45559   123750       94950                   0\n",
       "57378   50487   196881       94953                   0\n",
       "57379   45560   118475       94954                   0\n",
       "57380   45561   156386       94956                   0\n",
       "\n",
       "[57282 rows x 4 columns]"
      ]
     },
     "execution_count": 5,
     "metadata": {},
     "output_type": "execute_result"
    }
   ],
   "source": [
    "oc"
   ]
  },
  {
   "cell_type": "code",
   "execution_count": 6,
   "id": "1b281a9a-56d2-4f41-b456-8136c6366126",
   "metadata": {
    "tags": []
   },
   "outputs": [
    {
     "data": {
      "text/html": [
       "<div>\n",
       "<style scoped>\n",
       "    .dataframe tbody tr th:only-of-type {\n",
       "        vertical-align: middle;\n",
       "    }\n",
       "\n",
       "    .dataframe tbody tr th {\n",
       "        vertical-align: top;\n",
       "    }\n",
       "\n",
       "    .dataframe thead th {\n",
       "        text-align: right;\n",
       "    }\n",
       "</style>\n",
       "<table border=\"1\" class=\"dataframe\">\n",
       "  <thead>\n",
       "    <tr style=\"text-align: right;\">\n",
       "      <th></th>\n",
       "      <th>ts_ind</th>\n",
       "      <th>HADM_ID</th>\n",
       "      <th>SUBJECT_ID</th>\n",
       "      <th>in_hospital_sepsis</th>\n",
       "    </tr>\n",
       "  </thead>\n",
       "  <tbody>\n",
       "    <tr>\n",
       "      <th>0</th>\n",
       "      <td>0</td>\n",
       "      <td>110404</td>\n",
       "      <td>268</td>\n",
       "      <td>1</td>\n",
       "    </tr>\n",
       "    <tr>\n",
       "      <th>8</th>\n",
       "      <td>7</td>\n",
       "      <td>192224</td>\n",
       "      <td>279</td>\n",
       "      <td>1</td>\n",
       "    </tr>\n",
       "    <tr>\n",
       "      <th>25</th>\n",
       "      <td>48221</td>\n",
       "      <td>179726</td>\n",
       "      <td>292</td>\n",
       "      <td>1</td>\n",
       "    </tr>\n",
       "    <tr>\n",
       "      <th>43</th>\n",
       "      <td>31</td>\n",
       "      <td>194340</td>\n",
       "      <td>305</td>\n",
       "      <td>1</td>\n",
       "    </tr>\n",
       "    <tr>\n",
       "      <th>68</th>\n",
       "      <td>52</td>\n",
       "      <td>172132</td>\n",
       "      <td>329</td>\n",
       "      <td>1</td>\n",
       "    </tr>\n",
       "    <tr>\n",
       "      <th>...</th>\n",
       "      <td>...</td>\n",
       "      <td>...</td>\n",
       "      <td>...</td>\n",
       "      <td>...</td>\n",
       "    </tr>\n",
       "    <tr>\n",
       "      <th>57274</th>\n",
       "      <td>45480</td>\n",
       "      <td>187410</td>\n",
       "      <td>90658</td>\n",
       "      <td>1</td>\n",
       "    </tr>\n",
       "    <tr>\n",
       "      <th>57311</th>\n",
       "      <td>45509</td>\n",
       "      <td>133967</td>\n",
       "      <td>91950</td>\n",
       "      <td>1</td>\n",
       "    </tr>\n",
       "    <tr>\n",
       "      <th>57343</th>\n",
       "      <td>45536</td>\n",
       "      <td>116543</td>\n",
       "      <td>94828</td>\n",
       "      <td>1</td>\n",
       "    </tr>\n",
       "    <tr>\n",
       "      <th>57347</th>\n",
       "      <td>45540</td>\n",
       "      <td>133042</td>\n",
       "      <td>94846</td>\n",
       "      <td>1</td>\n",
       "    </tr>\n",
       "    <tr>\n",
       "      <th>57362</th>\n",
       "      <td>45549</td>\n",
       "      <td>132953</td>\n",
       "      <td>94903</td>\n",
       "      <td>1</td>\n",
       "    </tr>\n",
       "  </tbody>\n",
       "</table>\n",
       "<p>5288 rows × 4 columns</p>\n",
       "</div>"
      ],
      "text/plain": [
       "       ts_ind  HADM_ID  SUBJECT_ID  in_hospital_sepsis\n",
       "0           0   110404         268                   1\n",
       "8           7   192224         279                   1\n",
       "25      48221   179726         292                   1\n",
       "43         31   194340         305                   1\n",
       "68         52   172132         329                   1\n",
       "...       ...      ...         ...                 ...\n",
       "57274   45480   187410       90658                   1\n",
       "57311   45509   133967       91950                   1\n",
       "57343   45536   116543       94828                   1\n",
       "57347   45540   133042       94846                   1\n",
       "57362   45549   132953       94903                   1\n",
       "\n",
       "[5288 rows x 4 columns]"
      ]
     },
     "execution_count": 6,
     "metadata": {},
     "output_type": "execute_result"
    }
   ],
   "source": [
    "pos_oc = oc[oc['in_hospital_sepsis']==1]\n",
    "pos_oc"
   ]
  },
  {
   "cell_type": "code",
   "execution_count": null,
   "id": "3dd58e14-ea4f-407f-a1de-dd5ec8c02b2e",
   "metadata": {},
   "outputs": [],
   "source": [
    "pos_inds = pos_oc['ts_ind'].to_list()\n",
    "pos_inds"
   ]
  },
  {
   "cell_type": "markdown",
   "id": "2934c11c-a312-4537-831a-84a3cd898ed2",
   "metadata": {},
   "source": [
    "## 24-h"
   ]
  },
  {
   "cell_type": "code",
   "execution_count": 14,
   "id": "e96d90fc-8581-4f6b-b617-e0ccfaf0f6b5",
   "metadata": {
    "tags": []
   },
   "outputs": [
    {
     "data": {
      "text/html": [
       "<div>\n",
       "<style scoped>\n",
       "    .dataframe tbody tr th:only-of-type {\n",
       "        vertical-align: middle;\n",
       "    }\n",
       "\n",
       "    .dataframe tbody tr th {\n",
       "        vertical-align: top;\n",
       "    }\n",
       "\n",
       "    .dataframe thead th {\n",
       "        text-align: right;\n",
       "    }\n",
       "</style>\n",
       "<table border=\"1\" class=\"dataframe\">\n",
       "  <thead>\n",
       "    <tr style=\"text-align: right;\">\n",
       "      <th></th>\n",
       "      <th>index</th>\n",
       "      <th>ts_ind</th>\n",
       "      <th>hour</th>\n",
       "      <th>variable</th>\n",
       "      <th>value</th>\n",
       "      <th>TABLE</th>\n",
       "      <th>mean</th>\n",
       "      <th>std</th>\n",
       "    </tr>\n",
       "  </thead>\n",
       "  <tbody>\n",
       "    <tr>\n",
       "      <th>0</th>\n",
       "      <td>8</td>\n",
       "      <td>53658</td>\n",
       "      <td>1.433333</td>\n",
       "      <td>Text</td>\n",
       "      <td>Admission Date:  [**2145-11-30**]             ...</td>\n",
       "      <td>noteevents</td>\n",
       "      <td>1.0</td>\n",
       "      <td>1.0</td>\n",
       "    </tr>\n",
       "    <tr>\n",
       "      <th>1</th>\n",
       "      <td>9</td>\n",
       "      <td>55730</td>\n",
       "      <td>17.083333</td>\n",
       "      <td>Text</td>\n",
       "      <td>Admission Date:  [**2194-8-15**]              ...</td>\n",
       "      <td>noteevents</td>\n",
       "      <td>1.0</td>\n",
       "      <td>1.0</td>\n",
       "    </tr>\n",
       "    <tr>\n",
       "      <th>2</th>\n",
       "      <td>11</td>\n",
       "      <td>4140</td>\n",
       "      <td>19.600000</td>\n",
       "      <td>Text</td>\n",
       "      <td>Admission Date: [**2193-5-30**]        Dischar...</td>\n",
       "      <td>noteevents</td>\n",
       "      <td>1.0</td>\n",
       "      <td>1.0</td>\n",
       "    </tr>\n",
       "    <tr>\n",
       "      <th>3</th>\n",
       "      <td>17</td>\n",
       "      <td>50150</td>\n",
       "      <td>12.716667</td>\n",
       "      <td>Text</td>\n",
       "      <td>Admission Date:  [**2157-5-31**]              ...</td>\n",
       "      <td>noteevents</td>\n",
       "      <td>1.0</td>\n",
       "      <td>1.0</td>\n",
       "    </tr>\n",
       "    <tr>\n",
       "      <th>4</th>\n",
       "      <td>25</td>\n",
       "      <td>30691</td>\n",
       "      <td>19.716667</td>\n",
       "      <td>Text</td>\n",
       "      <td>Admission Date:  [**2118-7-10**]              ...</td>\n",
       "      <td>noteevents</td>\n",
       "      <td>1.0</td>\n",
       "      <td>1.0</td>\n",
       "    </tr>\n",
       "    <tr>\n",
       "      <th>...</th>\n",
       "      <td>...</td>\n",
       "      <td>...</td>\n",
       "      <td>...</td>\n",
       "      <td>...</td>\n",
       "      <td>...</td>\n",
       "      <td>...</td>\n",
       "      <td>...</td>\n",
       "      <td>...</td>\n",
       "    </tr>\n",
       "    <tr>\n",
       "      <th>316730</th>\n",
       "      <td>1407409</td>\n",
       "      <td>30881</td>\n",
       "      <td>8.983333</td>\n",
       "      <td>Text</td>\n",
       "      <td>NPN\\nplease see above note for delivery histor...</td>\n",
       "      <td>noteevents</td>\n",
       "      <td>1.0</td>\n",
       "      <td>1.0</td>\n",
       "    </tr>\n",
       "    <tr>\n",
       "      <th>316731</th>\n",
       "      <td>1407410</td>\n",
       "      <td>30881</td>\n",
       "      <td>16.483333</td>\n",
       "      <td>Text</td>\n",
       "      <td>NPN 11p-7a\\n\\n\\n#1 Infant placed to RA @ shift...</td>\n",
       "      <td>noteevents</td>\n",
       "      <td>1.0</td>\n",
       "      <td>1.0</td>\n",
       "    </tr>\n",
       "    <tr>\n",
       "      <th>316732</th>\n",
       "      <td>1407411</td>\n",
       "      <td>30881</td>\n",
       "      <td>21.233333</td>\n",
       "      <td>Text</td>\n",
       "      <td>NNP PE\\n\\nResp: Comfortable effort, BS clear a...</td>\n",
       "      <td>noteevents</td>\n",
       "      <td>1.0</td>\n",
       "      <td>1.0</td>\n",
       "    </tr>\n",
       "    <tr>\n",
       "      <th>316733</th>\n",
       "      <td>1407422</td>\n",
       "      <td>29375</td>\n",
       "      <td>0.700000</td>\n",
       "      <td>Text</td>\n",
       "      <td>NICU Attending Admission Note\\nPt is a 34 [**6...</td>\n",
       "      <td>noteevents</td>\n",
       "      <td>1.0</td>\n",
       "      <td>1.0</td>\n",
       "    </tr>\n",
       "    <tr>\n",
       "      <th>316734</th>\n",
       "      <td>1407423</td>\n",
       "      <td>29375</td>\n",
       "      <td>2.766667</td>\n",
       "      <td>Text</td>\n",
       "      <td>Admission Note\\n\\n\\nBaby boy [**Known lastname...</td>\n",
       "      <td>noteevents</td>\n",
       "      <td>1.0</td>\n",
       "      <td>1.0</td>\n",
       "    </tr>\n",
       "  </tbody>\n",
       "</table>\n",
       "<p>316735 rows × 8 columns</p>\n",
       "</div>"
      ],
      "text/plain": [
       "          index  ts_ind       hour variable  \\\n",
       "0             8   53658   1.433333     Text   \n",
       "1             9   55730  17.083333     Text   \n",
       "2            11    4140  19.600000     Text   \n",
       "3            17   50150  12.716667     Text   \n",
       "4            25   30691  19.716667     Text   \n",
       "...         ...     ...        ...      ...   \n",
       "316730  1407409   30881   8.983333     Text   \n",
       "316731  1407410   30881  16.483333     Text   \n",
       "316732  1407411   30881  21.233333     Text   \n",
       "316733  1407422   29375   0.700000     Text   \n",
       "316734  1407423   29375   2.766667     Text   \n",
       "\n",
       "                                                    value       TABLE  mean  \\\n",
       "0       Admission Date:  [**2145-11-30**]             ...  noteevents   1.0   \n",
       "1       Admission Date:  [**2194-8-15**]              ...  noteevents   1.0   \n",
       "2       Admission Date: [**2193-5-30**]        Dischar...  noteevents   1.0   \n",
       "3       Admission Date:  [**2157-5-31**]              ...  noteevents   1.0   \n",
       "4       Admission Date:  [**2118-7-10**]              ...  noteevents   1.0   \n",
       "...                                                   ...         ...   ...   \n",
       "316730  NPN\\nplease see above note for delivery histor...  noteevents   1.0   \n",
       "316731  NPN 11p-7a\\n\\n\\n#1 Infant placed to RA @ shift...  noteevents   1.0   \n",
       "316732  NNP PE\\n\\nResp: Comfortable effort, BS clear a...  noteevents   1.0   \n",
       "316733  NICU Attending Admission Note\\nPt is a 34 [**6...  noteevents   1.0   \n",
       "316734  Admission Note\\n\\n\\nBaby boy [**Known lastname...  noteevents   1.0   \n",
       "\n",
       "        std  \n",
       "0       1.0  \n",
       "1       1.0  \n",
       "2       1.0  \n",
       "3       1.0  \n",
       "4       1.0  \n",
       "...     ...  \n",
       "316730  1.0  \n",
       "316731  1.0  \n",
       "316732  1.0  \n",
       "316733  1.0  \n",
       "316734  1.0  \n",
       "\n",
       "[316735 rows x 8 columns]"
      ]
     },
     "execution_count": 14,
     "metadata": {},
     "output_type": "execute_result"
    }
   ],
   "source": [
    "text_data_24 = text_data[text_data.hour <= 24].reset_index()\n",
    "text_data_24"
   ]
  },
  {
   "cell_type": "code",
   "execution_count": null,
   "id": "fa60024a-dac3-407a-9bb5-0d4728562631",
   "metadata": {},
   "outputs": [],
   "source": [
    "texts_24 = \" \".join(text for text in text_data_24.value)"
   ]
  },
  {
   "cell_type": "code",
   "execution_count": 25,
   "id": "a347062d-205b-45df-94ff-761372229ee8",
   "metadata": {
    "tags": []
   },
   "outputs": [
    {
     "data": {
      "image/png": "[encoded data removed]",
      "text/plain": [
       "<Figure size 800x800 with 1 Axes>"
      ]
     },
     "metadata": {},
     "output_type": "display_data"
    }
   ],
   "source": [
    "stopwords = set(STOPWORDS)\n",
    "stopwords.add('-')\n",
    "stopwords.add('Name')\n",
    "stopwords.add('lastname')\n",
    "stopwords.add('Last Name')\n",
    "stopwords.add('First Name')\n",
    "stopwords.add('patient')\n",
    "wordcloud = WordCloud(width = 800, height = 800,\n",
    "                background_color ='white',\n",
    "                stopwords = stopwords,\n",
    "                min_font_size = 10).generate(texts_24)\n",
    " \n",
    "# plot the WordCloud image                      \n",
    "plt.figure(figsize = (8, 8), facecolor = None)\n",
    "plt.imshow(wordcloud)\n",
    "plt.axis(\"off\")\n",
    "plt.tight_layout(pad = 0)\n",
    "# plt.savefig('hate_wordclouds.png')"
   ]
  },
  {
   "cell_type": "code",
   "execution_count": 26,
   "id": "f35209cf-64ca-47da-b3ca-e049d6a803e9",
   "metadata": {
    "tags": []
   },
   "outputs": [
    {
     "data": {
      "text/html": [
       "<div>\n",
       "<style scoped>\n",
       "    .dataframe tbody tr th:only-of-type {\n",
       "        vertical-align: middle;\n",
       "    }\n",
       "\n",
       "    .dataframe tbody tr th {\n",
       "        vertical-align: top;\n",
       "    }\n",
       "\n",
       "    .dataframe thead th {\n",
       "        text-align: right;\n",
       "    }\n",
       "</style>\n",
       "<table border=\"1\" class=\"dataframe\">\n",
       "  <thead>\n",
       "    <tr style=\"text-align: right;\">\n",
       "      <th></th>\n",
       "      <th>index</th>\n",
       "      <th>ts_ind</th>\n",
       "      <th>hour</th>\n",
       "      <th>variable</th>\n",
       "      <th>value</th>\n",
       "      <th>TABLE</th>\n",
       "      <th>mean</th>\n",
       "      <th>std</th>\n",
       "    </tr>\n",
       "  </thead>\n",
       "  <tbody>\n",
       "    <tr>\n",
       "      <th>11</th>\n",
       "      <td>55</td>\n",
       "      <td>46328</td>\n",
       "      <td>1.866667</td>\n",
       "      <td>Text</td>\n",
       "      <td>Admission Date:  [**2136-5-25**]              ...</td>\n",
       "      <td>noteevents</td>\n",
       "      <td>1.0</td>\n",
       "      <td>1.0</td>\n",
       "    </tr>\n",
       "    <tr>\n",
       "      <th>13</th>\n",
       "      <td>60</td>\n",
       "      <td>48934</td>\n",
       "      <td>5.466667</td>\n",
       "      <td>Text</td>\n",
       "      <td>Admission Date:  [**2120-11-15**]             ...</td>\n",
       "      <td>noteevents</td>\n",
       "      <td>1.0</td>\n",
       "      <td>1.0</td>\n",
       "    </tr>\n",
       "    <tr>\n",
       "      <th>17</th>\n",
       "      <td>66</td>\n",
       "      <td>46792</td>\n",
       "      <td>4.866667</td>\n",
       "      <td>Text</td>\n",
       "      <td>Admission Date:  [**2164-6-24**]              ...</td>\n",
       "      <td>noteevents</td>\n",
       "      <td>1.0</td>\n",
       "      <td>1.0</td>\n",
       "    </tr>\n",
       "    <tr>\n",
       "      <th>23</th>\n",
       "      <td>103</td>\n",
       "      <td>52260</td>\n",
       "      <td>4.983333</td>\n",
       "      <td>Text</td>\n",
       "      <td>Admission Date:  [**2123-8-15**]              ...</td>\n",
       "      <td>noteevents</td>\n",
       "      <td>1.0</td>\n",
       "      <td>1.0</td>\n",
       "    </tr>\n",
       "    <tr>\n",
       "      <th>24</th>\n",
       "      <td>107</td>\n",
       "      <td>55319</td>\n",
       "      <td>9.333333</td>\n",
       "      <td>Text</td>\n",
       "      <td>Admission Date:  [**2130-10-23**]             ...</td>\n",
       "      <td>noteevents</td>\n",
       "      <td>1.0</td>\n",
       "      <td>1.0</td>\n",
       "    </tr>\n",
       "    <tr>\n",
       "      <th>...</th>\n",
       "      <td>...</td>\n",
       "      <td>...</td>\n",
       "      <td>...</td>\n",
       "      <td>...</td>\n",
       "      <td>...</td>\n",
       "      <td>...</td>\n",
       "      <td>...</td>\n",
       "      <td>...</td>\n",
       "    </tr>\n",
       "    <tr>\n",
       "      <th>314622</th>\n",
       "      <td>1390589</td>\n",
       "      <td>31741</td>\n",
       "      <td>17.350000</td>\n",
       "      <td>Text</td>\n",
       "      <td>Chief Complaint:\\n   24 Hour Events:\\n   2 uni...</td>\n",
       "      <td>noteevents</td>\n",
       "      <td>1.0</td>\n",
       "      <td>1.0</td>\n",
       "    </tr>\n",
       "    <tr>\n",
       "      <th>314629</th>\n",
       "      <td>1390627</td>\n",
       "      <td>29252</td>\n",
       "      <td>15.883333</td>\n",
       "      <td>Text</td>\n",
       "      <td>Chief Complaint:\\n   24 Hour Events:\\n   Dopa ...</td>\n",
       "      <td>noteevents</td>\n",
       "      <td>1.0</td>\n",
       "      <td>1.0</td>\n",
       "    </tr>\n",
       "    <tr>\n",
       "      <th>314670</th>\n",
       "      <td>1390834</td>\n",
       "      <td>34681</td>\n",
       "      <td>5.766667</td>\n",
       "      <td>Text</td>\n",
       "      <td>Subjective\\n   Pt intubated\\n   Objective\\n   ...</td>\n",
       "      <td>noteevents</td>\n",
       "      <td>1.0</td>\n",
       "      <td>1.0</td>\n",
       "    </tr>\n",
       "    <tr>\n",
       "      <th>314687</th>\n",
       "      <td>1390924</td>\n",
       "      <td>26449</td>\n",
       "      <td>21.116667</td>\n",
       "      <td>Text</td>\n",
       "      <td>TITLE:\\n   Chief Complaint: cough, malaise, hy...</td>\n",
       "      <td>noteevents</td>\n",
       "      <td>1.0</td>\n",
       "      <td>1.0</td>\n",
       "    </tr>\n",
       "    <tr>\n",
       "      <th>314726</th>\n",
       "      <td>1391058</td>\n",
       "      <td>36491</td>\n",
       "      <td>9.983333</td>\n",
       "      <td>Text</td>\n",
       "      <td>Chief Complaint:\\n   24 Hour Events:\\n INVASIV...</td>\n",
       "      <td>noteevents</td>\n",
       "      <td>1.0</td>\n",
       "      <td>1.0</td>\n",
       "    </tr>\n",
       "  </tbody>\n",
       "</table>\n",
       "<p>35442 rows × 8 columns</p>\n",
       "</div>"
      ],
      "text/plain": [
       "          index  ts_ind       hour variable  \\\n",
       "11           55   46328   1.866667     Text   \n",
       "13           60   48934   5.466667     Text   \n",
       "17           66   46792   4.866667     Text   \n",
       "23          103   52260   4.983333     Text   \n",
       "24          107   55319   9.333333     Text   \n",
       "...         ...     ...        ...      ...   \n",
       "314622  1390589   31741  17.350000     Text   \n",
       "314629  1390627   29252  15.883333     Text   \n",
       "314670  1390834   34681   5.766667     Text   \n",
       "314687  1390924   26449  21.116667     Text   \n",
       "314726  1391058   36491   9.983333     Text   \n",
       "\n",
       "                                                    value       TABLE  mean  \\\n",
       "11      Admission Date:  [**2136-5-25**]              ...  noteevents   1.0   \n",
       "13      Admission Date:  [**2120-11-15**]             ...  noteevents   1.0   \n",
       "17      Admission Date:  [**2164-6-24**]              ...  noteevents   1.0   \n",
       "23      Admission Date:  [**2123-8-15**]              ...  noteevents   1.0   \n",
       "24      Admission Date:  [**2130-10-23**]             ...  noteevents   1.0   \n",
       "...                                                   ...         ...   ...   \n",
       "314622  Chief Complaint:\\n   24 Hour Events:\\n   2 uni...  noteevents   1.0   \n",
       "314629  Chief Complaint:\\n   24 Hour Events:\\n   Dopa ...  noteevents   1.0   \n",
       "314670  Subjective\\n   Pt intubated\\n   Objective\\n   ...  noteevents   1.0   \n",
       "314687  TITLE:\\n   Chief Complaint: cough, malaise, hy...  noteevents   1.0   \n",
       "314726  Chief Complaint:\\n   24 Hour Events:\\n INVASIV...  noteevents   1.0   \n",
       "\n",
       "        std  \n",
       "11      1.0  \n",
       "13      1.0  \n",
       "17      1.0  \n",
       "23      1.0  \n",
       "24      1.0  \n",
       "...     ...  \n",
       "314622  1.0  \n",
       "314629  1.0  \n",
       "314670  1.0  \n",
       "314687  1.0  \n",
       "314726  1.0  \n",
       "\n",
       "[35442 rows x 8 columns]"
      ]
     },
     "execution_count": 26,
     "metadata": {},
     "output_type": "execute_result"
    }
   ],
   "source": [
    "text_data_24[text_data_24['ts_ind'].isin(pos_inds)]"
   ]
  },
  {
   "cell_type": "code",
   "execution_count": 27,
   "id": "26d6927f-a0c4-4ba1-a431-7200b7a5fbad",
   "metadata": {
    "tags": []
   },
   "outputs": [
    {
     "data": {
      "text/html": [
       "<div>\n",
       "<style scoped>\n",
       "    .dataframe tbody tr th:only-of-type {\n",
       "        vertical-align: middle;\n",
       "    }\n",
       "\n",
       "    .dataframe tbody tr th {\n",
       "        vertical-align: top;\n",
       "    }\n",
       "\n",
       "    .dataframe thead th {\n",
       "        text-align: right;\n",
       "    }\n",
       "</style>\n",
       "<table border=\"1\" class=\"dataframe\">\n",
       "  <thead>\n",
       "    <tr style=\"text-align: right;\">\n",
       "      <th></th>\n",
       "      <th>index</th>\n",
       "      <th>ts_ind</th>\n",
       "      <th>hour</th>\n",
       "      <th>variable</th>\n",
       "      <th>value</th>\n",
       "      <th>TABLE</th>\n",
       "      <th>mean</th>\n",
       "      <th>std</th>\n",
       "    </tr>\n",
       "  </thead>\n",
       "  <tbody>\n",
       "    <tr>\n",
       "      <th>0</th>\n",
       "      <td>8</td>\n",
       "      <td>53658</td>\n",
       "      <td>1.433333</td>\n",
       "      <td>Text</td>\n",
       "      <td>Admission Date:  [**2145-11-30**]             ...</td>\n",
       "      <td>noteevents</td>\n",
       "      <td>1.0</td>\n",
       "      <td>1.0</td>\n",
       "    </tr>\n",
       "    <tr>\n",
       "      <th>1</th>\n",
       "      <td>9</td>\n",
       "      <td>55730</td>\n",
       "      <td>17.083333</td>\n",
       "      <td>Text</td>\n",
       "      <td>Admission Date:  [**2194-8-15**]              ...</td>\n",
       "      <td>noteevents</td>\n",
       "      <td>1.0</td>\n",
       "      <td>1.0</td>\n",
       "    </tr>\n",
       "    <tr>\n",
       "      <th>2</th>\n",
       "      <td>11</td>\n",
       "      <td>4140</td>\n",
       "      <td>19.600000</td>\n",
       "      <td>Text</td>\n",
       "      <td>Admission Date: [**2193-5-30**]        Dischar...</td>\n",
       "      <td>noteevents</td>\n",
       "      <td>1.0</td>\n",
       "      <td>1.0</td>\n",
       "    </tr>\n",
       "    <tr>\n",
       "      <th>3</th>\n",
       "      <td>17</td>\n",
       "      <td>50150</td>\n",
       "      <td>12.716667</td>\n",
       "      <td>Text</td>\n",
       "      <td>Admission Date:  [**2157-5-31**]              ...</td>\n",
       "      <td>noteevents</td>\n",
       "      <td>1.0</td>\n",
       "      <td>1.0</td>\n",
       "    </tr>\n",
       "    <tr>\n",
       "      <th>4</th>\n",
       "      <td>25</td>\n",
       "      <td>30691</td>\n",
       "      <td>19.716667</td>\n",
       "      <td>Text</td>\n",
       "      <td>Admission Date:  [**2118-7-10**]              ...</td>\n",
       "      <td>noteevents</td>\n",
       "      <td>1.0</td>\n",
       "      <td>1.0</td>\n",
       "    </tr>\n",
       "    <tr>\n",
       "      <th>...</th>\n",
       "      <td>...</td>\n",
       "      <td>...</td>\n",
       "      <td>...</td>\n",
       "      <td>...</td>\n",
       "      <td>...</td>\n",
       "      <td>...</td>\n",
       "      <td>...</td>\n",
       "      <td>...</td>\n",
       "    </tr>\n",
       "    <tr>\n",
       "      <th>316730</th>\n",
       "      <td>1407409</td>\n",
       "      <td>30881</td>\n",
       "      <td>8.983333</td>\n",
       "      <td>Text</td>\n",
       "      <td>NPN\\nplease see above note for delivery histor...</td>\n",
       "      <td>noteevents</td>\n",
       "      <td>1.0</td>\n",
       "      <td>1.0</td>\n",
       "    </tr>\n",
       "    <tr>\n",
       "      <th>316731</th>\n",
       "      <td>1407410</td>\n",
       "      <td>30881</td>\n",
       "      <td>16.483333</td>\n",
       "      <td>Text</td>\n",
       "      <td>NPN 11p-7a\\n\\n\\n#1 Infant placed to RA @ shift...</td>\n",
       "      <td>noteevents</td>\n",
       "      <td>1.0</td>\n",
       "      <td>1.0</td>\n",
       "    </tr>\n",
       "    <tr>\n",
       "      <th>316732</th>\n",
       "      <td>1407411</td>\n",
       "      <td>30881</td>\n",
       "      <td>21.233333</td>\n",
       "      <td>Text</td>\n",
       "      <td>NNP PE\\n\\nResp: Comfortable effort, BS clear a...</td>\n",
       "      <td>noteevents</td>\n",
       "      <td>1.0</td>\n",
       "      <td>1.0</td>\n",
       "    </tr>\n",
       "    <tr>\n",
       "      <th>316733</th>\n",
       "      <td>1407422</td>\n",
       "      <td>29375</td>\n",
       "      <td>0.700000</td>\n",
       "      <td>Text</td>\n",
       "      <td>NICU Attending Admission Note\\nPt is a 34 [**6...</td>\n",
       "      <td>noteevents</td>\n",
       "      <td>1.0</td>\n",
       "      <td>1.0</td>\n",
       "    </tr>\n",
       "    <tr>\n",
       "      <th>316734</th>\n",
       "      <td>1407423</td>\n",
       "      <td>29375</td>\n",
       "      <td>2.766667</td>\n",
       "      <td>Text</td>\n",
       "      <td>Admission Note\\n\\n\\nBaby boy [**Known lastname...</td>\n",
       "      <td>noteevents</td>\n",
       "      <td>1.0</td>\n",
       "      <td>1.0</td>\n",
       "    </tr>\n",
       "  </tbody>\n",
       "</table>\n",
       "<p>281293 rows × 8 columns</p>\n",
       "</div>"
      ],
      "text/plain": [
       "          index  ts_ind       hour variable  \\\n",
       "0             8   53658   1.433333     Text   \n",
       "1             9   55730  17.083333     Text   \n",
       "2            11    4140  19.600000     Text   \n",
       "3            17   50150  12.716667     Text   \n",
       "4            25   30691  19.716667     Text   \n",
       "...         ...     ...        ...      ...   \n",
       "316730  1407409   30881   8.983333     Text   \n",
       "316731  1407410   30881  16.483333     Text   \n",
       "316732  1407411   30881  21.233333     Text   \n",
       "316733  1407422   29375   0.700000     Text   \n",
       "316734  1407423   29375   2.766667     Text   \n",
       "\n",
       "                                                    value       TABLE  mean  \\\n",
       "0       Admission Date:  [**2145-11-30**]             ...  noteevents   1.0   \n",
       "1       Admission Date:  [**2194-8-15**]              ...  noteevents   1.0   \n",
       "2       Admission Date: [**2193-5-30**]        Dischar...  noteevents   1.0   \n",
       "3       Admission Date:  [**2157-5-31**]              ...  noteevents   1.0   \n",
       "4       Admission Date:  [**2118-7-10**]              ...  noteevents   1.0   \n",
       "...                                                   ...         ...   ...   \n",
       "316730  NPN\\nplease see above note for delivery histor...  noteevents   1.0   \n",
       "316731  NPN 11p-7a\\n\\n\\n#1 Infant placed to RA @ shift...  noteevents   1.0   \n",
       "316732  NNP PE\\n\\nResp: Comfortable effort, BS clear a...  noteevents   1.0   \n",
       "316733  NICU Attending Admission Note\\nPt is a 34 [**6...  noteevents   1.0   \n",
       "316734  Admission Note\\n\\n\\nBaby boy [**Known lastname...  noteevents   1.0   \n",
       "\n",
       "        std  \n",
       "0       1.0  \n",
       "1       1.0  \n",
       "2       1.0  \n",
       "3       1.0  \n",
       "4       1.0  \n",
       "...     ...  \n",
       "316730  1.0  \n",
       "316731  1.0  \n",
       "316732  1.0  \n",
       "316733  1.0  \n",
       "316734  1.0  \n",
       "\n",
       "[281293 rows x 8 columns]"
      ]
     },
     "execution_count": 27,
     "metadata": {},
     "output_type": "execute_result"
    }
   ],
   "source": [
    "text_data_24[~text_data_24['ts_ind'].isin(pos_inds)]"
   ]
  },
  {
   "cell_type": "code",
   "execution_count": 28,
   "id": "d81b58ee-2b62-48e4-af26-169108e2358d",
   "metadata": {
    "tags": []
   },
   "outputs": [
    {
     "data": {
      "text/plain": [
       "316735"
      ]
     },
     "execution_count": 28,
     "metadata": {},
     "output_type": "execute_result"
    }
   ],
   "source": [
    "281293 + 35442"
   ]
  },
  {
   "cell_type": "markdown",
   "id": "093409cd-1cdb-414d-a9a2-c6371977f076",
   "metadata": {},
   "source": [
    "## 120-h"
   ]
  },
  {
   "cell_type": "code",
   "execution_count": 7,
   "id": "4895614e-166f-400e-8780-d3dc09fd0a26",
   "metadata": {},
   "outputs": [
    {
     "data": {
      "text/plain": [
       "36551"
      ]
     },
     "execution_count": 7,
     "metadata": {},
     "output_type": "execute_result"
    }
   ],
   "source": [
    "len(train_ind)"
   ]
  },
  {
   "cell_type": "code",
   "execution_count": 8,
   "id": "f6f54c7b-46aa-42e2-9209-ee67b3abbbeb",
   "metadata": {
    "tags": []
   },
   "outputs": [
    {
     "data": {
      "text/plain": [
       "36551"
      ]
     },
     "execution_count": 8,
     "metadata": {},
     "output_type": "execute_result"
    }
   ],
   "source": [
    "len(set(train_ind))"
   ]
  },
  {
   "cell_type": "code",
   "execution_count": 14,
   "id": "8773b5a3-6334-4d12-9206-b86a6649ac2d",
   "metadata": {
    "tags": []
   },
   "outputs": [
    {
     "data": {
      "text/plain": [
       "9262"
      ]
     },
     "execution_count": 14,
     "metadata": {},
     "output_type": "execute_result"
    }
   ],
   "source": [
    "len(set(valid_ind))"
   ]
  },
  {
   "cell_type": "code",
   "execution_count": 15,
   "id": "623f95f9-7309-45ab-aab7-b1512e2d7f27",
   "metadata": {
    "tags": []
   },
   "outputs": [
    {
     "data": {
      "text/plain": [
       "11469"
      ]
     },
     "execution_count": 15,
     "metadata": {},
     "output_type": "execute_result"
    }
   ],
   "source": [
    "len(set(test_ind))"
   ]
  },
  {
   "cell_type": "code",
   "execution_count": 16,
   "id": "1e2aeb05-4c7b-4b66-b3ad-0778d862f63f",
   "metadata": {
    "tags": []
   },
   "outputs": [
    {
     "data": {
      "text/plain": [
       "57282"
      ]
     },
     "execution_count": 16,
     "metadata": {},
     "output_type": "execute_result"
    }
   ],
   "source": [
    "36551+9262+11469"
   ]
  },
  {
   "cell_type": "code",
   "execution_count": 12,
   "id": "6c42f659-9192-42ac-b92b-83116c196fe8",
   "metadata": {
    "tags": []
   },
   "outputs": [
    {
     "data": {
      "text/plain": [
       "57282"
      ]
     },
     "execution_count": 12,
     "metadata": {},
     "output_type": "execute_result"
    }
   ],
   "source": [
    "len(set(data['ts_ind'].to_list()))"
   ]
  },
  {
   "cell_type": "code",
   "execution_count": 13,
   "id": "fad508c0-8d65-49d7-9f90-e6401d9d64ea",
   "metadata": {
    "tags": []
   },
   "outputs": [
    {
     "data": {
      "text/plain": [
       "57282"
      ]
     },
     "execution_count": 13,
     "metadata": {},
     "output_type": "execute_result"
    }
   ],
   "source": [
    "len(set(oc['ts_ind'].to_list()))"
   ]
  },
  {
   "cell_type": "code",
   "execution_count": 6,
   "id": "ea44ff89-ce55-4341-ae2d-f7d42e6f6ffd",
   "metadata": {
    "tags": []
   },
   "outputs": [
    {
     "data": {
      "text/html": [
       "<div>\n",
       "<style scoped>\n",
       "    .dataframe tbody tr th:only-of-type {\n",
       "        vertical-align: middle;\n",
       "    }\n",
       "\n",
       "    .dataframe tbody tr th {\n",
       "        vertical-align: top;\n",
       "    }\n",
       "\n",
       "    .dataframe thead th {\n",
       "        text-align: right;\n",
       "    }\n",
       "</style>\n",
       "<table border=\"1\" class=\"dataframe\">\n",
       "  <thead>\n",
       "    <tr style=\"text-align: right;\">\n",
       "      <th></th>\n",
       "      <th>ts_ind</th>\n",
       "      <th>HADM_ID</th>\n",
       "      <th>SUBJECT_ID</th>\n",
       "      <th>in_hospital_sepsis</th>\n",
       "    </tr>\n",
       "  </thead>\n",
       "  <tbody>\n",
       "    <tr>\n",
       "      <th>0</th>\n",
       "      <td>0</td>\n",
       "      <td>110404</td>\n",
       "      <td>268</td>\n",
       "      <td>1</td>\n",
       "    </tr>\n",
       "    <tr>\n",
       "      <th>1</th>\n",
       "      <td>1</td>\n",
       "      <td>188028</td>\n",
       "      <td>270</td>\n",
       "      <td>0</td>\n",
       "    </tr>\n",
       "    <tr>\n",
       "      <th>2</th>\n",
       "      <td>2</td>\n",
       "      <td>173727</td>\n",
       "      <td>271</td>\n",
       "      <td>0</td>\n",
       "    </tr>\n",
       "    <tr>\n",
       "      <th>3</th>\n",
       "      <td>3</td>\n",
       "      <td>164716</td>\n",
       "      <td>272</td>\n",
       "      <td>0</td>\n",
       "    </tr>\n",
       "    <tr>\n",
       "      <th>4</th>\n",
       "      <td>4</td>\n",
       "      <td>158689</td>\n",
       "      <td>273</td>\n",
       "      <td>0</td>\n",
       "    </tr>\n",
       "    <tr>\n",
       "      <th>...</th>\n",
       "      <td>...</td>\n",
       "      <td>...</td>\n",
       "      <td>...</td>\n",
       "      <td>...</td>\n",
       "    </tr>\n",
       "    <tr>\n",
       "      <th>57376</th>\n",
       "      <td>45558</td>\n",
       "      <td>143774</td>\n",
       "      <td>94944</td>\n",
       "      <td>0</td>\n",
       "    </tr>\n",
       "    <tr>\n",
       "      <th>57377</th>\n",
       "      <td>45559</td>\n",
       "      <td>123750</td>\n",
       "      <td>94950</td>\n",
       "      <td>0</td>\n",
       "    </tr>\n",
       "    <tr>\n",
       "      <th>57378</th>\n",
       "      <td>50487</td>\n",
       "      <td>196881</td>\n",
       "      <td>94953</td>\n",
       "      <td>0</td>\n",
       "    </tr>\n",
       "    <tr>\n",
       "      <th>57379</th>\n",
       "      <td>45560</td>\n",
       "      <td>118475</td>\n",
       "      <td>94954</td>\n",
       "      <td>0</td>\n",
       "    </tr>\n",
       "    <tr>\n",
       "      <th>57380</th>\n",
       "      <td>45561</td>\n",
       "      <td>156386</td>\n",
       "      <td>94956</td>\n",
       "      <td>0</td>\n",
       "    </tr>\n",
       "  </tbody>\n",
       "</table>\n",
       "<p>57282 rows × 4 columns</p>\n",
       "</div>"
      ],
      "text/plain": [
       "       ts_ind  HADM_ID  SUBJECT_ID  in_hospital_sepsis\n",
       "0           0   110404         268                   1\n",
       "1           1   188028         270                   0\n",
       "2           2   173727         271                   0\n",
       "3           3   164716         272                   0\n",
       "4           4   158689         273                   0\n",
       "...       ...      ...         ...                 ...\n",
       "57376   45558   143774       94944                   0\n",
       "57377   45559   123750       94950                   0\n",
       "57378   50487   196881       94953                   0\n",
       "57379   45560   118475       94954                   0\n",
       "57380   45561   156386       94956                   0\n",
       "\n",
       "[57282 rows x 4 columns]"
      ]
     },
     "execution_count": 6,
     "metadata": {},
     "output_type": "execute_result"
    }
   ],
   "source": [
    "oc"
   ]
  },
  {
   "cell_type": "code",
   "execution_count": 17,
   "id": "f0ee5a53-a3bc-4b37-84ff-47da2c97b972",
   "metadata": {
    "tags": []
   },
   "outputs": [],
   "source": [
    "data_inds = data['ts_ind'].to_list()\n",
    "oc_inds = oc['ts_ind'].to_list()"
   ]
  },
  {
   "cell_type": "code",
   "execution_count": 18,
   "id": "139d102d-2d22-465e-9305-8e5df1fc328f",
   "metadata": {
    "tags": []
   },
   "outputs": [
    {
     "data": {
      "text/plain": [
       "True"
      ]
     },
     "execution_count": 18,
     "metadata": {},
     "output_type": "execute_result"
    }
   ],
   "source": [
    "set(data_inds) == set(oc_inds)"
   ]
  },
  {
   "cell_type": "code",
   "execution_count": 25,
   "id": "4f954825-852b-4da0-a37e-5f3a250e1a58",
   "metadata": {
    "tags": []
   },
   "outputs": [
    {
     "data": {
      "text/plain": [
       "True"
      ]
     },
     "execution_count": 25,
     "metadata": {},
     "output_type": "execute_result"
    }
   ],
   "source": [
    "set(train_ind) <= set(oc_inds)"
   ]
  },
  {
   "cell_type": "code",
   "execution_count": 26,
   "id": "a41ce3c9-9038-43d6-b321-a2d98c2b2359",
   "metadata": {
    "tags": []
   },
   "outputs": [
    {
     "data": {
      "text/plain": [
       "True"
      ]
     },
     "execution_count": 26,
     "metadata": {},
     "output_type": "execute_result"
    }
   ],
   "source": [
    "set(valid_ind) <= set(oc_inds)"
   ]
  },
  {
   "cell_type": "code",
   "execution_count": 27,
   "id": "0954eb5e-39a2-48e8-8b6b-2034daf42250",
   "metadata": {
    "tags": []
   },
   "outputs": [
    {
     "data": {
      "text/plain": [
       "True"
      ]
     },
     "execution_count": 27,
     "metadata": {},
     "output_type": "execute_result"
    }
   ],
   "source": [
    "set(test_ind) <= set(oc_inds)"
   ]
  },
  {
   "cell_type": "code",
   "execution_count": 29,
   "id": "5e739632-7821-4d32-912f-5123b3495d51",
   "metadata": {
    "tags": []
   },
   "outputs": [
    {
     "data": {
      "text/plain": [
       "True"
      ]
     },
     "execution_count": 29,
     "metadata": {},
     "output_type": "execute_result"
    }
   ],
   "source": [
    "set(train_ind) | set(valid_ind) | set(test_ind) == set(oc_inds)"
   ]
  },
  {
   "cell_type": "code",
   "execution_count": 30,
   "id": "5c72d432-bea1-4ec3-99ba-2bfb64731131",
   "metadata": {
    "tags": []
   },
   "outputs": [
    {
     "data": {
      "text/plain": [
       "set()"
      ]
     },
     "execution_count": 30,
     "metadata": {},
     "output_type": "execute_result"
    }
   ],
   "source": [
    "set.intersection(set(train_ind), set(valid_ind), set(test_ind))"
   ]
  },
  {
   "cell_type": "code",
   "execution_count": 31,
   "id": "1cc1979c-bd0e-41c4-a9b4-be81305d6da1",
   "metadata": {
    "tags": []
   },
   "outputs": [
    {
     "data": {
      "text/plain": [
       "set()"
      ]
     },
     "execution_count": 31,
     "metadata": {},
     "output_type": "execute_result"
    }
   ],
   "source": [
    "set.intersection(set(train_ind), set(valid_ind))"
   ]
  },
  {
   "cell_type": "code",
   "execution_count": 32,
   "id": "e3130792-ea28-4661-a49e-5a204c3a69c1",
   "metadata": {
    "tags": []
   },
   "outputs": [
    {
     "data": {
      "text/plain": [
       "set()"
      ]
     },
     "execution_count": 32,
     "metadata": {},
     "output_type": "execute_result"
    }
   ],
   "source": [
    "set.intersection(set(valid_ind), set(test_ind))"
   ]
  },
  {
   "cell_type": "code",
   "execution_count": 33,
   "id": "aed92958-8d6b-4ab6-991d-e353c727ae76",
   "metadata": {
    "tags": []
   },
   "outputs": [
    {
     "data": {
      "text/plain": [
       "set()"
      ]
     },
     "execution_count": 33,
     "metadata": {},
     "output_type": "execute_result"
    }
   ],
   "source": [
    "set.intersection(set(train_ind), set(test_ind))"
   ]
  },
  {
   "cell_type": "markdown",
   "id": "3d9bc32d-0da7-47da-bb41-da25646e1e6b",
   "metadata": {},
   "source": [
    "## POS"
   ]
  },
  {
   "cell_type": "code",
   "execution_count": 38,
   "id": "8c969553-2122-425e-adc9-9a6423e77b07",
   "metadata": {
    "tags": []
   },
   "outputs": [
    {
     "name": "stdout",
     "output_type": "stream",
     "text": [
      "Defaulting to user installation because normal site-packages is not writeable\n",
      "Collecting wordcloud\n",
      "  Downloading wordcloud-1.9.3-cp39-cp39-manylinux_2_17_x86_64.manylinux2014_x86_64.whl (513 kB)\n",
      "\u001b[2K     \u001b[90m━━━━━━━━━━━━━━━━━━━━━━━━━━━━━━━━━━━━━━\u001b[0m \u001b[32m513.6/513.6 kB\u001b[0m \u001b[31m21.7 MB/s\u001b[0m eta \u001b[36m0:00:00\u001b[0m\n",
      "\u001b[?25hRequirement already satisfied: numpy>=1.6.1 in /pfs/data5/home/hd/hd_hd/hd_nf283/.local/lib/python3.9/site-packages (from wordcloud) (1.24.2)\n",
      "Requirement already satisfied: pillow in /pfs/data5/home/hd/hd_hd/hd_nf283/.local/lib/python3.9/site-packages (from wordcloud) (9.5.0)\n",
      "Requirement already satisfied: matplotlib in /pfs/data5/software_uc2/bwhpc/common/jupyter/tensorflow/2023-03-24/lib/python3.9/site-packages (from wordcloud) (3.7.1)\n",
      "Requirement already satisfied: pyparsing>=2.3.1 in /pfs/data5/software_uc2/bwhpc/common/jupyter/tensorflow/2023-03-24/lib/python3.9/site-packages (from matplotlib->wordcloud) (3.0.9)\n",
      "Requirement already satisfied: packaging>=20.0 in /pfs/data5/home/hd/hd_hd/hd_nf283/.local/lib/python3.9/site-packages (from matplotlib->wordcloud) (23.1)\n",
      "Requirement already satisfied: contourpy>=1.0.1 in /pfs/data5/software_uc2/bwhpc/common/jupyter/tensorflow/2023-03-24/lib/python3.9/site-packages (from matplotlib->wordcloud) (1.0.7)\n",
      "Requirement already satisfied: cycler>=0.10 in /pfs/data5/software_uc2/bwhpc/common/jupyter/tensorflow/2023-03-24/lib/python3.9/site-packages (from matplotlib->wordcloud) (0.11.0)\n",
      "Requirement already satisfied: fonttools>=4.22.0 in /pfs/data5/software_uc2/bwhpc/common/jupyter/tensorflow/2023-03-24/lib/python3.9/site-packages (from matplotlib->wordcloud) (4.39.2)\n",
      "Requirement already satisfied: importlib-resources>=3.2.0 in /pfs/data5/software_uc2/bwhpc/common/jupyter/tensorflow/2023-03-24/lib/python3.9/site-packages (from matplotlib->wordcloud) (5.12.0)\n",
      "Requirement already satisfied: kiwisolver>=1.0.1 in /pfs/data5/software_uc2/bwhpc/common/jupyter/tensorflow/2023-03-24/lib/python3.9/site-packages (from matplotlib->wordcloud) (1.4.4)\n",
      "Requirement already satisfied: python-dateutil>=2.7 in /pfs/data5/home/hd/hd_hd/hd_nf283/.local/lib/python3.9/site-packages (from matplotlib->wordcloud) (2.8.2)\n",
      "Requirement already satisfied: zipp>=3.1.0 in /pfs/data5/home/hd/hd_hd/hd_nf283/.local/lib/python3.9/site-packages (from importlib-resources>=3.2.0->matplotlib->wordcloud) (3.15.0)\n",
      "Requirement already satisfied: six>=1.5 in /pfs/data5/home/hd/hd_hd/hd_nf283/.local/lib/python3.9/site-packages (from python-dateutil>=2.7->matplotlib->wordcloud) (1.16.0)\n",
      "Installing collected packages: wordcloud\n",
      "\u001b[33m  WARNING: The script wordcloud_cli is installed in '/home/hd/hd_hd/hd_nf283/.local/bin' which is not on PATH.\n",
      "  Consider adding this directory to PATH or, if you prefer to suppress this warning, use --no-warn-script-location.\u001b[0m\u001b[33m\n",
      "\u001b[0mSuccessfully installed wordcloud-1.9.3\n",
      "\n",
      "\u001b[1m[\u001b[0m\u001b[34;49mnotice\u001b[0m\u001b[1;39;49m]\u001b[0m\u001b[39;49m A new release of pip is available: \u001b[0m\u001b[31;49m23.0.1\u001b[0m\u001b[39;49m -> \u001b[0m\u001b[32;49m24.0\u001b[0m\n",
      "\u001b[1m[\u001b[0m\u001b[34;49mnotice\u001b[0m\u001b[1;39;49m]\u001b[0m\u001b[39;49m To update, run: \u001b[0m\u001b[32;49mpip install --upgrade pip\u001b[0m\n"
     ]
    }
   ],
   "source": [
    "! pip install wordcloud"
   ]
  },
  {
   "cell_type": "code",
   "execution_count": 40,
   "id": "43690a63-6291-4f2c-9e4a-b2c7bbde1424",
   "metadata": {
    "tags": []
   },
   "outputs": [],
   "source": [
    "from wordcloud import WordCloud, STOPWORDS\n",
    "import matplotlib.pyplot as plt\n",
    "import pandas as pd"
   ]
  },
  {
   "cell_type": "code",
   "execution_count": 48,
   "id": "f4af9651-7ada-4036-8860-d7c56f932e33",
   "metadata": {
    "tags": []
   },
   "outputs": [],
   "source": [
    "all_text = \" \".join(text for text in data.value[:100000])"
   ]
  },
  {
   "cell_type": "code",
   "execution_count": 44,
   "id": "da20f868-10de-4f34-9db4-162ad85dd51f",
   "metadata": {
    "tags": []
   },
   "outputs": [],
   "source": [
    "# all_text"
   ]
  },
  {
   "cell_type": "code",
   "execution_count": null,
   "id": "ee334b20-1441-4196-b4b0-7607873e1af9",
   "metadata": {
    "tags": []
   },
   "outputs": [],
   "source": [
    "stopwords = set(STOPWORDS)\n",
    "# stopwords.add('Last')\n",
    "stopwords.add('Last Name')\n",
    "stopwords.add('First Name')\n",
    "stopwords.add('patient')\n",
    "wordcloud = WordCloud(width = 800, height = 800,\n",
    "                background_color ='white',\n",
    "                stopwords = stopwords,\n",
    "                min_font_size = 10).generate(all_text)\n",
    " \n",
    "# plot the WordCloud image                      \n",
    "plt.figure(figsize = (8, 8), facecolor = None)\n",
    "plt.imshow(wordcloud)\n",
    "plt.axis(\"off\")\n",
    "plt.tight_layout(pad = 0)\n",
    "# plt.savefig('hate_wordclouds.png')"
   ]
  },
  {
   "cell_type": "code",
   "execution_count": null,
   "id": "c518f7cf-5788-4719-8f47-5c0b488dc387",
   "metadata": {},
   "outputs": [],
   "source": [
    "# words = ''\n",
    "# stopwords = set(STOPWORDS)\n",
    "# stopwords.add('https')\n",
    "# stopwords.add('co')\n",
    "# stopwords.add('amp')\n",
    "\n",
    "# pos_tweets = df[df['OR_hate']==1].tweet\n",
    "\n",
    "# # iterate through the csv file\n",
    "# for pos_tweet in pos_tweets:\n",
    "     \n",
    "#     # typecaste each val to string\n",
    "#     pos_tweet = str(pos_tweet)\n",
    "\n",
    "#     # preprocess\n",
    "#     pos_tweets = preprocess_tweet(pos_tweet, lang='en')\n",
    "\n",
    "#     # split the value\n",
    "#     tokens = pos_tweet.split()\n",
    "     \n",
    "#     # Converts each token into lowercase\n",
    "#     for i in range(len(tokens)):\n",
    "#         tokens[i] = tokens[i].lower()\n",
    "     \n",
    "#     words += \" \".join(tokens)+\" \"\n",
    " \n",
    "# wordcloud = WordCloud(width = 800, height = 800,\n",
    "#                 background_color ='white',\n",
    "#                 stopwords = stopwords,\n",
    "#                 min_font_size = 10).generate(words)\n",
    " \n",
    "# # plot the WordCloud image                      \n",
    "# plt.figure(figsize = (8, 8), facecolor = None)\n",
    "# plt.imshow(wordcloud)\n",
    "# plt.axis(\"off\")\n",
    "# plt.tight_layout(pad = 0)\n",
    "# # plt.savefig('hate_wordclouds.png')"
   ]
  }
 ],
 "metadata": {
  "kernelspec": {
   "display_name": "Python 3 (ipykernel)",
   "language": "python",
   "name": "python3"
  },
  "language_info": {
   "codemirror_mode": {
    "name": "ipython",
    "version": 3
   },
   "file_extension": ".py",
   "mimetype": "text/x-python",
   "name": "python",
   "nbconvert_exporter": "python",
   "pygments_lexer": "ipython3",
   "version": "3.9.7"
  }
 },
 "nbformat": 4,
 "nbformat_minor": 5
}
