{
 "cells": [
  {
   "cell_type": "markdown",
   "metadata": {
    "id": "ECKAJiLXiTlN"
   },
   "source": [
    "## Hardware check"
   ]
  },
  {
   "cell_type": "code",
   "execution_count": 1,
   "metadata": {
    "id": "e7odgm5VsOsb",
    "outputId": "cd4abc44-f4d3-43d2-fffb-8d38304e09f9"
   },
   "outputs": [
    {
     "name": "stdout",
     "output_type": "stream",
     "text": [
      "Thu May 30 14:58:15 2024       \n",
      "+-----------------------------------------------------------------------------------------+\n",
      "| NVIDIA-SMI 550.54.15              Driver Version: 550.54.15      CUDA Version: 12.4     |\n",
      "|-----------------------------------------+------------------------+----------------------+\n",
      "| GPU  Name                 Persistence-M | Bus-Id          Disp.A | Volatile Uncorr. ECC |\n",
      "| Fan  Temp   Perf          Pwr:Usage/Cap |           Memory-Usage | GPU-Util  Compute M. |\n",
      "|                                         |                        |               MIG M. |\n",
      "|=========================================+========================+======================|\n",
      "|   0  Tesla V100-SXM2-32GB           On  |   00000000:3A:00.0 Off |                    0 |\n",
      "| N/A   30C    P0             41W /  300W |      17MiB /  32768MiB |      0%      Default |\n",
      "|                                         |                        |                  N/A |\n",
      "+-----------------------------------------+------------------------+----------------------+\n",
      "|   1  Tesla V100-SXM2-32GB           On  |   00000000:3B:00.0 Off |                    0 |\n",
      "| N/A   33C    P0             41W /  300W |      17MiB /  32768MiB |      0%      Default |\n",
      "|                                         |                        |                  N/A |\n",
      "+-----------------------------------------+------------------------+----------------------+\n",
      "|   2  Tesla V100-SXM2-32GB           On  |   00000000:B2:00.0 Off |                    0 |\n",
      "| N/A   33C    P0             41W /  300W |      17MiB /  32768MiB |      0%      Default |\n",
      "|                                         |                        |                  N/A |\n",
      "+-----------------------------------------+------------------------+----------------------+\n",
      "|   3  Tesla V100-SXM2-32GB           On  |   00000000:B3:00.0 Off |                    0 |\n",
      "| N/A   36C    P0             42W /  300W |      17MiB /  32768MiB |      0%      Default |\n",
      "|                                         |                        |                  N/A |\n",
      "+-----------------------------------------+------------------------+----------------------+\n",
      "                                                                                         \n",
      "+-----------------------------------------------------------------------------------------+\n",
      "| Processes:                                                                              |\n",
      "|  GPU   GI   CI        PID   Type   Process name                              GPU Memory |\n",
      "|        ID   ID                                                               Usage      |\n",
      "|=========================================================================================|\n",
      "|    0   N/A  N/A      1918      G   /usr/libexec/Xorg                              17MiB |\n",
      "|    1   N/A  N/A      1918      G   /usr/libexec/Xorg                              17MiB |\n",
      "|    2   N/A  N/A      1918      G   /usr/libexec/Xorg                              17MiB |\n",
      "|    3   N/A  N/A      1918      G   /usr/libexec/Xorg                              17MiB |\n",
      "+-----------------------------------------------------------------------------------------+\n"
     ]
    }
   ],
   "source": [
    "# gpu check\n",
    "! nvidia-smi"
   ]
  },
  {
   "cell_type": "code",
   "execution_count": 2,
   "metadata": {
    "id": "oEEUeIW3sOsc",
    "outputId": "2a9ba788-fe62-482d-fab1-6490901982af"
   },
   "outputs": [
    {
     "data": {
      "text/plain": [
       "80"
      ]
     },
     "execution_count": 2,
     "metadata": {},
     "output_type": "execute_result"
    }
   ],
   "source": [
    "# check number of cores\n",
    "import multiprocessing\n",
    "\n",
    "cores = multiprocessing.cpu_count() \n",
    "cores"
   ]
  },
  {
   "cell_type": "code",
   "execution_count": 3,
   "metadata": {
    "tags": []
   },
   "outputs": [
    {
     "name": "stdout",
     "output_type": "stream",
     "text": [
      "Python 3.9.16\n"
     ]
    }
   ],
   "source": [
    "! python --version"
   ]
  },
  {
   "cell_type": "markdown",
   "metadata": {
    "id": "vY9I5eXWeOom"
   },
   "source": [
    "## Environment Prep"
   ]
  },
  {
   "cell_type": "code",
   "execution_count": 4,
   "metadata": {},
   "outputs": [
    {
     "name": "stdout",
     "output_type": "stream",
     "text": [
      "/pfs/data5/home/hd/hd_hd/hd_nf283/MA_Thesis\n"
     ]
    }
   ],
   "source": [
    "cd /pfs/data5/home/hd/hd_hd/hd_nf283/MA_Thesis/"
   ]
  },
  {
   "cell_type": "code",
   "execution_count": 5,
   "metadata": {
    "id": "RpTg0QzPqqKv",
    "outputId": "59a45a87-7972-422f-9a3b-f6d40ae0fabb"
   },
   "outputs": [
    {
     "name": "stderr",
     "output_type": "stream",
     "text": [
      "2024-05-30 14:58:22.919065: I tensorflow/core/util/port.cc:110] oneDNN custom operations are on. You may see slightly different numerical results due to floating-point round-off errors from different computation orders. To turn them off, set the environment variable `TF_ENABLE_ONEDNN_OPTS=0`.\n",
      "2024-05-30 14:58:23.599305: I tensorflow/core/platform/cpu_feature_guard.cc:182] This TensorFlow binary is optimized to use available CPU instructions in performance-critical operations.\n",
      "To enable the following instructions: AVX2 AVX512F AVX512_VNNI FMA, in other operations, rebuild TensorFlow with the appropriate compiler flags.\n",
      "2024-05-30 14:58:49.897793: W tensorflow/compiler/tf2tensorrt/utils/py_utils.cc:38] TF-TRT Warning: Could not find TensorRT\n"
     ]
    }
   ],
   "source": [
    "from keras.utils import pad_sequences\n",
    "import pickle\n",
    "import numpy as np\n",
    "from tqdm import tqdm\n",
    "tqdm.pandas()\n",
    "import pandas as pd\n",
    "import json"
   ]
  },
  {
   "cell_type": "markdown",
   "metadata": {},
   "source": [
    "## Train/Val"
   ]
  },
  {
   "cell_type": "code",
   "execution_count": 6,
   "metadata": {
    "id": "ax1p4f8cUI-s",
    "tags": []
   },
   "outputs": [],
   "source": [
    "data_path = 'Data/sepsis_removed_0.pkl'\n",
    "pkl = pickle.load(open(data_path, 'rb'))\n",
    "data = pkl[0]\n",
    "oc = pkl[1]\n",
    "train_ind = pkl[2]\n",
    "valid_ind = pkl[3]\n",
    "test_ind = pkl[4]\n",
    "# embs = pkl[5]\n",
    "del pkl"
   ]
  },
  {
   "cell_type": "code",
   "execution_count": 7,
   "metadata": {
    "tags": []
   },
   "outputs": [],
   "source": [
    "data_path = 'Data/CLS_emb_keywords_reserved.pkl'\n",
    "pkl = pickle.load(open(data_path, 'rb'))\n",
    "embs = pkl[0]\n",
    "del pkl"
   ]
  },
  {
   "cell_type": "code",
   "execution_count": 8,
   "metadata": {
    "tags": []
   },
   "outputs": [
    {
     "name": "stderr",
     "output_type": "stream",
     "text": [
      "/scratch/slurm_tmpdir/job_23662206/ipykernel_684549/1507988505.py:7: SettingWithCopyWarning: \n",
      "A value is trying to be set on a copy of a slice from a DataFrame.\n",
      "Try using .loc[row_indexer,col_indexer] = value instead\n",
      "\n",
      "See the caveats in the documentation: https://pandas.pydata.org/pandas-docs/stable/user_guide/indexing.html#returning-a-view-versus-a-copy\n",
      "  text_data['value'] = embs_list\n"
     ]
    }
   ],
   "source": [
    "text_data = data[data['variable'] == 'Text']\n",
    "embs_list = []\n",
    "\n",
    "for emb in embs:\n",
    "    embs_list.append(emb)\n",
    "\n",
    "text_data['value'] = embs_list\n",
    "physio_data = data[data['variable'] != 'Text']\n",
    "\n",
    "del data\n",
    "# data = text_data.append(physio_data, ignore_index=False)"
   ]
  },
  {
   "cell_type": "code",
   "execution_count": 9,
   "metadata": {
    "tags": []
   },
   "outputs": [
    {
     "data": {
      "text/html": [
       "<div>\n",
       "<style scoped>\n",
       "    .dataframe tbody tr th:only-of-type {\n",
       "        vertical-align: middle;\n",
       "    }\n",
       "\n",
       "    .dataframe tbody tr th {\n",
       "        vertical-align: top;\n",
       "    }\n",
       "\n",
       "    .dataframe thead th {\n",
       "        text-align: right;\n",
       "    }\n",
       "</style>\n",
       "<table border=\"1\" class=\"dataframe\">\n",
       "  <thead>\n",
       "    <tr style=\"text-align: right;\">\n",
       "      <th></th>\n",
       "      <th>ts_ind</th>\n",
       "      <th>hour</th>\n",
       "      <th>variable</th>\n",
       "      <th>value</th>\n",
       "      <th>TABLE</th>\n",
       "      <th>mean</th>\n",
       "      <th>std</th>\n",
       "    </tr>\n",
       "  </thead>\n",
       "  <tbody>\n",
       "    <tr>\n",
       "      <th>0</th>\n",
       "      <td>10223</td>\n",
       "      <td>467.816667</td>\n",
       "      <td>Text</td>\n",
       "      <td>[0.14401615, 0.15158324, -0.3973308, 0.26409, ...</td>\n",
       "      <td>noteevents</td>\n",
       "      <td>1.0</td>\n",
       "      <td>1.0</td>\n",
       "    </tr>\n",
       "    <tr>\n",
       "      <th>1</th>\n",
       "      <td>18407</td>\n",
       "      <td>28.016667</td>\n",
       "      <td>Text</td>\n",
       "      <td>[0.10852944, 0.2838851, -0.3647646, 0.27892292...</td>\n",
       "      <td>noteevents</td>\n",
       "      <td>1.0</td>\n",
       "      <td>1.0</td>\n",
       "    </tr>\n",
       "    <tr>\n",
       "      <th>2</th>\n",
       "      <td>40300</td>\n",
       "      <td>155.166667</td>\n",
       "      <td>Text</td>\n",
       "      <td>[0.064612664, 0.20329593, -0.4460111, 0.203105...</td>\n",
       "      <td>noteevents</td>\n",
       "      <td>1.0</td>\n",
       "      <td>1.0</td>\n",
       "    </tr>\n",
       "    <tr>\n",
       "      <th>3</th>\n",
       "      <td>23747</td>\n",
       "      <td>52.383333</td>\n",
       "      <td>Text</td>\n",
       "      <td>[0.070009716, 0.33203533, -0.21765643, 0.15761...</td>\n",
       "      <td>noteevents</td>\n",
       "      <td>1.0</td>\n",
       "      <td>1.0</td>\n",
       "    </tr>\n",
       "    <tr>\n",
       "      <th>4</th>\n",
       "      <td>2357</td>\n",
       "      <td>73.133333</td>\n",
       "      <td>Text</td>\n",
       "      <td>[0.1063, 0.10509527, -0.35790482, 0.10100723, ...</td>\n",
       "      <td>noteevents</td>\n",
       "      <td>1.0</td>\n",
       "      <td>1.0</td>\n",
       "    </tr>\n",
       "    <tr>\n",
       "      <th>...</th>\n",
       "      <td>...</td>\n",
       "      <td>...</td>\n",
       "      <td>...</td>\n",
       "      <td>...</td>\n",
       "      <td>...</td>\n",
       "      <td>...</td>\n",
       "      <td>...</td>\n",
       "    </tr>\n",
       "    <tr>\n",
       "      <th>1407425</th>\n",
       "      <td>31015</td>\n",
       "      <td>99.400000</td>\n",
       "      <td>Text</td>\n",
       "      <td>[-0.06811574, 0.019226989, -0.59367394, 0.2867...</td>\n",
       "      <td>noteevents</td>\n",
       "      <td>1.0</td>\n",
       "      <td>1.0</td>\n",
       "    </tr>\n",
       "    <tr>\n",
       "      <th>1407426</th>\n",
       "      <td>31015</td>\n",
       "      <td>105.783333</td>\n",
       "      <td>Text</td>\n",
       "      <td>[0.18735209, 0.23587628, -0.03283742, 0.438380...</td>\n",
       "      <td>noteevents</td>\n",
       "      <td>1.0</td>\n",
       "      <td>1.0</td>\n",
       "    </tr>\n",
       "    <tr>\n",
       "      <th>1407427</th>\n",
       "      <td>31015</td>\n",
       "      <td>112.650000</td>\n",
       "      <td>Text</td>\n",
       "      <td>[-0.18193512, -0.00037389036, -0.4246634, 0.31...</td>\n",
       "      <td>noteevents</td>\n",
       "      <td>1.0</td>\n",
       "      <td>1.0</td>\n",
       "    </tr>\n",
       "    <tr>\n",
       "      <th>1407428</th>\n",
       "      <td>31015</td>\n",
       "      <td>114.033333</td>\n",
       "      <td>Text</td>\n",
       "      <td>[-0.099320516, 0.38617504, -0.54376817, 0.2740...</td>\n",
       "      <td>noteevents</td>\n",
       "      <td>1.0</td>\n",
       "      <td>1.0</td>\n",
       "    </tr>\n",
       "    <tr>\n",
       "      <th>1407429</th>\n",
       "      <td>31015</td>\n",
       "      <td>114.033333</td>\n",
       "      <td>Text</td>\n",
       "      <td>[0.030122608, 0.17025073, -0.41535568, 0.25202...</td>\n",
       "      <td>noteevents</td>\n",
       "      <td>1.0</td>\n",
       "      <td>1.0</td>\n",
       "    </tr>\n",
       "  </tbody>\n",
       "</table>\n",
       "<p>1407430 rows × 7 columns</p>\n",
       "</div>"
      ],
      "text/plain": [
       "         ts_ind        hour variable  \\\n",
       "0         10223  467.816667     Text   \n",
       "1         18407   28.016667     Text   \n",
       "2         40300  155.166667     Text   \n",
       "3         23747   52.383333     Text   \n",
       "4          2357   73.133333     Text   \n",
       "...         ...         ...      ...   \n",
       "1407425   31015   99.400000     Text   \n",
       "1407426   31015  105.783333     Text   \n",
       "1407427   31015  112.650000     Text   \n",
       "1407428   31015  114.033333     Text   \n",
       "1407429   31015  114.033333     Text   \n",
       "\n",
       "                                                     value       TABLE  mean  \\\n",
       "0        [0.14401615, 0.15158324, -0.3973308, 0.26409, ...  noteevents   1.0   \n",
       "1        [0.10852944, 0.2838851, -0.3647646, 0.27892292...  noteevents   1.0   \n",
       "2        [0.064612664, 0.20329593, -0.4460111, 0.203105...  noteevents   1.0   \n",
       "3        [0.070009716, 0.33203533, -0.21765643, 0.15761...  noteevents   1.0   \n",
       "4        [0.1063, 0.10509527, -0.35790482, 0.10100723, ...  noteevents   1.0   \n",
       "...                                                    ...         ...   ...   \n",
       "1407425  [-0.06811574, 0.019226989, -0.59367394, 0.2867...  noteevents   1.0   \n",
       "1407426  [0.18735209, 0.23587628, -0.03283742, 0.438380...  noteevents   1.0   \n",
       "1407427  [-0.18193512, -0.00037389036, -0.4246634, 0.31...  noteevents   1.0   \n",
       "1407428  [-0.099320516, 0.38617504, -0.54376817, 0.2740...  noteevents   1.0   \n",
       "1407429  [0.030122608, 0.17025073, -0.41535568, 0.25202...  noteevents   1.0   \n",
       "\n",
       "         std  \n",
       "0        1.0  \n",
       "1        1.0  \n",
       "2        1.0  \n",
       "3        1.0  \n",
       "4        1.0  \n",
       "...      ...  \n",
       "1407425  1.0  \n",
       "1407426  1.0  \n",
       "1407427  1.0  \n",
       "1407428  1.0  \n",
       "1407429  1.0  \n",
       "\n",
       "[1407430 rows x 7 columns]"
      ]
     },
     "execution_count": 9,
     "metadata": {},
     "output_type": "execute_result"
    }
   ],
   "source": [
    "data = text_data.reset_index()\n",
    "del data['index']\n",
    "data"
   ]
  },
  {
   "cell_type": "code",
   "execution_count": 10,
   "metadata": {
    "tags": []
   },
   "outputs": [
    {
     "data": {
      "text/plain": [
       "57282"
      ]
     },
     "execution_count": 10,
     "metadata": {},
     "output_type": "execute_result"
    }
   ],
   "source": [
    "data = data.loc[data.ts_ind.isin(np.concatenate((train_ind, valid_ind, test_ind), axis=-1))]\n",
    "data = data.loc[(data.hour>=0)&(data.hour<=24)]\n",
    "N = data.ts_ind.max() + 1\n",
    "N"
   ]
  },
  {
   "cell_type": "code",
   "execution_count": 11,
   "metadata": {
    "tags": []
   },
   "outputs": [
    {
     "name": "stderr",
     "output_type": "stream",
     "text": [
      "0it [00:00, ?it/s]\n"
     ]
    },
    {
     "name": "stdout",
     "output_type": "stream",
     "text": [
      "max_len 40\n"
     ]
    }
   ],
   "source": [
    "static_varis = ['Age', 'Gender']\n",
    "ii = data.variable.isin(static_varis)\n",
    "static_data = data.loc[ii]\n",
    "data = data.loc[~ii]\n",
    "def inv_list(l, start=0):\n",
    "    d = {}\n",
    "    for i in range(len(l)):\n",
    "        d[l[i]] = i+start\n",
    "    return d\n",
    "static_var_to_ind = inv_list(static_varis)\n",
    "D = len(static_varis)\n",
    "demo = np.zeros((N, D))\n",
    "for row in tqdm(static_data.itertuples()):\n",
    "    demo[row.ts_ind, static_var_to_ind[row.variable]] = row.value\n",
    "# Normalize static data.\n",
    "means = demo.mean(axis=0, keepdims=True)\n",
    "stds = demo.std(axis=0, keepdims=True)\n",
    "stds = (stds==0)*1 + (stds!=0)*stds\n",
    "demo = (demo-means)/stds\n",
    "# Trim to max len.\n",
    "data = data.sample(frac=1)\n",
    "# data = data.groupby('ts_ind').head(880)\n",
    "# Get N, V, var_to_ind.\n",
    "N = data.ts_ind.max() + 1\n",
    "varis = sorted(list(set(data.variable)))\n",
    "V = len(varis)\n",
    "def inv_list(l, start=0):\n",
    "    d = {}\n",
    "    for i in range(len(l)):\n",
    "        d[l[i]] = i+start\n",
    "    return d\n",
    "var_to_ind = inv_list(varis, start=1)\n",
    "data['vind'] = data.variable.map(var_to_ind)\n",
    "data = data[['ts_ind', 'vind', 'hour', 'value']].sort_values(by=['ts_ind', 'vind', 'hour'])\n",
    "# Add obs index.\n",
    "data = data.sort_values(by=['ts_ind']).reset_index(drop=True)\n",
    "data = data.reset_index().rename(columns={'index':'obs_ind'})\n",
    "data = data.merge(data.groupby('ts_ind').agg({'obs_ind':'min'}).reset_index().rename(columns={ \\\n",
    "                                                            'obs_ind':'first_obs_ind'}), on='ts_ind')\n",
    "data['obs_ind'] = data['obs_ind'] - data['first_obs_ind']\n",
    "# Find max_len.\n",
    "max_len = data.obs_ind.max()+1\n",
    "print ('max_len', max_len)"
   ]
  },
  {
   "cell_type": "code",
   "execution_count": 12,
   "metadata": {
    "tags": []
   },
   "outputs": [
    {
     "data": {
      "text/html": [
       "<div>\n",
       "<style scoped>\n",
       "    .dataframe tbody tr th:only-of-type {\n",
       "        vertical-align: middle;\n",
       "    }\n",
       "\n",
       "    .dataframe tbody tr th {\n",
       "        vertical-align: top;\n",
       "    }\n",
       "\n",
       "    .dataframe thead th {\n",
       "        text-align: right;\n",
       "    }\n",
       "</style>\n",
       "<table border=\"1\" class=\"dataframe\">\n",
       "  <thead>\n",
       "    <tr style=\"text-align: right;\">\n",
       "      <th></th>\n",
       "      <th>obs_ind</th>\n",
       "      <th>ts_ind</th>\n",
       "      <th>vind</th>\n",
       "      <th>hour</th>\n",
       "      <th>value</th>\n",
       "      <th>first_obs_ind</th>\n",
       "    </tr>\n",
       "  </thead>\n",
       "  <tbody>\n",
       "    <tr>\n",
       "      <th>0</th>\n",
       "      <td>0</td>\n",
       "      <td>0</td>\n",
       "      <td>1</td>\n",
       "      <td>5.683333</td>\n",
       "      <td>[-0.20860982, 0.21185082, -0.3639829, 0.432604...</td>\n",
       "      <td>0</td>\n",
       "    </tr>\n",
       "    <tr>\n",
       "      <th>1</th>\n",
       "      <td>1</td>\n",
       "      <td>0</td>\n",
       "      <td>1</td>\n",
       "      <td>9.066667</td>\n",
       "      <td>[0.093354665, -0.27403927, -0.055233687, 0.274...</td>\n",
       "      <td>0</td>\n",
       "    </tr>\n",
       "    <tr>\n",
       "      <th>2</th>\n",
       "      <td>2</td>\n",
       "      <td>0</td>\n",
       "      <td>1</td>\n",
       "      <td>11.133333</td>\n",
       "      <td>[0.0120629845, -0.1610519, -0.004898468, 0.126...</td>\n",
       "      <td>0</td>\n",
       "    </tr>\n",
       "    <tr>\n",
       "      <th>3</th>\n",
       "      <td>3</td>\n",
       "      <td>0</td>\n",
       "      <td>1</td>\n",
       "      <td>15.666667</td>\n",
       "      <td>[0.07136194, -0.3218898, -0.11753161, 0.273947...</td>\n",
       "      <td>0</td>\n",
       "    </tr>\n",
       "    <tr>\n",
       "      <th>4</th>\n",
       "      <td>4</td>\n",
       "      <td>0</td>\n",
       "      <td>1</td>\n",
       "      <td>18.933333</td>\n",
       "      <td>[-0.07164511, 0.30317348, -0.2000821, 0.364235...</td>\n",
       "      <td>0</td>\n",
       "    </tr>\n",
       "    <tr>\n",
       "      <th>...</th>\n",
       "      <td>...</td>\n",
       "      <td>...</td>\n",
       "      <td>...</td>\n",
       "      <td>...</td>\n",
       "      <td>...</td>\n",
       "      <td>...</td>\n",
       "    </tr>\n",
       "    <tr>\n",
       "      <th>316730</th>\n",
       "      <td>2</td>\n",
       "      <td>57280</td>\n",
       "      <td>1</td>\n",
       "      <td>16.966667</td>\n",
       "      <td>[-0.038624022, 0.12539336, -0.17425126, 0.2528...</td>\n",
       "      <td>316728</td>\n",
       "    </tr>\n",
       "    <tr>\n",
       "      <th>316731</th>\n",
       "      <td>0</td>\n",
       "      <td>57281</td>\n",
       "      <td>1</td>\n",
       "      <td>1.000000</td>\n",
       "      <td>[0.014610085, 0.19689673, -0.25572744, 0.52322...</td>\n",
       "      <td>316731</td>\n",
       "    </tr>\n",
       "    <tr>\n",
       "      <th>316732</th>\n",
       "      <td>1</td>\n",
       "      <td>57281</td>\n",
       "      <td>1</td>\n",
       "      <td>5.400000</td>\n",
       "      <td>[0.21962649, 0.031458337, 0.13265967, 0.087429...</td>\n",
       "      <td>316731</td>\n",
       "    </tr>\n",
       "    <tr>\n",
       "      <th>316733</th>\n",
       "      <td>2</td>\n",
       "      <td>57281</td>\n",
       "      <td>1</td>\n",
       "      <td>9.300000</td>\n",
       "      <td>[-0.06340878, 0.37905407, -0.30367488, 0.21357...</td>\n",
       "      <td>316731</td>\n",
       "    </tr>\n",
       "    <tr>\n",
       "      <th>316734</th>\n",
       "      <td>3</td>\n",
       "      <td>57281</td>\n",
       "      <td>1</td>\n",
       "      <td>14.716667</td>\n",
       "      <td>[-0.02592903, -0.2572868, -0.17895913, -0.0209...</td>\n",
       "      <td>316731</td>\n",
       "    </tr>\n",
       "  </tbody>\n",
       "</table>\n",
       "<p>316735 rows × 6 columns</p>\n",
       "</div>"
      ],
      "text/plain": [
       "        obs_ind  ts_ind  vind       hour  \\\n",
       "0             0       0     1   5.683333   \n",
       "1             1       0     1   9.066667   \n",
       "2             2       0     1  11.133333   \n",
       "3             3       0     1  15.666667   \n",
       "4             4       0     1  18.933333   \n",
       "...         ...     ...   ...        ...   \n",
       "316730        2   57280     1  16.966667   \n",
       "316731        0   57281     1   1.000000   \n",
       "316732        1   57281     1   5.400000   \n",
       "316733        2   57281     1   9.300000   \n",
       "316734        3   57281     1  14.716667   \n",
       "\n",
       "                                                    value  first_obs_ind  \n",
       "0       [-0.20860982, 0.21185082, -0.3639829, 0.432604...              0  \n",
       "1       [0.093354665, -0.27403927, -0.055233687, 0.274...              0  \n",
       "2       [0.0120629845, -0.1610519, -0.004898468, 0.126...              0  \n",
       "3       [0.07136194, -0.3218898, -0.11753161, 0.273947...              0  \n",
       "4       [-0.07164511, 0.30317348, -0.2000821, 0.364235...              0  \n",
       "...                                                   ...            ...  \n",
       "316730  [-0.038624022, 0.12539336, -0.17425126, 0.2528...         316728  \n",
       "316731  [0.014610085, 0.19689673, -0.25572744, 0.52322...         316731  \n",
       "316732  [0.21962649, 0.031458337, 0.13265967, 0.087429...         316731  \n",
       "316733  [-0.06340878, 0.37905407, -0.30367488, 0.21357...         316731  \n",
       "316734  [-0.02592903, -0.2572868, -0.17895913, -0.0209...         316731  \n",
       "\n",
       "[316735 rows x 6 columns]"
      ]
     },
     "execution_count": 12,
     "metadata": {},
     "output_type": "execute_result"
    }
   ],
   "source": [
    "data = data.sort_values(['ts_ind','hour'])\n",
    "data"
   ]
  },
  {
   "cell_type": "code",
   "execution_count": 13,
   "metadata": {
    "tags": []
   },
   "outputs": [
    {
     "name": "stderr",
     "output_type": "stream",
     "text": [
      "316735it [00:00, 803846.21it/s]\n"
     ]
    }
   ],
   "source": [
    "texts_inp = np.empty([N, max_len], dtype=object)\n",
    "for row in tqdm(data.itertuples()):\n",
    "    ts_ind = row.ts_ind\n",
    "    l = row.obs_ind\n",
    "    texts_inp[ts_ind, l] = row.hour"
   ]
  },
  {
   "cell_type": "code",
   "execution_count": 14,
   "metadata": {
    "tags": []
   },
   "outputs": [],
   "source": [
    "data.drop(columns=['obs_ind', 'first_obs_ind'], inplace=True)\n",
    "train_ip = [ip[train_ind] for ip in [texts_inp]]\n",
    "valid_ip = [ip[valid_ind] for ip in [texts_inp]]\n",
    "test_ip = [ip[test_ind] for ip in [texts_inp]]\n",
    "del texts_inp"
   ]
  },
  {
   "cell_type": "code",
   "execution_count": 15,
   "metadata": {
    "tags": []
   },
   "outputs": [
    {
     "name": "stderr",
     "output_type": "stream",
     "text": [
      "100%|██████████| 36551/36551 [00:00<00:00, 195001.90it/s]\n"
     ]
    }
   ],
   "source": [
    "train_text_times = train_ip[0]\n",
    "train_text_times_dense = []\n",
    "train_varis = []\n",
    "\n",
    "for times in tqdm(train_text_times):\n",
    "    times_cur = []\n",
    "    varis_cur = []\n",
    "    for time in times:\n",
    "        # get rid of the None\n",
    "        if time is not None:\n",
    "            times_cur.append(time)\n",
    "            varis_cur.append(135)\n",
    "    train_text_times_dense.append(np.array(times_cur))\n",
    "    train_varis.append(np.array(varis_cur))"
   ]
  },
  {
   "cell_type": "code",
   "execution_count": 16,
   "metadata": {},
   "outputs": [
    {
     "name": "stderr",
     "output_type": "stream",
     "text": [
      "100%|██████████| 9262/9262 [00:00<00:00, 183772.38it/s]\n"
     ]
    }
   ],
   "source": [
    "valid_text_times = valid_ip[0]\n",
    "valid_text_times_dense = []\n",
    "valid_varis = []\n",
    "\n",
    "for times in tqdm(valid_text_times):\n",
    "    times_cur = []\n",
    "    varis_cur = []\n",
    "    for time in times:\n",
    "        # get rid of the None\n",
    "        if time is not None:\n",
    "            times_cur.append(time)\n",
    "            varis_cur.append(135)\n",
    "    valid_text_times_dense.append(np.array(times_cur))\n",
    "    valid_varis.append(np.array(varis_cur))"
   ]
  },
  {
   "cell_type": "code",
   "execution_count": 17,
   "metadata": {},
   "outputs": [
    {
     "name": "stderr",
     "output_type": "stream",
     "text": [
      "100%|██████████| 11469/11469 [00:00<00:00, 189048.29it/s]\n"
     ]
    }
   ],
   "source": [
    "test_text_times = test_ip[0]\n",
    "test_text_times_dense = []\n",
    "test_varis = []\n",
    "\n",
    "for times in tqdm(test_text_times):\n",
    "    times_cur = []\n",
    "    varis_cur = []\n",
    "    for time in times:\n",
    "        # get rid of the None\n",
    "        if time is not None:\n",
    "            times_cur.append(time)\n",
    "            varis_cur.append(135)\n",
    "    test_text_times_dense.append(np.array(times_cur))\n",
    "    test_varis.append(np.array(varis_cur))"
   ]
  },
  {
   "cell_type": "code",
   "execution_count": 18,
   "metadata": {
    "tags": []
   },
   "outputs": [
    {
     "data": {
      "text/plain": [
       "(36551, 50)"
      ]
     },
     "execution_count": 18,
     "metadata": {},
     "output_type": "execute_result"
    }
   ],
   "source": [
    "# padding\n",
    "max_len = 50\n",
    "# padding\n",
    "padded_train = pad_sequences(train_text_times_dense, maxlen=max_len, dtype='float32', padding='post')\n",
    "padded_train.shape"
   ]
  },
  {
   "cell_type": "code",
   "execution_count": 19,
   "metadata": {},
   "outputs": [
    {
     "data": {
      "text/plain": [
       "(9262, 50)"
      ]
     },
     "execution_count": 19,
     "metadata": {},
     "output_type": "execute_result"
    }
   ],
   "source": [
    "# padding\n",
    "padded_valid = pad_sequences(valid_text_times_dense, maxlen=max_len, dtype='float32', padding='post')\n",
    "padded_valid.shape"
   ]
  },
  {
   "cell_type": "code",
   "execution_count": 20,
   "metadata": {},
   "outputs": [
    {
     "data": {
      "text/plain": [
       "(11469, 50)"
      ]
     },
     "execution_count": 20,
     "metadata": {},
     "output_type": "execute_result"
    }
   ],
   "source": [
    "# padding\n",
    "padded_test = pad_sequences(test_text_times_dense, maxlen=max_len, dtype='float32', padding='post')\n",
    "padded_test.shape"
   ]
  },
  {
   "cell_type": "code",
   "execution_count": 21,
   "metadata": {},
   "outputs": [
    {
     "data": {
      "text/plain": [
       "(36551, 50)"
      ]
     },
     "execution_count": 21,
     "metadata": {},
     "output_type": "execute_result"
    }
   ],
   "source": [
    "padded_train_varis = pad_sequences(train_varis, maxlen=max_len, dtype='float32', padding='post')\n",
    "padded_train_varis.shape"
   ]
  },
  {
   "cell_type": "code",
   "execution_count": 22,
   "metadata": {},
   "outputs": [
    {
     "data": {
      "text/plain": [
       "(9262, 50)"
      ]
     },
     "execution_count": 22,
     "metadata": {},
     "output_type": "execute_result"
    }
   ],
   "source": [
    "padded_valid_varis = pad_sequences(valid_varis, maxlen=max_len, dtype='float32', padding='post')\n",
    "padded_valid_varis.shape"
   ]
  },
  {
   "cell_type": "code",
   "execution_count": 23,
   "metadata": {},
   "outputs": [
    {
     "data": {
      "text/plain": [
       "(11469, 50)"
      ]
     },
     "execution_count": 23,
     "metadata": {},
     "output_type": "execute_result"
    }
   ],
   "source": [
    "padded_test_varis = pad_sequences(test_varis, maxlen=max_len, dtype='float32', padding='post')\n",
    "padded_test_varis.shape"
   ]
  },
  {
   "cell_type": "code",
   "execution_count": 24,
   "metadata": {
    "tags": []
   },
   "outputs": [],
   "source": [
    "# # dump to pkl, update sepsis_removed_0.pkl\n",
    "# pickle.dump([padded_train, padded_valid, padded_test, padded_train_varis, padded_valid_varis, padded_test_varis], open('Data/CLS/cls_text_times.pkl','wb'))"
   ]
  },
  {
   "cell_type": "code",
   "execution_count": 25,
   "metadata": {
    "tags": []
   },
   "outputs": [],
   "source": [
    "# dump to pkl, update sepsis_removed_0.pkl\n",
    "pickle.dump([padded_train, padded_valid, padded_test, padded_train_varis, padded_valid_varis, padded_test_varis], open('Data/CLS/chrono/cls_text_times.pkl','wb'))"
   ]
  }
 ],
 "metadata": {
  "accelerator": "GPU",
  "colab": {
   "machine_shape": "hm",
   "provenance": [],
   "toc_visible": true
  },
  "gpuClass": "standard",
  "kernelspec": {
   "display_name": "Python 3 (ipykernel)",
   "language": "python",
   "name": "python3"
  },
  "language_info": {
   "codemirror_mode": {
    "name": "ipython",
    "version": 3
   },
   "file_extension": ".py",
   "mimetype": "text/x-python",
   "name": "python",
   "nbconvert_exporter": "python",
   "pygments_lexer": "ipython3",
   "version": "3.9.16"
  }
 },
 "nbformat": 4,
 "nbformat_minor": 4
}
