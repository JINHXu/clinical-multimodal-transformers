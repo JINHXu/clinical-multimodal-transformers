{
 "cells": [
  {
   "cell_type": "code",
   "execution_count": 1,
   "id": "2976a422-6168-40b7-ad6e-42dcd80f3b63",
   "metadata": {},
   "outputs": [
    {
     "name": "stderr",
     "output_type": "stream",
     "text": [
      "2023-11-28 23:59:04.426674: I tensorflow/core/util/port.cc:110] oneDNN custom operations are on. You may see slightly different numerical results due to floating-point round-off errors from different computation orders. To turn them off, set the environment variable `TF_ENABLE_ONEDNN_OPTS=0`.\n",
      "2023-11-28 23:59:05.096391: I tensorflow/core/platform/cpu_feature_guard.cc:182] This TensorFlow binary is optimized to use available CPU instructions in performance-critical operations.\n",
      "To enable the following instructions: AVX2 AVX512F AVX512_VNNI FMA, in other operations, rebuild TensorFlow with the appropriate compiler flags.\n",
      "2023-11-28 23:59:08.568704: W tensorflow/compiler/tf2tensorrt/utils/py_utils.cc:38] TF-TRT Warning: Could not find TensorRT\n"
     ]
    }
   ],
   "source": [
    "# from randtest import randtest\n",
    "import numpy as np\n",
    "import pandas\n",
    "import pickle\n",
    "from tqdm import tqdm\n",
    "import random\n",
    "import tensorflow.keras.backend as K"
   ]
  },
  {
   "cell_type": "code",
   "execution_count": 2,
   "id": "49d15073-4670-4c28-b2ea-5a53445cc3ad",
   "metadata": {
    "tags": []
   },
   "outputs": [
    {
     "name": "stdout",
     "output_type": "stream",
     "text": [
      "80\n"
     ]
    }
   ],
   "source": [
    "# check number of cores\n",
    "import multiprocessing\n",
    "\n",
    "cores = multiprocessing.cpu_count() \n",
    "print(cores)"
   ]
  },
  {
   "cell_type": "code",
   "execution_count": 3,
   "id": "618b2e4b-06a2-4f48-81f8-89f4414d4680",
   "metadata": {
    "tags": []
   },
   "outputs": [
    {
     "name": "stdout",
     "output_type": "stream",
     "text": [
      "/pfs/data5/home/hd/hd_hd/hd_nf283/MA_Thesis\n"
     ]
    }
   ],
   "source": [
    "cd /pfs/data5/home/hd/hd_hd/hd_nf283/MA_Thesis"
   ]
  },
  {
   "cell_type": "code",
   "execution_count": 4,
   "id": "40de3fb2-e597-4f25-af7b-b27618ed6894",
   "metadata": {},
   "outputs": [],
   "source": [
    "def forecast_loss(y_true, y_pred):\n",
    "    V=134\n",
    "    return K.sum(y_true[:,V:]*(y_true[:,:V]-y_pred)**2, axis=-1)"
   ]
  },
  {
   "cell_type": "code",
   "execution_count": 5,
   "id": "3f202155-a8d0-4390-ad35-6b50212edc56",
   "metadata": {},
   "outputs": [],
   "source": [
    "def score(y_preds, y_true):\n",
    "    y_pred = y_preds.reshape(-1, 134)\n",
    "    mmse = forecast_loss(y_true, y_pred)\n",
    "    s = 0\n",
    "    for i in mmse:\n",
    "        s += i\n",
    "    return s/len(mmse)"
   ]
  },
  {
   "cell_type": "code",
   "execution_count": 6,
   "id": "3bc45c28-c30a-479f-96b4-0dab84859f84",
   "metadata": {
    "tags": []
   },
   "outputs": [],
   "source": [
    "def ra_test(a_0, b_0, y_true, r=1000):\n",
    "    \"\"\"randomization test\"\"\"\n",
    "    if len(a_0) != len(b_0):\n",
    "        print('Input A and B are not eaqul-sized!')\n",
    "        return\n",
    "    delta_s_rs = []\n",
    "    c = 0\n",
    "    n = len(a_0)\n",
    "    \n",
    "    \n",
    "    delta_s_0 = score(a_0, y_true) - score(b_0, y_true)\n",
    "    delta_s_0 = delta_s_0.numpy()\n",
    "    \n",
    "    for _ in tqdm(range(r)):\n",
    "        a_r = []\n",
    "        b_r = []\n",
    "        # shuffle\n",
    "        for i in range(n):\n",
    "            # swap\n",
    "            rn = random.randint(0, 1)\n",
    "            # swap\n",
    "            if rn == 0:\n",
    "                a_r.append(b_0[i])\n",
    "                b_r.append(a_0[i])\n",
    "            # do not swap\n",
    "            else:\n",
    "                a_r.append(a_0[i])\n",
    "                b_r.append(b_0[i])\n",
    "\n",
    "        a_r = np.array(a_r)\n",
    "        b_r = np.array(b_r)\n",
    "        delta_s_r = score(a_r, y_true) - score(b_r, y_true)\n",
    "        delta_s_r = delta_s_r.numpy()\n",
    "        # print(delta_s_r)\n",
    "        # print(abs(delta_s_r))\n",
    "        delta_s_rs.append(delta_s_r)\n",
    "        if abs(delta_s_r) >= abs(delta_s_0):\n",
    "            c += 1\n",
    "        \n",
    "    print(c)\n",
    "    p = c/r\n",
    "    print(delta_s_rs)\n",
    "    return p"
   ]
  },
  {
   "cell_type": "code",
   "execution_count": 7,
   "id": "d952a6da-452b-4966-82f3-2b7b9b5e1458",
   "metadata": {},
   "outputs": [],
   "source": [
    "baseline_path = 'randomization_test/data/baseline.pkl'\n",
    "baseline_data, var_to_ind = pickle.load(open(baseline_path, 'rb'))\n",
    "\n",
    "forecasting_preds = []\n",
    "\n",
    "# y_true for score\n",
    "y_true = []\n",
    "for y in baseline_data['forecasting_test_op']:\n",
    "    y_true.append(y)\n",
    "y_true = np.array(y_true)\n",
    "\n",
    "for pred in baseline_data['forecasting_pred']:\n",
    "    forecasting_preds.append(np.array(pred))\n",
    "\n",
    "forecasting_preds = np.array(forecasting_preds)\n",
    "x = forecasting_preds.flatten()\n",
    "del baseline_data, forecasting_preds"
   ]
  },
  {
   "cell_type": "code",
   "execution_count": 8,
   "id": "1e5ed889-108a-4882-a9e2-0ca12d99cfd6",
   "metadata": {},
   "outputs": [],
   "source": [
    "m_path = 'randomization_test/data/glove_m.pkl.pkl'\n",
    "m_data, var_to_ind_m = pickle.load(open(m_path, 'rb'))\n",
    "m_data\n",
    "\n",
    "forecasting_preds = []\n",
    "\n",
    "for pred in m_data['forecasting_pred']:\n",
    "    forecasting_preds.append(np.array(pred))\n",
    "\n",
    "forecasting_preds = np.array(forecasting_preds)\n",
    "\n",
    "y = forecasting_preds.flatten()\n",
    "del m_data, forecasting_preds"
   ]
  },
  {
   "cell_type": "code",
   "execution_count": 9,
   "id": "689a298a-deb8-4c15-b41e-367c43a8104d",
   "metadata": {},
   "outputs": [
    {
     "name": "stderr",
     "output_type": "stream",
     "text": [
      "2023-11-28 23:59:30.174417: I tensorflow/core/common_runtime/gpu/gpu_device.cc:1635] Created device /job:localhost/replica:0/task:0/device:GPU:0 with 30917 MB memory:  -> device: 0, name: Tesla V100-SXM2-32GB, pci bus id: 0000:b2:00.0, compute capability: 7.0\n",
      "  1%|          | 1/100 [01:22<2:15:22, 82.05s/it]"
     ]
    },
    {
     "name": "stdout",
     "output_type": "stream",
     "text": [
      "-0.010868302879808667\n",
      "0.010868302879808667\n"
     ]
    },
    {
     "name": "stderr",
     "output_type": "stream",
     "text": [
      "  2%|▏         | 2/100 [02:44<2:14:08, 82.13s/it]"
     ]
    },
    {
     "name": "stdout",
     "output_type": "stream",
     "text": [
      "-0.014276093767723985\n",
      "0.014276093767723985\n"
     ]
    },
    {
     "name": "stderr",
     "output_type": "stream",
     "text": [
      "  3%|▎         | 3/100 [04:05<2:12:28, 81.94s/it]"
     ]
    },
    {
     "name": "stdout",
     "output_type": "stream",
     "text": [
      "0.002904371636674341\n",
      "0.002904371636674341\n"
     ]
    },
    {
     "name": "stderr",
     "output_type": "stream",
     "text": [
      "  4%|▍         | 4/100 [05:27<2:10:59, 81.87s/it]"
     ]
    },
    {
     "name": "stdout",
     "output_type": "stream",
     "text": [
      "0.0039002501568088377\n",
      "0.0039002501568088377\n"
     ]
    },
    {
     "name": "stderr",
     "output_type": "stream",
     "text": [
      "  5%|▌         | 5/100 [06:49<2:09:39, 81.89s/it]"
     ]
    },
    {
     "name": "stdout",
     "output_type": "stream",
     "text": [
      "0.014321955000912823\n",
      "0.014321955000912823\n"
     ]
    },
    {
     "name": "stderr",
     "output_type": "stream",
     "text": [
      "  6%|▌         | 6/100 [08:11<2:08:22, 81.94s/it]"
     ]
    },
    {
     "name": "stdout",
     "output_type": "stream",
     "text": [
      "-0.003982132436641805\n",
      "0.003982132436641805\n"
     ]
    },
    {
     "name": "stderr",
     "output_type": "stream",
     "text": [
      "  7%|▋         | 7/100 [09:33<2:07:04, 81.99s/it]"
     ]
    },
    {
     "name": "stdout",
     "output_type": "stream",
     "text": [
      "0.008651019426435091\n",
      "0.008651019426435091\n"
     ]
    },
    {
     "name": "stderr",
     "output_type": "stream",
     "text": [
      "  8%|▊         | 8/100 [10:55<2:05:31, 81.87s/it]"
     ]
    },
    {
     "name": "stdout",
     "output_type": "stream",
     "text": [
      "0.008313311422840641\n",
      "0.008313311422840641\n"
     ]
    },
    {
     "name": "stderr",
     "output_type": "stream",
     "text": [
      "  9%|▉         | 9/100 [12:17<2:04:05, 81.82s/it]"
     ]
    },
    {
     "name": "stdout",
     "output_type": "stream",
     "text": [
      "0.00023151455420045153\n",
      "0.00023151455420045153\n"
     ]
    },
    {
     "name": "stderr",
     "output_type": "stream",
     "text": [
      " 10%|█         | 10/100 [13:38<2:02:35, 81.73s/it]"
     ]
    },
    {
     "name": "stdout",
     "output_type": "stream",
     "text": [
      "-0.013564863795493487\n",
      "0.013564863795493487\n"
     ]
    },
    {
     "name": "stderr",
     "output_type": "stream",
     "text": [
      " 11%|█         | 11/100 [15:00<2:01:11, 81.70s/it]"
     ]
    },
    {
     "name": "stdout",
     "output_type": "stream",
     "text": [
      "-0.004186387077155906\n",
      "0.004186387077155906\n"
     ]
    },
    {
     "name": "stderr",
     "output_type": "stream",
     "text": [
      " 12%|█▏        | 12/100 [16:21<1:59:49, 81.70s/it]"
     ]
    },
    {
     "name": "stdout",
     "output_type": "stream",
     "text": [
      "-0.0203712199827768\n",
      "0.0203712199827768\n"
     ]
    },
    {
     "name": "stderr",
     "output_type": "stream",
     "text": [
      " 13%|█▎        | 13/100 [17:44<1:58:48, 81.94s/it]"
     ]
    },
    {
     "name": "stdout",
     "output_type": "stream",
     "text": [
      "0.0017247100023185524\n",
      "0.0017247100023185524\n"
     ]
    },
    {
     "name": "stderr",
     "output_type": "stream",
     "text": [
      " 14%|█▍        | 14/100 [19:06<1:57:19, 81.86s/it]"
     ]
    },
    {
     "name": "stdout",
     "output_type": "stream",
     "text": [
      "-0.006138037423351506\n",
      "0.006138037423351506\n"
     ]
    },
    {
     "name": "stderr",
     "output_type": "stream",
     "text": [
      " 15%|█▌        | 15/100 [20:27<1:55:55, 81.83s/it]"
     ]
    },
    {
     "name": "stdout",
     "output_type": "stream",
     "text": [
      "-0.004754504954473937\n",
      "0.004754504954473937\n"
     ]
    },
    {
     "name": "stderr",
     "output_type": "stream",
     "text": [
      " 16%|█▌        | 16/100 [21:49<1:54:36, 81.87s/it]"
     ]
    },
    {
     "name": "stdout",
     "output_type": "stream",
     "text": [
      "-0.005582509096220711\n",
      "0.005582509096220711\n"
     ]
    },
    {
     "name": "stderr",
     "output_type": "stream",
     "text": [
      " 17%|█▋        | 17/100 [23:11<1:53:09, 81.80s/it]"
     ]
    },
    {
     "name": "stdout",
     "output_type": "stream",
     "text": [
      "-0.0026962081307093655\n",
      "0.0026962081307093655\n"
     ]
    },
    {
     "name": "stderr",
     "output_type": "stream",
     "text": [
      " 18%|█▊        | 18/100 [24:33<1:51:44, 81.77s/it]"
     ]
    },
    {
     "name": "stdout",
     "output_type": "stream",
     "text": [
      "0.021562287463368968\n",
      "0.021562287463368968\n"
     ]
    },
    {
     "name": "stderr",
     "output_type": "stream",
     "text": [
      " 19%|█▉        | 19/100 [25:54<1:50:23, 81.77s/it]"
     ]
    },
    {
     "name": "stdout",
     "output_type": "stream",
     "text": [
      "-0.013479426767911917\n",
      "0.013479426767911917\n"
     ]
    },
    {
     "name": "stderr",
     "output_type": "stream",
     "text": [
      " 20%|██        | 20/100 [27:16<1:49:04, 81.80s/it]"
     ]
    },
    {
     "name": "stdout",
     "output_type": "stream",
     "text": [
      "-0.004776460518751691\n",
      "0.004776460518751691\n"
     ]
    },
    {
     "name": "stderr",
     "output_type": "stream",
     "text": [
      " 21%|██        | 21/100 [28:37<1:47:27, 81.61s/it]"
     ]
    },
    {
     "name": "stdout",
     "output_type": "stream",
     "text": [
      "0.004617284401548183\n",
      "0.004617284401548183\n"
     ]
    },
    {
     "name": "stderr",
     "output_type": "stream",
     "text": [
      " 22%|██▏       | 22/100 [29:58<1:45:31, 81.17s/it]"
     ]
    },
    {
     "name": "stdout",
     "output_type": "stream",
     "text": [
      "-0.0032861592681623364\n",
      "0.0032861592681623364\n"
     ]
    },
    {
     "name": "stderr",
     "output_type": "stream",
     "text": [
      " 23%|██▎       | 23/100 [31:18<1:43:47, 80.88s/it]"
     ]
    },
    {
     "name": "stdout",
     "output_type": "stream",
     "text": [
      "-0.01063540750997749\n",
      "0.01063540750997749\n"
     ]
    },
    {
     "name": "stderr",
     "output_type": "stream",
     "text": [
      " 24%|██▍       | 24/100 [32:38<1:42:05, 80.60s/it]"
     ]
    },
    {
     "name": "stdout",
     "output_type": "stream",
     "text": [
      "0.0043844981798839555\n",
      "0.0043844981798839555\n"
     ]
    },
    {
     "name": "stderr",
     "output_type": "stream",
     "text": [
      " 25%|██▌       | 25/100 [33:58<1:40:27, 80.37s/it]"
     ]
    },
    {
     "name": "stdout",
     "output_type": "stream",
     "text": [
      "0.004397893063928571\n",
      "0.004397893063928571\n"
     ]
    },
    {
     "name": "stderr",
     "output_type": "stream",
     "text": [
      " 26%|██▌       | 26/100 [35:17<1:38:54, 80.20s/it]"
     ]
    },
    {
     "name": "stdout",
     "output_type": "stream",
     "text": [
      "-0.0007513011510438261\n",
      "0.0007513011510438261\n"
     ]
    },
    {
     "name": "stderr",
     "output_type": "stream",
     "text": [
      " 27%|██▋       | 27/100 [36:36<1:37:05, 79.81s/it]"
     ]
    },
    {
     "name": "stdout",
     "output_type": "stream",
     "text": [
      "0.0026024012324930013\n",
      "0.0026024012324930013\n"
     ]
    },
    {
     "name": "stderr",
     "output_type": "stream",
     "text": [
      " 28%|██▊       | 28/100 [37:55<1:35:25, 79.52s/it]"
     ]
    },
    {
     "name": "stdout",
     "output_type": "stream",
     "text": [
      "-0.0017574663161692428\n",
      "0.0017574663161692428\n"
     ]
    },
    {
     "name": "stderr",
     "output_type": "stream",
     "text": [
      " 29%|██▉       | 29/100 [39:14<1:33:55, 79.38s/it]"
     ]
    },
    {
     "name": "stdout",
     "output_type": "stream",
     "text": [
      "0.006981515423752249\n",
      "0.006981515423752249\n"
     ]
    },
    {
     "name": "stderr",
     "output_type": "stream",
     "text": [
      " 30%|███       | 30/100 [40:33<1:32:29, 79.27s/it]"
     ]
    },
    {
     "name": "stdout",
     "output_type": "stream",
     "text": [
      "0.005712857299987384\n",
      "0.005712857299987384\n"
     ]
    },
    {
     "name": "stderr",
     "output_type": "stream",
     "text": [
      " 31%|███       | 31/100 [41:52<1:31:04, 79.20s/it]"
     ]
    },
    {
     "name": "stdout",
     "output_type": "stream",
     "text": [
      "0.006904475558986434\n",
      "0.006904475558986434\n"
     ]
    },
    {
     "name": "stderr",
     "output_type": "stream",
     "text": [
      " 32%|███▏      | 32/100 [43:11<1:29:41, 79.14s/it]"
     ]
    },
    {
     "name": "stdout",
     "output_type": "stream",
     "text": [
      "0.008666175441096158\n",
      "0.008666175441096158\n"
     ]
    },
    {
     "name": "stderr",
     "output_type": "stream",
     "text": [
      " 33%|███▎      | 33/100 [44:30<1:28:11, 78.98s/it]"
     ]
    },
    {
     "name": "stdout",
     "output_type": "stream",
     "text": [
      "0.00025087593986139467\n",
      "0.00025087593986139467\n"
     ]
    },
    {
     "name": "stderr",
     "output_type": "stream",
     "text": [
      " 34%|███▍      | 34/100 [45:49<1:26:53, 79.00s/it]"
     ]
    },
    {
     "name": "stdout",
     "output_type": "stream",
     "text": [
      "0.0011148377381369201\n",
      "0.0011148377381369201\n"
     ]
    },
    {
     "name": "stderr",
     "output_type": "stream",
     "text": [
      " 35%|███▌      | 35/100 [47:08<1:25:32, 78.97s/it]"
     ]
    },
    {
     "name": "stdout",
     "output_type": "stream",
     "text": [
      "-0.011484224241931074\n",
      "0.011484224241931074\n"
     ]
    },
    {
     "name": "stderr",
     "output_type": "stream",
     "text": [
      " 36%|███▌      | 36/100 [48:27<1:24:13, 78.96s/it]"
     ]
    },
    {
     "name": "stdout",
     "output_type": "stream",
     "text": [
      "0.001730556749672374\n",
      "0.001730556749672374\n"
     ]
    },
    {
     "name": "stderr",
     "output_type": "stream",
     "text": [
      " 37%|███▋      | 37/100 [49:46<1:22:54, 78.96s/it]"
     ]
    },
    {
     "name": "stdout",
     "output_type": "stream",
     "text": [
      "0.02113300234954263\n",
      "0.02113300234954263\n"
     ]
    },
    {
     "name": "stderr",
     "output_type": "stream",
     "text": [
      " 38%|███▊      | 38/100 [51:05<1:21:34, 78.95s/it]"
     ]
    },
    {
     "name": "stdout",
     "output_type": "stream",
     "text": [
      "-0.006010602685282862\n",
      "0.006010602685282862\n"
     ]
    },
    {
     "name": "stderr",
     "output_type": "stream",
     "text": [
      " 39%|███▉      | 39/100 [52:24<1:20:18, 78.99s/it]"
     ]
    },
    {
     "name": "stdout",
     "output_type": "stream",
     "text": [
      "0.001399314150259734\n",
      "0.001399314150259734\n"
     ]
    },
    {
     "name": "stderr",
     "output_type": "stream",
     "text": [
      " 40%|████      | 40/100 [53:43<1:19:01, 79.03s/it]"
     ]
    },
    {
     "name": "stdout",
     "output_type": "stream",
     "text": [
      "0.0148524793481144\n",
      "0.0148524793481144\n"
     ]
    },
    {
     "name": "stderr",
     "output_type": "stream",
     "text": [
      " 41%|████      | 41/100 [55:02<1:17:46, 79.09s/it]"
     ]
    },
    {
     "name": "stdout",
     "output_type": "stream",
     "text": [
      "0.014972840085042627\n",
      "0.014972840085042627\n"
     ]
    },
    {
     "name": "stderr",
     "output_type": "stream",
     "text": [
      " 42%|████▏     | 42/100 [56:21<1:16:29, 79.12s/it]"
     ]
    },
    {
     "name": "stdout",
     "output_type": "stream",
     "text": [
      "0.0009068324502683467\n",
      "0.0009068324502683467\n"
     ]
    },
    {
     "name": "stderr",
     "output_type": "stream",
     "text": [
      " 43%|████▎     | 43/100 [57:41<1:15:13, 79.18s/it]"
     ]
    },
    {
     "name": "stdout",
     "output_type": "stream",
     "text": [
      "0.006913284457014335\n",
      "0.006913284457014335\n"
     ]
    },
    {
     "name": "stderr",
     "output_type": "stream",
     "text": [
      " 44%|████▍     | 44/100 [59:00<1:13:58, 79.27s/it]"
     ]
    },
    {
     "name": "stdout",
     "output_type": "stream",
     "text": [
      "-4.0649251486613025e-05\n",
      "4.0649251486613025e-05\n"
     ]
    },
    {
     "name": "stderr",
     "output_type": "stream",
     "text": [
      " 45%|████▌     | 45/100 [1:00:19<1:12:40, 79.28s/it]"
     ]
    },
    {
     "name": "stdout",
     "output_type": "stream",
     "text": [
      "0.019927932337111542\n",
      "0.019927932337111542\n"
     ]
    },
    {
     "name": "stderr",
     "output_type": "stream",
     "text": [
      " 46%|████▌     | 46/100 [1:01:39<1:11:23, 79.32s/it]"
     ]
    },
    {
     "name": "stdout",
     "output_type": "stream",
     "text": [
      "0.0020484989860731773\n",
      "0.0020484989860731773\n"
     ]
    },
    {
     "name": "stderr",
     "output_type": "stream",
     "text": [
      " 47%|████▋     | 47/100 [1:02:58<1:10:03, 79.31s/it]"
     ]
    },
    {
     "name": "stdout",
     "output_type": "stream",
     "text": [
      "-0.015227906552270909\n",
      "0.015227906552270909\n"
     ]
    },
    {
     "name": "stderr",
     "output_type": "stream",
     "text": [
      " 48%|████▊     | 48/100 [1:04:20<1:09:18, 79.97s/it]"
     ]
    },
    {
     "name": "stdout",
     "output_type": "stream",
     "text": [
      "-0.020901399679421395\n",
      "0.020901399679421395\n"
     ]
    },
    {
     "name": "stderr",
     "output_type": "stream",
     "text": [
      " 49%|████▉     | 49/100 [1:05:39<1:07:44, 79.70s/it]"
     ]
    },
    {
     "name": "stdout",
     "output_type": "stream",
     "text": [
      "-0.006272959037378456\n",
      "0.006272959037378456\n"
     ]
    },
    {
     "name": "stderr",
     "output_type": "stream",
     "text": [
      " 50%|█████     | 50/100 [1:06:58<1:06:13, 79.47s/it]"
     ]
    },
    {
     "name": "stdout",
     "output_type": "stream",
     "text": [
      "-0.007360302068021518\n",
      "0.007360302068021518\n"
     ]
    },
    {
     "name": "stderr",
     "output_type": "stream",
     "text": [
      " 51%|█████     | 51/100 [1:08:16<1:04:45, 79.30s/it]"
     ]
    },
    {
     "name": "stdout",
     "output_type": "stream",
     "text": [
      "-0.001468440864099918\n",
      "0.001468440864099918\n"
     ]
    },
    {
     "name": "stderr",
     "output_type": "stream",
     "text": [
      " 52%|█████▏    | 52/100 [1:09:35<1:03:21, 79.20s/it]"
     ]
    },
    {
     "name": "stdout",
     "output_type": "stream",
     "text": [
      "0.007007210118585405\n",
      "0.007007210118585405\n"
     ]
    },
    {
     "name": "stderr",
     "output_type": "stream",
     "text": [
      " 53%|█████▎    | 53/100 [1:10:54<1:01:58, 79.11s/it]"
     ]
    },
    {
     "name": "stdout",
     "output_type": "stream",
     "text": [
      "-0.005104438001648504\n",
      "0.005104438001648504\n"
     ]
    },
    {
     "name": "stderr",
     "output_type": "stream",
     "text": [
      " 54%|█████▍    | 54/100 [1:12:13<1:00:36, 79.06s/it]"
     ]
    },
    {
     "name": "stdout",
     "output_type": "stream",
     "text": [
      "0.0035719109334593213\n",
      "0.0035719109334593213\n"
     ]
    },
    {
     "name": "stderr",
     "output_type": "stream",
     "text": [
      " 55%|█████▌    | 55/100 [1:13:32<59:14, 78.98s/it]  "
     ]
    },
    {
     "name": "stdout",
     "output_type": "stream",
     "text": [
      "-0.006288500217543458\n",
      "0.006288500217543458\n"
     ]
    },
    {
     "name": "stderr",
     "output_type": "stream",
     "text": [
      " 56%|█████▌    | 56/100 [1:14:51<57:53, 78.95s/it]"
     ]
    },
    {
     "name": "stdout",
     "output_type": "stream",
     "text": [
      "0.00016113626870684072\n",
      "0.00016113626870684072\n"
     ]
    },
    {
     "name": "stderr",
     "output_type": "stream",
     "text": [
      " 57%|█████▋    | 57/100 [1:16:10<56:36, 78.99s/it]"
     ]
    },
    {
     "name": "stdout",
     "output_type": "stream",
     "text": [
      "0.006317133424866839\n",
      "0.006317133424866839\n"
     ]
    },
    {
     "name": "stderr",
     "output_type": "stream",
     "text": [
      " 58%|█████▊    | 58/100 [1:17:29<55:16, 78.97s/it]"
     ]
    },
    {
     "name": "stdout",
     "output_type": "stream",
     "text": [
      "0.013392281485145041\n",
      "0.013392281485145041\n"
     ]
    },
    {
     "name": "stderr",
     "output_type": "stream",
     "text": [
      " 59%|█████▉    | 59/100 [1:18:48<53:56, 78.95s/it]"
     ]
    },
    {
     "name": "stdout",
     "output_type": "stream",
     "text": [
      "0.007523786390400744\n",
      "0.007523786390400744\n"
     ]
    },
    {
     "name": "stderr",
     "output_type": "stream",
     "text": [
      " 60%|██████    | 60/100 [1:20:07<52:39, 78.98s/it]"
     ]
    },
    {
     "name": "stdout",
     "output_type": "stream",
     "text": [
      "0.00858793995702456\n",
      "0.00858793995702456\n"
     ]
    },
    {
     "name": "stderr",
     "output_type": "stream",
     "text": [
      " 61%|██████    | 61/100 [1:21:26<51:23, 79.05s/it]"
     ]
    },
    {
     "name": "stdout",
     "output_type": "stream",
     "text": [
      "0.008375290347811593\n",
      "0.008375290347811593\n"
     ]
    },
    {
     "name": "stderr",
     "output_type": "stream",
     "text": [
      " 62%|██████▏   | 62/100 [1:22:45<50:04, 79.06s/it]"
     ]
    },
    {
     "name": "stdout",
     "output_type": "stream",
     "text": [
      "0.009658004267958376\n",
      "0.009658004267958376\n"
     ]
    },
    {
     "name": "stderr",
     "output_type": "stream",
     "text": [
      " 63%|██████▎   | 63/100 [1:24:05<48:54, 79.32s/it]"
     ]
    },
    {
     "name": "stdout",
     "output_type": "stream",
     "text": [
      "0.014117883823911548\n",
      "0.014117883823911548\n"
     ]
    },
    {
     "name": "stderr",
     "output_type": "stream",
     "text": [
      " 64%|██████▍   | 64/100 [1:25:24<47:32, 79.25s/it]"
     ]
    },
    {
     "name": "stdout",
     "output_type": "stream",
     "text": [
      "0.009666847262417733\n",
      "0.009666847262417733\n"
     ]
    },
    {
     "name": "stderr",
     "output_type": "stream",
     "text": [
      " 65%|██████▌   | 65/100 [1:26:43<46:09, 79.14s/it]"
     ]
    },
    {
     "name": "stdout",
     "output_type": "stream",
     "text": [
      "0.0017269950170781811\n",
      "0.0017269950170781811\n"
     ]
    },
    {
     "name": "stderr",
     "output_type": "stream",
     "text": [
      " 66%|██████▌   | 66/100 [1:28:02<44:48, 79.07s/it]"
     ]
    },
    {
     "name": "stdout",
     "output_type": "stream",
     "text": [
      "0.006289927446040622\n",
      "0.006289927446040622\n"
     ]
    },
    {
     "name": "stderr",
     "output_type": "stream",
     "text": [
      " 67%|██████▋   | 67/100 [1:29:21<43:26, 78.98s/it]"
     ]
    },
    {
     "name": "stdout",
     "output_type": "stream",
     "text": [
      "-0.0033995050582928954\n",
      "0.0033995050582928954\n"
     ]
    },
    {
     "name": "stderr",
     "output_type": "stream",
     "text": [
      " 68%|██████▊   | 68/100 [1:30:40<42:06, 78.94s/it]"
     ]
    },
    {
     "name": "stdout",
     "output_type": "stream",
     "text": [
      "-0.007442312825226338\n",
      "0.007442312825226338\n"
     ]
    },
    {
     "name": "stderr",
     "output_type": "stream",
     "text": [
      " 69%|██████▉   | 69/100 [1:31:59<40:47, 78.94s/it]"
     ]
    },
    {
     "name": "stdout",
     "output_type": "stream",
     "text": [
      "0.00722208171394545\n",
      "0.00722208171394545\n"
     ]
    },
    {
     "name": "stderr",
     "output_type": "stream",
     "text": [
      " 70%|███████   | 70/100 [1:33:18<39:28, 78.96s/it]"
     ]
    },
    {
     "name": "stdout",
     "output_type": "stream",
     "text": [
      "0.0026253115797665316\n",
      "0.0026253115797665316\n"
     ]
    },
    {
     "name": "stderr",
     "output_type": "stream",
     "text": [
      " 71%|███████   | 71/100 [1:34:36<38:08, 78.92s/it]"
     ]
    },
    {
     "name": "stdout",
     "output_type": "stream",
     "text": [
      "-0.005542390960032506\n",
      "0.005542390960032506\n"
     ]
    },
    {
     "name": "stderr",
     "output_type": "stream",
     "text": [
      " 72%|███████▏  | 72/100 [1:35:55<36:49, 78.93s/it]"
     ]
    },
    {
     "name": "stdout",
     "output_type": "stream",
     "text": [
      "0.004492099245641867\n",
      "0.004492099245641867\n"
     ]
    },
    {
     "name": "stderr",
     "output_type": "stream",
     "text": [
      " 73%|███████▎  | 73/100 [1:37:14<35:32, 78.97s/it]"
     ]
    },
    {
     "name": "stdout",
     "output_type": "stream",
     "text": [
      "-0.00785942950929197\n",
      "0.00785942950929197\n"
     ]
    },
    {
     "name": "stderr",
     "output_type": "stream",
     "text": [
      " 74%|███████▍  | 74/100 [1:38:33<34:14, 79.00s/it]"
     ]
    },
    {
     "name": "stdout",
     "output_type": "stream",
     "text": [
      "0.016134032736105475\n",
      "0.016134032736105475\n"
     ]
    },
    {
     "name": "stderr",
     "output_type": "stream",
     "text": [
      " 75%|███████▌  | 75/100 [1:39:52<32:54, 78.99s/it]"
     ]
    },
    {
     "name": "stdout",
     "output_type": "stream",
     "text": [
      "0.006561715344910901\n",
      "0.006561715344910901\n"
     ]
    },
    {
     "name": "stderr",
     "output_type": "stream",
     "text": [
      " 76%|███████▌  | 76/100 [1:41:11<31:30, 78.77s/it]"
     ]
    },
    {
     "name": "stdout",
     "output_type": "stream",
     "text": [
      "0.014142220815879014\n",
      "0.014142220815879014\n"
     ]
    },
    {
     "name": "stderr",
     "output_type": "stream",
     "text": [
      " 77%|███████▋  | 77/100 [1:42:29<30:08, 78.63s/it]"
     ]
    },
    {
     "name": "stdout",
     "output_type": "stream",
     "text": [
      "-0.014977110400657523\n",
      "0.014977110400657523\n"
     ]
    },
    {
     "name": "stderr",
     "output_type": "stream",
     "text": [
      " 78%|███████▊  | 78/100 [1:43:47<28:48, 78.55s/it]"
     ]
    },
    {
     "name": "stdout",
     "output_type": "stream",
     "text": [
      "0.002720362726718939\n",
      "0.002720362726718939\n"
     ]
    },
    {
     "name": "stderr",
     "output_type": "stream",
     "text": [
      " 79%|███████▉  | 79/100 [1:45:06<27:28, 78.49s/it]"
     ]
    },
    {
     "name": "stdout",
     "output_type": "stream",
     "text": [
      "0.00978052122855022\n",
      "0.00978052122855022\n"
     ]
    },
    {
     "name": "stderr",
     "output_type": "stream",
     "text": [
      " 80%|████████  | 80/100 [1:46:24<26:08, 78.40s/it]"
     ]
    },
    {
     "name": "stdout",
     "output_type": "stream",
     "text": [
      "-0.0038554883721042543\n",
      "0.0038554883721042543\n"
     ]
    },
    {
     "name": "stderr",
     "output_type": "stream",
     "text": [
      " 81%|████████  | 81/100 [1:47:42<24:49, 78.39s/it]"
     ]
    },
    {
     "name": "stdout",
     "output_type": "stream",
     "text": [
      "0.000631752904789451\n",
      "0.000631752904789451\n"
     ]
    },
    {
     "name": "stderr",
     "output_type": "stream",
     "text": [
      " 82%|████████▏ | 82/100 [1:49:01<23:30, 78.35s/it]"
     ]
    },
    {
     "name": "stdout",
     "output_type": "stream",
     "text": [
      "0.005410207332076311\n",
      "0.005410207332076311\n"
     ]
    },
    {
     "name": "stderr",
     "output_type": "stream",
     "text": [
      " 83%|████████▎ | 83/100 [1:50:19<22:11, 78.35s/it]"
     ]
    },
    {
     "name": "stdout",
     "output_type": "stream",
     "text": [
      "-0.0013112459504798224\n",
      "0.0013112459504798224\n"
     ]
    },
    {
     "name": "stderr",
     "output_type": "stream",
     "text": [
      " 84%|████████▍ | 84/100 [1:51:37<20:53, 78.37s/it]"
     ]
    },
    {
     "name": "stdout",
     "output_type": "stream",
     "text": [
      "-0.0014747959164287394\n",
      "0.0014747959164287394\n"
     ]
    },
    {
     "name": "stderr",
     "output_type": "stream",
     "text": [
      " 85%|████████▌ | 85/100 [1:52:56<19:35, 78.39s/it]"
     ]
    },
    {
     "name": "stdout",
     "output_type": "stream",
     "text": [
      "-0.00453405710800503\n",
      "0.00453405710800503\n"
     ]
    },
    {
     "name": "stderr",
     "output_type": "stream",
     "text": [
      " 86%|████████▌ | 86/100 [1:54:14<18:17, 78.37s/it]"
     ]
    },
    {
     "name": "stdout",
     "output_type": "stream",
     "text": [
      "0.0007336312043797477\n",
      "0.0007336312043797477\n"
     ]
    },
    {
     "name": "stderr",
     "output_type": "stream",
     "text": [
      " 87%|████████▋ | 87/100 [1:55:32<16:58, 78.33s/it]"
     ]
    },
    {
     "name": "stdout",
     "output_type": "stream",
     "text": [
      "0.00991523688388174\n",
      "0.00991523688388174\n"
     ]
    },
    {
     "name": "stderr",
     "output_type": "stream",
     "text": [
      " 88%|████████▊ | 88/100 [1:56:51<15:39, 78.33s/it]"
     ]
    },
    {
     "name": "stdout",
     "output_type": "stream",
     "text": [
      "0.0019104855022549216\n",
      "0.0019104855022549216\n"
     ]
    },
    {
     "name": "stderr",
     "output_type": "stream",
     "text": [
      " 89%|████████▉ | 89/100 [1:58:09<14:21, 78.33s/it]"
     ]
    },
    {
     "name": "stdout",
     "output_type": "stream",
     "text": [
      "0.004760269451662857\n",
      "0.004760269451662857\n"
     ]
    },
    {
     "name": "stderr",
     "output_type": "stream",
     "text": [
      " 90%|█████████ | 90/100 [1:59:27<13:02, 78.27s/it]"
     ]
    },
    {
     "name": "stdout",
     "output_type": "stream",
     "text": [
      "0.007020970798776283\n",
      "0.007020970798776283\n"
     ]
    },
    {
     "name": "stderr",
     "output_type": "stream",
     "text": [
      " 91%|█████████ | 91/100 [2:00:45<11:44, 78.23s/it]"
     ]
    },
    {
     "name": "stdout",
     "output_type": "stream",
     "text": [
      "-0.005008601932714463\n",
      "0.005008601932714463\n"
     ]
    },
    {
     "name": "stderr",
     "output_type": "stream",
     "text": [
      " 92%|█████████▏| 92/100 [2:02:04<10:26, 78.27s/it]"
     ]
    },
    {
     "name": "stdout",
     "output_type": "stream",
     "text": [
      "0.008857954481689134\n",
      "0.008857954481689134\n"
     ]
    },
    {
     "name": "stderr",
     "output_type": "stream",
     "text": [
      " 93%|█████████▎| 93/100 [2:03:22<09:07, 78.27s/it]"
     ]
    },
    {
     "name": "stdout",
     "output_type": "stream",
     "text": [
      "-0.004470183974760289\n",
      "0.004470183974760289\n"
     ]
    },
    {
     "name": "stderr",
     "output_type": "stream",
     "text": [
      " 94%|█████████▍| 94/100 [2:04:40<07:49, 78.23s/it]"
     ]
    },
    {
     "name": "stdout",
     "output_type": "stream",
     "text": [
      "0.0007519017817569917\n",
      "0.0007519017817569917\n"
     ]
    },
    {
     "name": "stderr",
     "output_type": "stream",
     "text": [
      " 95%|█████████▌| 95/100 [2:05:58<06:31, 78.21s/it]"
     ]
    },
    {
     "name": "stdout",
     "output_type": "stream",
     "text": [
      "-0.0027519088681957626\n",
      "0.0027519088681957626\n"
     ]
    },
    {
     "name": "stderr",
     "output_type": "stream",
     "text": [
      " 96%|█████████▌| 96/100 [2:07:17<05:13, 78.27s/it]"
     ]
    },
    {
     "name": "stdout",
     "output_type": "stream",
     "text": [
      "0.002206676614475711\n",
      "0.002206676614475711\n"
     ]
    },
    {
     "name": "stderr",
     "output_type": "stream",
     "text": [
      " 97%|█████████▋| 97/100 [2:08:35<03:55, 78.42s/it]"
     ]
    },
    {
     "name": "stdout",
     "output_type": "stream",
     "text": [
      "0.016798879283287604\n",
      "0.016798879283287604\n"
     ]
    },
    {
     "name": "stderr",
     "output_type": "stream",
     "text": [
      " 98%|█████████▊| 98/100 [2:09:56<02:38, 79.10s/it]"
     ]
    },
    {
     "name": "stdout",
     "output_type": "stream",
     "text": [
      "-0.0012922365909817657\n",
      "0.0012922365909817657\n"
     ]
    },
    {
     "name": "stderr",
     "output_type": "stream",
     "text": [
      " 99%|█████████▉| 99/100 [2:11:15<01:19, 79.08s/it]"
     ]
    },
    {
     "name": "stdout",
     "output_type": "stream",
     "text": [
      "-0.0063091858371677745\n",
      "0.0063091858371677745\n"
     ]
    },
    {
     "name": "stderr",
     "output_type": "stream",
     "text": [
      "100%|██████████| 100/100 [2:12:34<00:00, 79.55s/it]"
     ]
    },
    {
     "name": "stdout",
     "output_type": "stream",
     "text": [
      "0.02137411230880293\n",
      "0.02137411230880293\n",
      "0\n",
      "[-0.010868302879808667, -0.014276093767723985, 0.002904371636674341, 0.0039002501568088377, 0.014321955000912823, -0.003982132436641805, 0.008651019426435091, 0.008313311422840641, 0.00023151455420045153, -0.013564863795493487, -0.004186387077155906, -0.0203712199827768, 0.0017247100023185524, -0.006138037423351506, -0.004754504954473937, -0.005582509096220711, -0.0026962081307093655, 0.021562287463368968, -0.013479426767911917, -0.004776460518751691, 0.004617284401548183, -0.0032861592681623364, -0.01063540750997749, 0.0043844981798839555, 0.004397893063928571, -0.0007513011510438261, 0.0026024012324930013, -0.0017574663161692428, 0.006981515423752249, 0.005712857299987384, 0.006904475558986434, 0.008666175441096158, 0.00025087593986139467, 0.0011148377381369201, -0.011484224241931074, 0.001730556749672374, 0.02113300234954263, -0.006010602685282862, 0.001399314150259734, 0.0148524793481144, 0.014972840085042627, 0.0009068324502683467, 0.006913284457014335, -4.0649251486613025e-05, 0.019927932337111542, 0.0020484989860731773, -0.015227906552270909, -0.020901399679421395, -0.006272959037378456, -0.007360302068021518, -0.001468440864099918, 0.007007210118585405, -0.005104438001648504, 0.0035719109334593213, -0.006288500217543458, 0.00016113626870684072, 0.006317133424866839, 0.013392281485145041, 0.007523786390400744, 0.00858793995702456, 0.008375290347811593, 0.009658004267958376, 0.014117883823911548, 0.009666847262417733, 0.0017269950170781811, 0.006289927446040622, -0.0033995050582928954, -0.007442312825226338, 0.00722208171394545, 0.0026253115797665316, -0.005542390960032506, 0.004492099245641867, -0.00785942950929197, 0.016134032736105475, 0.006561715344910901, 0.014142220815879014, -0.014977110400657523, 0.002720362726718939, 0.00978052122855022, -0.0038554883721042543, 0.000631752904789451, 0.005410207332076311, -0.0013112459504798224, -0.0014747959164287394, -0.00453405710800503, 0.0007336312043797477, 0.00991523688388174, 0.0019104855022549216, 0.004760269451662857, 0.007020970798776283, -0.005008601932714463, 0.008857954481689134, -0.004470183974760289, 0.0007519017817569917, -0.0027519088681957626, 0.002206676614475711, 0.016798879283287604, -0.0012922365909817657, -0.0063091858371677745, 0.02137411230880293]\n"
     ]
    },
    {
     "name": "stderr",
     "output_type": "stream",
     "text": [
      "\n"
     ]
    },
    {
     "data": {
      "text/plain": [
       "0.0"
      ]
     },
     "execution_count": 9,
     "metadata": {},
     "output_type": "execute_result"
    }
   ],
   "source": [
    "p = ra_test(x, y, y_true = y_true, r=100)\n",
    "p"
   ]
  }
 ],
 "metadata": {
  "kernelspec": {
   "display_name": "Python 3 (ipykernel)",
   "language": "python",
   "name": "python3"
  },
  "language_info": {
   "codemirror_mode": {
    "name": "ipython",
    "version": 3
   },
   "file_extension": ".py",
   "mimetype": "text/x-python",
   "name": "python",
   "nbconvert_exporter": "python",
   "pygments_lexer": "ipython3",
   "version": "3.9.16"
  }
 },
 "nbformat": 4,
 "nbformat_minor": 5
}
