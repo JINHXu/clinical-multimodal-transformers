{
 "cells": [
  {
   "cell_type": "code",
   "execution_count": 1,
   "id": "2976a422-6168-40b7-ad6e-42dcd80f3b63",
   "metadata": {},
   "outputs": [
    {
     "name": "stderr",
     "output_type": "stream",
     "text": [
      "2024-03-28 17:40:00.808561: I tensorflow/core/util/port.cc:110] oneDNN custom operations are on. You may see slightly different numerical results due to floating-point round-off errors from different computation orders. To turn them off, set the environment variable `TF_ENABLE_ONEDNN_OPTS=0`.\n",
      "2024-03-28 17:40:00.857182: I tensorflow/core/platform/cpu_feature_guard.cc:182] This TensorFlow binary is optimized to use available CPU instructions in performance-critical operations.\n",
      "To enable the following instructions: AVX2 AVX512F AVX512_VNNI FMA, in other operations, rebuild TensorFlow with the appropriate compiler flags.\n",
      "2024-03-28 17:40:02.108065: W tensorflow/compiler/tf2tensorrt/utils/py_utils.cc:38] TF-TRT Warning: Could not find TensorRT\n"
     ]
    }
   ],
   "source": [
    "# from randtest import randtest\n",
    "import numpy as np\n",
    "import pandas\n",
    "import pickle\n",
    "from tqdm import tqdm\n",
    "import random\n",
    "import tensorflow.keras.backend as K"
   ]
  },
  {
   "cell_type": "code",
   "execution_count": 2,
   "id": "49d15073-4670-4c28-b2ea-5a53445cc3ad",
   "metadata": {
    "tags": []
   },
   "outputs": [
    {
     "name": "stdout",
     "output_type": "stream",
     "text": [
      "80\n"
     ]
    }
   ],
   "source": [
    "# check number of cores\n",
    "import multiprocessing\n",
    "\n",
    "cores = multiprocessing.cpu_count() \n",
    "print(cores)"
   ]
  },
  {
   "cell_type": "code",
   "execution_count": 3,
   "id": "618b2e4b-06a2-4f48-81f8-89f4414d4680",
   "metadata": {
    "tags": []
   },
   "outputs": [
    {
     "name": "stdout",
     "output_type": "stream",
     "text": [
      "/pfs/data5/home/hd/hd_hd/hd_nf283/MA_Thesis\n"
     ]
    }
   ],
   "source": [
    "cd /pfs/data5/home/hd/hd_hd/hd_nf283/MA_Thesis"
   ]
  },
  {
   "cell_type": "code",
   "execution_count": 4,
   "id": "40de3fb2-e597-4f25-af7b-b27618ed6894",
   "metadata": {},
   "outputs": [],
   "source": [
    "def forecast_loss(y_true, y_pred):\n",
    "    V=134\n",
    "    return K.sum(y_true[:,V:]*(y_true[:,:V]-y_pred)**2, axis=-1)"
   ]
  },
  {
   "cell_type": "code",
   "execution_count": 5,
   "id": "3f202155-a8d0-4390-ad35-6b50212edc56",
   "metadata": {},
   "outputs": [],
   "source": [
    "def score(y_preds, y_true):\n",
    "    y_pred = y_preds.reshape(-1, 134)\n",
    "    mmse = forecast_loss(y_true, y_pred)\n",
    "    s = 0\n",
    "    for i in mmse:\n",
    "        s += i\n",
    "    return s/len(mmse)"
   ]
  },
  {
   "cell_type": "code",
   "execution_count": 6,
   "id": "3bc45c28-c30a-479f-96b4-0dab84859f84",
   "metadata": {
    "tags": []
   },
   "outputs": [],
   "source": [
    "def ra_test(a_0, b_0, y_true, r=1000):\n",
    "    \"\"\"randomization test\"\"\"\n",
    "    if len(a_0) != len(b_0):\n",
    "        print('Input A and B are not eaqul-sized!')\n",
    "        return\n",
    "    delta_s_rs = []\n",
    "    c = 0\n",
    "    n = len(a_0)\n",
    "    \n",
    "    \n",
    "    delta_s_0 = score(a_0, y_true) - score(b_0, y_true)\n",
    "    delta_s_0 = delta_s_0.numpy()\n",
    "    \n",
    "    for _ in tqdm(range(r)):\n",
    "        a_r = []\n",
    "        b_r = []\n",
    "        # shuffle\n",
    "        for i in range(n):\n",
    "            # swap\n",
    "            rn = random.randint(0, 1)\n",
    "            # swap\n",
    "            if rn == 0:\n",
    "                a_r.append(b_0[i])\n",
    "                b_r.append(a_0[i])\n",
    "            # do not swap\n",
    "            else:\n",
    "                a_r.append(a_0[i])\n",
    "                b_r.append(b_0[i])\n",
    "\n",
    "        a_r = np.array(a_r)\n",
    "        b_r = np.array(b_r)\n",
    "        delta_s_r = score(a_r, y_true) - score(b_r, y_true)\n",
    "        delta_s_r = delta_s_r.numpy()\n",
    "        # print(delta_s_r)\n",
    "        # print(abs(delta_s_r))\n",
    "        delta_s_rs.append(delta_s_r)\n",
    "        if abs(delta_s_r) >= abs(delta_s_0):\n",
    "            c += 1\n",
    "        \n",
    "    print(c)\n",
    "    p = c/r\n",
    "    print(delta_s_rs)\n",
    "    return p"
   ]
  },
  {
   "cell_type": "code",
   "execution_count": 7,
   "id": "d952a6da-452b-4966-82f3-2b7b9b5e1458",
   "metadata": {},
   "outputs": [],
   "source": [
    "baseline_path = 'randomization_test/data/baseline.pkl'\n",
    "baseline_data, var_to_ind = pickle.load(open(baseline_path, 'rb'))\n",
    "\n",
    "forecasting_preds = []\n",
    "\n",
    "# y_true for score\n",
    "y_true = []\n",
    "for y in baseline_data['forecasting_test_op']:\n",
    "    y_true.append(y)\n",
    "y_true = np.array(y_true)\n",
    "\n",
    "for pred in baseline_data['forecasting_pred']:\n",
    "    forecasting_preds.append(np.array(pred))\n",
    "\n",
    "forecasting_preds = np.array(forecasting_preds)\n",
    "x = forecasting_preds.flatten()\n",
    "del baseline_data, forecasting_preds"
   ]
  },
  {
   "cell_type": "code",
   "execution_count": 8,
   "id": "1e5ed889-108a-4882-a9e2-0ca12d99cfd6",
   "metadata": {},
   "outputs": [],
   "source": [
    "m_path = 'randomization_test/data/post_koll_exp_1_concat.pkl'\n",
    "m_data, var_to_ind_m = pickle.load(open(m_path, 'rb'))\n",
    "m_data\n",
    "\n",
    "forecasting_preds = []\n",
    "\n",
    "for pred in m_data['forecasting_pred']:\n",
    "    forecasting_preds.append(np.array(pred))\n",
    "\n",
    "forecasting_preds = np.array(forecasting_preds)\n",
    "\n",
    "y = forecasting_preds.flatten()\n",
    "del m_data, forecasting_preds"
   ]
  },
  {
   "cell_type": "code",
   "execution_count": 9,
   "id": "689a298a-deb8-4c15-b41e-367c43a8104d",
   "metadata": {},
   "outputs": [
    {
     "name": "stderr",
     "output_type": "stream",
     "text": [
      "2024-03-28 17:40:21.791936: I tensorflow/core/common_runtime/gpu/gpu_device.cc:1635] Created device /job:localhost/replica:0/task:0/device:GPU:0 with 31133 MB memory:  -> device: 0, name: Tesla V100-SXM2-32GB, pci bus id: 0000:3a:00.0, compute capability: 7.0\n",
      "2024-03-28 17:40:21.792549: I tensorflow/core/common_runtime/gpu/gpu_device.cc:1635] Created device /job:localhost/replica:0/task:0/device:GPU:1 with 31133 MB memory:  -> device: 1, name: Tesla V100-SXM2-32GB, pci bus id: 0000:b3:00.0, compute capability: 7.0\n",
      "100%|██████████| 100/100 [2:12:01<00:00, 79.21s/it] "
     ]
    },
    {
     "name": "stdout",
     "output_type": "stream",
     "text": [
      "6\n",
      "[-0.0037736221998070363, 0.011971172570126143, 0.019477066407849186, -0.0009982409435513873, 0.00854048137908503, -0.014566150598407823, -0.0070087153169478, 0.021640487768315175, -0.00605486373755415, 5.181206164373009e-05, 0.008703283118593141, -0.013514854488579253, -0.01002066104618482, 0.01485334238732694, 0.007361083450849293, -0.01660028475516473, 0.00416843724094651, 0.007273916700906824, 0.003051642525178977, 0.011584697327641003, 0.0035954165361404833, 0.00585384915163889, -0.0030549084156703543, 0.00017799269332030576, 0.003499833071546554, -0.009011254268732394, 0.007794708662363092, 0.001758005476308, -0.011218876023716184, 0.0127049762073419, -0.0077947116094563285, 0.00884325591481705, -0.008586504387380067, 0.007563656766691018, 0.011850664223140406, -0.008377322408751553, 0.002674841059910449, 0.014269794045158157, 0.01342713385715033, -0.007233579091922238, -0.0005797568188077307, 0.004306069685569014, 0.004601863877770285, -0.008018839256263455, -0.014431510286412319, -0.00402830398379983, -0.0062527838300940886, -0.006485566206665183, -0.006385426259536864, 0.00010156124201188277, -0.008570351637229301, -0.0022851547126387928, 0.003057196788120997, -0.010868136219680302, -0.0014607959023189565, 0.0019404079277896003, -0.002722063237208694, 0.009532778122503416, -0.003911274464084791, 0.002347532887213788, -0.012249582585066143, -0.010015692909340679, -0.0006815107892323979, -0.009416605292412505, 0.026894063034950122, -0.003224312978121091, -0.0010949884762183615, -0.0006631299297916726, 0.009809556363051364, 0.003314357472496532, -0.002898541029869861, 0.00715128087436856, 0.00568154394088527, 0.0018737865753353233, 0.011216846334030528, 0.0029079644353720013, 5.845697712558717e-05, 0.0046287095602171036, -0.0019496312235087743, 0.009602760357598328, 0.0034561593760704667, 0.013781375627401893, 0.0035473109655548285, -0.007983774383220954, -0.019182078368090494, -0.011990220773226312, 0.011640487758183049, 0.004672916585183984, -0.008957113945677442, 0.0014426241602096823, -0.0001268989626810324, -0.002352049602236228, -0.0017965077299750831, -0.007535090542567069, 0.002722579630436428, -0.013863634042842854, 0.004030219109719013, -0.009188190985979894, 0.006900250782305051, -0.0009988064761810023]\n"
     ]
    },
    {
     "name": "stderr",
     "output_type": "stream",
     "text": [
      "\n"
     ]
    },
    {
     "data": {
      "text/plain": [
       "0.06"
      ]
     },
     "execution_count": 9,
     "metadata": {},
     "output_type": "execute_result"
    }
   ],
   "source": [
    "p = ra_test(x, y, y_true = y_true, r=100)\n",
    "p"
   ]
  },
  {
   "cell_type": "code",
   "execution_count": 10,
   "id": "1688c01b-e9dd-45c6-b62c-dd17d09f5d02",
   "metadata": {
    "tags": []
   },
   "outputs": [
    {
     "data": {
      "text/plain": [
       "0.06"
      ]
     },
     "execution_count": 10,
     "metadata": {},
     "output_type": "execute_result"
    }
   ],
   "source": [
    "p"
   ]
  },
  {
   "cell_type": "code",
   "execution_count": 11,
   "id": "6c0303a8-ebf3-424a-8ef7-a37ef31fb71c",
   "metadata": {
    "tags": []
   },
   "outputs": [
    {
     "data": {
      "text/plain": [
       "0.06"
      ]
     },
     "execution_count": 11,
     "metadata": {},
     "output_type": "execute_result"
    }
   ],
   "source": [
    "p"
   ]
  }
 ],
 "metadata": {
  "kernelspec": {
   "display_name": "Python 3 (ipykernel)",
   "language": "python",
   "name": "python3"
  },
  "language_info": {
   "codemirror_mode": {
    "name": "ipython",
    "version": 3
   },
   "file_extension": ".py",
   "mimetype": "text/x-python",
   "name": "python",
   "nbconvert_exporter": "python",
   "pygments_lexer": "ipython3",
   "version": "3.9.16"
  }
 },
 "nbformat": 4,
 "nbformat_minor": 5
}
