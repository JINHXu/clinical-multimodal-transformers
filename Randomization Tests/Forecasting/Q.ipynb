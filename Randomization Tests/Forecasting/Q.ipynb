{
 "cells": [
  {
   "cell_type": "code",
   "execution_count": 1,
   "id": "2976a422-6168-40b7-ad6e-42dcd80f3b63",
   "metadata": {},
   "outputs": [
    {
     "name": "stderr",
     "output_type": "stream",
     "text": [
      "2024-02-07 13:43:07.833183: I tensorflow/core/util/port.cc:110] oneDNN custom operations are on. You may see slightly different numerical results due to floating-point round-off errors from different computation orders. To turn them off, set the environment variable `TF_ENABLE_ONEDNN_OPTS=0`.\n",
      "2024-02-07 13:43:07.877853: I tensorflow/core/platform/cpu_feature_guard.cc:182] This TensorFlow binary is optimized to use available CPU instructions in performance-critical operations.\n",
      "To enable the following instructions: AVX2 AVX512F AVX512_VNNI FMA, in other operations, rebuild TensorFlow with the appropriate compiler flags.\n",
      "2024-02-07 13:43:08.854116: W tensorflow/compiler/tf2tensorrt/utils/py_utils.cc:38] TF-TRT Warning: Could not find TensorRT\n"
     ]
    }
   ],
   "source": [
    "# from randtest import randtest\n",
    "import numpy as np\n",
    "import pandas\n",
    "import pickle\n",
    "from tqdm import tqdm\n",
    "import random\n",
    "import tensorflow.keras.backend as K"
   ]
  },
  {
   "cell_type": "code",
   "execution_count": 2,
   "id": "49d15073-4670-4c28-b2ea-5a53445cc3ad",
   "metadata": {
    "tags": []
   },
   "outputs": [
    {
     "name": "stdout",
     "output_type": "stream",
     "text": [
      "80\n"
     ]
    }
   ],
   "source": [
    "# check number of cores\n",
    "import multiprocessing\n",
    "\n",
    "cores = multiprocessing.cpu_count() \n",
    "print(cores)"
   ]
  },
  {
   "cell_type": "code",
   "execution_count": 3,
   "id": "618b2e4b-06a2-4f48-81f8-89f4414d4680",
   "metadata": {
    "tags": []
   },
   "outputs": [
    {
     "name": "stdout",
     "output_type": "stream",
     "text": [
      "/pfs/data5/home/hd/hd_hd/hd_nf283/MA_Thesis\n"
     ]
    }
   ],
   "source": [
    "cd /pfs/data5/home/hd/hd_hd/hd_nf283/MA_Thesis"
   ]
  },
  {
   "cell_type": "code",
   "execution_count": 4,
   "id": "40de3fb2-e597-4f25-af7b-b27618ed6894",
   "metadata": {},
   "outputs": [],
   "source": [
    "def forecast_loss(y_true, y_pred):\n",
    "    V=134\n",
    "    return K.sum(y_true[:,V:]*(y_true[:,:V]-y_pred)**2, axis=-1)"
   ]
  },
  {
   "cell_type": "code",
   "execution_count": 5,
   "id": "3f202155-a8d0-4390-ad35-6b50212edc56",
   "metadata": {},
   "outputs": [],
   "source": [
    "def score(y_preds, y_true):\n",
    "    y_pred = y_preds.reshape(-1, 134)\n",
    "    mmse = forecast_loss(y_true, y_pred)\n",
    "    s = 0\n",
    "    for i in mmse:\n",
    "        s += i\n",
    "    return s/len(mmse)"
   ]
  },
  {
   "cell_type": "code",
   "execution_count": 6,
   "id": "3bc45c28-c30a-479f-96b4-0dab84859f84",
   "metadata": {
    "tags": []
   },
   "outputs": [],
   "source": [
    "def ra_test(a_0, b_0, y_true, r=1000):\n",
    "    \"\"\"randomization test\"\"\"\n",
    "    if len(a_0) != len(b_0):\n",
    "        print('Input A and B are not eaqul-sized!')\n",
    "        return\n",
    "    delta_s_rs = []\n",
    "    c = 0\n",
    "    n = len(a_0)\n",
    "    \n",
    "    \n",
    "    delta_s_0 = score(a_0, y_true) - score(b_0, y_true)\n",
    "    delta_s_0 = delta_s_0.numpy()\n",
    "    \n",
    "    for _ in tqdm(range(r)):\n",
    "        a_r = []\n",
    "        b_r = []\n",
    "        # shuffle\n",
    "        for i in range(n):\n",
    "            # swap\n",
    "            rn = random.randint(0, 1)\n",
    "            # swap\n",
    "            if rn == 0:\n",
    "                a_r.append(b_0[i])\n",
    "                b_r.append(a_0[i])\n",
    "            # do not swap\n",
    "            else:\n",
    "                a_r.append(a_0[i])\n",
    "                b_r.append(b_0[i])\n",
    "\n",
    "        a_r = np.array(a_r)\n",
    "        b_r = np.array(b_r)\n",
    "        delta_s_r = score(a_r, y_true) - score(b_r, y_true)\n",
    "        delta_s_r = delta_s_r.numpy()\n",
    "        # print(delta_s_r)\n",
    "        # print(abs(delta_s_r))\n",
    "        delta_s_rs.append(delta_s_r)\n",
    "        if abs(delta_s_r) >= abs(delta_s_0):\n",
    "            c += 1\n",
    "        \n",
    "    print(c)\n",
    "    p = c/r\n",
    "    print(delta_s_rs)\n",
    "    return p"
   ]
  },
  {
   "cell_type": "code",
   "execution_count": 7,
   "id": "d952a6da-452b-4966-82f3-2b7b9b5e1458",
   "metadata": {},
   "outputs": [],
   "source": [
    "baseline_path = 'randomization_test/data/baseline.pkl'\n",
    "baseline_data, var_to_ind = pickle.load(open(baseline_path, 'rb'))\n",
    "\n",
    "forecasting_preds = []\n",
    "\n",
    "# y_true for score\n",
    "y_true = []\n",
    "for y in baseline_data['forecasting_test_op']:\n",
    "    y_true.append(y)\n",
    "y_true = np.array(y_true)\n",
    "\n",
    "for pred in baseline_data['forecasting_pred']:\n",
    "    forecasting_preds.append(np.array(pred))\n",
    "\n",
    "forecasting_preds = np.array(forecasting_preds)\n",
    "x = forecasting_preds.flatten()\n",
    "del baseline_data, forecasting_preds"
   ]
  },
  {
   "cell_type": "code",
   "execution_count": 8,
   "id": "1e5ed889-108a-4882-a9e2-0ca12d99cfd6",
   "metadata": {},
   "outputs": [],
   "source": [
    "m_path = 'randomization_test/data/q.pkl'\n",
    "m_data, var_to_ind_m = pickle.load(open(m_path, 'rb'))\n",
    "m_data\n",
    "\n",
    "forecasting_preds = []\n",
    "\n",
    "for pred in m_data['forecasting_pred']:\n",
    "    forecasting_preds.append(np.array(pred))\n",
    "\n",
    "forecasting_preds = np.array(forecasting_preds)\n",
    "\n",
    "y = forecasting_preds.flatten()\n",
    "del m_data, forecasting_preds"
   ]
  },
  {
   "cell_type": "code",
   "execution_count": 9,
   "id": "689a298a-deb8-4c15-b41e-367c43a8104d",
   "metadata": {},
   "outputs": [
    {
     "name": "stderr",
     "output_type": "stream",
     "text": [
      "2024-02-07 13:43:24.449487: I tensorflow/core/common_runtime/gpu/gpu_device.cc:1635] Created device /job:localhost/replica:0/task:0/device:GPU:0 with 31133 MB memory:  -> device: 0, name: Tesla V100-SXM2-32GB, pci bus id: 0000:3a:00.0, compute capability: 7.0\n",
      "2024-02-07 13:43:24.450099: I tensorflow/core/common_runtime/gpu/gpu_device.cc:1635] Created device /job:localhost/replica:0/task:0/device:GPU:1 with 31133 MB memory:  -> device: 1, name: Tesla V100-SXM2-32GB, pci bus id: 0000:3b:00.0, compute capability: 7.0\n",
      "2024-02-07 13:43:24.450583: I tensorflow/core/common_runtime/gpu/gpu_device.cc:1635] Created device /job:localhost/replica:0/task:0/device:GPU:2 with 31132 MB memory:  -> device: 2, name: Tesla V100-SXM2-32GB, pci bus id: 0000:b2:00.0, compute capability: 7.0\n",
      "2024-02-07 13:43:24.451071: I tensorflow/core/common_runtime/gpu/gpu_device.cc:1635] Created device /job:localhost/replica:0/task:0/device:GPU:3 with 31093 MB memory:  -> device: 3, name: Tesla V100-SXM2-32GB, pci bus id: 0000:b3:00.0, compute capability: 7.0\n",
      "100%|██████████| 100/100 [2:14:36<00:00, 80.77s/it] "
     ]
    },
    {
     "name": "stdout",
     "output_type": "stream",
     "text": [
      "0\n",
      "[0.013315891838302285, -0.004048648783548714, -0.0041472115667238185, 0.006990736288887689, -0.0036727283288646717, 0.0117097382126774, -0.0007765551803853299, -0.008197311961638754, -0.00826926796103411, 0.006067661204118835, -0.0018702656192424172, 0.007587564720314965, 0.005995579499496806, 0.0011161884083152884, -0.03803264957163588, -0.005656828002629233, 0.008793879049802555, -0.0034130990133629524, -0.0082469970572987, 0.017556619364621717, -0.005100056095116656, -0.02206312692229684, -0.01949410900484949, 0.014003039627534797, 0.0032474755073392814, 8.076072646989729e-05, 0.010371685597848845, 0.012984133610512316, -0.0015830059500201443, -0.010754674298038225, -0.002395725174032748, -0.008906059304636393, -0.0012585905031157196, 0.01923378625143357, 0.003648058917468333, 0.010532528276047337, -0.005442355812187216, -0.0029809712437680602, 0.007131876424285366, -0.01939559042562511, 0.010470092902606254, 0.00415731950949727, -0.009582210676879477, 0.0172526475027297, -0.0006388323576764776, -0.006047966341269806, -0.010483055042206146, -0.009931586005399673, 0.019478990751895076, -0.00894275526323085, -0.0021634530988379197, 0.014708004104770467, -0.011168927421758568, 0.0009942688855808512, -0.006435251724958846, -0.00966972224461582, -0.006753009121347908, 0.018909114722812426, -0.009806729709720408, -0.002005572549796497, -0.019998489499073457, 0.004891207146760834, 0.008380691983095545, 0.0014607242642279417, 0.007883838831415524, 9.512312551063218e-05, -0.004734447562876554, -0.004891741911038139, 0.008286531920577822, 0.029714635040463122, 0.002222582028427844, 0.018484370758200086, -0.014241608579119713, 0.009542715278295866, 0.013905470409752319, -0.0011669509642775466, 0.010122427704304826, -0.0002806733716713694, -0.012685919030797521, -0.011898048280460038, -0.01225914565234909, -0.004051524085777025, 0.004184984370988687, -0.018044173907231453, 0.012352548674915198, 0.007219377826380047, 0.012772112929007484, 0.011721307023323746, -0.015767350942710756, -0.005121907977229334, -0.002455319279572876, 0.012929136824642917, 0.008795891669449496, -0.02479927595319875, -0.0031162273268341423, 0.0069676933270539365, 0.003954396977578156, 0.016746579140939133, 0.015977992805593644, 0.0016077308233111154]\n"
     ]
    },
    {
     "name": "stderr",
     "output_type": "stream",
     "text": [
      "\n"
     ]
    },
    {
     "data": {
      "text/plain": [
       "0.0"
      ]
     },
     "execution_count": 9,
     "metadata": {},
     "output_type": "execute_result"
    }
   ],
   "source": [
    "p = ra_test(x, y, y_true = y_true, r=100)\n",
    "p"
   ]
  }
 ],
 "metadata": {
  "kernelspec": {
   "display_name": "Python 3 (ipykernel)",
   "language": "python",
   "name": "python3"
  },
  "language_info": {
   "codemirror_mode": {
    "name": "ipython",
    "version": 3
   },
   "file_extension": ".py",
   "mimetype": "text/x-python",
   "name": "python",
   "nbconvert_exporter": "python",
   "pygments_lexer": "ipython3",
   "version": "3.9.16"
  }
 },
 "nbformat": 4,
 "nbformat_minor": 5
}
