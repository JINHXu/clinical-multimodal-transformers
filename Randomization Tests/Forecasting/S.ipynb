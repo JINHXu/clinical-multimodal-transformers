{
 "cells": [
  {
   "cell_type": "code",
   "execution_count": 1,
   "id": "2976a422-6168-40b7-ad6e-42dcd80f3b63",
   "metadata": {},
   "outputs": [
    {
     "name": "stderr",
     "output_type": "stream",
     "text": [
      "2024-02-07 13:43:27.163030: I tensorflow/core/util/port.cc:110] oneDNN custom operations are on. You may see slightly different numerical results due to floating-point round-off errors from different computation orders. To turn them off, set the environment variable `TF_ENABLE_ONEDNN_OPTS=0`.\n",
      "2024-02-07 13:43:27.208369: I tensorflow/core/platform/cpu_feature_guard.cc:182] This TensorFlow binary is optimized to use available CPU instructions in performance-critical operations.\n",
      "To enable the following instructions: AVX2 AVX512F AVX512_VNNI FMA, in other operations, rebuild TensorFlow with the appropriate compiler flags.\n",
      "2024-02-07 13:43:28.142717: W tensorflow/compiler/tf2tensorrt/utils/py_utils.cc:38] TF-TRT Warning: Could not find TensorRT\n"
     ]
    }
   ],
   "source": [
    "# from randtest import randtest\n",
    "import numpy as np\n",
    "import pandas\n",
    "import pickle\n",
    "from tqdm import tqdm\n",
    "import random\n",
    "import tensorflow.keras.backend as K"
   ]
  },
  {
   "cell_type": "code",
   "execution_count": 2,
   "id": "49d15073-4670-4c28-b2ea-5a53445cc3ad",
   "metadata": {
    "tags": []
   },
   "outputs": [
    {
     "name": "stdout",
     "output_type": "stream",
     "text": [
      "80\n"
     ]
    }
   ],
   "source": [
    "# check number of cores\n",
    "import multiprocessing\n",
    "\n",
    "cores = multiprocessing.cpu_count() \n",
    "print(cores)"
   ]
  },
  {
   "cell_type": "code",
   "execution_count": 3,
   "id": "618b2e4b-06a2-4f48-81f8-89f4414d4680",
   "metadata": {
    "tags": []
   },
   "outputs": [
    {
     "name": "stdout",
     "output_type": "stream",
     "text": [
      "/pfs/data5/home/hd/hd_hd/hd_nf283/MA_Thesis\n"
     ]
    }
   ],
   "source": [
    "cd /pfs/data5/home/hd/hd_hd/hd_nf283/MA_Thesis"
   ]
  },
  {
   "cell_type": "code",
   "execution_count": 4,
   "id": "40de3fb2-e597-4f25-af7b-b27618ed6894",
   "metadata": {},
   "outputs": [],
   "source": [
    "def forecast_loss(y_true, y_pred):\n",
    "    V=134\n",
    "    return K.sum(y_true[:,V:]*(y_true[:,:V]-y_pred)**2, axis=-1)"
   ]
  },
  {
   "cell_type": "code",
   "execution_count": 5,
   "id": "3f202155-a8d0-4390-ad35-6b50212edc56",
   "metadata": {},
   "outputs": [],
   "source": [
    "def score(y_preds, y_true):\n",
    "    y_pred = y_preds.reshape(-1, 134)\n",
    "    mmse = forecast_loss(y_true, y_pred)\n",
    "    s = 0\n",
    "    for i in mmse:\n",
    "        s += i\n",
    "    return s/len(mmse)"
   ]
  },
  {
   "cell_type": "code",
   "execution_count": 6,
   "id": "3bc45c28-c30a-479f-96b4-0dab84859f84",
   "metadata": {
    "tags": []
   },
   "outputs": [],
   "source": [
    "def ra_test(a_0, b_0, y_true, r=1000):\n",
    "    \"\"\"randomization test\"\"\"\n",
    "    if len(a_0) != len(b_0):\n",
    "        print('Input A and B are not eaqul-sized!')\n",
    "        return\n",
    "    delta_s_rs = []\n",
    "    c = 0\n",
    "    n = len(a_0)\n",
    "    \n",
    "    \n",
    "    delta_s_0 = score(a_0, y_true) - score(b_0, y_true)\n",
    "    delta_s_0 = delta_s_0.numpy()\n",
    "    \n",
    "    for _ in tqdm(range(r)):\n",
    "        a_r = []\n",
    "        b_r = []\n",
    "        # shuffle\n",
    "        for i in range(n):\n",
    "            # swap\n",
    "            rn = random.randint(0, 1)\n",
    "            # swap\n",
    "            if rn == 0:\n",
    "                a_r.append(b_0[i])\n",
    "                b_r.append(a_0[i])\n",
    "            # do not swap\n",
    "            else:\n",
    "                a_r.append(a_0[i])\n",
    "                b_r.append(b_0[i])\n",
    "\n",
    "        a_r = np.array(a_r)\n",
    "        b_r = np.array(b_r)\n",
    "        delta_s_r = score(a_r, y_true) - score(b_r, y_true)\n",
    "        delta_s_r = delta_s_r.numpy()\n",
    "        # print(delta_s_r)\n",
    "        # print(abs(delta_s_r))\n",
    "        delta_s_rs.append(delta_s_r)\n",
    "        if abs(delta_s_r) >= abs(delta_s_0):\n",
    "            c += 1\n",
    "        \n",
    "    print(c)\n",
    "    p = c/r\n",
    "    print(delta_s_rs)\n",
    "    return p"
   ]
  },
  {
   "cell_type": "code",
   "execution_count": 7,
   "id": "d952a6da-452b-4966-82f3-2b7b9b5e1458",
   "metadata": {},
   "outputs": [],
   "source": [
    "baseline_path = 'randomization_test/data/baseline.pkl'\n",
    "baseline_data, var_to_ind = pickle.load(open(baseline_path, 'rb'))\n",
    "\n",
    "forecasting_preds = []\n",
    "\n",
    "# y_true for score\n",
    "y_true = []\n",
    "for y in baseline_data['forecasting_test_op']:\n",
    "    y_true.append(y)\n",
    "y_true = np.array(y_true)\n",
    "\n",
    "for pred in baseline_data['forecasting_pred']:\n",
    "    forecasting_preds.append(np.array(pred))\n",
    "\n",
    "forecasting_preds = np.array(forecasting_preds)\n",
    "x = forecasting_preds.flatten()\n",
    "del baseline_data, forecasting_preds"
   ]
  },
  {
   "cell_type": "code",
   "execution_count": 8,
   "id": "1e5ed889-108a-4882-a9e2-0ca12d99cfd6",
   "metadata": {},
   "outputs": [],
   "source": [
    "m_path = 'randomization_test/data/s.pkl'\n",
    "m_data, var_to_ind_m = pickle.load(open(m_path, 'rb'))\n",
    "m_data\n",
    "\n",
    "forecasting_preds = []\n",
    "\n",
    "for pred in m_data['forecasting_pred']:\n",
    "    forecasting_preds.append(np.array(pred))\n",
    "\n",
    "forecasting_preds = np.array(forecasting_preds)\n",
    "\n",
    "y = forecasting_preds.flatten()\n",
    "del m_data, forecasting_preds"
   ]
  },
  {
   "cell_type": "code",
   "execution_count": 9,
   "id": "689a298a-deb8-4c15-b41e-367c43a8104d",
   "metadata": {},
   "outputs": [
    {
     "name": "stderr",
     "output_type": "stream",
     "text": [
      "2024-02-07 13:43:43.633031: I tensorflow/core/common_runtime/gpu/gpu_device.cc:1635] Created device /job:localhost/replica:0/task:0/device:GPU:0 with 516 MB memory:  -> device: 0, name: Tesla V100-SXM2-32GB, pci bus id: 0000:3a:00.0, compute capability: 7.0\n",
      "2024-02-07 13:43:43.633677: I tensorflow/core/common_runtime/gpu/gpu_device.cc:1635] Created device /job:localhost/replica:0/task:0/device:GPU:1 with 30827 MB memory:  -> device: 1, name: Tesla V100-SXM2-32GB, pci bus id: 0000:3b:00.0, compute capability: 7.0\n",
      "2024-02-07 13:43:43.634178: I tensorflow/core/common_runtime/gpu/gpu_device.cc:1635] Created device /job:localhost/replica:0/task:0/device:GPU:2 with 30826 MB memory:  -> device: 2, name: Tesla V100-SXM2-32GB, pci bus id: 0000:b2:00.0, compute capability: 7.0\n",
      "2024-02-07 13:43:43.634663: I tensorflow/core/common_runtime/gpu/gpu_device.cc:1635] Created device /job:localhost/replica:0/task:0/device:GPU:3 with 30787 MB memory:  -> device: 3, name: Tesla V100-SXM2-32GB, pci bus id: 0000:b3:00.0, compute capability: 7.0\n",
      "100%|██████████| 100/100 [2:15:41<00:00, 81.41s/it] "
     ]
    },
    {
     "name": "stdout",
     "output_type": "stream",
     "text": [
      "0\n",
      "[0.016542159342588292, 0.0071359718272505646, -0.012157206872321247, -0.019223915104670475, -0.008961616173090547, 0.004475069735899062, 0.0010179753522532309, -0.013590786202734684, -0.007410581427461871, 0.011623119126087822, -0.004635961324759741, 0.008168832919581703, 0.024894898084902195, -0.0018297435773986237, -0.0008316420599152607, 0.0038530324534784555, -0.004999351167288779, -0.006500257948133914, -0.0021547665942964755, -0.006576580679246824, -0.004353689786639414, -0.015094735518711211, 0.014210599491784492, -0.0017310921466817675, -0.020279610209269272, -0.002847751665937537, -0.008011747776153655, 0.0064516807621206596, -0.0007366644325124128, -0.021069103810270384, 0.011046402252675058, -0.004794582781919132, 0.01356663147051762, 0.001889852975971884, -0.01983887547973051, 0.005960171926200353, -0.011061076607585818, -0.009763563424252553, -0.0031244781480772588, -0.0016595198393645205, 0.0012722077311666524, -0.0032477644594894883, -0.008374749812085192, -0.006696362256909616, 0.0009684693576295089, 0.0009119555676049274, 0.019794847095333523, -0.0027932644162786957, 0.011133107807535403, 0.011430004781178837, 0.004266669821528346, 0.0071871753918726355, 0.010234939956105471, 0.019618005562046292, -0.015623996670334428, 0.0032999594530931375, 0.0013630384175220556, -0.0020945925701481016, -0.0006593790389448628, 0.008156177458963576, 0.004571930664323709, 0.00780175705889441, -0.01747438635309706, -0.012742453823533673, -0.010775563128488486, 0.0042745040289604574, -0.004800047813565023, 0.0041527918692958465, -0.016244867637387195, 0.006390348557815173, 0.0033905546756312077, -0.010679576505824073, -0.005288192623977395, -0.0053451413771519185, -0.014092220202052808, -0.001936573160703503, 0.005363358105581639, 0.004408897072839757, -0.011295597335911012, -0.008603677414399158, 0.002314021162556301, -0.0007012603227529723, -0.00021696058610487512, 0.008686791644687553, 0.00840542644436848, -0.0033021516677322893, 0.00035044819003093863, -0.005132534189065119, -0.0002054495544987489, 0.00998990828505164, 0.004617822400185823, -0.004746154443707518, -0.004001594396971342, 0.008660882476592136, -0.0024596188613781322, 0.010010019132743686, -0.0008646004220009829, 0.011829727065507, -0.0033141550148148013, 0.004383953326675183]\n"
     ]
    },
    {
     "name": "stderr",
     "output_type": "stream",
     "text": [
      "\n"
     ]
    },
    {
     "data": {
      "text/plain": [
       "0.0"
      ]
     },
     "execution_count": 9,
     "metadata": {},
     "output_type": "execute_result"
    }
   ],
   "source": [
    "p = ra_test(x, y, y_true = y_true, r=100)\n",
    "p"
   ]
  }
 ],
 "metadata": {
  "kernelspec": {
   "display_name": "Python 3 (ipykernel)",
   "language": "python",
   "name": "python3"
  },
  "language_info": {
   "codemirror_mode": {
    "name": "ipython",
    "version": 3
   },
   "file_extension": ".py",
   "mimetype": "text/x-python",
   "name": "python",
   "nbconvert_exporter": "python",
   "pygments_lexer": "ipython3",
   "version": "3.9.7"
  }
 },
 "nbformat": 4,
 "nbformat_minor": 5
}
