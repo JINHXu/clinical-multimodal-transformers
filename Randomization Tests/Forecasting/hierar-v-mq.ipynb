{
 "cells": [
  {
   "cell_type": "code",
   "execution_count": 1,
   "id": "2976a422-6168-40b7-ad6e-42dcd80f3b63",
   "metadata": {},
   "outputs": [
    {
     "name": "stderr",
     "output_type": "stream",
     "text": [
      "2024-06-25 09:50:45.396030: I tensorflow/core/util/port.cc:110] oneDNN custom operations are on. You may see slightly different numerical results due to floating-point round-off errors from different computation orders. To turn them off, set the environment variable `TF_ENABLE_ONEDNN_OPTS=0`.\n",
      "2024-06-25 09:50:46.277702: I tensorflow/core/platform/cpu_feature_guard.cc:182] This TensorFlow binary is optimized to use available CPU instructions in performance-critical operations.\n",
      "To enable the following instructions: AVX2 AVX512F AVX512_VNNI FMA, in other operations, rebuild TensorFlow with the appropriate compiler flags.\n",
      "2024-06-25 09:50:56.351177: W tensorflow/compiler/tf2tensorrt/utils/py_utils.cc:38] TF-TRT Warning: Could not find TensorRT\n"
     ]
    }
   ],
   "source": [
    "# from randtest import randtest\n",
    "import numpy as np\n",
    "import pandas\n",
    "import pickle\n",
    "from tqdm import tqdm\n",
    "import random\n",
    "import tensorflow.keras.backend as K"
   ]
  },
  {
   "cell_type": "code",
   "execution_count": 2,
   "id": "49d15073-4670-4c28-b2ea-5a53445cc3ad",
   "metadata": {
    "tags": []
   },
   "outputs": [
    {
     "name": "stdout",
     "output_type": "stream",
     "text": [
      "80\n"
     ]
    }
   ],
   "source": [
    "# check number of cores\n",
    "import multiprocessing\n",
    "\n",
    "cores = multiprocessing.cpu_count() \n",
    "print(cores)"
   ]
  },
  {
   "cell_type": "code",
   "execution_count": 3,
   "id": "618b2e4b-06a2-4f48-81f8-89f4414d4680",
   "metadata": {
    "tags": []
   },
   "outputs": [
    {
     "name": "stdout",
     "output_type": "stream",
     "text": [
      "/pfs/data5/home/hd/hd_hd/hd_nf283/MA_Thesis\n"
     ]
    }
   ],
   "source": [
    "cd /pfs/data5/home/hd/hd_hd/hd_nf283/MA_Thesis"
   ]
  },
  {
   "cell_type": "code",
   "execution_count": 4,
   "id": "40de3fb2-e597-4f25-af7b-b27618ed6894",
   "metadata": {},
   "outputs": [],
   "source": [
    "def forecast_loss(y_true, y_pred):\n",
    "    V=134\n",
    "    return K.sum(y_true[:,V:]*(y_true[:,:V]-y_pred)**2, axis=-1)"
   ]
  },
  {
   "cell_type": "code",
   "execution_count": 5,
   "id": "3f202155-a8d0-4390-ad35-6b50212edc56",
   "metadata": {},
   "outputs": [],
   "source": [
    "def score(y_preds, y_true):\n",
    "    y_pred = y_preds.reshape(-1, 134)\n",
    "    mmse = forecast_loss(y_true, y_pred)\n",
    "    s = 0\n",
    "    for i in mmse:\n",
    "        s += i\n",
    "    return s/len(mmse)"
   ]
  },
  {
   "cell_type": "code",
   "execution_count": 6,
   "id": "3bc45c28-c30a-479f-96b4-0dab84859f84",
   "metadata": {
    "tags": []
   },
   "outputs": [],
   "source": [
    "def ra_test(a_0, b_0, y_true, r=1000):\n",
    "    \"\"\"randomization test\"\"\"\n",
    "    if len(a_0) != len(b_0):\n",
    "        print('Input A and B are not eaqul-sized!')\n",
    "        return\n",
    "    delta_s_rs = []\n",
    "    c = 0\n",
    "    n = len(a_0)\n",
    "    \n",
    "    \n",
    "    delta_s_0 = score(a_0, y_true) - score(b_0, y_true)\n",
    "    delta_s_0 = delta_s_0.numpy()\n",
    "    \n",
    "    for _ in tqdm(range(r)):\n",
    "        a_r = []\n",
    "        b_r = []\n",
    "        # shuffle\n",
    "        for i in range(n):\n",
    "            # swap\n",
    "            rn = random.randint(0, 1)\n",
    "            # swap\n",
    "            if rn == 0:\n",
    "                a_r.append(b_0[i])\n",
    "                b_r.append(a_0[i])\n",
    "            # do not swap\n",
    "            else:\n",
    "                a_r.append(a_0[i])\n",
    "                b_r.append(b_0[i])\n",
    "\n",
    "        a_r = np.array(a_r)\n",
    "        b_r = np.array(b_r)\n",
    "        delta_s_r = score(a_r, y_true) - score(b_r, y_true)\n",
    "        delta_s_r = delta_s_r.numpy()\n",
    "        # print(delta_s_r)\n",
    "        # print(abs(delta_s_r))\n",
    "        delta_s_rs.append(delta_s_r)\n",
    "        if abs(delta_s_r) >= abs(delta_s_0):\n",
    "            c += 1\n",
    "        \n",
    "    print(c)\n",
    "    p = c/r\n",
    "    print(delta_s_rs)\n",
    "    return p"
   ]
  },
  {
   "cell_type": "code",
   "execution_count": 7,
   "id": "d952a6da-452b-4966-82f3-2b7b9b5e1458",
   "metadata": {},
   "outputs": [],
   "source": [
    "baseline_path = 'randomization_test/data/cls_q_m.pkl'\n",
    "baseline_data, var_to_ind = pickle.load(open(baseline_path, 'rb'))\n",
    "\n",
    "forecasting_preds = []\n",
    "\n",
    "# y_true for score\n",
    "y_true = []\n",
    "for y in baseline_data['forecasting_test_op']:\n",
    "    y_true.append(y)\n",
    "y_true = np.array(y_true)\n",
    "\n",
    "for pred in baseline_data['forecasting_pred']:\n",
    "    forecasting_preds.append(np.array(pred))\n",
    "\n",
    "forecasting_preds = np.array(forecasting_preds)\n",
    "x = forecasting_preds.flatten()\n",
    "del baseline_data, forecasting_preds"
   ]
  },
  {
   "cell_type": "code",
   "execution_count": 8,
   "id": "1e5ed889-108a-4882-a9e2-0ca12d99cfd6",
   "metadata": {},
   "outputs": [],
   "source": [
    "m_path = 'randomization_test/data/hierar.pkl'\n",
    "m_data, var_to_ind_m = pickle.load(open(m_path, 'rb'))\n",
    "m_data\n",
    "\n",
    "forecasting_preds = []\n",
    "\n",
    "for pred in m_data['forecasting_pred']:\n",
    "    forecasting_preds.append(np.array(pred))\n",
    "\n",
    "forecasting_preds = np.array(forecasting_preds)\n",
    "\n",
    "y = forecasting_preds.flatten()\n",
    "del m_data, forecasting_preds"
   ]
  },
  {
   "cell_type": "code",
   "execution_count": 9,
   "id": "689a298a-deb8-4c15-b41e-367c43a8104d",
   "metadata": {},
   "outputs": [
    {
     "name": "stderr",
     "output_type": "stream",
     "text": [
      "2024-06-25 09:51:30.720964: I tensorflow/core/common_runtime/gpu/gpu_device.cc:1635] Created device /job:localhost/replica:0/task:0/device:GPU:0 with 31117 MB memory:  -> device: 0, name: Tesla V100-SXM2-32GB, pci bus id: 0000:b2:00.0, compute capability: 7.0\n",
      "100%|██████████| 100/100 [2:16:39<00:00, 82.00s/it] "
     ]
    },
    {
     "name": "stdout",
     "output_type": "stream",
     "text": [
      "21\n",
      "[0.012896317169211358, 0.0033897754607217223, -0.007640446691453917, -0.0058756094390677305, 0.004282173720937976, -0.010384700209346676, 0.000909183677364922, 0.01279929261696644, 0.00731911332151558, 0.0006555335839770748, -0.004753405209608985, 0.006766261440877663, 0.0019489664069354262, -0.0008437497742654898, -0.009017535713459424, -0.008792560457801635, -0.009173618396295602, -0.0035477831286527817, 0.0025987276034564744, -0.007348283071960893, 0.010082925630481299, 0.0036627079986466526, 0.0015137410544179275, 0.015274419485027835, 1.4109953755614413e-05, -0.027895480014477947, 0.004331109608063599, 0.008848585288348865, 0.005738781052383679, -0.015325594567722867, 0.008704920965959317, -7.98580073624322e-06, 0.0011805690288975157, -0.013554799043443033, -0.006234833686902697, -0.010338601696796346, 0.011734420136067847, -0.006096185180878955, 0.00021074514807395417, 0.006118251215493586, 0.015559482471177333, -0.023335944672388642, -0.005590889898390294, 0.003406651151399487, -0.0033184139872499685, 0.007181615654710427, 0.004057185552171383, 0.018253601681604614, -0.006908839511551967, -0.004259761518171423, 0.005229024380066782, -0.003723708323948749, -0.0005830510661892774, -0.005404892472536282, -0.01311001066767048, 0.01788278558576284, -0.0003367328611441067, -0.011829722655773978, -0.012694207673915159, 0.009613990325387789, 0.020601414748173674, -0.0047161753363322845, -0.00490427684308159, -0.004483906504290758, 0.000856701267507809, -0.006036818669048927, -0.0034263719833429462, -0.003410925744510962, 0.006087538641756929, 0.009109173089753675, -0.0023684773525456393, 0.009050256719842054, -0.002605191044838584, -0.0017928481896962722, 0.0101962293469251, -0.00877835970087748, 0.00399506778383607, 0.005286196774356711, 0.006836134748922973, -0.0049481331777894155, -0.006586531357169356, 0.003606946079738549, 0.012211259195763269, 0.015480958158077485, 0.0037937877870346526, -0.002487389365116499, 0.011483286918593016, 0.010090648463677354, 0.016927503432500934, 0.0007383469496291539, -0.006744896246260623, -0.001748537964993524, -0.01922491718753694, -0.005625332842376984, 0.013577549824674406, -0.0014771995743743105, 0.0031918179056402707, 0.0037009698479293363, -0.004151313874784179, 0.001840756839654567]\n"
     ]
    },
    {
     "name": "stderr",
     "output_type": "stream",
     "text": [
      "\n"
     ]
    },
    {
     "data": {
      "text/plain": [
       "0.21"
      ]
     },
     "execution_count": 9,
     "metadata": {},
     "output_type": "execute_result"
    }
   ],
   "source": [
    "p = ra_test(x, y, y_true = y_true, r=100)\n",
    "p"
   ]
  },
  {
   "cell_type": "code",
   "execution_count": 10,
   "id": "b7bfde78-4d6d-493e-951e-ae3de9357f37",
   "metadata": {
    "tags": []
   },
   "outputs": [
    {
     "data": {
      "text/plain": [
       "0.21"
      ]
     },
     "execution_count": 10,
     "metadata": {},
     "output_type": "execute_result"
    }
   ],
   "source": [
    "p"
   ]
  },
  {
   "cell_type": "code",
   "execution_count": 11,
   "id": "b6098657-9b6d-4d8e-80fa-df4201d91795",
   "metadata": {
    "tags": []
   },
   "outputs": [
    {
     "data": {
      "text/plain": [
       "0.21"
      ]
     },
     "execution_count": 11,
     "metadata": {},
     "output_type": "execute_result"
    }
   ],
   "source": [
    "p"
   ]
  }
 ],
 "metadata": {
  "kernelspec": {
   "display_name": "Python 3 (ipykernel)",
   "language": "python",
   "name": "python3"
  },
  "language_info": {
   "codemirror_mode": {
    "name": "ipython",
    "version": 3
   },
   "file_extension": ".py",
   "mimetype": "text/x-python",
   "name": "python",
   "nbconvert_exporter": "python",
   "pygments_lexer": "ipython3",
   "version": "3.9.16"
  }
 },
 "nbformat": 4,
 "nbformat_minor": 5
}
