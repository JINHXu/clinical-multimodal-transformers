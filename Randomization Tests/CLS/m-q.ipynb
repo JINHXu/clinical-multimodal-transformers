{
 "cells": [
  {
   "cell_type": "code",
   "execution_count": 1,
   "id": "2976a422-6168-40b7-ad6e-42dcd80f3b63",
   "metadata": {},
   "outputs": [
    {
     "name": "stderr",
     "output_type": "stream",
     "text": [
      "2024-07-29 12:54:08.705388: I tensorflow/core/util/port.cc:110] oneDNN custom operations are on. You may see slightly different numerical results due to floating-point round-off errors from different computation orders. To turn them off, set the environment variable `TF_ENABLE_ONEDNN_OPTS=0`.\n",
      "2024-07-29 12:54:08.750363: I tensorflow/core/platform/cpu_feature_guard.cc:182] This TensorFlow binary is optimized to use available CPU instructions in performance-critical operations.\n",
      "To enable the following instructions: AVX2 AVX512F AVX512_VNNI FMA, in other operations, rebuild TensorFlow with the appropriate compiler flags.\n",
      "2024-07-29 12:54:09.788527: W tensorflow/compiler/tf2tensorrt/utils/py_utils.cc:38] TF-TRT Warning: Could not find TensorRT\n"
     ]
    }
   ],
   "source": [
    "# from randtest import randtest\n",
    "import numpy as np\n",
    "import pandas\n",
    "import pickle\n",
    "from tqdm import tqdm\n",
    "import random\n",
    "import tensorflow.keras.backend as K"
   ]
  },
  {
   "cell_type": "code",
   "execution_count": 2,
   "id": "49d15073-4670-4c28-b2ea-5a53445cc3ad",
   "metadata": {
    "tags": []
   },
   "outputs": [
    {
     "name": "stdout",
     "output_type": "stream",
     "text": [
      "80\n"
     ]
    }
   ],
   "source": [
    "# check number of cores\n",
    "import multiprocessing\n",
    "\n",
    "cores = multiprocessing.cpu_count() \n",
    "print(cores)"
   ]
  },
  {
   "cell_type": "code",
   "execution_count": 3,
   "id": "618b2e4b-06a2-4f48-81f8-89f4414d4680",
   "metadata": {
    "tags": []
   },
   "outputs": [
    {
     "name": "stdout",
     "output_type": "stream",
     "text": [
      "/pfs/data5/home/hd/hd_hd/hd_nf283/MA_Thesis\n"
     ]
    }
   ],
   "source": [
    "cd /pfs/data5/home/hd/hd_hd/hd_nf283/MA_Thesis"
   ]
  },
  {
   "cell_type": "code",
   "execution_count": 4,
   "id": "134d8cdc-c267-42fc-8548-f3f188362b89",
   "metadata": {},
   "outputs": [],
   "source": [
    "from sklearn.metrics import roc_auc_score # , precision_recall_curve, auc\n",
    "def score(y_pred, y_true):\n",
    "    # precision, recall, thresholds = precision_recall_curve(y_true, y_pred)\n",
    "    # pr_auc = auc(recall, precision)\n",
    "    # minrp = np.minimum(precision, recall).max()\n",
    "    roc_auc = roc_auc_score(y_true, y_pred)\n",
    "    return roc_auc"
   ]
  },
  {
   "cell_type": "code",
   "execution_count": 5,
   "id": "3bc45c28-c30a-479f-96b4-0dab84859f84",
   "metadata": {
    "tags": []
   },
   "outputs": [],
   "source": [
    "def ra_test(a_0, b_0, y_true, r=1000):\n",
    "    \"\"\"randomization test\"\"\"\n",
    "    if len(a_0) != len(b_0):\n",
    "        print('Input A and B are not eqaul-sized!')\n",
    "        return\n",
    "    delta_s_rs = []\n",
    "    c = 0\n",
    "    n = len(a_0)\n",
    "    delta_s_0 = score(a_0, y_true) - score(b_0, y_true)\n",
    "    for _ in tqdm(range(r)):\n",
    "        a_r = []\n",
    "        b_r = []\n",
    "        # shuffle\n",
    "        for i in range(n):\n",
    "            # swap\n",
    "            rn = random.randint(0, 1)\n",
    "            # swap\n",
    "            if rn == 0:\n",
    "                a_r.append(b_0[i])\n",
    "                b_r.append(a_0[i])\n",
    "            # do not swap\n",
    "            else:\n",
    "                a_r.append(a_0[i])\n",
    "                b_r.append(b_0[i])\n",
    "        a_r = np.array(a_r)\n",
    "        b_r = np.array(b_r)\n",
    "        delta_s_r = score(a_r, y_true) - score(b_r, y_true)\n",
    "        delta_s_rs.append(delta_s_r)\n",
    "        if abs(delta_s_r) >= abs(delta_s_0):\n",
    "            c += 1\n",
    "    p = c/r\n",
    "    return p"
   ]
  },
  {
   "cell_type": "code",
   "execution_count": 6,
   "id": "19a8f962-b10f-4891-b47c-b21823fe8faf",
   "metadata": {
    "tags": []
   },
   "outputs": [],
   "source": [
    "data_path = 'Data/CLS/cls_data.pkl'\n",
    "_, _, _, _, _, y_true = pickle.load(open(data_path, 'rb'))"
   ]
  },
  {
   "cell_type": "code",
   "execution_count": 7,
   "id": "173329bf-fa38-4805-ae1c-ab99b29fb9fb",
   "metadata": {},
   "outputs": [],
   "source": [
    "path = 'CLS/significance/data/baseline.pkl'\n",
    "baseline = pickle.load(open(path, 'rb'))"
   ]
  },
  {
   "cell_type": "code",
   "execution_count": 8,
   "id": "06e9503e-bbcb-41e1-943d-74386f775974",
   "metadata": {},
   "outputs": [],
   "source": [
    "path = 'CLS/significance/data/m_q.pkl'\n",
    "m_q = pickle.load(open(path, 'rb'))"
   ]
  },
  {
   "cell_type": "code",
   "execution_count": 9,
   "id": "f6ec5645-09f9-48af-a3ab-00ed9d50ef6b",
   "metadata": {
    "tags": []
   },
   "outputs": [
    {
     "name": "stderr",
     "output_type": "stream",
     "text": [
      "100%|██████████| 10000/10000 [03:59<00:00, 41.80it/s]"
     ]
    },
    {
     "name": "stdout",
     "output_type": "stream",
     "text": [
      "0.0\n"
     ]
    },
    {
     "name": "stderr",
     "output_type": "stream",
     "text": [
      "\n"
     ]
    }
   ],
   "source": [
    "x = baseline[0]\n",
    "y = m_q[0]\n",
    "p = ra_test(x, y, y_true = y_true, r=10000)\n",
    "print(p)"
   ]
  },
  {
   "cell_type": "code",
   "execution_count": 10,
   "id": "6f9c4e44-6cee-4415-b111-0dad766286e0",
   "metadata": {
    "tags": []
   },
   "outputs": [
    {
     "name": "stderr",
     "output_type": "stream",
     "text": [
      "100%|██████████| 10000/10000 [04:00<00:00, 41.63it/s]"
     ]
    },
    {
     "name": "stdout",
     "output_type": "stream",
     "text": [
      "0.586\n"
     ]
    },
    {
     "name": "stderr",
     "output_type": "stream",
     "text": [
      "\n"
     ]
    }
   ],
   "source": [
    "x = baseline[1]\n",
    "y = m_q[1]\n",
    "p = ra_test(x, y, y_true = y_true, r=10000)\n",
    "print(p)"
   ]
  },
  {
   "cell_type": "code",
   "execution_count": 11,
   "id": "848fb8a0-fbde-45b0-8a16-48759a0d9134",
   "metadata": {
    "tags": []
   },
   "outputs": [
    {
     "name": "stderr",
     "output_type": "stream",
     "text": [
      "100%|██████████| 10000/10000 [03:59<00:00, 41.84it/s]"
     ]
    },
    {
     "name": "stdout",
     "output_type": "stream",
     "text": [
      "0.0081\n"
     ]
    },
    {
     "name": "stderr",
     "output_type": "stream",
     "text": [
      "\n"
     ]
    }
   ],
   "source": [
    "x = baseline[2]\n",
    "y = m_q[2]\n",
    "p = ra_test(x, y, y_true = y_true, r=10000)\n",
    "print(p)"
   ]
  },
  {
   "cell_type": "code",
   "execution_count": 12,
   "id": "f80a95c1-030e-4eef-a7f9-c832819bd075",
   "metadata": {
    "tags": []
   },
   "outputs": [
    {
     "name": "stderr",
     "output_type": "stream",
     "text": [
      "100%|██████████| 10000/10000 [03:58<00:00, 41.91it/s]"
     ]
    },
    {
     "name": "stdout",
     "output_type": "stream",
     "text": [
      "0.0872\n"
     ]
    },
    {
     "name": "stderr",
     "output_type": "stream",
     "text": [
      "\n"
     ]
    }
   ],
   "source": [
    "x = baseline[3]\n",
    "y = m_q[3]\n",
    "p = ra_test(x, y, y_true = y_true, r=10000)\n",
    "print(p)"
   ]
  },
  {
   "cell_type": "code",
   "execution_count": 13,
   "id": "428a32ea-83d3-4d61-913f-891ba9c3613f",
   "metadata": {
    "tags": []
   },
   "outputs": [
    {
     "name": "stderr",
     "output_type": "stream",
     "text": [
      "100%|██████████| 10000/10000 [03:59<00:00, 41.79it/s]"
     ]
    },
    {
     "name": "stdout",
     "output_type": "stream",
     "text": [
      "0.7837\n"
     ]
    },
    {
     "name": "stderr",
     "output_type": "stream",
     "text": [
      "\n"
     ]
    }
   ],
   "source": [
    "x = baseline[4]\n",
    "y = m_q[4]\n",
    "p = ra_test(x, y, y_true = y_true, r=10000)\n",
    "print(p)"
   ]
  },
  {
   "cell_type": "code",
   "execution_count": 14,
   "id": "c6070c13-50f9-49a9-bc62-a59e4bae4bbd",
   "metadata": {
    "tags": []
   },
   "outputs": [
    {
     "name": "stderr",
     "output_type": "stream",
     "text": [
      "100%|██████████| 10000/10000 [03:58<00:00, 41.86it/s]"
     ]
    },
    {
     "name": "stdout",
     "output_type": "stream",
     "text": [
      "0.9872\n"
     ]
    },
    {
     "name": "stderr",
     "output_type": "stream",
     "text": [
      "\n"
     ]
    }
   ],
   "source": [
    "x = baseline[5]\n",
    "y = m_q[5]\n",
    "p = ra_test(x, y, y_true = y_true, r=10000)\n",
    "print(p)"
   ]
  },
  {
   "cell_type": "code",
   "execution_count": 15,
   "id": "06bfa0b8-f375-48ec-b754-8442bc3129cb",
   "metadata": {
    "tags": []
   },
   "outputs": [
    {
     "name": "stderr",
     "output_type": "stream",
     "text": [
      "100%|██████████| 10000/10000 [03:59<00:00, 41.70it/s]"
     ]
    },
    {
     "name": "stdout",
     "output_type": "stream",
     "text": [
      "0.0998\n"
     ]
    },
    {
     "name": "stderr",
     "output_type": "stream",
     "text": [
      "\n"
     ]
    }
   ],
   "source": [
    "x = baseline[6]\n",
    "y = m_q[6]\n",
    "p = ra_test(x, y, y_true = y_true, r=10000)\n",
    "print(p)"
   ]
  }
 ],
 "metadata": {
  "kernelspec": {
   "display_name": "Python 3 (ipykernel)",
   "language": "python",
   "name": "python3"
  },
  "language_info": {
   "codemirror_mode": {
    "name": "ipython",
    "version": 3
   },
   "file_extension": ".py",
   "mimetype": "text/x-python",
   "name": "python",
   "nbconvert_exporter": "python",
   "pygments_lexer": "ipython3",
   "version": "3.9.16"
  }
 },
 "nbformat": 4,
 "nbformat_minor": 5
}
