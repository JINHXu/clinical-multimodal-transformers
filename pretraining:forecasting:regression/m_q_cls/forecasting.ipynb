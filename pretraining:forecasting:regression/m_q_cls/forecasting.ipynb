{
 "cells": [
  {
   "cell_type": "code",
   "execution_count": 1,
   "metadata": {},
   "outputs": [],
   "source": [
    "import os\n",
    "os.environ['TF_CPP_MIN_LOG_LEVEL'] = '2'"
   ]
  },
  {
   "cell_type": "code",
   "execution_count": 2,
   "metadata": {},
   "outputs": [],
   "source": [
    "! export TF_CPP_MIN_LOG_LEVEL=2"
   ]
  },
  {
   "cell_type": "code",
   "execution_count": 3,
   "metadata": {
    "id": "e7odgm5VsOsb"
   },
   "outputs": [
    {
     "name": "stdout",
     "output_type": "stream",
     "text": [
      "Fri Jan 12 21:16:50 2024       \n",
      "+---------------------------------------------------------------------------------------+\n",
      "| NVIDIA-SMI 535.104.12             Driver Version: 535.104.12   CUDA Version: 12.2     |\n",
      "|-----------------------------------------+----------------------+----------------------+\n",
      "| GPU  Name                 Persistence-M | Bus-Id        Disp.A | Volatile Uncorr. ECC |\n",
      "| Fan  Temp   Perf          Pwr:Usage/Cap |         Memory-Usage | GPU-Util  Compute M. |\n",
      "|                                         |                      |               MIG M. |\n",
      "|=========================================+======================+======================|\n",
      "|   0  Tesla V100-SXM2-32GB           On  | 00000000:3A:00.0 Off |                    0 |\n",
      "| N/A   30C    P0              39W / 300W |      9MiB / 32768MiB |      0%      Default |\n",
      "|                                         |                      |                  N/A |\n",
      "+-----------------------------------------+----------------------+----------------------+\n",
      "|   1  Tesla V100-SXM2-32GB           On  | 00000000:3B:00.0 Off |                    0 |\n",
      "| N/A   32C    P0              41W / 300W |      9MiB / 32768MiB |      0%      Default |\n",
      "|                                         |                      |                  N/A |\n",
      "+-----------------------------------------+----------------------+----------------------+\n",
      "                                                                                         \n",
      "+---------------------------------------------------------------------------------------+\n",
      "| Processes:                                                                            |\n",
      "|  GPU   GI   CI        PID   Type   Process name                            GPU Memory |\n",
      "|        ID   ID                                                             Usage      |\n",
      "|=======================================================================================|\n",
      "|    0   N/A  N/A      2369      G   /usr/libexec/Xorg                             8MiB |\n",
      "|    1   N/A  N/A      2369      G   /usr/libexec/Xorg                             8MiB |\n",
      "+---------------------------------------------------------------------------------------+\n"
     ]
    }
   ],
   "source": [
    "# gpu check \n",
    "!nvidia-smi"
   ]
  },
  {
   "cell_type": "code",
   "execution_count": 4,
   "metadata": {
    "id": "oEEUeIW3sOsc"
   },
   "outputs": [
    {
     "data": {
      "text/plain": [
       "80"
      ]
     },
     "execution_count": 4,
     "metadata": {},
     "output_type": "execute_result"
    }
   ],
   "source": [
    "# check number of cores\n",
    "import multiprocessing\n",
    "\n",
    "cores = multiprocessing.cpu_count() \n",
    "cores"
   ]
  },
  {
   "cell_type": "code",
   "execution_count": 5,
   "metadata": {
    "tags": []
   },
   "outputs": [
    {
     "name": "stdout",
     "output_type": "stream",
     "text": [
      "/pfs/data5/home/hd/hd_hd/hd_nf283/MA_Thesis\n"
     ]
    }
   ],
   "source": [
    "cd /pfs/data5/home/hd/hd_hd/hd_nf283/MA_Thesis"
   ]
  },
  {
   "cell_type": "code",
   "execution_count": 6,
   "metadata": {
    "id": "RpTg0QzPqqKv"
   },
   "outputs": [],
   "source": [
    "from tensorflow.keras.layers import Input, Dense, Dropout, BatchNormalization, Lambda\n",
    "# from tensorflow.keras.models import Model\n",
    "from tensorflow.keras import models\n",
    "import pickle\n",
    "import numpy as np\n",
    "from tqdm import tqdm\n",
    "tqdm.pandas()\n",
    "from sklearn.utils.class_weight import compute_class_weight\n",
    "from tensorflow.keras.optimizers import Adam\n",
    "from sklearn.metrics import roc_auc_score, precision_recall_curve, auc\n",
    "import tensorflow.keras.backend as K\n",
    "from tensorflow.keras.callbacks import Callback, EarlyStopping\n",
    "import pandas as pd\n",
    "import json\n",
    "from torch.utils.data import Dataset\n",
    "from transformers import AutoTokenizer, pipeline, AutoModel\n",
    "import resources.smart_cond as sc\n",
    "# from google.colab import files"
   ]
  },
  {
   "cell_type": "code",
   "execution_count": 7,
   "metadata": {
    "id": "AeG1PfTVsOsd"
   },
   "outputs": [
    {
     "name": "stdout",
     "output_type": "stream",
     "text": [
      "2.12.0\n"
     ]
    },
    {
     "data": {
      "text/plain": [
       "'4.0'"
      ]
     },
     "execution_count": 7,
     "metadata": {},
     "output_type": "execute_result"
    }
   ],
   "source": [
    "import tensorflow as tf\n",
    "print(tf. __version__)\n",
    "\n",
    "pickle.format_version"
   ]
  },
  {
   "cell_type": "code",
   "execution_count": 8,
   "metadata": {
    "tags": []
   },
   "outputs": [],
   "source": [
    "data_path = 'Data/sepsis_removed_0.pkl'\n",
    "pkl = pickle.load(open(data_path, 'rb'))\n",
    "data = pkl[0]\n",
    "oc = pkl[1]\n",
    "train_ind = pkl[2]\n",
    "valid_ind = pkl[3]\n",
    "test_ind = pkl[4]\n",
    "del pkl"
   ]
  },
  {
   "cell_type": "code",
   "execution_count": 9,
   "metadata": {
    "tags": []
   },
   "outputs": [
    {
     "data": {
      "text/html": [
       "<div>\n",
       "<style scoped>\n",
       "    .dataframe tbody tr th:only-of-type {\n",
       "        vertical-align: middle;\n",
       "    }\n",
       "\n",
       "    .dataframe tbody tr th {\n",
       "        vertical-align: top;\n",
       "    }\n",
       "\n",
       "    .dataframe thead th {\n",
       "        text-align: right;\n",
       "    }\n",
       "</style>\n",
       "<table border=\"1\" class=\"dataframe\">\n",
       "  <thead>\n",
       "    <tr style=\"text-align: right;\">\n",
       "      <th></th>\n",
       "      <th>ts_ind</th>\n",
       "      <th>hour</th>\n",
       "      <th>variable</th>\n",
       "      <th>value</th>\n",
       "      <th>TABLE</th>\n",
       "      <th>mean</th>\n",
       "      <th>std</th>\n",
       "    </tr>\n",
       "  </thead>\n",
       "  <tbody>\n",
       "    <tr>\n",
       "      <th>0</th>\n",
       "      <td>10223</td>\n",
       "      <td>467.816667</td>\n",
       "      <td>Text</td>\n",
       "      <td>Admission Date:  [**2119-5-4**]              D...</td>\n",
       "      <td>noteevents</td>\n",
       "      <td>1.000000</td>\n",
       "      <td>1.000000</td>\n",
       "    </tr>\n",
       "    <tr>\n",
       "      <th>1</th>\n",
       "      <td>18407</td>\n",
       "      <td>28.016667</td>\n",
       "      <td>Text</td>\n",
       "      <td>Admission Date:  [**2112-12-8**]              ...</td>\n",
       "      <td>noteevents</td>\n",
       "      <td>1.000000</td>\n",
       "      <td>1.000000</td>\n",
       "    </tr>\n",
       "    <tr>\n",
       "      <th>2</th>\n",
       "      <td>40300</td>\n",
       "      <td>155.166667</td>\n",
       "      <td>Text</td>\n",
       "      <td>Admission Date:  [**2194-7-18**]              ...</td>\n",
       "      <td>noteevents</td>\n",
       "      <td>1.000000</td>\n",
       "      <td>1.000000</td>\n",
       "    </tr>\n",
       "    <tr>\n",
       "      <th>3</th>\n",
       "      <td>23747</td>\n",
       "      <td>52.383333</td>\n",
       "      <td>Text</td>\n",
       "      <td>Admission Date:  [**2194-1-7**]              D...</td>\n",
       "      <td>noteevents</td>\n",
       "      <td>1.000000</td>\n",
       "      <td>1.000000</td>\n",
       "    </tr>\n",
       "    <tr>\n",
       "      <th>4</th>\n",
       "      <td>2357</td>\n",
       "      <td>73.133333</td>\n",
       "      <td>Text</td>\n",
       "      <td>Admission Date:  [**2186-6-7**]     Discharge ...</td>\n",
       "      <td>noteevents</td>\n",
       "      <td>1.000000</td>\n",
       "      <td>1.000000</td>\n",
       "    </tr>\n",
       "    <tr>\n",
       "      <th>...</th>\n",
       "      <td>...</td>\n",
       "      <td>...</td>\n",
       "      <td>...</td>\n",
       "      <td>...</td>\n",
       "      <td>...</td>\n",
       "      <td>...</td>\n",
       "      <td>...</td>\n",
       "    </tr>\n",
       "    <tr>\n",
       "      <th>82886223</th>\n",
       "      <td>57281</td>\n",
       "      <td>20.400000</td>\n",
       "      <td>MBP</td>\n",
       "      <td>0.195381</td>\n",
       "      <td>chart</td>\n",
       "      <td>78.552377</td>\n",
       "      <td>17.645628</td>\n",
       "    </tr>\n",
       "    <tr>\n",
       "      <th>82886224</th>\n",
       "      <td>57281</td>\n",
       "      <td>20.400000</td>\n",
       "      <td>O2 Saturation</td>\n",
       "      <td>-0.678068</td>\n",
       "      <td>chart</td>\n",
       "      <td>96.820961</td>\n",
       "      <td>4.160290</td>\n",
       "    </tr>\n",
       "    <tr>\n",
       "      <th>82886225</th>\n",
       "      <td>57281</td>\n",
       "      <td>20.400000</td>\n",
       "      <td>RR</td>\n",
       "      <td>0.179866</td>\n",
       "      <td>chart</td>\n",
       "      <td>26.278501</td>\n",
       "      <td>15.130729</td>\n",
       "    </tr>\n",
       "    <tr>\n",
       "      <th>82886226</th>\n",
       "      <td>57281</td>\n",
       "      <td>20.400000</td>\n",
       "      <td>SBP</td>\n",
       "      <td>-0.404061</td>\n",
       "      <td>chart</td>\n",
       "      <td>120.239648</td>\n",
       "      <td>25.341836</td>\n",
       "    </tr>\n",
       "    <tr>\n",
       "      <th>82886227</th>\n",
       "      <td>57281</td>\n",
       "      <td>20.400000</td>\n",
       "      <td>Urine</td>\n",
       "      <td>-0.24296</td>\n",
       "      <td>output</td>\n",
       "      <td>123.393012</td>\n",
       "      <td>137.442433</td>\n",
       "    </tr>\n",
       "  </tbody>\n",
       "</table>\n",
       "<p>82447326 rows × 7 columns</p>\n",
       "</div>"
      ],
      "text/plain": [
       "          ts_ind        hour       variable  \\\n",
       "0          10223  467.816667           Text   \n",
       "1          18407   28.016667           Text   \n",
       "2          40300  155.166667           Text   \n",
       "3          23747   52.383333           Text   \n",
       "4           2357   73.133333           Text   \n",
       "...          ...         ...            ...   \n",
       "82886223   57281   20.400000            MBP   \n",
       "82886224   57281   20.400000  O2 Saturation   \n",
       "82886225   57281   20.400000             RR   \n",
       "82886226   57281   20.400000            SBP   \n",
       "82886227   57281   20.400000          Urine   \n",
       "\n",
       "                                                      value       TABLE  \\\n",
       "0         Admission Date:  [**2119-5-4**]              D...  noteevents   \n",
       "1         Admission Date:  [**2112-12-8**]              ...  noteevents   \n",
       "2         Admission Date:  [**2194-7-18**]              ...  noteevents   \n",
       "3         Admission Date:  [**2194-1-7**]              D...  noteevents   \n",
       "4         Admission Date:  [**2186-6-7**]     Discharge ...  noteevents   \n",
       "...                                                     ...         ...   \n",
       "82886223                                           0.195381       chart   \n",
       "82886224                                          -0.678068       chart   \n",
       "82886225                                           0.179866       chart   \n",
       "82886226                                          -0.404061       chart   \n",
       "82886227                                           -0.24296      output   \n",
       "\n",
       "                mean         std  \n",
       "0           1.000000    1.000000  \n",
       "1           1.000000    1.000000  \n",
       "2           1.000000    1.000000  \n",
       "3           1.000000    1.000000  \n",
       "4           1.000000    1.000000  \n",
       "...              ...         ...  \n",
       "82886223   78.552377   17.645628  \n",
       "82886224   96.820961    4.160290  \n",
       "82886225   26.278501   15.130729  \n",
       "82886226  120.239648   25.341836  \n",
       "82886227  123.393012  137.442433  \n",
       "\n",
       "[82447326 rows x 7 columns]"
      ]
     },
     "execution_count": 9,
     "metadata": {},
     "output_type": "execute_result"
    }
   ],
   "source": [
    "data"
   ]
  },
  {
   "cell_type": "code",
   "execution_count": 10,
   "metadata": {
    "tags": []
   },
   "outputs": [
    {
     "data": {
      "text/html": [
       "<div>\n",
       "<style scoped>\n",
       "    .dataframe tbody tr th:only-of-type {\n",
       "        vertical-align: middle;\n",
       "    }\n",
       "\n",
       "    .dataframe tbody tr th {\n",
       "        vertical-align: top;\n",
       "    }\n",
       "\n",
       "    .dataframe thead th {\n",
       "        text-align: right;\n",
       "    }\n",
       "</style>\n",
       "<table border=\"1\" class=\"dataframe\">\n",
       "  <thead>\n",
       "    <tr style=\"text-align: right;\">\n",
       "      <th></th>\n",
       "      <th>ts_ind</th>\n",
       "      <th>hour</th>\n",
       "      <th>variable</th>\n",
       "      <th>value</th>\n",
       "      <th>TABLE</th>\n",
       "      <th>mean</th>\n",
       "      <th>std</th>\n",
       "    </tr>\n",
       "  </thead>\n",
       "  <tbody>\n",
       "    <tr>\n",
       "      <th>0</th>\n",
       "      <td>10223</td>\n",
       "      <td>467.816667</td>\n",
       "      <td>Text</td>\n",
       "      <td>1</td>\n",
       "      <td>noteevents</td>\n",
       "      <td>1.000000</td>\n",
       "      <td>1.000000</td>\n",
       "    </tr>\n",
       "    <tr>\n",
       "      <th>1</th>\n",
       "      <td>18407</td>\n",
       "      <td>28.016667</td>\n",
       "      <td>Text</td>\n",
       "      <td>1</td>\n",
       "      <td>noteevents</td>\n",
       "      <td>1.000000</td>\n",
       "      <td>1.000000</td>\n",
       "    </tr>\n",
       "    <tr>\n",
       "      <th>2</th>\n",
       "      <td>40300</td>\n",
       "      <td>155.166667</td>\n",
       "      <td>Text</td>\n",
       "      <td>1</td>\n",
       "      <td>noteevents</td>\n",
       "      <td>1.000000</td>\n",
       "      <td>1.000000</td>\n",
       "    </tr>\n",
       "    <tr>\n",
       "      <th>3</th>\n",
       "      <td>23747</td>\n",
       "      <td>52.383333</td>\n",
       "      <td>Text</td>\n",
       "      <td>1</td>\n",
       "      <td>noteevents</td>\n",
       "      <td>1.000000</td>\n",
       "      <td>1.000000</td>\n",
       "    </tr>\n",
       "    <tr>\n",
       "      <th>4</th>\n",
       "      <td>2357</td>\n",
       "      <td>73.133333</td>\n",
       "      <td>Text</td>\n",
       "      <td>1</td>\n",
       "      <td>noteevents</td>\n",
       "      <td>1.000000</td>\n",
       "      <td>1.000000</td>\n",
       "    </tr>\n",
       "    <tr>\n",
       "      <th>...</th>\n",
       "      <td>...</td>\n",
       "      <td>...</td>\n",
       "      <td>...</td>\n",
       "      <td>...</td>\n",
       "      <td>...</td>\n",
       "      <td>...</td>\n",
       "      <td>...</td>\n",
       "    </tr>\n",
       "    <tr>\n",
       "      <th>82886223</th>\n",
       "      <td>57281</td>\n",
       "      <td>20.400000</td>\n",
       "      <td>MBP</td>\n",
       "      <td>0.195381</td>\n",
       "      <td>chart</td>\n",
       "      <td>78.552377</td>\n",
       "      <td>17.645628</td>\n",
       "    </tr>\n",
       "    <tr>\n",
       "      <th>82886224</th>\n",
       "      <td>57281</td>\n",
       "      <td>20.400000</td>\n",
       "      <td>O2 Saturation</td>\n",
       "      <td>-0.678068</td>\n",
       "      <td>chart</td>\n",
       "      <td>96.820961</td>\n",
       "      <td>4.160290</td>\n",
       "    </tr>\n",
       "    <tr>\n",
       "      <th>82886225</th>\n",
       "      <td>57281</td>\n",
       "      <td>20.400000</td>\n",
       "      <td>RR</td>\n",
       "      <td>0.179866</td>\n",
       "      <td>chart</td>\n",
       "      <td>26.278501</td>\n",
       "      <td>15.130729</td>\n",
       "    </tr>\n",
       "    <tr>\n",
       "      <th>82886226</th>\n",
       "      <td>57281</td>\n",
       "      <td>20.400000</td>\n",
       "      <td>SBP</td>\n",
       "      <td>-0.404061</td>\n",
       "      <td>chart</td>\n",
       "      <td>120.239648</td>\n",
       "      <td>25.341836</td>\n",
       "    </tr>\n",
       "    <tr>\n",
       "      <th>82886227</th>\n",
       "      <td>57281</td>\n",
       "      <td>20.400000</td>\n",
       "      <td>Urine</td>\n",
       "      <td>-0.24296</td>\n",
       "      <td>output</td>\n",
       "      <td>123.393012</td>\n",
       "      <td>137.442433</td>\n",
       "    </tr>\n",
       "  </tbody>\n",
       "</table>\n",
       "<p>82447326 rows × 7 columns</p>\n",
       "</div>"
      ],
      "text/plain": [
       "          ts_ind        hour       variable     value       TABLE        mean  \\\n",
       "0          10223  467.816667           Text         1  noteevents    1.000000   \n",
       "1          18407   28.016667           Text         1  noteevents    1.000000   \n",
       "2          40300  155.166667           Text         1  noteevents    1.000000   \n",
       "3          23747   52.383333           Text         1  noteevents    1.000000   \n",
       "4           2357   73.133333           Text         1  noteevents    1.000000   \n",
       "...          ...         ...            ...       ...         ...         ...   \n",
       "82886223   57281   20.400000            MBP  0.195381       chart   78.552377   \n",
       "82886224   57281   20.400000  O2 Saturation -0.678068       chart   96.820961   \n",
       "82886225   57281   20.400000             RR  0.179866       chart   26.278501   \n",
       "82886226   57281   20.400000            SBP -0.404061       chart  120.239648   \n",
       "82886227   57281   20.400000          Urine  -0.24296      output  123.393012   \n",
       "\n",
       "                 std  \n",
       "0           1.000000  \n",
       "1           1.000000  \n",
       "2           1.000000  \n",
       "3           1.000000  \n",
       "4           1.000000  \n",
       "...              ...  \n",
       "82886223   17.645628  \n",
       "82886224    4.160290  \n",
       "82886225   15.130729  \n",
       "82886226   25.341836  \n",
       "82886227  137.442433  \n",
       "\n",
       "[82447326 rows x 7 columns]"
      ]
     },
     "execution_count": 10,
     "metadata": {},
     "output_type": "execute_result"
    }
   ],
   "source": [
    "data.loc[data['variable'] == 'Text', 'value'] = 1\n",
    "data"
   ]
  },
  {
   "cell_type": "code",
   "execution_count": 11,
   "metadata": {
    "tags": []
   },
   "outputs": [],
   "source": [
    "pred_window = 2 # hours\n",
    "obs_windows = range(20, 124, 4)\n",
    "# Remove test patients.\n",
    "data = data.merge(oc[['ts_ind', 'SUBJECT_ID']], on='ts_ind', how='left')\n",
    "test_sub = oc.loc[oc.ts_ind.isin(test_ind)].SUBJECT_ID.unique()\n",
    "data = data.loc[~data.SUBJECT_ID.isin(test_sub)]\n",
    "oc = oc.loc[~oc.SUBJECT_ID.isin(test_sub)]\n",
    "data.drop(columns=['SUBJECT_ID', 'TABLE'], inplace=True)\n",
    "# Fix age.\n",
    "data.loc[(data.variable=='Age')&(data.value>200), 'value'] = 91.4\n",
    "# data[data.variable=='Age'][data.value>200]['value'] = 91.4"
   ]
  },
  {
   "cell_type": "code",
   "execution_count": 12,
   "metadata": {
    "tags": []
   },
   "outputs": [
    {
     "name": "stderr",
     "output_type": "stream",
     "text": [
      "91626it [00:00, 746306.02it/s]\n",
      "100%|██████████| 26/26 [05:15<00:00, 12.13s/it]\n"
     ]
    }
   ],
   "source": [
    "# Get static data with mean fill and missingness indicator.\n",
    "static_varis = ['Age', 'Gender']\n",
    "ii = data.variable.isin(static_varis)\n",
    "static_data = data.loc[ii]\n",
    "data = data.loc[~ii]\n",
    "def inv_list(l, start=0):\n",
    "    d = {}\n",
    "    for i in range(len(l)):\n",
    "        d[l[i]] = i+start\n",
    "    return d\n",
    "static_var_to_ind = inv_list(static_varis)\n",
    "D = len(static_varis)\n",
    "N = data.ts_ind.max()+1\n",
    "demo = np.zeros((N, D))\n",
    "for row in tqdm(static_data.itertuples()):\n",
    "    demo[row.ts_ind, static_var_to_ind[row.variable]] = row.value\n",
    "# Normalize static data.\n",
    "means = demo.mean(axis=0, keepdims=True)\n",
    "stds = demo.std(axis=0, keepdims=True)\n",
    "stds = (stds==0)*1 + (stds!=0)*stds\n",
    "demo = (demo-means)/stds\n",
    "# Get variable indices.\n",
    "varis = sorted(list(set(data.variable)))\n",
    "V = len(varis)\n",
    "var_to_ind = inv_list(varis, start=1)\n",
    "data['vind'] = data.variable.map(var_to_ind)\n",
    "data = data[['ts_ind', 'vind', 'hour', 'value']].sort_values(by=['ts_ind', 'vind', 'hour'])\n",
    "# Find max_len.\n",
    "fore_max_len = 880\n",
    "# Get forecast inputs and outputs.\n",
    "fore_times_ip = []\n",
    "fore_values_ip = []\n",
    "fore_varis_ip = []\n",
    "fore_op = []\n",
    "fore_inds = []\n",
    "def f(x):\n",
    "    mask = [0 for i in range(V)]\n",
    "    values = [0 for i in range(V)]\n",
    "    for vv in x:\n",
    "        v = int(vv[0])-1\n",
    "        mask[v] = 1\n",
    "        values[v] = vv[1]\n",
    "    return values+mask\n",
    "def pad(x):\n",
    "    return x+[0]*(fore_max_len-len(x))\n",
    "for w in tqdm(obs_windows):\n",
    "    pred_data = data.loc[(data.hour>=w)&(data.hour<=w+pred_window)]\n",
    "    pred_data = pred_data.groupby(['ts_ind', 'vind']).agg({'value':'first'}).reset_index()\n",
    "    pred_data['vind_value'] = pred_data[['vind', 'value']].values.tolist()\n",
    "    pred_data = pred_data.groupby('ts_ind').agg({'vind_value':list}).reset_index()\n",
    "    pred_data['vind_value'] = pred_data['vind_value'].apply(f)    \n",
    "    obs_data = data.loc[(data.hour<w)&(data.hour>=w-24)]\n",
    "    obs_data = obs_data.loc[obs_data.ts_ind.isin(pred_data.ts_ind)]\n",
    "    obs_data = obs_data.groupby('ts_ind').head(fore_max_len)\n",
    "    obs_data = obs_data.groupby('ts_ind').agg({'vind':list, 'hour':list, 'value':list}).reset_index()\n",
    "    obs_data = obs_data.merge(pred_data, on='ts_ind')\n",
    "    for col in ['vind', 'hour', 'value']:\n",
    "        obs_data[col] = obs_data[col].apply(pad)\n",
    "    fore_op.append(np.array(list(obs_data.vind_value)))\n",
    "    fore_inds.append(np.array(list(obs_data.ts_ind)))\n",
    "    fore_times_ip.append(np.array(list(obs_data.hour)))\n",
    "    fore_values_ip.append(np.array(list(obs_data.value)))\n",
    "    fore_varis_ip.append(np.array(list(obs_data.vind)))\n",
    "del data\n",
    "fore_times_ip = np.concatenate(fore_times_ip, axis=0)\n",
    "fore_values_ip = np.concatenate(fore_values_ip, axis=0)\n",
    "fore_varis_ip = np.concatenate(fore_varis_ip, axis=0)\n",
    "fore_op = np.concatenate(fore_op, axis=0)\n",
    "fore_inds = np.concatenate(fore_inds, axis=0)\n",
    "fore_demo = demo[fore_inds]\n",
    "# Get train and valid ts_ind for forecast task.\n",
    "train_sub = oc.loc[oc.ts_ind.isin(train_ind)].SUBJECT_ID.unique()\n",
    "valid_sub = oc.loc[oc.ts_ind.isin(valid_ind)].SUBJECT_ID.unique()\n",
    "rem_sub = oc.loc[~oc.SUBJECT_ID.isin(np.concatenate((train_ind, valid_ind)))].SUBJECT_ID.unique()\n",
    "bp = int(0.8*len(rem_sub))\n",
    "train_sub = np.concatenate((train_sub, rem_sub[:bp]))\n",
    "valid_sub = np.concatenate((valid_sub, rem_sub[bp:]))\n",
    "train_ind = oc.loc[oc.SUBJECT_ID.isin(train_sub)].ts_ind.unique() # Add remaining ts_ind s of train subjects.\n",
    "valid_ind = oc.loc[oc.SUBJECT_ID.isin(valid_sub)].ts_ind.unique() # Add remaining ts_ind s of train subjects.\n",
    "# Generate 3 sets of inputs and outputs.\n",
    "train_ind = np.argwhere(np.in1d(fore_inds, train_ind)).flatten()\n",
    "valid_ind = np.argwhere(np.in1d(fore_inds, valid_ind)).flatten()\n",
    "fore_train_ip = [ip[train_ind] for ip in [fore_demo, fore_times_ip, fore_values_ip, fore_varis_ip]]\n",
    "fore_valid_ip = [ip[valid_ind] for ip in [fore_demo, fore_times_ip, fore_values_ip, fore_varis_ip]]\n",
    "del fore_times_ip, fore_values_ip, fore_varis_ip, demo, fore_demo\n",
    "fore_train_op = fore_op[train_ind]\n",
    "fore_valid_op = fore_op[valid_ind]\n",
    "del fore_op"
   ]
  },
  {
   "cell_type": "code",
   "execution_count": 13,
   "metadata": {
    "tags": []
   },
   "outputs": [],
   "source": [
    "# add text features\n",
    "text_ip = pickle.load(open('Data/text_emb_input_train_val_1.pkl', 'rb'))\n",
    "\n",
    "train_text_ip = text_ip[0]\n",
    "valid_text_ip = text_ip[1]\n",
    "\n",
    "fore_train_ip.append(train_text_ip)\n",
    "fore_valid_ip.append(valid_text_ip)"
   ]
  },
  {
   "cell_type": "code",
   "execution_count": 14,
   "metadata": {},
   "outputs": [],
   "source": [
    "def get_res(y_true, y_pred):\n",
    "    precision, recall, thresholds = precision_recall_curve(y_true, y_pred)\n",
    "    pr_auc = auc(recall, precision)\n",
    "    minrp = np.minimum(precision, recall).max()\n",
    "    roc_auc = roc_auc_score(y_true, y_pred)\n",
    "    return [roc_auc, pr_auc, minrp]\n",
    "\n",
    "# ######################################################################################################## \n",
    "# ######################################################################################################## \n",
    "# class_weights = compute_class_weight(class_weight='balanced', classes=[0,1], y=train_op)\n",
    "# def mortality_loss(y_true, y_pred):\n",
    "#     sample_weights = (1-y_true)*class_weights[0] + y_true*class_weights[1]\n",
    "#     bce = K.binary_crossentropy(y_true, y_pred)\n",
    "#     return K.mean(sample_weights*bce, axis=-1)\n",
    "# ######################################################################################################## \n",
    "# ######################################################################################################## \n",
    "\n",
    "# var_weights = np.sum(fore_train_op[:, V:], axis=0)\n",
    "# var_weights[var_weights==0] = var_weights.max()\n",
    "# var_weights = var_weights.max()/var_weights\n",
    "# var_weights = var_weights.reshape((1, V))\n",
    "def forecast_loss(y_true, y_pred):\n",
    "    return K.sum(y_true[:,V:]*(y_true[:,:V]-y_pred)**2, axis=-1)\n",
    "\n",
    "def get_min_loss(weight):\n",
    "    def min_loss(y_true, y_pred):\n",
    "        return weight*y_pred\n",
    "    return min_loss\n",
    "\n",
    "class CustomCallback(Callback):\n",
    "    def __init__(self, validation_data, batch_size):\n",
    "        self.val_x, self.val_y = validation_data\n",
    "        self.batch_size = batch_size\n",
    "        super(Callback, self).__init__()\n",
    "\n",
    "    def on_epoch_end(self, epoch, logs={}):\n",
    "        y_pred = self.model.predict(self.val_x, verbose=0, batch_size=self.batch_size)\n",
    "        if type(y_pred)==type([]):\n",
    "            y_pred = y_pred[0]\n",
    "        precision, recall, thresholds = precision_recall_curve(self.val_y, y_pred)\n",
    "        pr_auc = auc(recall, precision)\n",
    "        roc_auc = roc_auc_score(self.val_y, y_pred)\n",
    "        logs['custom_metric'] = pr_auc + roc_auc\n",
    "        print ('val_aucs:', pr_auc, roc_auc)"
   ]
  },
  {
   "cell_type": "code",
   "execution_count": 15,
   "metadata": {
    "tags": []
   },
   "outputs": [],
   "source": [
    "import tensorflow as tf\n",
    "import numpy as np\n",
    "import tensorflow.keras.backend as K\n",
    "from tensorflow.keras.layers import Embedding, Activation, Dropout, Softmax, Layer, InputSpec, Input, Dense, Lambda, TimeDistributed, Concatenate, Add\n",
    "from tensorflow.keras import initializers, regularizers, constraints, Model\n",
    "from tensorflow.python.keras.utils import tf_utils\n",
    "from tensorflow.python.ops import array_ops\n",
    "from tensorflow import nn\n",
    "\n",
    "    \n",
    "class CVE(Layer):\n",
    "    def __init__(self, hid_units, output_dim):\n",
    "        self.hid_units = hid_units\n",
    "        self.output_dim = output_dim\n",
    "        super(CVE, self).__init__()\n",
    "        \n",
    "    def build(self, input_shape): \n",
    "        self.W1 = self.add_weight(name='CVE_W1',\n",
    "                            shape=(1, self.hid_units),\n",
    "                            initializer='glorot_uniform',\n",
    "                            trainable=True)\n",
    "        self.b1 = self.add_weight(name='CVE_b1',\n",
    "                            shape=(self.hid_units,),\n",
    "                            initializer='zeros',\n",
    "                            trainable=True)\n",
    "        self.W2 = self.add_weight(name='CVE_W2',\n",
    "                            shape=(self.hid_units, self.output_dim),\n",
    "                            initializer='glorot_uniform',\n",
    "                            trainable=True)\n",
    "        super(CVE, self).build(input_shape)\n",
    "        \n",
    "    def call(self, x):\n",
    "        x = K.expand_dims(x, axis=-1)\n",
    "        x = K.dot(K.tanh(K.bias_add(K.dot(x, self.W1), self.b1)), self.W2)\n",
    "        return x\n",
    "        \n",
    "    def compute_output_shape(self, input_shape):\n",
    "        return input_shape + (self.output_dim,)\n",
    "    \n",
    "    \n",
    "class Attention(Layer):\n",
    "    \n",
    "    def __init__(self, hid_dim):\n",
    "        self.hid_dim = hid_dim\n",
    "        super(Attention, self).__init__()\n",
    "\n",
    "    def build(self, input_shape):\n",
    "        d = input_shape.as_list()[-1]\n",
    "        self.W = self.add_weight(shape=(d, self.hid_dim), name='Att_W',\n",
    "                                 initializer='glorot_uniform',\n",
    "                                 trainable=True)\n",
    "        self.b = self.add_weight(shape=(self.hid_dim,), name='Att_b',\n",
    "                                 initializer='zeros',\n",
    "                                 trainable=True)\n",
    "        self.u = self.add_weight(shape=(self.hid_dim,1), name='Att_u',\n",
    "                                 initializer='glorot_uniform',\n",
    "                                 trainable=True)\n",
    "        super(Attention, self).build(input_shape)\n",
    "        \n",
    "    def call(self, x, mask, mask_value=-1e30):\n",
    "        attn_weights = K.dot(K.tanh(K.bias_add(K.dot(x,self.W), self.b)), self.u)\n",
    "        mask = K.expand_dims(mask, axis=-1)\n",
    "        attn_weights = mask*attn_weights + (1-mask)*mask_value\n",
    "        attn_weights = K.softmax(attn_weights, axis=-2)\n",
    "        return attn_weights\n",
    "        \n",
    "    def compute_output_shape(self, input_shape):\n",
    "        return input_shape[:-1] + (1,)\n",
    "    \n",
    "    \n",
    "class Transformer(Layer):\n",
    "    \n",
    "    def __init__(self, N=2, h=8, dk=None, dv=None, dff=None, dropout=0):\n",
    "        self.N, self.h, self.dk, self.dv, self.dff, self.dropout = N, h, dk, dv, dff, dropout\n",
    "        self.epsilon = K.epsilon() * K.epsilon()\n",
    "        super(Transformer, self).__init__()\n",
    "\n",
    "    def build(self, input_shape):\n",
    "        d = input_shape.as_list()[-1]\n",
    "        if self.dk==None:\n",
    "            self.dk = d//self.h\n",
    "        if self.dv==None:\n",
    "            self.dv = d//self.h\n",
    "        if self.dff==None:\n",
    "            self.dff = 2*d\n",
    "        self.Wq = self.add_weight(shape=(self.N, self.h, d, self.dk), name='Wq',\n",
    "                                 initializer='glorot_uniform', trainable=True)\n",
    "        self.Wk = self.add_weight(shape=(self.N, self.h, d, self.dk), name='Wk',\n",
    "                                 initializer='glorot_uniform', trainable=True)\n",
    "        self.Wv = self.add_weight(shape=(self.N, self.h, d, self.dv), name='Wv',\n",
    "                                 initializer='glorot_uniform', trainable=True)\n",
    "        self.Wo = self.add_weight(shape=(self.N, self.dv*self.h, d), name='Wo',\n",
    "                                 initializer='glorot_uniform', trainable=True)\n",
    "        self.W1 = self.add_weight(shape=(self.N, d, self.dff), name='W1',\n",
    "                                 initializer='glorot_uniform', trainable=True)\n",
    "        self.b1 = self.add_weight(shape=(self.N, self.dff), name='b1',\n",
    "                                 initializer='zeros', trainable=True)\n",
    "        self.W2 = self.add_weight(shape=(self.N, self.dff, d), name='W2',\n",
    "                                 initializer='glorot_uniform', trainable=True)\n",
    "        self.b2 = self.add_weight(shape=(self.N, d), name='b2',\n",
    "                                 initializer='zeros', trainable=True)\n",
    "        self.gamma = self.add_weight(shape=(2*self.N,), name='gamma',\n",
    "                                 initializer='ones', trainable=True)\n",
    "        self.beta = self.add_weight(shape=(2*self.N,), name='beta',\n",
    "                                 initializer='zeros', trainable=True)\n",
    "        super(Transformer, self).build(input_shape)\n",
    "        \n",
    "    def call(self, x, mask, mask_value=-1e-30):\n",
    "        mask = K.expand_dims(mask, axis=-2)\n",
    "        for i in range(self.N):\n",
    "            # MHA\n",
    "            mha_ops = []\n",
    "            for j in range(self.h):\n",
    "                q = K.dot(x, self.Wq[i,j,:,:])\n",
    "                k = K.permute_dimensions(K.dot(x, self.Wk[i,j,:,:]), (0,2,1))\n",
    "                v = K.dot(x, self.Wv[i,j,:,:])\n",
    "                A = K.batch_dot(q,k)\n",
    "                # Mask unobserved steps.\n",
    "                A = mask*A + (1-mask)*mask_value\n",
    "                # Mask for attention dropout.\n",
    "                def dropped_A():\n",
    "                    dp_mask = K.cast((K.random_uniform(shape=array_ops.shape(A))>=self.dropout), K.floatx())\n",
    "                    return A*dp_mask + (1-dp_mask)*mask_value\n",
    "                A = sc.smart_cond(K.learning_phase(), dropped_A, lambda: array_ops.identity(A))\n",
    "                A = K.softmax(A, axis=-1)\n",
    "                mha_ops.append(K.batch_dot(A,v))\n",
    "            conc = K.concatenate(mha_ops, axis=-1)\n",
    "            proj = K.dot(conc, self.Wo[i,:,:])\n",
    "            # Dropout.\n",
    "            proj = sc.smart_cond(K.learning_phase(), lambda: array_ops.identity(nn.dropout(proj, rate=self.dropout)),\\\n",
    "                                       lambda: array_ops.identity(proj))\n",
    "            # Add & LN\n",
    "            x = x+proj\n",
    "            mean = K.mean(x, axis=-1, keepdims=True)\n",
    "            variance = K.mean(K.square(x - mean), axis=-1, keepdims=True)\n",
    "            std = K.sqrt(variance + self.epsilon)\n",
    "            x = (x - mean) / std\n",
    "            x = x*self.gamma[2*i] + self.beta[2*i]\n",
    "            # FFN\n",
    "            ffn_op = K.bias_add(K.dot(K.relu(K.bias_add(K.dot(x, self.W1[i,:,:]), self.b1[i,:])), \n",
    "                           self.W2[i,:,:]), self.b2[i,:,])\n",
    "            # Dropout.\n",
    "            ffn_op = sc.smart_cond(K.learning_phase(), lambda: array_ops.identity(nn.dropout(ffn_op, rate=self.dropout)),\\\n",
    "                                       lambda: array_ops.identity(ffn_op))\n",
    "            # Add & LN\n",
    "            x = x+ffn_op\n",
    "            mean = K.mean(x, axis=-1, keepdims=True)\n",
    "            variance = K.mean(K.square(x - mean), axis=-1, keepdims=True)\n",
    "            std = K.sqrt(variance + self.epsilon)\n",
    "            x = (x - mean) / std\n",
    "            x = x*self.gamma[2*i+1] + self.beta[2*i+1]            \n",
    "        return x\n",
    "        \n",
    "    def compute_output_shape(self, input_shape):\n",
    "        return input_shape\n",
    "\n",
    "\n",
    "def build_strats(D, max_len, V, d, N, he, dropout, forecast=False):\n",
    "    # demo\n",
    "    demo = Input(shape=(D,))\n",
    "    demo_enc = Dense(2*d, activation='tanh')(demo)\n",
    "    demo_enc = Dense(d, activation='tanh')(demo_enc)\n",
    "    \n",
    "    # text\n",
    "    texts = Input(shape=(33792,))\n",
    "    text_enc = Dense(1000, activation='relu')(texts)\n",
    "    text_enc = Dense(d, activation='relu')(text_enc)\n",
    "    \n",
    "    # triplet\n",
    "    varis = Input(shape=(max_len,))\n",
    "    values = Input(shape=(max_len,))\n",
    "    times = Input(shape=(max_len,))\n",
    "    \n",
    "    varis_emb = Embedding(V+1, d)(varis)\n",
    "    cve_units = int(np.sqrt(d))\n",
    "    values_emb = CVE(cve_units, d)(values)\n",
    "    times_emb = CVE(cve_units, d)(times)\n",
    "    \n",
    "    # comb_emb = Add()([varis_emb, values_emb, times_emb]) # b, L, d\n",
    "    comb_emb = Add()([varis_emb, values_emb, times_emb, text_enc]) # b, L, d\n",
    "#     demo_enc = Lambda(lambda x:K.expand_dims(x, axis=-2))(demo_enc) # b, 1, d\n",
    "#     comb_emb = Concatenate(axis=-2)([demo_enc, comb_emb]) # b, L+1, d\n",
    "    mask = Lambda(lambda x:K.clip(x,0,1))(varis) # b, L\n",
    "#     mask = Lambda(lambda x:K.concatenate((K.ones_like(x)[:,0:1], x), axis=-1))(mask) # b, L+1\n",
    "    cont_emb = Transformer(N, he, dk=None, dv=None, dff=None, dropout=dropout)(comb_emb, mask=mask)\n",
    "    attn_weights = Attention(2*d)(cont_emb, mask=mask)\n",
    "    fused_emb = Lambda(lambda x:K.sum(x[0]*x[1], axis=-2))([cont_emb, attn_weights])\n",
    "    \n",
    "#     # embed text input\n",
    "#     texts = Input(shape=(33792,))\n",
    "#     text_enc = Dense(1000, activation='relu')(texts)\n",
    "#     text_enc = Dense(d, activation='relu')(text_enc)\n",
    "    \n",
    "    conc = Concatenate(axis=-1)([fused_emb, text_enc, demo_enc])\n",
    "    fore_op = Dense(V)(conc)\n",
    "    op = Dense(1, activation='sigmoid')(fore_op)\n",
    "    model = Model([demo, times, values, varis, texts], op)\n",
    "    if forecast:\n",
    "        fore_model = Model([demo, times, values, varis, texts], fore_op)\n",
    "        return [model, fore_model]\n",
    "    return model\n",
    "\n",
    "# To tune:\n",
    "# 1. Transformer parameters. (N, h, dropout)\n",
    "# 2. Normalization"
   ]
  },
  {
   "cell_type": "markdown",
   "metadata": {
    "id": "RGjR-HJCyU1y"
   },
   "source": [
    "## Pretrain on forecasting"
   ]
  },
  {
   "cell_type": "code",
   "execution_count": 16,
   "metadata": {
    "tags": []
   },
   "outputs": [],
   "source": [
    "lr, batch_size, samples_per_epoch, patience = 0.0005, 32, 102400, 5\n",
    "# lr, batch_size, samples_per_epoch, patience = 0.0005, 1, 1024, 5\n",
    "d, N, he, dropout = 50, 2, 4, 0.2\n",
    "model, fore_model =  build_strats(D, fore_max_len, V, d, N, he, dropout, forecast=True)\n",
    "print (fore_model.summary())\n",
    "fore_model.compile(loss=forecast_loss, optimizer=Adam(lr))\n",
    "\n",
    "# Pretrain fore_model.\n",
    "best_val_loss = np.inf\n",
    "N_fore = len(fore_train_op)\n",
    "fore_savepath = 'Exp1/Exp_M_Q/models/forecasting/forecasting_1_epochs.h5'\n",
    "\n",
    "# save losses for visualization\n",
    "# val_losses = []\n",
    "train_losses = []\n",
    "\n",
    "# for e in range(1000):\n",
    "#     e_indices = np.random.choice(range(N_fore), size=samples_per_epoch, replace=False)\n",
    "#     e_loss = 0\n",
    "#     pbar = tqdm(range(0, len(e_indices), batch_size))\n",
    "#     for start in pbar:\n",
    "#         ind = e_indices[start:start+batch_size]\n",
    "#         e_loss += fore_model.train_on_batch([ip[ind] for ip in fore_train_ip], fore_train_op[ind])\n",
    "#         pbar.set_description('%f'%(e_loss/(start+1)))\n",
    "#     val_loss = fore_model.evaluate(fore_valid_ip, fore_valid_op, batch_size=batch_size, verbose=1)\n",
    "#     val_losses.append(val_loss)\n",
    "#     print ('Epoch', e, 'loss', e_loss*batch_size/samples_per_epoch, 'val loss', val_loss)\n",
    "#     train_losses.append(e_loss*batch_size/samples_per_epoch)\n",
    "#     # model should be saved here after each epoch in case of unexpected disconnection\n",
    "#     if val_loss < best_val_loss:\n",
    "#         best_val_loss = val_loss\n",
    "#         fore_model.save_weights(fore_savepath)\n",
    "#         best_epoch = e\n",
    "#     if (e-best_epoch)>patience:\n",
    "#         break\n",
    "\n",
    "for e in range(1):\n",
    "    e_indices = np.random.choice(range(N_fore), size=samples_per_epoch, replace=False)\n",
    "    e_loss = 0\n",
    "    pbar = tqdm(range(0, len(e_indices), batch_size))\n",
    "    for start in pbar:\n",
    "        ind = e_indices[start:start+batch_size]\n",
    "        e_loss += fore_model.train_on_batch([ip[ind] for ip in fore_train_ip], fore_train_op[ind])\n",
    "        pbar.set_description('%f'%(e_loss/(start+1)))\n",
    "    # val_loss = fore_model.evaluate(fore_valid_ip, fore_valid_op, batch_size=batch_size, verbose=1)\n",
    "    # val_losses.append(val_loss)\n",
    "    # print ('Epoch', e, 'loss', e_loss*batch_size/samples_per_epoch, 'val loss', val_loss)\n",
    "    print ('Epoch', e, 'loss', e_loss*batch_size/samples_per_epoch)\n",
    "    train_losses.append(e_loss*batch_size/samples_per_epoch)\n",
    "    fore_model.save_weights(fore_savepath)\n",
    "    # # model should be saved here after each epoch in case of unexpected disconnection\n",
    "    # if val_loss < best_val_loss:\n",
    "    #     best_val_loss = val_loss\n",
    "    #     fore_model.save_weights(fore_savepath)\n",
    "    #     best_epoch = e\n",
    "    # if (e-best_epoch)>patience:\n",
    "    #     break\n",
    "    print(train_losses)\n",
    "\n",
    "    \n",
    "val_loss = fore_model.evaluate(fore_valid_ip, fore_valid_op, batch_size=batch_size, verbose=1)\n",
    "print(f'validation loss: {val_loss}')"
   ]
  },
  {
   "cell_type": "raw",
   "metadata": {},
   "source": [
    "0.291299: 100%|██████████| 3200/3200 [03:17<00:00, 16.21it/s] \n",
    "Epoch 0 loss 9.318732612282037\n",
    "[9.318732612282037]\n",
    "4276/4276 [==============================] - 76s 18ms/step - loss: 7.7598\n",
    "validation loss: 7.759812831878662"
   ]
  },
  {
   "cell_type": "code",
   "execution_count": 17,
   "metadata": {},
   "outputs": [],
   "source": [
    "lr, batch_size, samples_per_epoch, patience = 0.0005, 32, 102400, 5\n",
    "# lr, batch_size, samples_per_epoch, patience = 0.0005, 1, 1024, 5\n",
    "d, N, he, dropout = 50, 2, 4, 0.2\n",
    "model, fore_model =  build_strats(D, fore_max_len, V, d, N, he, dropout, forecast=True)\n",
    "print (fore_model.summary())\n",
    "\n",
    "\n",
    "# Pretrain fore_model.\n",
    "best_val_loss = np.inf\n",
    "N_fore = len(fore_train_op)\n",
    "\n",
    "# save losses for visualization\n",
    "# val_losses = []\n",
    "train_losses = []\n",
    "\n",
    "# for e in range(1000):\n",
    "#     e_indices = np.random.choice(range(N_fore), size=samples_per_epoch, replace=False)\n",
    "#     e_loss = 0\n",
    "#     pbar = tqdm(range(0, len(e_indices), batch_size))\n",
    "#     for start in pbar:\n",
    "#         ind = e_indices[start:start+batch_size]\n",
    "#         e_loss += fore_model.train_on_batch([ip[ind] for ip in fore_train_ip], fore_train_op[ind])\n",
    "#         pbar.set_description('%f'%(e_loss/(start+1)))\n",
    "#     val_loss = fore_model.evaluate(fore_valid_ip, fore_valid_op, batch_size=batch_size, verbose=1)\n",
    "#     val_losses.append(val_loss)\n",
    "#     print ('Epoch', e, 'loss', e_loss*batch_size/samples_per_epoch, 'val loss', val_loss)\n",
    "#     train_losses.append(e_loss*batch_size/samples_per_epoch)\n",
    "#     # model should be saved here after each epoch in case of unexpected disconnection\n",
    "#     if val_loss < best_val_loss:\n",
    "#         best_val_loss = val_loss\n",
    "#         fore_model.save_weights(fore_savepath)\n",
    "#         best_epoch = e\n",
    "#     if (e-best_epoch)>patience:\n",
    "#         break\n",
    "\n",
    "for e in range(100):\n",
    "    fore_loadpath = 'Exp1/Exp_M_Q/models/forecasting/forecasting_'+str(e+1)+'_epochs.h5'\n",
    "    fore_savepath = 'Exp1/Exp_M_Q/models/forecasting/forecasting_'+str(e+1+1)+'_epochs.h5'\n",
    "\n",
    "    fore_model.compile(loss=forecast_loss, optimizer=Adam(lr))\n",
    "    fore_model.load_weights(fore_loadpath)\n",
    "\n",
    "    e_indices = np.random.choice(range(N_fore), size=samples_per_epoch, replace=False)\n",
    "    e_loss = 0\n",
    "    pbar = tqdm(range(0, len(e_indices), batch_size))\n",
    "    for start in pbar:\n",
    "        ind = e_indices[start:start+batch_size]\n",
    "        e_loss += fore_model.train_on_batch([ip[ind] for ip in fore_train_ip], fore_train_op[ind])\n",
    "        pbar.set_description('%f'%(e_loss/(start+1)))\n",
    "    # val_loss = fore_model.evaluate(fore_valid_ip, fore_valid_op, batch_size=batch_size, verbose=1)\n",
    "    # val_losses.append(val_loss)\n",
    "    # print ('Epoch', e, 'loss', e_loss*batch_size/samples_per_epoch, 'val loss', val_loss)\n",
    "    print ('Epoch', e, 'loss', e_loss*batch_size/samples_per_epoch)\n",
    "    train_losses.append(e_loss*batch_size/samples_per_epoch)\n",
    "    fore_model.save_weights(fore_savepath)\n",
    "    # # model should be saved here after each epoch in case of unexpected disconnection\n",
    "    # if val_loss < best_val_loss:\n",
    "    #     best_val_loss = val_loss\n",
    "    #     fore_model.save_weights(fore_savepath)\n",
    "    #     best_epoch = e\n",
    "    # if (e-best_epoch)>patience:\n",
    "    #     break\n",
    "    print(train_losses)\n",
    "\n",
    "    \n",
    "# val_loss = fore_model.evaluate(fore_valid_ip, fore_valid_op, batch_size=batch_size, verbose=1)\n",
    "# print(f'validation loss: {val_loss}')"
   ]
  },
  {
   "cell_type": "raw",
   "metadata": {},
   "source": [
    "[9.318732612282037, 7.291990651711822, 6.946406541094184, 6.743793581351638, 6.30879805509001, 6.462229564189911, 6.086977599896491, 6.077348894029856, 6.030727446340024, 5.874898033030331, 6.011701506301761, 5.809587279222906, 5.790189587250352, 5.949127405770123, 5.780458965711295, 5.709231038466096, 5.72672918189317, 5.606008133329451, 5.631336814910173, 5.525067918710411, 5.5729930263385175, 5.711502108164131, 5.560293467640877, 5.463593676052987, 5.56848091751337, 5.433294353857637, 5.578844613991678, 5.585703432261944, 5.646538764648139, 5.396712069474161, 5.379502829052508, 5.361488649509847, 5.4101385222002865, 5.351324102021754, 5.446535709612071, 5.416362080462277, 5.390810968950391, 5.352746015116573, 5.471305414810777, 5.479283096380532, 5.419603392258287, 5.34737209610641, 5.328717035241425, 5.2486321803182365, 5.318496322445571, 5.294697959385812, 5.220677697733045, 5.347032425031066, 5.156205228976905, 5.404163098819554, 5.186997605115176, 5.22066269274801, 5.231768004260958, 5.342468266226351, 5.196414544396102, 5.232823316454887, 5.195955664366483, 5.313655120991171, 5.212066224701703, 5.224696957059205]"
   ]
  },
  {
   "cell_type": "code",
   "execution_count": 18,
   "metadata": {},
   "outputs": [],
   "source": [
    "lr, batch_size, samples_per_epoch, patience = 0.0005, 32, 102400, 5\n",
    "# lr, batch_size, samples_per_epoch, patience = 0.0005, 1, 1024, 5\n",
    "d, N, he, dropout = 50, 2, 4, 0.2\n",
    "model, fore_model =  build_strats(D, fore_max_len, V, d, N, he, dropout, forecast=True)\n",
    "print (fore_model.summary())\n",
    "\n",
    "\n",
    "# Pretrain fore_model.\n",
    "best_val_loss = np.inf\n",
    "N_fore = len(fore_train_op)\n",
    "\n",
    "# save losses for visualization\n",
    "# val_losses = []\n",
    "train_losses = []\n",
    "\n",
    "# for e in range(1000):\n",
    "#     e_indices = np.random.choice(range(N_fore), size=samples_per_epoch, replace=False)\n",
    "#     e_loss = 0\n",
    "#     pbar = tqdm(range(0, len(e_indices), batch_size))\n",
    "#     for start in pbar:\n",
    "#         ind = e_indices[start:start+batch_size]\n",
    "#         e_loss += fore_model.train_on_batch([ip[ind] for ip in fore_train_ip], fore_train_op[ind])\n",
    "#         pbar.set_description('%f'%(e_loss/(start+1)))\n",
    "#     val_loss = fore_model.evaluate(fore_valid_ip, fore_valid_op, batch_size=batch_size, verbose=1)\n",
    "#     val_losses.append(val_loss)\n",
    "#     print ('Epoch', e, 'loss', e_loss*batch_size/samples_per_epoch, 'val loss', val_loss)\n",
    "#     train_losses.append(e_loss*batch_size/samples_per_epoch)\n",
    "#     # model should be saved here after each epoch in case of unexpected disconnection\n",
    "#     if val_loss < best_val_loss:\n",
    "#         best_val_loss = val_loss\n",
    "#         fore_model.save_weights(fore_savepath)\n",
    "#         best_epoch = e\n",
    "#     if (e-best_epoch)>patience:\n",
    "#         break\n",
    "\n",
    "for e in range(100):\n",
    "    fore_loadpath = 'Exp1/Exp_M_Q/models/forecasting/forecasting_'+str(e+60)+'_epochs.h5'\n",
    "    fore_savepath = 'Exp1/Exp_M_Q/models/forecasting/forecasting_'+str(e+60+1)+'_epochs.h5'\n",
    "\n",
    "    fore_model.compile(loss=forecast_loss, optimizer=Adam(lr))\n",
    "    fore_model.load_weights(fore_loadpath)\n",
    "\n",
    "    e_indices = np.random.choice(range(N_fore), size=samples_per_epoch, replace=False)\n",
    "    e_loss = 0\n",
    "    pbar = tqdm(range(0, len(e_indices), batch_size))\n",
    "    for start in pbar:\n",
    "        ind = e_indices[start:start+batch_size]\n",
    "        e_loss += fore_model.train_on_batch([ip[ind] for ip in fore_train_ip], fore_train_op[ind])\n",
    "        pbar.set_description('%f'%(e_loss/(start+1)))\n",
    "    # val_loss = fore_model.evaluate(fore_valid_ip, fore_valid_op, batch_size=batch_size, verbose=1)\n",
    "    # val_losses.append(val_loss)\n",
    "    # print ('Epoch', e, 'loss', e_loss*batch_size/samples_per_epoch, 'val loss', val_loss)\n",
    "    print ('Epoch', e, 'loss', e_loss*batch_size/samples_per_epoch)\n",
    "    train_losses.append(e_loss*batch_size/samples_per_epoch)\n",
    "    fore_model.save_weights(fore_savepath)\n",
    "    # # model should be saved here after each epoch in case of unexpected disconnection\n",
    "    # if val_loss < best_val_loss:\n",
    "    #     best_val_loss = val_loss\n",
    "    #     fore_model.save_weights(fore_savepath)\n",
    "    #     best_epoch = e\n",
    "    # if (e-best_epoch)>patience:\n",
    "    #     break\n",
    "    print(train_losses)\n",
    "\n",
    "    \n",
    "# val_loss = fore_model.evaluate(fore_valid_ip, fore_valid_op, batch_size=batch_size, verbose=1)\n",
    "# print(f'validation loss: {val_loss}')"
   ]
  },
  {
   "cell_type": "raw",
   "metadata": {},
   "source": [
    "[5.287895026952028, 5.28453320145607, 5.138356801010668, 5.279050198383629, 5.184008731730282, 5.124203062541783, 5.215571616366506, 5.219777787700296, 5.132176207490265, 5.2165290769562125, 5.27699445720762, 5.288396394439042, 5.151182987168431, 5.165213810950518, 5.262664322033524, 5.006671607382596, 5.145058680661022, 5.067665962614119, 5.255264245830476, 5.095721010640264, 5.281915637813508, 5.063500675037504, 5.225938016325236, 5.108907200954855, 5.23612942289561, 5.251632323041559, 5.223062542639672, 5.229001679867506, 5.187384807765484, 5.202063785083592, 5.178936014324426, 5.162725190706551, 5.251111692078411, 5.218173449374735]"
   ]
  },
  {
   "cell_type": "code",
   "execution_count": null,
   "metadata": {
    "tags": []
   },
   "outputs": [
    {
     "name": "stdout",
     "output_type": "stream",
     "text": [
      "Model: \"model_1\"\n",
      "__________________________________________________________________________________________________\n",
      " Layer (type)                   Output Shape         Param #     Connected to                     \n",
      "==================================================================================================\n",
      " input_2 (InputLayer)           [(None, 33792)]      0           []                               \n",
      "                                                                                                  \n",
      " input_3 (InputLayer)           [(None, 880)]        0           []                               \n",
      "                                                                                                  \n",
      " input_4 (InputLayer)           [(None, 880)]        0           []                               \n",
      "                                                                                                  \n",
      " input_5 (InputLayer)           [(None, 880)]        0           []                               \n",
      "                                                                                                  \n",
      " dense_2 (Dense)                (None, 1000)         33793000    ['input_2[0][0]']                \n",
      "                                                                                                  \n",
      " embedding (Embedding)          (None, 880, 50)      6750        ['input_3[0][0]']                \n",
      "                                                                                                  \n",
      " cve (CVE)                      (None, 880, 50)      364         ['input_4[0][0]']                \n",
      "                                                                                                  \n",
      " cve_1 (CVE)                    (None, 880, 50)      364         ['input_5[0][0]']                \n",
      "                                                                                                  \n",
      " dense_3 (Dense)                (None, 50)           50050       ['dense_2[0][0]']                \n",
      "                                                                                                  \n",
      " add (Add)                      (None, 880, 50)      0           ['embedding[0][0]',              \n",
      "                                                                  'cve[0][0]',                    \n",
      "                                                                  'cve_1[0][0]',                  \n",
      "                                                                  'dense_3[0][0]']                \n",
      "                                                                                                  \n",
      " lambda (Lambda)                (None, 880)          0           ['input_3[0][0]']                \n",
      "                                                                                                  \n",
      " transformer (Transformer)      (None, 880, 50)      39508       ['add[0][0]',                    \n",
      "                                                                  'lambda[0][0]']                 \n",
      "                                                                                                  \n",
      " input_1 (InputLayer)           [(None, 2)]          0           []                               \n",
      "                                                                                                  \n",
      " attention (Attention)          (None, 880, 1)       5200        ['transformer[0][0]',            \n",
      "                                                                  'lambda[0][0]']                 \n",
      "                                                                                                  \n",
      " dense (Dense)                  (None, 100)          300         ['input_1[0][0]']                \n",
      "                                                                                                  \n",
      " lambda_1 (Lambda)              (None, 50)           0           ['transformer[0][0]',            \n",
      "                                                                  'attention[0][0]']              \n",
      "                                                                                                  \n",
      " dense_1 (Dense)                (None, 50)           5050        ['dense[0][0]']                  \n",
      "                                                                                                  \n",
      " concatenate (Concatenate)      (None, 150)          0           ['lambda_1[0][0]',               \n",
      "                                                                  'dense_3[0][0]',                \n",
      "                                                                  'dense_1[0][0]']                \n",
      "                                                                                                  \n",
      " dense_4 (Dense)                (None, 134)          20234       ['concatenate[0][0]']            \n",
      "                                                                                                  \n",
      "==================================================================================================\n",
      "Total params: 33,920,820\n",
      "Trainable params: 33,920,820\n",
      "Non-trainable params: 0\n",
      "__________________________________________________________________________________________________\n",
      "None\n"
     ]
    },
    {
     "name": "stderr",
     "output_type": "stream",
     "text": [
      "0.158741: 100%|██████████| 3200/3200 [03:19<00:00, 16.08it/s]\n"
     ]
    },
    {
     "name": "stdout",
     "output_type": "stream",
     "text": [
      "Epoch 0 loss 5.078177661783993\n",
      "[5.078177661783993]\n"
     ]
    },
    {
     "name": "stderr",
     "output_type": "stream",
     "text": [
      "0.162272: 100%|██████████| 3200/3200 [03:07<00:00, 17.09it/s]\n"
     ]
    },
    {
     "name": "stdout",
     "output_type": "stream",
     "text": [
      "Epoch 1 loss 5.1911333774402735\n",
      "[5.078177661783993, 5.1911333774402735]\n"
     ]
    },
    {
     "name": "stderr",
     "output_type": "stream",
     "text": [
      "0.159098: 100%|██████████| 3200/3200 [03:07<00:00, 17.09it/s]\n"
     ]
    },
    {
     "name": "stdout",
     "output_type": "stream",
     "text": [
      "Epoch 2 loss 5.08958750564605\n",
      "[5.078177661783993, 5.1911333774402735, 5.08958750564605]\n"
     ]
    },
    {
     "name": "stderr",
     "output_type": "stream",
     "text": [
      "0.159056: 100%|██████████| 3200/3200 [03:06<00:00, 17.15it/s]\n"
     ]
    },
    {
     "name": "stdout",
     "output_type": "stream",
     "text": [
      "Epoch 3 loss 5.08826446801424\n",
      "[5.078177661783993, 5.1911333774402735, 5.08958750564605, 5.08826446801424]\n"
     ]
    },
    {
     "name": "stderr",
     "output_type": "stream",
     "text": [
      "0.157545: 100%|██████████| 3200/3200 [03:07<00:00, 17.07it/s]\n"
     ]
    },
    {
     "name": "stdout",
     "output_type": "stream",
     "text": [
      "Epoch 4 loss 5.039914432875812\n",
      "[5.078177661783993, 5.1911333774402735, 5.08958750564605, 5.08826446801424, 5.039914432875812]\n"
     ]
    },
    {
     "name": "stderr",
     "output_type": "stream",
     "text": [
      "0.164287: 100%|██████████| 3200/3200 [03:05<00:00, 17.24it/s]\n"
     ]
    },
    {
     "name": "stdout",
     "output_type": "stream",
     "text": [
      "Epoch 5 loss 5.255603635720909\n",
      "[5.078177661783993, 5.1911333774402735, 5.08958750564605, 5.08826446801424, 5.039914432875812, 5.255603635720909]\n"
     ]
    },
    {
     "name": "stderr",
     "output_type": "stream",
     "text": [
      "0.159301: 100%|██████████| 3200/3200 [03:06<00:00, 17.19it/s]\n"
     ]
    },
    {
     "name": "stdout",
     "output_type": "stream",
     "text": [
      "Epoch 6 loss 5.0960818443074825\n",
      "[5.078177661783993, 5.1911333774402735, 5.08958750564605, 5.08826446801424, 5.039914432875812, 5.255603635720909, 5.0960818443074825]\n"
     ]
    },
    {
     "name": "stderr",
     "output_type": "stream",
     "text": [
      "0.157579: 100%|██████████| 3200/3200 [03:06<00:00, 17.12it/s]\n"
     ]
    },
    {
     "name": "stdout",
     "output_type": "stream",
     "text": [
      "Epoch 7 loss 5.040985796041786\n",
      "[5.078177661783993, 5.1911333774402735, 5.08958750564605, 5.08826446801424, 5.039914432875812, 5.255603635720909, 5.0960818443074825, 5.040985796041786]\n"
     ]
    },
    {
     "name": "stderr",
     "output_type": "stream",
     "text": [
      "0.159147: 100%|██████████| 3200/3200 [03:08<00:00, 17.01it/s]\n"
     ]
    },
    {
     "name": "stdout",
     "output_type": "stream",
     "text": [
      "Epoch 8 loss 5.091149568520486\n",
      "[5.078177661783993, 5.1911333774402735, 5.08958750564605, 5.08826446801424, 5.039914432875812, 5.255603635720909, 5.0960818443074825, 5.040985796041786, 5.091149568520486]\n"
     ]
    },
    {
     "name": "stderr",
     "output_type": "stream",
     "text": [
      "0.160085: 100%|██████████| 3200/3200 [03:07<00:00, 17.11it/s]\n"
     ]
    },
    {
     "name": "stdout",
     "output_type": "stream",
     "text": [
      "Epoch 9 loss 5.121167979389429\n",
      "[5.078177661783993, 5.1911333774402735, 5.08958750564605, 5.08826446801424, 5.039914432875812, 5.255603635720909, 5.0960818443074825, 5.040985796041786, 5.091149568520486, 5.121167979389429]\n"
     ]
    },
    {
     "name": "stderr",
     "output_type": "stream",
     "text": [
      "0.160055: 100%|██████████| 3200/3200 [03:07<00:00, 17.06it/s]\n"
     ]
    },
    {
     "name": "stdout",
     "output_type": "stream",
     "text": [
      "Epoch 10 loss 5.120199134349823\n",
      "[5.078177661783993, 5.1911333774402735, 5.08958750564605, 5.08826446801424, 5.039914432875812, 5.255603635720909, 5.0960818443074825, 5.040985796041786, 5.091149568520486, 5.121167979389429, 5.120199134349823]\n"
     ]
    },
    {
     "name": "stderr",
     "output_type": "stream",
     "text": [
      "0.160361: 100%|██████████| 3200/3200 [03:07<00:00, 17.08it/s]\n"
     ]
    },
    {
     "name": "stdout",
     "output_type": "stream",
     "text": [
      "Epoch 11 loss 5.129999846816063\n",
      "[5.078177661783993, 5.1911333774402735, 5.08958750564605, 5.08826446801424, 5.039914432875812, 5.255603635720909, 5.0960818443074825, 5.040985796041786, 5.091149568520486, 5.121167979389429, 5.120199134349823, 5.129999846816063]\n"
     ]
    },
    {
     "name": "stderr",
     "output_type": "stream",
     "text": [
      "0.159431: 100%|██████████| 3200/3200 [03:14<00:00, 16.43it/s]\n"
     ]
    },
    {
     "name": "stdout",
     "output_type": "stream",
     "text": [
      "Epoch 12 loss 5.100232606939971\n",
      "[5.078177661783993, 5.1911333774402735, 5.08958750564605, 5.08826446801424, 5.039914432875812, 5.255603635720909, 5.0960818443074825, 5.040985796041786, 5.091149568520486, 5.121167979389429, 5.120199134349823, 5.129999846816063, 5.100232606939971]\n"
     ]
    },
    {
     "name": "stderr",
     "output_type": "stream",
     "text": [
      "0.159209: 100%|██████████| 3200/3200 [03:14<00:00, 16.45it/s]\n"
     ]
    },
    {
     "name": "stdout",
     "output_type": "stream",
     "text": [
      "Epoch 13 loss 5.093160831741988\n",
      "[5.078177661783993, 5.1911333774402735, 5.08958750564605, 5.08826446801424, 5.039914432875812, 5.255603635720909, 5.0960818443074825, 5.040985796041786, 5.091149568520486, 5.121167979389429, 5.120199134349823, 5.129999846816063, 5.100232606939971, 5.093160831741988]\n"
     ]
    },
    {
     "name": "stderr",
     "output_type": "stream",
     "text": [
      "0.164234: 100%|██████████| 3200/3200 [03:11<00:00, 16.74it/s]\n"
     ]
    },
    {
     "name": "stdout",
     "output_type": "stream",
     "text": [
      "Epoch 14 loss 5.253896279484033\n",
      "[5.078177661783993, 5.1911333774402735, 5.08958750564605, 5.08826446801424, 5.039914432875812, 5.255603635720909, 5.0960818443074825, 5.040985796041786, 5.091149568520486, 5.121167979389429, 5.120199134349823, 5.129999846816063, 5.100232606939971, 5.093160831741988, 5.253896279484033]\n"
     ]
    },
    {
     "name": "stderr",
     "output_type": "stream",
     "text": [
      "0.160579: 100%|██████████| 3200/3200 [03:06<00:00, 17.17it/s]\n"
     ]
    },
    {
     "name": "stdout",
     "output_type": "stream",
     "text": [
      "Epoch 15 loss 5.136958541199565\n",
      "[5.078177661783993, 5.1911333774402735, 5.08958750564605, 5.08826446801424, 5.039914432875812, 5.255603635720909, 5.0960818443074825, 5.040985796041786, 5.091149568520486, 5.121167979389429, 5.120199134349823, 5.129999846816063, 5.100232606939971, 5.093160831741988, 5.253896279484033, 5.136958541199565]\n"
     ]
    },
    {
     "name": "stderr",
     "output_type": "stream",
     "text": [
      "0.159405: 100%|██████████| 3200/3200 [03:06<00:00, 17.15it/s]\n"
     ]
    },
    {
     "name": "stdout",
     "output_type": "stream",
     "text": [
      "Epoch 16 loss 5.099410971961915\n",
      "[5.078177661783993, 5.1911333774402735, 5.08958750564605, 5.08826446801424, 5.039914432875812, 5.255603635720909, 5.0960818443074825, 5.040985796041786, 5.091149568520486, 5.121167979389429, 5.120199134349823, 5.129999846816063, 5.100232606939971, 5.093160831741988, 5.253896279484033, 5.136958541199565, 5.099410971961915]\n"
     ]
    },
    {
     "name": "stderr",
     "output_type": "stream",
     "text": [
      "0.161216: 100%|██████████| 3200/3200 [03:06<00:00, 17.17it/s]\n"
     ]
    },
    {
     "name": "stdout",
     "output_type": "stream",
     "text": [
      "Epoch 17 loss 5.157364413179457\n",
      "[5.078177661783993, 5.1911333774402735, 5.08958750564605, 5.08826446801424, 5.039914432875812, 5.255603635720909, 5.0960818443074825, 5.040985796041786, 5.091149568520486, 5.121167979389429, 5.120199134349823, 5.129999846816063, 5.100232606939971, 5.093160831741988, 5.253896279484033, 5.136958541199565, 5.099410971961915, 5.157364413179457]\n"
     ]
    },
    {
     "name": "stderr",
     "output_type": "stream",
     "text": [
      "0.158864: 100%|██████████| 3200/3200 [03:07<00:00, 17.08it/s]\n"
     ]
    },
    {
     "name": "stdout",
     "output_type": "stream",
     "text": [
      "Epoch 18 loss 5.082107083648443\n",
      "[5.078177661783993, 5.1911333774402735, 5.08958750564605, 5.08826446801424, 5.039914432875812, 5.255603635720909, 5.0960818443074825, 5.040985796041786, 5.091149568520486, 5.121167979389429, 5.120199134349823, 5.129999846816063, 5.100232606939971, 5.093160831741988, 5.253896279484033, 5.136958541199565, 5.099410971961915, 5.157364413179457, 5.082107083648443]\n"
     ]
    },
    {
     "name": "stderr",
     "output_type": "stream",
     "text": [
      "0.158285: 100%|██████████| 3200/3200 [03:06<00:00, 17.18it/s]\n"
     ]
    },
    {
     "name": "stdout",
     "output_type": "stream",
     "text": [
      "Epoch 19 loss 5.063594927415251\n",
      "[5.078177661783993, 5.1911333774402735, 5.08958750564605, 5.08826446801424, 5.039914432875812, 5.255603635720909, 5.0960818443074825, 5.040985796041786, 5.091149568520486, 5.121167979389429, 5.120199134349823, 5.129999846816063, 5.100232606939971, 5.093160831741988, 5.253896279484033, 5.136958541199565, 5.099410971961915, 5.157364413179457, 5.082107083648443, 5.063594927415251]\n"
     ]
    },
    {
     "name": "stderr",
     "output_type": "stream",
     "text": [
      "0.160067: 100%|██████████| 3200/3200 [03:06<00:00, 17.14it/s]\n"
     ]
    },
    {
     "name": "stdout",
     "output_type": "stream",
     "text": [
      "Epoch 20 loss 5.120587950870394\n",
      "[5.078177661783993, 5.1911333774402735, 5.08958750564605, 5.08826446801424, 5.039914432875812, 5.255603635720909, 5.0960818443074825, 5.040985796041786, 5.091149568520486, 5.121167979389429, 5.120199134349823, 5.129999846816063, 5.100232606939971, 5.093160831741988, 5.253896279484033, 5.136958541199565, 5.099410971961915, 5.157364413179457, 5.082107083648443, 5.063594927415251, 5.120587950870394]\n"
     ]
    },
    {
     "name": "stderr",
     "output_type": "stream",
     "text": [
      "0.161838: 100%|██████████| 3200/3200 [03:06<00:00, 17.16it/s]\n"
     ]
    },
    {
     "name": "stdout",
     "output_type": "stream",
     "text": [
      "Epoch 21 loss 5.177242037542165\n",
      "[5.078177661783993, 5.1911333774402735, 5.08958750564605, 5.08826446801424, 5.039914432875812, 5.255603635720909, 5.0960818443074825, 5.040985796041786, 5.091149568520486, 5.121167979389429, 5.120199134349823, 5.129999846816063, 5.100232606939971, 5.093160831741988, 5.253896279484033, 5.136958541199565, 5.099410971961915, 5.157364413179457, 5.082107083648443, 5.063594927415251, 5.120587950870394, 5.177242037542165]\n"
     ]
    },
    {
     "name": "stderr",
     "output_type": "stream",
     "text": [
      "0.156251: 100%|██████████| 3200/3200 [03:04<00:00, 17.30it/s]\n"
     ]
    },
    {
     "name": "stdout",
     "output_type": "stream",
     "text": [
      "Epoch 22 loss 4.9985288121551275\n",
      "[5.078177661783993, 5.1911333774402735, 5.08958750564605, 5.08826446801424, 5.039914432875812, 5.255603635720909, 5.0960818443074825, 5.040985796041786, 5.091149568520486, 5.121167979389429, 5.120199134349823, 5.129999846816063, 5.100232606939971, 5.093160831741988, 5.253896279484033, 5.136958541199565, 5.099410971961915, 5.157364413179457, 5.082107083648443, 5.063594927415251, 5.120587950870394, 5.177242037542165, 4.9985288121551275]\n"
     ]
    },
    {
     "name": "stderr",
     "output_type": "stream",
     "text": [
      "0.160884: 100%|██████████| 3200/3200 [03:06<00:00, 17.16it/s]\n"
     ]
    },
    {
     "name": "stdout",
     "output_type": "stream",
     "text": [
      "Epoch 23 loss 5.146718669198453\n",
      "[5.078177661783993, 5.1911333774402735, 5.08958750564605, 5.08826446801424, 5.039914432875812, 5.255603635720909, 5.0960818443074825, 5.040985796041786, 5.091149568520486, 5.121167979389429, 5.120199134349823, 5.129999846816063, 5.100232606939971, 5.093160831741988, 5.253896279484033, 5.136958541199565, 5.099410971961915, 5.157364413179457, 5.082107083648443, 5.063594927415251, 5.120587950870394, 5.177242037542165, 4.9985288121551275, 5.146718669198453]\n"
     ]
    },
    {
     "name": "stderr",
     "output_type": "stream",
     "text": [
      "0.160305: 100%|██████████| 3200/3200 [03:07<00:00, 17.03it/s]\n"
     ]
    },
    {
     "name": "stdout",
     "output_type": "stream",
     "text": [
      "Epoch 24 loss 5.128198007233441\n",
      "[5.078177661783993, 5.1911333774402735, 5.08958750564605, 5.08826446801424, 5.039914432875812, 5.255603635720909, 5.0960818443074825, 5.040985796041786, 5.091149568520486, 5.121167979389429, 5.120199134349823, 5.129999846816063, 5.100232606939971, 5.093160831741988, 5.253896279484033, 5.136958541199565, 5.099410971961915, 5.157364413179457, 5.082107083648443, 5.063594927415251, 5.120587950870394, 5.177242037542165, 4.9985288121551275, 5.146718669198453, 5.128198007233441]\n"
     ]
    },
    {
     "name": "stderr",
     "output_type": "stream",
     "text": [
      "0.159050: 100%|██████████| 3200/3200 [03:06<00:00, 17.15it/s]\n"
     ]
    },
    {
     "name": "stdout",
     "output_type": "stream",
     "text": [
      "Epoch 25 loss 5.088057176358998\n",
      "[5.078177661783993, 5.1911333774402735, 5.08958750564605, 5.08826446801424, 5.039914432875812, 5.255603635720909, 5.0960818443074825, 5.040985796041786, 5.091149568520486, 5.121167979389429, 5.120199134349823, 5.129999846816063, 5.100232606939971, 5.093160831741988, 5.253896279484033, 5.136958541199565, 5.099410971961915, 5.157364413179457, 5.082107083648443, 5.063594927415251, 5.120587950870394, 5.177242037542165, 4.9985288121551275, 5.146718669198453, 5.128198007233441, 5.088057176358998]\n"
     ]
    },
    {
     "name": "stderr",
     "output_type": "stream",
     "text": [
      "0.159950: 100%|██████████| 3200/3200 [03:06<00:00, 17.16it/s]\n"
     ]
    },
    {
     "name": "stdout",
     "output_type": "stream",
     "text": [
      "Epoch 26 loss 5.116864660903811\n",
      "[5.078177661783993, 5.1911333774402735, 5.08958750564605, 5.08826446801424, 5.039914432875812, 5.255603635720909, 5.0960818443074825, 5.040985796041786, 5.091149568520486, 5.121167979389429, 5.120199134349823, 5.129999846816063, 5.100232606939971, 5.093160831741988, 5.253896279484033, 5.136958541199565, 5.099410971961915, 5.157364413179457, 5.082107083648443, 5.063594927415251, 5.120587950870394, 5.177242037542165, 4.9985288121551275, 5.146718669198453, 5.128198007233441, 5.088057176358998, 5.116864660903811]\n"
     ]
    },
    {
     "name": "stderr",
     "output_type": "stream",
     "text": [
      "0.158288: 100%|██████████| 3200/3200 [03:05<00:00, 17.22it/s]\n"
     ]
    },
    {
     "name": "stdout",
     "output_type": "stream",
     "text": [
      "Epoch 27 loss 5.063687894158066\n",
      "[5.078177661783993, 5.1911333774402735, 5.08958750564605, 5.08826446801424, 5.039914432875812, 5.255603635720909, 5.0960818443074825, 5.040985796041786, 5.091149568520486, 5.121167979389429, 5.120199134349823, 5.129999846816063, 5.100232606939971, 5.093160831741988, 5.253896279484033, 5.136958541199565, 5.099410971961915, 5.157364413179457, 5.082107083648443, 5.063594927415251, 5.120587950870394, 5.177242037542165, 4.9985288121551275, 5.146718669198453, 5.128198007233441, 5.088057176358998, 5.116864660903811, 5.063687894158066]\n"
     ]
    },
    {
     "name": "stderr",
     "output_type": "stream",
     "text": [
      "0.158408: 100%|██████████| 3200/3200 [03:06<00:00, 17.19it/s]\n"
     ]
    },
    {
     "name": "stdout",
     "output_type": "stream",
     "text": [
      "Epoch 28 loss 5.067516708821058\n",
      "[5.078177661783993, 5.1911333774402735, 5.08958750564605, 5.08826446801424, 5.039914432875812, 5.255603635720909, 5.0960818443074825, 5.040985796041786, 5.091149568520486, 5.121167979389429, 5.120199134349823, 5.129999846816063, 5.100232606939971, 5.093160831741988, 5.253896279484033, 5.136958541199565, 5.099410971961915, 5.157364413179457, 5.082107083648443, 5.063594927415251, 5.120587950870394, 5.177242037542165, 4.9985288121551275, 5.146718669198453, 5.128198007233441, 5.088057176358998, 5.116864660903811, 5.063687894158066, 5.067516708821058]\n"
     ]
    },
    {
     "name": "stderr",
     "output_type": "stream",
     "text": [
      "0.161685: 100%|██████████| 3200/3200 [03:08<00:00, 16.95it/s]\n"
     ]
    },
    {
     "name": "stdout",
     "output_type": "stream",
     "text": [
      "Epoch 29 loss 5.172345792539418\n",
      "[5.078177661783993, 5.1911333774402735, 5.08958750564605, 5.08826446801424, 5.039914432875812, 5.255603635720909, 5.0960818443074825, 5.040985796041786, 5.091149568520486, 5.121167979389429, 5.120199134349823, 5.129999846816063, 5.100232606939971, 5.093160831741988, 5.253896279484033, 5.136958541199565, 5.099410971961915, 5.157364413179457, 5.082107083648443, 5.063594927415251, 5.120587950870394, 5.177242037542165, 4.9985288121551275, 5.146718669198453, 5.128198007233441, 5.088057176358998, 5.116864660903811, 5.063687894158066, 5.067516708821058, 5.172345792539418]\n"
     ]
    },
    {
     "name": "stderr",
     "output_type": "stream",
     "text": [
      "0.160964: 100%|██████████| 3200/3200 [03:17<00:00, 16.19it/s]\n"
     ]
    },
    {
     "name": "stdout",
     "output_type": "stream",
     "text": [
      "Epoch 30 loss 5.149296444021165\n",
      "[5.078177661783993, 5.1911333774402735, 5.08958750564605, 5.08826446801424, 5.039914432875812, 5.255603635720909, 5.0960818443074825, 5.040985796041786, 5.091149568520486, 5.121167979389429, 5.120199134349823, 5.129999846816063, 5.100232606939971, 5.093160831741988, 5.253896279484033, 5.136958541199565, 5.099410971961915, 5.157364413179457, 5.082107083648443, 5.063594927415251, 5.120587950870394, 5.177242037542165, 4.9985288121551275, 5.146718669198453, 5.128198007233441, 5.088057176358998, 5.116864660903811, 5.063687894158066, 5.067516708821058, 5.172345792539418, 5.149296444021165]\n"
     ]
    },
    {
     "name": "stderr",
     "output_type": "stream",
     "text": [
      "0.160948: 100%|██████████| 3200/3200 [03:15<00:00, 16.36it/s]\n"
     ]
    },
    {
     "name": "stdout",
     "output_type": "stream",
     "text": [
      "Epoch 31 loss 5.148776121772825\n",
      "[5.078177661783993, 5.1911333774402735, 5.08958750564605, 5.08826446801424, 5.039914432875812, 5.255603635720909, 5.0960818443074825, 5.040985796041786, 5.091149568520486, 5.121167979389429, 5.120199134349823, 5.129999846816063, 5.100232606939971, 5.093160831741988, 5.253896279484033, 5.136958541199565, 5.099410971961915, 5.157364413179457, 5.082107083648443, 5.063594927415251, 5.120587950870394, 5.177242037542165, 4.9985288121551275, 5.146718669198453, 5.128198007233441, 5.088057176358998, 5.116864660903811, 5.063687894158066, 5.067516708821058, 5.172345792539418, 5.149296444021165, 5.148776121772825]\n"
     ]
    },
    {
     "name": "stderr",
     "output_type": "stream",
     "text": [
      "0.157960: 100%|██████████| 3200/3200 [03:12<00:00, 16.65it/s]\n"
     ]
    },
    {
     "name": "stdout",
     "output_type": "stream",
     "text": [
      "Epoch 32 loss 5.053185303509236\n",
      "[5.078177661783993, 5.1911333774402735, 5.08958750564605, 5.08826446801424, 5.039914432875812, 5.255603635720909, 5.0960818443074825, 5.040985796041786, 5.091149568520486, 5.121167979389429, 5.120199134349823, 5.129999846816063, 5.100232606939971, 5.093160831741988, 5.253896279484033, 5.136958541199565, 5.099410971961915, 5.157364413179457, 5.082107083648443, 5.063594927415251, 5.120587950870394, 5.177242037542165, 4.9985288121551275, 5.146718669198453, 5.128198007233441, 5.088057176358998, 5.116864660903811, 5.063687894158066, 5.067516708821058, 5.172345792539418, 5.149296444021165, 5.148776121772825, 5.053185303509236]\n"
     ]
    },
    {
     "name": "stderr",
     "output_type": "stream",
     "text": [
      "0.158051: 100%|██████████| 3200/3200 [03:06<00:00, 17.14it/s]\n"
     ]
    },
    {
     "name": "stdout",
     "output_type": "stream",
     "text": [
      "Epoch 33 loss 5.056091366261244\n",
      "[5.078177661783993, 5.1911333774402735, 5.08958750564605, 5.08826446801424, 5.039914432875812, 5.255603635720909, 5.0960818443074825, 5.040985796041786, 5.091149568520486, 5.121167979389429, 5.120199134349823, 5.129999846816063, 5.100232606939971, 5.093160831741988, 5.253896279484033, 5.136958541199565, 5.099410971961915, 5.157364413179457, 5.082107083648443, 5.063594927415251, 5.120587950870394, 5.177242037542165, 4.9985288121551275, 5.146718669198453, 5.128198007233441, 5.088057176358998, 5.116864660903811, 5.063687894158066, 5.067516708821058, 5.172345792539418, 5.149296444021165, 5.148776121772825, 5.053185303509236, 5.056091366261244]\n"
     ]
    },
    {
     "name": "stderr",
     "output_type": "stream",
     "text": [
      "0.163884: 100%|██████████| 3200/3200 [03:06<00:00, 17.18it/s]\n"
     ]
    },
    {
     "name": "stdout",
     "output_type": "stream",
     "text": [
      "Epoch 34 loss 5.242685914821923\n",
      "[5.078177661783993, 5.1911333774402735, 5.08958750564605, 5.08826446801424, 5.039914432875812, 5.255603635720909, 5.0960818443074825, 5.040985796041786, 5.091149568520486, 5.121167979389429, 5.120199134349823, 5.129999846816063, 5.100232606939971, 5.093160831741988, 5.253896279484033, 5.136958541199565, 5.099410971961915, 5.157364413179457, 5.082107083648443, 5.063594927415251, 5.120587950870394, 5.177242037542165, 4.9985288121551275, 5.146718669198453, 5.128198007233441, 5.088057176358998, 5.116864660903811, 5.063687894158066, 5.067516708821058, 5.172345792539418, 5.149296444021165, 5.148776121772825, 5.053185303509236, 5.056091366261244, 5.242685914821923]\n"
     ]
    },
    {
     "name": "stderr",
     "output_type": "stream",
     "text": [
      "0.160178: 100%|██████████| 3200/3200 [03:06<00:00, 17.14it/s]\n"
     ]
    },
    {
     "name": "stdout",
     "output_type": "stream",
     "text": [
      "Epoch 35 loss 5.124132778160274\n",
      "[5.078177661783993, 5.1911333774402735, 5.08958750564605, 5.08826446801424, 5.039914432875812, 5.255603635720909, 5.0960818443074825, 5.040985796041786, 5.091149568520486, 5.121167979389429, 5.120199134349823, 5.129999846816063, 5.100232606939971, 5.093160831741988, 5.253896279484033, 5.136958541199565, 5.099410971961915, 5.157364413179457, 5.082107083648443, 5.063594927415251, 5.120587950870394, 5.177242037542165, 4.9985288121551275, 5.146718669198453, 5.128198007233441, 5.088057176358998, 5.116864660903811, 5.063687894158066, 5.067516708821058, 5.172345792539418, 5.149296444021165, 5.148776121772825, 5.053185303509236, 5.056091366261244, 5.242685914821923, 5.124132778160274]\n"
     ]
    },
    {
     "name": "stderr",
     "output_type": "stream",
     "text": [
      "0.157044: 100%|██████████| 3200/3200 [03:05<00:00, 17.26it/s]\n"
     ]
    },
    {
     "name": "stdout",
     "output_type": "stream",
     "text": [
      "Epoch 36 loss 5.023901635110378\n",
      "[5.078177661783993, 5.1911333774402735, 5.08958750564605, 5.08826446801424, 5.039914432875812, 5.255603635720909, 5.0960818443074825, 5.040985796041786, 5.091149568520486, 5.121167979389429, 5.120199134349823, 5.129999846816063, 5.100232606939971, 5.093160831741988, 5.253896279484033, 5.136958541199565, 5.099410971961915, 5.157364413179457, 5.082107083648443, 5.063594927415251, 5.120587950870394, 5.177242037542165, 4.9985288121551275, 5.146718669198453, 5.128198007233441, 5.088057176358998, 5.116864660903811, 5.063687894158066, 5.067516708821058, 5.172345792539418, 5.149296444021165, 5.148776121772825, 5.053185303509236, 5.056091366261244, 5.242685914821923, 5.124132778160274, 5.023901635110378]\n"
     ]
    },
    {
     "name": "stderr",
     "output_type": "stream",
     "text": [
      "0.155491: 100%|██████████| 3200/3200 [03:10<00:00, 16.84it/s]\n"
     ]
    },
    {
     "name": "stdout",
     "output_type": "stream",
     "text": [
      "Epoch 37 loss 4.974196530580521\n",
      "[5.078177661783993, 5.1911333774402735, 5.08958750564605, 5.08826446801424, 5.039914432875812, 5.255603635720909, 5.0960818443074825, 5.040985796041786, 5.091149568520486, 5.121167979389429, 5.120199134349823, 5.129999846816063, 5.100232606939971, 5.093160831741988, 5.253896279484033, 5.136958541199565, 5.099410971961915, 5.157364413179457, 5.082107083648443, 5.063594927415251, 5.120587950870394, 5.177242037542165, 4.9985288121551275, 5.146718669198453, 5.128198007233441, 5.088057176358998, 5.116864660903811, 5.063687894158066, 5.067516708821058, 5.172345792539418, 5.149296444021165, 5.148776121772825, 5.053185303509236, 5.056091366261244, 5.242685914821923, 5.124132778160274, 5.023901635110378, 4.974196530580521]\n"
     ]
    },
    {
     "name": "stderr",
     "output_type": "stream",
     "text": [
      "0.157897: 100%|██████████| 3200/3200 [03:15<00:00, 16.35it/s]\n"
     ]
    },
    {
     "name": "stdout",
     "output_type": "stream",
     "text": [
      "Epoch 38 loss 5.051163934282958\n",
      "[5.078177661783993, 5.1911333774402735, 5.08958750564605, 5.08826446801424, 5.039914432875812, 5.255603635720909, 5.0960818443074825, 5.040985796041786, 5.091149568520486, 5.121167979389429, 5.120199134349823, 5.129999846816063, 5.100232606939971, 5.093160831741988, 5.253896279484033, 5.136958541199565, 5.099410971961915, 5.157364413179457, 5.082107083648443, 5.063594927415251, 5.120587950870394, 5.177242037542165, 4.9985288121551275, 5.146718669198453, 5.128198007233441, 5.088057176358998, 5.116864660903811, 5.063687894158066, 5.067516708821058, 5.172345792539418, 5.149296444021165, 5.148776121772825, 5.053185303509236, 5.056091366261244, 5.242685914821923, 5.124132778160274, 5.023901635110378, 4.974196530580521, 5.051163934282958]\n"
     ]
    },
    {
     "name": "stderr",
     "output_type": "stream",
     "text": [
      "0.154022: 100%|██████████| 3200/3200 [03:19<00:00, 16.08it/s]\n"
     ]
    },
    {
     "name": "stdout",
     "output_type": "stream",
     "text": [
      "Epoch 39 loss 4.927197046503425\n",
      "[5.078177661783993, 5.1911333774402735, 5.08958750564605, 5.08826446801424, 5.039914432875812, 5.255603635720909, 5.0960818443074825, 5.040985796041786, 5.091149568520486, 5.121167979389429, 5.120199134349823, 5.129999846816063, 5.100232606939971, 5.093160831741988, 5.253896279484033, 5.136958541199565, 5.099410971961915, 5.157364413179457, 5.082107083648443, 5.063594927415251, 5.120587950870394, 5.177242037542165, 4.9985288121551275, 5.146718669198453, 5.128198007233441, 5.088057176358998, 5.116864660903811, 5.063687894158066, 5.067516708821058, 5.172345792539418, 5.149296444021165, 5.148776121772825, 5.053185303509236, 5.056091366261244, 5.242685914821923, 5.124132778160274, 5.023901635110378, 4.974196530580521, 5.051163934282958, 4.927197046503425]\n"
     ]
    },
    {
     "name": "stderr",
     "output_type": "stream",
     "text": [
      "0.161585: 100%|██████████| 3200/3200 [03:08<00:00, 16.98it/s]\n"
     ]
    },
    {
     "name": "stdout",
     "output_type": "stream",
     "text": [
      "Epoch 40 loss 5.169149086922407\n",
      "[5.078177661783993, 5.1911333774402735, 5.08958750564605, 5.08826446801424, 5.039914432875812, 5.255603635720909, 5.0960818443074825, 5.040985796041786, 5.091149568520486, 5.121167979389429, 5.120199134349823, 5.129999846816063, 5.100232606939971, 5.093160831741988, 5.253896279484033, 5.136958541199565, 5.099410971961915, 5.157364413179457, 5.082107083648443, 5.063594927415251, 5.120587950870394, 5.177242037542165, 4.9985288121551275, 5.146718669198453, 5.128198007233441, 5.088057176358998, 5.116864660903811, 5.063687894158066, 5.067516708821058, 5.172345792539418, 5.149296444021165, 5.148776121772825, 5.053185303509236, 5.056091366261244, 5.242685914821923, 5.124132778160274, 5.023901635110378, 4.974196530580521, 5.051163934282958, 4.927197046503425, 5.169149086922407]\n"
     ]
    },
    {
     "name": "stderr",
     "output_type": "stream",
     "text": [
      "0.157264: 100%|██████████| 3200/3200 [03:08<00:00, 16.93it/s]\n"
     ]
    },
    {
     "name": "stdout",
     "output_type": "stream",
     "text": [
      "Epoch 41 loss 5.030929040461778\n",
      "[5.078177661783993, 5.1911333774402735, 5.08958750564605, 5.08826446801424, 5.039914432875812, 5.255603635720909, 5.0960818443074825, 5.040985796041786, 5.091149568520486, 5.121167979389429, 5.120199134349823, 5.129999846816063, 5.100232606939971, 5.093160831741988, 5.253896279484033, 5.136958541199565, 5.099410971961915, 5.157364413179457, 5.082107083648443, 5.063594927415251, 5.120587950870394, 5.177242037542165, 4.9985288121551275, 5.146718669198453, 5.128198007233441, 5.088057176358998, 5.116864660903811, 5.063687894158066, 5.067516708821058, 5.172345792539418, 5.149296444021165, 5.148776121772825, 5.053185303509236, 5.056091366261244, 5.242685914821923, 5.124132778160274, 5.023901635110378, 4.974196530580521, 5.051163934282958, 4.927197046503425, 5.169149086922407, 5.030929040461778]\n"
     ]
    },
    {
     "name": "stderr",
     "output_type": "stream",
     "text": [
      "0.154262: 100%|██████████| 3200/3200 [03:11<00:00, 16.73it/s]\n"
     ]
    },
    {
     "name": "stdout",
     "output_type": "stream",
     "text": [
      "Epoch 42 loss 4.934878080226481\n",
      "[5.078177661783993, 5.1911333774402735, 5.08958750564605, 5.08826446801424, 5.039914432875812, 5.255603635720909, 5.0960818443074825, 5.040985796041786, 5.091149568520486, 5.121167979389429, 5.120199134349823, 5.129999846816063, 5.100232606939971, 5.093160831741988, 5.253896279484033, 5.136958541199565, 5.099410971961915, 5.157364413179457, 5.082107083648443, 5.063594927415251, 5.120587950870394, 5.177242037542165, 4.9985288121551275, 5.146718669198453, 5.128198007233441, 5.088057176358998, 5.116864660903811, 5.063687894158066, 5.067516708821058, 5.172345792539418, 5.149296444021165, 5.148776121772825, 5.053185303509236, 5.056091366261244, 5.242685914821923, 5.124132778160274, 5.023901635110378, 4.974196530580521, 5.051163934282958, 4.927197046503425, 5.169149086922407, 5.030929040461778, 4.934878080226481]\n"
     ]
    },
    {
     "name": "stderr",
     "output_type": "stream",
     "text": [
      "0.156590: 100%|██████████| 3200/3200 [03:08<00:00, 16.98it/s]\n"
     ]
    },
    {
     "name": "stdout",
     "output_type": "stream",
     "text": [
      "Epoch 43 loss 5.009356692507863\n",
      "[5.078177661783993, 5.1911333774402735, 5.08958750564605, 5.08826446801424, 5.039914432875812, 5.255603635720909, 5.0960818443074825, 5.040985796041786, 5.091149568520486, 5.121167979389429, 5.120199134349823, 5.129999846816063, 5.100232606939971, 5.093160831741988, 5.253896279484033, 5.136958541199565, 5.099410971961915, 5.157364413179457, 5.082107083648443, 5.063594927415251, 5.120587950870394, 5.177242037542165, 4.9985288121551275, 5.146718669198453, 5.128198007233441, 5.088057176358998, 5.116864660903811, 5.063687894158066, 5.067516708821058, 5.172345792539418, 5.149296444021165, 5.148776121772825, 5.053185303509236, 5.056091366261244, 5.242685914821923, 5.124132778160274, 5.023901635110378, 4.974196530580521, 5.051163934282958, 4.927197046503425, 5.169149086922407, 5.030929040461778, 4.934878080226481, 5.009356692507863]\n"
     ]
    },
    {
     "name": "stderr",
     "output_type": "stream",
     "text": [
      "0.164414: 100%|██████████| 3200/3200 [03:08<00:00, 16.94it/s]\n"
     ]
    },
    {
     "name": "stdout",
     "output_type": "stream",
     "text": [
      "Epoch 44 loss 5.259660626314581\n",
      "[5.078177661783993, 5.1911333774402735, 5.08958750564605, 5.08826446801424, 5.039914432875812, 5.255603635720909, 5.0960818443074825, 5.040985796041786, 5.091149568520486, 5.121167979389429, 5.120199134349823, 5.129999846816063, 5.100232606939971, 5.093160831741988, 5.253896279484033, 5.136958541199565, 5.099410971961915, 5.157364413179457, 5.082107083648443, 5.063594927415251, 5.120587950870394, 5.177242037542165, 4.9985288121551275, 5.146718669198453, 5.128198007233441, 5.088057176358998, 5.116864660903811, 5.063687894158066, 5.067516708821058, 5.172345792539418, 5.149296444021165, 5.148776121772825, 5.053185303509236, 5.056091366261244, 5.242685914821923, 5.124132778160274, 5.023901635110378, 4.974196530580521, 5.051163934282958, 4.927197046503425, 5.169149086922407, 5.030929040461778, 4.934878080226481, 5.009356692507863, 5.259660626314581]\n"
     ]
    },
    {
     "name": "stderr",
     "output_type": "stream",
     "text": [
      "0.162711: 100%|██████████| 3200/3200 [03:16<00:00, 16.30it/s]\n"
     ]
    },
    {
     "name": "stdout",
     "output_type": "stream",
     "text": [
      "Epoch 45 loss 5.205190742351115\n",
      "[5.078177661783993, 5.1911333774402735, 5.08958750564605, 5.08826446801424, 5.039914432875812, 5.255603635720909, 5.0960818443074825, 5.040985796041786, 5.091149568520486, 5.121167979389429, 5.120199134349823, 5.129999846816063, 5.100232606939971, 5.093160831741988, 5.253896279484033, 5.136958541199565, 5.099410971961915, 5.157364413179457, 5.082107083648443, 5.063594927415251, 5.120587950870394, 5.177242037542165, 4.9985288121551275, 5.146718669198453, 5.128198007233441, 5.088057176358998, 5.116864660903811, 5.063687894158066, 5.067516708821058, 5.172345792539418, 5.149296444021165, 5.148776121772825, 5.053185303509236, 5.056091366261244, 5.242685914821923, 5.124132778160274, 5.023901635110378, 4.974196530580521, 5.051163934282958, 4.927197046503425, 5.169149086922407, 5.030929040461778, 4.934878080226481, 5.009356692507863, 5.259660626314581, 5.205190742351115]\n"
     ]
    },
    {
     "name": "stderr",
     "output_type": "stream",
     "text": [
      "0.157542: 100%|██████████| 3200/3200 [03:08<00:00, 16.94it/s]\n"
     ]
    },
    {
     "name": "stdout",
     "output_type": "stream",
     "text": [
      "Epoch 46 loss 5.039811330400408\n",
      "[5.078177661783993, 5.1911333774402735, 5.08958750564605, 5.08826446801424, 5.039914432875812, 5.255603635720909, 5.0960818443074825, 5.040985796041786, 5.091149568520486, 5.121167979389429, 5.120199134349823, 5.129999846816063, 5.100232606939971, 5.093160831741988, 5.253896279484033, 5.136958541199565, 5.099410971961915, 5.157364413179457, 5.082107083648443, 5.063594927415251, 5.120587950870394, 5.177242037542165, 4.9985288121551275, 5.146718669198453, 5.128198007233441, 5.088057176358998, 5.116864660903811, 5.063687894158066, 5.067516708821058, 5.172345792539418, 5.149296444021165, 5.148776121772825, 5.053185303509236, 5.056091366261244, 5.242685914821923, 5.124132778160274, 5.023901635110378, 4.974196530580521, 5.051163934282958, 4.927197046503425, 5.169149086922407, 5.030929040461778, 4.934878080226481, 5.009356692507863, 5.259660626314581, 5.205190742351115, 5.039811330400408]\n"
     ]
    },
    {
     "name": "stderr",
     "output_type": "stream",
     "text": [
      "0.161013: 100%|██████████| 3200/3200 [03:07<00:00, 17.05it/s]\n"
     ]
    },
    {
     "name": "stdout",
     "output_type": "stream",
     "text": [
      "Epoch 47 loss 5.150841445177793\n",
      "[5.078177661783993, 5.1911333774402735, 5.08958750564605, 5.08826446801424, 5.039914432875812, 5.255603635720909, 5.0960818443074825, 5.040985796041786, 5.091149568520486, 5.121167979389429, 5.120199134349823, 5.129999846816063, 5.100232606939971, 5.093160831741988, 5.253896279484033, 5.136958541199565, 5.099410971961915, 5.157364413179457, 5.082107083648443, 5.063594927415251, 5.120587950870394, 5.177242037542165, 4.9985288121551275, 5.146718669198453, 5.128198007233441, 5.088057176358998, 5.116864660903811, 5.063687894158066, 5.067516708821058, 5.172345792539418, 5.149296444021165, 5.148776121772825, 5.053185303509236, 5.056091366261244, 5.242685914821923, 5.124132778160274, 5.023901635110378, 4.974196530580521, 5.051163934282958, 4.927197046503425, 5.169149086922407, 5.030929040461778, 4.934878080226481, 5.009356692507863, 5.259660626314581, 5.205190742351115, 5.039811330400408, 5.150841445177793]\n"
     ]
    },
    {
     "name": "stderr",
     "output_type": "stream",
     "text": [
      "0.161132: 100%|██████████| 3200/3200 [03:08<00:00, 16.96it/s]\n"
     ]
    },
    {
     "name": "stdout",
     "output_type": "stream",
     "text": [
      "Epoch 48 loss 5.154649964533746\n",
      "[5.078177661783993, 5.1911333774402735, 5.08958750564605, 5.08826446801424, 5.039914432875812, 5.255603635720909, 5.0960818443074825, 5.040985796041786, 5.091149568520486, 5.121167979389429, 5.120199134349823, 5.129999846816063, 5.100232606939971, 5.093160831741988, 5.253896279484033, 5.136958541199565, 5.099410971961915, 5.157364413179457, 5.082107083648443, 5.063594927415251, 5.120587950870394, 5.177242037542165, 4.9985288121551275, 5.146718669198453, 5.128198007233441, 5.088057176358998, 5.116864660903811, 5.063687894158066, 5.067516708821058, 5.172345792539418, 5.149296444021165, 5.148776121772825, 5.053185303509236, 5.056091366261244, 5.242685914821923, 5.124132778160274, 5.023901635110378, 4.974196530580521, 5.051163934282958, 4.927197046503425, 5.169149086922407, 5.030929040461778, 4.934878080226481, 5.009356692507863, 5.259660626314581, 5.205190742351115, 5.039811330400408, 5.150841445177793, 5.154649964533746]\n"
     ]
    },
    {
     "name": "stderr",
     "output_type": "stream",
     "text": [
      "0.159086: 100%|██████████| 3200/3200 [03:08<00:00, 16.96it/s]\n"
     ]
    },
    {
     "name": "stdout",
     "output_type": "stream",
     "text": [
      "Epoch 49 loss 5.089201665632427\n",
      "[5.078177661783993, 5.1911333774402735, 5.08958750564605, 5.08826446801424, 5.039914432875812, 5.255603635720909, 5.0960818443074825, 5.040985796041786, 5.091149568520486, 5.121167979389429, 5.120199134349823, 5.129999846816063, 5.100232606939971, 5.093160831741988, 5.253896279484033, 5.136958541199565, 5.099410971961915, 5.157364413179457, 5.082107083648443, 5.063594927415251, 5.120587950870394, 5.177242037542165, 4.9985288121551275, 5.146718669198453, 5.128198007233441, 5.088057176358998, 5.116864660903811, 5.063687894158066, 5.067516708821058, 5.172345792539418, 5.149296444021165, 5.148776121772825, 5.053185303509236, 5.056091366261244, 5.242685914821923, 5.124132778160274, 5.023901635110378, 4.974196530580521, 5.051163934282958, 4.927197046503425, 5.169149086922407, 5.030929040461778, 4.934878080226481, 5.009356692507863, 5.259660626314581, 5.205190742351115, 5.039811330400408, 5.150841445177793, 5.154649964533746, 5.089201665632427]\n"
     ]
    },
    {
     "name": "stderr",
     "output_type": "stream",
     "text": [
      "0.160196: 100%|██████████| 3200/3200 [03:15<00:00, 16.37it/s]\n"
     ]
    },
    {
     "name": "stdout",
     "output_type": "stream",
     "text": [
      "Epoch 50 loss 5.124733722358942\n",
      "[5.078177661783993, 5.1911333774402735, 5.08958750564605, 5.08826446801424, 5.039914432875812, 5.255603635720909, 5.0960818443074825, 5.040985796041786, 5.091149568520486, 5.121167979389429, 5.120199134349823, 5.129999846816063, 5.100232606939971, 5.093160831741988, 5.253896279484033, 5.136958541199565, 5.099410971961915, 5.157364413179457, 5.082107083648443, 5.063594927415251, 5.120587950870394, 5.177242037542165, 4.9985288121551275, 5.146718669198453, 5.128198007233441, 5.088057176358998, 5.116864660903811, 5.063687894158066, 5.067516708821058, 5.172345792539418, 5.149296444021165, 5.148776121772825, 5.053185303509236, 5.056091366261244, 5.242685914821923, 5.124132778160274, 5.023901635110378, 4.974196530580521, 5.051163934282958, 4.927197046503425, 5.169149086922407, 5.030929040461778, 4.934878080226481, 5.009356692507863, 5.259660626314581, 5.205190742351115, 5.039811330400408, 5.150841445177793, 5.154649964533746, 5.089201665632427, 5.124733722358942]\n"
     ]
    },
    {
     "name": "stderr",
     "output_type": "stream",
     "text": [
      "0.157789: 100%|██████████| 3200/3200 [03:09<00:00, 16.86it/s]\n"
     ]
    },
    {
     "name": "stdout",
     "output_type": "stream",
     "text": [
      "Epoch 51 loss 5.047715611495078\n",
      "[5.078177661783993, 5.1911333774402735, 5.08958750564605, 5.08826446801424, 5.039914432875812, 5.255603635720909, 5.0960818443074825, 5.040985796041786, 5.091149568520486, 5.121167979389429, 5.120199134349823, 5.129999846816063, 5.100232606939971, 5.093160831741988, 5.253896279484033, 5.136958541199565, 5.099410971961915, 5.157364413179457, 5.082107083648443, 5.063594927415251, 5.120587950870394, 5.177242037542165, 4.9985288121551275, 5.146718669198453, 5.128198007233441, 5.088057176358998, 5.116864660903811, 5.063687894158066, 5.067516708821058, 5.172345792539418, 5.149296444021165, 5.148776121772825, 5.053185303509236, 5.056091366261244, 5.242685914821923, 5.124132778160274, 5.023901635110378, 4.974196530580521, 5.051163934282958, 4.927197046503425, 5.169149086922407, 5.030929040461778, 4.934878080226481, 5.009356692507863, 5.259660626314581, 5.205190742351115, 5.039811330400408, 5.150841445177793, 5.154649964533746, 5.089201665632427, 5.124733722358942, 5.047715611495078]\n"
     ]
    },
    {
     "name": "stderr",
     "output_type": "stream",
     "text": [
      "0.157328: 100%|██████████| 3200/3200 [03:08<00:00, 16.99it/s]\n"
     ]
    },
    {
     "name": "stdout",
     "output_type": "stream",
     "text": [
      "Epoch 52 loss 5.032972690053284\n",
      "[5.078177661783993, 5.1911333774402735, 5.08958750564605, 5.08826446801424, 5.039914432875812, 5.255603635720909, 5.0960818443074825, 5.040985796041786, 5.091149568520486, 5.121167979389429, 5.120199134349823, 5.129999846816063, 5.100232606939971, 5.093160831741988, 5.253896279484033, 5.136958541199565, 5.099410971961915, 5.157364413179457, 5.082107083648443, 5.063594927415251, 5.120587950870394, 5.177242037542165, 4.9985288121551275, 5.146718669198453, 5.128198007233441, 5.088057176358998, 5.116864660903811, 5.063687894158066, 5.067516708821058, 5.172345792539418, 5.149296444021165, 5.148776121772825, 5.053185303509236, 5.056091366261244, 5.242685914821923, 5.124132778160274, 5.023901635110378, 4.974196530580521, 5.051163934282958, 4.927197046503425, 5.169149086922407, 5.030929040461778, 4.934878080226481, 5.009356692507863, 5.259660626314581, 5.205190742351115, 5.039811330400408, 5.150841445177793, 5.154649964533746, 5.089201665632427, 5.124733722358942, 5.047715611495078, 5.032972690053284]\n"
     ]
    },
    {
     "name": "stderr",
     "output_type": "stream",
     "text": [
      "0.161941: 100%|██████████| 3200/3200 [03:10<00:00, 16.84it/s]\n"
     ]
    },
    {
     "name": "stdout",
     "output_type": "stream",
     "text": [
      "Epoch 53 loss 5.180533787757159\n",
      "[5.078177661783993, 5.1911333774402735, 5.08958750564605, 5.08826446801424, 5.039914432875812, 5.255603635720909, 5.0960818443074825, 5.040985796041786, 5.091149568520486, 5.121167979389429, 5.120199134349823, 5.129999846816063, 5.100232606939971, 5.093160831741988, 5.253896279484033, 5.136958541199565, 5.099410971961915, 5.157364413179457, 5.082107083648443, 5.063594927415251, 5.120587950870394, 5.177242037542165, 4.9985288121551275, 5.146718669198453, 5.128198007233441, 5.088057176358998, 5.116864660903811, 5.063687894158066, 5.067516708821058, 5.172345792539418, 5.149296444021165, 5.148776121772825, 5.053185303509236, 5.056091366261244, 5.242685914821923, 5.124132778160274, 5.023901635110378, 4.974196530580521, 5.051163934282958, 4.927197046503425, 5.169149086922407, 5.030929040461778, 4.934878080226481, 5.009356692507863, 5.259660626314581, 5.205190742351115, 5.039811330400408, 5.150841445177793, 5.154649964533746, 5.089201665632427, 5.124733722358942, 5.047715611495078, 5.032972690053284, 5.180533787757159]\n"
     ]
    },
    {
     "name": "stderr",
     "output_type": "stream",
     "text": [
      "0.155785: 100%|██████████| 3200/3200 [03:10<00:00, 16.84it/s]\n"
     ]
    },
    {
     "name": "stdout",
     "output_type": "stream",
     "text": [
      "Epoch 54 loss 4.983600179627538\n",
      "[5.078177661783993, 5.1911333774402735, 5.08958750564605, 5.08826446801424, 5.039914432875812, 5.255603635720909, 5.0960818443074825, 5.040985796041786, 5.091149568520486, 5.121167979389429, 5.120199134349823, 5.129999846816063, 5.100232606939971, 5.093160831741988, 5.253896279484033, 5.136958541199565, 5.099410971961915, 5.157364413179457, 5.082107083648443, 5.063594927415251, 5.120587950870394, 5.177242037542165, 4.9985288121551275, 5.146718669198453, 5.128198007233441, 5.088057176358998, 5.116864660903811, 5.063687894158066, 5.067516708821058, 5.172345792539418, 5.149296444021165, 5.148776121772825, 5.053185303509236, 5.056091366261244, 5.242685914821923, 5.124132778160274, 5.023901635110378, 4.974196530580521, 5.051163934282958, 4.927197046503425, 5.169149086922407, 5.030929040461778, 4.934878080226481, 5.009356692507863, 5.259660626314581, 5.205190742351115, 5.039811330400408, 5.150841445177793, 5.154649964533746, 5.089201665632427, 5.124733722358942, 5.047715611495078, 5.032972690053284, 5.180533787757159, 4.983600179627538]\n"
     ]
    },
    {
     "name": "stderr",
     "output_type": "stream",
     "text": [
      "0.159132: 100%|██████████| 3200/3200 [03:14<00:00, 16.43it/s]\n"
     ]
    },
    {
     "name": "stdout",
     "output_type": "stream",
     "text": [
      "Epoch 55 loss 5.090684390217066\n",
      "[5.078177661783993, 5.1911333774402735, 5.08958750564605, 5.08826446801424, 5.039914432875812, 5.255603635720909, 5.0960818443074825, 5.040985796041786, 5.091149568520486, 5.121167979389429, 5.120199134349823, 5.129999846816063, 5.100232606939971, 5.093160831741988, 5.253896279484033, 5.136958541199565, 5.099410971961915, 5.157364413179457, 5.082107083648443, 5.063594927415251, 5.120587950870394, 5.177242037542165, 4.9985288121551275, 5.146718669198453, 5.128198007233441, 5.088057176358998, 5.116864660903811, 5.063687894158066, 5.067516708821058, 5.172345792539418, 5.149296444021165, 5.148776121772825, 5.053185303509236, 5.056091366261244, 5.242685914821923, 5.124132778160274, 5.023901635110378, 4.974196530580521, 5.051163934282958, 4.927197046503425, 5.169149086922407, 5.030929040461778, 4.934878080226481, 5.009356692507863, 5.259660626314581, 5.205190742351115, 5.039811330400408, 5.150841445177793, 5.154649964533746, 5.089201665632427, 5.124733722358942, 5.047715611495078, 5.032972690053284, 5.180533787757159, 4.983600179627538, 5.090684390217066]\n"
     ]
    },
    {
     "name": "stderr",
     "output_type": "stream",
     "text": [
      "0.154048:  24%|██▎       | 752/3200 [00:51<02:13, 18.29it/s]"
     ]
    }
   ],
   "source": [
    "lr, batch_size, samples_per_epoch, patience = 0.0005, 32, 102400, 5\n",
    "# lr, batch_size, samples_per_epoch, patience = 0.0005, 1, 1024, 5\n",
    "d, N, he, dropout = 50, 2, 4, 0.2\n",
    "model, fore_model =  build_strats(D, fore_max_len, V, d, N, he, dropout, forecast=True)\n",
    "print (fore_model.summary())\n",
    "\n",
    "\n",
    "# Pretrain fore_model.\n",
    "best_val_loss = np.inf\n",
    "N_fore = len(fore_train_op)\n",
    "\n",
    "# save losses for visualization\n",
    "# val_losses = []\n",
    "train_losses = []\n",
    "\n",
    "# for e in range(1000):\n",
    "#     e_indices = np.random.choice(range(N_fore), size=samples_per_epoch, replace=False)\n",
    "#     e_loss = 0\n",
    "#     pbar = tqdm(range(0, len(e_indices), batch_size))\n",
    "#     for start in pbar:\n",
    "#         ind = e_indices[start:start+batch_size]\n",
    "#         e_loss += fore_model.train_on_batch([ip[ind] for ip in fore_train_ip], fore_train_op[ind])\n",
    "#         pbar.set_description('%f'%(e_loss/(start+1)))\n",
    "#     val_loss = fore_model.evaluate(fore_valid_ip, fore_valid_op, batch_size=batch_size, verbose=1)\n",
    "#     val_losses.append(val_loss)\n",
    "#     print ('Epoch', e, 'loss', e_loss*batch_size/samples_per_epoch, 'val loss', val_loss)\n",
    "#     train_losses.append(e_loss*batch_size/samples_per_epoch)\n",
    "#     # model should be saved here after each epoch in case of unexpected disconnection\n",
    "#     if val_loss < best_val_loss:\n",
    "#         best_val_loss = val_loss\n",
    "#         fore_model.save_weights(fore_savepath)\n",
    "#         best_epoch = e\n",
    "#     if (e-best_epoch)>patience:\n",
    "#         break\n",
    "\n",
    "for e in range(100):\n",
    "    fore_loadpath = 'Exp1/Exp_M_Q/models/forecasting/forecasting_'+str(e+93)+'_epochs.h5'\n",
    "    fore_savepath = 'Exp1/Exp_M_Q/models/forecasting/forecasting_'+str(e+93+1)+'_epochs.h5'\n",
    "\n",
    "    fore_model.compile(loss=forecast_loss, optimizer=Adam(lr))\n",
    "    fore_model.load_weights(fore_loadpath)\n",
    "\n",
    "    e_indices = np.random.choice(range(N_fore), size=samples_per_epoch, replace=False)\n",
    "    e_loss = 0\n",
    "    pbar = tqdm(range(0, len(e_indices), batch_size))\n",
    "    for start in pbar:\n",
    "        ind = e_indices[start:start+batch_size]\n",
    "        e_loss += fore_model.train_on_batch([ip[ind] for ip in fore_train_ip], fore_train_op[ind])\n",
    "        pbar.set_description('%f'%(e_loss/(start+1)))\n",
    "    # val_loss = fore_model.evaluate(fore_valid_ip, fore_valid_op, batch_size=batch_size, verbose=1)\n",
    "    # val_losses.append(val_loss)\n",
    "    # print ('Epoch', e, 'loss', e_loss*batch_size/samples_per_epoch, 'val loss', val_loss)\n",
    "    print ('Epoch', e, 'loss', e_loss*batch_size/samples_per_epoch)\n",
    "    train_losses.append(e_loss*batch_size/samples_per_epoch)\n",
    "    fore_model.save_weights(fore_savepath)\n",
    "    # # model should be saved here after each epoch in case of unexpected disconnection\n",
    "    # if val_loss < best_val_loss:\n",
    "    #     best_val_loss = val_loss\n",
    "    #     fore_model.save_weights(fore_savepath)\n",
    "    #     best_epoch = e\n",
    "    # if (e-best_epoch)>patience:\n",
    "    #     break\n",
    "    print(train_losses)\n",
    "\n",
    "    \n",
    "# val_loss = fore_model.evaluate(fore_valid_ip, fore_valid_op, batch_size=batch_size, verbose=1)\n",
    "# print(f'validation loss: {val_loss}')"
   ]
  }
 ],
 "metadata": {
  "accelerator": "GPU",
  "colab": {
   "machine_shape": "hm",
   "provenance": [],
   "toc_visible": true
  },
  "gpuClass": "standard",
  "kernelspec": {
   "display_name": "Python 3.10.9 64-bit",
   "language": "python",
   "name": "python3"
  },
  "language_info": {
   "codemirror_mode": {
    "name": "ipython",
    "version": 3
   },
   "file_extension": ".py",
   "mimetype": "text/x-python",
   "name": "python",
   "nbconvert_exporter": "python",
   "pygments_lexer": "ipython3",
   "version": "3.10.9"
  },
  "vscode": {
   "interpreter": {
    "hash": "aee8b7b246df8f9039afb4144a1f6fd8d2ca17a180786b69acc140d282b71a49"
   }
  }
 },
 "nbformat": 4,
 "nbformat_minor": 4
}
