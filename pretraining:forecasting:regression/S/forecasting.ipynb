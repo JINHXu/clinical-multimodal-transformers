{
 "cells": [
  {
   "cell_type": "markdown",
   "metadata": {
    "id": "kTDFCBgnk1o3"
   },
   "source": [
    "# Strats+Text Forecasting\n",
    "\n",
    "- physiological features + clinical text\n",
    "\n",
    "- clinical BERT for text embedding \n"
   ]
  },
  {
   "cell_type": "code",
   "execution_count": 1,
   "metadata": {},
   "outputs": [],
   "source": [
    "import os\n",
    "os.environ['TF_CPP_MIN_LOG_LEVEL'] = '2'"
   ]
  },
  {
   "cell_type": "code",
   "execution_count": 2,
   "metadata": {},
   "outputs": [],
   "source": [
    "! export TF_CPP_MIN_LOG_LEVEL=2"
   ]
  },
  {
   "cell_type": "markdown",
   "metadata": {
    "id": "ECKAJiLXiTlN"
   },
   "source": [
    "## Hardware check"
   ]
  },
  {
   "cell_type": "code",
   "execution_count": 3,
   "metadata": {
    "id": "e7odgm5VsOsb"
   },
   "outputs": [
    {
     "name": "stdout",
     "output_type": "stream",
     "text": [
      "Thu Jan 25 21:09:54 2024       \n",
      "+---------------------------------------------------------------------------------------+\n",
      "| NVIDIA-SMI 535.104.12             Driver Version: 535.104.12   CUDA Version: 12.2     |\n",
      "|-----------------------------------------+----------------------+----------------------+\n",
      "| GPU  Name                 Persistence-M | Bus-Id        Disp.A | Volatile Uncorr. ECC |\n",
      "| Fan  Temp   Perf          Pwr:Usage/Cap |         Memory-Usage | GPU-Util  Compute M. |\n",
      "|                                         |                      |               MIG M. |\n",
      "|=========================================+======================+======================|\n",
      "|   0  Tesla V100-SXM2-32GB           On  | 00000000:3A:00.0 Off |                    0 |\n",
      "| N/A   32C    P0              42W / 300W |      9MiB / 32768MiB |      0%      Default |\n",
      "|                                         |                      |                  N/A |\n",
      "+-----------------------------------------+----------------------+----------------------+\n",
      "|   1  Tesla V100-SXM2-32GB           On  | 00000000:3B:00.0 Off |                    0 |\n",
      "| N/A   33C    P0              42W / 300W |      9MiB / 32768MiB |      0%      Default |\n",
      "|                                         |                      |                  N/A |\n",
      "+-----------------------------------------+----------------------+----------------------+\n",
      "                                                                                         \n",
      "+---------------------------------------------------------------------------------------+\n",
      "| Processes:                                                                            |\n",
      "|  GPU   GI   CI        PID   Type   Process name                            GPU Memory |\n",
      "|        ID   ID                                                             Usage      |\n",
      "|=======================================================================================|\n",
      "|    0   N/A  N/A      2328      G   /usr/libexec/Xorg                             8MiB |\n",
      "|    1   N/A  N/A      2328      G   /usr/libexec/Xorg                             8MiB |\n",
      "+---------------------------------------------------------------------------------------+\n"
     ]
    }
   ],
   "source": [
    "# gpu check\n",
    "!nvidia-smi"
   ]
  },
  {
   "cell_type": "code",
   "execution_count": 4,
   "metadata": {
    "id": "oEEUeIW3sOsc"
   },
   "outputs": [
    {
     "data": {
      "text/plain": [
       "80"
      ]
     },
     "execution_count": 4,
     "metadata": {},
     "output_type": "execute_result"
    }
   ],
   "source": [
    "# check number of cores\n",
    "import multiprocessing\n",
    "\n",
    "cores = multiprocessing.cpu_count() \n",
    "cores"
   ]
  },
  {
   "cell_type": "markdown",
   "metadata": {
    "id": "vY9I5eXWeOom"
   },
   "source": [
    "## Environment Prep"
   ]
  },
  {
   "cell_type": "code",
   "execution_count": 5,
   "metadata": {
    "tags": []
   },
   "outputs": [
    {
     "name": "stdout",
     "output_type": "stream",
     "text": [
      "/pfs/data5/home/hd/hd_hd/hd_nf283/MA_Thesis\n"
     ]
    }
   ],
   "source": [
    "cd /pfs/data5/home/hd/hd_hd/hd_nf283/MA_Thesis"
   ]
  },
  {
   "cell_type": "code",
   "execution_count": 6,
   "metadata": {
    "id": "RpTg0QzPqqKv"
   },
   "outputs": [],
   "source": [
    "from tensorflow.keras.layers import Input, Dense, Dropout, BatchNormalization, Lambda\n",
    "# from tensorflow.keras.models import Model\n",
    "from tensorflow.keras import models\n",
    "import pickle\n",
    "import numpy as np\n",
    "from tqdm import tqdm\n",
    "tqdm.pandas()\n",
    "from sklearn.utils.class_weight import compute_class_weight\n",
    "from tensorflow.keras.optimizers import Adam\n",
    "from sklearn.metrics import roc_auc_score, precision_recall_curve, auc\n",
    "import tensorflow.keras.backend as K\n",
    "from tensorflow.keras.callbacks import Callback, EarlyStopping\n",
    "import pandas as pd\n",
    "import json\n",
    "from torch.utils.data import Dataset\n",
    "from transformers import AutoTokenizer, pipeline, AutoModel\n",
    "import resources.smart_cond as sc\n",
    "# from google.colab import files"
   ]
  },
  {
   "cell_type": "markdown",
   "metadata": {},
   "source": [
    "## Version Check"
   ]
  },
  {
   "cell_type": "code",
   "execution_count": 7,
   "metadata": {
    "id": "AeG1PfTVsOsd"
   },
   "outputs": [
    {
     "name": "stdout",
     "output_type": "stream",
     "text": [
      "2.12.0\n"
     ]
    },
    {
     "data": {
      "text/plain": [
       "'4.0'"
      ]
     },
     "execution_count": 7,
     "metadata": {},
     "output_type": "execute_result"
    }
   ],
   "source": [
    "import tensorflow as tf\n",
    "print(tf. __version__)\n",
    "\n",
    "pickle.format_version"
   ]
  },
  {
   "cell_type": "markdown",
   "metadata": {
    "id": "AfKWDkwoeSGU"
   },
   "source": [
    "## Load Data"
   ]
  },
  {
   "cell_type": "code",
   "execution_count": 8,
   "metadata": {
    "tags": []
   },
   "outputs": [],
   "source": [
    "data_path = 'Data/sepsis_removed_0.pkl'\n",
    "pkl = pickle.load(open(data_path, 'rb'))\n",
    "data = pkl[0]\n",
    "oc = pkl[1]\n",
    "train_ind = pkl[2]\n",
    "valid_ind = pkl[3]\n",
    "test_ind = pkl[4]\n",
    "del pkl"
   ]
  },
  {
   "cell_type": "code",
   "execution_count": 9,
   "metadata": {
    "tags": []
   },
   "outputs": [
    {
     "data": {
      "text/html": [
       "<div>\n",
       "<style scoped>\n",
       "    .dataframe tbody tr th:only-of-type {\n",
       "        vertical-align: middle;\n",
       "    }\n",
       "\n",
       "    .dataframe tbody tr th {\n",
       "        vertical-align: top;\n",
       "    }\n",
       "\n",
       "    .dataframe thead th {\n",
       "        text-align: right;\n",
       "    }\n",
       "</style>\n",
       "<table border=\"1\" class=\"dataframe\">\n",
       "  <thead>\n",
       "    <tr style=\"text-align: right;\">\n",
       "      <th></th>\n",
       "      <th>ts_ind</th>\n",
       "      <th>hour</th>\n",
       "      <th>variable</th>\n",
       "      <th>value</th>\n",
       "      <th>TABLE</th>\n",
       "      <th>mean</th>\n",
       "      <th>std</th>\n",
       "    </tr>\n",
       "  </thead>\n",
       "  <tbody>\n",
       "    <tr>\n",
       "      <th>0</th>\n",
       "      <td>10223</td>\n",
       "      <td>467.816667</td>\n",
       "      <td>Text</td>\n",
       "      <td>Admission Date:  [**2119-5-4**]              D...</td>\n",
       "      <td>noteevents</td>\n",
       "      <td>1.000000</td>\n",
       "      <td>1.000000</td>\n",
       "    </tr>\n",
       "    <tr>\n",
       "      <th>1</th>\n",
       "      <td>18407</td>\n",
       "      <td>28.016667</td>\n",
       "      <td>Text</td>\n",
       "      <td>Admission Date:  [**2112-12-8**]              ...</td>\n",
       "      <td>noteevents</td>\n",
       "      <td>1.000000</td>\n",
       "      <td>1.000000</td>\n",
       "    </tr>\n",
       "    <tr>\n",
       "      <th>2</th>\n",
       "      <td>40300</td>\n",
       "      <td>155.166667</td>\n",
       "      <td>Text</td>\n",
       "      <td>Admission Date:  [**2194-7-18**]              ...</td>\n",
       "      <td>noteevents</td>\n",
       "      <td>1.000000</td>\n",
       "      <td>1.000000</td>\n",
       "    </tr>\n",
       "    <tr>\n",
       "      <th>3</th>\n",
       "      <td>23747</td>\n",
       "      <td>52.383333</td>\n",
       "      <td>Text</td>\n",
       "      <td>Admission Date:  [**2194-1-7**]              D...</td>\n",
       "      <td>noteevents</td>\n",
       "      <td>1.000000</td>\n",
       "      <td>1.000000</td>\n",
       "    </tr>\n",
       "    <tr>\n",
       "      <th>4</th>\n",
       "      <td>2357</td>\n",
       "      <td>73.133333</td>\n",
       "      <td>Text</td>\n",
       "      <td>Admission Date:  [**2186-6-7**]     Discharge ...</td>\n",
       "      <td>noteevents</td>\n",
       "      <td>1.000000</td>\n",
       "      <td>1.000000</td>\n",
       "    </tr>\n",
       "    <tr>\n",
       "      <th>...</th>\n",
       "      <td>...</td>\n",
       "      <td>...</td>\n",
       "      <td>...</td>\n",
       "      <td>...</td>\n",
       "      <td>...</td>\n",
       "      <td>...</td>\n",
       "      <td>...</td>\n",
       "    </tr>\n",
       "    <tr>\n",
       "      <th>82886223</th>\n",
       "      <td>57281</td>\n",
       "      <td>20.400000</td>\n",
       "      <td>MBP</td>\n",
       "      <td>0.195381</td>\n",
       "      <td>chart</td>\n",
       "      <td>78.552377</td>\n",
       "      <td>17.645628</td>\n",
       "    </tr>\n",
       "    <tr>\n",
       "      <th>82886224</th>\n",
       "      <td>57281</td>\n",
       "      <td>20.400000</td>\n",
       "      <td>O2 Saturation</td>\n",
       "      <td>-0.678068</td>\n",
       "      <td>chart</td>\n",
       "      <td>96.820961</td>\n",
       "      <td>4.160290</td>\n",
       "    </tr>\n",
       "    <tr>\n",
       "      <th>82886225</th>\n",
       "      <td>57281</td>\n",
       "      <td>20.400000</td>\n",
       "      <td>RR</td>\n",
       "      <td>0.179866</td>\n",
       "      <td>chart</td>\n",
       "      <td>26.278501</td>\n",
       "      <td>15.130729</td>\n",
       "    </tr>\n",
       "    <tr>\n",
       "      <th>82886226</th>\n",
       "      <td>57281</td>\n",
       "      <td>20.400000</td>\n",
       "      <td>SBP</td>\n",
       "      <td>-0.404061</td>\n",
       "      <td>chart</td>\n",
       "      <td>120.239648</td>\n",
       "      <td>25.341836</td>\n",
       "    </tr>\n",
       "    <tr>\n",
       "      <th>82886227</th>\n",
       "      <td>57281</td>\n",
       "      <td>20.400000</td>\n",
       "      <td>Urine</td>\n",
       "      <td>-0.24296</td>\n",
       "      <td>output</td>\n",
       "      <td>123.393012</td>\n",
       "      <td>137.442433</td>\n",
       "    </tr>\n",
       "  </tbody>\n",
       "</table>\n",
       "<p>82447326 rows × 7 columns</p>\n",
       "</div>"
      ],
      "text/plain": [
       "          ts_ind        hour       variable  \\\n",
       "0          10223  467.816667           Text   \n",
       "1          18407   28.016667           Text   \n",
       "2          40300  155.166667           Text   \n",
       "3          23747   52.383333           Text   \n",
       "4           2357   73.133333           Text   \n",
       "...          ...         ...            ...   \n",
       "82886223   57281   20.400000            MBP   \n",
       "82886224   57281   20.400000  O2 Saturation   \n",
       "82886225   57281   20.400000             RR   \n",
       "82886226   57281   20.400000            SBP   \n",
       "82886227   57281   20.400000          Urine   \n",
       "\n",
       "                                                      value       TABLE  \\\n",
       "0         Admission Date:  [**2119-5-4**]              D...  noteevents   \n",
       "1         Admission Date:  [**2112-12-8**]              ...  noteevents   \n",
       "2         Admission Date:  [**2194-7-18**]              ...  noteevents   \n",
       "3         Admission Date:  [**2194-1-7**]              D...  noteevents   \n",
       "4         Admission Date:  [**2186-6-7**]     Discharge ...  noteevents   \n",
       "...                                                     ...         ...   \n",
       "82886223                                           0.195381       chart   \n",
       "82886224                                          -0.678068       chart   \n",
       "82886225                                           0.179866       chart   \n",
       "82886226                                          -0.404061       chart   \n",
       "82886227                                           -0.24296      output   \n",
       "\n",
       "                mean         std  \n",
       "0           1.000000    1.000000  \n",
       "1           1.000000    1.000000  \n",
       "2           1.000000    1.000000  \n",
       "3           1.000000    1.000000  \n",
       "4           1.000000    1.000000  \n",
       "...              ...         ...  \n",
       "82886223   78.552377   17.645628  \n",
       "82886224   96.820961    4.160290  \n",
       "82886225   26.278501   15.130729  \n",
       "82886226  120.239648   25.341836  \n",
       "82886227  123.393012  137.442433  \n",
       "\n",
       "[82447326 rows x 7 columns]"
      ]
     },
     "execution_count": 9,
     "metadata": {},
     "output_type": "execute_result"
    }
   ],
   "source": [
    "data"
   ]
  },
  {
   "cell_type": "code",
   "execution_count": 10,
   "metadata": {
    "tags": []
   },
   "outputs": [
    {
     "data": {
      "text/html": [
       "<div>\n",
       "<style scoped>\n",
       "    .dataframe tbody tr th:only-of-type {\n",
       "        vertical-align: middle;\n",
       "    }\n",
       "\n",
       "    .dataframe tbody tr th {\n",
       "        vertical-align: top;\n",
       "    }\n",
       "\n",
       "    .dataframe thead th {\n",
       "        text-align: right;\n",
       "    }\n",
       "</style>\n",
       "<table border=\"1\" class=\"dataframe\">\n",
       "  <thead>\n",
       "    <tr style=\"text-align: right;\">\n",
       "      <th></th>\n",
       "      <th>ts_ind</th>\n",
       "      <th>hour</th>\n",
       "      <th>variable</th>\n",
       "      <th>value</th>\n",
       "      <th>TABLE</th>\n",
       "      <th>mean</th>\n",
       "      <th>std</th>\n",
       "    </tr>\n",
       "  </thead>\n",
       "  <tbody>\n",
       "    <tr>\n",
       "      <th>0</th>\n",
       "      <td>10223</td>\n",
       "      <td>467.816667</td>\n",
       "      <td>Text</td>\n",
       "      <td>1</td>\n",
       "      <td>noteevents</td>\n",
       "      <td>1.000000</td>\n",
       "      <td>1.000000</td>\n",
       "    </tr>\n",
       "    <tr>\n",
       "      <th>1</th>\n",
       "      <td>18407</td>\n",
       "      <td>28.016667</td>\n",
       "      <td>Text</td>\n",
       "      <td>1</td>\n",
       "      <td>noteevents</td>\n",
       "      <td>1.000000</td>\n",
       "      <td>1.000000</td>\n",
       "    </tr>\n",
       "    <tr>\n",
       "      <th>2</th>\n",
       "      <td>40300</td>\n",
       "      <td>155.166667</td>\n",
       "      <td>Text</td>\n",
       "      <td>1</td>\n",
       "      <td>noteevents</td>\n",
       "      <td>1.000000</td>\n",
       "      <td>1.000000</td>\n",
       "    </tr>\n",
       "    <tr>\n",
       "      <th>3</th>\n",
       "      <td>23747</td>\n",
       "      <td>52.383333</td>\n",
       "      <td>Text</td>\n",
       "      <td>1</td>\n",
       "      <td>noteevents</td>\n",
       "      <td>1.000000</td>\n",
       "      <td>1.000000</td>\n",
       "    </tr>\n",
       "    <tr>\n",
       "      <th>4</th>\n",
       "      <td>2357</td>\n",
       "      <td>73.133333</td>\n",
       "      <td>Text</td>\n",
       "      <td>1</td>\n",
       "      <td>noteevents</td>\n",
       "      <td>1.000000</td>\n",
       "      <td>1.000000</td>\n",
       "    </tr>\n",
       "    <tr>\n",
       "      <th>...</th>\n",
       "      <td>...</td>\n",
       "      <td>...</td>\n",
       "      <td>...</td>\n",
       "      <td>...</td>\n",
       "      <td>...</td>\n",
       "      <td>...</td>\n",
       "      <td>...</td>\n",
       "    </tr>\n",
       "    <tr>\n",
       "      <th>82886223</th>\n",
       "      <td>57281</td>\n",
       "      <td>20.400000</td>\n",
       "      <td>MBP</td>\n",
       "      <td>0.195381</td>\n",
       "      <td>chart</td>\n",
       "      <td>78.552377</td>\n",
       "      <td>17.645628</td>\n",
       "    </tr>\n",
       "    <tr>\n",
       "      <th>82886224</th>\n",
       "      <td>57281</td>\n",
       "      <td>20.400000</td>\n",
       "      <td>O2 Saturation</td>\n",
       "      <td>-0.678068</td>\n",
       "      <td>chart</td>\n",
       "      <td>96.820961</td>\n",
       "      <td>4.160290</td>\n",
       "    </tr>\n",
       "    <tr>\n",
       "      <th>82886225</th>\n",
       "      <td>57281</td>\n",
       "      <td>20.400000</td>\n",
       "      <td>RR</td>\n",
       "      <td>0.179866</td>\n",
       "      <td>chart</td>\n",
       "      <td>26.278501</td>\n",
       "      <td>15.130729</td>\n",
       "    </tr>\n",
       "    <tr>\n",
       "      <th>82886226</th>\n",
       "      <td>57281</td>\n",
       "      <td>20.400000</td>\n",
       "      <td>SBP</td>\n",
       "      <td>-0.404061</td>\n",
       "      <td>chart</td>\n",
       "      <td>120.239648</td>\n",
       "      <td>25.341836</td>\n",
       "    </tr>\n",
       "    <tr>\n",
       "      <th>82886227</th>\n",
       "      <td>57281</td>\n",
       "      <td>20.400000</td>\n",
       "      <td>Urine</td>\n",
       "      <td>-0.24296</td>\n",
       "      <td>output</td>\n",
       "      <td>123.393012</td>\n",
       "      <td>137.442433</td>\n",
       "    </tr>\n",
       "  </tbody>\n",
       "</table>\n",
       "<p>82447326 rows × 7 columns</p>\n",
       "</div>"
      ],
      "text/plain": [
       "          ts_ind        hour       variable     value       TABLE        mean  \\\n",
       "0          10223  467.816667           Text         1  noteevents    1.000000   \n",
       "1          18407   28.016667           Text         1  noteevents    1.000000   \n",
       "2          40300  155.166667           Text         1  noteevents    1.000000   \n",
       "3          23747   52.383333           Text         1  noteevents    1.000000   \n",
       "4           2357   73.133333           Text         1  noteevents    1.000000   \n",
       "...          ...         ...            ...       ...         ...         ...   \n",
       "82886223   57281   20.400000            MBP  0.195381       chart   78.552377   \n",
       "82886224   57281   20.400000  O2 Saturation -0.678068       chart   96.820961   \n",
       "82886225   57281   20.400000             RR  0.179866       chart   26.278501   \n",
       "82886226   57281   20.400000            SBP -0.404061       chart  120.239648   \n",
       "82886227   57281   20.400000          Urine  -0.24296      output  123.393012   \n",
       "\n",
       "                 std  \n",
       "0           1.000000  \n",
       "1           1.000000  \n",
       "2           1.000000  \n",
       "3           1.000000  \n",
       "4           1.000000  \n",
       "...              ...  \n",
       "82886223   17.645628  \n",
       "82886224    4.160290  \n",
       "82886225   15.130729  \n",
       "82886226   25.341836  \n",
       "82886227  137.442433  \n",
       "\n",
       "[82447326 rows x 7 columns]"
      ]
     },
     "execution_count": 10,
     "metadata": {},
     "output_type": "execute_result"
    }
   ],
   "source": [
    "data.loc[data['variable'] == 'Text', 'value'] = 1\n",
    "data"
   ]
  },
  {
   "cell_type": "code",
   "execution_count": 11,
   "metadata": {
    "tags": []
   },
   "outputs": [],
   "source": [
    "pred_window = 2 # hours\n",
    "obs_windows = range(20, 124, 4)\n",
    "# Remove test patients.\n",
    "data = data.merge(oc[['ts_ind', 'SUBJECT_ID']], on='ts_ind', how='left')\n",
    "test_sub = oc.loc[oc.ts_ind.isin(test_ind)].SUBJECT_ID.unique()\n",
    "data = data.loc[~data.SUBJECT_ID.isin(test_sub)]\n",
    "oc = oc.loc[~oc.SUBJECT_ID.isin(test_sub)]\n",
    "data.drop(columns=['SUBJECT_ID', 'TABLE'], inplace=True)\n",
    "# Fix age.\n",
    "data.loc[(data.variable=='Age')&(data.value>200), 'value'] = 91.4\n",
    "# data[data.variable=='Age'][data.value>200]['value'] = 91.4"
   ]
  },
  {
   "cell_type": "code",
   "execution_count": null,
   "metadata": {
    "tags": []
   },
   "outputs": [
    {
     "name": "stderr",
     "output_type": "stream",
     "text": [
      "91626it [00:00, 793678.98it/s]\n",
      "100%|██████████| 26/26 [04:57<00:00, 11.45s/it]\n"
     ]
    }
   ],
   "source": [
    "# Get static data with mean fill and missingness indicator.\n",
    "static_varis = ['Age', 'Gender']\n",
    "ii = data.variable.isin(static_varis)\n",
    "static_data = data.loc[ii]\n",
    "data = data.loc[~ii]\n",
    "def inv_list(l, start=0):\n",
    "    d = {}\n",
    "    for i in range(len(l)):\n",
    "        d[l[i]] = i+start\n",
    "    return d\n",
    "static_var_to_ind = inv_list(static_varis)\n",
    "D = len(static_varis)\n",
    "N = data.ts_ind.max()+1\n",
    "demo = np.zeros((N, D))\n",
    "for row in tqdm(static_data.itertuples()):\n",
    "    demo[row.ts_ind, static_var_to_ind[row.variable]] = row.value\n",
    "# Normalize static data.\n",
    "means = demo.mean(axis=0, keepdims=True)\n",
    "stds = demo.std(axis=0, keepdims=True)\n",
    "stds = (stds==0)*1 + (stds!=0)*stds\n",
    "demo = (demo-means)/stds\n",
    "# Get variable indices.\n",
    "varis = sorted(list(set(data.variable)))\n",
    "V = len(varis)\n",
    "var_to_ind = inv_list(varis, start=1)\n",
    "data['vind'] = data.variable.map(var_to_ind)\n",
    "data = data[['ts_ind', 'vind', 'hour', 'value']].sort_values(by=['ts_ind', 'vind', 'hour'])\n",
    "# Find max_len.\n",
    "fore_max_len = 880\n",
    "# Get forecast inputs and outputs.\n",
    "fore_times_ip = []\n",
    "fore_values_ip = []\n",
    "fore_varis_ip = []\n",
    "fore_op = []\n",
    "fore_inds = []\n",
    "def f(x):\n",
    "    mask = [0 for i in range(V)]\n",
    "    values = [0 for i in range(V)]\n",
    "    for vv in x:\n",
    "        v = int(vv[0])-1\n",
    "        mask[v] = 1\n",
    "        values[v] = vv[1]\n",
    "    return values+mask\n",
    "def pad(x):\n",
    "    return x+[0]*(fore_max_len-len(x))\n",
    "for w in tqdm(obs_windows):\n",
    "    pred_data = data.loc[(data.hour>=w)&(data.hour<=w+pred_window)]\n",
    "    pred_data = pred_data.groupby(['ts_ind', 'vind']).agg({'value':'first'}).reset_index()\n",
    "    pred_data['vind_value'] = pred_data[['vind', 'value']].values.tolist()\n",
    "    pred_data = pred_data.groupby('ts_ind').agg({'vind_value':list}).reset_index()\n",
    "    pred_data['vind_value'] = pred_data['vind_value'].apply(f)    \n",
    "    obs_data = data.loc[(data.hour<w)&(data.hour>=w-24)]\n",
    "    obs_data = obs_data.loc[obs_data.ts_ind.isin(pred_data.ts_ind)]\n",
    "    obs_data = obs_data.groupby('ts_ind').head(fore_max_len)\n",
    "    obs_data = obs_data.groupby('ts_ind').agg({'vind':list, 'hour':list, 'value':list}).reset_index()\n",
    "    obs_data = obs_data.merge(pred_data, on='ts_ind')\n",
    "    for col in ['vind', 'hour', 'value']:\n",
    "        obs_data[col] = obs_data[col].apply(pad)\n",
    "    fore_op.append(np.array(list(obs_data.vind_value)))\n",
    "    fore_inds.append(np.array(list(obs_data.ts_ind)))\n",
    "    fore_times_ip.append(np.array(list(obs_data.hour)))\n",
    "    fore_values_ip.append(np.array(list(obs_data.value)))\n",
    "    fore_varis_ip.append(np.array(list(obs_data.vind)))\n",
    "del data\n",
    "fore_times_ip = np.concatenate(fore_times_ip, axis=0)\n",
    "fore_values_ip = np.concatenate(fore_values_ip, axis=0)\n",
    "fore_varis_ip = np.concatenate(fore_varis_ip, axis=0)\n",
    "fore_op = np.concatenate(fore_op, axis=0)\n",
    "fore_inds = np.concatenate(fore_inds, axis=0)\n",
    "fore_demo = demo[fore_inds]\n",
    "# Get train and valid ts_ind for forecast task.\n",
    "train_sub = oc.loc[oc.ts_ind.isin(train_ind)].SUBJECT_ID.unique()\n",
    "valid_sub = oc.loc[oc.ts_ind.isin(valid_ind)].SUBJECT_ID.unique()\n",
    "rem_sub = oc.loc[~oc.SUBJECT_ID.isin(np.concatenate((train_ind, valid_ind)))].SUBJECT_ID.unique()\n",
    "bp = int(0.8*len(rem_sub))\n",
    "train_sub = np.concatenate((train_sub, rem_sub[:bp]))\n",
    "valid_sub = np.concatenate((valid_sub, rem_sub[bp:]))\n",
    "train_ind = oc.loc[oc.SUBJECT_ID.isin(train_sub)].ts_ind.unique() # Add remaining ts_ind s of train subjects.\n",
    "valid_ind = oc.loc[oc.SUBJECT_ID.isin(valid_sub)].ts_ind.unique() # Add remaining ts_ind s of train subjects.\n",
    "# Generate 3 sets of inputs and outputs.\n",
    "train_ind = np.argwhere(np.in1d(fore_inds, train_ind)).flatten()\n",
    "valid_ind = np.argwhere(np.in1d(fore_inds, valid_ind)).flatten()\n",
    "fore_train_ip = [ip[train_ind] for ip in [fore_demo, fore_times_ip, fore_values_ip, fore_varis_ip]]\n",
    "fore_valid_ip = [ip[valid_ind] for ip in [fore_demo, fore_times_ip, fore_values_ip, fore_varis_ip]]\n",
    "del fore_times_ip, fore_values_ip, fore_varis_ip, demo, fore_demo\n",
    "fore_train_op = fore_op[train_ind]\n",
    "fore_valid_op = fore_op[valid_ind]\n",
    "del fore_op"
   ]
  },
  {
   "cell_type": "code",
   "execution_count": null,
   "metadata": {
    "tags": []
   },
   "outputs": [],
   "source": [
    "# add text features\n",
    "text_ip = pickle.load(open('Data/text_emb_input_train_val_1.pkl', 'rb'))\n",
    "\n",
    "train_text_ip = text_ip[0]\n",
    "valid_text_ip = text_ip[1]\n",
    "\n",
    "fore_train_ip.append(train_text_ip)\n",
    "fore_valid_ip.append(valid_text_ip)"
   ]
  },
  {
   "cell_type": "code",
   "execution_count": null,
   "metadata": {},
   "outputs": [],
   "source": [
    "def get_res(y_true, y_pred):\n",
    "    precision, recall, thresholds = precision_recall_curve(y_true, y_pred)\n",
    "    pr_auc = auc(recall, precision)\n",
    "    minrp = np.minimum(precision, recall).max()\n",
    "    roc_auc = roc_auc_score(y_true, y_pred)\n",
    "    return [roc_auc, pr_auc, minrp]\n",
    "\n",
    "# ######################################################################################################## \n",
    "# ######################################################################################################## \n",
    "# class_weights = compute_class_weight(class_weight='balanced', classes=[0,1], y=train_op)\n",
    "# def mortality_loss(y_true, y_pred):\n",
    "#     sample_weights = (1-y_true)*class_weights[0] + y_true*class_weights[1]\n",
    "#     bce = K.binary_crossentropy(y_true, y_pred)\n",
    "#     return K.mean(sample_weights*bce, axis=-1)\n",
    "# ######################################################################################################## \n",
    "# ######################################################################################################## \n",
    "\n",
    "# var_weights = np.sum(fore_train_op[:, V:], axis=0)\n",
    "# var_weights[var_weights==0] = var_weights.max()\n",
    "# var_weights = var_weights.max()/var_weights\n",
    "# var_weights = var_weights.reshape((1, V))\n",
    "def forecast_loss(y_true, y_pred):\n",
    "    return K.sum(y_true[:,V:]*(y_true[:,:V]-y_pred)**2, axis=-1)\n",
    "\n",
    "def get_min_loss(weight):\n",
    "    def min_loss(y_true, y_pred):\n",
    "        return weight*y_pred\n",
    "    return min_loss\n",
    "\n",
    "class CustomCallback(Callback):\n",
    "    def __init__(self, validation_data, batch_size):\n",
    "        self.val_x, self.val_y = validation_data\n",
    "        self.batch_size = batch_size\n",
    "        super(Callback, self).__init__()\n",
    "\n",
    "    def on_epoch_end(self, epoch, logs={}):\n",
    "        y_pred = self.model.predict(self.val_x, verbose=0, batch_size=self.batch_size)\n",
    "        if type(y_pred)==type([]):\n",
    "            y_pred = y_pred[0]\n",
    "        precision, recall, thresholds = precision_recall_curve(self.val_y, y_pred)\n",
    "        pr_auc = auc(recall, precision)\n",
    "        roc_auc = roc_auc_score(self.val_y, y_pred)\n",
    "        logs['custom_metric'] = pr_auc + roc_auc\n",
    "        print ('val_aucs:', pr_auc, roc_auc)"
   ]
  },
  {
   "cell_type": "code",
   "execution_count": null,
   "metadata": {
    "tags": []
   },
   "outputs": [],
   "source": [
    "import tensorflow as tf\n",
    "import numpy as np\n",
    "import tensorflow.keras.backend as K\n",
    "from tensorflow.keras.layers import Embedding, Activation, Dropout, Softmax, Layer, InputSpec, Input, Dense, Lambda, TimeDistributed, Concatenate, Add\n",
    "from tensorflow.keras import initializers, regularizers, constraints, Model\n",
    "from tensorflow.python.keras.utils import tf_utils\n",
    "from tensorflow.python.ops import array_ops\n",
    "from tensorflow import nn\n",
    "\n",
    "    \n",
    "class CVE(Layer):\n",
    "    def __init__(self, hid_units, output_dim):\n",
    "        self.hid_units = hid_units\n",
    "        self.output_dim = output_dim\n",
    "        super(CVE, self).__init__()\n",
    "        \n",
    "    def build(self, input_shape): \n",
    "        self.W1 = self.add_weight(name='CVE_W1',\n",
    "                            shape=(1, self.hid_units),\n",
    "                            initializer='glorot_uniform',\n",
    "                            trainable=True)\n",
    "        self.b1 = self.add_weight(name='CVE_b1',\n",
    "                            shape=(self.hid_units,),\n",
    "                            initializer='zeros',\n",
    "                            trainable=True)\n",
    "        self.W2 = self.add_weight(name='CVE_W2',\n",
    "                            shape=(self.hid_units, self.output_dim),\n",
    "                            initializer='glorot_uniform',\n",
    "                            trainable=True)\n",
    "        super(CVE, self).build(input_shape)\n",
    "        \n",
    "    def call(self, x):\n",
    "        x = K.expand_dims(x, axis=-1)\n",
    "        x = K.dot(K.tanh(K.bias_add(K.dot(x, self.W1), self.b1)), self.W2)\n",
    "        return x\n",
    "        \n",
    "    def compute_output_shape(self, input_shape):\n",
    "        return input_shape + (self.output_dim,)\n",
    "    \n",
    "    \n",
    "class Attention(Layer):\n",
    "    \n",
    "    def __init__(self, hid_dim):\n",
    "        self.hid_dim = hid_dim\n",
    "        super(Attention, self).__init__()\n",
    "\n",
    "    def build(self, input_shape):\n",
    "        d = input_shape.as_list()[-1]\n",
    "        self.W = self.add_weight(shape=(d, self.hid_dim), name='Att_W',\n",
    "                                 initializer='glorot_uniform',\n",
    "                                 trainable=True)\n",
    "        self.b = self.add_weight(shape=(self.hid_dim,), name='Att_b',\n",
    "                                 initializer='zeros',\n",
    "                                 trainable=True)\n",
    "        self.u = self.add_weight(shape=(self.hid_dim,1), name='Att_u',\n",
    "                                 initializer='glorot_uniform',\n",
    "                                 trainable=True)\n",
    "        super(Attention, self).build(input_shape)\n",
    "        \n",
    "    def call(self, x, mask, mask_value=-1e30):\n",
    "        attn_weights = K.dot(K.tanh(K.bias_add(K.dot(x,self.W), self.b)), self.u)\n",
    "        mask = K.expand_dims(mask, axis=-1)\n",
    "        attn_weights = mask*attn_weights + (1-mask)*mask_value\n",
    "        attn_weights = K.softmax(attn_weights, axis=-2)\n",
    "        return attn_weights\n",
    "        \n",
    "    def compute_output_shape(self, input_shape):\n",
    "        return input_shape[:-1] + (1,)\n",
    "    \n",
    "    \n",
    "class Transformer(Layer):\n",
    "    \n",
    "    def __init__(self, N=2, h=8, dk=None, dv=None, dff=None, dropout=0):\n",
    "        self.N, self.h, self.dk, self.dv, self.dff, self.dropout = N, h, dk, dv, dff, dropout\n",
    "        self.epsilon = K.epsilon() * K.epsilon()\n",
    "        super(Transformer, self).__init__()\n",
    "\n",
    "    def build(self, input_shape):\n",
    "        d = input_shape.as_list()[-1]\n",
    "        if self.dk==None:\n",
    "            self.dk = d//self.h\n",
    "        if self.dv==None:\n",
    "            self.dv = d//self.h\n",
    "        if self.dff==None:\n",
    "            self.dff = 2*d\n",
    "        self.Wq = self.add_weight(shape=(self.N, self.h, d, self.dk), name='Wq',\n",
    "                                 initializer='glorot_uniform', trainable=True)\n",
    "        self.Wk = self.add_weight(shape=(self.N, self.h, d, self.dk), name='Wk',\n",
    "                                 initializer='glorot_uniform', trainable=True)\n",
    "        self.Wv = self.add_weight(shape=(self.N, self.h, d, self.dv), name='Wv',\n",
    "                                 initializer='glorot_uniform', trainable=True)\n",
    "        self.Wo = self.add_weight(shape=(self.N, self.dv*self.h, d), name='Wo',\n",
    "                                 initializer='glorot_uniform', trainable=True)\n",
    "        self.W1 = self.add_weight(shape=(self.N, d, self.dff), name='W1',\n",
    "                                 initializer='glorot_uniform', trainable=True)\n",
    "        self.b1 = self.add_weight(shape=(self.N, self.dff), name='b1',\n",
    "                                 initializer='zeros', trainable=True)\n",
    "        self.W2 = self.add_weight(shape=(self.N, self.dff, d), name='W2',\n",
    "                                 initializer='glorot_uniform', trainable=True)\n",
    "        self.b2 = self.add_weight(shape=(self.N, d), name='b2',\n",
    "                                 initializer='zeros', trainable=True)\n",
    "        self.gamma = self.add_weight(shape=(2*self.N,), name='gamma',\n",
    "                                 initializer='ones', trainable=True)\n",
    "        self.beta = self.add_weight(shape=(2*self.N,), name='beta',\n",
    "                                 initializer='zeros', trainable=True)\n",
    "        super(Transformer, self).build(input_shape)\n",
    "        \n",
    "    def call(self, x, mask, mask_value=-1e-30):\n",
    "        mask = K.expand_dims(mask, axis=-2)\n",
    "        for i in range(self.N):\n",
    "            # MHA\n",
    "            mha_ops = []\n",
    "            for j in range(self.h):\n",
    "                q = K.dot(x, self.Wq[i,j,:,:])\n",
    "                k = K.permute_dimensions(K.dot(x, self.Wk[i,j,:,:]), (0,2,1))\n",
    "                v = K.dot(x, self.Wv[i,j,:,:])\n",
    "                A = K.batch_dot(q,k)\n",
    "                # Mask unobserved steps.\n",
    "                A = mask*A + (1-mask)*mask_value\n",
    "                # Mask for attention dropout.\n",
    "                def dropped_A():\n",
    "                    dp_mask = K.cast((K.random_uniform(shape=array_ops.shape(A))>=self.dropout), K.floatx())\n",
    "                    return A*dp_mask + (1-dp_mask)*mask_value\n",
    "                A = sc.smart_cond(K.learning_phase(), dropped_A, lambda: array_ops.identity(A))\n",
    "                A = K.softmax(A, axis=-1)\n",
    "                mha_ops.append(K.batch_dot(A,v))\n",
    "            conc = K.concatenate(mha_ops, axis=-1)\n",
    "            proj = K.dot(conc, self.Wo[i,:,:])\n",
    "            # Dropout.\n",
    "            proj = sc.smart_cond(K.learning_phase(), lambda: array_ops.identity(nn.dropout(proj, rate=self.dropout)),\\\n",
    "                                       lambda: array_ops.identity(proj))\n",
    "            # Add & LN\n",
    "            x = x+proj\n",
    "            mean = K.mean(x, axis=-1, keepdims=True)\n",
    "            variance = K.mean(K.square(x - mean), axis=-1, keepdims=True)\n",
    "            std = K.sqrt(variance + self.epsilon)\n",
    "            x = (x - mean) / std\n",
    "            x = x*self.gamma[2*i] + self.beta[2*i]\n",
    "            # FFN\n",
    "            ffn_op = K.bias_add(K.dot(K.relu(K.bias_add(K.dot(x, self.W1[i,:,:]), self.b1[i,:])), \n",
    "                           self.W2[i,:,:]), self.b2[i,:,])\n",
    "            # Dropout.\n",
    "            ffn_op = sc.smart_cond(K.learning_phase(), lambda: array_ops.identity(nn.dropout(ffn_op, rate=self.dropout)),\\\n",
    "                                       lambda: array_ops.identity(ffn_op))\n",
    "            # Add & LN\n",
    "            x = x+ffn_op\n",
    "            mean = K.mean(x, axis=-1, keepdims=True)\n",
    "            variance = K.mean(K.square(x - mean), axis=-1, keepdims=True)\n",
    "            std = K.sqrt(variance + self.epsilon)\n",
    "            x = (x - mean) / std\n",
    "            x = x*self.gamma[2*i+1] + self.beta[2*i+1]            \n",
    "        return x\n",
    "        \n",
    "    def compute_output_shape(self, input_shape):\n",
    "        return input_shape\n",
    "\n",
    "\n",
    "def build_strats(D, max_len, V, d, N, he, dropout, forecast=False):\n",
    "    demo = Input(shape=(D,))\n",
    "    demo_enc = Dense(2*d, activation='tanh')(demo)\n",
    "    demo_enc = Dense(d, activation='tanh')(demo_enc)\n",
    "    varis = Input(shape=(max_len,))\n",
    "    values = Input(shape=(max_len,))\n",
    "    times = Input(shape=(max_len,))\n",
    "    varis_emb = Embedding(V+1, d)(varis)\n",
    "    cve_units = int(np.sqrt(d))\n",
    "    values_emb = CVE(cve_units, d)(values)\n",
    "    times_emb = CVE(cve_units, d)(times)\n",
    "    comb_emb = Add()([varis_emb, values_emb, times_emb]) # b, L, d\n",
    "#     demo_enc = Lambda(lambda x:K.expand_dims(x, axis=-2))(demo_enc) # b, 1, d\n",
    "#     comb_emb = Concatenate(axis=-2)([demo_enc, comb_emb]) # b, L+1, d\n",
    "    mask = Lambda(lambda x:K.clip(x,0,1))(varis) # b, L\n",
    "#     mask = Lambda(lambda x:K.concatenate((K.ones_like(x)[:,0:1], x), axis=-1))(mask) # b, L+1\n",
    "    cont_emb = Transformer(N, he, dk=None, dv=None, dff=None, dropout=dropout)(comb_emb, mask=mask)\n",
    "    attn_weights = Attention(2*d)(cont_emb, mask=mask)\n",
    "    fused_emb = Lambda(lambda x:K.sum(x[0]*x[1], axis=-2))([cont_emb, attn_weights])\n",
    "    # embed text input\n",
    "    texts = Input(shape=(33792,))\n",
    "    text_enc = Dense(6*d, activation='relu')(texts)\n",
    "    text_enc = Dense(d, activation='relu')(text_enc)\n",
    "    conc = Concatenate(axis=-1)([fused_emb, text_enc, demo_enc])\n",
    "    fore_op = Dense(V)(conc)\n",
    "    op = Dense(1, activation='sigmoid')(fore_op)\n",
    "    model = Model([demo, times, values, varis, texts], op)\n",
    "    if forecast:\n",
    "        fore_model = Model([demo, times, values, varis, texts], fore_op)\n",
    "        return [model, fore_model]\n",
    "    return model\n",
    "\n",
    "# To tune:\n",
    "# 1. Transformer parameters. (N, h, dropout)\n",
    "# 2. Normalization"
   ]
  },
  {
   "cell_type": "markdown",
   "metadata": {
    "id": "RGjR-HJCyU1y"
   },
   "source": [
    "## Pretrain on forecasting"
   ]
  },
  {
   "cell_type": "code",
   "execution_count": null,
   "metadata": {
    "tags": []
   },
   "outputs": [
    {
     "data": {
      "text/plain": [
       "(449482, 33792)"
      ]
     },
     "execution_count": 16,
     "metadata": {},
     "output_type": "execute_result"
    }
   ],
   "source": [
    "fore_train_ip[-1].shape"
   ]
  },
  {
   "cell_type": "code",
   "execution_count": null,
   "metadata": {
    "tags": []
   },
   "outputs": [
    {
     "data": {
      "text/plain": [
       "(136823, 33792)"
      ]
     },
     "execution_count": 17,
     "metadata": {},
     "output_type": "execute_result"
    }
   ],
   "source": [
    "fore_valid_ip[-1].shape"
   ]
  },
  {
   "cell_type": "code",
   "execution_count": null,
   "metadata": {
    "tags": []
   },
   "outputs": [],
   "source": [
    "# lr, batch_size, samples_per_epoch, patience = 0.0005, 32, 102400, 5\n",
    "# # lr, batch_size, samples_per_epoch, patience = 0.0005, 1, 1024, 5\n",
    "# d, N, he, dropout = 50, 2, 4, 0.2\n",
    "# model, fore_model =  build_strats(D, fore_max_len, V, d, N, he, dropout, forecast=True)\n",
    "# print (fore_model.summary())\n",
    "# fore_model.compile(loss=forecast_loss, optimizer=Adam(lr))\n",
    "\n",
    "# # Pretrain fore_model.\n",
    "# best_val_loss = np.inf\n",
    "# N_fore = len(fore_train_op)\n",
    "# fore_savepath = 'Exp1/S/models/forecasting/forecasting_1_epochs.h5'\n",
    "\n",
    "# # save losses for visualization\n",
    "# # val_losses = []\n",
    "# train_losses = []\n",
    "\n",
    "# # for e in range(1000):\n",
    "# #     e_indices = np.random.choice(range(N_fore), size=samples_per_epoch, replace=False)\n",
    "# #     e_loss = 0\n",
    "# #     pbar = tqdm(range(0, len(e_indices), batch_size))\n",
    "# #     for start in pbar:\n",
    "# #         ind = e_indices[start:start+batch_size]\n",
    "# #         e_loss += fore_model.train_on_batch([ip[ind] for ip in fore_train_ip], fore_train_op[ind])\n",
    "# #         pbar.set_description('%f'%(e_loss/(start+1)))\n",
    "# #     val_loss = fore_model.evaluate(fore_valid_ip, fore_valid_op, batch_size=batch_size, verbose=1)\n",
    "# #     val_losses.append(val_loss)\n",
    "# #     print ('Epoch', e, 'loss', e_loss*batch_size/samples_per_epoch, 'val loss', val_loss)\n",
    "# #     train_losses.append(e_loss*batch_size/samples_per_epoch)\n",
    "# #     # model should be saved here after each epoch in case of unexpected disconnection\n",
    "# #     if val_loss < best_val_loss:\n",
    "# #         best_val_loss = val_loss\n",
    "# #         fore_model.save_weights(fore_savepath)\n",
    "# #         best_epoch = e\n",
    "# #     if (e-best_epoch)>patience:\n",
    "# #         break\n",
    "\n",
    "# for e in range(1):\n",
    "#     e_indices = np.random.choice(range(N_fore), size=samples_per_epoch, replace=False)\n",
    "#     e_loss = 0\n",
    "#     pbar = tqdm(range(0, len(e_indices), batch_size))\n",
    "#     for start in pbar:\n",
    "#         ind = e_indices[start:start+batch_size]\n",
    "#         e_loss += fore_model.train_on_batch([ip[ind] for ip in fore_train_ip], fore_train_op[ind])\n",
    "#         pbar.set_description('%f'%(e_loss/(start+1)))\n",
    "#     # val_loss = fore_model.evaluate(fore_valid_ip, fore_valid_op, batch_size=batch_size, verbose=1)\n",
    "#     # val_losses.append(val_loss)\n",
    "#     # print ('Epoch', e, 'loss', e_loss*batch_size/samples_per_epoch, 'val loss', val_loss)\n",
    "#     print ('Epoch', e, 'loss', e_loss*batch_size/samples_per_epoch)\n",
    "#     train_losses.append(e_loss*batch_size/samples_per_epoch)\n",
    "#     fore_model.save_weights(fore_savepath)\n",
    "#     # # model should be saved here after each epoch in case of unexpected disconnection\n",
    "#     # if val_loss < best_val_loss:\n",
    "#     #     best_val_loss = val_loss\n",
    "#     #     fore_model.save_weights(fore_savepath)\n",
    "#     #     best_epoch = e\n",
    "#     # if (e-best_epoch)>patience:\n",
    "#     #     break\n",
    "#     print(train_losses)\n",
    "\n",
    "    \n",
    "# val_loss = fore_model.evaluate(fore_valid_ip, fore_valid_op, batch_size=batch_size, verbose=1)\n",
    "# print(f'validation loss: {val_loss}')"
   ]
  },
  {
   "cell_type": "code",
   "execution_count": null,
   "metadata": {},
   "outputs": [],
   "source": [
    "# lr, batch_size, samples_per_epoch, patience = 0.0005, 32, 102400, 5\n",
    "# # lr, batch_size, samples_per_epoch, patience = 0.0005, 1, 1024, 5\n",
    "# d, N, he, dropout = 50, 2, 4, 0.2\n",
    "# model, fore_model =  build_strats(D, fore_max_len, V, d, N, he, dropout, forecast=True)\n",
    "# print (fore_model.summary())\n",
    "\n",
    "\n",
    "# # Pretrain fore_model.\n",
    "# best_val_loss = np.inf\n",
    "# N_fore = len(fore_train_op)\n",
    "\n",
    "# # save losses for visualization\n",
    "# # val_losses = []\n",
    "# train_losses = []\n",
    "\n",
    "# # for e in range(1000):\n",
    "# #     e_indices = np.random.choice(range(N_fore), size=samples_per_epoch, replace=False)\n",
    "# #     e_loss = 0\n",
    "# #     pbar = tqdm(range(0, len(e_indices), batch_size))\n",
    "# #     for start in pbar:\n",
    "# #         ind = e_indices[start:start+batch_size]\n",
    "# #         e_loss += fore_model.train_on_batch([ip[ind] for ip in fore_train_ip], fore_train_op[ind])\n",
    "# #         pbar.set_description('%f'%(e_loss/(start+1)))\n",
    "# #     val_loss = fore_model.evaluate(fore_valid_ip, fore_valid_op, batch_size=batch_size, verbose=1)\n",
    "# #     val_losses.append(val_loss)\n",
    "# #     print ('Epoch', e, 'loss', e_loss*batch_size/samples_per_epoch, 'val loss', val_loss)\n",
    "# #     train_losses.append(e_loss*batch_size/samples_per_epoch)\n",
    "# #     # model should be saved here after each epoch in case of unexpected disconnection\n",
    "# #     if val_loss < best_val_loss:\n",
    "# #         best_val_loss = val_loss\n",
    "# #         fore_model.save_weights(fore_savepath)\n",
    "# #         best_epoch = e\n",
    "# #     if (e-best_epoch)>patience:\n",
    "# #         break\n",
    "\n",
    "# for e in range(100):\n",
    "#     fore_loadpath = 'Exp1/S/models/forecasting/forecasting_'+str(e+1)+'_epochs.h5'\n",
    "#     fore_savepath = 'Exp1/S/models/forecasting/forecasting_'+str(e+1+1)+'_epochs.h5'\n",
    "\n",
    "#     fore_model.compile(loss=forecast_loss, optimizer=Adam(lr))\n",
    "#     fore_model.load_weights(fore_loadpath)\n",
    "\n",
    "#     e_indices = np.random.choice(range(N_fore), size=samples_per_epoch, replace=False)\n",
    "#     e_loss = 0\n",
    "#     pbar = tqdm(range(0, len(e_indices), batch_size))\n",
    "#     for start in pbar:\n",
    "#         ind = e_indices[start:start+batch_size]\n",
    "#         e_loss += fore_model.train_on_batch([ip[ind] for ip in fore_train_ip], fore_train_op[ind])\n",
    "#         pbar.set_description('%f'%(e_loss/(start+1)))\n",
    "#     # val_loss = fore_model.evaluate(fore_valid_ip, fore_valid_op, batch_size=batch_size, verbose=1)\n",
    "#     # val_losses.append(val_loss)\n",
    "#     # print ('Epoch', e, 'loss', e_loss*batch_size/samples_per_epoch, 'val loss', val_loss)\n",
    "#     print ('Epoch', e, 'loss', e_loss*batch_size/samples_per_epoch)\n",
    "#     train_losses.append(e_loss*batch_size/samples_per_epoch)\n",
    "#     fore_model.save_weights(fore_savepath)\n",
    "#     # # model should be saved here after each epoch in case of unexpected disconnection\n",
    "#     # if val_loss < best_val_loss:\n",
    "#     #     best_val_loss = val_loss\n",
    "#     #     fore_model.save_weights(fore_savepath)\n",
    "#     #     best_epoch = e\n",
    "#     # if (e-best_epoch)>patience:\n",
    "#     #     break\n",
    "#     print(train_losses)\n",
    "\n",
    "    \n",
    "# # val_loss = fore_model.evaluate(fore_valid_ip, fore_valid_op, batch_size=batch_size, verbose=1)\n",
    "# # print(f'validation loss: {val_loss}')"
   ]
  },
  {
   "cell_type": "code",
   "execution_count": null,
   "metadata": {},
   "outputs": [
    {
     "name": "stdout",
     "output_type": "stream",
     "text": [
      "Model: \"model_1\"\n",
      "__________________________________________________________________________________________________\n",
      " Layer (type)                   Output Shape         Param #     Connected to                     \n",
      "==================================================================================================\n",
      " input_2 (InputLayer)           [(None, 880)]        0           []                               \n",
      "                                                                                                  \n",
      " input_3 (InputLayer)           [(None, 880)]        0           []                               \n",
      "                                                                                                  \n",
      " input_4 (InputLayer)           [(None, 880)]        0           []                               \n",
      "                                                                                                  \n",
      " embedding (Embedding)          (None, 880, 50)      6750        ['input_2[0][0]']                \n",
      "                                                                                                  \n",
      " cve (CVE)                      (None, 880, 50)      364         ['input_3[0][0]']                \n",
      "                                                                                                  \n",
      " cve_1 (CVE)                    (None, 880, 50)      364         ['input_4[0][0]']                \n",
      "                                                                                                  \n",
      " add (Add)                      (None, 880, 50)      0           ['embedding[0][0]',              \n",
      "                                                                  'cve[0][0]',                    \n",
      "                                                                  'cve_1[0][0]']                  \n",
      "                                                                                                  \n",
      " lambda (Lambda)                (None, 880)          0           ['input_2[0][0]']                \n",
      "                                                                                                  \n",
      " transformer (Transformer)      (None, 880, 50)      39508       ['add[0][0]',                    \n",
      "                                                                  'lambda[0][0]']                 \n",
      "                                                                                                  \n",
      " input_5 (InputLayer)           [(None, 33792)]      0           []                               \n",
      "                                                                                                  \n",
      " input_1 (InputLayer)           [(None, 2)]          0           []                               \n",
      "                                                                                                  \n",
      " attention (Attention)          (None, 880, 1)       5200        ['transformer[0][0]',            \n",
      "                                                                  'lambda[0][0]']                 \n",
      "                                                                                                  \n",
      " dense_2 (Dense)                (None, 300)          10137900    ['input_5[0][0]']                \n",
      "                                                                                                  \n",
      " dense (Dense)                  (None, 100)          300         ['input_1[0][0]']                \n",
      "                                                                                                  \n",
      " lambda_1 (Lambda)              (None, 50)           0           ['transformer[0][0]',            \n",
      "                                                                  'attention[0][0]']              \n",
      "                                                                                                  \n",
      " dense_3 (Dense)                (None, 50)           15050       ['dense_2[0][0]']                \n",
      "                                                                                                  \n",
      " dense_1 (Dense)                (None, 50)           5050        ['dense[0][0]']                  \n",
      "                                                                                                  \n",
      " concatenate (Concatenate)      (None, 150)          0           ['lambda_1[0][0]',               \n",
      "                                                                  'dense_3[0][0]',                \n",
      "                                                                  'dense_1[0][0]']                \n",
      "                                                                                                  \n",
      " dense_4 (Dense)                (None, 134)          20234       ['concatenate[0][0]']            \n",
      "                                                                                                  \n",
      "==================================================================================================\n",
      "Total params: 10,230,720\n",
      "Trainable params: 10,230,720\n",
      "Non-trainable params: 0\n",
      "__________________________________________________________________________________________________\n",
      "None\n"
     ]
    },
    {
     "name": "stderr",
     "output_type": "stream",
     "text": [
      "0.161114: 100%|██████████| 3200/3200 [03:05<00:00, 17.21it/s] \n"
     ]
    },
    {
     "name": "stdout",
     "output_type": "stream",
     "text": [
      "Epoch 66 loss 5.154073495306075\n",
      "[8.914696744680406, 7.0745214588195084, 6.766226747892797, 6.3876560734212395, 6.152695898264646, 6.109117773547768, 5.814485622867942, 5.776301048025489, 5.738654530756175, 5.583405836001038, 5.681762804165483, 5.637168691232801, 5.756805288046598, 5.5326660958305, 5.544497608430683, 5.454541003555059, 5.347921294011176, 5.5676145445555445, 5.54693585652858, 5.386093509607017, 5.570726028196514, 5.462398542203009, 5.306258453764022, 5.35484721366316, 5.296373938806355, 5.345018156506121, 5.318254610672593, 5.463322923891246, 5.468511379510164, 5.239585389643907, 5.244688321240246, 5.353287772350013, 5.238765613771975, 5.1603490470722315, 5.26586039505899, 5.170813395418227, 5.356827726587653, 5.36119426842779, 5.254405436441302, 5.20019912365824, 5.245913640633225, 5.206254531778395, 5.422741543017327, 5.195280089266598, 5.2395698639377954, 5.123864757232368, 5.29962230887264, 5.122329228669405, 5.298097359910607, 5.238587622605264, 5.179904577881098, 5.306348676905036, 5.322238216996193, 5.230527948848903, 5.136892489716411, 5.1644172444567085, 5.089352091550827, 5.342211257703602, 5.180566125772893, 5.089548788741231, 5.182309753224254, 5.190734964050352, 5.201865833848715, 5.041899742893874, 5.082157111503184, 5.258396526053548, 5.154073495306075]\n"
     ]
    },
    {
     "name": "stderr",
     "output_type": "stream",
     "text": [
      "0.159530: 100%|██████████| 3200/3200 [02:55<00:00, 18.28it/s]\n"
     ]
    },
    {
     "name": "stdout",
     "output_type": "stream",
     "text": [
      "Epoch 67 loss 5.103402669280768\n",
      "[8.914696744680406, 7.0745214588195084, 6.766226747892797, 6.3876560734212395, 6.152695898264646, 6.109117773547768, 5.814485622867942, 5.776301048025489, 5.738654530756175, 5.583405836001038, 5.681762804165483, 5.637168691232801, 5.756805288046598, 5.5326660958305, 5.544497608430683, 5.454541003555059, 5.347921294011176, 5.5676145445555445, 5.54693585652858, 5.386093509607017, 5.570726028196514, 5.462398542203009, 5.306258453764022, 5.35484721366316, 5.296373938806355, 5.345018156506121, 5.318254610672593, 5.463322923891246, 5.468511379510164, 5.239585389643907, 5.244688321240246, 5.353287772350013, 5.238765613771975, 5.1603490470722315, 5.26586039505899, 5.170813395418227, 5.356827726587653, 5.36119426842779, 5.254405436441302, 5.20019912365824, 5.245913640633225, 5.206254531778395, 5.422741543017327, 5.195280089266598, 5.2395698639377954, 5.123864757232368, 5.29962230887264, 5.122329228669405, 5.298097359910607, 5.238587622605264, 5.179904577881098, 5.306348676905036, 5.322238216996193, 5.230527948848903, 5.136892489716411, 5.1644172444567085, 5.089352091550827, 5.342211257703602, 5.180566125772893, 5.089548788741231, 5.182309753224254, 5.190734964050352, 5.201865833848715, 5.041899742893874, 5.082157111503184, 5.258396526053548, 5.154073495306075, 5.103402669280768]\n"
     ]
    },
    {
     "name": "stderr",
     "output_type": "stream",
     "text": [
      "0.158361: 100%|██████████| 3200/3200 [03:02<00:00, 17.56it/s]\n"
     ]
    },
    {
     "name": "stdout",
     "output_type": "stream",
     "text": [
      "Epoch 68 loss 5.066017731130123\n",
      "[8.914696744680406, 7.0745214588195084, 6.766226747892797, 6.3876560734212395, 6.152695898264646, 6.109117773547768, 5.814485622867942, 5.776301048025489, 5.738654530756175, 5.583405836001038, 5.681762804165483, 5.637168691232801, 5.756805288046598, 5.5326660958305, 5.544497608430683, 5.454541003555059, 5.347921294011176, 5.5676145445555445, 5.54693585652858, 5.386093509607017, 5.570726028196514, 5.462398542203009, 5.306258453764022, 5.35484721366316, 5.296373938806355, 5.345018156506121, 5.318254610672593, 5.463322923891246, 5.468511379510164, 5.239585389643907, 5.244688321240246, 5.353287772350013, 5.238765613771975, 5.1603490470722315, 5.26586039505899, 5.170813395418227, 5.356827726587653, 5.36119426842779, 5.254405436441302, 5.20019912365824, 5.245913640633225, 5.206254531778395, 5.422741543017327, 5.195280089266598, 5.2395698639377954, 5.123864757232368, 5.29962230887264, 5.122329228669405, 5.298097359910607, 5.238587622605264, 5.179904577881098, 5.306348676905036, 5.322238216996193, 5.230527948848903, 5.136892489716411, 5.1644172444567085, 5.089352091550827, 5.342211257703602, 5.180566125772893, 5.089548788741231, 5.182309753224254, 5.190734964050352, 5.201865833848715, 5.041899742893874, 5.082157111503184, 5.258396526053548, 5.154073495306075, 5.103402669280768, 5.066017731130123]\n"
     ]
    },
    {
     "name": "stderr",
     "output_type": "stream",
     "text": [
      "0.156504: 100%|██████████| 3200/3200 [02:56<00:00, 18.11it/s]\n"
     ]
    },
    {
     "name": "stdout",
     "output_type": "stream",
     "text": [
      "Epoch 69 loss 5.006616431884468\n",
      "[8.914696744680406, 7.0745214588195084, 6.766226747892797, 6.3876560734212395, 6.152695898264646, 6.109117773547768, 5.814485622867942, 5.776301048025489, 5.738654530756175, 5.583405836001038, 5.681762804165483, 5.637168691232801, 5.756805288046598, 5.5326660958305, 5.544497608430683, 5.454541003555059, 5.347921294011176, 5.5676145445555445, 5.54693585652858, 5.386093509607017, 5.570726028196514, 5.462398542203009, 5.306258453764022, 5.35484721366316, 5.296373938806355, 5.345018156506121, 5.318254610672593, 5.463322923891246, 5.468511379510164, 5.239585389643907, 5.244688321240246, 5.353287772350013, 5.238765613771975, 5.1603490470722315, 5.26586039505899, 5.170813395418227, 5.356827726587653, 5.36119426842779, 5.254405436441302, 5.20019912365824, 5.245913640633225, 5.206254531778395, 5.422741543017327, 5.195280089266598, 5.2395698639377954, 5.123864757232368, 5.29962230887264, 5.122329228669405, 5.298097359910607, 5.238587622605264, 5.179904577881098, 5.306348676905036, 5.322238216996193, 5.230527948848903, 5.136892489716411, 5.1644172444567085, 5.089352091550827, 5.342211257703602, 5.180566125772893, 5.089548788741231, 5.182309753224254, 5.190734964050352, 5.201865833848715, 5.041899742893874, 5.082157111503184, 5.258396526053548, 5.154073495306075, 5.103402669280768, 5.066017731130123, 5.006616431884468]\n"
     ]
    },
    {
     "name": "stderr",
     "output_type": "stream",
     "text": [
      "0.162807: 100%|██████████| 3200/3200 [02:59<00:00, 17.88it/s]\n"
     ]
    },
    {
     "name": "stdout",
     "output_type": "stream",
     "text": [
      "Epoch 70 loss 5.208253178969025\n",
      "[8.914696744680406, 7.0745214588195084, 6.766226747892797, 6.3876560734212395, 6.152695898264646, 6.109117773547768, 5.814485622867942, 5.776301048025489, 5.738654530756175, 5.583405836001038, 5.681762804165483, 5.637168691232801, 5.756805288046598, 5.5326660958305, 5.544497608430683, 5.454541003555059, 5.347921294011176, 5.5676145445555445, 5.54693585652858, 5.386093509607017, 5.570726028196514, 5.462398542203009, 5.306258453764022, 5.35484721366316, 5.296373938806355, 5.345018156506121, 5.318254610672593, 5.463322923891246, 5.468511379510164, 5.239585389643907, 5.244688321240246, 5.353287772350013, 5.238765613771975, 5.1603490470722315, 5.26586039505899, 5.170813395418227, 5.356827726587653, 5.36119426842779, 5.254405436441302, 5.20019912365824, 5.245913640633225, 5.206254531778395, 5.422741543017327, 5.195280089266598, 5.2395698639377954, 5.123864757232368, 5.29962230887264, 5.122329228669405, 5.298097359910607, 5.238587622605264, 5.179904577881098, 5.306348676905036, 5.322238216996193, 5.230527948848903, 5.136892489716411, 5.1644172444567085, 5.089352091550827, 5.342211257703602, 5.180566125772893, 5.089548788741231, 5.182309753224254, 5.190734964050352, 5.201865833848715, 5.041899742893874, 5.082157111503184, 5.258396526053548, 5.154073495306075, 5.103402669280768, 5.066017731130123, 5.006616431884468, 5.208253178969025]\n"
     ]
    },
    {
     "name": "stderr",
     "output_type": "stream",
     "text": [
      "0.160976: 100%|██████████| 3200/3200 [02:58<00:00, 17.94it/s]\n"
     ]
    },
    {
     "name": "stdout",
     "output_type": "stream",
     "text": [
      "Epoch 71 loss 5.149677507504821\n",
      "[8.914696744680406, 7.0745214588195084, 6.766226747892797, 6.3876560734212395, 6.152695898264646, 6.109117773547768, 5.814485622867942, 5.776301048025489, 5.738654530756175, 5.583405836001038, 5.681762804165483, 5.637168691232801, 5.756805288046598, 5.5326660958305, 5.544497608430683, 5.454541003555059, 5.347921294011176, 5.5676145445555445, 5.54693585652858, 5.386093509607017, 5.570726028196514, 5.462398542203009, 5.306258453764022, 5.35484721366316, 5.296373938806355, 5.345018156506121, 5.318254610672593, 5.463322923891246, 5.468511379510164, 5.239585389643907, 5.244688321240246, 5.353287772350013, 5.238765613771975, 5.1603490470722315, 5.26586039505899, 5.170813395418227, 5.356827726587653, 5.36119426842779, 5.254405436441302, 5.20019912365824, 5.245913640633225, 5.206254531778395, 5.422741543017327, 5.195280089266598, 5.2395698639377954, 5.123864757232368, 5.29962230887264, 5.122329228669405, 5.298097359910607, 5.238587622605264, 5.179904577881098, 5.306348676905036, 5.322238216996193, 5.230527948848903, 5.136892489716411, 5.1644172444567085, 5.089352091550827, 5.342211257703602, 5.180566125772893, 5.089548788741231, 5.182309753224254, 5.190734964050352, 5.201865833848715, 5.041899742893874, 5.082157111503184, 5.258396526053548, 5.154073495306075, 5.103402669280768, 5.066017731130123, 5.006616431884468, 5.208253178969025, 5.149677507504821]\n"
     ]
    },
    {
     "name": "stderr",
     "output_type": "stream",
     "text": [
      "0.161431: 100%|██████████| 3200/3200 [02:55<00:00, 18.21it/s]\n"
     ]
    },
    {
     "name": "stdout",
     "output_type": "stream",
     "text": [
      "Epoch 72 loss 5.164224623069167\n",
      "[8.914696744680406, 7.0745214588195084, 6.766226747892797, 6.3876560734212395, 6.152695898264646, 6.109117773547768, 5.814485622867942, 5.776301048025489, 5.738654530756175, 5.583405836001038, 5.681762804165483, 5.637168691232801, 5.756805288046598, 5.5326660958305, 5.544497608430683, 5.454541003555059, 5.347921294011176, 5.5676145445555445, 5.54693585652858, 5.386093509607017, 5.570726028196514, 5.462398542203009, 5.306258453764022, 5.35484721366316, 5.296373938806355, 5.345018156506121, 5.318254610672593, 5.463322923891246, 5.468511379510164, 5.239585389643907, 5.244688321240246, 5.353287772350013, 5.238765613771975, 5.1603490470722315, 5.26586039505899, 5.170813395418227, 5.356827726587653, 5.36119426842779, 5.254405436441302, 5.20019912365824, 5.245913640633225, 5.206254531778395, 5.422741543017327, 5.195280089266598, 5.2395698639377954, 5.123864757232368, 5.29962230887264, 5.122329228669405, 5.298097359910607, 5.238587622605264, 5.179904577881098, 5.306348676905036, 5.322238216996193, 5.230527948848903, 5.136892489716411, 5.1644172444567085, 5.089352091550827, 5.342211257703602, 5.180566125772893, 5.089548788741231, 5.182309753224254, 5.190734964050352, 5.201865833848715, 5.041899742893874, 5.082157111503184, 5.258396526053548, 5.154073495306075, 5.103402669280768, 5.066017731130123, 5.006616431884468, 5.208253178969025, 5.149677507504821, 5.164224623069167]\n"
     ]
    },
    {
     "name": "stderr",
     "output_type": "stream",
     "text": [
      "0.161124: 100%|██████████| 3200/3200 [02:56<00:00, 18.11it/s]\n"
     ]
    },
    {
     "name": "stdout",
     "output_type": "stream",
     "text": [
      "Epoch 73 loss 5.154413297362626\n",
      "[8.914696744680406, 7.0745214588195084, 6.766226747892797, 6.3876560734212395, 6.152695898264646, 6.109117773547768, 5.814485622867942, 5.776301048025489, 5.738654530756175, 5.583405836001038, 5.681762804165483, 5.637168691232801, 5.756805288046598, 5.5326660958305, 5.544497608430683, 5.454541003555059, 5.347921294011176, 5.5676145445555445, 5.54693585652858, 5.386093509607017, 5.570726028196514, 5.462398542203009, 5.306258453764022, 5.35484721366316, 5.296373938806355, 5.345018156506121, 5.318254610672593, 5.463322923891246, 5.468511379510164, 5.239585389643907, 5.244688321240246, 5.353287772350013, 5.238765613771975, 5.1603490470722315, 5.26586039505899, 5.170813395418227, 5.356827726587653, 5.36119426842779, 5.254405436441302, 5.20019912365824, 5.245913640633225, 5.206254531778395, 5.422741543017327, 5.195280089266598, 5.2395698639377954, 5.123864757232368, 5.29962230887264, 5.122329228669405, 5.298097359910607, 5.238587622605264, 5.179904577881098, 5.306348676905036, 5.322238216996193, 5.230527948848903, 5.136892489716411, 5.1644172444567085, 5.089352091550827, 5.342211257703602, 5.180566125772893, 5.089548788741231, 5.182309753224254, 5.190734964050352, 5.201865833848715, 5.041899742893874, 5.082157111503184, 5.258396526053548, 5.154073495306075, 5.103402669280768, 5.066017731130123, 5.006616431884468, 5.208253178969025, 5.149677507504821, 5.164224623069167, 5.154413297362626]\n"
     ]
    },
    {
     "name": "stderr",
     "output_type": "stream",
     "text": [
      "0.157723: 100%|██████████| 3200/3200 [02:58<00:00, 17.92it/s]\n"
     ]
    },
    {
     "name": "stdout",
     "output_type": "stream",
     "text": [
      "Epoch 74 loss 5.045603170767427\n",
      "[8.914696744680406, 7.0745214588195084, 6.766226747892797, 6.3876560734212395, 6.152695898264646, 6.109117773547768, 5.814485622867942, 5.776301048025489, 5.738654530756175, 5.583405836001038, 5.681762804165483, 5.637168691232801, 5.756805288046598, 5.5326660958305, 5.544497608430683, 5.454541003555059, 5.347921294011176, 5.5676145445555445, 5.54693585652858, 5.386093509607017, 5.570726028196514, 5.462398542203009, 5.306258453764022, 5.35484721366316, 5.296373938806355, 5.345018156506121, 5.318254610672593, 5.463322923891246, 5.468511379510164, 5.239585389643907, 5.244688321240246, 5.353287772350013, 5.238765613771975, 5.1603490470722315, 5.26586039505899, 5.170813395418227, 5.356827726587653, 5.36119426842779, 5.254405436441302, 5.20019912365824, 5.245913640633225, 5.206254531778395, 5.422741543017327, 5.195280089266598, 5.2395698639377954, 5.123864757232368, 5.29962230887264, 5.122329228669405, 5.298097359910607, 5.238587622605264, 5.179904577881098, 5.306348676905036, 5.322238216996193, 5.230527948848903, 5.136892489716411, 5.1644172444567085, 5.089352091550827, 5.342211257703602, 5.180566125772893, 5.089548788741231, 5.182309753224254, 5.190734964050352, 5.201865833848715, 5.041899742893874, 5.082157111503184, 5.258396526053548, 5.154073495306075, 5.103402669280768, 5.066017731130123, 5.006616431884468, 5.208253178969025, 5.149677507504821, 5.164224623069167, 5.154413297362626, 5.045603170767427]\n"
     ]
    },
    {
     "name": "stderr",
     "output_type": "stream",
     "text": [
      "0.153359: 100%|██████████| 3200/3200 [02:56<00:00, 18.12it/s]\n"
     ]
    },
    {
     "name": "stdout",
     "output_type": "stream",
     "text": [
      "Epoch 75 loss 4.905999962575733\n",
      "[8.914696744680406, 7.0745214588195084, 6.766226747892797, 6.3876560734212395, 6.152695898264646, 6.109117773547768, 5.814485622867942, 5.776301048025489, 5.738654530756175, 5.583405836001038, 5.681762804165483, 5.637168691232801, 5.756805288046598, 5.5326660958305, 5.544497608430683, 5.454541003555059, 5.347921294011176, 5.5676145445555445, 5.54693585652858, 5.386093509607017, 5.570726028196514, 5.462398542203009, 5.306258453764022, 5.35484721366316, 5.296373938806355, 5.345018156506121, 5.318254610672593, 5.463322923891246, 5.468511379510164, 5.239585389643907, 5.244688321240246, 5.353287772350013, 5.238765613771975, 5.1603490470722315, 5.26586039505899, 5.170813395418227, 5.356827726587653, 5.36119426842779, 5.254405436441302, 5.20019912365824, 5.245913640633225, 5.206254531778395, 5.422741543017327, 5.195280089266598, 5.2395698639377954, 5.123864757232368, 5.29962230887264, 5.122329228669405, 5.298097359910607, 5.238587622605264, 5.179904577881098, 5.306348676905036, 5.322238216996193, 5.230527948848903, 5.136892489716411, 5.1644172444567085, 5.089352091550827, 5.342211257703602, 5.180566125772893, 5.089548788741231, 5.182309753224254, 5.190734964050352, 5.201865833848715, 5.041899742893874, 5.082157111503184, 5.258396526053548, 5.154073495306075, 5.103402669280768, 5.066017731130123, 5.006616431884468, 5.208253178969025, 5.149677507504821, 5.164224623069167, 5.154413297362626, 5.045603170767427, 4.905999962575733]\n"
     ]
    },
    {
     "name": "stderr",
     "output_type": "stream",
     "text": [
      "0.161086: 100%|██████████| 3200/3200 [03:00<00:00, 17.76it/s]\n"
     ]
    },
    {
     "name": "stdout",
     "output_type": "stream",
     "text": [
      "Epoch 76 loss 5.153192142359912\n",
      "[8.914696744680406, 7.0745214588195084, 6.766226747892797, 6.3876560734212395, 6.152695898264646, 6.109117773547768, 5.814485622867942, 5.776301048025489, 5.738654530756175, 5.583405836001038, 5.681762804165483, 5.637168691232801, 5.756805288046598, 5.5326660958305, 5.544497608430683, 5.454541003555059, 5.347921294011176, 5.5676145445555445, 5.54693585652858, 5.386093509607017, 5.570726028196514, 5.462398542203009, 5.306258453764022, 5.35484721366316, 5.296373938806355, 5.345018156506121, 5.318254610672593, 5.463322923891246, 5.468511379510164, 5.239585389643907, 5.244688321240246, 5.353287772350013, 5.238765613771975, 5.1603490470722315, 5.26586039505899, 5.170813395418227, 5.356827726587653, 5.36119426842779, 5.254405436441302, 5.20019912365824, 5.245913640633225, 5.206254531778395, 5.422741543017327, 5.195280089266598, 5.2395698639377954, 5.123864757232368, 5.29962230887264, 5.122329228669405, 5.298097359910607, 5.238587622605264, 5.179904577881098, 5.306348676905036, 5.322238216996193, 5.230527948848903, 5.136892489716411, 5.1644172444567085, 5.089352091550827, 5.342211257703602, 5.180566125772893, 5.089548788741231, 5.182309753224254, 5.190734964050352, 5.201865833848715, 5.041899742893874, 5.082157111503184, 5.258396526053548, 5.154073495306075, 5.103402669280768, 5.066017731130123, 5.006616431884468, 5.208253178969025, 5.149677507504821, 5.164224623069167, 5.154413297362626, 5.045603170767427, 4.905999962575733, 5.153192142359912]\n"
     ]
    },
    {
     "name": "stderr",
     "output_type": "stream",
     "text": [
      "0.160914: 100%|██████████| 3200/3200 [03:05<00:00, 17.24it/s]\n"
     ]
    },
    {
     "name": "stdout",
     "output_type": "stream",
     "text": [
      "Epoch 77 loss 5.147674689628184\n",
      "[8.914696744680406, 7.0745214588195084, 6.766226747892797, 6.3876560734212395, 6.152695898264646, 6.109117773547768, 5.814485622867942, 5.776301048025489, 5.738654530756175, 5.583405836001038, 5.681762804165483, 5.637168691232801, 5.756805288046598, 5.5326660958305, 5.544497608430683, 5.454541003555059, 5.347921294011176, 5.5676145445555445, 5.54693585652858, 5.386093509607017, 5.570726028196514, 5.462398542203009, 5.306258453764022, 5.35484721366316, 5.296373938806355, 5.345018156506121, 5.318254610672593, 5.463322923891246, 5.468511379510164, 5.239585389643907, 5.244688321240246, 5.353287772350013, 5.238765613771975, 5.1603490470722315, 5.26586039505899, 5.170813395418227, 5.356827726587653, 5.36119426842779, 5.254405436441302, 5.20019912365824, 5.245913640633225, 5.206254531778395, 5.422741543017327, 5.195280089266598, 5.2395698639377954, 5.123864757232368, 5.29962230887264, 5.122329228669405, 5.298097359910607, 5.238587622605264, 5.179904577881098, 5.306348676905036, 5.322238216996193, 5.230527948848903, 5.136892489716411, 5.1644172444567085, 5.089352091550827, 5.342211257703602, 5.180566125772893, 5.089548788741231, 5.182309753224254, 5.190734964050352, 5.201865833848715, 5.041899742893874, 5.082157111503184, 5.258396526053548, 5.154073495306075, 5.103402669280768, 5.066017731130123, 5.006616431884468, 5.208253178969025, 5.149677507504821, 5.164224623069167, 5.154413297362626, 5.045603170767427, 4.905999962575733, 5.153192142359912, 5.147674689628184]\n"
     ]
    },
    {
     "name": "stderr",
     "output_type": "stream",
     "text": [
      "0.164941: 100%|██████████| 3200/3200 [02:59<00:00, 17.80it/s]\n"
     ]
    },
    {
     "name": "stdout",
     "output_type": "stream",
     "text": [
      "Epoch 78 loss 5.276529077477753\n",
      "[8.914696744680406, 7.0745214588195084, 6.766226747892797, 6.3876560734212395, 6.152695898264646, 6.109117773547768, 5.814485622867942, 5.776301048025489, 5.738654530756175, 5.583405836001038, 5.681762804165483, 5.637168691232801, 5.756805288046598, 5.5326660958305, 5.544497608430683, 5.454541003555059, 5.347921294011176, 5.5676145445555445, 5.54693585652858, 5.386093509607017, 5.570726028196514, 5.462398542203009, 5.306258453764022, 5.35484721366316, 5.296373938806355, 5.345018156506121, 5.318254610672593, 5.463322923891246, 5.468511379510164, 5.239585389643907, 5.244688321240246, 5.353287772350013, 5.238765613771975, 5.1603490470722315, 5.26586039505899, 5.170813395418227, 5.356827726587653, 5.36119426842779, 5.254405436441302, 5.20019912365824, 5.245913640633225, 5.206254531778395, 5.422741543017327, 5.195280089266598, 5.2395698639377954, 5.123864757232368, 5.29962230887264, 5.122329228669405, 5.298097359910607, 5.238587622605264, 5.179904577881098, 5.306348676905036, 5.322238216996193, 5.230527948848903, 5.136892489716411, 5.1644172444567085, 5.089352091550827, 5.342211257703602, 5.180566125772893, 5.089548788741231, 5.182309753224254, 5.190734964050352, 5.201865833848715, 5.041899742893874, 5.082157111503184, 5.258396526053548, 5.154073495306075, 5.103402669280768, 5.066017731130123, 5.006616431884468, 5.208253178969025, 5.149677507504821, 5.164224623069167, 5.154413297362626, 5.045603170767427, 4.905999962575733, 5.153192142359912, 5.147674689628184, 5.276529077477753]\n"
     ]
    },
    {
     "name": "stderr",
     "output_type": "stream",
     "text": [
      "0.157432: 100%|██████████| 3200/3200 [02:56<00:00, 18.08it/s]\n"
     ]
    },
    {
     "name": "stdout",
     "output_type": "stream",
     "text": [
      "Epoch 79 loss 5.036290366351604\n",
      "[8.914696744680406, 7.0745214588195084, 6.766226747892797, 6.3876560734212395, 6.152695898264646, 6.109117773547768, 5.814485622867942, 5.776301048025489, 5.738654530756175, 5.583405836001038, 5.681762804165483, 5.637168691232801, 5.756805288046598, 5.5326660958305, 5.544497608430683, 5.454541003555059, 5.347921294011176, 5.5676145445555445, 5.54693585652858, 5.386093509607017, 5.570726028196514, 5.462398542203009, 5.306258453764022, 5.35484721366316, 5.296373938806355, 5.345018156506121, 5.318254610672593, 5.463322923891246, 5.468511379510164, 5.239585389643907, 5.244688321240246, 5.353287772350013, 5.238765613771975, 5.1603490470722315, 5.26586039505899, 5.170813395418227, 5.356827726587653, 5.36119426842779, 5.254405436441302, 5.20019912365824, 5.245913640633225, 5.206254531778395, 5.422741543017327, 5.195280089266598, 5.2395698639377954, 5.123864757232368, 5.29962230887264, 5.122329228669405, 5.298097359910607, 5.238587622605264, 5.179904577881098, 5.306348676905036, 5.322238216996193, 5.230527948848903, 5.136892489716411, 5.1644172444567085, 5.089352091550827, 5.342211257703602, 5.180566125772893, 5.089548788741231, 5.182309753224254, 5.190734964050352, 5.201865833848715, 5.041899742893874, 5.082157111503184, 5.258396526053548, 5.154073495306075, 5.103402669280768, 5.066017731130123, 5.006616431884468, 5.208253178969025, 5.149677507504821, 5.164224623069167, 5.154413297362626, 5.045603170767427, 4.905999962575733, 5.153192142359912, 5.147674689628184, 5.276529077477753, 5.036290366351604]\n"
     ]
    },
    {
     "name": "stderr",
     "output_type": "stream",
     "text": [
      "0.156255: 100%|██████████| 3200/3200 [02:56<00:00, 18.08it/s]\n"
     ]
    },
    {
     "name": "stdout",
     "output_type": "stream",
     "text": [
      "Epoch 80 loss 4.998651553876698\n",
      "[8.914696744680406, 7.0745214588195084, 6.766226747892797, 6.3876560734212395, 6.152695898264646, 6.109117773547768, 5.814485622867942, 5.776301048025489, 5.738654530756175, 5.583405836001038, 5.681762804165483, 5.637168691232801, 5.756805288046598, 5.5326660958305, 5.544497608430683, 5.454541003555059, 5.347921294011176, 5.5676145445555445, 5.54693585652858, 5.386093509607017, 5.570726028196514, 5.462398542203009, 5.306258453764022, 5.35484721366316, 5.296373938806355, 5.345018156506121, 5.318254610672593, 5.463322923891246, 5.468511379510164, 5.239585389643907, 5.244688321240246, 5.353287772350013, 5.238765613771975, 5.1603490470722315, 5.26586039505899, 5.170813395418227, 5.356827726587653, 5.36119426842779, 5.254405436441302, 5.20019912365824, 5.245913640633225, 5.206254531778395, 5.422741543017327, 5.195280089266598, 5.2395698639377954, 5.123864757232368, 5.29962230887264, 5.122329228669405, 5.298097359910607, 5.238587622605264, 5.179904577881098, 5.306348676905036, 5.322238216996193, 5.230527948848903, 5.136892489716411, 5.1644172444567085, 5.089352091550827, 5.342211257703602, 5.180566125772893, 5.089548788741231, 5.182309753224254, 5.190734964050352, 5.201865833848715, 5.041899742893874, 5.082157111503184, 5.258396526053548, 5.154073495306075, 5.103402669280768, 5.066017731130123, 5.006616431884468, 5.208253178969025, 5.149677507504821, 5.164224623069167, 5.154413297362626, 5.045603170767427, 4.905999962575733, 5.153192142359912, 5.147674689628184, 5.276529077477753, 5.036290366351604, 4.998651553876698]\n"
     ]
    },
    {
     "name": "stderr",
     "output_type": "stream",
     "text": [
      "0.157477: 100%|██████████| 3200/3200 [02:56<00:00, 18.18it/s]\n"
     ]
    },
    {
     "name": "stdout",
     "output_type": "stream",
     "text": [
      "Epoch 81 loss 5.037742658816278\n",
      "[8.914696744680406, 7.0745214588195084, 6.766226747892797, 6.3876560734212395, 6.152695898264646, 6.109117773547768, 5.814485622867942, 5.776301048025489, 5.738654530756175, 5.583405836001038, 5.681762804165483, 5.637168691232801, 5.756805288046598, 5.5326660958305, 5.544497608430683, 5.454541003555059, 5.347921294011176, 5.5676145445555445, 5.54693585652858, 5.386093509607017, 5.570726028196514, 5.462398542203009, 5.306258453764022, 5.35484721366316, 5.296373938806355, 5.345018156506121, 5.318254610672593, 5.463322923891246, 5.468511379510164, 5.239585389643907, 5.244688321240246, 5.353287772350013, 5.238765613771975, 5.1603490470722315, 5.26586039505899, 5.170813395418227, 5.356827726587653, 5.36119426842779, 5.254405436441302, 5.20019912365824, 5.245913640633225, 5.206254531778395, 5.422741543017327, 5.195280089266598, 5.2395698639377954, 5.123864757232368, 5.29962230887264, 5.122329228669405, 5.298097359910607, 5.238587622605264, 5.179904577881098, 5.306348676905036, 5.322238216996193, 5.230527948848903, 5.136892489716411, 5.1644172444567085, 5.089352091550827, 5.342211257703602, 5.180566125772893, 5.089548788741231, 5.182309753224254, 5.190734964050352, 5.201865833848715, 5.041899742893874, 5.082157111503184, 5.258396526053548, 5.154073495306075, 5.103402669280768, 5.066017731130123, 5.006616431884468, 5.208253178969025, 5.149677507504821, 5.164224623069167, 5.154413297362626, 5.045603170767427, 4.905999962575733, 5.153192142359912, 5.147674689628184, 5.276529077477753, 5.036290366351604, 4.998651553876698, 5.037742658816278]\n"
     ]
    },
    {
     "name": "stderr",
     "output_type": "stream",
     "text": [
      "0.159772: 100%|██████████| 3200/3200 [02:56<00:00, 18.14it/s]\n"
     ]
    },
    {
     "name": "stdout",
     "output_type": "stream",
     "text": [
      "Epoch 82 loss 5.11115715533495\n",
      "[8.914696744680406, 7.0745214588195084, 6.766226747892797, 6.3876560734212395, 6.152695898264646, 6.109117773547768, 5.814485622867942, 5.776301048025489, 5.738654530756175, 5.583405836001038, 5.681762804165483, 5.637168691232801, 5.756805288046598, 5.5326660958305, 5.544497608430683, 5.454541003555059, 5.347921294011176, 5.5676145445555445, 5.54693585652858, 5.386093509607017, 5.570726028196514, 5.462398542203009, 5.306258453764022, 5.35484721366316, 5.296373938806355, 5.345018156506121, 5.318254610672593, 5.463322923891246, 5.468511379510164, 5.239585389643907, 5.244688321240246, 5.353287772350013, 5.238765613771975, 5.1603490470722315, 5.26586039505899, 5.170813395418227, 5.356827726587653, 5.36119426842779, 5.254405436441302, 5.20019912365824, 5.245913640633225, 5.206254531778395, 5.422741543017327, 5.195280089266598, 5.2395698639377954, 5.123864757232368, 5.29962230887264, 5.122329228669405, 5.298097359910607, 5.238587622605264, 5.179904577881098, 5.306348676905036, 5.322238216996193, 5.230527948848903, 5.136892489716411, 5.1644172444567085, 5.089352091550827, 5.342211257703602, 5.180566125772893, 5.089548788741231, 5.182309753224254, 5.190734964050352, 5.201865833848715, 5.041899742893874, 5.082157111503184, 5.258396526053548, 5.154073495306075, 5.103402669280768, 5.066017731130123, 5.006616431884468, 5.208253178969025, 5.149677507504821, 5.164224623069167, 5.154413297362626, 5.045603170767427, 4.905999962575733, 5.153192142359912, 5.147674689628184, 5.276529077477753, 5.036290366351604, 4.998651553876698, 5.037742658816278, 5.11115715533495]\n"
     ]
    },
    {
     "name": "stderr",
     "output_type": "stream",
     "text": [
      "0.156517: 100%|██████████| 3200/3200 [02:57<00:00, 18.07it/s]\n"
     ]
    },
    {
     "name": "stdout",
     "output_type": "stream",
     "text": [
      "Epoch 83 loss 5.007026911973953\n",
      "[8.914696744680406, 7.0745214588195084, 6.766226747892797, 6.3876560734212395, 6.152695898264646, 6.109117773547768, 5.814485622867942, 5.776301048025489, 5.738654530756175, 5.583405836001038, 5.681762804165483, 5.637168691232801, 5.756805288046598, 5.5326660958305, 5.544497608430683, 5.454541003555059, 5.347921294011176, 5.5676145445555445, 5.54693585652858, 5.386093509607017, 5.570726028196514, 5.462398542203009, 5.306258453764022, 5.35484721366316, 5.296373938806355, 5.345018156506121, 5.318254610672593, 5.463322923891246, 5.468511379510164, 5.239585389643907, 5.244688321240246, 5.353287772350013, 5.238765613771975, 5.1603490470722315, 5.26586039505899, 5.170813395418227, 5.356827726587653, 5.36119426842779, 5.254405436441302, 5.20019912365824, 5.245913640633225, 5.206254531778395, 5.422741543017327, 5.195280089266598, 5.2395698639377954, 5.123864757232368, 5.29962230887264, 5.122329228669405, 5.298097359910607, 5.238587622605264, 5.179904577881098, 5.306348676905036, 5.322238216996193, 5.230527948848903, 5.136892489716411, 5.1644172444567085, 5.089352091550827, 5.342211257703602, 5.180566125772893, 5.089548788741231, 5.182309753224254, 5.190734964050352, 5.201865833848715, 5.041899742893874, 5.082157111503184, 5.258396526053548, 5.154073495306075, 5.103402669280768, 5.066017731130123, 5.006616431884468, 5.208253178969025, 5.149677507504821, 5.164224623069167, 5.154413297362626, 5.045603170767427, 4.905999962575733, 5.153192142359912, 5.147674689628184, 5.276529077477753, 5.036290366351604, 4.998651553876698, 5.037742658816278, 5.11115715533495, 5.007026911973953]\n"
     ]
    },
    {
     "name": "stderr",
     "output_type": "stream",
     "text": [
      "0.161839: 100%|██████████| 3200/3200 [02:56<00:00, 18.09it/s]\n"
     ]
    },
    {
     "name": "stdout",
     "output_type": "stream",
     "text": [
      "Epoch 84 loss 5.177283853441477\n",
      "[8.914696744680406, 7.0745214588195084, 6.766226747892797, 6.3876560734212395, 6.152695898264646, 6.109117773547768, 5.814485622867942, 5.776301048025489, 5.738654530756175, 5.583405836001038, 5.681762804165483, 5.637168691232801, 5.756805288046598, 5.5326660958305, 5.544497608430683, 5.454541003555059, 5.347921294011176, 5.5676145445555445, 5.54693585652858, 5.386093509607017, 5.570726028196514, 5.462398542203009, 5.306258453764022, 5.35484721366316, 5.296373938806355, 5.345018156506121, 5.318254610672593, 5.463322923891246, 5.468511379510164, 5.239585389643907, 5.244688321240246, 5.353287772350013, 5.238765613771975, 5.1603490470722315, 5.26586039505899, 5.170813395418227, 5.356827726587653, 5.36119426842779, 5.254405436441302, 5.20019912365824, 5.245913640633225, 5.206254531778395, 5.422741543017327, 5.195280089266598, 5.2395698639377954, 5.123864757232368, 5.29962230887264, 5.122329228669405, 5.298097359910607, 5.238587622605264, 5.179904577881098, 5.306348676905036, 5.322238216996193, 5.230527948848903, 5.136892489716411, 5.1644172444567085, 5.089352091550827, 5.342211257703602, 5.180566125772893, 5.089548788741231, 5.182309753224254, 5.190734964050352, 5.201865833848715, 5.041899742893874, 5.082157111503184, 5.258396526053548, 5.154073495306075, 5.103402669280768, 5.066017731130123, 5.006616431884468, 5.208253178969025, 5.149677507504821, 5.164224623069167, 5.154413297362626, 5.045603170767427, 4.905999962575733, 5.153192142359912, 5.147674689628184, 5.276529077477753, 5.036290366351604, 4.998651553876698, 5.037742658816278, 5.11115715533495, 5.007026911973953, 5.177283853441477]\n"
     ]
    },
    {
     "name": "stderr",
     "output_type": "stream",
     "text": [
      "0.160477: 100%|██████████| 3200/3200 [02:57<00:00, 18.04it/s]\n"
     ]
    },
    {
     "name": "stdout",
     "output_type": "stream",
     "text": [
      "Epoch 85 loss 5.133703094497323\n",
      "[8.914696744680406, 7.0745214588195084, 6.766226747892797, 6.3876560734212395, 6.152695898264646, 6.109117773547768, 5.814485622867942, 5.776301048025489, 5.738654530756175, 5.583405836001038, 5.681762804165483, 5.637168691232801, 5.756805288046598, 5.5326660958305, 5.544497608430683, 5.454541003555059, 5.347921294011176, 5.5676145445555445, 5.54693585652858, 5.386093509607017, 5.570726028196514, 5.462398542203009, 5.306258453764022, 5.35484721366316, 5.296373938806355, 5.345018156506121, 5.318254610672593, 5.463322923891246, 5.468511379510164, 5.239585389643907, 5.244688321240246, 5.353287772350013, 5.238765613771975, 5.1603490470722315, 5.26586039505899, 5.170813395418227, 5.356827726587653, 5.36119426842779, 5.254405436441302, 5.20019912365824, 5.245913640633225, 5.206254531778395, 5.422741543017327, 5.195280089266598, 5.2395698639377954, 5.123864757232368, 5.29962230887264, 5.122329228669405, 5.298097359910607, 5.238587622605264, 5.179904577881098, 5.306348676905036, 5.322238216996193, 5.230527948848903, 5.136892489716411, 5.1644172444567085, 5.089352091550827, 5.342211257703602, 5.180566125772893, 5.089548788741231, 5.182309753224254, 5.190734964050352, 5.201865833848715, 5.041899742893874, 5.082157111503184, 5.258396526053548, 5.154073495306075, 5.103402669280768, 5.066017731130123, 5.006616431884468, 5.208253178969025, 5.149677507504821, 5.164224623069167, 5.154413297362626, 5.045603170767427, 4.905999962575733, 5.153192142359912, 5.147674689628184, 5.276529077477753, 5.036290366351604, 4.998651553876698, 5.037742658816278, 5.11115715533495, 5.007026911973953, 5.177283853441477, 5.133703094497323]\n"
     ]
    },
    {
     "name": "stderr",
     "output_type": "stream",
     "text": [
      "0.157016: 100%|██████████| 3200/3200 [02:56<00:00, 18.10it/s]\n"
     ]
    },
    {
     "name": "stdout",
     "output_type": "stream",
     "text": [
      "Epoch 86 loss 5.02299797732383\n",
      "[8.914696744680406, 7.0745214588195084, 6.766226747892797, 6.3876560734212395, 6.152695898264646, 6.109117773547768, 5.814485622867942, 5.776301048025489, 5.738654530756175, 5.583405836001038, 5.681762804165483, 5.637168691232801, 5.756805288046598, 5.5326660958305, 5.544497608430683, 5.454541003555059, 5.347921294011176, 5.5676145445555445, 5.54693585652858, 5.386093509607017, 5.570726028196514, 5.462398542203009, 5.306258453764022, 5.35484721366316, 5.296373938806355, 5.345018156506121, 5.318254610672593, 5.463322923891246, 5.468511379510164, 5.239585389643907, 5.244688321240246, 5.353287772350013, 5.238765613771975, 5.1603490470722315, 5.26586039505899, 5.170813395418227, 5.356827726587653, 5.36119426842779, 5.254405436441302, 5.20019912365824, 5.245913640633225, 5.206254531778395, 5.422741543017327, 5.195280089266598, 5.2395698639377954, 5.123864757232368, 5.29962230887264, 5.122329228669405, 5.298097359910607, 5.238587622605264, 5.179904577881098, 5.306348676905036, 5.322238216996193, 5.230527948848903, 5.136892489716411, 5.1644172444567085, 5.089352091550827, 5.342211257703602, 5.180566125772893, 5.089548788741231, 5.182309753224254, 5.190734964050352, 5.201865833848715, 5.041899742893874, 5.082157111503184, 5.258396526053548, 5.154073495306075, 5.103402669280768, 5.066017731130123, 5.006616431884468, 5.208253178969025, 5.149677507504821, 5.164224623069167, 5.154413297362626, 5.045603170767427, 4.905999962575733, 5.153192142359912, 5.147674689628184, 5.276529077477753, 5.036290366351604, 4.998651553876698, 5.037742658816278, 5.11115715533495, 5.007026911973953, 5.177283853441477, 5.133703094497323, 5.02299797732383]\n"
     ]
    },
    {
     "name": "stderr",
     "output_type": "stream",
     "text": [
      "0.158757: 100%|██████████| 3200/3200 [03:00<00:00, 17.71it/s]\n"
     ]
    },
    {
     "name": "stdout",
     "output_type": "stream",
     "text": [
      "Epoch 87 loss 5.078693490363658\n",
      "[8.914696744680406, 7.0745214588195084, 6.766226747892797, 6.3876560734212395, 6.152695898264646, 6.109117773547768, 5.814485622867942, 5.776301048025489, 5.738654530756175, 5.583405836001038, 5.681762804165483, 5.637168691232801, 5.756805288046598, 5.5326660958305, 5.544497608430683, 5.454541003555059, 5.347921294011176, 5.5676145445555445, 5.54693585652858, 5.386093509607017, 5.570726028196514, 5.462398542203009, 5.306258453764022, 5.35484721366316, 5.296373938806355, 5.345018156506121, 5.318254610672593, 5.463322923891246, 5.468511379510164, 5.239585389643907, 5.244688321240246, 5.353287772350013, 5.238765613771975, 5.1603490470722315, 5.26586039505899, 5.170813395418227, 5.356827726587653, 5.36119426842779, 5.254405436441302, 5.20019912365824, 5.245913640633225, 5.206254531778395, 5.422741543017327, 5.195280089266598, 5.2395698639377954, 5.123864757232368, 5.29962230887264, 5.122329228669405, 5.298097359910607, 5.238587622605264, 5.179904577881098, 5.306348676905036, 5.322238216996193, 5.230527948848903, 5.136892489716411, 5.1644172444567085, 5.089352091550827, 5.342211257703602, 5.180566125772893, 5.089548788741231, 5.182309753224254, 5.190734964050352, 5.201865833848715, 5.041899742893874, 5.082157111503184, 5.258396526053548, 5.154073495306075, 5.103402669280768, 5.066017731130123, 5.006616431884468, 5.208253178969025, 5.149677507504821, 5.164224623069167, 5.154413297362626, 5.045603170767427, 4.905999962575733, 5.153192142359912, 5.147674689628184, 5.276529077477753, 5.036290366351604, 4.998651553876698, 5.037742658816278, 5.11115715533495, 5.007026911973953, 5.177283853441477, 5.133703094497323, 5.02299797732383, 5.078693490363658]\n"
     ]
    },
    {
     "name": "stderr",
     "output_type": "stream",
     "text": [
      "0.159958: 100%|██████████| 3200/3200 [03:01<00:00, 17.60it/s]\n"
     ]
    },
    {
     "name": "stdout",
     "output_type": "stream",
     "text": [
      "Epoch 88 loss 5.117097066119313\n",
      "[8.914696744680406, 7.0745214588195084, 6.766226747892797, 6.3876560734212395, 6.152695898264646, 6.109117773547768, 5.814485622867942, 5.776301048025489, 5.738654530756175, 5.583405836001038, 5.681762804165483, 5.637168691232801, 5.756805288046598, 5.5326660958305, 5.544497608430683, 5.454541003555059, 5.347921294011176, 5.5676145445555445, 5.54693585652858, 5.386093509607017, 5.570726028196514, 5.462398542203009, 5.306258453764022, 5.35484721366316, 5.296373938806355, 5.345018156506121, 5.318254610672593, 5.463322923891246, 5.468511379510164, 5.239585389643907, 5.244688321240246, 5.353287772350013, 5.238765613771975, 5.1603490470722315, 5.26586039505899, 5.170813395418227, 5.356827726587653, 5.36119426842779, 5.254405436441302, 5.20019912365824, 5.245913640633225, 5.206254531778395, 5.422741543017327, 5.195280089266598, 5.2395698639377954, 5.123864757232368, 5.29962230887264, 5.122329228669405, 5.298097359910607, 5.238587622605264, 5.179904577881098, 5.306348676905036, 5.322238216996193, 5.230527948848903, 5.136892489716411, 5.1644172444567085, 5.089352091550827, 5.342211257703602, 5.180566125772893, 5.089548788741231, 5.182309753224254, 5.190734964050352, 5.201865833848715, 5.041899742893874, 5.082157111503184, 5.258396526053548, 5.154073495306075, 5.103402669280768, 5.066017731130123, 5.006616431884468, 5.208253178969025, 5.149677507504821, 5.164224623069167, 5.154413297362626, 5.045603170767427, 4.905999962575733, 5.153192142359912, 5.147674689628184, 5.276529077477753, 5.036290366351604, 4.998651553876698, 5.037742658816278, 5.11115715533495, 5.007026911973953, 5.177283853441477, 5.133703094497323, 5.02299797732383, 5.078693490363658, 5.117097066119313]\n"
     ]
    },
    {
     "name": "stderr",
     "output_type": "stream",
     "text": [
      "0.156609: 100%|██████████| 3200/3200 [03:01<00:00, 17.61it/s]\n"
     ]
    },
    {
     "name": "stdout",
     "output_type": "stream",
     "text": [
      "Epoch 89 loss 5.009955328442157\n",
      "[8.914696744680406, 7.0745214588195084, 6.766226747892797, 6.3876560734212395, 6.152695898264646, 6.109117773547768, 5.814485622867942, 5.776301048025489, 5.738654530756175, 5.583405836001038, 5.681762804165483, 5.637168691232801, 5.756805288046598, 5.5326660958305, 5.544497608430683, 5.454541003555059, 5.347921294011176, 5.5676145445555445, 5.54693585652858, 5.386093509607017, 5.570726028196514, 5.462398542203009, 5.306258453764022, 5.35484721366316, 5.296373938806355, 5.345018156506121, 5.318254610672593, 5.463322923891246, 5.468511379510164, 5.239585389643907, 5.244688321240246, 5.353287772350013, 5.238765613771975, 5.1603490470722315, 5.26586039505899, 5.170813395418227, 5.356827726587653, 5.36119426842779, 5.254405436441302, 5.20019912365824, 5.245913640633225, 5.206254531778395, 5.422741543017327, 5.195280089266598, 5.2395698639377954, 5.123864757232368, 5.29962230887264, 5.122329228669405, 5.298097359910607, 5.238587622605264, 5.179904577881098, 5.306348676905036, 5.322238216996193, 5.230527948848903, 5.136892489716411, 5.1644172444567085, 5.089352091550827, 5.342211257703602, 5.180566125772893, 5.089548788741231, 5.182309753224254, 5.190734964050352, 5.201865833848715, 5.041899742893874, 5.082157111503184, 5.258396526053548, 5.154073495306075, 5.103402669280768, 5.066017731130123, 5.006616431884468, 5.208253178969025, 5.149677507504821, 5.164224623069167, 5.154413297362626, 5.045603170767427, 4.905999962575733, 5.153192142359912, 5.147674689628184, 5.276529077477753, 5.036290366351604, 4.998651553876698, 5.037742658816278, 5.11115715533495, 5.007026911973953, 5.177283853441477, 5.133703094497323, 5.02299797732383, 5.078693490363658, 5.117097066119313, 5.009955328442157]\n"
     ]
    },
    {
     "name": "stderr",
     "output_type": "stream",
     "text": [
      "0.159230: 100%|██████████| 3200/3200 [02:57<00:00, 18.06it/s]\n"
     ]
    },
    {
     "name": "stdout",
     "output_type": "stream",
     "text": [
      "Epoch 90 loss 5.093826262764633\n",
      "[8.914696744680406, 7.0745214588195084, 6.766226747892797, 6.3876560734212395, 6.152695898264646, 6.109117773547768, 5.814485622867942, 5.776301048025489, 5.738654530756175, 5.583405836001038, 5.681762804165483, 5.637168691232801, 5.756805288046598, 5.5326660958305, 5.544497608430683, 5.454541003555059, 5.347921294011176, 5.5676145445555445, 5.54693585652858, 5.386093509607017, 5.570726028196514, 5.462398542203009, 5.306258453764022, 5.35484721366316, 5.296373938806355, 5.345018156506121, 5.318254610672593, 5.463322923891246, 5.468511379510164, 5.239585389643907, 5.244688321240246, 5.353287772350013, 5.238765613771975, 5.1603490470722315, 5.26586039505899, 5.170813395418227, 5.356827726587653, 5.36119426842779, 5.254405436441302, 5.20019912365824, 5.245913640633225, 5.206254531778395, 5.422741543017327, 5.195280089266598, 5.2395698639377954, 5.123864757232368, 5.29962230887264, 5.122329228669405, 5.298097359910607, 5.238587622605264, 5.179904577881098, 5.306348676905036, 5.322238216996193, 5.230527948848903, 5.136892489716411, 5.1644172444567085, 5.089352091550827, 5.342211257703602, 5.180566125772893, 5.089548788741231, 5.182309753224254, 5.190734964050352, 5.201865833848715, 5.041899742893874, 5.082157111503184, 5.258396526053548, 5.154073495306075, 5.103402669280768, 5.066017731130123, 5.006616431884468, 5.208253178969025, 5.149677507504821, 5.164224623069167, 5.154413297362626, 5.045603170767427, 4.905999962575733, 5.153192142359912, 5.147674689628184, 5.276529077477753, 5.036290366351604, 4.998651553876698, 5.037742658816278, 5.11115715533495, 5.007026911973953, 5.177283853441477, 5.133703094497323, 5.02299797732383, 5.078693490363658, 5.117097066119313, 5.009955328442157, 5.093826262764633]\n"
     ]
    },
    {
     "name": "stderr",
     "output_type": "stream",
     "text": [
      "0.156201: 100%|██████████| 3200/3200 [02:56<00:00, 18.14it/s]\n"
     ]
    },
    {
     "name": "stdout",
     "output_type": "stream",
     "text": [
      "Epoch 91 loss 4.996922520697117\n",
      "[8.914696744680406, 7.0745214588195084, 6.766226747892797, 6.3876560734212395, 6.152695898264646, 6.109117773547768, 5.814485622867942, 5.776301048025489, 5.738654530756175, 5.583405836001038, 5.681762804165483, 5.637168691232801, 5.756805288046598, 5.5326660958305, 5.544497608430683, 5.454541003555059, 5.347921294011176, 5.5676145445555445, 5.54693585652858, 5.386093509607017, 5.570726028196514, 5.462398542203009, 5.306258453764022, 5.35484721366316, 5.296373938806355, 5.345018156506121, 5.318254610672593, 5.463322923891246, 5.468511379510164, 5.239585389643907, 5.244688321240246, 5.353287772350013, 5.238765613771975, 5.1603490470722315, 5.26586039505899, 5.170813395418227, 5.356827726587653, 5.36119426842779, 5.254405436441302, 5.20019912365824, 5.245913640633225, 5.206254531778395, 5.422741543017327, 5.195280089266598, 5.2395698639377954, 5.123864757232368, 5.29962230887264, 5.122329228669405, 5.298097359910607, 5.238587622605264, 5.179904577881098, 5.306348676905036, 5.322238216996193, 5.230527948848903, 5.136892489716411, 5.1644172444567085, 5.089352091550827, 5.342211257703602, 5.180566125772893, 5.089548788741231, 5.182309753224254, 5.190734964050352, 5.201865833848715, 5.041899742893874, 5.082157111503184, 5.258396526053548, 5.154073495306075, 5.103402669280768, 5.066017731130123, 5.006616431884468, 5.208253178969025, 5.149677507504821, 5.164224623069167, 5.154413297362626, 5.045603170767427, 4.905999962575733, 5.153192142359912, 5.147674689628184, 5.276529077477753, 5.036290366351604, 4.998651553876698, 5.037742658816278, 5.11115715533495, 5.007026911973953, 5.177283853441477, 5.133703094497323, 5.02299797732383, 5.078693490363658, 5.117097066119313, 5.009955328442157, 5.093826262764633, 4.996922520697117]\n"
     ]
    },
    {
     "name": "stderr",
     "output_type": "stream",
     "text": [
      "0.158022: 100%|██████████| 3200/3200 [02:56<00:00, 18.12it/s]\n"
     ]
    },
    {
     "name": "stdout",
     "output_type": "stream",
     "text": [
      "Epoch 92 loss 5.055159397684037\n",
      "[8.914696744680406, 7.0745214588195084, 6.766226747892797, 6.3876560734212395, 6.152695898264646, 6.109117773547768, 5.814485622867942, 5.776301048025489, 5.738654530756175, 5.583405836001038, 5.681762804165483, 5.637168691232801, 5.756805288046598, 5.5326660958305, 5.544497608430683, 5.454541003555059, 5.347921294011176, 5.5676145445555445, 5.54693585652858, 5.386093509607017, 5.570726028196514, 5.462398542203009, 5.306258453764022, 5.35484721366316, 5.296373938806355, 5.345018156506121, 5.318254610672593, 5.463322923891246, 5.468511379510164, 5.239585389643907, 5.244688321240246, 5.353287772350013, 5.238765613771975, 5.1603490470722315, 5.26586039505899, 5.170813395418227, 5.356827726587653, 5.36119426842779, 5.254405436441302, 5.20019912365824, 5.245913640633225, 5.206254531778395, 5.422741543017327, 5.195280089266598, 5.2395698639377954, 5.123864757232368, 5.29962230887264, 5.122329228669405, 5.298097359910607, 5.238587622605264, 5.179904577881098, 5.306348676905036, 5.322238216996193, 5.230527948848903, 5.136892489716411, 5.1644172444567085, 5.089352091550827, 5.342211257703602, 5.180566125772893, 5.089548788741231, 5.182309753224254, 5.190734964050352, 5.201865833848715, 5.041899742893874, 5.082157111503184, 5.258396526053548, 5.154073495306075, 5.103402669280768, 5.066017731130123, 5.006616431884468, 5.208253178969025, 5.149677507504821, 5.164224623069167, 5.154413297362626, 5.045603170767427, 4.905999962575733, 5.153192142359912, 5.147674689628184, 5.276529077477753, 5.036290366351604, 4.998651553876698, 5.037742658816278, 5.11115715533495, 5.007026911973953, 5.177283853441477, 5.133703094497323, 5.02299797732383, 5.078693490363658, 5.117097066119313, 5.009955328442157, 5.093826262764633, 4.996922520697117, 5.055159397684037]\n"
     ]
    },
    {
     "name": "stderr",
     "output_type": "stream",
     "text": [
      "0.159733: 100%|██████████| 3200/3200 [02:56<00:00, 18.15it/s]\n"
     ]
    },
    {
     "name": "stdout",
     "output_type": "stream",
     "text": [
      "Epoch 93 loss 5.109914522506297\n",
      "[8.914696744680406, 7.0745214588195084, 6.766226747892797, 6.3876560734212395, 6.152695898264646, 6.109117773547768, 5.814485622867942, 5.776301048025489, 5.738654530756175, 5.583405836001038, 5.681762804165483, 5.637168691232801, 5.756805288046598, 5.5326660958305, 5.544497608430683, 5.454541003555059, 5.347921294011176, 5.5676145445555445, 5.54693585652858, 5.386093509607017, 5.570726028196514, 5.462398542203009, 5.306258453764022, 5.35484721366316, 5.296373938806355, 5.345018156506121, 5.318254610672593, 5.463322923891246, 5.468511379510164, 5.239585389643907, 5.244688321240246, 5.353287772350013, 5.238765613771975, 5.1603490470722315, 5.26586039505899, 5.170813395418227, 5.356827726587653, 5.36119426842779, 5.254405436441302, 5.20019912365824, 5.245913640633225, 5.206254531778395, 5.422741543017327, 5.195280089266598, 5.2395698639377954, 5.123864757232368, 5.29962230887264, 5.122329228669405, 5.298097359910607, 5.238587622605264, 5.179904577881098, 5.306348676905036, 5.322238216996193, 5.230527948848903, 5.136892489716411, 5.1644172444567085, 5.089352091550827, 5.342211257703602, 5.180566125772893, 5.089548788741231, 5.182309753224254, 5.190734964050352, 5.201865833848715, 5.041899742893874, 5.082157111503184, 5.258396526053548, 5.154073495306075, 5.103402669280768, 5.066017731130123, 5.006616431884468, 5.208253178969025, 5.149677507504821, 5.164224623069167, 5.154413297362626, 5.045603170767427, 4.905999962575733, 5.153192142359912, 5.147674689628184, 5.276529077477753, 5.036290366351604, 4.998651553876698, 5.037742658816278, 5.11115715533495, 5.007026911973953, 5.177283853441477, 5.133703094497323, 5.02299797732383, 5.078693490363658, 5.117097066119313, 5.009955328442157, 5.093826262764633, 4.996922520697117, 5.055159397684037, 5.109914522506297]\n"
     ]
    },
    {
     "name": "stderr",
     "output_type": "stream",
     "text": [
      "0.158641: 100%|██████████| 3200/3200 [02:56<00:00, 18.14it/s]\n"
     ]
    },
    {
     "name": "stdout",
     "output_type": "stream",
     "text": [
      "Epoch 94 loss 5.074969611652196\n",
      "[8.914696744680406, 7.0745214588195084, 6.766226747892797, 6.3876560734212395, 6.152695898264646, 6.109117773547768, 5.814485622867942, 5.776301048025489, 5.738654530756175, 5.583405836001038, 5.681762804165483, 5.637168691232801, 5.756805288046598, 5.5326660958305, 5.544497608430683, 5.454541003555059, 5.347921294011176, 5.5676145445555445, 5.54693585652858, 5.386093509607017, 5.570726028196514, 5.462398542203009, 5.306258453764022, 5.35484721366316, 5.296373938806355, 5.345018156506121, 5.318254610672593, 5.463322923891246, 5.468511379510164, 5.239585389643907, 5.244688321240246, 5.353287772350013, 5.238765613771975, 5.1603490470722315, 5.26586039505899, 5.170813395418227, 5.356827726587653, 5.36119426842779, 5.254405436441302, 5.20019912365824, 5.245913640633225, 5.206254531778395, 5.422741543017327, 5.195280089266598, 5.2395698639377954, 5.123864757232368, 5.29962230887264, 5.122329228669405, 5.298097359910607, 5.238587622605264, 5.179904577881098, 5.306348676905036, 5.322238216996193, 5.230527948848903, 5.136892489716411, 5.1644172444567085, 5.089352091550827, 5.342211257703602, 5.180566125772893, 5.089548788741231, 5.182309753224254, 5.190734964050352, 5.201865833848715, 5.041899742893874, 5.082157111503184, 5.258396526053548, 5.154073495306075, 5.103402669280768, 5.066017731130123, 5.006616431884468, 5.208253178969025, 5.149677507504821, 5.164224623069167, 5.154413297362626, 5.045603170767427, 4.905999962575733, 5.153192142359912, 5.147674689628184, 5.276529077477753, 5.036290366351604, 4.998651553876698, 5.037742658816278, 5.11115715533495, 5.007026911973953, 5.177283853441477, 5.133703094497323, 5.02299797732383, 5.078693490363658, 5.117097066119313, 5.009955328442157, 5.093826262764633, 4.996922520697117, 5.055159397684037, 5.109914522506297, 5.074969611652196]\n"
     ]
    },
    {
     "name": "stderr",
     "output_type": "stream",
     "text": [
      "0.161826: 100%|██████████| 3200/3200 [02:57<00:00, 18.07it/s]\n"
     ]
    },
    {
     "name": "stdout",
     "output_type": "stream",
     "text": [
      "Epoch 95 loss 5.176874768771231\n",
      "[8.914696744680406, 7.0745214588195084, 6.766226747892797, 6.3876560734212395, 6.152695898264646, 6.109117773547768, 5.814485622867942, 5.776301048025489, 5.738654530756175, 5.583405836001038, 5.681762804165483, 5.637168691232801, 5.756805288046598, 5.5326660958305, 5.544497608430683, 5.454541003555059, 5.347921294011176, 5.5676145445555445, 5.54693585652858, 5.386093509607017, 5.570726028196514, 5.462398542203009, 5.306258453764022, 5.35484721366316, 5.296373938806355, 5.345018156506121, 5.318254610672593, 5.463322923891246, 5.468511379510164, 5.239585389643907, 5.244688321240246, 5.353287772350013, 5.238765613771975, 5.1603490470722315, 5.26586039505899, 5.170813395418227, 5.356827726587653, 5.36119426842779, 5.254405436441302, 5.20019912365824, 5.245913640633225, 5.206254531778395, 5.422741543017327, 5.195280089266598, 5.2395698639377954, 5.123864757232368, 5.29962230887264, 5.122329228669405, 5.298097359910607, 5.238587622605264, 5.179904577881098, 5.306348676905036, 5.322238216996193, 5.230527948848903, 5.136892489716411, 5.1644172444567085, 5.089352091550827, 5.342211257703602, 5.180566125772893, 5.089548788741231, 5.182309753224254, 5.190734964050352, 5.201865833848715, 5.041899742893874, 5.082157111503184, 5.258396526053548, 5.154073495306075, 5.103402669280768, 5.066017731130123, 5.006616431884468, 5.208253178969025, 5.149677507504821, 5.164224623069167, 5.154413297362626, 5.045603170767427, 4.905999962575733, 5.153192142359912, 5.147674689628184, 5.276529077477753, 5.036290366351604, 4.998651553876698, 5.037742658816278, 5.11115715533495, 5.007026911973953, 5.177283853441477, 5.133703094497323, 5.02299797732383, 5.078693490363658, 5.117097066119313, 5.009955328442157, 5.093826262764633, 4.996922520697117, 5.055159397684037, 5.109914522506297, 5.074969611652196, 5.176874768771231]\n"
     ]
    },
    {
     "name": "stderr",
     "output_type": "stream",
     "text": [
      "0.157409: 100%|██████████| 3200/3200 [03:01<00:00, 17.65it/s]\n"
     ]
    },
    {
     "name": "stdout",
     "output_type": "stream",
     "text": [
      "Epoch 96 loss 5.035564558878541\n",
      "[8.914696744680406, 7.0745214588195084, 6.766226747892797, 6.3876560734212395, 6.152695898264646, 6.109117773547768, 5.814485622867942, 5.776301048025489, 5.738654530756175, 5.583405836001038, 5.681762804165483, 5.637168691232801, 5.756805288046598, 5.5326660958305, 5.544497608430683, 5.454541003555059, 5.347921294011176, 5.5676145445555445, 5.54693585652858, 5.386093509607017, 5.570726028196514, 5.462398542203009, 5.306258453764022, 5.35484721366316, 5.296373938806355, 5.345018156506121, 5.318254610672593, 5.463322923891246, 5.468511379510164, 5.239585389643907, 5.244688321240246, 5.353287772350013, 5.238765613771975, 5.1603490470722315, 5.26586039505899, 5.170813395418227, 5.356827726587653, 5.36119426842779, 5.254405436441302, 5.20019912365824, 5.245913640633225, 5.206254531778395, 5.422741543017327, 5.195280089266598, 5.2395698639377954, 5.123864757232368, 5.29962230887264, 5.122329228669405, 5.298097359910607, 5.238587622605264, 5.179904577881098, 5.306348676905036, 5.322238216996193, 5.230527948848903, 5.136892489716411, 5.1644172444567085, 5.089352091550827, 5.342211257703602, 5.180566125772893, 5.089548788741231, 5.182309753224254, 5.190734964050352, 5.201865833848715, 5.041899742893874, 5.082157111503184, 5.258396526053548, 5.154073495306075, 5.103402669280768, 5.066017731130123, 5.006616431884468, 5.208253178969025, 5.149677507504821, 5.164224623069167, 5.154413297362626, 5.045603170767427, 4.905999962575733, 5.153192142359912, 5.147674689628184, 5.276529077477753, 5.036290366351604, 4.998651553876698, 5.037742658816278, 5.11115715533495, 5.007026911973953, 5.177283853441477, 5.133703094497323, 5.02299797732383, 5.078693490363658, 5.117097066119313, 5.009955328442157, 5.093826262764633, 4.996922520697117, 5.055159397684037, 5.109914522506297, 5.074969611652196, 5.176874768771231, 5.035564558878541]\n"
     ]
    },
    {
     "name": "stderr",
     "output_type": "stream",
     "text": [
      "0.159740: 100%|██████████| 3200/3200 [03:04<00:00, 17.36it/s]\n"
     ]
    },
    {
     "name": "stdout",
     "output_type": "stream",
     "text": [
      "Epoch 97 loss 5.110131778493524\n",
      "[8.914696744680406, 7.0745214588195084, 6.766226747892797, 6.3876560734212395, 6.152695898264646, 6.109117773547768, 5.814485622867942, 5.776301048025489, 5.738654530756175, 5.583405836001038, 5.681762804165483, 5.637168691232801, 5.756805288046598, 5.5326660958305, 5.544497608430683, 5.454541003555059, 5.347921294011176, 5.5676145445555445, 5.54693585652858, 5.386093509607017, 5.570726028196514, 5.462398542203009, 5.306258453764022, 5.35484721366316, 5.296373938806355, 5.345018156506121, 5.318254610672593, 5.463322923891246, 5.468511379510164, 5.239585389643907, 5.244688321240246, 5.353287772350013, 5.238765613771975, 5.1603490470722315, 5.26586039505899, 5.170813395418227, 5.356827726587653, 5.36119426842779, 5.254405436441302, 5.20019912365824, 5.245913640633225, 5.206254531778395, 5.422741543017327, 5.195280089266598, 5.2395698639377954, 5.123864757232368, 5.29962230887264, 5.122329228669405, 5.298097359910607, 5.238587622605264, 5.179904577881098, 5.306348676905036, 5.322238216996193, 5.230527948848903, 5.136892489716411, 5.1644172444567085, 5.089352091550827, 5.342211257703602, 5.180566125772893, 5.089548788741231, 5.182309753224254, 5.190734964050352, 5.201865833848715, 5.041899742893874, 5.082157111503184, 5.258396526053548, 5.154073495306075, 5.103402669280768, 5.066017731130123, 5.006616431884468, 5.208253178969025, 5.149677507504821, 5.164224623069167, 5.154413297362626, 5.045603170767427, 4.905999962575733, 5.153192142359912, 5.147674689628184, 5.276529077477753, 5.036290366351604, 4.998651553876698, 5.037742658816278, 5.11115715533495, 5.007026911973953, 5.177283853441477, 5.133703094497323, 5.02299797732383, 5.078693490363658, 5.117097066119313, 5.009955328442157, 5.093826262764633, 4.996922520697117, 5.055159397684037, 5.109914522506297, 5.074969611652196, 5.176874768771231, 5.035564558878541, 5.110131778493524]\n"
     ]
    },
    {
     "name": "stderr",
     "output_type": "stream",
     "text": [
      "0.155362: 100%|██████████| 3200/3200 [03:06<00:00, 17.18it/s]\n"
     ]
    },
    {
     "name": "stdout",
     "output_type": "stream",
     "text": [
      "Epoch 98 loss 4.970087855011225\n",
      "[8.914696744680406, 7.0745214588195084, 6.766226747892797, 6.3876560734212395, 6.152695898264646, 6.109117773547768, 5.814485622867942, 5.776301048025489, 5.738654530756175, 5.583405836001038, 5.681762804165483, 5.637168691232801, 5.756805288046598, 5.5326660958305, 5.544497608430683, 5.454541003555059, 5.347921294011176, 5.5676145445555445, 5.54693585652858, 5.386093509607017, 5.570726028196514, 5.462398542203009, 5.306258453764022, 5.35484721366316, 5.296373938806355, 5.345018156506121, 5.318254610672593, 5.463322923891246, 5.468511379510164, 5.239585389643907, 5.244688321240246, 5.353287772350013, 5.238765613771975, 5.1603490470722315, 5.26586039505899, 5.170813395418227, 5.356827726587653, 5.36119426842779, 5.254405436441302, 5.20019912365824, 5.245913640633225, 5.206254531778395, 5.422741543017327, 5.195280089266598, 5.2395698639377954, 5.123864757232368, 5.29962230887264, 5.122329228669405, 5.298097359910607, 5.238587622605264, 5.179904577881098, 5.306348676905036, 5.322238216996193, 5.230527948848903, 5.136892489716411, 5.1644172444567085, 5.089352091550827, 5.342211257703602, 5.180566125772893, 5.089548788741231, 5.182309753224254, 5.190734964050352, 5.201865833848715, 5.041899742893874, 5.082157111503184, 5.258396526053548, 5.154073495306075, 5.103402669280768, 5.066017731130123, 5.006616431884468, 5.208253178969025, 5.149677507504821, 5.164224623069167, 5.154413297362626, 5.045603170767427, 4.905999962575733, 5.153192142359912, 5.147674689628184, 5.276529077477753, 5.036290366351604, 4.998651553876698, 5.037742658816278, 5.11115715533495, 5.007026911973953, 5.177283853441477, 5.133703094497323, 5.02299797732383, 5.078693490363658, 5.117097066119313, 5.009955328442157, 5.093826262764633, 4.996922520697117, 5.055159397684037, 5.109914522506297, 5.074969611652196, 5.176874768771231, 5.035564558878541, 5.110131778493524, 4.970087855011225]\n"
     ]
    },
    {
     "name": "stderr",
     "output_type": "stream",
     "text": [
      "0.155324: 100%|██████████| 3200/3200 [03:05<00:00, 17.27it/s]\n"
     ]
    },
    {
     "name": "stdout",
     "output_type": "stream",
     "text": [
      "Epoch 99 loss 4.968862447552383\n",
      "[8.914696744680406, 7.0745214588195084, 6.766226747892797, 6.3876560734212395, 6.152695898264646, 6.109117773547768, 5.814485622867942, 5.776301048025489, 5.738654530756175, 5.583405836001038, 5.681762804165483, 5.637168691232801, 5.756805288046598, 5.5326660958305, 5.544497608430683, 5.454541003555059, 5.347921294011176, 5.5676145445555445, 5.54693585652858, 5.386093509607017, 5.570726028196514, 5.462398542203009, 5.306258453764022, 5.35484721366316, 5.296373938806355, 5.345018156506121, 5.318254610672593, 5.463322923891246, 5.468511379510164, 5.239585389643907, 5.244688321240246, 5.353287772350013, 5.238765613771975, 5.1603490470722315, 5.26586039505899, 5.170813395418227, 5.356827726587653, 5.36119426842779, 5.254405436441302, 5.20019912365824, 5.245913640633225, 5.206254531778395, 5.422741543017327, 5.195280089266598, 5.2395698639377954, 5.123864757232368, 5.29962230887264, 5.122329228669405, 5.298097359910607, 5.238587622605264, 5.179904577881098, 5.306348676905036, 5.322238216996193, 5.230527948848903, 5.136892489716411, 5.1644172444567085, 5.089352091550827, 5.342211257703602, 5.180566125772893, 5.089548788741231, 5.182309753224254, 5.190734964050352, 5.201865833848715, 5.041899742893874, 5.082157111503184, 5.258396526053548, 5.154073495306075, 5.103402669280768, 5.066017731130123, 5.006616431884468, 5.208253178969025, 5.149677507504821, 5.164224623069167, 5.154413297362626, 5.045603170767427, 4.905999962575733, 5.153192142359912, 5.147674689628184, 5.276529077477753, 5.036290366351604, 4.998651553876698, 5.037742658816278, 5.11115715533495, 5.007026911973953, 5.177283853441477, 5.133703094497323, 5.02299797732383, 5.078693490363658, 5.117097066119313, 5.009955328442157, 5.093826262764633, 4.996922520697117, 5.055159397684037, 5.109914522506297, 5.074969611652196, 5.176874768771231, 5.035564558878541, 5.110131778493524, 4.970087855011225, 4.968862447552383]\n"
     ]
    },
    {
     "name": "stderr",
     "output_type": "stream",
     "text": [
      "0.154010: 100%|██████████| 3200/3200 [03:05<00:00, 17.27it/s]\n"
     ]
    },
    {
     "name": "stdout",
     "output_type": "stream",
     "text": [
      "Epoch 100 loss 4.926826725788414\n",
      "[8.914696744680406, 7.0745214588195084, 6.766226747892797, 6.3876560734212395, 6.152695898264646, 6.109117773547768, 5.814485622867942, 5.776301048025489, 5.738654530756175, 5.583405836001038, 5.681762804165483, 5.637168691232801, 5.756805288046598, 5.5326660958305, 5.544497608430683, 5.454541003555059, 5.347921294011176, 5.5676145445555445, 5.54693585652858, 5.386093509607017, 5.570726028196514, 5.462398542203009, 5.306258453764022, 5.35484721366316, 5.296373938806355, 5.345018156506121, 5.318254610672593, 5.463322923891246, 5.468511379510164, 5.239585389643907, 5.244688321240246, 5.353287772350013, 5.238765613771975, 5.1603490470722315, 5.26586039505899, 5.170813395418227, 5.356827726587653, 5.36119426842779, 5.254405436441302, 5.20019912365824, 5.245913640633225, 5.206254531778395, 5.422741543017327, 5.195280089266598, 5.2395698639377954, 5.123864757232368, 5.29962230887264, 5.122329228669405, 5.298097359910607, 5.238587622605264, 5.179904577881098, 5.306348676905036, 5.322238216996193, 5.230527948848903, 5.136892489716411, 5.1644172444567085, 5.089352091550827, 5.342211257703602, 5.180566125772893, 5.089548788741231, 5.182309753224254, 5.190734964050352, 5.201865833848715, 5.041899742893874, 5.082157111503184, 5.258396526053548, 5.154073495306075, 5.103402669280768, 5.066017731130123, 5.006616431884468, 5.208253178969025, 5.149677507504821, 5.164224623069167, 5.154413297362626, 5.045603170767427, 4.905999962575733, 5.153192142359912, 5.147674689628184, 5.276529077477753, 5.036290366351604, 4.998651553876698, 5.037742658816278, 5.11115715533495, 5.007026911973953, 5.177283853441477, 5.133703094497323, 5.02299797732383, 5.078693490363658, 5.117097066119313, 5.009955328442157, 5.093826262764633, 4.996922520697117, 5.055159397684037, 5.109914522506297, 5.074969611652196, 5.176874768771231, 5.035564558878541, 5.110131778493524, 4.970087855011225, 4.968862447552383, 4.926826725788414]\n"
     ]
    },
    {
     "name": "stderr",
     "output_type": "stream",
     "text": [
      "0.155775: 100%|██████████| 3200/3200 [03:04<00:00, 17.31it/s]\n"
     ]
    },
    {
     "name": "stdout",
     "output_type": "stream",
     "text": [
      "Epoch 101 loss 4.983294522799551\n",
      "[8.914696744680406, 7.0745214588195084, 6.766226747892797, 6.3876560734212395, 6.152695898264646, 6.109117773547768, 5.814485622867942, 5.776301048025489, 5.738654530756175, 5.583405836001038, 5.681762804165483, 5.637168691232801, 5.756805288046598, 5.5326660958305, 5.544497608430683, 5.454541003555059, 5.347921294011176, 5.5676145445555445, 5.54693585652858, 5.386093509607017, 5.570726028196514, 5.462398542203009, 5.306258453764022, 5.35484721366316, 5.296373938806355, 5.345018156506121, 5.318254610672593, 5.463322923891246, 5.468511379510164, 5.239585389643907, 5.244688321240246, 5.353287772350013, 5.238765613771975, 5.1603490470722315, 5.26586039505899, 5.170813395418227, 5.356827726587653, 5.36119426842779, 5.254405436441302, 5.20019912365824, 5.245913640633225, 5.206254531778395, 5.422741543017327, 5.195280089266598, 5.2395698639377954, 5.123864757232368, 5.29962230887264, 5.122329228669405, 5.298097359910607, 5.238587622605264, 5.179904577881098, 5.306348676905036, 5.322238216996193, 5.230527948848903, 5.136892489716411, 5.1644172444567085, 5.089352091550827, 5.342211257703602, 5.180566125772893, 5.089548788741231, 5.182309753224254, 5.190734964050352, 5.201865833848715, 5.041899742893874, 5.082157111503184, 5.258396526053548, 5.154073495306075, 5.103402669280768, 5.066017731130123, 5.006616431884468, 5.208253178969025, 5.149677507504821, 5.164224623069167, 5.154413297362626, 5.045603170767427, 4.905999962575733, 5.153192142359912, 5.147674689628184, 5.276529077477753, 5.036290366351604, 4.998651553876698, 5.037742658816278, 5.11115715533495, 5.007026911973953, 5.177283853441477, 5.133703094497323, 5.02299797732383, 5.078693490363658, 5.117097066119313, 5.009955328442157, 5.093826262764633, 4.996922520697117, 5.055159397684037, 5.109914522506297, 5.074969611652196, 5.176874768771231, 5.035564558878541, 5.110131778493524, 4.970087855011225, 4.968862447552383, 4.926826725788414, 4.983294522799551]\n"
     ]
    },
    {
     "name": "stderr",
     "output_type": "stream",
     "text": [
      "0.156680: 100%|██████████| 3200/3200 [02:58<00:00, 17.95it/s]\n"
     ]
    },
    {
     "name": "stdout",
     "output_type": "stream",
     "text": [
      "Epoch 102 loss 5.01223700068891\n",
      "[8.914696744680406, 7.0745214588195084, 6.766226747892797, 6.3876560734212395, 6.152695898264646, 6.109117773547768, 5.814485622867942, 5.776301048025489, 5.738654530756175, 5.583405836001038, 5.681762804165483, 5.637168691232801, 5.756805288046598, 5.5326660958305, 5.544497608430683, 5.454541003555059, 5.347921294011176, 5.5676145445555445, 5.54693585652858, 5.386093509607017, 5.570726028196514, 5.462398542203009, 5.306258453764022, 5.35484721366316, 5.296373938806355, 5.345018156506121, 5.318254610672593, 5.463322923891246, 5.468511379510164, 5.239585389643907, 5.244688321240246, 5.353287772350013, 5.238765613771975, 5.1603490470722315, 5.26586039505899, 5.170813395418227, 5.356827726587653, 5.36119426842779, 5.254405436441302, 5.20019912365824, 5.245913640633225, 5.206254531778395, 5.422741543017327, 5.195280089266598, 5.2395698639377954, 5.123864757232368, 5.29962230887264, 5.122329228669405, 5.298097359910607, 5.238587622605264, 5.179904577881098, 5.306348676905036, 5.322238216996193, 5.230527948848903, 5.136892489716411, 5.1644172444567085, 5.089352091550827, 5.342211257703602, 5.180566125772893, 5.089548788741231, 5.182309753224254, 5.190734964050352, 5.201865833848715, 5.041899742893874, 5.082157111503184, 5.258396526053548, 5.154073495306075, 5.103402669280768, 5.066017731130123, 5.006616431884468, 5.208253178969025, 5.149677507504821, 5.164224623069167, 5.154413297362626, 5.045603170767427, 4.905999962575733, 5.153192142359912, 5.147674689628184, 5.276529077477753, 5.036290366351604, 4.998651553876698, 5.037742658816278, 5.11115715533495, 5.007026911973953, 5.177283853441477, 5.133703094497323, 5.02299797732383, 5.078693490363658, 5.117097066119313, 5.009955328442157, 5.093826262764633, 4.996922520697117, 5.055159397684037, 5.109914522506297, 5.074969611652196, 5.176874768771231, 5.035564558878541, 5.110131778493524, 4.970087855011225, 4.968862447552383, 4.926826725788414, 4.983294522799551, 5.01223700068891]\n"
     ]
    },
    {
     "name": "stderr",
     "output_type": "stream",
     "text": [
      "0.159742: 100%|██████████| 3200/3200 [03:03<00:00, 17.40it/s]\n"
     ]
    },
    {
     "name": "stdout",
     "output_type": "stream",
     "text": [
      "Epoch 103 loss 5.110203600227833\n",
      "[8.914696744680406, 7.0745214588195084, 6.766226747892797, 6.3876560734212395, 6.152695898264646, 6.109117773547768, 5.814485622867942, 5.776301048025489, 5.738654530756175, 5.583405836001038, 5.681762804165483, 5.637168691232801, 5.756805288046598, 5.5326660958305, 5.544497608430683, 5.454541003555059, 5.347921294011176, 5.5676145445555445, 5.54693585652858, 5.386093509607017, 5.570726028196514, 5.462398542203009, 5.306258453764022, 5.35484721366316, 5.296373938806355, 5.345018156506121, 5.318254610672593, 5.463322923891246, 5.468511379510164, 5.239585389643907, 5.244688321240246, 5.353287772350013, 5.238765613771975, 5.1603490470722315, 5.26586039505899, 5.170813395418227, 5.356827726587653, 5.36119426842779, 5.254405436441302, 5.20019912365824, 5.245913640633225, 5.206254531778395, 5.422741543017327, 5.195280089266598, 5.2395698639377954, 5.123864757232368, 5.29962230887264, 5.122329228669405, 5.298097359910607, 5.238587622605264, 5.179904577881098, 5.306348676905036, 5.322238216996193, 5.230527948848903, 5.136892489716411, 5.1644172444567085, 5.089352091550827, 5.342211257703602, 5.180566125772893, 5.089548788741231, 5.182309753224254, 5.190734964050352, 5.201865833848715, 5.041899742893874, 5.082157111503184, 5.258396526053548, 5.154073495306075, 5.103402669280768, 5.066017731130123, 5.006616431884468, 5.208253178969025, 5.149677507504821, 5.164224623069167, 5.154413297362626, 5.045603170767427, 4.905999962575733, 5.153192142359912, 5.147674689628184, 5.276529077477753, 5.036290366351604, 4.998651553876698, 5.037742658816278, 5.11115715533495, 5.007026911973953, 5.177283853441477, 5.133703094497323, 5.02299797732383, 5.078693490363658, 5.117097066119313, 5.009955328442157, 5.093826262764633, 4.996922520697117, 5.055159397684037, 5.109914522506297, 5.074969611652196, 5.176874768771231, 5.035564558878541, 5.110131778493524, 4.970087855011225, 4.968862447552383, 4.926826725788414, 4.983294522799551, 5.01223700068891, 5.110203600227833]\n"
     ]
    },
    {
     "name": "stderr",
     "output_type": "stream",
     "text": [
      "0.159809: 100%|██████████| 3200/3200 [03:04<00:00, 17.32it/s]\n"
     ]
    },
    {
     "name": "stdout",
     "output_type": "stream",
     "text": [
      "Epoch 104 loss 5.112353761158883\n",
      "[8.914696744680406, 7.0745214588195084, 6.766226747892797, 6.3876560734212395, 6.152695898264646, 6.109117773547768, 5.814485622867942, 5.776301048025489, 5.738654530756175, 5.583405836001038, 5.681762804165483, 5.637168691232801, 5.756805288046598, 5.5326660958305, 5.544497608430683, 5.454541003555059, 5.347921294011176, 5.5676145445555445, 5.54693585652858, 5.386093509607017, 5.570726028196514, 5.462398542203009, 5.306258453764022, 5.35484721366316, 5.296373938806355, 5.345018156506121, 5.318254610672593, 5.463322923891246, 5.468511379510164, 5.239585389643907, 5.244688321240246, 5.353287772350013, 5.238765613771975, 5.1603490470722315, 5.26586039505899, 5.170813395418227, 5.356827726587653, 5.36119426842779, 5.254405436441302, 5.20019912365824, 5.245913640633225, 5.206254531778395, 5.422741543017327, 5.195280089266598, 5.2395698639377954, 5.123864757232368, 5.29962230887264, 5.122329228669405, 5.298097359910607, 5.238587622605264, 5.179904577881098, 5.306348676905036, 5.322238216996193, 5.230527948848903, 5.136892489716411, 5.1644172444567085, 5.089352091550827, 5.342211257703602, 5.180566125772893, 5.089548788741231, 5.182309753224254, 5.190734964050352, 5.201865833848715, 5.041899742893874, 5.082157111503184, 5.258396526053548, 5.154073495306075, 5.103402669280768, 5.066017731130123, 5.006616431884468, 5.208253178969025, 5.149677507504821, 5.164224623069167, 5.154413297362626, 5.045603170767427, 4.905999962575733, 5.153192142359912, 5.147674689628184, 5.276529077477753, 5.036290366351604, 4.998651553876698, 5.037742658816278, 5.11115715533495, 5.007026911973953, 5.177283853441477, 5.133703094497323, 5.02299797732383, 5.078693490363658, 5.117097066119313, 5.009955328442157, 5.093826262764633, 4.996922520697117, 5.055159397684037, 5.109914522506297, 5.074969611652196, 5.176874768771231, 5.035564558878541, 5.110131778493524, 4.970087855011225, 4.968862447552383, 4.926826725788414, 4.983294522799551, 5.01223700068891, 5.110203600227833, 5.112353761158883]\n"
     ]
    },
    {
     "name": "stderr",
     "output_type": "stream",
     "text": [
      "0.156342: 100%|██████████| 3200/3200 [03:05<00:00, 17.21it/s]\n"
     ]
    },
    {
     "name": "stdout",
     "output_type": "stream",
     "text": [
      "Epoch 105 loss 5.0014319832623\n",
      "[8.914696744680406, 7.0745214588195084, 6.766226747892797, 6.3876560734212395, 6.152695898264646, 6.109117773547768, 5.814485622867942, 5.776301048025489, 5.738654530756175, 5.583405836001038, 5.681762804165483, 5.637168691232801, 5.756805288046598, 5.5326660958305, 5.544497608430683, 5.454541003555059, 5.347921294011176, 5.5676145445555445, 5.54693585652858, 5.386093509607017, 5.570726028196514, 5.462398542203009, 5.306258453764022, 5.35484721366316, 5.296373938806355, 5.345018156506121, 5.318254610672593, 5.463322923891246, 5.468511379510164, 5.239585389643907, 5.244688321240246, 5.353287772350013, 5.238765613771975, 5.1603490470722315, 5.26586039505899, 5.170813395418227, 5.356827726587653, 5.36119426842779, 5.254405436441302, 5.20019912365824, 5.245913640633225, 5.206254531778395, 5.422741543017327, 5.195280089266598, 5.2395698639377954, 5.123864757232368, 5.29962230887264, 5.122329228669405, 5.298097359910607, 5.238587622605264, 5.179904577881098, 5.306348676905036, 5.322238216996193, 5.230527948848903, 5.136892489716411, 5.1644172444567085, 5.089352091550827, 5.342211257703602, 5.180566125772893, 5.089548788741231, 5.182309753224254, 5.190734964050352, 5.201865833848715, 5.041899742893874, 5.082157111503184, 5.258396526053548, 5.154073495306075, 5.103402669280768, 5.066017731130123, 5.006616431884468, 5.208253178969025, 5.149677507504821, 5.164224623069167, 5.154413297362626, 5.045603170767427, 4.905999962575733, 5.153192142359912, 5.147674689628184, 5.276529077477753, 5.036290366351604, 4.998651553876698, 5.037742658816278, 5.11115715533495, 5.007026911973953, 5.177283853441477, 5.133703094497323, 5.02299797732383, 5.078693490363658, 5.117097066119313, 5.009955328442157, 5.093826262764633, 4.996922520697117, 5.055159397684037, 5.109914522506297, 5.074969611652196, 5.176874768771231, 5.035564558878541, 5.110131778493524, 4.970087855011225, 4.968862447552383, 4.926826725788414, 4.983294522799551, 5.01223700068891, 5.110203600227833, 5.112353761158883, 5.0014319832623]\n"
     ]
    },
    {
     "name": "stderr",
     "output_type": "stream",
     "text": [
      "0.157589: 100%|██████████| 3200/3200 [03:06<00:00, 17.16it/s]\n"
     ]
    },
    {
     "name": "stdout",
     "output_type": "stream",
     "text": [
      "Epoch 106 loss 5.041312085837125\n",
      "[8.914696744680406, 7.0745214588195084, 6.766226747892797, 6.3876560734212395, 6.152695898264646, 6.109117773547768, 5.814485622867942, 5.776301048025489, 5.738654530756175, 5.583405836001038, 5.681762804165483, 5.637168691232801, 5.756805288046598, 5.5326660958305, 5.544497608430683, 5.454541003555059, 5.347921294011176, 5.5676145445555445, 5.54693585652858, 5.386093509607017, 5.570726028196514, 5.462398542203009, 5.306258453764022, 5.35484721366316, 5.296373938806355, 5.345018156506121, 5.318254610672593, 5.463322923891246, 5.468511379510164, 5.239585389643907, 5.244688321240246, 5.353287772350013, 5.238765613771975, 5.1603490470722315, 5.26586039505899, 5.170813395418227, 5.356827726587653, 5.36119426842779, 5.254405436441302, 5.20019912365824, 5.245913640633225, 5.206254531778395, 5.422741543017327, 5.195280089266598, 5.2395698639377954, 5.123864757232368, 5.29962230887264, 5.122329228669405, 5.298097359910607, 5.238587622605264, 5.179904577881098, 5.306348676905036, 5.322238216996193, 5.230527948848903, 5.136892489716411, 5.1644172444567085, 5.089352091550827, 5.342211257703602, 5.180566125772893, 5.089548788741231, 5.182309753224254, 5.190734964050352, 5.201865833848715, 5.041899742893874, 5.082157111503184, 5.258396526053548, 5.154073495306075, 5.103402669280768, 5.066017731130123, 5.006616431884468, 5.208253178969025, 5.149677507504821, 5.164224623069167, 5.154413297362626, 5.045603170767427, 4.905999962575733, 5.153192142359912, 5.147674689628184, 5.276529077477753, 5.036290366351604, 4.998651553876698, 5.037742658816278, 5.11115715533495, 5.007026911973953, 5.177283853441477, 5.133703094497323, 5.02299797732383, 5.078693490363658, 5.117097066119313, 5.009955328442157, 5.093826262764633, 4.996922520697117, 5.055159397684037, 5.109914522506297, 5.074969611652196, 5.176874768771231, 5.035564558878541, 5.110131778493524, 4.970087855011225, 4.968862447552383, 4.926826725788414, 4.983294522799551, 5.01223700068891, 5.110203600227833, 5.112353761158883, 5.0014319832623, 5.041312085837125]\n"
     ]
    },
    {
     "name": "stderr",
     "output_type": "stream",
     "text": [
      "0.156166: 100%|██████████| 3200/3200 [03:08<00:00, 16.93it/s]\n"
     ]
    },
    {
     "name": "stdout",
     "output_type": "stream",
     "text": [
      "Epoch 107 loss 4.995790342018008\n",
      "[8.914696744680406, 7.0745214588195084, 6.766226747892797, 6.3876560734212395, 6.152695898264646, 6.109117773547768, 5.814485622867942, 5.776301048025489, 5.738654530756175, 5.583405836001038, 5.681762804165483, 5.637168691232801, 5.756805288046598, 5.5326660958305, 5.544497608430683, 5.454541003555059, 5.347921294011176, 5.5676145445555445, 5.54693585652858, 5.386093509607017, 5.570726028196514, 5.462398542203009, 5.306258453764022, 5.35484721366316, 5.296373938806355, 5.345018156506121, 5.318254610672593, 5.463322923891246, 5.468511379510164, 5.239585389643907, 5.244688321240246, 5.353287772350013, 5.238765613771975, 5.1603490470722315, 5.26586039505899, 5.170813395418227, 5.356827726587653, 5.36119426842779, 5.254405436441302, 5.20019912365824, 5.245913640633225, 5.206254531778395, 5.422741543017327, 5.195280089266598, 5.2395698639377954, 5.123864757232368, 5.29962230887264, 5.122329228669405, 5.298097359910607, 5.238587622605264, 5.179904577881098, 5.306348676905036, 5.322238216996193, 5.230527948848903, 5.136892489716411, 5.1644172444567085, 5.089352091550827, 5.342211257703602, 5.180566125772893, 5.089548788741231, 5.182309753224254, 5.190734964050352, 5.201865833848715, 5.041899742893874, 5.082157111503184, 5.258396526053548, 5.154073495306075, 5.103402669280768, 5.066017731130123, 5.006616431884468, 5.208253178969025, 5.149677507504821, 5.164224623069167, 5.154413297362626, 5.045603170767427, 4.905999962575733, 5.153192142359912, 5.147674689628184, 5.276529077477753, 5.036290366351604, 4.998651553876698, 5.037742658816278, 5.11115715533495, 5.007026911973953, 5.177283853441477, 5.133703094497323, 5.02299797732383, 5.078693490363658, 5.117097066119313, 5.009955328442157, 5.093826262764633, 4.996922520697117, 5.055159397684037, 5.109914522506297, 5.074969611652196, 5.176874768771231, 5.035564558878541, 5.110131778493524, 4.970087855011225, 4.968862447552383, 4.926826725788414, 4.983294522799551, 5.01223700068891, 5.110203600227833, 5.112353761158883, 5.0014319832623, 5.041312085837125, 4.995790342018008]\n"
     ]
    },
    {
     "name": "stderr",
     "output_type": "stream",
     "text": [
      "0.159366: 100%|██████████| 3200/3200 [03:07<00:00, 17.08it/s]\n"
     ]
    },
    {
     "name": "stdout",
     "output_type": "stream",
     "text": [
      "Epoch 108 loss 5.098166268542409\n",
      "[8.914696744680406, 7.0745214588195084, 6.766226747892797, 6.3876560734212395, 6.152695898264646, 6.109117773547768, 5.814485622867942, 5.776301048025489, 5.738654530756175, 5.583405836001038, 5.681762804165483, 5.637168691232801, 5.756805288046598, 5.5326660958305, 5.544497608430683, 5.454541003555059, 5.347921294011176, 5.5676145445555445, 5.54693585652858, 5.386093509607017, 5.570726028196514, 5.462398542203009, 5.306258453764022, 5.35484721366316, 5.296373938806355, 5.345018156506121, 5.318254610672593, 5.463322923891246, 5.468511379510164, 5.239585389643907, 5.244688321240246, 5.353287772350013, 5.238765613771975, 5.1603490470722315, 5.26586039505899, 5.170813395418227, 5.356827726587653, 5.36119426842779, 5.254405436441302, 5.20019912365824, 5.245913640633225, 5.206254531778395, 5.422741543017327, 5.195280089266598, 5.2395698639377954, 5.123864757232368, 5.29962230887264, 5.122329228669405, 5.298097359910607, 5.238587622605264, 5.179904577881098, 5.306348676905036, 5.322238216996193, 5.230527948848903, 5.136892489716411, 5.1644172444567085, 5.089352091550827, 5.342211257703602, 5.180566125772893, 5.089548788741231, 5.182309753224254, 5.190734964050352, 5.201865833848715, 5.041899742893874, 5.082157111503184, 5.258396526053548, 5.154073495306075, 5.103402669280768, 5.066017731130123, 5.006616431884468, 5.208253178969025, 5.149677507504821, 5.164224623069167, 5.154413297362626, 5.045603170767427, 4.905999962575733, 5.153192142359912, 5.147674689628184, 5.276529077477753, 5.036290366351604, 4.998651553876698, 5.037742658816278, 5.11115715533495, 5.007026911973953, 5.177283853441477, 5.133703094497323, 5.02299797732383, 5.078693490363658, 5.117097066119313, 5.009955328442157, 5.093826262764633, 4.996922520697117, 5.055159397684037, 5.109914522506297, 5.074969611652196, 5.176874768771231, 5.035564558878541, 5.110131778493524, 4.970087855011225, 4.968862447552383, 4.926826725788414, 4.983294522799551, 5.01223700068891, 5.110203600227833, 5.112353761158883, 5.0014319832623, 5.041312085837125, 4.995790342018008, 5.098166268542409]\n"
     ]
    },
    {
     "name": "stderr",
     "output_type": "stream",
     "text": [
      "0.157956: 100%|██████████| 3200/3200 [03:00<00:00, 17.74it/s]\n"
     ]
    },
    {
     "name": "stdout",
     "output_type": "stream",
     "text": [
      "Epoch 109 loss 5.053055752106011\n",
      "[8.914696744680406, 7.0745214588195084, 6.766226747892797, 6.3876560734212395, 6.152695898264646, 6.109117773547768, 5.814485622867942, 5.776301048025489, 5.738654530756175, 5.583405836001038, 5.681762804165483, 5.637168691232801, 5.756805288046598, 5.5326660958305, 5.544497608430683, 5.454541003555059, 5.347921294011176, 5.5676145445555445, 5.54693585652858, 5.386093509607017, 5.570726028196514, 5.462398542203009, 5.306258453764022, 5.35484721366316, 5.296373938806355, 5.345018156506121, 5.318254610672593, 5.463322923891246, 5.468511379510164, 5.239585389643907, 5.244688321240246, 5.353287772350013, 5.238765613771975, 5.1603490470722315, 5.26586039505899, 5.170813395418227, 5.356827726587653, 5.36119426842779, 5.254405436441302, 5.20019912365824, 5.245913640633225, 5.206254531778395, 5.422741543017327, 5.195280089266598, 5.2395698639377954, 5.123864757232368, 5.29962230887264, 5.122329228669405, 5.298097359910607, 5.238587622605264, 5.179904577881098, 5.306348676905036, 5.322238216996193, 5.230527948848903, 5.136892489716411, 5.1644172444567085, 5.089352091550827, 5.342211257703602, 5.180566125772893, 5.089548788741231, 5.182309753224254, 5.190734964050352, 5.201865833848715, 5.041899742893874, 5.082157111503184, 5.258396526053548, 5.154073495306075, 5.103402669280768, 5.066017731130123, 5.006616431884468, 5.208253178969025, 5.149677507504821, 5.164224623069167, 5.154413297362626, 5.045603170767427, 4.905999962575733, 5.153192142359912, 5.147674689628184, 5.276529077477753, 5.036290366351604, 4.998651553876698, 5.037742658816278, 5.11115715533495, 5.007026911973953, 5.177283853441477, 5.133703094497323, 5.02299797732383, 5.078693490363658, 5.117097066119313, 5.009955328442157, 5.093826262764633, 4.996922520697117, 5.055159397684037, 5.109914522506297, 5.074969611652196, 5.176874768771231, 5.035564558878541, 5.110131778493524, 4.970087855011225, 4.968862447552383, 4.926826725788414, 4.983294522799551, 5.01223700068891, 5.110203600227833, 5.112353761158883, 5.0014319832623, 5.041312085837125, 4.995790342018008, 5.098166268542409, 5.053055752106011]\n"
     ]
    },
    {
     "name": "stderr",
     "output_type": "stream",
     "text": [
      "0.160249: 100%|██████████| 3200/3200 [02:58<00:00, 17.95it/s]\n"
     ]
    },
    {
     "name": "stdout",
     "output_type": "stream",
     "text": [
      "Epoch 110 loss 5.126401903890073\n",
      "[8.914696744680406, 7.0745214588195084, 6.766226747892797, 6.3876560734212395, 6.152695898264646, 6.109117773547768, 5.814485622867942, 5.776301048025489, 5.738654530756175, 5.583405836001038, 5.681762804165483, 5.637168691232801, 5.756805288046598, 5.5326660958305, 5.544497608430683, 5.454541003555059, 5.347921294011176, 5.5676145445555445, 5.54693585652858, 5.386093509607017, 5.570726028196514, 5.462398542203009, 5.306258453764022, 5.35484721366316, 5.296373938806355, 5.345018156506121, 5.318254610672593, 5.463322923891246, 5.468511379510164, 5.239585389643907, 5.244688321240246, 5.353287772350013, 5.238765613771975, 5.1603490470722315, 5.26586039505899, 5.170813395418227, 5.356827726587653, 5.36119426842779, 5.254405436441302, 5.20019912365824, 5.245913640633225, 5.206254531778395, 5.422741543017327, 5.195280089266598, 5.2395698639377954, 5.123864757232368, 5.29962230887264, 5.122329228669405, 5.298097359910607, 5.238587622605264, 5.179904577881098, 5.306348676905036, 5.322238216996193, 5.230527948848903, 5.136892489716411, 5.1644172444567085, 5.089352091550827, 5.342211257703602, 5.180566125772893, 5.089548788741231, 5.182309753224254, 5.190734964050352, 5.201865833848715, 5.041899742893874, 5.082157111503184, 5.258396526053548, 5.154073495306075, 5.103402669280768, 5.066017731130123, 5.006616431884468, 5.208253178969025, 5.149677507504821, 5.164224623069167, 5.154413297362626, 5.045603170767427, 4.905999962575733, 5.153192142359912, 5.147674689628184, 5.276529077477753, 5.036290366351604, 4.998651553876698, 5.037742658816278, 5.11115715533495, 5.007026911973953, 5.177283853441477, 5.133703094497323, 5.02299797732383, 5.078693490363658, 5.117097066119313, 5.009955328442157, 5.093826262764633, 4.996922520697117, 5.055159397684037, 5.109914522506297, 5.074969611652196, 5.176874768771231, 5.035564558878541, 5.110131778493524, 4.970087855011225, 4.968862447552383, 4.926826725788414, 4.983294522799551, 5.01223700068891, 5.110203600227833, 5.112353761158883, 5.0014319832623, 5.041312085837125, 4.995790342018008, 5.098166268542409, 5.053055752106011, 5.126401903890073]\n"
     ]
    },
    {
     "name": "stderr",
     "output_type": "stream",
     "text": [
      "0.156230: 100%|██████████| 3200/3200 [02:57<00:00, 18.03it/s]\n"
     ]
    },
    {
     "name": "stdout",
     "output_type": "stream",
     "text": [
      "Epoch 111 loss 4.997856613472104\n",
      "[8.914696744680406, 7.0745214588195084, 6.766226747892797, 6.3876560734212395, 6.152695898264646, 6.109117773547768, 5.814485622867942, 5.776301048025489, 5.738654530756175, 5.583405836001038, 5.681762804165483, 5.637168691232801, 5.756805288046598, 5.5326660958305, 5.544497608430683, 5.454541003555059, 5.347921294011176, 5.5676145445555445, 5.54693585652858, 5.386093509607017, 5.570726028196514, 5.462398542203009, 5.306258453764022, 5.35484721366316, 5.296373938806355, 5.345018156506121, 5.318254610672593, 5.463322923891246, 5.468511379510164, 5.239585389643907, 5.244688321240246, 5.353287772350013, 5.238765613771975, 5.1603490470722315, 5.26586039505899, 5.170813395418227, 5.356827726587653, 5.36119426842779, 5.254405436441302, 5.20019912365824, 5.245913640633225, 5.206254531778395, 5.422741543017327, 5.195280089266598, 5.2395698639377954, 5.123864757232368, 5.29962230887264, 5.122329228669405, 5.298097359910607, 5.238587622605264, 5.179904577881098, 5.306348676905036, 5.322238216996193, 5.230527948848903, 5.136892489716411, 5.1644172444567085, 5.089352091550827, 5.342211257703602, 5.180566125772893, 5.089548788741231, 5.182309753224254, 5.190734964050352, 5.201865833848715, 5.041899742893874, 5.082157111503184, 5.258396526053548, 5.154073495306075, 5.103402669280768, 5.066017731130123, 5.006616431884468, 5.208253178969025, 5.149677507504821, 5.164224623069167, 5.154413297362626, 5.045603170767427, 4.905999962575733, 5.153192142359912, 5.147674689628184, 5.276529077477753, 5.036290366351604, 4.998651553876698, 5.037742658816278, 5.11115715533495, 5.007026911973953, 5.177283853441477, 5.133703094497323, 5.02299797732383, 5.078693490363658, 5.117097066119313, 5.009955328442157, 5.093826262764633, 4.996922520697117, 5.055159397684037, 5.109914522506297, 5.074969611652196, 5.176874768771231, 5.035564558878541, 5.110131778493524, 4.970087855011225, 4.968862447552383, 4.926826725788414, 4.983294522799551, 5.01223700068891, 5.110203600227833, 5.112353761158883, 5.0014319832623, 5.041312085837125, 4.995790342018008, 5.098166268542409, 5.053055752106011, 5.126401903890073, 4.997856613472104]\n"
     ]
    },
    {
     "name": "stderr",
     "output_type": "stream",
     "text": [
      "0.155765: 100%|██████████| 3200/3200 [02:58<00:00, 17.88it/s]\n"
     ]
    },
    {
     "name": "stdout",
     "output_type": "stream",
     "text": [
      "Epoch 112 loss 4.982964344620704\n",
      "[8.914696744680406, 7.0745214588195084, 6.766226747892797, 6.3876560734212395, 6.152695898264646, 6.109117773547768, 5.814485622867942, 5.776301048025489, 5.738654530756175, 5.583405836001038, 5.681762804165483, 5.637168691232801, 5.756805288046598, 5.5326660958305, 5.544497608430683, 5.454541003555059, 5.347921294011176, 5.5676145445555445, 5.54693585652858, 5.386093509607017, 5.570726028196514, 5.462398542203009, 5.306258453764022, 5.35484721366316, 5.296373938806355, 5.345018156506121, 5.318254610672593, 5.463322923891246, 5.468511379510164, 5.239585389643907, 5.244688321240246, 5.353287772350013, 5.238765613771975, 5.1603490470722315, 5.26586039505899, 5.170813395418227, 5.356827726587653, 5.36119426842779, 5.254405436441302, 5.20019912365824, 5.245913640633225, 5.206254531778395, 5.422741543017327, 5.195280089266598, 5.2395698639377954, 5.123864757232368, 5.29962230887264, 5.122329228669405, 5.298097359910607, 5.238587622605264, 5.179904577881098, 5.306348676905036, 5.322238216996193, 5.230527948848903, 5.136892489716411, 5.1644172444567085, 5.089352091550827, 5.342211257703602, 5.180566125772893, 5.089548788741231, 5.182309753224254, 5.190734964050352, 5.201865833848715, 5.041899742893874, 5.082157111503184, 5.258396526053548, 5.154073495306075, 5.103402669280768, 5.066017731130123, 5.006616431884468, 5.208253178969025, 5.149677507504821, 5.164224623069167, 5.154413297362626, 5.045603170767427, 4.905999962575733, 5.153192142359912, 5.147674689628184, 5.276529077477753, 5.036290366351604, 4.998651553876698, 5.037742658816278, 5.11115715533495, 5.007026911973953, 5.177283853441477, 5.133703094497323, 5.02299797732383, 5.078693490363658, 5.117097066119313, 5.009955328442157, 5.093826262764633, 4.996922520697117, 5.055159397684037, 5.109914522506297, 5.074969611652196, 5.176874768771231, 5.035564558878541, 5.110131778493524, 4.970087855011225, 4.968862447552383, 4.926826725788414, 4.983294522799551, 5.01223700068891, 5.110203600227833, 5.112353761158883, 5.0014319832623, 5.041312085837125, 4.995790342018008, 5.098166268542409, 5.053055752106011, 5.126401903890073, 4.997856613472104, 4.982964344620704]\n"
     ]
    },
    {
     "name": "stderr",
     "output_type": "stream",
     "text": [
      "0.161787: 100%|██████████| 3200/3200 [02:58<00:00, 17.94it/s]\n"
     ]
    },
    {
     "name": "stdout",
     "output_type": "stream",
     "text": [
      "Epoch 113 loss 5.175600731819868\n",
      "[8.914696744680406, 7.0745214588195084, 6.766226747892797, 6.3876560734212395, 6.152695898264646, 6.109117773547768, 5.814485622867942, 5.776301048025489, 5.738654530756175, 5.583405836001038, 5.681762804165483, 5.637168691232801, 5.756805288046598, 5.5326660958305, 5.544497608430683, 5.454541003555059, 5.347921294011176, 5.5676145445555445, 5.54693585652858, 5.386093509607017, 5.570726028196514, 5.462398542203009, 5.306258453764022, 5.35484721366316, 5.296373938806355, 5.345018156506121, 5.318254610672593, 5.463322923891246, 5.468511379510164, 5.239585389643907, 5.244688321240246, 5.353287772350013, 5.238765613771975, 5.1603490470722315, 5.26586039505899, 5.170813395418227, 5.356827726587653, 5.36119426842779, 5.254405436441302, 5.20019912365824, 5.245913640633225, 5.206254531778395, 5.422741543017327, 5.195280089266598, 5.2395698639377954, 5.123864757232368, 5.29962230887264, 5.122329228669405, 5.298097359910607, 5.238587622605264, 5.179904577881098, 5.306348676905036, 5.322238216996193, 5.230527948848903, 5.136892489716411, 5.1644172444567085, 5.089352091550827, 5.342211257703602, 5.180566125772893, 5.089548788741231, 5.182309753224254, 5.190734964050352, 5.201865833848715, 5.041899742893874, 5.082157111503184, 5.258396526053548, 5.154073495306075, 5.103402669280768, 5.066017731130123, 5.006616431884468, 5.208253178969025, 5.149677507504821, 5.164224623069167, 5.154413297362626, 5.045603170767427, 4.905999962575733, 5.153192142359912, 5.147674689628184, 5.276529077477753, 5.036290366351604, 4.998651553876698, 5.037742658816278, 5.11115715533495, 5.007026911973953, 5.177283853441477, 5.133703094497323, 5.02299797732383, 5.078693490363658, 5.117097066119313, 5.009955328442157, 5.093826262764633, 4.996922520697117, 5.055159397684037, 5.109914522506297, 5.074969611652196, 5.176874768771231, 5.035564558878541, 5.110131778493524, 4.970087855011225, 4.968862447552383, 4.926826725788414, 4.983294522799551, 5.01223700068891, 5.110203600227833, 5.112353761158883, 5.0014319832623, 5.041312085837125, 4.995790342018008, 5.098166268542409, 5.053055752106011, 5.126401903890073, 4.997856613472104, 4.982964344620704, 5.175600731819868]\n"
     ]
    },
    {
     "name": "stderr",
     "output_type": "stream",
     "text": [
      "0.156286: 100%|██████████| 3200/3200 [02:58<00:00, 17.94it/s]\n"
     ]
    },
    {
     "name": "stdout",
     "output_type": "stream",
     "text": [
      "Epoch 114 loss 4.999645783789456\n",
      "[8.914696744680406, 7.0745214588195084, 6.766226747892797, 6.3876560734212395, 6.152695898264646, 6.109117773547768, 5.814485622867942, 5.776301048025489, 5.738654530756175, 5.583405836001038, 5.681762804165483, 5.637168691232801, 5.756805288046598, 5.5326660958305, 5.544497608430683, 5.454541003555059, 5.347921294011176, 5.5676145445555445, 5.54693585652858, 5.386093509607017, 5.570726028196514, 5.462398542203009, 5.306258453764022, 5.35484721366316, 5.296373938806355, 5.345018156506121, 5.318254610672593, 5.463322923891246, 5.468511379510164, 5.239585389643907, 5.244688321240246, 5.353287772350013, 5.238765613771975, 5.1603490470722315, 5.26586039505899, 5.170813395418227, 5.356827726587653, 5.36119426842779, 5.254405436441302, 5.20019912365824, 5.245913640633225, 5.206254531778395, 5.422741543017327, 5.195280089266598, 5.2395698639377954, 5.123864757232368, 5.29962230887264, 5.122329228669405, 5.298097359910607, 5.238587622605264, 5.179904577881098, 5.306348676905036, 5.322238216996193, 5.230527948848903, 5.136892489716411, 5.1644172444567085, 5.089352091550827, 5.342211257703602, 5.180566125772893, 5.089548788741231, 5.182309753224254, 5.190734964050352, 5.201865833848715, 5.041899742893874, 5.082157111503184, 5.258396526053548, 5.154073495306075, 5.103402669280768, 5.066017731130123, 5.006616431884468, 5.208253178969025, 5.149677507504821, 5.164224623069167, 5.154413297362626, 5.045603170767427, 4.905999962575733, 5.153192142359912, 5.147674689628184, 5.276529077477753, 5.036290366351604, 4.998651553876698, 5.037742658816278, 5.11115715533495, 5.007026911973953, 5.177283853441477, 5.133703094497323, 5.02299797732383, 5.078693490363658, 5.117097066119313, 5.009955328442157, 5.093826262764633, 4.996922520697117, 5.055159397684037, 5.109914522506297, 5.074969611652196, 5.176874768771231, 5.035564558878541, 5.110131778493524, 4.970087855011225, 4.968862447552383, 4.926826725788414, 4.983294522799551, 5.01223700068891, 5.110203600227833, 5.112353761158883, 5.0014319832623, 5.041312085837125, 4.995790342018008, 5.098166268542409, 5.053055752106011, 5.126401903890073, 4.997856613472104, 4.982964344620704, 5.175600731819868, 4.999645783789456]\n"
     ]
    },
    {
     "name": "stderr",
     "output_type": "stream",
     "text": [
      "0.157721: 100%|██████████| 3200/3200 [02:58<00:00, 17.91it/s]\n"
     ]
    },
    {
     "name": "stdout",
     "output_type": "stream",
     "text": [
      "Epoch 115 loss 5.0455494024604555\n",
      "[8.914696744680406, 7.0745214588195084, 6.766226747892797, 6.3876560734212395, 6.152695898264646, 6.109117773547768, 5.814485622867942, 5.776301048025489, 5.738654530756175, 5.583405836001038, 5.681762804165483, 5.637168691232801, 5.756805288046598, 5.5326660958305, 5.544497608430683, 5.454541003555059, 5.347921294011176, 5.5676145445555445, 5.54693585652858, 5.386093509607017, 5.570726028196514, 5.462398542203009, 5.306258453764022, 5.35484721366316, 5.296373938806355, 5.345018156506121, 5.318254610672593, 5.463322923891246, 5.468511379510164, 5.239585389643907, 5.244688321240246, 5.353287772350013, 5.238765613771975, 5.1603490470722315, 5.26586039505899, 5.170813395418227, 5.356827726587653, 5.36119426842779, 5.254405436441302, 5.20019912365824, 5.245913640633225, 5.206254531778395, 5.422741543017327, 5.195280089266598, 5.2395698639377954, 5.123864757232368, 5.29962230887264, 5.122329228669405, 5.298097359910607, 5.238587622605264, 5.179904577881098, 5.306348676905036, 5.322238216996193, 5.230527948848903, 5.136892489716411, 5.1644172444567085, 5.089352091550827, 5.342211257703602, 5.180566125772893, 5.089548788741231, 5.182309753224254, 5.190734964050352, 5.201865833848715, 5.041899742893874, 5.082157111503184, 5.258396526053548, 5.154073495306075, 5.103402669280768, 5.066017731130123, 5.006616431884468, 5.208253178969025, 5.149677507504821, 5.164224623069167, 5.154413297362626, 5.045603170767427, 4.905999962575733, 5.153192142359912, 5.147674689628184, 5.276529077477753, 5.036290366351604, 4.998651553876698, 5.037742658816278, 5.11115715533495, 5.007026911973953, 5.177283853441477, 5.133703094497323, 5.02299797732383, 5.078693490363658, 5.117097066119313, 5.009955328442157, 5.093826262764633, 4.996922520697117, 5.055159397684037, 5.109914522506297, 5.074969611652196, 5.176874768771231, 5.035564558878541, 5.110131778493524, 4.970087855011225, 4.968862447552383, 4.926826725788414, 4.983294522799551, 5.01223700068891, 5.110203600227833, 5.112353761158883, 5.0014319832623, 5.041312085837125, 4.995790342018008, 5.098166268542409, 5.053055752106011, 5.126401903890073, 4.997856613472104, 4.982964344620704, 5.175600731819868, 4.999645783789456, 5.0455494024604555]\n"
     ]
    },
    {
     "name": "stderr",
     "output_type": "stream",
     "text": [
      "0.154483: 100%|██████████| 3200/3200 [02:59<00:00, 17.84it/s]\n"
     ]
    },
    {
     "name": "stdout",
     "output_type": "stream",
     "text": [
      "Epoch 116 loss 4.941953406222165\n",
      "[8.914696744680406, 7.0745214588195084, 6.766226747892797, 6.3876560734212395, 6.152695898264646, 6.109117773547768, 5.814485622867942, 5.776301048025489, 5.738654530756175, 5.583405836001038, 5.681762804165483, 5.637168691232801, 5.756805288046598, 5.5326660958305, 5.544497608430683, 5.454541003555059, 5.347921294011176, 5.5676145445555445, 5.54693585652858, 5.386093509607017, 5.570726028196514, 5.462398542203009, 5.306258453764022, 5.35484721366316, 5.296373938806355, 5.345018156506121, 5.318254610672593, 5.463322923891246, 5.468511379510164, 5.239585389643907, 5.244688321240246, 5.353287772350013, 5.238765613771975, 5.1603490470722315, 5.26586039505899, 5.170813395418227, 5.356827726587653, 5.36119426842779, 5.254405436441302, 5.20019912365824, 5.245913640633225, 5.206254531778395, 5.422741543017327, 5.195280089266598, 5.2395698639377954, 5.123864757232368, 5.29962230887264, 5.122329228669405, 5.298097359910607, 5.238587622605264, 5.179904577881098, 5.306348676905036, 5.322238216996193, 5.230527948848903, 5.136892489716411, 5.1644172444567085, 5.089352091550827, 5.342211257703602, 5.180566125772893, 5.089548788741231, 5.182309753224254, 5.190734964050352, 5.201865833848715, 5.041899742893874, 5.082157111503184, 5.258396526053548, 5.154073495306075, 5.103402669280768, 5.066017731130123, 5.006616431884468, 5.208253178969025, 5.149677507504821, 5.164224623069167, 5.154413297362626, 5.045603170767427, 4.905999962575733, 5.153192142359912, 5.147674689628184, 5.276529077477753, 5.036290366351604, 4.998651553876698, 5.037742658816278, 5.11115715533495, 5.007026911973953, 5.177283853441477, 5.133703094497323, 5.02299797732383, 5.078693490363658, 5.117097066119313, 5.009955328442157, 5.093826262764633, 4.996922520697117, 5.055159397684037, 5.109914522506297, 5.074969611652196, 5.176874768771231, 5.035564558878541, 5.110131778493524, 4.970087855011225, 4.968862447552383, 4.926826725788414, 4.983294522799551, 5.01223700068891, 5.110203600227833, 5.112353761158883, 5.0014319832623, 5.041312085837125, 4.995790342018008, 5.098166268542409, 5.053055752106011, 5.126401903890073, 4.997856613472104, 4.982964344620704, 5.175600731819868, 4.999645783789456, 5.0455494024604555, 4.941953406222165]\n"
     ]
    },
    {
     "name": "stderr",
     "output_type": "stream",
     "text": [
      "0.155229: 100%|██████████| 3200/3200 [02:57<00:00, 17.98it/s]\n"
     ]
    },
    {
     "name": "stdout",
     "output_type": "stream",
     "text": [
      "Epoch 117 loss 4.9658182995766404\n",
      "[8.914696744680406, 7.0745214588195084, 6.766226747892797, 6.3876560734212395, 6.152695898264646, 6.109117773547768, 5.814485622867942, 5.776301048025489, 5.738654530756175, 5.583405836001038, 5.681762804165483, 5.637168691232801, 5.756805288046598, 5.5326660958305, 5.544497608430683, 5.454541003555059, 5.347921294011176, 5.5676145445555445, 5.54693585652858, 5.386093509607017, 5.570726028196514, 5.462398542203009, 5.306258453764022, 5.35484721366316, 5.296373938806355, 5.345018156506121, 5.318254610672593, 5.463322923891246, 5.468511379510164, 5.239585389643907, 5.244688321240246, 5.353287772350013, 5.238765613771975, 5.1603490470722315, 5.26586039505899, 5.170813395418227, 5.356827726587653, 5.36119426842779, 5.254405436441302, 5.20019912365824, 5.245913640633225, 5.206254531778395, 5.422741543017327, 5.195280089266598, 5.2395698639377954, 5.123864757232368, 5.29962230887264, 5.122329228669405, 5.298097359910607, 5.238587622605264, 5.179904577881098, 5.306348676905036, 5.322238216996193, 5.230527948848903, 5.136892489716411, 5.1644172444567085, 5.089352091550827, 5.342211257703602, 5.180566125772893, 5.089548788741231, 5.182309753224254, 5.190734964050352, 5.201865833848715, 5.041899742893874, 5.082157111503184, 5.258396526053548, 5.154073495306075, 5.103402669280768, 5.066017731130123, 5.006616431884468, 5.208253178969025, 5.149677507504821, 5.164224623069167, 5.154413297362626, 5.045603170767427, 4.905999962575733, 5.153192142359912, 5.147674689628184, 5.276529077477753, 5.036290366351604, 4.998651553876698, 5.037742658816278, 5.11115715533495, 5.007026911973953, 5.177283853441477, 5.133703094497323, 5.02299797732383, 5.078693490363658, 5.117097066119313, 5.009955328442157, 5.093826262764633, 4.996922520697117, 5.055159397684037, 5.109914522506297, 5.074969611652196, 5.176874768771231, 5.035564558878541, 5.110131778493524, 4.970087855011225, 4.968862447552383, 4.926826725788414, 4.983294522799551, 5.01223700068891, 5.110203600227833, 5.112353761158883, 5.0014319832623, 5.041312085837125, 4.995790342018008, 5.098166268542409, 5.053055752106011, 5.126401903890073, 4.997856613472104, 4.982964344620704, 5.175600731819868, 4.999645783789456, 5.0455494024604555, 4.941953406222165, 4.9658182995766404]\n"
     ]
    },
    {
     "name": "stderr",
     "output_type": "stream",
     "text": [
      "0.155799: 100%|██████████| 3200/3200 [02:56<00:00, 18.09it/s]\n"
     ]
    },
    {
     "name": "stdout",
     "output_type": "stream",
     "text": [
      "Epoch 118 loss 4.98405559334904\n",
      "[8.914696744680406, 7.0745214588195084, 6.766226747892797, 6.3876560734212395, 6.152695898264646, 6.109117773547768, 5.814485622867942, 5.776301048025489, 5.738654530756175, 5.583405836001038, 5.681762804165483, 5.637168691232801, 5.756805288046598, 5.5326660958305, 5.544497608430683, 5.454541003555059, 5.347921294011176, 5.5676145445555445, 5.54693585652858, 5.386093509607017, 5.570726028196514, 5.462398542203009, 5.306258453764022, 5.35484721366316, 5.296373938806355, 5.345018156506121, 5.318254610672593, 5.463322923891246, 5.468511379510164, 5.239585389643907, 5.244688321240246, 5.353287772350013, 5.238765613771975, 5.1603490470722315, 5.26586039505899, 5.170813395418227, 5.356827726587653, 5.36119426842779, 5.254405436441302, 5.20019912365824, 5.245913640633225, 5.206254531778395, 5.422741543017327, 5.195280089266598, 5.2395698639377954, 5.123864757232368, 5.29962230887264, 5.122329228669405, 5.298097359910607, 5.238587622605264, 5.179904577881098, 5.306348676905036, 5.322238216996193, 5.230527948848903, 5.136892489716411, 5.1644172444567085, 5.089352091550827, 5.342211257703602, 5.180566125772893, 5.089548788741231, 5.182309753224254, 5.190734964050352, 5.201865833848715, 5.041899742893874, 5.082157111503184, 5.258396526053548, 5.154073495306075, 5.103402669280768, 5.066017731130123, 5.006616431884468, 5.208253178969025, 5.149677507504821, 5.164224623069167, 5.154413297362626, 5.045603170767427, 4.905999962575733, 5.153192142359912, 5.147674689628184, 5.276529077477753, 5.036290366351604, 4.998651553876698, 5.037742658816278, 5.11115715533495, 5.007026911973953, 5.177283853441477, 5.133703094497323, 5.02299797732383, 5.078693490363658, 5.117097066119313, 5.009955328442157, 5.093826262764633, 4.996922520697117, 5.055159397684037, 5.109914522506297, 5.074969611652196, 5.176874768771231, 5.035564558878541, 5.110131778493524, 4.970087855011225, 4.968862447552383, 4.926826725788414, 4.983294522799551, 5.01223700068891, 5.110203600227833, 5.112353761158883, 5.0014319832623, 5.041312085837125, 4.995790342018008, 5.098166268542409, 5.053055752106011, 5.126401903890073, 4.997856613472104, 4.982964344620704, 5.175600731819868, 4.999645783789456, 5.0455494024604555, 4.941953406222165, 4.9658182995766404, 4.98405559334904]\n"
     ]
    },
    {
     "name": "stderr",
     "output_type": "stream",
     "text": [
      "0.157712: 100%|██████████| 3200/3200 [02:59<00:00, 17.79it/s]\n"
     ]
    },
    {
     "name": "stdout",
     "output_type": "stream",
     "text": [
      "Epoch 119 loss 5.045260445140302\n",
      "[8.914696744680406, 7.0745214588195084, 6.766226747892797, 6.3876560734212395, 6.152695898264646, 6.109117773547768, 5.814485622867942, 5.776301048025489, 5.738654530756175, 5.583405836001038, 5.681762804165483, 5.637168691232801, 5.756805288046598, 5.5326660958305, 5.544497608430683, 5.454541003555059, 5.347921294011176, 5.5676145445555445, 5.54693585652858, 5.386093509607017, 5.570726028196514, 5.462398542203009, 5.306258453764022, 5.35484721366316, 5.296373938806355, 5.345018156506121, 5.318254610672593, 5.463322923891246, 5.468511379510164, 5.239585389643907, 5.244688321240246, 5.353287772350013, 5.238765613771975, 5.1603490470722315, 5.26586039505899, 5.170813395418227, 5.356827726587653, 5.36119426842779, 5.254405436441302, 5.20019912365824, 5.245913640633225, 5.206254531778395, 5.422741543017327, 5.195280089266598, 5.2395698639377954, 5.123864757232368, 5.29962230887264, 5.122329228669405, 5.298097359910607, 5.238587622605264, 5.179904577881098, 5.306348676905036, 5.322238216996193, 5.230527948848903, 5.136892489716411, 5.1644172444567085, 5.089352091550827, 5.342211257703602, 5.180566125772893, 5.089548788741231, 5.182309753224254, 5.190734964050352, 5.201865833848715, 5.041899742893874, 5.082157111503184, 5.258396526053548, 5.154073495306075, 5.103402669280768, 5.066017731130123, 5.006616431884468, 5.208253178969025, 5.149677507504821, 5.164224623069167, 5.154413297362626, 5.045603170767427, 4.905999962575733, 5.153192142359912, 5.147674689628184, 5.276529077477753, 5.036290366351604, 4.998651553876698, 5.037742658816278, 5.11115715533495, 5.007026911973953, 5.177283853441477, 5.133703094497323, 5.02299797732383, 5.078693490363658, 5.117097066119313, 5.009955328442157, 5.093826262764633, 4.996922520697117, 5.055159397684037, 5.109914522506297, 5.074969611652196, 5.176874768771231, 5.035564558878541, 5.110131778493524, 4.970087855011225, 4.968862447552383, 4.926826725788414, 4.983294522799551, 5.01223700068891, 5.110203600227833, 5.112353761158883, 5.0014319832623, 5.041312085837125, 4.995790342018008, 5.098166268542409, 5.053055752106011, 5.126401903890073, 4.997856613472104, 4.982964344620704, 5.175600731819868, 4.999645783789456, 5.0455494024604555, 4.941953406222165, 4.9658182995766404, 4.98405559334904, 5.045260445140302]\n"
     ]
    },
    {
     "name": "stderr",
     "output_type": "stream",
     "text": [
      "0.156588: 100%|██████████| 3200/3200 [02:59<00:00, 17.84it/s]\n"
     ]
    },
    {
     "name": "stdout",
     "output_type": "stream",
     "text": [
      "Epoch 120 loss 5.00931397754699\n",
      "[8.914696744680406, 7.0745214588195084, 6.766226747892797, 6.3876560734212395, 6.152695898264646, 6.109117773547768, 5.814485622867942, 5.776301048025489, 5.738654530756175, 5.583405836001038, 5.681762804165483, 5.637168691232801, 5.756805288046598, 5.5326660958305, 5.544497608430683, 5.454541003555059, 5.347921294011176, 5.5676145445555445, 5.54693585652858, 5.386093509607017, 5.570726028196514, 5.462398542203009, 5.306258453764022, 5.35484721366316, 5.296373938806355, 5.345018156506121, 5.318254610672593, 5.463322923891246, 5.468511379510164, 5.239585389643907, 5.244688321240246, 5.353287772350013, 5.238765613771975, 5.1603490470722315, 5.26586039505899, 5.170813395418227, 5.356827726587653, 5.36119426842779, 5.254405436441302, 5.20019912365824, 5.245913640633225, 5.206254531778395, 5.422741543017327, 5.195280089266598, 5.2395698639377954, 5.123864757232368, 5.29962230887264, 5.122329228669405, 5.298097359910607, 5.238587622605264, 5.179904577881098, 5.306348676905036, 5.322238216996193, 5.230527948848903, 5.136892489716411, 5.1644172444567085, 5.089352091550827, 5.342211257703602, 5.180566125772893, 5.089548788741231, 5.182309753224254, 5.190734964050352, 5.201865833848715, 5.041899742893874, 5.082157111503184, 5.258396526053548, 5.154073495306075, 5.103402669280768, 5.066017731130123, 5.006616431884468, 5.208253178969025, 5.149677507504821, 5.164224623069167, 5.154413297362626, 5.045603170767427, 4.905999962575733, 5.153192142359912, 5.147674689628184, 5.276529077477753, 5.036290366351604, 4.998651553876698, 5.037742658816278, 5.11115715533495, 5.007026911973953, 5.177283853441477, 5.133703094497323, 5.02299797732383, 5.078693490363658, 5.117097066119313, 5.009955328442157, 5.093826262764633, 4.996922520697117, 5.055159397684037, 5.109914522506297, 5.074969611652196, 5.176874768771231, 5.035564558878541, 5.110131778493524, 4.970087855011225, 4.968862447552383, 4.926826725788414, 4.983294522799551, 5.01223700068891, 5.110203600227833, 5.112353761158883, 5.0014319832623, 5.041312085837125, 4.995790342018008, 5.098166268542409, 5.053055752106011, 5.126401903890073, 4.997856613472104, 4.982964344620704, 5.175600731819868, 4.999645783789456, 5.0455494024604555, 4.941953406222165, 4.9658182995766404, 4.98405559334904, 5.045260445140302, 5.00931397754699]\n"
     ]
    },
    {
     "name": "stderr",
     "output_type": "stream",
     "text": [
      "0.162111: 100%|██████████| 3200/3200 [02:58<00:00, 17.90it/s]\n"
     ]
    },
    {
     "name": "stdout",
     "output_type": "stream",
     "text": [
      "Epoch 121 loss 5.185981591157615\n",
      "[8.914696744680406, 7.0745214588195084, 6.766226747892797, 6.3876560734212395, 6.152695898264646, 6.109117773547768, 5.814485622867942, 5.776301048025489, 5.738654530756175, 5.583405836001038, 5.681762804165483, 5.637168691232801, 5.756805288046598, 5.5326660958305, 5.544497608430683, 5.454541003555059, 5.347921294011176, 5.5676145445555445, 5.54693585652858, 5.386093509607017, 5.570726028196514, 5.462398542203009, 5.306258453764022, 5.35484721366316, 5.296373938806355, 5.345018156506121, 5.318254610672593, 5.463322923891246, 5.468511379510164, 5.239585389643907, 5.244688321240246, 5.353287772350013, 5.238765613771975, 5.1603490470722315, 5.26586039505899, 5.170813395418227, 5.356827726587653, 5.36119426842779, 5.254405436441302, 5.20019912365824, 5.245913640633225, 5.206254531778395, 5.422741543017327, 5.195280089266598, 5.2395698639377954, 5.123864757232368, 5.29962230887264, 5.122329228669405, 5.298097359910607, 5.238587622605264, 5.179904577881098, 5.306348676905036, 5.322238216996193, 5.230527948848903, 5.136892489716411, 5.1644172444567085, 5.089352091550827, 5.342211257703602, 5.180566125772893, 5.089548788741231, 5.182309753224254, 5.190734964050352, 5.201865833848715, 5.041899742893874, 5.082157111503184, 5.258396526053548, 5.154073495306075, 5.103402669280768, 5.066017731130123, 5.006616431884468, 5.208253178969025, 5.149677507504821, 5.164224623069167, 5.154413297362626, 5.045603170767427, 4.905999962575733, 5.153192142359912, 5.147674689628184, 5.276529077477753, 5.036290366351604, 4.998651553876698, 5.037742658816278, 5.11115715533495, 5.007026911973953, 5.177283853441477, 5.133703094497323, 5.02299797732383, 5.078693490363658, 5.117097066119313, 5.009955328442157, 5.093826262764633, 4.996922520697117, 5.055159397684037, 5.109914522506297, 5.074969611652196, 5.176874768771231, 5.035564558878541, 5.110131778493524, 4.970087855011225, 4.968862447552383, 4.926826725788414, 4.983294522799551, 5.01223700068891, 5.110203600227833, 5.112353761158883, 5.0014319832623, 5.041312085837125, 4.995790342018008, 5.098166268542409, 5.053055752106011, 5.126401903890073, 4.997856613472104, 4.982964344620704, 5.175600731819868, 4.999645783789456, 5.0455494024604555, 4.941953406222165, 4.9658182995766404, 4.98405559334904, 5.045260445140302, 5.00931397754699, 5.185981591157615]\n"
     ]
    },
    {
     "name": "stderr",
     "output_type": "stream",
     "text": [
      "0.157660: 100%|██████████| 3200/3200 [02:58<00:00, 17.93it/s]\n"
     ]
    },
    {
     "name": "stdout",
     "output_type": "stream",
     "text": [
      "Epoch 122 loss 5.04357995826751\n",
      "[8.914696744680406, 7.0745214588195084, 6.766226747892797, 6.3876560734212395, 6.152695898264646, 6.109117773547768, 5.814485622867942, 5.776301048025489, 5.738654530756175, 5.583405836001038, 5.681762804165483, 5.637168691232801, 5.756805288046598, 5.5326660958305, 5.544497608430683, 5.454541003555059, 5.347921294011176, 5.5676145445555445, 5.54693585652858, 5.386093509607017, 5.570726028196514, 5.462398542203009, 5.306258453764022, 5.35484721366316, 5.296373938806355, 5.345018156506121, 5.318254610672593, 5.463322923891246, 5.468511379510164, 5.239585389643907, 5.244688321240246, 5.353287772350013, 5.238765613771975, 5.1603490470722315, 5.26586039505899, 5.170813395418227, 5.356827726587653, 5.36119426842779, 5.254405436441302, 5.20019912365824, 5.245913640633225, 5.206254531778395, 5.422741543017327, 5.195280089266598, 5.2395698639377954, 5.123864757232368, 5.29962230887264, 5.122329228669405, 5.298097359910607, 5.238587622605264, 5.179904577881098, 5.306348676905036, 5.322238216996193, 5.230527948848903, 5.136892489716411, 5.1644172444567085, 5.089352091550827, 5.342211257703602, 5.180566125772893, 5.089548788741231, 5.182309753224254, 5.190734964050352, 5.201865833848715, 5.041899742893874, 5.082157111503184, 5.258396526053548, 5.154073495306075, 5.103402669280768, 5.066017731130123, 5.006616431884468, 5.208253178969025, 5.149677507504821, 5.164224623069167, 5.154413297362626, 5.045603170767427, 4.905999962575733, 5.153192142359912, 5.147674689628184, 5.276529077477753, 5.036290366351604, 4.998651553876698, 5.037742658816278, 5.11115715533495, 5.007026911973953, 5.177283853441477, 5.133703094497323, 5.02299797732383, 5.078693490363658, 5.117097066119313, 5.009955328442157, 5.093826262764633, 4.996922520697117, 5.055159397684037, 5.109914522506297, 5.074969611652196, 5.176874768771231, 5.035564558878541, 5.110131778493524, 4.970087855011225, 4.968862447552383, 4.926826725788414, 4.983294522799551, 5.01223700068891, 5.110203600227833, 5.112353761158883, 5.0014319832623, 5.041312085837125, 4.995790342018008, 5.098166268542409, 5.053055752106011, 5.126401903890073, 4.997856613472104, 4.982964344620704, 5.175600731819868, 4.999645783789456, 5.0455494024604555, 4.941953406222165, 4.9658182995766404, 4.98405559334904, 5.045260445140302, 5.00931397754699, 5.185981591157615, 5.04357995826751]\n"
     ]
    },
    {
     "name": "stderr",
     "output_type": "stream",
     "text": [
      "0.156434: 100%|██████████| 3200/3200 [03:03<00:00, 17.42it/s]\n"
     ]
    },
    {
     "name": "stdout",
     "output_type": "stream",
     "text": [
      "Epoch 123 loss 5.004365548975766\n",
      "[8.914696744680406, 7.0745214588195084, 6.766226747892797, 6.3876560734212395, 6.152695898264646, 6.109117773547768, 5.814485622867942, 5.776301048025489, 5.738654530756175, 5.583405836001038, 5.681762804165483, 5.637168691232801, 5.756805288046598, 5.5326660958305, 5.544497608430683, 5.454541003555059, 5.347921294011176, 5.5676145445555445, 5.54693585652858, 5.386093509607017, 5.570726028196514, 5.462398542203009, 5.306258453764022, 5.35484721366316, 5.296373938806355, 5.345018156506121, 5.318254610672593, 5.463322923891246, 5.468511379510164, 5.239585389643907, 5.244688321240246, 5.353287772350013, 5.238765613771975, 5.1603490470722315, 5.26586039505899, 5.170813395418227, 5.356827726587653, 5.36119426842779, 5.254405436441302, 5.20019912365824, 5.245913640633225, 5.206254531778395, 5.422741543017327, 5.195280089266598, 5.2395698639377954, 5.123864757232368, 5.29962230887264, 5.122329228669405, 5.298097359910607, 5.238587622605264, 5.179904577881098, 5.306348676905036, 5.322238216996193, 5.230527948848903, 5.136892489716411, 5.1644172444567085, 5.089352091550827, 5.342211257703602, 5.180566125772893, 5.089548788741231, 5.182309753224254, 5.190734964050352, 5.201865833848715, 5.041899742893874, 5.082157111503184, 5.258396526053548, 5.154073495306075, 5.103402669280768, 5.066017731130123, 5.006616431884468, 5.208253178969025, 5.149677507504821, 5.164224623069167, 5.154413297362626, 5.045603170767427, 4.905999962575733, 5.153192142359912, 5.147674689628184, 5.276529077477753, 5.036290366351604, 4.998651553876698, 5.037742658816278, 5.11115715533495, 5.007026911973953, 5.177283853441477, 5.133703094497323, 5.02299797732383, 5.078693490363658, 5.117097066119313, 5.009955328442157, 5.093826262764633, 4.996922520697117, 5.055159397684037, 5.109914522506297, 5.074969611652196, 5.176874768771231, 5.035564558878541, 5.110131778493524, 4.970087855011225, 4.968862447552383, 4.926826725788414, 4.983294522799551, 5.01223700068891, 5.110203600227833, 5.112353761158883, 5.0014319832623, 5.041312085837125, 4.995790342018008, 5.098166268542409, 5.053055752106011, 5.126401903890073, 4.997856613472104, 4.982964344620704, 5.175600731819868, 4.999645783789456, 5.0455494024604555, 4.941953406222165, 4.9658182995766404, 4.98405559334904, 5.045260445140302, 5.00931397754699, 5.185981591157615, 5.04357995826751, 5.004365548975766]\n"
     ]
    },
    {
     "name": "stderr",
     "output_type": "stream",
     "text": [
      "0.157347: 100%|██████████| 3200/3200 [02:59<00:00, 17.86it/s]\n"
     ]
    },
    {
     "name": "stdout",
     "output_type": "stream",
     "text": [
      "Epoch 124 loss 5.033573043644428\n",
      "[8.914696744680406, 7.0745214588195084, 6.766226747892797, 6.3876560734212395, 6.152695898264646, 6.109117773547768, 5.814485622867942, 5.776301048025489, 5.738654530756175, 5.583405836001038, 5.681762804165483, 5.637168691232801, 5.756805288046598, 5.5326660958305, 5.544497608430683, 5.454541003555059, 5.347921294011176, 5.5676145445555445, 5.54693585652858, 5.386093509607017, 5.570726028196514, 5.462398542203009, 5.306258453764022, 5.35484721366316, 5.296373938806355, 5.345018156506121, 5.318254610672593, 5.463322923891246, 5.468511379510164, 5.239585389643907, 5.244688321240246, 5.353287772350013, 5.238765613771975, 5.1603490470722315, 5.26586039505899, 5.170813395418227, 5.356827726587653, 5.36119426842779, 5.254405436441302, 5.20019912365824, 5.245913640633225, 5.206254531778395, 5.422741543017327, 5.195280089266598, 5.2395698639377954, 5.123864757232368, 5.29962230887264, 5.122329228669405, 5.298097359910607, 5.238587622605264, 5.179904577881098, 5.306348676905036, 5.322238216996193, 5.230527948848903, 5.136892489716411, 5.1644172444567085, 5.089352091550827, 5.342211257703602, 5.180566125772893, 5.089548788741231, 5.182309753224254, 5.190734964050352, 5.201865833848715, 5.041899742893874, 5.082157111503184, 5.258396526053548, 5.154073495306075, 5.103402669280768, 5.066017731130123, 5.006616431884468, 5.208253178969025, 5.149677507504821, 5.164224623069167, 5.154413297362626, 5.045603170767427, 4.905999962575733, 5.153192142359912, 5.147674689628184, 5.276529077477753, 5.036290366351604, 4.998651553876698, 5.037742658816278, 5.11115715533495, 5.007026911973953, 5.177283853441477, 5.133703094497323, 5.02299797732383, 5.078693490363658, 5.117097066119313, 5.009955328442157, 5.093826262764633, 4.996922520697117, 5.055159397684037, 5.109914522506297, 5.074969611652196, 5.176874768771231, 5.035564558878541, 5.110131778493524, 4.970087855011225, 4.968862447552383, 4.926826725788414, 4.983294522799551, 5.01223700068891, 5.110203600227833, 5.112353761158883, 5.0014319832623, 5.041312085837125, 4.995790342018008, 5.098166268542409, 5.053055752106011, 5.126401903890073, 4.997856613472104, 4.982964344620704, 5.175600731819868, 4.999645783789456, 5.0455494024604555, 4.941953406222165, 4.9658182995766404, 4.98405559334904, 5.045260445140302, 5.00931397754699, 5.185981591157615, 5.04357995826751, 5.004365548975766, 5.033573043644428]\n"
     ]
    }
   ],
   "source": [
    "lr, batch_size, samples_per_epoch, patience = 0.0005, 32, 102400, 5\n",
    "# lr, batch_size, samples_per_epoch, patience = 0.0005, 1, 1024, 5\n",
    "d, N, he, dropout = 50, 2, 4, 0.2\n",
    "model, fore_model =  build_strats(D, fore_max_len, V, d, N, he, dropout, forecast=True)\n",
    "print (fore_model.summary())\n",
    "\n",
    "\n",
    "# Pretrain fore_model.\n",
    "best_val_loss = np.inf\n",
    "N_fore = len(fore_train_op)\n",
    "\n",
    "# save losses for visualization\n",
    "# val_losses = []\n",
    "train_losses = [8.914696744680406, 7.0745214588195084, 6.766226747892797, 6.3876560734212395, 6.152695898264646, 6.109117773547768, 5.814485622867942, 5.776301048025489, 5.738654530756175, 5.583405836001038, 5.681762804165483, 5.637168691232801, 5.756805288046598, 5.5326660958305, 5.544497608430683, 5.454541003555059, 5.347921294011176, 5.5676145445555445, 5.54693585652858, 5.386093509607017, 5.570726028196514, 5.462398542203009, 5.306258453764022, 5.35484721366316, 5.296373938806355, 5.345018156506121, 5.318254610672593, 5.463322923891246, 5.468511379510164, 5.239585389643907, 5.244688321240246, 5.353287772350013, 5.238765613771975, 5.1603490470722315, 5.26586039505899, 5.170813395418227, 5.356827726587653, 5.36119426842779, 5.254405436441302, 5.20019912365824, 5.245913640633225, 5.206254531778395, 5.422741543017327, 5.195280089266598, 5.2395698639377954, 5.123864757232368, 5.29962230887264, 5.122329228669405, 5.298097359910607, 5.238587622605264, 5.179904577881098, 5.306348676905036, 5.322238216996193, 5.230527948848903, 5.136892489716411, 5.1644172444567085, 5.089352091550827, 5.342211257703602, 5.180566125772893, 5.089548788741231, 5.182309753224254, 5.190734964050352, 5.201865833848715, 5.041899742893874, 5.082157111503184, 5.258396526053548]\n",
    "\n",
    "# for e in range(1000):\n",
    "#     e_indices = np.random.choice(range(N_fore), size=samples_per_epoch, replace=False)\n",
    "#     e_loss = 0\n",
    "#     pbar = tqdm(range(0, len(e_indices), batch_size))\n",
    "#     for start in pbar:\n",
    "#         ind = e_indices[start:start+batch_size]\n",
    "#         e_loss += fore_model.train_on_batch([ip[ind] for ip in fore_train_ip], fore_train_op[ind])\n",
    "#         pbar.set_description('%f'%(e_loss/(start+1)))\n",
    "#     val_loss = fore_model.evaluate(fore_valid_ip, fore_valid_op, batch_size=batch_size, verbose=1)\n",
    "#     val_losses.append(val_loss)\n",
    "#     print ('Epoch', e, 'loss', e_loss*batch_size/samples_per_epoch, 'val loss', val_loss)\n",
    "#     train_losses.append(e_loss*batch_size/samples_per_epoch)\n",
    "#     # model should be saved here after each epoch in case of unexpected disconnection\n",
    "#     if val_loss < best_val_loss:\n",
    "#         best_val_loss = val_loss\n",
    "#         fore_model.save_weights(fore_savepath)\n",
    "#         best_epoch = e\n",
    "#     if (e-best_epoch)>patience:\n",
    "#         break\n",
    "\n",
    "for e in range(66, 125):\n",
    "    fore_loadpath = 'Exp1/S/models/forecasting/forecasting_'+str(e)+'_epochs.h5'\n",
    "    fore_savepath = 'Exp1/S/models/forecasting/forecasting_'+str(e+1)+'_epochs.h5'\n",
    "\n",
    "    fore_model.compile(loss=forecast_loss, optimizer=Adam(lr))\n",
    "    fore_model.load_weights(fore_loadpath)\n",
    "\n",
    "    e_indices = np.random.choice(range(N_fore), size=samples_per_epoch, replace=False)\n",
    "    e_loss = 0\n",
    "    pbar = tqdm(range(0, len(e_indices), batch_size))\n",
    "    for start in pbar:\n",
    "        ind = e_indices[start:start+batch_size]\n",
    "        e_loss += fore_model.train_on_batch([ip[ind] for ip in fore_train_ip], fore_train_op[ind])\n",
    "        pbar.set_description('%f'%(e_loss/(start+1)))\n",
    "    # val_loss = fore_model.evaluate(fore_valid_ip, fore_valid_op, batch_size=batch_size, verbose=1)\n",
    "    # val_losses.append(val_loss)\n",
    "    # print ('Epoch', e, 'loss', e_loss*batch_size/samples_per_epoch, 'val loss', val_loss)\n",
    "    print ('Epoch', e, 'loss', e_loss*batch_size/samples_per_epoch)\n",
    "    train_losses.append(e_loss*batch_size/samples_per_epoch)\n",
    "    fore_model.save_weights(fore_savepath)\n",
    "    # # model should be saved here after each epoch in case of unexpected disconnection\n",
    "    # if val_loss < best_val_loss:\n",
    "    #     best_val_loss = val_loss\n",
    "    #     fore_model.save_weights(fore_savepath)\n",
    "    #     best_epoch = e\n",
    "    # if (e-best_epoch)>patience:\n",
    "    #     break\n",
    "    print(train_losses)\n",
    "\n",
    "    \n",
    "# val_loss = fore_model.evaluate(fore_valid_ip, fore_valid_op, batch_size=batch_size, verbose=1)\n",
    "# print(f'validation loss: {val_loss}')"
   ]
  }
 ],
 "metadata": {
  "accelerator": "GPU",
  "colab": {
   "machine_shape": "hm",
   "provenance": [],
   "toc_visible": true
  },
  "gpuClass": "standard",
  "kernelspec": {
   "display_name": "Python 3 (ipykernel)",
   "language": "python",
   "name": "python3"
  },
  "language_info": {
   "codemirror_mode": {
    "name": "ipython",
    "version": 3
   },
   "file_extension": ".py",
   "mimetype": "text/x-python",
   "name": "python",
   "nbconvert_exporter": "python",
   "pygments_lexer": "ipython3",
   "version": "3.9.7"
  }
 },
 "nbformat": 4,
 "nbformat_minor": 4
}
