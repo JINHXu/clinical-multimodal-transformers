{
 "cells": [
  {
   "cell_type": "code",
   "execution_count": 1,
   "metadata": {},
   "outputs": [],
   "source": [
    "import os\n",
    "os.environ['TF_CPP_MIN_LOG_LEVEL'] = '2'"
   ]
  },
  {
   "cell_type": "code",
   "execution_count": 2,
   "metadata": {},
   "outputs": [],
   "source": [
    "! export TF_CPP_MIN_LOG_LEVEL=2"
   ]
  },
  {
   "cell_type": "markdown",
   "metadata": {
    "id": "ECKAJiLXiTlN"
   },
   "source": [
    "## Hardware check"
   ]
  },
  {
   "cell_type": "code",
   "execution_count": 3,
   "metadata": {
    "id": "e7odgm5VsOsb"
   },
   "outputs": [
    {
     "name": "stdout",
     "output_type": "stream",
     "text": [
      "Thu Oct 26 09:14:25 2023       \n",
      "+-----------------------------------------------------------------------------+\n",
      "| NVIDIA-SMI 525.85.12    Driver Version: 525.85.12    CUDA Version: 12.0     |\n",
      "|-------------------------------+----------------------+----------------------+\n",
      "| GPU  Name        Persistence-M| Bus-Id        Disp.A | Volatile Uncorr. ECC |\n",
      "| Fan  Temp  Perf  Pwr:Usage/Cap|         Memory-Usage | GPU-Util  Compute M. |\n",
      "|                               |                      |               MIG M. |\n",
      "|===============================+======================+======================|\n",
      "|   0  Tesla V100-SXM2...  On   | 00000000:3A:00.0 Off |                    0 |\n",
      "| N/A   32C    P0    41W / 300W |     15MiB / 32768MiB |      0%      Default |\n",
      "|                               |                      |                  N/A |\n",
      "+-------------------------------+----------------------+----------------------+\n",
      "|   1  Tesla V100-SXM2...  On   | 00000000:3B:00.0 Off |                    0 |\n",
      "| N/A   32C    P0    41W / 300W |      9MiB / 32768MiB |      0%      Default |\n",
      "|                               |                      |                  N/A |\n",
      "+-------------------------------+----------------------+----------------------+\n",
      "|   2  Tesla V100-SXM2...  On   | 00000000:B2:00.0 Off |                    0 |\n",
      "| N/A   31C    P0    41W / 300W |      9MiB / 32768MiB |      0%      Default |\n",
      "|                               |                      |                  N/A |\n",
      "+-------------------------------+----------------------+----------------------+\n",
      "|   3  Tesla V100-SXM2...  On   | 00000000:B3:00.0 Off |                    0 |\n",
      "| N/A   33C    P0    41W / 300W |      9MiB / 32768MiB |      0%      Default |\n",
      "|                               |                      |                  N/A |\n",
      "+-------------------------------+----------------------+----------------------+\n",
      "                                                                               \n",
      "+-----------------------------------------------------------------------------+\n",
      "| Processes:                                                                  |\n",
      "|  GPU   GI   CI        PID   Type   Process name                  GPU Memory |\n",
      "|        ID   ID                                                   Usage      |\n",
      "|=============================================================================|\n",
      "|    0   N/A  N/A      1957      G   /usr/libexec/Xorg                   8MiB |\n",
      "|    1   N/A  N/A      1957      G   /usr/libexec/Xorg                   8MiB |\n",
      "|    2   N/A  N/A      1957      G   /usr/libexec/Xorg                   8MiB |\n",
      "|    3   N/A  N/A      1957      G   /usr/libexec/Xorg                   8MiB |\n",
      "+-----------------------------------------------------------------------------+\n"
     ]
    }
   ],
   "source": [
    "# gpu check\n",
    "!nvidia-smi"
   ]
  },
  {
   "cell_type": "code",
   "execution_count": 4,
   "metadata": {
    "id": "oEEUeIW3sOsc"
   },
   "outputs": [
    {
     "data": {
      "text/plain": [
       "80"
      ]
     },
     "execution_count": 4,
     "metadata": {},
     "output_type": "execute_result"
    }
   ],
   "source": [
    "# check number of cores\n",
    "import multiprocessing\n",
    "\n",
    "cores = multiprocessing.cpu_count() \n",
    "cores"
   ]
  },
  {
   "cell_type": "markdown",
   "metadata": {
    "id": "vY9I5eXWeOom"
   },
   "source": [
    "## Environment Prep"
   ]
  },
  {
   "cell_type": "code",
   "execution_count": 5,
   "metadata": {
    "tags": []
   },
   "outputs": [
    {
     "name": "stdout",
     "output_type": "stream",
     "text": [
      "/pfs/data5/home/hd/hd_hd/hd_nf283/MA_Thesis\n"
     ]
    }
   ],
   "source": [
    "cd /pfs/data5/home/hd/hd_hd/hd_nf283/MA_Thesis"
   ]
  },
  {
   "cell_type": "code",
   "execution_count": 6,
   "metadata": {
    "id": "RpTg0QzPqqKv"
   },
   "outputs": [],
   "source": [
    "from tensorflow.keras.layers import Input, Dense, Dropout, BatchNormalization, Lambda\n",
    "# from tensorflow.keras.models import Model\n",
    "from tensorflow.keras import models\n",
    "import pickle\n",
    "import numpy as np\n",
    "from tqdm import tqdm\n",
    "tqdm.pandas()\n",
    "from sklearn.utils.class_weight import compute_class_weight\n",
    "from tensorflow.keras.optimizers import Adam\n",
    "from sklearn.metrics import roc_auc_score, precision_recall_curve, auc\n",
    "import tensorflow.keras.backend as K\n",
    "from tensorflow.keras.callbacks import Callback, EarlyStopping\n",
    "import pandas as pd\n",
    "import json\n",
    "from torch.utils.data import Dataset\n",
    "from transformers import AutoTokenizer, pipeline, AutoModel\n",
    "import resources.smart_cond as sc\n",
    "import gc\n",
    "# from google.colab import files"
   ]
  },
  {
   "cell_type": "code",
   "execution_count": 7,
   "metadata": {
    "id": "AeG1PfTVsOsd"
   },
   "outputs": [
    {
     "name": "stdout",
     "output_type": "stream",
     "text": [
      "2.12.0\n"
     ]
    },
    {
     "data": {
      "text/plain": [
       "'4.0'"
      ]
     },
     "execution_count": 7,
     "metadata": {},
     "output_type": "execute_result"
    }
   ],
   "source": [
    "import tensorflow as tf\n",
    "print(tf. __version__)\n",
    "\n",
    "pickle.format_version"
   ]
  },
  {
   "cell_type": "code",
   "execution_count": 8,
   "metadata": {
    "tags": []
   },
   "outputs": [],
   "source": [
    "data_path = 'Data/sepsis_removed_0.pkl'\n",
    "pkl = pickle.load(open(data_path, 'rb'))\n",
    "data = pkl[0]\n",
    "oc = pkl[1]\n",
    "train_ind = pkl[2]\n",
    "valid_ind = pkl[3]\n",
    "test_ind = pkl[4]\n",
    "del pkl"
   ]
  },
  {
   "cell_type": "code",
   "execution_count": 9,
   "metadata": {
    "tags": []
   },
   "outputs": [
    {
     "data": {
      "text/html": [
       "<div>\n",
       "<style scoped>\n",
       "    .dataframe tbody tr th:only-of-type {\n",
       "        vertical-align: middle;\n",
       "    }\n",
       "\n",
       "    .dataframe tbody tr th {\n",
       "        vertical-align: top;\n",
       "    }\n",
       "\n",
       "    .dataframe thead th {\n",
       "        text-align: right;\n",
       "    }\n",
       "</style>\n",
       "<table border=\"1\" class=\"dataframe\">\n",
       "  <thead>\n",
       "    <tr style=\"text-align: right;\">\n",
       "      <th></th>\n",
       "      <th>ts_ind</th>\n",
       "      <th>hour</th>\n",
       "      <th>variable</th>\n",
       "      <th>value</th>\n",
       "      <th>TABLE</th>\n",
       "      <th>mean</th>\n",
       "      <th>std</th>\n",
       "    </tr>\n",
       "  </thead>\n",
       "  <tbody>\n",
       "    <tr>\n",
       "      <th>0</th>\n",
       "      <td>10223</td>\n",
       "      <td>467.816667</td>\n",
       "      <td>Text</td>\n",
       "      <td>1</td>\n",
       "      <td>noteevents</td>\n",
       "      <td>1.000000</td>\n",
       "      <td>1.000000</td>\n",
       "    </tr>\n",
       "    <tr>\n",
       "      <th>1</th>\n",
       "      <td>18407</td>\n",
       "      <td>28.016667</td>\n",
       "      <td>Text</td>\n",
       "      <td>1</td>\n",
       "      <td>noteevents</td>\n",
       "      <td>1.000000</td>\n",
       "      <td>1.000000</td>\n",
       "    </tr>\n",
       "    <tr>\n",
       "      <th>2</th>\n",
       "      <td>40300</td>\n",
       "      <td>155.166667</td>\n",
       "      <td>Text</td>\n",
       "      <td>1</td>\n",
       "      <td>noteevents</td>\n",
       "      <td>1.000000</td>\n",
       "      <td>1.000000</td>\n",
       "    </tr>\n",
       "    <tr>\n",
       "      <th>3</th>\n",
       "      <td>23747</td>\n",
       "      <td>52.383333</td>\n",
       "      <td>Text</td>\n",
       "      <td>1</td>\n",
       "      <td>noteevents</td>\n",
       "      <td>1.000000</td>\n",
       "      <td>1.000000</td>\n",
       "    </tr>\n",
       "    <tr>\n",
       "      <th>4</th>\n",
       "      <td>2357</td>\n",
       "      <td>73.133333</td>\n",
       "      <td>Text</td>\n",
       "      <td>1</td>\n",
       "      <td>noteevents</td>\n",
       "      <td>1.000000</td>\n",
       "      <td>1.000000</td>\n",
       "    </tr>\n",
       "    <tr>\n",
       "      <th>...</th>\n",
       "      <td>...</td>\n",
       "      <td>...</td>\n",
       "      <td>...</td>\n",
       "      <td>...</td>\n",
       "      <td>...</td>\n",
       "      <td>...</td>\n",
       "      <td>...</td>\n",
       "    </tr>\n",
       "    <tr>\n",
       "      <th>82886223</th>\n",
       "      <td>57281</td>\n",
       "      <td>20.400000</td>\n",
       "      <td>MBP</td>\n",
       "      <td>0.195381</td>\n",
       "      <td>chart</td>\n",
       "      <td>78.552377</td>\n",
       "      <td>17.645628</td>\n",
       "    </tr>\n",
       "    <tr>\n",
       "      <th>82886224</th>\n",
       "      <td>57281</td>\n",
       "      <td>20.400000</td>\n",
       "      <td>O2 Saturation</td>\n",
       "      <td>-0.678068</td>\n",
       "      <td>chart</td>\n",
       "      <td>96.820961</td>\n",
       "      <td>4.160290</td>\n",
       "    </tr>\n",
       "    <tr>\n",
       "      <th>82886225</th>\n",
       "      <td>57281</td>\n",
       "      <td>20.400000</td>\n",
       "      <td>RR</td>\n",
       "      <td>0.179866</td>\n",
       "      <td>chart</td>\n",
       "      <td>26.278501</td>\n",
       "      <td>15.130729</td>\n",
       "    </tr>\n",
       "    <tr>\n",
       "      <th>82886226</th>\n",
       "      <td>57281</td>\n",
       "      <td>20.400000</td>\n",
       "      <td>SBP</td>\n",
       "      <td>-0.404061</td>\n",
       "      <td>chart</td>\n",
       "      <td>120.239648</td>\n",
       "      <td>25.341836</td>\n",
       "    </tr>\n",
       "    <tr>\n",
       "      <th>82886227</th>\n",
       "      <td>57281</td>\n",
       "      <td>20.400000</td>\n",
       "      <td>Urine</td>\n",
       "      <td>-0.24296</td>\n",
       "      <td>output</td>\n",
       "      <td>123.393012</td>\n",
       "      <td>137.442433</td>\n",
       "    </tr>\n",
       "  </tbody>\n",
       "</table>\n",
       "<p>82447326 rows × 7 columns</p>\n",
       "</div>"
      ],
      "text/plain": [
       "          ts_ind        hour       variable     value       TABLE        mean  \\\n",
       "0          10223  467.816667           Text         1  noteevents    1.000000   \n",
       "1          18407   28.016667           Text         1  noteevents    1.000000   \n",
       "2          40300  155.166667           Text         1  noteevents    1.000000   \n",
       "3          23747   52.383333           Text         1  noteevents    1.000000   \n",
       "4           2357   73.133333           Text         1  noteevents    1.000000   \n",
       "...          ...         ...            ...       ...         ...         ...   \n",
       "82886223   57281   20.400000            MBP  0.195381       chart   78.552377   \n",
       "82886224   57281   20.400000  O2 Saturation -0.678068       chart   96.820961   \n",
       "82886225   57281   20.400000             RR  0.179866       chart   26.278501   \n",
       "82886226   57281   20.400000            SBP -0.404061       chart  120.239648   \n",
       "82886227   57281   20.400000          Urine  -0.24296      output  123.393012   \n",
       "\n",
       "                 std  \n",
       "0           1.000000  \n",
       "1           1.000000  \n",
       "2           1.000000  \n",
       "3           1.000000  \n",
       "4           1.000000  \n",
       "...              ...  \n",
       "82886223   17.645628  \n",
       "82886224    4.160290  \n",
       "82886225   15.130729  \n",
       "82886226   25.341836  \n",
       "82886227  137.442433  \n",
       "\n",
       "[82447326 rows x 7 columns]"
      ]
     },
     "execution_count": 9,
     "metadata": {},
     "output_type": "execute_result"
    }
   ],
   "source": [
    "data.loc[data['variable'] == 'Text', 'value'] = 1\n",
    "data"
   ]
  },
  {
   "cell_type": "code",
   "execution_count": 10,
   "metadata": {
    "tags": []
   },
   "outputs": [],
   "source": [
    "pred_window = 2 # hours\n",
    "obs_windows = range(20, 124, 4)\n",
    "# Remove test patients.\n",
    "data = data.merge(oc[['ts_ind', 'SUBJECT_ID']], on='ts_ind', how='left')\n",
    "test_sub = oc.loc[oc.ts_ind.isin(test_ind)].SUBJECT_ID.unique()\n",
    "data = data.loc[~data.SUBJECT_ID.isin(test_sub)]\n",
    "oc = oc.loc[~oc.SUBJECT_ID.isin(test_sub)]\n",
    "data.drop(columns=['SUBJECT_ID', 'TABLE'], inplace=True)\n",
    "# Fix age.\n",
    "data.loc[(data.variable=='Age')&(data.value>200), 'value'] = 91.4\n",
    "# data[data.variable=='Age'][data.value>200]['value'] = 91.4"
   ]
  },
  {
   "cell_type": "code",
   "execution_count": 11,
   "metadata": {
    "tags": []
   },
   "outputs": [
    {
     "name": "stderr",
     "output_type": "stream",
     "text": [
      "91626it [00:00, 785790.40it/s]\n",
      "100%|██████████| 26/26 [05:05<00:00, 11.74s/it]\n"
     ]
    }
   ],
   "source": [
    "# Get static data with mean fill and missingness indicator.\n",
    "static_varis = ['Age', 'Gender']\n",
    "ii = data.variable.isin(static_varis)\n",
    "static_data = data.loc[ii]\n",
    "data = data.loc[~ii]\n",
    "def inv_list(l, start=0):\n",
    "    d = {}\n",
    "    for i in range(len(l)):\n",
    "        d[l[i]] = i+start\n",
    "    return d\n",
    "static_var_to_ind = inv_list(static_varis)\n",
    "D = len(static_varis)\n",
    "N = data.ts_ind.max()+1\n",
    "demo = np.zeros((N, D))\n",
    "for row in tqdm(static_data.itertuples()):\n",
    "    demo[row.ts_ind, static_var_to_ind[row.variable]] = row.value\n",
    "# Normalize static data.\n",
    "means = demo.mean(axis=0, keepdims=True)\n",
    "stds = demo.std(axis=0, keepdims=True)\n",
    "stds = (stds==0)*1 + (stds!=0)*stds\n",
    "demo = (demo-means)/stds\n",
    "# Get variable indices.\n",
    "varis = sorted(list(set(data.variable)))\n",
    "V = len(varis)\n",
    "var_to_ind = inv_list(varis, start=1)\n",
    "data['vind'] = data.variable.map(var_to_ind)\n",
    "data = data[['ts_ind', 'vind', 'hour', 'value']].sort_values(by=['ts_ind', 'vind', 'hour'])\n",
    "# Find max_len.\n",
    "fore_max_len = 880\n",
    "# Get forecast inputs and outputs.\n",
    "fore_times_ip = []\n",
    "fore_values_ip = []\n",
    "fore_varis_ip = []\n",
    "fore_op = []\n",
    "fore_inds = []\n",
    "def f(x):\n",
    "    mask = [0 for i in range(V)]\n",
    "    values = [0 for i in range(V)]\n",
    "    for vv in x:\n",
    "        v = int(vv[0])-1\n",
    "        mask[v] = 1\n",
    "        values[v] = vv[1]\n",
    "    return values+mask\n",
    "def pad(x):\n",
    "    return x+[0]*(fore_max_len-len(x))\n",
    "for w in tqdm(obs_windows):\n",
    "    pred_data = data.loc[(data.hour>=w)&(data.hour<=w+pred_window)]\n",
    "    pred_data = pred_data.groupby(['ts_ind', 'vind']).agg({'value':'first'}).reset_index()\n",
    "    pred_data['vind_value'] = pred_data[['vind', 'value']].values.tolist()\n",
    "    pred_data = pred_data.groupby('ts_ind').agg({'vind_value':list}).reset_index()\n",
    "    pred_data['vind_value'] = pred_data['vind_value'].apply(f)    \n",
    "    obs_data = data.loc[(data.hour<w)&(data.hour>=w-24)]\n",
    "    obs_data = obs_data.loc[obs_data.ts_ind.isin(pred_data.ts_ind)]\n",
    "    obs_data = obs_data.groupby('ts_ind').head(fore_max_len)\n",
    "    obs_data = obs_data.groupby('ts_ind').agg({'vind':list, 'hour':list, 'value':list}).reset_index()\n",
    "    obs_data = obs_data.merge(pred_data, on='ts_ind')\n",
    "    for col in ['vind', 'hour', 'value']:\n",
    "        obs_data[col] = obs_data[col].apply(pad)\n",
    "    fore_op.append(np.array(list(obs_data.vind_value)))\n",
    "    fore_inds.append(np.array(list(obs_data.ts_ind)))\n",
    "    fore_times_ip.append(np.array(list(obs_data.hour)))\n",
    "    fore_values_ip.append(np.array(list(obs_data.value)))\n",
    "    fore_varis_ip.append(np.array(list(obs_data.vind)))\n",
    "del data\n",
    "fore_times_ip = np.concatenate(fore_times_ip, axis=0)\n",
    "fore_values_ip = np.concatenate(fore_values_ip, axis=0)\n",
    "fore_varis_ip = np.concatenate(fore_varis_ip, axis=0)\n",
    "fore_op = np.concatenate(fore_op, axis=0)\n",
    "fore_inds = np.concatenate(fore_inds, axis=0)\n",
    "fore_demo = demo[fore_inds]\n",
    "# Get train and valid ts_ind for forecast task.\n",
    "train_sub = oc.loc[oc.ts_ind.isin(train_ind)].SUBJECT_ID.unique()\n",
    "valid_sub = oc.loc[oc.ts_ind.isin(valid_ind)].SUBJECT_ID.unique()\n",
    "rem_sub = oc.loc[~oc.SUBJECT_ID.isin(np.concatenate((train_ind, valid_ind)))].SUBJECT_ID.unique()\n",
    "bp = int(0.8*len(rem_sub))\n",
    "train_sub = np.concatenate((train_sub, rem_sub[:bp]))\n",
    "valid_sub = np.concatenate((valid_sub, rem_sub[bp:]))\n",
    "train_ind = oc.loc[oc.SUBJECT_ID.isin(train_sub)].ts_ind.unique() # Add remaining ts_ind s of train subjects.\n",
    "valid_ind = oc.loc[oc.SUBJECT_ID.isin(valid_sub)].ts_ind.unique() # Add remaining ts_ind s of train subjects.\n",
    "# Generate 3 sets of inputs and outputs.\n",
    "train_ind = np.argwhere(np.in1d(fore_inds, train_ind)).flatten()\n",
    "valid_ind = np.argwhere(np.in1d(fore_inds, valid_ind)).flatten()\n",
    "fore_train_ip = [ip[train_ind] for ip in [fore_demo, fore_times_ip, fore_values_ip, fore_varis_ip]]\n",
    "fore_valid_ip = [ip[valid_ind] for ip in [fore_demo, fore_times_ip, fore_values_ip, fore_varis_ip]]\n",
    "del fore_times_ip, fore_values_ip, fore_varis_ip, demo, fore_demo\n",
    "fore_train_op = fore_op[train_ind]\n",
    "fore_valid_op = fore_op[valid_ind]\n",
    "del fore_op"
   ]
  },
  {
   "cell_type": "code",
   "execution_count": null,
   "metadata": {},
   "outputs": [],
   "source": [
    "def get_res(y_true, y_pred):\n",
    "    precision, recall, thresholds = precision_recall_curve(y_true, y_pred)\n",
    "    pr_auc = auc(recall, precision)\n",
    "    minrp = np.minimum(precision, recall).max()\n",
    "    roc_auc = roc_auc_score(y_true, y_pred)\n",
    "    return [roc_auc, pr_auc, minrp]\n",
    "\n",
    "def forecast_loss(y_true, y_pred):\n",
    "    return K.sum(y_true[:,V:]*(y_true[:,:V]-y_pred)**2, axis=-1)\n",
    "\n",
    "def get_min_loss(weight):\n",
    "    def min_loss(y_true, y_pred):\n",
    "        return weight*y_pred\n",
    "    return min_loss\n",
    "\n",
    "class CustomCallback(Callback):\n",
    "    def __init__(self, validation_data, batch_size):\n",
    "        self.val_x, self.val_y = validation_data\n",
    "        self.batch_size = batch_size\n",
    "        super(Callback, self).__init__()\n",
    "\n",
    "    def on_epoch_end(self, epoch, logs={}):\n",
    "        y_pred = self.model.predict(self.val_x, verbose=0, batch_size=self.batch_size)\n",
    "        if type(y_pred)==type([]):\n",
    "            y_pred = y_pred[0]\n",
    "        precision, recall, thresholds = precision_recall_curve(self.val_y, y_pred)\n",
    "        pr_auc = auc(recall, precision)\n",
    "        roc_auc = roc_auc_score(self.val_y, y_pred)\n",
    "        logs['custom_metric'] = pr_auc + roc_auc\n",
    "        print ('val_aucs:', pr_auc, roc_auc)"
   ]
  },
  {
   "cell_type": "code",
   "execution_count": 15,
   "metadata": {
    "tags": []
   },
   "outputs": [],
   "source": [
    "import tensorflow as tf\n",
    "import numpy as np\n",
    "import tensorflow.keras.backend as K\n",
    "from tensorflow.keras.layers import Embedding, Activation, Dropout, Softmax, Layer, InputSpec, Input, Dense, Lambda, TimeDistributed, Concatenate, Add\n",
    "from tensorflow.keras import initializers, regularizers, constraints, Model\n",
    "from tensorflow.python.keras.utils import tf_utils\n",
    "from tensorflow.python.ops import array_ops\n",
    "from tensorflow import nn\n",
    "\n",
    "    \n",
    "class CVE(Layer):\n",
    "    def __init__(self, hid_units, output_dim):\n",
    "        self.hid_units = hid_units\n",
    "        self.output_dim = output_dim\n",
    "        super(CVE, self).__init__()\n",
    "        \n",
    "    def build(self, input_shape): \n",
    "        self.W1 = self.add_weight(name='CVE_W1',\n",
    "                            shape=(1, self.hid_units),\n",
    "                            initializer='glorot_uniform',\n",
    "                            trainable=True)\n",
    "        self.b1 = self.add_weight(name='CVE_b1',\n",
    "                            shape=(self.hid_units,),\n",
    "                            initializer='zeros',\n",
    "                            trainable=True)\n",
    "        self.W2 = self.add_weight(name='CVE_W2',\n",
    "                            shape=(self.hid_units, self.output_dim),\n",
    "                            initializer='glorot_uniform',\n",
    "                            trainable=True)\n",
    "        super(CVE, self).build(input_shape)\n",
    "        \n",
    "    def call(self, x):\n",
    "        x = K.expand_dims(x, axis=-1)\n",
    "        x = K.dot(K.tanh(K.bias_add(K.dot(x, self.W1), self.b1)), self.W2)\n",
    "        return x\n",
    "        \n",
    "    def compute_output_shape(self, input_shape):\n",
    "        return input_shape + (self.output_dim,)\n",
    "    \n",
    "    \n",
    "class Attention(Layer):\n",
    "    \n",
    "    def __init__(self, hid_dim):\n",
    "        self.hid_dim = hid_dim\n",
    "        super(Attention, self).__init__()\n",
    "\n",
    "    def build(self, input_shape):\n",
    "        d = input_shape.as_list()[-1]\n",
    "        self.W = self.add_weight(shape=(d, self.hid_dim), name='Att_W',\n",
    "                                 initializer='glorot_uniform',\n",
    "                                 trainable=True)\n",
    "        self.b = self.add_weight(shape=(self.hid_dim,), name='Att_b',\n",
    "                                 initializer='zeros',\n",
    "                                 trainable=True)\n",
    "        self.u = self.add_weight(shape=(self.hid_dim,1), name='Att_u',\n",
    "                                 initializer='glorot_uniform',\n",
    "                                 trainable=True)\n",
    "        super(Attention, self).build(input_shape)\n",
    "        \n",
    "    def call(self, x, mask, mask_value=-1e30):\n",
    "        attn_weights = K.dot(K.tanh(K.bias_add(K.dot(x,self.W), self.b)), self.u)\n",
    "        mask = K.expand_dims(mask, axis=-1)\n",
    "        attn_weights = mask*attn_weights + (1-mask)*mask_value\n",
    "        attn_weights = K.softmax(attn_weights, axis=-2)\n",
    "        return attn_weights\n",
    "        \n",
    "    def compute_output_shape(self, input_shape):\n",
    "        return input_shape[:-1] + (1,)\n",
    "    \n",
    "    \n",
    "class Transformer(Layer):\n",
    "    \n",
    "    def __init__(self, N=2, h=8, dk=None, dv=None, dff=None, dropout=0):\n",
    "        self.N, self.h, self.dk, self.dv, self.dff, self.dropout = N, h, dk, dv, dff, dropout\n",
    "        self.epsilon = K.epsilon() * K.epsilon()\n",
    "        super(Transformer, self).__init__()\n",
    "\n",
    "    def build(self, input_shape):\n",
    "        d = input_shape.as_list()[-1]\n",
    "        if self.dk==None:\n",
    "            self.dk = d//self.h\n",
    "        if self.dv==None:\n",
    "            self.dv = d//self.h\n",
    "        if self.dff==None:\n",
    "            self.dff = 2*d\n",
    "        self.Wq = self.add_weight(shape=(self.N, self.h, d, self.dk), name='Wq',\n",
    "                                 initializer='glorot_uniform', trainable=True)\n",
    "        self.Wk = self.add_weight(shape=(self.N, self.h, d, self.dk), name='Wk',\n",
    "                                 initializer='glorot_uniform', trainable=True)\n",
    "        self.Wv = self.add_weight(shape=(self.N, self.h, d, self.dv), name='Wv',\n",
    "                                 initializer='glorot_uniform', trainable=True)\n",
    "        self.Wo = self.add_weight(shape=(self.N, self.dv*self.h, d), name='Wo',\n",
    "                                 initializer='glorot_uniform', trainable=True)\n",
    "        self.W1 = self.add_weight(shape=(self.N, d, self.dff), name='W1',\n",
    "                                 initializer='glorot_uniform', trainable=True)\n",
    "        self.b1 = self.add_weight(shape=(self.N, self.dff), name='b1',\n",
    "                                 initializer='zeros', trainable=True)\n",
    "        self.W2 = self.add_weight(shape=(self.N, self.dff, d), name='W2',\n",
    "                                 initializer='glorot_uniform', trainable=True)\n",
    "        self.b2 = self.add_weight(shape=(self.N, d), name='b2',\n",
    "                                 initializer='zeros', trainable=True)\n",
    "        self.gamma = self.add_weight(shape=(2*self.N,), name='gamma',\n",
    "                                 initializer='ones', trainable=True)\n",
    "        self.beta = self.add_weight(shape=(2*self.N,), name='beta',\n",
    "                                 initializer='zeros', trainable=True)\n",
    "        super(Transformer, self).build(input_shape)\n",
    "        \n",
    "    def call(self, x, mask, mask_value=-1e-30):\n",
    "        mask = K.expand_dims(mask, axis=-2)\n",
    "        for i in range(self.N):\n",
    "            # MHA\n",
    "            mha_ops = []\n",
    "            for j in range(self.h):\n",
    "                q = K.dot(x, self.Wq[i,j,:,:])\n",
    "                k = K.permute_dimensions(K.dot(x, self.Wk[i,j,:,:]), (0,2,1))\n",
    "                v = K.dot(x, self.Wv[i,j,:,:])\n",
    "                A = K.batch_dot(q,k)\n",
    "                # Mask unobserved steps.\n",
    "                A = mask*A + (1-mask)*mask_value\n",
    "                # Mask for attention dropout.\n",
    "                def dropped_A():\n",
    "                    dp_mask = K.cast((K.random_uniform(shape=array_ops.shape(A))>=self.dropout), K.floatx())\n",
    "                    return A*dp_mask + (1-dp_mask)*mask_value\n",
    "                A = sc.smart_cond(K.learning_phase(), dropped_A, lambda: array_ops.identity(A))\n",
    "                A = K.softmax(A, axis=-1)\n",
    "                mha_ops.append(K.batch_dot(A,v))\n",
    "            conc = K.concatenate(mha_ops, axis=-1)\n",
    "            proj = K.dot(conc, self.Wo[i,:,:])\n",
    "            # Dropout.\n",
    "            proj = sc.smart_cond(K.learning_phase(), lambda: array_ops.identity(nn.dropout(proj, rate=self.dropout)),\\\n",
    "                                       lambda: array_ops.identity(proj))\n",
    "            # Add & LN\n",
    "            x = x+proj\n",
    "            mean = K.mean(x, axis=-1, keepdims=True)\n",
    "            variance = K.mean(K.square(x - mean), axis=-1, keepdims=True)\n",
    "            std = K.sqrt(variance + self.epsilon)\n",
    "            x = (x - mean) / std\n",
    "            x = x*self.gamma[2*i] + self.beta[2*i]\n",
    "            # FFN\n",
    "            ffn_op = K.bias_add(K.dot(K.relu(K.bias_add(K.dot(x, self.W1[i,:,:]), self.b1[i,:])), \n",
    "                           self.W2[i,:,:]), self.b2[i,:,])\n",
    "            # Dropout.\n",
    "            ffn_op = sc.smart_cond(K.learning_phase(), lambda: array_ops.identity(nn.dropout(ffn_op, rate=self.dropout)),\\\n",
    "                                       lambda: array_ops.identity(ffn_op))\n",
    "            # Add & LN\n",
    "            x = x+ffn_op\n",
    "            mean = K.mean(x, axis=-1, keepdims=True)\n",
    "            variance = K.mean(K.square(x - mean), axis=-1, keepdims=True)\n",
    "            std = K.sqrt(variance + self.epsilon)\n",
    "            x = (x - mean) / std\n",
    "            x = x*self.gamma[2*i+1] + self.beta[2*i+1]            \n",
    "        return x\n",
    "        \n",
    "    def compute_output_shape(self, input_shape):\n",
    "        return input_shape\n",
    "\n",
    "\n",
    "def build_strats(D, max_len, V, d, N, he, dropout, forecast=False):\n",
    "    demo = Input(shape=(D,))\n",
    "    demo_enc = Dense(2*d, activation='tanh')(demo)\n",
    "    demo_enc = Dense(d, activation='tanh')(demo_enc)\n",
    "    varis = Input(shape=(max_len,))\n",
    "    values = Input(shape=(max_len,))\n",
    "    times = Input(shape=(max_len,))\n",
    "    varis_emb = Embedding(V+1, d)(varis)\n",
    "    cve_units = int(np.sqrt(d))\n",
    "    values_emb = CVE(cve_units, d)(values)\n",
    "    times_emb = CVE(cve_units, d)(times)\n",
    "    comb_emb = Add()([varis_emb, values_emb, times_emb]) # b, L, d\n",
    "#     demo_enc = Lambda(lambda x:K.expand_dims(x, axis=-2))(demo_enc) # b, 1, d\n",
    "#     comb_emb = Concatenate(axis=-2)([demo_enc, comb_emb]) # b, L+1, d\n",
    "    mask = Lambda(lambda x:K.clip(x,0,1))(varis) # b, L\n",
    "#     mask = Lambda(lambda x:K.concatenate((K.ones_like(x)[:,0:1], x), axis=-1))(mask) # b, L+1\n",
    "    cont_emb = Transformer(N, he, dk=None, dv=None, dff=None, dropout=dropout)(comb_emb, mask=mask)\n",
    "    attn_weights = Attention(2*d)(cont_emb, mask=mask)\n",
    "    fused_emb = Lambda(lambda x:K.sum(x[0]*x[1], axis=-2))([cont_emb, attn_weights])\n",
    "    conc = Concatenate(axis=-1)([fused_emb, demo_enc])\n",
    "    fore_op = Dense(V)(conc)\n",
    "    op = Dense(1, activation='sigmoid')(fore_op)\n",
    "    model = Model([demo, times, values, varis], op)\n",
    "    if forecast:\n",
    "        fore_model = Model([demo, times, values, varis], fore_op)\n",
    "        return [model, fore_model]\n",
    "    return model\n",
    "\n",
    "# To tune:\n",
    "# 1. Transformer parameters. (N, h, dropout)\n",
    "# 2. Normalization"
   ]
  },
  {
   "cell_type": "code",
   "execution_count": 18,
   "metadata": {
    "tags": []
   },
   "outputs": [
    {
     "name": "stdout",
     "output_type": "stream",
     "text": [
      "Model: \"model_5\"\n",
      "__________________________________________________________________________________________________\n",
      " Layer (type)                   Output Shape         Param #     Connected to                     \n",
      "==================================================================================================\n",
      " input_14 (InputLayer)          [(None, 880)]        0           []                               \n",
      "                                                                                                  \n",
      " input_15 (InputLayer)          [(None, 880)]        0           []                               \n",
      "                                                                                                  \n",
      " input_16 (InputLayer)          [(None, 880)]        0           []                               \n",
      "                                                                                                  \n",
      " embedding_3 (Embedding)        (None, 880, 50)      6750        ['input_14[0][0]']               \n",
      "                                                                                                  \n",
      " cve_6 (CVE)                    (None, 880, 50)      364         ['input_15[0][0]']               \n",
      "                                                                                                  \n",
      " cve_7 (CVE)                    (None, 880, 50)      364         ['input_16[0][0]']               \n",
      "                                                                                                  \n",
      " add_3 (Add)                    (None, 880, 50)      0           ['embedding_3[0][0]',            \n",
      "                                                                  'cve_6[0][0]',                  \n",
      "                                                                  'cve_7[0][0]']                  \n",
      "                                                                                                  \n",
      " lambda_5 (Lambda)              (None, 880)          0           ['input_14[0][0]']               \n",
      "                                                                                                  \n",
      " transformer_3 (Transformer)    (None, 880, 50)      39508       ['add_3[0][0]',                  \n",
      "                                                                  'lambda_5[0][0]']               \n",
      "                                                                                                  \n",
      " input_13 (InputLayer)          [(None, 2)]          0           []                               \n",
      "                                                                                                  \n",
      " attention_2 (Attention)        (None, 880, 1)       5200        ['transformer_3[0][0]',          \n",
      "                                                                  'lambda_5[0][0]']               \n",
      "                                                                                                  \n",
      " dense_10 (Dense)               (None, 100)          300         ['input_13[0][0]']               \n",
      "                                                                                                  \n",
      " lambda_6 (Lambda)              (None, 50)           0           ['transformer_3[0][0]',          \n",
      "                                                                  'attention_2[0][0]']            \n",
      "                                                                                                  \n",
      " dense_11 (Dense)               (None, 50)           5050        ['dense_10[0][0]']               \n",
      "                                                                                                  \n",
      " concatenate_2 (Concatenate)    (None, 100)          0           ['lambda_6[0][0]',               \n",
      "                                                                  'dense_11[0][0]']               \n",
      "                                                                                                  \n",
      " dense_12 (Dense)               (None, 134)          13534       ['concatenate_2[0][0]']          \n",
      "                                                                                                  \n",
      "==================================================================================================\n",
      "Total params: 71,070\n",
      "Trainable params: 71,070\n",
      "Non-trainable params: 0\n",
      "__________________________________________________________________________________________________\n",
      "None\n"
     ]
    },
    {
     "name": "stderr",
     "output_type": "stream",
     "text": [
      "0.279997: 100%|██████████| 3200/3200 [02:36<00:00, 20.43it/s]\n"
     ]
    },
    {
     "name": "stdout",
     "output_type": "stream",
     "text": [
      "4276/4276 [==============================] - 69s 16ms/step - loss: 7.5740\n",
      "Epoch 0 loss 8.957182633876801 val loss 7.574024677276611\n",
      "[8.957182633876801]\n",
      "[7.574024677276611]\n"
     ]
    },
    {
     "name": "stderr",
     "output_type": "stream",
     "text": [
      "0.232706: 100%|██████████| 3200/3200 [02:30<00:00, 21.24it/s]\n"
     ]
    },
    {
     "name": "stdout",
     "output_type": "stream",
     "text": [
      "4276/4276 [==============================] - 69s 16ms/step - loss: 6.8715\n",
      "Epoch 1 loss 7.444346153885126 val loss 6.8714728355407715\n",
      "[8.957182633876801, 7.444346153885126]\n",
      "[7.574024677276611, 6.8714728355407715]\n"
     ]
    },
    {
     "name": "stderr",
     "output_type": "stream",
     "text": [
      "0.210005: 100%|██████████| 3200/3200 [02:30<00:00, 21.33it/s]\n"
     ]
    },
    {
     "name": "stdout",
     "output_type": "stream",
     "text": [
      "4276/4276 [==============================] - 69s 16ms/step - loss: 6.6017\n",
      "Epoch 2 loss 6.718132002651691 val loss 6.6017351150512695\n",
      "[8.957182633876801, 7.444346153885126, 6.718132002651691]\n",
      "[7.574024677276611, 6.8714728355407715, 6.6017351150512695]\n"
     ]
    },
    {
     "name": "stderr",
     "output_type": "stream",
     "text": [
      "0.206505: 100%|██████████| 3200/3200 [02:30<00:00, 21.29it/s]\n"
     ]
    },
    {
     "name": "stdout",
     "output_type": "stream",
     "text": [
      "4276/4276 [==============================] - 69s 16ms/step - loss: 6.4054\n",
      "Epoch 3 loss 6.606167373768986 val loss 6.405410289764404\n",
      "[8.957182633876801, 7.444346153885126, 6.718132002651691, 6.606167373768986]\n",
      "[7.574024677276611, 6.8714728355407715, 6.6017351150512695, 6.405410289764404]\n"
     ]
    },
    {
     "name": "stderr",
     "output_type": "stream",
     "text": [
      "0.198001: 100%|██████████| 3200/3200 [02:29<00:00, 21.38it/s]\n"
     ]
    },
    {
     "name": "stdout",
     "output_type": "stream",
     "text": [
      "4276/4276 [==============================] - 69s 16ms/step - loss: 6.3083\n",
      "Epoch 4 loss 6.334112568087876 val loss 6.308310508728027\n",
      "[8.957182633876801, 7.444346153885126, 6.718132002651691, 6.606167373768986, 6.334112568087876]\n",
      "[7.574024677276611, 6.8714728355407715, 6.6017351150512695, 6.405410289764404, 6.308310508728027]\n"
     ]
    },
    {
     "name": "stderr",
     "output_type": "stream",
     "text": [
      "0.194515: 100%|██████████| 3200/3200 [02:30<00:00, 21.30it/s]\n"
     ]
    },
    {
     "name": "stdout",
     "output_type": "stream",
     "text": [
      "4276/4276 [==============================] - 69s 16ms/step - loss: 6.0931\n",
      "Epoch 5 loss 6.222601437494159 val loss 6.093061923980713\n",
      "[8.957182633876801, 7.444346153885126, 6.718132002651691, 6.606167373768986, 6.334112568087876, 6.222601437494159]\n",
      "[7.574024677276611, 6.8714728355407715, 6.6017351150512695, 6.405410289764404, 6.308310508728027, 6.093061923980713]\n"
     ]
    },
    {
     "name": "stderr",
     "output_type": "stream",
     "text": [
      "0.190653: 100%|██████████| 3200/3200 [02:29<00:00, 21.38it/s]\n"
     ]
    },
    {
     "name": "stdout",
     "output_type": "stream",
     "text": [
      "4276/4276 [==============================] - 69s 16ms/step - loss: 5.9928\n",
      "Epoch 6 loss 6.099050151444971 val loss 5.992845058441162\n",
      "[8.957182633876801, 7.444346153885126, 6.718132002651691, 6.606167373768986, 6.334112568087876, 6.222601437494159, 6.099050151444971]\n",
      "[7.574024677276611, 6.8714728355407715, 6.6017351150512695, 6.405410289764404, 6.308310508728027, 6.093061923980713, 5.992845058441162]\n"
     ]
    },
    {
     "name": "stderr",
     "output_type": "stream",
     "text": [
      "0.187844: 100%|██████████| 3200/3200 [02:31<00:00, 21.08it/s]\n"
     ]
    },
    {
     "name": "stdout",
     "output_type": "stream",
     "text": [
      "4276/4276 [==============================] - 69s 16ms/step - loss: 6.1076\n",
      "Epoch 7 loss 6.009203886091709 val loss 6.107646465301514\n",
      "[8.957182633876801, 7.444346153885126, 6.718132002651691, 6.606167373768986, 6.334112568087876, 6.222601437494159, 6.099050151444971, 6.009203886091709]\n",
      "[7.574024677276611, 6.8714728355407715, 6.6017351150512695, 6.405410289764404, 6.308310508728027, 6.093061923980713, 5.992845058441162, 6.107646465301514]\n"
     ]
    },
    {
     "name": "stderr",
     "output_type": "stream",
     "text": [
      "0.180394: 100%|██████████| 3200/3200 [02:30<00:00, 21.21it/s]\n"
     ]
    },
    {
     "name": "stdout",
     "output_type": "stream",
     "text": [
      "4276/4276 [==============================] - 69s 16ms/step - loss: 5.9393\n",
      "Epoch 8 loss 5.77085709810257 val loss 5.939321994781494\n",
      "[8.957182633876801, 7.444346153885126, 6.718132002651691, 6.606167373768986, 6.334112568087876, 6.222601437494159, 6.099050151444971, 6.009203886091709, 5.77085709810257]\n",
      "[7.574024677276611, 6.8714728355407715, 6.6017351150512695, 6.405410289764404, 6.308310508728027, 6.093061923980713, 5.992845058441162, 6.107646465301514, 5.939321994781494]\n"
     ]
    },
    {
     "name": "stderr",
     "output_type": "stream",
     "text": [
      "0.185988: 100%|██████████| 3200/3200 [02:30<00:00, 21.28it/s]\n"
     ]
    },
    {
     "name": "stdout",
     "output_type": "stream",
     "text": [
      "4276/4276 [==============================] - 69s 16ms/step - loss: 5.7845\n",
      "Epoch 9 loss 5.949807133153081 val loss 5.784503936767578\n",
      "[8.957182633876801, 7.444346153885126, 6.718132002651691, 6.606167373768986, 6.334112568087876, 6.222601437494159, 6.099050151444971, 6.009203886091709, 5.77085709810257, 5.949807133153081]\n",
      "[7.574024677276611, 6.8714728355407715, 6.6017351150512695, 6.405410289764404, 6.308310508728027, 6.093061923980713, 5.992845058441162, 6.107646465301514, 5.939321994781494, 5.784503936767578]\n"
     ]
    },
    {
     "name": "stderr",
     "output_type": "stream",
     "text": [
      "0.181404: 100%|██████████| 3200/3200 [02:30<00:00, 21.27it/s]\n"
     ]
    },
    {
     "name": "stdout",
     "output_type": "stream",
     "text": [
      "4276/4276 [==============================] - 69s 16ms/step - loss: 5.8121\n",
      "Epoch 10 loss 5.8031801933795215 val loss 5.81207275390625\n",
      "[8.957182633876801, 7.444346153885126, 6.718132002651691, 6.606167373768986, 6.334112568087876, 6.222601437494159, 6.099050151444971, 6.009203886091709, 5.77085709810257, 5.949807133153081, 5.8031801933795215]\n",
      "[7.574024677276611, 6.8714728355407715, 6.6017351150512695, 6.405410289764404, 6.308310508728027, 6.093061923980713, 5.992845058441162, 6.107646465301514, 5.939321994781494, 5.784503936767578, 5.81207275390625]\n"
     ]
    },
    {
     "name": "stderr",
     "output_type": "stream",
     "text": [
      "0.176166: 100%|██████████| 3200/3200 [02:30<00:00, 21.31it/s]\n"
     ]
    },
    {
     "name": "stdout",
     "output_type": "stream",
     "text": [
      "4276/4276 [==============================] - 69s 16ms/step - loss: 5.7781\n",
      "Epoch 11 loss 5.635595956072211 val loss 5.778130054473877\n",
      "[8.957182633876801, 7.444346153885126, 6.718132002651691, 6.606167373768986, 6.334112568087876, 6.222601437494159, 6.099050151444971, 6.009203886091709, 5.77085709810257, 5.949807133153081, 5.8031801933795215, 5.635595956072211]\n",
      "[7.574024677276611, 6.8714728355407715, 6.6017351150512695, 6.405410289764404, 6.308310508728027, 6.093061923980713, 5.992845058441162, 6.107646465301514, 5.939321994781494, 5.784503936767578, 5.81207275390625, 5.778130054473877]\n"
     ]
    },
    {
     "name": "stderr",
     "output_type": "stream",
     "text": [
      "0.181265: 100%|██████████| 3200/3200 [02:30<00:00, 21.32it/s]\n"
     ]
    },
    {
     "name": "stdout",
     "output_type": "stream",
     "text": [
      "4276/4276 [==============================] - 69s 16ms/step - loss: 5.7172\n",
      "Epoch 12 loss 5.798708248250186 val loss 5.717212677001953\n",
      "[8.957182633876801, 7.444346153885126, 6.718132002651691, 6.606167373768986, 6.334112568087876, 6.222601437494159, 6.099050151444971, 6.009203886091709, 5.77085709810257, 5.949807133153081, 5.8031801933795215, 5.635595956072211, 5.798708248250186]\n",
      "[7.574024677276611, 6.8714728355407715, 6.6017351150512695, 6.405410289764404, 6.308310508728027, 6.093061923980713, 5.992845058441162, 6.107646465301514, 5.939321994781494, 5.784503936767578, 5.81207275390625, 5.778130054473877, 5.717212677001953]\n"
     ]
    },
    {
     "name": "stderr",
     "output_type": "stream",
     "text": [
      "0.177762: 100%|██████████| 3200/3200 [02:30<00:00, 21.27it/s]\n"
     ]
    },
    {
     "name": "stdout",
     "output_type": "stream",
     "text": [
      "4276/4276 [==============================] - 69s 16ms/step - loss: 5.6572\n",
      "Epoch 13 loss 5.686658313274384 val loss 5.657232284545898\n",
      "[8.957182633876801, 7.444346153885126, 6.718132002651691, 6.606167373768986, 6.334112568087876, 6.222601437494159, 6.099050151444971, 6.009203886091709, 5.77085709810257, 5.949807133153081, 5.8031801933795215, 5.635595956072211, 5.798708248250186, 5.686658313274384]\n",
      "[7.574024677276611, 6.8714728355407715, 6.6017351150512695, 6.405410289764404, 6.308310508728027, 6.093061923980713, 5.992845058441162, 6.107646465301514, 5.939321994781494, 5.784503936767578, 5.81207275390625, 5.778130054473877, 5.717212677001953, 5.657232284545898]\n"
     ]
    },
    {
     "name": "stderr",
     "output_type": "stream",
     "text": [
      "0.175607: 100%|██████████| 3200/3200 [02:36<00:00, 20.41it/s]\n"
     ]
    },
    {
     "name": "stdout",
     "output_type": "stream",
     "text": [
      "4276/4276 [==============================] - 70s 16ms/step - loss: 5.5747\n",
      "Epoch 14 loss 5.617710028290748 val loss 5.574744701385498\n",
      "[8.957182633876801, 7.444346153885126, 6.718132002651691, 6.606167373768986, 6.334112568087876, 6.222601437494159, 6.099050151444971, 6.009203886091709, 5.77085709810257, 5.949807133153081, 5.8031801933795215, 5.635595956072211, 5.798708248250186, 5.686658313274384, 5.617710028290748]\n",
      "[7.574024677276611, 6.8714728355407715, 6.6017351150512695, 6.405410289764404, 6.308310508728027, 6.093061923980713, 5.992845058441162, 6.107646465301514, 5.939321994781494, 5.784503936767578, 5.81207275390625, 5.778130054473877, 5.717212677001953, 5.657232284545898, 5.574744701385498]\n"
     ]
    },
    {
     "name": "stderr",
     "output_type": "stream",
     "text": [
      "0.173384: 100%|██████████| 3200/3200 [02:32<00:00, 20.94it/s]\n"
     ]
    },
    {
     "name": "stdout",
     "output_type": "stream",
     "text": [
      "4276/4276 [==============================] - 69s 16ms/step - loss: 5.6004\n",
      "Epoch 15 loss 5.546603025831282 val loss 5.6003875732421875\n",
      "[8.957182633876801, 7.444346153885126, 6.718132002651691, 6.606167373768986, 6.334112568087876, 6.222601437494159, 6.099050151444971, 6.009203886091709, 5.77085709810257, 5.949807133153081, 5.8031801933795215, 5.635595956072211, 5.798708248250186, 5.686658313274384, 5.617710028290748, 5.546603025831282]\n",
      "[7.574024677276611, 6.8714728355407715, 6.6017351150512695, 6.405410289764404, 6.308310508728027, 6.093061923980713, 5.992845058441162, 6.107646465301514, 5.939321994781494, 5.784503936767578, 5.81207275390625, 5.778130054473877, 5.717212677001953, 5.657232284545898, 5.574744701385498, 5.6003875732421875]\n"
     ]
    },
    {
     "name": "stderr",
     "output_type": "stream",
     "text": [
      "0.170175: 100%|██████████| 3200/3200 [02:32<00:00, 21.05it/s]\n"
     ]
    },
    {
     "name": "stdout",
     "output_type": "stream",
     "text": [
      "4276/4276 [==============================] - 69s 16ms/step - loss: 5.6967\n",
      "Epoch 16 loss 5.4439452893659475 val loss 5.6966986656188965\n",
      "[8.957182633876801, 7.444346153885126, 6.718132002651691, 6.606167373768986, 6.334112568087876, 6.222601437494159, 6.099050151444971, 6.009203886091709, 5.77085709810257, 5.949807133153081, 5.8031801933795215, 5.635595956072211, 5.798708248250186, 5.686658313274384, 5.617710028290748, 5.546603025831282, 5.4439452893659475]\n",
      "[7.574024677276611, 6.8714728355407715, 6.6017351150512695, 6.405410289764404, 6.308310508728027, 6.093061923980713, 5.992845058441162, 6.107646465301514, 5.939321994781494, 5.784503936767578, 5.81207275390625, 5.778130054473877, 5.717212677001953, 5.657232284545898, 5.574744701385498, 5.6003875732421875, 5.6966986656188965]\n"
     ]
    },
    {
     "name": "stderr",
     "output_type": "stream",
     "text": [
      "0.174090: 100%|██████████| 3200/3200 [02:32<00:00, 21.02it/s]\n"
     ]
    },
    {
     "name": "stdout",
     "output_type": "stream",
     "text": [
      "4276/4276 [==============================] - 69s 16ms/step - loss: 5.5241\n",
      "Epoch 17 loss 5.569199087247252 val loss 5.5241217613220215\n",
      "[8.957182633876801, 7.444346153885126, 6.718132002651691, 6.606167373768986, 6.334112568087876, 6.222601437494159, 6.099050151444971, 6.009203886091709, 5.77085709810257, 5.949807133153081, 5.8031801933795215, 5.635595956072211, 5.798708248250186, 5.686658313274384, 5.617710028290748, 5.546603025831282, 5.4439452893659475, 5.569199087247252]\n",
      "[7.574024677276611, 6.8714728355407715, 6.6017351150512695, 6.405410289764404, 6.308310508728027, 6.093061923980713, 5.992845058441162, 6.107646465301514, 5.939321994781494, 5.784503936767578, 5.81207275390625, 5.778130054473877, 5.717212677001953, 5.657232284545898, 5.574744701385498, 5.6003875732421875, 5.6966986656188965, 5.5241217613220215]\n"
     ]
    },
    {
     "name": "stderr",
     "output_type": "stream",
     "text": [
      "0.170060: 100%|██████████| 3200/3200 [02:32<00:00, 21.00it/s]\n"
     ]
    },
    {
     "name": "stdout",
     "output_type": "stream",
     "text": [
      "4276/4276 [==============================] - 69s 16ms/step - loss: 5.5555\n",
      "Epoch 18 loss 5.440258623324334 val loss 5.555541515350342\n",
      "[8.957182633876801, 7.444346153885126, 6.718132002651691, 6.606167373768986, 6.334112568087876, 6.222601437494159, 6.099050151444971, 6.009203886091709, 5.77085709810257, 5.949807133153081, 5.8031801933795215, 5.635595956072211, 5.798708248250186, 5.686658313274384, 5.617710028290748, 5.546603025831282, 5.4439452893659475, 5.569199087247252, 5.440258623324334]\n",
      "[7.574024677276611, 6.8714728355407715, 6.6017351150512695, 6.405410289764404, 6.308310508728027, 6.093061923980713, 5.992845058441162, 6.107646465301514, 5.939321994781494, 5.784503936767578, 5.81207275390625, 5.778130054473877, 5.717212677001953, 5.657232284545898, 5.574744701385498, 5.6003875732421875, 5.6966986656188965, 5.5241217613220215, 5.555541515350342]\n"
     ]
    },
    {
     "name": "stderr",
     "output_type": "stream",
     "text": [
      "0.176025: 100%|██████████| 3200/3200 [02:32<00:00, 21.03it/s]\n"
     ]
    },
    {
     "name": "stdout",
     "output_type": "stream",
     "text": [
      "4276/4276 [==============================] - 69s 16ms/step - loss: 5.5845\n",
      "Epoch 19 loss 5.6310957011580465 val loss 5.584465503692627\n",
      "[8.957182633876801, 7.444346153885126, 6.718132002651691, 6.606167373768986, 6.334112568087876, 6.222601437494159, 6.099050151444971, 6.009203886091709, 5.77085709810257, 5.949807133153081, 5.8031801933795215, 5.635595956072211, 5.798708248250186, 5.686658313274384, 5.617710028290748, 5.546603025831282, 5.4439452893659475, 5.569199087247252, 5.440258623324334, 5.6310957011580465]\n",
      "[7.574024677276611, 6.8714728355407715, 6.6017351150512695, 6.405410289764404, 6.308310508728027, 6.093061923980713, 5.992845058441162, 6.107646465301514, 5.939321994781494, 5.784503936767578, 5.81207275390625, 5.778130054473877, 5.717212677001953, 5.657232284545898, 5.574744701385498, 5.6003875732421875, 5.6966986656188965, 5.5241217613220215, 5.555541515350342, 5.584465503692627]\n"
     ]
    },
    {
     "name": "stderr",
     "output_type": "stream",
     "text": [
      "0.171052: 100%|██████████| 3200/3200 [02:32<00:00, 21.02it/s]\n"
     ]
    },
    {
     "name": "stdout",
     "output_type": "stream",
     "text": [
      "4276/4276 [==============================] - 69s 16ms/step - loss: 5.4864\n",
      "Epoch 20 loss 5.472006217092275 val loss 5.486431121826172\n",
      "[8.957182633876801, 7.444346153885126, 6.718132002651691, 6.606167373768986, 6.334112568087876, 6.222601437494159, 6.099050151444971, 6.009203886091709, 5.77085709810257, 5.949807133153081, 5.8031801933795215, 5.635595956072211, 5.798708248250186, 5.686658313274384, 5.617710028290748, 5.546603025831282, 5.4439452893659475, 5.569199087247252, 5.440258623324334, 5.6310957011580465, 5.472006217092275]\n",
      "[7.574024677276611, 6.8714728355407715, 6.6017351150512695, 6.405410289764404, 6.308310508728027, 6.093061923980713, 5.992845058441162, 6.107646465301514, 5.939321994781494, 5.784503936767578, 5.81207275390625, 5.778130054473877, 5.717212677001953, 5.657232284545898, 5.574744701385498, 5.6003875732421875, 5.6966986656188965, 5.5241217613220215, 5.555541515350342, 5.584465503692627, 5.486431121826172]\n"
     ]
    },
    {
     "name": "stderr",
     "output_type": "stream",
     "text": [
      "0.169549: 100%|██████████| 3200/3200 [02:32<00:00, 21.04it/s]\n"
     ]
    },
    {
     "name": "stdout",
     "output_type": "stream",
     "text": [
      "4276/4276 [==============================] - 69s 16ms/step - loss: 5.5010\n",
      "Epoch 21 loss 5.4239358650147915 val loss 5.501025199890137\n",
      "[8.957182633876801, 7.444346153885126, 6.718132002651691, 6.606167373768986, 6.334112568087876, 6.222601437494159, 6.099050151444971, 6.009203886091709, 5.77085709810257, 5.949807133153081, 5.8031801933795215, 5.635595956072211, 5.798708248250186, 5.686658313274384, 5.617710028290748, 5.546603025831282, 5.4439452893659475, 5.569199087247252, 5.440258623324334, 5.6310957011580465, 5.472006217092275, 5.4239358650147915]\n",
      "[7.574024677276611, 6.8714728355407715, 6.6017351150512695, 6.405410289764404, 6.308310508728027, 6.093061923980713, 5.992845058441162, 6.107646465301514, 5.939321994781494, 5.784503936767578, 5.81207275390625, 5.778130054473877, 5.717212677001953, 5.657232284545898, 5.574744701385498, 5.6003875732421875, 5.6966986656188965, 5.5241217613220215, 5.555541515350342, 5.584465503692627, 5.486431121826172, 5.501025199890137]\n"
     ]
    },
    {
     "name": "stderr",
     "output_type": "stream",
     "text": [
      "0.169125: 100%|██████████| 3200/3200 [02:33<00:00, 20.90it/s]\n"
     ]
    },
    {
     "name": "stdout",
     "output_type": "stream",
     "text": [
      "4276/4276 [==============================] - 69s 16ms/step - loss: 5.4396\n",
      "Epoch 22 loss 5.410358652472496 val loss 5.439569473266602\n",
      "[8.957182633876801, 7.444346153885126, 6.718132002651691, 6.606167373768986, 6.334112568087876, 6.222601437494159, 6.099050151444971, 6.009203886091709, 5.77085709810257, 5.949807133153081, 5.8031801933795215, 5.635595956072211, 5.798708248250186, 5.686658313274384, 5.617710028290748, 5.546603025831282, 5.4439452893659475, 5.569199087247252, 5.440258623324334, 5.6310957011580465, 5.472006217092275, 5.4239358650147915, 5.410358652472496]\n",
      "[7.574024677276611, 6.8714728355407715, 6.6017351150512695, 6.405410289764404, 6.308310508728027, 6.093061923980713, 5.992845058441162, 6.107646465301514, 5.939321994781494, 5.784503936767578, 5.81207275390625, 5.778130054473877, 5.717212677001953, 5.657232284545898, 5.574744701385498, 5.6003875732421875, 5.6966986656188965, 5.5241217613220215, 5.555541515350342, 5.584465503692627, 5.486431121826172, 5.501025199890137, 5.439569473266602]\n"
     ]
    },
    {
     "name": "stderr",
     "output_type": "stream",
     "text": [
      "0.170585: 100%|██████████| 3200/3200 [02:31<00:00, 21.08it/s]\n"
     ]
    },
    {
     "name": "stdout",
     "output_type": "stream",
     "text": [
      "4276/4276 [==============================] - 74s 17ms/step - loss: 5.7204\n",
      "Epoch 23 loss 5.457051942534744 val loss 5.72035551071167\n",
      "[8.957182633876801, 7.444346153885126, 6.718132002651691, 6.606167373768986, 6.334112568087876, 6.222601437494159, 6.099050151444971, 6.009203886091709, 5.77085709810257, 5.949807133153081, 5.8031801933795215, 5.635595956072211, 5.798708248250186, 5.686658313274384, 5.617710028290748, 5.546603025831282, 5.4439452893659475, 5.569199087247252, 5.440258623324334, 5.6310957011580465, 5.472006217092275, 5.4239358650147915, 5.410358652472496, 5.457051942534744]\n",
      "[7.574024677276611, 6.8714728355407715, 6.6017351150512695, 6.405410289764404, 6.308310508728027, 6.093061923980713, 5.992845058441162, 6.107646465301514, 5.939321994781494, 5.784503936767578, 5.81207275390625, 5.778130054473877, 5.717212677001953, 5.657232284545898, 5.574744701385498, 5.6003875732421875, 5.6966986656188965, 5.5241217613220215, 5.555541515350342, 5.584465503692627, 5.486431121826172, 5.501025199890137, 5.439569473266602, 5.72035551071167]\n"
     ]
    },
    {
     "name": "stderr",
     "output_type": "stream",
     "text": [
      "0.163943: 100%|██████████| 3200/3200 [02:32<00:00, 21.01it/s]\n"
     ]
    },
    {
     "name": "stdout",
     "output_type": "stream",
     "text": [
      "4276/4276 [==============================] - 69s 16ms/step - loss: 5.5538\n",
      "Epoch 24 loss 5.244602517709136 val loss 5.5537919998168945\n",
      "[8.957182633876801, 7.444346153885126, 6.718132002651691, 6.606167373768986, 6.334112568087876, 6.222601437494159, 6.099050151444971, 6.009203886091709, 5.77085709810257, 5.949807133153081, 5.8031801933795215, 5.635595956072211, 5.798708248250186, 5.686658313274384, 5.617710028290748, 5.546603025831282, 5.4439452893659475, 5.569199087247252, 5.440258623324334, 5.6310957011580465, 5.472006217092275, 5.4239358650147915, 5.410358652472496, 5.457051942534744, 5.244602517709136]\n",
      "[7.574024677276611, 6.8714728355407715, 6.6017351150512695, 6.405410289764404, 6.308310508728027, 6.093061923980713, 5.992845058441162, 6.107646465301514, 5.939321994781494, 5.784503936767578, 5.81207275390625, 5.778130054473877, 5.717212677001953, 5.657232284545898, 5.574744701385498, 5.6003875732421875, 5.6966986656188965, 5.5241217613220215, 5.555541515350342, 5.584465503692627, 5.486431121826172, 5.501025199890137, 5.439569473266602, 5.72035551071167, 5.5537919998168945]\n"
     ]
    },
    {
     "name": "stderr",
     "output_type": "stream",
     "text": [
      "0.172901: 100%|██████████| 3200/3200 [02:30<00:00, 21.23it/s]\n"
     ]
    },
    {
     "name": "stdout",
     "output_type": "stream",
     "text": [
      "4276/4276 [==============================] - 69s 16ms/step - loss: 5.4441\n",
      "Epoch 25 loss 5.531149811521172 val loss 5.444085597991943\n",
      "[8.957182633876801, 7.444346153885126, 6.718132002651691, 6.606167373768986, 6.334112568087876, 6.222601437494159, 6.099050151444971, 6.009203886091709, 5.77085709810257, 5.949807133153081, 5.8031801933795215, 5.635595956072211, 5.798708248250186, 5.686658313274384, 5.617710028290748, 5.546603025831282, 5.4439452893659475, 5.569199087247252, 5.440258623324334, 5.6310957011580465, 5.472006217092275, 5.4239358650147915, 5.410358652472496, 5.457051942534744, 5.244602517709136, 5.531149811521172]\n",
      "[7.574024677276611, 6.8714728355407715, 6.6017351150512695, 6.405410289764404, 6.308310508728027, 6.093061923980713, 5.992845058441162, 6.107646465301514, 5.939321994781494, 5.784503936767578, 5.81207275390625, 5.778130054473877, 5.717212677001953, 5.657232284545898, 5.574744701385498, 5.6003875732421875, 5.6966986656188965, 5.5241217613220215, 5.555541515350342, 5.584465503692627, 5.486431121826172, 5.501025199890137, 5.439569473266602, 5.72035551071167, 5.5537919998168945, 5.444085597991943]\n"
     ]
    },
    {
     "name": "stderr",
     "output_type": "stream",
     "text": [
      "0.172108: 100%|██████████| 3200/3200 [02:30<00:00, 21.31it/s]\n"
     ]
    },
    {
     "name": "stdout",
     "output_type": "stream",
     "text": [
      "4276/4276 [==============================] - 69s 16ms/step - loss: 5.4486\n",
      "Epoch 26 loss 5.505790843628347 val loss 5.448609828948975\n",
      "[8.957182633876801, 7.444346153885126, 6.718132002651691, 6.606167373768986, 6.334112568087876, 6.222601437494159, 6.099050151444971, 6.009203886091709, 5.77085709810257, 5.949807133153081, 5.8031801933795215, 5.635595956072211, 5.798708248250186, 5.686658313274384, 5.617710028290748, 5.546603025831282, 5.4439452893659475, 5.569199087247252, 5.440258623324334, 5.6310957011580465, 5.472006217092275, 5.4239358650147915, 5.410358652472496, 5.457051942534744, 5.244602517709136, 5.531149811521172, 5.505790843628347]\n",
      "[7.574024677276611, 6.8714728355407715, 6.6017351150512695, 6.405410289764404, 6.308310508728027, 6.093061923980713, 5.992845058441162, 6.107646465301514, 5.939321994781494, 5.784503936767578, 5.81207275390625, 5.778130054473877, 5.717212677001953, 5.657232284545898, 5.574744701385498, 5.6003875732421875, 5.6966986656188965, 5.5241217613220215, 5.555541515350342, 5.584465503692627, 5.486431121826172, 5.501025199890137, 5.439569473266602, 5.72035551071167, 5.5537919998168945, 5.444085597991943, 5.448609828948975]\n"
     ]
    },
    {
     "name": "stderr",
     "output_type": "stream",
     "text": [
      "0.172269: 100%|██████████| 3200/3200 [02:31<00:00, 21.17it/s]\n"
     ]
    },
    {
     "name": "stdout",
     "output_type": "stream",
     "text": [
      "4276/4276 [==============================] - 69s 16ms/step - loss: 5.4656\n",
      "Epoch 27 loss 5.510934510603547 val loss 5.465628147125244\n",
      "[8.957182633876801, 7.444346153885126, 6.718132002651691, 6.606167373768986, 6.334112568087876, 6.222601437494159, 6.099050151444971, 6.009203886091709, 5.77085709810257, 5.949807133153081, 5.8031801933795215, 5.635595956072211, 5.798708248250186, 5.686658313274384, 5.617710028290748, 5.546603025831282, 5.4439452893659475, 5.569199087247252, 5.440258623324334, 5.6310957011580465, 5.472006217092275, 5.4239358650147915, 5.410358652472496, 5.457051942534744, 5.244602517709136, 5.531149811521172, 5.505790843628347, 5.510934510603547]\n",
      "[7.574024677276611, 6.8714728355407715, 6.6017351150512695, 6.405410289764404, 6.308310508728027, 6.093061923980713, 5.992845058441162, 6.107646465301514, 5.939321994781494, 5.784503936767578, 5.81207275390625, 5.778130054473877, 5.717212677001953, 5.657232284545898, 5.574744701385498, 5.6003875732421875, 5.6966986656188965, 5.5241217613220215, 5.555541515350342, 5.584465503692627, 5.486431121826172, 5.501025199890137, 5.439569473266602, 5.72035551071167, 5.5537919998168945, 5.444085597991943, 5.448609828948975, 5.465628147125244]\n"
     ]
    },
    {
     "name": "stderr",
     "output_type": "stream",
     "text": [
      "0.166915: 100%|██████████| 3200/3200 [02:31<00:00, 21.18it/s]\n"
     ]
    },
    {
     "name": "stdout",
     "output_type": "stream",
     "text": [
      "4276/4276 [==============================] - 69s 16ms/step - loss: 5.4541\n",
      "Epoch 28 loss 5.33967715986073 val loss 5.454106330871582\n",
      "[8.957182633876801, 7.444346153885126, 6.718132002651691, 6.606167373768986, 6.334112568087876, 6.222601437494159, 6.099050151444971, 6.009203886091709, 5.77085709810257, 5.949807133153081, 5.8031801933795215, 5.635595956072211, 5.798708248250186, 5.686658313274384, 5.617710028290748, 5.546603025831282, 5.4439452893659475, 5.569199087247252, 5.440258623324334, 5.6310957011580465, 5.472006217092275, 5.4239358650147915, 5.410358652472496, 5.457051942534744, 5.244602517709136, 5.531149811521172, 5.505790843628347, 5.510934510603547, 5.33967715986073]\n",
      "[7.574024677276611, 6.8714728355407715, 6.6017351150512695, 6.405410289764404, 6.308310508728027, 6.093061923980713, 5.992845058441162, 6.107646465301514, 5.939321994781494, 5.784503936767578, 5.81207275390625, 5.778130054473877, 5.717212677001953, 5.657232284545898, 5.574744701385498, 5.6003875732421875, 5.6966986656188965, 5.5241217613220215, 5.555541515350342, 5.584465503692627, 5.486431121826172, 5.501025199890137, 5.439569473266602, 5.72035551071167, 5.5537919998168945, 5.444085597991943, 5.448609828948975, 5.465628147125244, 5.454106330871582]\n"
     ]
    }
   ],
   "source": [
    "lr, batch_size, samples_per_epoch, patience = 0.0005, 32, 102400, 5\n",
    "d, N, he, dropout = 50, 2, 4, 0.2\n",
    "model, fore_model =  build_strats(D, fore_max_len, V, d, N, he, dropout, forecast=True)\n",
    "print (fore_model.summary())\n",
    "fore_model.compile(loss=forecast_loss, optimizer=Adam(lr))\n",
    "\n",
    "# Pretrain fore_model.\n",
    "best_val_loss = np.inf\n",
    "N_fore = len(fore_train_op)\n",
    "fore_savepath = 'Baseline/models/forecasting/strats_baseline_forecasting.h5'\n",
    "\n",
    "train_losses = []\n",
    "val_losses = []\n",
    "\n",
    "for e in range(1000):\n",
    "    e_indices = np.random.choice(range(N_fore), size=samples_per_epoch, replace=False)\n",
    "    e_loss = 0\n",
    "    pbar = tqdm(range(0, len(e_indices), batch_size))\n",
    "    for start in pbar:\n",
    "        ind = e_indices[start:start+batch_size]\n",
    "        e_loss += fore_model.train_on_batch([ip[ind] for ip in fore_train_ip], fore_train_op[ind])\n",
    "        pbar.set_description('%f'%(e_loss/(start+1)))\n",
    "    val_loss = fore_model.evaluate(fore_valid_ip, fore_valid_op, batch_size=batch_size, verbose=1)\n",
    "    \n",
    "    train_losses.append(e_loss*batch_size/samples_per_epoch)\n",
    "    val_losses.append(val_loss)\n",
    "    \n",
    "    print ('Epoch', e, 'loss', e_loss*batch_size/samples_per_epoch, 'val loss', val_loss)\n",
    "    \n",
    "    print(train_losses)\n",
    "    print(val_losses)\n",
    "    \n",
    "    if val_loss < best_val_loss:\n",
    "        best_val_loss = val_loss\n",
    "        fore_model.save_weights(fore_savepath)\n",
    "        best_epoch = e\n",
    "    if (e-best_epoch)>patience:\n",
    "        break"
   ]
  },
  {
   "cell_type": "code",
   "execution_count": 9,
   "metadata": {
    "tags": []
   },
   "outputs": [
    {
     "data": {
      "image/png": "[encoded data removed]",
      "text/plain": [
       "<Figure size 640x480 with 1 Axes>"
      ]
     },
     "metadata": {},
     "output_type": "display_data"
    }
   ],
   "source": [
    "import matplotlib.pyplot as plt\n",
    "import numpy as np\n",
    "\n",
    "train_losses = [8.957182633876801, 7.444346153885126, 6.718132002651691, 6.606167373768986, 6.334112568087876, 6.222601437494159, 6.099050151444971, 6.009203886091709, 5.77085709810257, 5.949807133153081, 5.8031801933795215, 5.635595956072211, 5.798708248250186, 5.686658313274384, 5.617710028290748, 5.546603025831282, 5.4439452893659475, 5.569199087247252, 5.440258623324334, 5.6310957011580465, 5.472006217092275, 5.4239358650147915, 5.410358652472496, 5.457051942534744, 5.244602517709136, 5.531149811521172, 5.505790843628347, 5.510934510603547, 5.33967715986073]\n",
    "plt.plot(train_losses)\n",
    "plt.title('Training loss over epochs (baseline model)')\n",
    "plt.xlabel('epochs')\n",
    "plt.ylabel('training loss')\n",
    "plt.savefig('plots/train_losses.png')\n",
    "plt.show()"
   ]
  },
  {
   "cell_type": "code",
   "execution_count": 10,
   "metadata": {
    "tags": []
   },
   "outputs": [
    {
     "data": {
      "image/png": "[encoded data removed]",
      "text/plain": [
       "<Figure size 640x480 with 1 Axes>"
      ]
     },
     "metadata": {},
     "output_type": "display_data"
    }
   ],
   "source": [
    "val_losses = [7.574024677276611, 6.8714728355407715, 6.6017351150512695, 6.405410289764404, 6.308310508728027, 6.093061923980713, 5.992845058441162, 6.107646465301514, 5.939321994781494, 5.784503936767578, 5.81207275390625, 5.778130054473877, 5.717212677001953, 5.657232284545898, 5.574744701385498, 5.6003875732421875, 5.6966986656188965, 5.5241217613220215, 5.555541515350342, 5.584465503692627, 5.486431121826172, 5.501025199890137, 5.439569473266602, 5.72035551071167, 5.5537919998168945, 5.444085597991943, 5.448609828948975, 5.465628147125244, 5.454106330871582]\n",
    "plt.plot(val_losses)\n",
    "plt.title('Validation loss over epochs (baseline model)')\n",
    "plt.xlabel('epochs')\n",
    "plt.ylabel('validation loss')\n",
    "plt.savefig('plots/validation_losses.png')\n",
    "plt.show()"
   ]
  }
 ],
 "metadata": {
  "accelerator": "GPU",
  "colab": {
   "machine_shape": "hm",
   "provenance": [],
   "toc_visible": true
  },
  "gpuClass": "standard",
  "kernelspec": {
   "display_name": "Python 3.10.9 64-bit",
   "language": "python",
   "name": "python3"
  },
  "language_info": {
   "codemirror_mode": {
    "name": "ipython",
    "version": 3
   },
   "file_extension": ".py",
   "mimetype": "text/x-python",
   "name": "python",
   "nbconvert_exporter": "python",
   "pygments_lexer": "ipython3",
   "version": "3.10.9"
  },
  "vscode": {
   "interpreter": {
    "hash": "aee8b7b246df8f9039afb4144a1f6fd8d2ca17a180786b69acc140d282b71a49"
   }
  }
 },
 "nbformat": 4,
 "nbformat_minor": 4
}
