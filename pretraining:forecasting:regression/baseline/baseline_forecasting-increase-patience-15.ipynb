{
 "cells": [
  {
   "cell_type": "markdown",
   "metadata": {
    "id": "kTDFCBgnk1o3"
   },
   "source": [
    "# Strats Baseline Forecasting \n",
    "\n",
    "redo with new dataset just to be sure"
   ]
  },
  {
   "cell_type": "code",
   "execution_count": 4,
   "metadata": {},
   "outputs": [],
   "source": [
    "import os\n",
    "os.environ['TF_CPP_MIN_LOG_LEVEL'] = '2'"
   ]
  },
  {
   "cell_type": "code",
   "execution_count": 5,
   "metadata": {},
   "outputs": [],
   "source": [
    "! export TF_CPP_MIN_LOG_LEVEL=2"
   ]
  },
  {
   "cell_type": "markdown",
   "metadata": {
    "id": "ECKAJiLXiTlN"
   },
   "source": [
    "## Hardware check"
   ]
  },
  {
   "cell_type": "code",
   "execution_count": 6,
   "metadata": {
    "id": "e7odgm5VsOsb"
   },
   "outputs": [
    {
     "name": "stdout",
     "output_type": "stream",
     "text": [
      "Tue Dec  5 15:41:10 2023       \n",
      "+-----------------------------------------------------------------------------+\n",
      "| NVIDIA-SMI 525.85.12    Driver Version: 525.85.12    CUDA Version: 12.0     |\n",
      "|-------------------------------+----------------------+----------------------+\n",
      "| GPU  Name        Persistence-M| Bus-Id        Disp.A | Volatile Uncorr. ECC |\n",
      "| Fan  Temp  Perf  Pwr:Usage/Cap|         Memory-Usage | GPU-Util  Compute M. |\n",
      "|                               |                      |               MIG M. |\n",
      "|===============================+======================+======================|\n",
      "|   0  Tesla V100-SXM2...  On   | 00000000:3B:00.0 Off |                    0 |\n",
      "| N/A   35C    P0    41W / 300W |      9MiB / 32768MiB |      0%      Default |\n",
      "|                               |                      |                  N/A |\n",
      "+-------------------------------+----------------------+----------------------+\n",
      "                                                                               \n",
      "+-----------------------------------------------------------------------------+\n",
      "| Processes:                                                                  |\n",
      "|  GPU   GI   CI        PID   Type   Process name                  GPU Memory |\n",
      "|        ID   ID                                                   Usage      |\n",
      "|=============================================================================|\n",
      "|    0   N/A  N/A      1926      G   /usr/libexec/Xorg                   8MiB |\n",
      "+-----------------------------------------------------------------------------+\n"
     ]
    }
   ],
   "source": [
    "# gpu check\n",
    "!nvidia-smi"
   ]
  },
  {
   "cell_type": "code",
   "execution_count": 7,
   "metadata": {
    "id": "oEEUeIW3sOsc"
   },
   "outputs": [
    {
     "data": {
      "text/plain": [
       "80"
      ]
     },
     "execution_count": 7,
     "metadata": {},
     "output_type": "execute_result"
    }
   ],
   "source": [
    "# check number of cores\n",
    "import multiprocessing\n",
    "\n",
    "cores = multiprocessing.cpu_count() \n",
    "cores"
   ]
  },
  {
   "cell_type": "markdown",
   "metadata": {
    "id": "vY9I5eXWeOom"
   },
   "source": [
    "## Environment Prep"
   ]
  },
  {
   "cell_type": "code",
   "execution_count": 8,
   "metadata": {
    "tags": []
   },
   "outputs": [
    {
     "name": "stdout",
     "output_type": "stream",
     "text": [
      "/pfs/data5/home/hd/hd_hd/hd_nf283/MA_Thesis\n"
     ]
    }
   ],
   "source": [
    "cd /pfs/data5/home/hd/hd_hd/hd_nf283/MA_Thesis"
   ]
  },
  {
   "cell_type": "code",
   "execution_count": 9,
   "metadata": {
    "id": "RpTg0QzPqqKv"
   },
   "outputs": [],
   "source": [
    "from tensorflow.keras.layers import Input, Dense, Dropout, BatchNormalization, Lambda\n",
    "# from tensorflow.keras.models import Model\n",
    "from tensorflow.keras import models\n",
    "import pickle\n",
    "import numpy as np\n",
    "from tqdm import tqdm\n",
    "tqdm.pandas()\n",
    "from sklearn.utils.class_weight import compute_class_weight\n",
    "from tensorflow.keras.optimizers import Adam\n",
    "from sklearn.metrics import roc_auc_score, precision_recall_curve, auc\n",
    "import tensorflow.keras.backend as K\n",
    "from tensorflow.keras.callbacks import Callback, EarlyStopping\n",
    "import pandas as pd\n",
    "import json\n",
    "from torch.utils.data import Dataset\n",
    "from transformers import AutoTokenizer, pipeline, AutoModel\n",
    "import resources.smart_cond as sc\n",
    "import gc\n",
    "# from google.colab import files"
   ]
  },
  {
   "cell_type": "code",
   "execution_count": 10,
   "metadata": {
    "id": "AeG1PfTVsOsd"
   },
   "outputs": [
    {
     "name": "stdout",
     "output_type": "stream",
     "text": [
      "2.12.0\n"
     ]
    },
    {
     "data": {
      "text/plain": [
       "'4.0'"
      ]
     },
     "execution_count": 10,
     "metadata": {},
     "output_type": "execute_result"
    }
   ],
   "source": [
    "import tensorflow as tf\n",
    "print(tf. __version__)\n",
    "\n",
    "pickle.format_version"
   ]
  },
  {
   "cell_type": "code",
   "execution_count": 11,
   "metadata": {
    "tags": []
   },
   "outputs": [],
   "source": [
    "data_path = 'Data/sepsis_removed_0.pkl'\n",
    "pkl = pickle.load(open(data_path, 'rb'))\n",
    "data = pkl[0]\n",
    "oc = pkl[1]\n",
    "train_ind = pkl[2]\n",
    "valid_ind = pkl[3]\n",
    "test_ind = pkl[4]\n",
    "del pkl"
   ]
  },
  {
   "cell_type": "code",
   "execution_count": 12,
   "metadata": {
    "tags": []
   },
   "outputs": [
    {
     "data": {
      "text/html": [
       "<div>\n",
       "<style scoped>\n",
       "    .dataframe tbody tr th:only-of-type {\n",
       "        vertical-align: middle;\n",
       "    }\n",
       "\n",
       "    .dataframe tbody tr th {\n",
       "        vertical-align: top;\n",
       "    }\n",
       "\n",
       "    .dataframe thead th {\n",
       "        text-align: right;\n",
       "    }\n",
       "</style>\n",
       "<table border=\"1\" class=\"dataframe\">\n",
       "  <thead>\n",
       "    <tr style=\"text-align: right;\">\n",
       "      <th></th>\n",
       "      <th>ts_ind</th>\n",
       "      <th>hour</th>\n",
       "      <th>variable</th>\n",
       "      <th>value</th>\n",
       "      <th>TABLE</th>\n",
       "      <th>mean</th>\n",
       "      <th>std</th>\n",
       "    </tr>\n",
       "  </thead>\n",
       "  <tbody>\n",
       "    <tr>\n",
       "      <th>0</th>\n",
       "      <td>10223</td>\n",
       "      <td>467.816667</td>\n",
       "      <td>Text</td>\n",
       "      <td>1</td>\n",
       "      <td>noteevents</td>\n",
       "      <td>1.000000</td>\n",
       "      <td>1.000000</td>\n",
       "    </tr>\n",
       "    <tr>\n",
       "      <th>1</th>\n",
       "      <td>18407</td>\n",
       "      <td>28.016667</td>\n",
       "      <td>Text</td>\n",
       "      <td>1</td>\n",
       "      <td>noteevents</td>\n",
       "      <td>1.000000</td>\n",
       "      <td>1.000000</td>\n",
       "    </tr>\n",
       "    <tr>\n",
       "      <th>2</th>\n",
       "      <td>40300</td>\n",
       "      <td>155.166667</td>\n",
       "      <td>Text</td>\n",
       "      <td>1</td>\n",
       "      <td>noteevents</td>\n",
       "      <td>1.000000</td>\n",
       "      <td>1.000000</td>\n",
       "    </tr>\n",
       "    <tr>\n",
       "      <th>3</th>\n",
       "      <td>23747</td>\n",
       "      <td>52.383333</td>\n",
       "      <td>Text</td>\n",
       "      <td>1</td>\n",
       "      <td>noteevents</td>\n",
       "      <td>1.000000</td>\n",
       "      <td>1.000000</td>\n",
       "    </tr>\n",
       "    <tr>\n",
       "      <th>4</th>\n",
       "      <td>2357</td>\n",
       "      <td>73.133333</td>\n",
       "      <td>Text</td>\n",
       "      <td>1</td>\n",
       "      <td>noteevents</td>\n",
       "      <td>1.000000</td>\n",
       "      <td>1.000000</td>\n",
       "    </tr>\n",
       "    <tr>\n",
       "      <th>...</th>\n",
       "      <td>...</td>\n",
       "      <td>...</td>\n",
       "      <td>...</td>\n",
       "      <td>...</td>\n",
       "      <td>...</td>\n",
       "      <td>...</td>\n",
       "      <td>...</td>\n",
       "    </tr>\n",
       "    <tr>\n",
       "      <th>82886223</th>\n",
       "      <td>57281</td>\n",
       "      <td>20.400000</td>\n",
       "      <td>MBP</td>\n",
       "      <td>0.195381</td>\n",
       "      <td>chart</td>\n",
       "      <td>78.552377</td>\n",
       "      <td>17.645628</td>\n",
       "    </tr>\n",
       "    <tr>\n",
       "      <th>82886224</th>\n",
       "      <td>57281</td>\n",
       "      <td>20.400000</td>\n",
       "      <td>O2 Saturation</td>\n",
       "      <td>-0.678068</td>\n",
       "      <td>chart</td>\n",
       "      <td>96.820961</td>\n",
       "      <td>4.160290</td>\n",
       "    </tr>\n",
       "    <tr>\n",
       "      <th>82886225</th>\n",
       "      <td>57281</td>\n",
       "      <td>20.400000</td>\n",
       "      <td>RR</td>\n",
       "      <td>0.179866</td>\n",
       "      <td>chart</td>\n",
       "      <td>26.278501</td>\n",
       "      <td>15.130729</td>\n",
       "    </tr>\n",
       "    <tr>\n",
       "      <th>82886226</th>\n",
       "      <td>57281</td>\n",
       "      <td>20.400000</td>\n",
       "      <td>SBP</td>\n",
       "      <td>-0.404061</td>\n",
       "      <td>chart</td>\n",
       "      <td>120.239648</td>\n",
       "      <td>25.341836</td>\n",
       "    </tr>\n",
       "    <tr>\n",
       "      <th>82886227</th>\n",
       "      <td>57281</td>\n",
       "      <td>20.400000</td>\n",
       "      <td>Urine</td>\n",
       "      <td>-0.24296</td>\n",
       "      <td>output</td>\n",
       "      <td>123.393012</td>\n",
       "      <td>137.442433</td>\n",
       "    </tr>\n",
       "  </tbody>\n",
       "</table>\n",
       "<p>82447326 rows × 7 columns</p>\n",
       "</div>"
      ],
      "text/plain": [
       "          ts_ind        hour       variable     value       TABLE        mean  \\\n",
       "0          10223  467.816667           Text         1  noteevents    1.000000   \n",
       "1          18407   28.016667           Text         1  noteevents    1.000000   \n",
       "2          40300  155.166667           Text         1  noteevents    1.000000   \n",
       "3          23747   52.383333           Text         1  noteevents    1.000000   \n",
       "4           2357   73.133333           Text         1  noteevents    1.000000   \n",
       "...          ...         ...            ...       ...         ...         ...   \n",
       "82886223   57281   20.400000            MBP  0.195381       chart   78.552377   \n",
       "82886224   57281   20.400000  O2 Saturation -0.678068       chart   96.820961   \n",
       "82886225   57281   20.400000             RR  0.179866       chart   26.278501   \n",
       "82886226   57281   20.400000            SBP -0.404061       chart  120.239648   \n",
       "82886227   57281   20.400000          Urine  -0.24296      output  123.393012   \n",
       "\n",
       "                 std  \n",
       "0           1.000000  \n",
       "1           1.000000  \n",
       "2           1.000000  \n",
       "3           1.000000  \n",
       "4           1.000000  \n",
       "...              ...  \n",
       "82886223   17.645628  \n",
       "82886224    4.160290  \n",
       "82886225   15.130729  \n",
       "82886226   25.341836  \n",
       "82886227  137.442433  \n",
       "\n",
       "[82447326 rows x 7 columns]"
      ]
     },
     "execution_count": 12,
     "metadata": {},
     "output_type": "execute_result"
    }
   ],
   "source": [
    "data.loc[data['variable'] == 'Text', 'value'] = 1\n",
    "data"
   ]
  },
  {
   "cell_type": "code",
   "execution_count": 13,
   "metadata": {
    "tags": []
   },
   "outputs": [],
   "source": [
    "pred_window = 2 # hours\n",
    "obs_windows = range(20, 124, 4)\n",
    "# Remove test patients.\n",
    "data = data.merge(oc[['ts_ind', 'SUBJECT_ID']], on='ts_ind', how='left')\n",
    "test_sub = oc.loc[oc.ts_ind.isin(test_ind)].SUBJECT_ID.unique()\n",
    "data = data.loc[~data.SUBJECT_ID.isin(test_sub)]\n",
    "oc = oc.loc[~oc.SUBJECT_ID.isin(test_sub)]\n",
    "data.drop(columns=['SUBJECT_ID', 'TABLE'], inplace=True)\n",
    "# Fix age.\n",
    "data.loc[(data.variable=='Age')&(data.value>200), 'value'] = 91.4\n",
    "# data[data.variable=='Age'][data.value>200]['value'] = 91.4"
   ]
  },
  {
   "cell_type": "code",
   "execution_count": 14,
   "metadata": {
    "tags": []
   },
   "outputs": [
    {
     "name": "stderr",
     "output_type": "stream",
     "text": [
      "91626it [00:00, 800373.41it/s]\n",
      "100%|██████████| 26/26 [04:57<00:00, 11.45s/it]\n"
     ]
    }
   ],
   "source": [
    "# Get static data with mean fill and missingness indicator.\n",
    "static_varis = ['Age', 'Gender']\n",
    "ii = data.variable.isin(static_varis)\n",
    "static_data = data.loc[ii]\n",
    "data = data.loc[~ii]\n",
    "def inv_list(l, start=0):\n",
    "    d = {}\n",
    "    for i in range(len(l)):\n",
    "        d[l[i]] = i+start\n",
    "    return d\n",
    "static_var_to_ind = inv_list(static_varis)\n",
    "D = len(static_varis)\n",
    "N = data.ts_ind.max()+1\n",
    "demo = np.zeros((N, D))\n",
    "for row in tqdm(static_data.itertuples()):\n",
    "    demo[row.ts_ind, static_var_to_ind[row.variable]] = row.value\n",
    "# Normalize static data.\n",
    "means = demo.mean(axis=0, keepdims=True)\n",
    "stds = demo.std(axis=0, keepdims=True)\n",
    "stds = (stds==0)*1 + (stds!=0)*stds\n",
    "demo = (demo-means)/stds\n",
    "# Get variable indices.\n",
    "varis = sorted(list(set(data.variable)))\n",
    "V = len(varis)\n",
    "var_to_ind = inv_list(varis, start=1)\n",
    "data['vind'] = data.variable.map(var_to_ind)\n",
    "data = data[['ts_ind', 'vind', 'hour', 'value']].sort_values(by=['ts_ind', 'vind', 'hour'])\n",
    "# Find max_len.\n",
    "fore_max_len = 880\n",
    "# Get forecast inputs and outputs.\n",
    "fore_times_ip = []\n",
    "fore_values_ip = []\n",
    "fore_varis_ip = []\n",
    "fore_op = []\n",
    "fore_inds = []\n",
    "def f(x):\n",
    "    mask = [0 for i in range(V)]\n",
    "    values = [0 for i in range(V)]\n",
    "    for vv in x:\n",
    "        v = int(vv[0])-1\n",
    "        mask[v] = 1\n",
    "        values[v] = vv[1]\n",
    "    return values+mask\n",
    "def pad(x):\n",
    "    return x+[0]*(fore_max_len-len(x))\n",
    "for w in tqdm(obs_windows):\n",
    "    pred_data = data.loc[(data.hour>=w)&(data.hour<=w+pred_window)]\n",
    "    pred_data = pred_data.groupby(['ts_ind', 'vind']).agg({'value':'first'}).reset_index()\n",
    "    pred_data['vind_value'] = pred_data[['vind', 'value']].values.tolist()\n",
    "    pred_data = pred_data.groupby('ts_ind').agg({'vind_value':list}).reset_index()\n",
    "    pred_data['vind_value'] = pred_data['vind_value'].apply(f)    \n",
    "    obs_data = data.loc[(data.hour<w)&(data.hour>=w-24)]\n",
    "    obs_data = obs_data.loc[obs_data.ts_ind.isin(pred_data.ts_ind)]\n",
    "    obs_data = obs_data.groupby('ts_ind').head(fore_max_len)\n",
    "    obs_data = obs_data.groupby('ts_ind').agg({'vind':list, 'hour':list, 'value':list}).reset_index()\n",
    "    obs_data = obs_data.merge(pred_data, on='ts_ind')\n",
    "    for col in ['vind', 'hour', 'value']:\n",
    "        obs_data[col] = obs_data[col].apply(pad)\n",
    "    fore_op.append(np.array(list(obs_data.vind_value)))\n",
    "    fore_inds.append(np.array(list(obs_data.ts_ind)))\n",
    "    fore_times_ip.append(np.array(list(obs_data.hour)))\n",
    "    fore_values_ip.append(np.array(list(obs_data.value)))\n",
    "    fore_varis_ip.append(np.array(list(obs_data.vind)))\n",
    "del data\n",
    "fore_times_ip = np.concatenate(fore_times_ip, axis=0)\n",
    "fore_values_ip = np.concatenate(fore_values_ip, axis=0)\n",
    "fore_varis_ip = np.concatenate(fore_varis_ip, axis=0)\n",
    "fore_op = np.concatenate(fore_op, axis=0)\n",
    "fore_inds = np.concatenate(fore_inds, axis=0)\n",
    "fore_demo = demo[fore_inds]\n",
    "# Get train and valid ts_ind for forecast task.\n",
    "train_sub = oc.loc[oc.ts_ind.isin(train_ind)].SUBJECT_ID.unique()\n",
    "valid_sub = oc.loc[oc.ts_ind.isin(valid_ind)].SUBJECT_ID.unique()\n",
    "rem_sub = oc.loc[~oc.SUBJECT_ID.isin(np.concatenate((train_ind, valid_ind)))].SUBJECT_ID.unique()\n",
    "bp = int(0.8*len(rem_sub))\n",
    "train_sub = np.concatenate((train_sub, rem_sub[:bp]))\n",
    "valid_sub = np.concatenate((valid_sub, rem_sub[bp:]))\n",
    "train_ind = oc.loc[oc.SUBJECT_ID.isin(train_sub)].ts_ind.unique() # Add remaining ts_ind s of train subjects.\n",
    "valid_ind = oc.loc[oc.SUBJECT_ID.isin(valid_sub)].ts_ind.unique() # Add remaining ts_ind s of train subjects.\n",
    "# Generate 3 sets of inputs and outputs.\n",
    "train_ind = np.argwhere(np.in1d(fore_inds, train_ind)).flatten()\n",
    "valid_ind = np.argwhere(np.in1d(fore_inds, valid_ind)).flatten()\n",
    "fore_train_ip = [ip[train_ind] for ip in [fore_demo, fore_times_ip, fore_values_ip, fore_varis_ip]]\n",
    "fore_valid_ip = [ip[valid_ind] for ip in [fore_demo, fore_times_ip, fore_values_ip, fore_varis_ip]]\n",
    "del fore_times_ip, fore_values_ip, fore_varis_ip, demo, fore_demo\n",
    "fore_train_op = fore_op[train_ind]\n",
    "fore_valid_op = fore_op[valid_ind]\n",
    "del fore_op"
   ]
  },
  {
   "cell_type": "code",
   "execution_count": 15,
   "metadata": {},
   "outputs": [],
   "source": [
    "def get_res(y_true, y_pred):\n",
    "    precision, recall, thresholds = precision_recall_curve(y_true, y_pred)\n",
    "    pr_auc = auc(recall, precision)\n",
    "    minrp = np.minimum(precision, recall).max()\n",
    "    roc_auc = roc_auc_score(y_true, y_pred)\n",
    "    return [roc_auc, pr_auc, minrp]\n",
    "\n",
    "def forecast_loss(y_true, y_pred):\n",
    "    return K.sum(y_true[:,V:]*(y_true[:,:V]-y_pred)**2, axis=-1)\n",
    "\n",
    "def get_min_loss(weight):\n",
    "    def min_loss(y_true, y_pred):\n",
    "        return weight*y_pred\n",
    "    return min_loss\n",
    "\n",
    "class CustomCallback(Callback):\n",
    "    def __init__(self, validation_data, batch_size):\n",
    "        self.val_x, self.val_y = validation_data\n",
    "        self.batch_size = batch_size\n",
    "        super(Callback, self).__init__()\n",
    "\n",
    "    def on_epoch_end(self, epoch, logs={}):\n",
    "        y_pred = self.model.predict(self.val_x, verbose=0, batch_size=self.batch_size)\n",
    "        if type(y_pred)==type([]):\n",
    "            y_pred = y_pred[0]\n",
    "        precision, recall, thresholds = precision_recall_curve(self.val_y, y_pred)\n",
    "        pr_auc = auc(recall, precision)\n",
    "        roc_auc = roc_auc_score(self.val_y, y_pred)\n",
    "        logs['custom_metric'] = pr_auc + roc_auc\n",
    "        print ('val_aucs:', pr_auc, roc_auc)"
   ]
  },
  {
   "cell_type": "code",
   "execution_count": 16,
   "metadata": {
    "tags": []
   },
   "outputs": [],
   "source": [
    "import tensorflow as tf\n",
    "import numpy as np\n",
    "import tensorflow.keras.backend as K\n",
    "from tensorflow.keras.layers import Embedding, Activation, Dropout, Softmax, Layer, InputSpec, Input, Dense, Lambda, TimeDistributed, Concatenate, Add\n",
    "from tensorflow.keras import initializers, regularizers, constraints, Model\n",
    "from tensorflow.python.keras.utils import tf_utils\n",
    "from tensorflow.python.ops import array_ops\n",
    "from tensorflow import nn\n",
    "\n",
    "    \n",
    "class CVE(Layer):\n",
    "    def __init__(self, hid_units, output_dim):\n",
    "        self.hid_units = hid_units\n",
    "        self.output_dim = output_dim\n",
    "        super(CVE, self).__init__()\n",
    "        \n",
    "    def build(self, input_shape): \n",
    "        self.W1 = self.add_weight(name='CVE_W1',\n",
    "                            shape=(1, self.hid_units),\n",
    "                            initializer='glorot_uniform',\n",
    "                            trainable=True)\n",
    "        self.b1 = self.add_weight(name='CVE_b1',\n",
    "                            shape=(self.hid_units,),\n",
    "                            initializer='zeros',\n",
    "                            trainable=True)\n",
    "        self.W2 = self.add_weight(name='CVE_W2',\n",
    "                            shape=(self.hid_units, self.output_dim),\n",
    "                            initializer='glorot_uniform',\n",
    "                            trainable=True)\n",
    "        super(CVE, self).build(input_shape)\n",
    "        \n",
    "    def call(self, x):\n",
    "        x = K.expand_dims(x, axis=-1)\n",
    "        x = K.dot(K.tanh(K.bias_add(K.dot(x, self.W1), self.b1)), self.W2)\n",
    "        return x\n",
    "        \n",
    "    def compute_output_shape(self, input_shape):\n",
    "        return input_shape + (self.output_dim,)\n",
    "    \n",
    "    \n",
    "class Attention(Layer):\n",
    "    \n",
    "    def __init__(self, hid_dim):\n",
    "        self.hid_dim = hid_dim\n",
    "        super(Attention, self).__init__()\n",
    "\n",
    "    def build(self, input_shape):\n",
    "        d = input_shape.as_list()[-1]\n",
    "        self.W = self.add_weight(shape=(d, self.hid_dim), name='Att_W',\n",
    "                                 initializer='glorot_uniform',\n",
    "                                 trainable=True)\n",
    "        self.b = self.add_weight(shape=(self.hid_dim,), name='Att_b',\n",
    "                                 initializer='zeros',\n",
    "                                 trainable=True)\n",
    "        self.u = self.add_weight(shape=(self.hid_dim,1), name='Att_u',\n",
    "                                 initializer='glorot_uniform',\n",
    "                                 trainable=True)\n",
    "        super(Attention, self).build(input_shape)\n",
    "        \n",
    "    def call(self, x, mask, mask_value=-1e30):\n",
    "        attn_weights = K.dot(K.tanh(K.bias_add(K.dot(x,self.W), self.b)), self.u)\n",
    "        mask = K.expand_dims(mask, axis=-1)\n",
    "        attn_weights = mask*attn_weights + (1-mask)*mask_value\n",
    "        attn_weights = K.softmax(attn_weights, axis=-2)\n",
    "        return attn_weights\n",
    "        \n",
    "    def compute_output_shape(self, input_shape):\n",
    "        return input_shape[:-1] + (1,)\n",
    "    \n",
    "    \n",
    "class Transformer(Layer):\n",
    "    \n",
    "    def __init__(self, N=2, h=8, dk=None, dv=None, dff=None, dropout=0):\n",
    "        self.N, self.h, self.dk, self.dv, self.dff, self.dropout = N, h, dk, dv, dff, dropout\n",
    "        self.epsilon = K.epsilon() * K.epsilon()\n",
    "        super(Transformer, self).__init__()\n",
    "\n",
    "    def build(self, input_shape):\n",
    "        d = input_shape.as_list()[-1]\n",
    "        if self.dk==None:\n",
    "            self.dk = d//self.h\n",
    "        if self.dv==None:\n",
    "            self.dv = d//self.h\n",
    "        if self.dff==None:\n",
    "            self.dff = 2*d\n",
    "        self.Wq = self.add_weight(shape=(self.N, self.h, d, self.dk), name='Wq',\n",
    "                                 initializer='glorot_uniform', trainable=True)\n",
    "        self.Wk = self.add_weight(shape=(self.N, self.h, d, self.dk), name='Wk',\n",
    "                                 initializer='glorot_uniform', trainable=True)\n",
    "        self.Wv = self.add_weight(shape=(self.N, self.h, d, self.dv), name='Wv',\n",
    "                                 initializer='glorot_uniform', trainable=True)\n",
    "        self.Wo = self.add_weight(shape=(self.N, self.dv*self.h, d), name='Wo',\n",
    "                                 initializer='glorot_uniform', trainable=True)\n",
    "        self.W1 = self.add_weight(shape=(self.N, d, self.dff), name='W1',\n",
    "                                 initializer='glorot_uniform', trainable=True)\n",
    "        self.b1 = self.add_weight(shape=(self.N, self.dff), name='b1',\n",
    "                                 initializer='zeros', trainable=True)\n",
    "        self.W2 = self.add_weight(shape=(self.N, self.dff, d), name='W2',\n",
    "                                 initializer='glorot_uniform', trainable=True)\n",
    "        self.b2 = self.add_weight(shape=(self.N, d), name='b2',\n",
    "                                 initializer='zeros', trainable=True)\n",
    "        self.gamma = self.add_weight(shape=(2*self.N,), name='gamma',\n",
    "                                 initializer='ones', trainable=True)\n",
    "        self.beta = self.add_weight(shape=(2*self.N,), name='beta',\n",
    "                                 initializer='zeros', trainable=True)\n",
    "        super(Transformer, self).build(input_shape)\n",
    "        \n",
    "    def call(self, x, mask, mask_value=-1e-30):\n",
    "        mask = K.expand_dims(mask, axis=-2)\n",
    "        for i in range(self.N):\n",
    "            # MHA\n",
    "            mha_ops = []\n",
    "            for j in range(self.h):\n",
    "                q = K.dot(x, self.Wq[i,j,:,:])\n",
    "                k = K.permute_dimensions(K.dot(x, self.Wk[i,j,:,:]), (0,2,1))\n",
    "                v = K.dot(x, self.Wv[i,j,:,:])\n",
    "                A = K.batch_dot(q,k)\n",
    "                # Mask unobserved steps.\n",
    "                A = mask*A + (1-mask)*mask_value\n",
    "                # Mask for attention dropout.\n",
    "                def dropped_A():\n",
    "                    dp_mask = K.cast((K.random_uniform(shape=array_ops.shape(A))>=self.dropout), K.floatx())\n",
    "                    return A*dp_mask + (1-dp_mask)*mask_value\n",
    "                A = sc.smart_cond(K.learning_phase(), dropped_A, lambda: array_ops.identity(A))\n",
    "                A = K.softmax(A, axis=-1)\n",
    "                mha_ops.append(K.batch_dot(A,v))\n",
    "            conc = K.concatenate(mha_ops, axis=-1)\n",
    "            proj = K.dot(conc, self.Wo[i,:,:])\n",
    "            # Dropout.\n",
    "            proj = sc.smart_cond(K.learning_phase(), lambda: array_ops.identity(nn.dropout(proj, rate=self.dropout)),\\\n",
    "                                       lambda: array_ops.identity(proj))\n",
    "            # Add & LN\n",
    "            x = x+proj\n",
    "            mean = K.mean(x, axis=-1, keepdims=True)\n",
    "            variance = K.mean(K.square(x - mean), axis=-1, keepdims=True)\n",
    "            std = K.sqrt(variance + self.epsilon)\n",
    "            x = (x - mean) / std\n",
    "            x = x*self.gamma[2*i] + self.beta[2*i]\n",
    "            # FFN\n",
    "            ffn_op = K.bias_add(K.dot(K.relu(K.bias_add(K.dot(x, self.W1[i,:,:]), self.b1[i,:])), \n",
    "                           self.W2[i,:,:]), self.b2[i,:,])\n",
    "            # Dropout.\n",
    "            ffn_op = sc.smart_cond(K.learning_phase(), lambda: array_ops.identity(nn.dropout(ffn_op, rate=self.dropout)),\\\n",
    "                                       lambda: array_ops.identity(ffn_op))\n",
    "            # Add & LN\n",
    "            x = x+ffn_op\n",
    "            mean = K.mean(x, axis=-1, keepdims=True)\n",
    "            variance = K.mean(K.square(x - mean), axis=-1, keepdims=True)\n",
    "            std = K.sqrt(variance + self.epsilon)\n",
    "            x = (x - mean) / std\n",
    "            x = x*self.gamma[2*i+1] + self.beta[2*i+1]            \n",
    "        return x\n",
    "        \n",
    "    def compute_output_shape(self, input_shape):\n",
    "        return input_shape\n",
    "\n",
    "\n",
    "def build_strats(D, max_len, V, d, N, he, dropout, forecast=False):\n",
    "    demo = Input(shape=(D,))\n",
    "    demo_enc = Dense(2*d, activation='tanh')(demo)\n",
    "    demo_enc = Dense(d, activation='tanh')(demo_enc)\n",
    "    varis = Input(shape=(max_len,))\n",
    "    values = Input(shape=(max_len,))\n",
    "    times = Input(shape=(max_len,))\n",
    "    varis_emb = Embedding(V+1, d)(varis)\n",
    "    cve_units = int(np.sqrt(d))\n",
    "    values_emb = CVE(cve_units, d)(values)\n",
    "    times_emb = CVE(cve_units, d)(times)\n",
    "    comb_emb = Add()([varis_emb, values_emb, times_emb]) # b, L, d\n",
    "#     demo_enc = Lambda(lambda x:K.expand_dims(x, axis=-2))(demo_enc) # b, 1, d\n",
    "#     comb_emb = Concatenate(axis=-2)([demo_enc, comb_emb]) # b, L+1, d\n",
    "    mask = Lambda(lambda x:K.clip(x,0,1))(varis) # b, L\n",
    "#     mask = Lambda(lambda x:K.concatenate((K.ones_like(x)[:,0:1], x), axis=-1))(mask) # b, L+1\n",
    "    cont_emb = Transformer(N, he, dk=None, dv=None, dff=None, dropout=dropout)(comb_emb, mask=mask)\n",
    "    attn_weights = Attention(2*d)(cont_emb, mask=mask)\n",
    "    fused_emb = Lambda(lambda x:K.sum(x[0]*x[1], axis=-2))([cont_emb, attn_weights])\n",
    "    conc = Concatenate(axis=-1)([fused_emb, demo_enc])\n",
    "    fore_op = Dense(V)(conc)\n",
    "    op = Dense(1, activation='sigmoid')(fore_op)\n",
    "    model = Model([demo, times, values, varis], op)\n",
    "    if forecast:\n",
    "        fore_model = Model([demo, times, values, varis], fore_op)\n",
    "        return [model, fore_model]\n",
    "    return model\n",
    "\n",
    "# To tune:\n",
    "# 1. Transformer parameters. (N, h, dropout)\n",
    "# 2. Normalization"
   ]
  },
  {
   "cell_type": "code",
   "execution_count": 17,
   "metadata": {
    "tags": []
   },
   "outputs": [],
   "source": [
    "# # lr, batch_size, samples_per_epoch, patience = 0.0005, 32, 102400, 5\n",
    "# lr, batch_size, samples_per_epoch, patience = 0.0005, 32, 102400, 10\n",
    "# d, N, he, dropout = 50, 2, 4, 0.2\n",
    "# model, fore_model =  build_strats(D, fore_max_len, V, d, N, he, dropout, forecast=True)\n",
    "# print (fore_model.summary())\n",
    "# fore_model.compile(loss=forecast_loss, optimizer=Adam(lr))\n",
    "\n",
    "# # Pretrain fore_model.\n",
    "# best_val_loss = np.inf\n",
    "# N_fore = len(fore_train_op)\n",
    "# fore_savepath = 'Baseline/models/forecasting/strats_baseline_forecasting_patience_10.h5'\n",
    "\n",
    "# train_losses = []\n",
    "# val_losses = []\n",
    "\n",
    "# for e in range(1000):\n",
    "#     e_indices = np.random.choice(range(N_fore), size=samples_per_epoch, replace=False)\n",
    "#     e_loss = 0\n",
    "#     pbar = tqdm(range(0, len(e_indices), batch_size))\n",
    "#     for start in pbar:\n",
    "#         ind = e_indices[start:start+batch_size]\n",
    "#         e_loss += fore_model.train_on_batch([ip[ind] for ip in fore_train_ip], fore_train_op[ind])\n",
    "#         pbar.set_description('%f'%(e_loss/(start+1)))\n",
    "#     val_loss = fore_model.evaluate(fore_valid_ip, fore_valid_op, batch_size=batch_size, verbose=1)\n",
    "    \n",
    "#     train_losses.append(e_loss*batch_size/samples_per_epoch)\n",
    "#     val_losses.append(val_loss)\n",
    "    \n",
    "#     print ('Epoch', e, 'loss', e_loss*batch_size/samples_per_epoch, 'val loss', val_loss)\n",
    "    \n",
    "#     print(train_losses)\n",
    "#     print(val_losses)\n",
    "    \n",
    "#     if val_loss < best_val_loss:\n",
    "#         best_val_loss = val_loss\n",
    "#         fore_model.save_weights(fore_savepath)\n",
    "#         best_epoch = e\n",
    "#     if (e-best_epoch)>patience:\n",
    "#         break"
   ]
  },
  {
   "cell_type": "code",
   "execution_count": 18,
   "metadata": {
    "tags": []
   },
   "outputs": [
    {
     "data": {
      "text/plain": [
       "5.20893669128418"
      ]
     },
     "execution_count": 18,
     "metadata": {},
     "output_type": "execute_result"
    }
   ],
   "source": [
    "val_losses = [7.717712879180908, 6.955950736999512, 6.704439640045166, 6.528388023376465, 6.3274617195129395, 6.1996750831604, 6.113377094268799, 6.011967658996582, 5.910389423370361, 5.87477970123291, 5.860624313354492, 5.7814507484436035, 5.771292686462402, 5.716648101806641, 5.757233619689941, 5.679626941680908, 5.713437080383301, 5.611827850341797, 5.663970947265625, 5.621941566467285, 5.755812644958496, 5.623030662536621, 5.574612617492676, 5.539113998413086, 5.730890274047852, 5.500331401824951, 5.504433631896973, 5.448913097381592, 5.507577896118164, 5.510786056518555, 5.459959983825684, 5.4007673263549805, 5.396493434906006, 5.44691276550293, 5.382143497467041, 5.412578582763672, 5.4137701988220215, 5.555471897125244, 5.43337869644165, 5.491706371307373, 5.595604419708252, 5.40668249130249, 5.5386128425598145, 5.346236705780029, 5.419410228729248, 5.356541156768799, 5.332381248474121, 5.363884449005127, 5.393413543701172, 5.354836940765381, 5.307928085327148, 5.325294494628906, 5.297708034515381, 5.33036994934082, 5.321070194244385, 5.3252997398376465, 5.322055816650391, 5.327525615692139, 5.321632385253906, 5.270559787750244, 5.568323612213135, 5.401540279388428, 5.27060604095459, 5.273929595947266, 5.256091117858887, 5.263978481292725, 5.2708282470703125, 5.270179748535156, 5.307251453399658, 5.20893669128418, 5.262117862701416, 5.2497735023498535, 5.262760639190674, 5.3784050941467285, 5.251499176025391, 5.226221561431885, 5.271778583526611, 5.216109752655029, 5.269227504730225, 5.23778772354126, 5.283673286437988]\n",
    "min(val_losses)"
   ]
  },
  {
   "cell_type": "code",
   "execution_count": 19,
   "metadata": {
    "tags": []
   },
   "outputs": [
    {
     "data": {
      "text/plain": [
       "81"
      ]
     },
     "execution_count": 19,
     "metadata": {},
     "output_type": "execute_result"
    }
   ],
   "source": [
    "len(val_losses)"
   ]
  },
  {
   "cell_type": "code",
   "execution_count": 20,
   "metadata": {
    "tags": []
   },
   "outputs": [
    {
     "data": {
      "text/plain": [
       "[1, 2, 3, 4]"
      ]
     },
     "execution_count": 20,
     "metadata": {},
     "output_type": "execute_result"
    }
   ],
   "source": [
    "list(range(1,5))"
   ]
  },
  {
   "cell_type": "code",
   "execution_count": null,
   "metadata": {},
   "outputs": [
    {
     "name": "stdout",
     "output_type": "stream",
     "text": [
      "Model: \"model_1\"\n",
      "__________________________________________________________________________________________________\n",
      " Layer (type)                   Output Shape         Param #     Connected to                     \n",
      "==================================================================================================\n",
      " input_2 (InputLayer)           [(None, 880)]        0           []                               \n",
      "                                                                                                  \n",
      " input_3 (InputLayer)           [(None, 880)]        0           []                               \n",
      "                                                                                                  \n",
      " input_4 (InputLayer)           [(None, 880)]        0           []                               \n",
      "                                                                                                  \n",
      " embedding (Embedding)          (None, 880, 50)      6750        ['input_2[0][0]']                \n",
      "                                                                                                  \n",
      " cve (CVE)                      (None, 880, 50)      364         ['input_3[0][0]']                \n",
      "                                                                                                  \n",
      " cve_1 (CVE)                    (None, 880, 50)      364         ['input_4[0][0]']                \n",
      "                                                                                                  \n",
      " add (Add)                      (None, 880, 50)      0           ['embedding[0][0]',              \n",
      "                                                                  'cve[0][0]',                    \n",
      "                                                                  'cve_1[0][0]']                  \n",
      "                                                                                                  \n",
      " lambda (Lambda)                (None, 880)          0           ['input_2[0][0]']                \n",
      "                                                                                                  \n",
      " transformer (Transformer)      (None, 880, 50)      39508       ['add[0][0]',                    \n",
      "                                                                  'lambda[0][0]']                 \n",
      "                                                                                                  \n",
      " input_1 (InputLayer)           [(None, 2)]          0           []                               \n",
      "                                                                                                  \n",
      " attention (Attention)          (None, 880, 1)       5200        ['transformer[0][0]',            \n",
      "                                                                  'lambda[0][0]']                 \n",
      "                                                                                                  \n",
      " dense (Dense)                  (None, 100)          300         ['input_1[0][0]']                \n",
      "                                                                                                  \n",
      " lambda_1 (Lambda)              (None, 50)           0           ['transformer[0][0]',            \n",
      "                                                                  'attention[0][0]']              \n",
      "                                                                                                  \n",
      " dense_1 (Dense)                (None, 50)           5050        ['dense[0][0]']                  \n",
      "                                                                                                  \n",
      " concatenate (Concatenate)      (None, 100)          0           ['lambda_1[0][0]',               \n",
      "                                                                  'dense_1[0][0]']                \n",
      "                                                                                                  \n",
      " dense_2 (Dense)                (None, 134)          13534       ['concatenate[0][0]']            \n",
      "                                                                                                  \n",
      "==================================================================================================\n",
      "Total params: 71,070\n",
      "Trainable params: 71,070\n",
      "Non-trainable params: 0\n",
      "__________________________________________________________________________________________________\n",
      "None\n"
     ]
    },
    {
     "name": "stderr",
     "output_type": "stream",
     "text": [
      "0.160257: 100%|██████████| 3200/3200 [02:34<00:00, 20.68it/s]\n"
     ]
    },
    {
     "name": "stdout",
     "output_type": "stream",
     "text": [
      "4276/4276 [==============================] - 70s 16ms/step - loss: 5.2838\n",
      "Epoch 81 loss 5.126660135835409 val loss 5.283777236938477\n",
      "[8.99688381895423, 7.447008701860905, 6.819614188373089, 6.756220295354724, 6.3309409860521555, 6.210726347230374, 6.219333339333534, 6.225389459840954, 5.978656517714262, 5.980397833921015, 5.72186337761581, 5.895540365539492, 5.849212531298399, 5.690261988639832, 5.624563320577145, 5.679155041836202, 5.586134704425931, 5.654708657674491, 5.715709848292172, 5.5188806889951225, 5.497861228436232, 5.571464146263898, 5.4665602750703695, 5.551240729577839, 5.368751032687723, 5.420417926572263, 5.53939581360668, 5.477566199973226, 5.522608667239547, 5.405717139951885, 5.456880302615463, 5.49130221568048, 5.47696663826704, 5.463503729626536, 5.355901707224548, 5.425206321999431, 5.4836160293594, 5.3817997147515415, 5.310110193789005, 5.2941837514936925, 5.384898569844663, 5.439891175143421, 5.379424596503377, 5.37850166361779, 5.273312831632793, 5.394021689407527, 5.30100776463747, 5.299571858793497, 5.346060801483691, 5.293473369292915, 5.3672544518485665, 5.2196143627166744, 5.376763070374727, 5.3546421390399335, 5.37157914634794, 5.220500768907368, 5.325444615446031, 5.172556496858597, 5.316729328632355, 5.310623440630734, 5.4102950366958975, 5.099037979356945, 5.2540016291290526, 5.15561858586967, 5.102626170776785, 5.306386022381485, 5.181827557757497, 5.064150472395122, 5.218263981938362, 5.1934698026254775, 5.220842763632536, 5.094147684536875, 5.186950975954533, 5.277704075276851, 5.153262359276414, 5.158523515351117, 5.250758710019291, 5.281736856661737, 5.1620757971704005, 5.121279909200966, 5.060195054039359, 5.126660135835409]\n",
      "[7.717712879180908, 6.955950736999512, 6.704439640045166, 6.528388023376465, 6.3274617195129395, 6.1996750831604, 6.113377094268799, 6.011967658996582, 5.910389423370361, 5.87477970123291, 5.860624313354492, 5.7814507484436035, 5.771292686462402, 5.716648101806641, 5.757233619689941, 5.679626941680908, 5.713437080383301, 5.611827850341797, 5.663970947265625, 5.621941566467285, 5.755812644958496, 5.623030662536621, 5.574612617492676, 5.539113998413086, 5.730890274047852, 5.500331401824951, 5.504433631896973, 5.448913097381592, 5.507577896118164, 5.510786056518555, 5.459959983825684, 5.4007673263549805, 5.396493434906006, 5.44691276550293, 5.382143497467041, 5.412578582763672, 5.4137701988220215, 5.555471897125244, 5.43337869644165, 5.491706371307373, 5.595604419708252, 5.40668249130249, 5.5386128425598145, 5.346236705780029, 5.419410228729248, 5.356541156768799, 5.332381248474121, 5.363884449005127, 5.393413543701172, 5.354836940765381, 5.307928085327148, 5.325294494628906, 5.297708034515381, 5.33036994934082, 5.321070194244385, 5.3252997398376465, 5.322055816650391, 5.327525615692139, 5.321632385253906, 5.270559787750244, 5.568323612213135, 5.401540279388428, 5.27060604095459, 5.273929595947266, 5.256091117858887, 5.263978481292725, 5.2708282470703125, 5.270179748535156, 5.307251453399658, 5.20893669128418, 5.262117862701416, 5.2497735023498535, 5.262760639190674, 5.3784050941467285, 5.251499176025391, 5.226221561431885, 5.271778583526611, 5.216109752655029, 5.269227504730225, 5.23778772354126, 5.283673286437988, 5.283777236938477]\n"
     ]
    },
    {
     "name": "stderr",
     "output_type": "stream",
     "text": [
      "0.165221: 100%|██████████| 3200/3200 [02:22<00:00, 22.41it/s]\n"
     ]
    },
    {
     "name": "stdout",
     "output_type": "stream",
     "text": [
      "4276/4276 [==============================] - 69s 16ms/step - loss: 5.2353\n",
      "Epoch 82 loss 5.285472669005394 val loss 5.235329627990723\n",
      "[8.99688381895423, 7.447008701860905, 6.819614188373089, 6.756220295354724, 6.3309409860521555, 6.210726347230374, 6.219333339333534, 6.225389459840954, 5.978656517714262, 5.980397833921015, 5.72186337761581, 5.895540365539492, 5.849212531298399, 5.690261988639832, 5.624563320577145, 5.679155041836202, 5.586134704425931, 5.654708657674491, 5.715709848292172, 5.5188806889951225, 5.497861228436232, 5.571464146263898, 5.4665602750703695, 5.551240729577839, 5.368751032687723, 5.420417926572263, 5.53939581360668, 5.477566199973226, 5.522608667239547, 5.405717139951885, 5.456880302615463, 5.49130221568048, 5.47696663826704, 5.463503729626536, 5.355901707224548, 5.425206321999431, 5.4836160293594, 5.3817997147515415, 5.310110193789005, 5.2941837514936925, 5.384898569844663, 5.439891175143421, 5.379424596503377, 5.37850166361779, 5.273312831632793, 5.394021689407527, 5.30100776463747, 5.299571858793497, 5.346060801483691, 5.293473369292915, 5.3672544518485665, 5.2196143627166744, 5.376763070374727, 5.3546421390399335, 5.37157914634794, 5.220500768907368, 5.325444615446031, 5.172556496858597, 5.316729328632355, 5.310623440630734, 5.4102950366958975, 5.099037979356945, 5.2540016291290526, 5.15561858586967, 5.102626170776785, 5.306386022381485, 5.181827557757497, 5.064150472395122, 5.218263981938362, 5.1934698026254775, 5.220842763632536, 5.094147684536875, 5.186950975954533, 5.277704075276851, 5.153262359276414, 5.158523515351117, 5.250758710019291, 5.281736856661737, 5.1620757971704005, 5.121279909200966, 5.060195054039359, 5.126660135835409, 5.285472669005394]\n",
      "[7.717712879180908, 6.955950736999512, 6.704439640045166, 6.528388023376465, 6.3274617195129395, 6.1996750831604, 6.113377094268799, 6.011967658996582, 5.910389423370361, 5.87477970123291, 5.860624313354492, 5.7814507484436035, 5.771292686462402, 5.716648101806641, 5.757233619689941, 5.679626941680908, 5.713437080383301, 5.611827850341797, 5.663970947265625, 5.621941566467285, 5.755812644958496, 5.623030662536621, 5.574612617492676, 5.539113998413086, 5.730890274047852, 5.500331401824951, 5.504433631896973, 5.448913097381592, 5.507577896118164, 5.510786056518555, 5.459959983825684, 5.4007673263549805, 5.396493434906006, 5.44691276550293, 5.382143497467041, 5.412578582763672, 5.4137701988220215, 5.555471897125244, 5.43337869644165, 5.491706371307373, 5.595604419708252, 5.40668249130249, 5.5386128425598145, 5.346236705780029, 5.419410228729248, 5.356541156768799, 5.332381248474121, 5.363884449005127, 5.393413543701172, 5.354836940765381, 5.307928085327148, 5.325294494628906, 5.297708034515381, 5.33036994934082, 5.321070194244385, 5.3252997398376465, 5.322055816650391, 5.327525615692139, 5.321632385253906, 5.270559787750244, 5.568323612213135, 5.401540279388428, 5.27060604095459, 5.273929595947266, 5.256091117858887, 5.263978481292725, 5.2708282470703125, 5.270179748535156, 5.307251453399658, 5.20893669128418, 5.262117862701416, 5.2497735023498535, 5.262760639190674, 5.3784050941467285, 5.251499176025391, 5.226221561431885, 5.271778583526611, 5.216109752655029, 5.269227504730225, 5.23778772354126, 5.283673286437988, 5.283777236938477, 5.235329627990723]\n"
     ]
    },
    {
     "name": "stderr",
     "output_type": "stream",
     "text": [
      "0.161804: 100%|██████████| 3200/3200 [02:22<00:00, 22.48it/s]\n"
     ]
    },
    {
     "name": "stdout",
     "output_type": "stream",
     "text": [
      "4276/4276 [==============================] - 69s 16ms/step - loss: 5.2918\n",
      "Epoch 83 loss 5.176167735867202 val loss 5.291813850402832\n",
      "[8.99688381895423, 7.447008701860905, 6.819614188373089, 6.756220295354724, 6.3309409860521555, 6.210726347230374, 6.219333339333534, 6.225389459840954, 5.978656517714262, 5.980397833921015, 5.72186337761581, 5.895540365539492, 5.849212531298399, 5.690261988639832, 5.624563320577145, 5.679155041836202, 5.586134704425931, 5.654708657674491, 5.715709848292172, 5.5188806889951225, 5.497861228436232, 5.571464146263898, 5.4665602750703695, 5.551240729577839, 5.368751032687723, 5.420417926572263, 5.53939581360668, 5.477566199973226, 5.522608667239547, 5.405717139951885, 5.456880302615463, 5.49130221568048, 5.47696663826704, 5.463503729626536, 5.355901707224548, 5.425206321999431, 5.4836160293594, 5.3817997147515415, 5.310110193789005, 5.2941837514936925, 5.384898569844663, 5.439891175143421, 5.379424596503377, 5.37850166361779, 5.273312831632793, 5.394021689407527, 5.30100776463747, 5.299571858793497, 5.346060801483691, 5.293473369292915, 5.3672544518485665, 5.2196143627166744, 5.376763070374727, 5.3546421390399335, 5.37157914634794, 5.220500768907368, 5.325444615446031, 5.172556496858597, 5.316729328632355, 5.310623440630734, 5.4102950366958975, 5.099037979356945, 5.2540016291290526, 5.15561858586967, 5.102626170776785, 5.306386022381485, 5.181827557757497, 5.064150472395122, 5.218263981938362, 5.1934698026254775, 5.220842763632536, 5.094147684536875, 5.186950975954533, 5.277704075276851, 5.153262359276414, 5.158523515351117, 5.250758710019291, 5.281736856661737, 5.1620757971704005, 5.121279909200966, 5.060195054039359, 5.126660135835409, 5.285472669005394, 5.176167735867202]\n",
      "[7.717712879180908, 6.955950736999512, 6.704439640045166, 6.528388023376465, 6.3274617195129395, 6.1996750831604, 6.113377094268799, 6.011967658996582, 5.910389423370361, 5.87477970123291, 5.860624313354492, 5.7814507484436035, 5.771292686462402, 5.716648101806641, 5.757233619689941, 5.679626941680908, 5.713437080383301, 5.611827850341797, 5.663970947265625, 5.621941566467285, 5.755812644958496, 5.623030662536621, 5.574612617492676, 5.539113998413086, 5.730890274047852, 5.500331401824951, 5.504433631896973, 5.448913097381592, 5.507577896118164, 5.510786056518555, 5.459959983825684, 5.4007673263549805, 5.396493434906006, 5.44691276550293, 5.382143497467041, 5.412578582763672, 5.4137701988220215, 5.555471897125244, 5.43337869644165, 5.491706371307373, 5.595604419708252, 5.40668249130249, 5.5386128425598145, 5.346236705780029, 5.419410228729248, 5.356541156768799, 5.332381248474121, 5.363884449005127, 5.393413543701172, 5.354836940765381, 5.307928085327148, 5.325294494628906, 5.297708034515381, 5.33036994934082, 5.321070194244385, 5.3252997398376465, 5.322055816650391, 5.327525615692139, 5.321632385253906, 5.270559787750244, 5.568323612213135, 5.401540279388428, 5.27060604095459, 5.273929595947266, 5.256091117858887, 5.263978481292725, 5.2708282470703125, 5.270179748535156, 5.307251453399658, 5.20893669128418, 5.262117862701416, 5.2497735023498535, 5.262760639190674, 5.3784050941467285, 5.251499176025391, 5.226221561431885, 5.271778583526611, 5.216109752655029, 5.269227504730225, 5.23778772354126, 5.283673286437988, 5.283777236938477, 5.235329627990723, 5.291813850402832]\n"
     ]
    },
    {
     "name": "stderr",
     "output_type": "stream",
     "text": [
      "0.164334: 100%|██████████| 3200/3200 [02:22<00:00, 22.48it/s]\n"
     ]
    },
    {
     "name": "stdout",
     "output_type": "stream",
     "text": [
      "4276/4276 [==============================] - 69s 16ms/step - loss: 5.2463\n",
      "Epoch 84 loss 5.257092254795134 val loss 5.246300220489502\n",
      "[8.99688381895423, 7.447008701860905, 6.819614188373089, 6.756220295354724, 6.3309409860521555, 6.210726347230374, 6.219333339333534, 6.225389459840954, 5.978656517714262, 5.980397833921015, 5.72186337761581, 5.895540365539492, 5.849212531298399, 5.690261988639832, 5.624563320577145, 5.679155041836202, 5.586134704425931, 5.654708657674491, 5.715709848292172, 5.5188806889951225, 5.497861228436232, 5.571464146263898, 5.4665602750703695, 5.551240729577839, 5.368751032687723, 5.420417926572263, 5.53939581360668, 5.477566199973226, 5.522608667239547, 5.405717139951885, 5.456880302615463, 5.49130221568048, 5.47696663826704, 5.463503729626536, 5.355901707224548, 5.425206321999431, 5.4836160293594, 5.3817997147515415, 5.310110193789005, 5.2941837514936925, 5.384898569844663, 5.439891175143421, 5.379424596503377, 5.37850166361779, 5.273312831632793, 5.394021689407527, 5.30100776463747, 5.299571858793497, 5.346060801483691, 5.293473369292915, 5.3672544518485665, 5.2196143627166744, 5.376763070374727, 5.3546421390399335, 5.37157914634794, 5.220500768907368, 5.325444615446031, 5.172556496858597, 5.316729328632355, 5.310623440630734, 5.4102950366958975, 5.099037979356945, 5.2540016291290526, 5.15561858586967, 5.102626170776785, 5.306386022381485, 5.181827557757497, 5.064150472395122, 5.218263981938362, 5.1934698026254775, 5.220842763632536, 5.094147684536875, 5.186950975954533, 5.277704075276851, 5.153262359276414, 5.158523515351117, 5.250758710019291, 5.281736856661737, 5.1620757971704005, 5.121279909200966, 5.060195054039359, 5.126660135835409, 5.285472669005394, 5.176167735867202, 5.257092254795134]\n",
      "[7.717712879180908, 6.955950736999512, 6.704439640045166, 6.528388023376465, 6.3274617195129395, 6.1996750831604, 6.113377094268799, 6.011967658996582, 5.910389423370361, 5.87477970123291, 5.860624313354492, 5.7814507484436035, 5.771292686462402, 5.716648101806641, 5.757233619689941, 5.679626941680908, 5.713437080383301, 5.611827850341797, 5.663970947265625, 5.621941566467285, 5.755812644958496, 5.623030662536621, 5.574612617492676, 5.539113998413086, 5.730890274047852, 5.500331401824951, 5.504433631896973, 5.448913097381592, 5.507577896118164, 5.510786056518555, 5.459959983825684, 5.4007673263549805, 5.396493434906006, 5.44691276550293, 5.382143497467041, 5.412578582763672, 5.4137701988220215, 5.555471897125244, 5.43337869644165, 5.491706371307373, 5.595604419708252, 5.40668249130249, 5.5386128425598145, 5.346236705780029, 5.419410228729248, 5.356541156768799, 5.332381248474121, 5.363884449005127, 5.393413543701172, 5.354836940765381, 5.307928085327148, 5.325294494628906, 5.297708034515381, 5.33036994934082, 5.321070194244385, 5.3252997398376465, 5.322055816650391, 5.327525615692139, 5.321632385253906, 5.270559787750244, 5.568323612213135, 5.401540279388428, 5.27060604095459, 5.273929595947266, 5.256091117858887, 5.263978481292725, 5.2708282470703125, 5.270179748535156, 5.307251453399658, 5.20893669128418, 5.262117862701416, 5.2497735023498535, 5.262760639190674, 5.3784050941467285, 5.251499176025391, 5.226221561431885, 5.271778583526611, 5.216109752655029, 5.269227504730225, 5.23778772354126, 5.283673286437988, 5.283777236938477, 5.235329627990723, 5.291813850402832, 5.246300220489502]\n"
     ]
    },
    {
     "name": "stderr",
     "output_type": "stream",
     "text": [
      "0.164655: 100%|██████████| 3200/3200 [02:22<00:00, 22.49it/s]\n"
     ]
    },
    {
     "name": "stdout",
     "output_type": "stream",
     "text": [
      "4276/4276 [==============================] - 69s 16ms/step - loss: 5.1902\n",
      "Epoch 85 loss 5.267357801534235 val loss 5.190190315246582\n",
      "[8.99688381895423, 7.447008701860905, 6.819614188373089, 6.756220295354724, 6.3309409860521555, 6.210726347230374, 6.219333339333534, 6.225389459840954, 5.978656517714262, 5.980397833921015, 5.72186337761581, 5.895540365539492, 5.849212531298399, 5.690261988639832, 5.624563320577145, 5.679155041836202, 5.586134704425931, 5.654708657674491, 5.715709848292172, 5.5188806889951225, 5.497861228436232, 5.571464146263898, 5.4665602750703695, 5.551240729577839, 5.368751032687723, 5.420417926572263, 5.53939581360668, 5.477566199973226, 5.522608667239547, 5.405717139951885, 5.456880302615463, 5.49130221568048, 5.47696663826704, 5.463503729626536, 5.355901707224548, 5.425206321999431, 5.4836160293594, 5.3817997147515415, 5.310110193789005, 5.2941837514936925, 5.384898569844663, 5.439891175143421, 5.379424596503377, 5.37850166361779, 5.273312831632793, 5.394021689407527, 5.30100776463747, 5.299571858793497, 5.346060801483691, 5.293473369292915, 5.3672544518485665, 5.2196143627166744, 5.376763070374727, 5.3546421390399335, 5.37157914634794, 5.220500768907368, 5.325444615446031, 5.172556496858597, 5.316729328632355, 5.310623440630734, 5.4102950366958975, 5.099037979356945, 5.2540016291290526, 5.15561858586967, 5.102626170776785, 5.306386022381485, 5.181827557757497, 5.064150472395122, 5.218263981938362, 5.1934698026254775, 5.220842763632536, 5.094147684536875, 5.186950975954533, 5.277704075276851, 5.153262359276414, 5.158523515351117, 5.250758710019291, 5.281736856661737, 5.1620757971704005, 5.121279909200966, 5.060195054039359, 5.126660135835409, 5.285472669005394, 5.176167735867202, 5.257092254795134, 5.267357801534235]\n",
      "[7.717712879180908, 6.955950736999512, 6.704439640045166, 6.528388023376465, 6.3274617195129395, 6.1996750831604, 6.113377094268799, 6.011967658996582, 5.910389423370361, 5.87477970123291, 5.860624313354492, 5.7814507484436035, 5.771292686462402, 5.716648101806641, 5.757233619689941, 5.679626941680908, 5.713437080383301, 5.611827850341797, 5.663970947265625, 5.621941566467285, 5.755812644958496, 5.623030662536621, 5.574612617492676, 5.539113998413086, 5.730890274047852, 5.500331401824951, 5.504433631896973, 5.448913097381592, 5.507577896118164, 5.510786056518555, 5.459959983825684, 5.4007673263549805, 5.396493434906006, 5.44691276550293, 5.382143497467041, 5.412578582763672, 5.4137701988220215, 5.555471897125244, 5.43337869644165, 5.491706371307373, 5.595604419708252, 5.40668249130249, 5.5386128425598145, 5.346236705780029, 5.419410228729248, 5.356541156768799, 5.332381248474121, 5.363884449005127, 5.393413543701172, 5.354836940765381, 5.307928085327148, 5.325294494628906, 5.297708034515381, 5.33036994934082, 5.321070194244385, 5.3252997398376465, 5.322055816650391, 5.327525615692139, 5.321632385253906, 5.270559787750244, 5.568323612213135, 5.401540279388428, 5.27060604095459, 5.273929595947266, 5.256091117858887, 5.263978481292725, 5.2708282470703125, 5.270179748535156, 5.307251453399658, 5.20893669128418, 5.262117862701416, 5.2497735023498535, 5.262760639190674, 5.3784050941467285, 5.251499176025391, 5.226221561431885, 5.271778583526611, 5.216109752655029, 5.269227504730225, 5.23778772354126, 5.283673286437988, 5.283777236938477, 5.235329627990723, 5.291813850402832, 5.246300220489502, 5.190190315246582]\n"
     ]
    },
    {
     "name": "stderr",
     "output_type": "stream",
     "text": [
      "0.160361: 100%|██████████| 3200/3200 [02:22<00:00, 22.46it/s]\n"
     ]
    },
    {
     "name": "stdout",
     "output_type": "stream",
     "text": [
      "4276/4276 [==============================] - 69s 16ms/step - loss: 5.2208\n",
      "Epoch 86 loss 5.129995215758681 val loss 5.220808982849121\n",
      "[8.99688381895423, 7.447008701860905, 6.819614188373089, 6.756220295354724, 6.3309409860521555, 6.210726347230374, 6.219333339333534, 6.225389459840954, 5.978656517714262, 5.980397833921015, 5.72186337761581, 5.895540365539492, 5.849212531298399, 5.690261988639832, 5.624563320577145, 5.679155041836202, 5.586134704425931, 5.654708657674491, 5.715709848292172, 5.5188806889951225, 5.497861228436232, 5.571464146263898, 5.4665602750703695, 5.551240729577839, 5.368751032687723, 5.420417926572263, 5.53939581360668, 5.477566199973226, 5.522608667239547, 5.405717139951885, 5.456880302615463, 5.49130221568048, 5.47696663826704, 5.463503729626536, 5.355901707224548, 5.425206321999431, 5.4836160293594, 5.3817997147515415, 5.310110193789005, 5.2941837514936925, 5.384898569844663, 5.439891175143421, 5.379424596503377, 5.37850166361779, 5.273312831632793, 5.394021689407527, 5.30100776463747, 5.299571858793497, 5.346060801483691, 5.293473369292915, 5.3672544518485665, 5.2196143627166744, 5.376763070374727, 5.3546421390399335, 5.37157914634794, 5.220500768907368, 5.325444615446031, 5.172556496858597, 5.316729328632355, 5.310623440630734, 5.4102950366958975, 5.099037979356945, 5.2540016291290526, 5.15561858586967, 5.102626170776785, 5.306386022381485, 5.181827557757497, 5.064150472395122, 5.218263981938362, 5.1934698026254775, 5.220842763632536, 5.094147684536875, 5.186950975954533, 5.277704075276851, 5.153262359276414, 5.158523515351117, 5.250758710019291, 5.281736856661737, 5.1620757971704005, 5.121279909200966, 5.060195054039359, 5.126660135835409, 5.285472669005394, 5.176167735867202, 5.257092254795134, 5.267357801534235, 5.129995215758681]\n",
      "[7.717712879180908, 6.955950736999512, 6.704439640045166, 6.528388023376465, 6.3274617195129395, 6.1996750831604, 6.113377094268799, 6.011967658996582, 5.910389423370361, 5.87477970123291, 5.860624313354492, 5.7814507484436035, 5.771292686462402, 5.716648101806641, 5.757233619689941, 5.679626941680908, 5.713437080383301, 5.611827850341797, 5.663970947265625, 5.621941566467285, 5.755812644958496, 5.623030662536621, 5.574612617492676, 5.539113998413086, 5.730890274047852, 5.500331401824951, 5.504433631896973, 5.448913097381592, 5.507577896118164, 5.510786056518555, 5.459959983825684, 5.4007673263549805, 5.396493434906006, 5.44691276550293, 5.382143497467041, 5.412578582763672, 5.4137701988220215, 5.555471897125244, 5.43337869644165, 5.491706371307373, 5.595604419708252, 5.40668249130249, 5.5386128425598145, 5.346236705780029, 5.419410228729248, 5.356541156768799, 5.332381248474121, 5.363884449005127, 5.393413543701172, 5.354836940765381, 5.307928085327148, 5.325294494628906, 5.297708034515381, 5.33036994934082, 5.321070194244385, 5.3252997398376465, 5.322055816650391, 5.327525615692139, 5.321632385253906, 5.270559787750244, 5.568323612213135, 5.401540279388428, 5.27060604095459, 5.273929595947266, 5.256091117858887, 5.263978481292725, 5.2708282470703125, 5.270179748535156, 5.307251453399658, 5.20893669128418, 5.262117862701416, 5.2497735023498535, 5.262760639190674, 5.3784050941467285, 5.251499176025391, 5.226221561431885, 5.271778583526611, 5.216109752655029, 5.269227504730225, 5.23778772354126, 5.283673286437988, 5.283777236938477, 5.235329627990723, 5.291813850402832, 5.246300220489502, 5.190190315246582, 5.220808982849121]\n"
     ]
    },
    {
     "name": "stderr",
     "output_type": "stream",
     "text": [
      "0.168165: 100%|██████████| 3200/3200 [02:22<00:00, 22.45it/s]\n"
     ]
    },
    {
     "name": "stdout",
     "output_type": "stream",
     "text": [
      "4276/4276 [==============================] - 69s 16ms/step - loss: 5.2335\n",
      "Epoch 87 loss 5.379664176553487 val loss 5.2335100173950195\n",
      "[8.99688381895423, 7.447008701860905, 6.819614188373089, 6.756220295354724, 6.3309409860521555, 6.210726347230374, 6.219333339333534, 6.225389459840954, 5.978656517714262, 5.980397833921015, 5.72186337761581, 5.895540365539492, 5.849212531298399, 5.690261988639832, 5.624563320577145, 5.679155041836202, 5.586134704425931, 5.654708657674491, 5.715709848292172, 5.5188806889951225, 5.497861228436232, 5.571464146263898, 5.4665602750703695, 5.551240729577839, 5.368751032687723, 5.420417926572263, 5.53939581360668, 5.477566199973226, 5.522608667239547, 5.405717139951885, 5.456880302615463, 5.49130221568048, 5.47696663826704, 5.463503729626536, 5.355901707224548, 5.425206321999431, 5.4836160293594, 5.3817997147515415, 5.310110193789005, 5.2941837514936925, 5.384898569844663, 5.439891175143421, 5.379424596503377, 5.37850166361779, 5.273312831632793, 5.394021689407527, 5.30100776463747, 5.299571858793497, 5.346060801483691, 5.293473369292915, 5.3672544518485665, 5.2196143627166744, 5.376763070374727, 5.3546421390399335, 5.37157914634794, 5.220500768907368, 5.325444615446031, 5.172556496858597, 5.316729328632355, 5.310623440630734, 5.4102950366958975, 5.099037979356945, 5.2540016291290526, 5.15561858586967, 5.102626170776785, 5.306386022381485, 5.181827557757497, 5.064150472395122, 5.218263981938362, 5.1934698026254775, 5.220842763632536, 5.094147684536875, 5.186950975954533, 5.277704075276851, 5.153262359276414, 5.158523515351117, 5.250758710019291, 5.281736856661737, 5.1620757971704005, 5.121279909200966, 5.060195054039359, 5.126660135835409, 5.285472669005394, 5.176167735867202, 5.257092254795134, 5.267357801534235, 5.129995215758681, 5.379664176553487]\n",
      "[7.717712879180908, 6.955950736999512, 6.704439640045166, 6.528388023376465, 6.3274617195129395, 6.1996750831604, 6.113377094268799, 6.011967658996582, 5.910389423370361, 5.87477970123291, 5.860624313354492, 5.7814507484436035, 5.771292686462402, 5.716648101806641, 5.757233619689941, 5.679626941680908, 5.713437080383301, 5.611827850341797, 5.663970947265625, 5.621941566467285, 5.755812644958496, 5.623030662536621, 5.574612617492676, 5.539113998413086, 5.730890274047852, 5.500331401824951, 5.504433631896973, 5.448913097381592, 5.507577896118164, 5.510786056518555, 5.459959983825684, 5.4007673263549805, 5.396493434906006, 5.44691276550293, 5.382143497467041, 5.412578582763672, 5.4137701988220215, 5.555471897125244, 5.43337869644165, 5.491706371307373, 5.595604419708252, 5.40668249130249, 5.5386128425598145, 5.346236705780029, 5.419410228729248, 5.356541156768799, 5.332381248474121, 5.363884449005127, 5.393413543701172, 5.354836940765381, 5.307928085327148, 5.325294494628906, 5.297708034515381, 5.33036994934082, 5.321070194244385, 5.3252997398376465, 5.322055816650391, 5.327525615692139, 5.321632385253906, 5.270559787750244, 5.568323612213135, 5.401540279388428, 5.27060604095459, 5.273929595947266, 5.256091117858887, 5.263978481292725, 5.2708282470703125, 5.270179748535156, 5.307251453399658, 5.20893669128418, 5.262117862701416, 5.2497735023498535, 5.262760639190674, 5.3784050941467285, 5.251499176025391, 5.226221561431885, 5.271778583526611, 5.216109752655029, 5.269227504730225, 5.23778772354126, 5.283673286437988, 5.283777236938477, 5.235329627990723, 5.291813850402832, 5.246300220489502, 5.190190315246582, 5.220808982849121, 5.2335100173950195]\n"
     ]
    },
    {
     "name": "stderr",
     "output_type": "stream",
     "text": [
      "0.161478: 100%|██████████| 3200/3200 [02:24<00:00, 22.17it/s]\n"
     ]
    },
    {
     "name": "stdout",
     "output_type": "stream",
     "text": [
      "4276/4276 [==============================] - 69s 16ms/step - loss: 5.2740\n",
      "Epoch 88 loss 5.165719314590096 val loss 5.274011135101318\n",
      "[8.99688381895423, 7.447008701860905, 6.819614188373089, 6.756220295354724, 6.3309409860521555, 6.210726347230374, 6.219333339333534, 6.225389459840954, 5.978656517714262, 5.980397833921015, 5.72186337761581, 5.895540365539492, 5.849212531298399, 5.690261988639832, 5.624563320577145, 5.679155041836202, 5.586134704425931, 5.654708657674491, 5.715709848292172, 5.5188806889951225, 5.497861228436232, 5.571464146263898, 5.4665602750703695, 5.551240729577839, 5.368751032687723, 5.420417926572263, 5.53939581360668, 5.477566199973226, 5.522608667239547, 5.405717139951885, 5.456880302615463, 5.49130221568048, 5.47696663826704, 5.463503729626536, 5.355901707224548, 5.425206321999431, 5.4836160293594, 5.3817997147515415, 5.310110193789005, 5.2941837514936925, 5.384898569844663, 5.439891175143421, 5.379424596503377, 5.37850166361779, 5.273312831632793, 5.394021689407527, 5.30100776463747, 5.299571858793497, 5.346060801483691, 5.293473369292915, 5.3672544518485665, 5.2196143627166744, 5.376763070374727, 5.3546421390399335, 5.37157914634794, 5.220500768907368, 5.325444615446031, 5.172556496858597, 5.316729328632355, 5.310623440630734, 5.4102950366958975, 5.099037979356945, 5.2540016291290526, 5.15561858586967, 5.102626170776785, 5.306386022381485, 5.181827557757497, 5.064150472395122, 5.218263981938362, 5.1934698026254775, 5.220842763632536, 5.094147684536875, 5.186950975954533, 5.277704075276851, 5.153262359276414, 5.158523515351117, 5.250758710019291, 5.281736856661737, 5.1620757971704005, 5.121279909200966, 5.060195054039359, 5.126660135835409, 5.285472669005394, 5.176167735867202, 5.257092254795134, 5.267357801534235, 5.129995215758681, 5.379664176553487, 5.165719314590096]\n",
      "[7.717712879180908, 6.955950736999512, 6.704439640045166, 6.528388023376465, 6.3274617195129395, 6.1996750831604, 6.113377094268799, 6.011967658996582, 5.910389423370361, 5.87477970123291, 5.860624313354492, 5.7814507484436035, 5.771292686462402, 5.716648101806641, 5.757233619689941, 5.679626941680908, 5.713437080383301, 5.611827850341797, 5.663970947265625, 5.621941566467285, 5.755812644958496, 5.623030662536621, 5.574612617492676, 5.539113998413086, 5.730890274047852, 5.500331401824951, 5.504433631896973, 5.448913097381592, 5.507577896118164, 5.510786056518555, 5.459959983825684, 5.4007673263549805, 5.396493434906006, 5.44691276550293, 5.382143497467041, 5.412578582763672, 5.4137701988220215, 5.555471897125244, 5.43337869644165, 5.491706371307373, 5.595604419708252, 5.40668249130249, 5.5386128425598145, 5.346236705780029, 5.419410228729248, 5.356541156768799, 5.332381248474121, 5.363884449005127, 5.393413543701172, 5.354836940765381, 5.307928085327148, 5.325294494628906, 5.297708034515381, 5.33036994934082, 5.321070194244385, 5.3252997398376465, 5.322055816650391, 5.327525615692139, 5.321632385253906, 5.270559787750244, 5.568323612213135, 5.401540279388428, 5.27060604095459, 5.273929595947266, 5.256091117858887, 5.263978481292725, 5.2708282470703125, 5.270179748535156, 5.307251453399658, 5.20893669128418, 5.262117862701416, 5.2497735023498535, 5.262760639190674, 5.3784050941467285, 5.251499176025391, 5.226221561431885, 5.271778583526611, 5.216109752655029, 5.269227504730225, 5.23778772354126, 5.283673286437988, 5.283777236938477, 5.235329627990723, 5.291813850402832, 5.246300220489502, 5.190190315246582, 5.220808982849121, 5.2335100173950195, 5.274011135101318]\n"
     ]
    },
    {
     "name": "stderr",
     "output_type": "stream",
     "text": [
      "0.164752: 100%|██████████| 3200/3200 [02:22<00:00, 22.47it/s]\n"
     ]
    },
    {
     "name": "stdout",
     "output_type": "stream",
     "text": [
      "4276/4276 [==============================] - 69s 16ms/step - loss: 5.2709\n",
      "Epoch 89 loss 5.270458497293293 val loss 5.270923137664795\n",
      "[8.99688381895423, 7.447008701860905, 6.819614188373089, 6.756220295354724, 6.3309409860521555, 6.210726347230374, 6.219333339333534, 6.225389459840954, 5.978656517714262, 5.980397833921015, 5.72186337761581, 5.895540365539492, 5.849212531298399, 5.690261988639832, 5.624563320577145, 5.679155041836202, 5.586134704425931, 5.654708657674491, 5.715709848292172, 5.5188806889951225, 5.497861228436232, 5.571464146263898, 5.4665602750703695, 5.551240729577839, 5.368751032687723, 5.420417926572263, 5.53939581360668, 5.477566199973226, 5.522608667239547, 5.405717139951885, 5.456880302615463, 5.49130221568048, 5.47696663826704, 5.463503729626536, 5.355901707224548, 5.425206321999431, 5.4836160293594, 5.3817997147515415, 5.310110193789005, 5.2941837514936925, 5.384898569844663, 5.439891175143421, 5.379424596503377, 5.37850166361779, 5.273312831632793, 5.394021689407527, 5.30100776463747, 5.299571858793497, 5.346060801483691, 5.293473369292915, 5.3672544518485665, 5.2196143627166744, 5.376763070374727, 5.3546421390399335, 5.37157914634794, 5.220500768907368, 5.325444615446031, 5.172556496858597, 5.316729328632355, 5.310623440630734, 5.4102950366958975, 5.099037979356945, 5.2540016291290526, 5.15561858586967, 5.102626170776785, 5.306386022381485, 5.181827557757497, 5.064150472395122, 5.218263981938362, 5.1934698026254775, 5.220842763632536, 5.094147684536875, 5.186950975954533, 5.277704075276851, 5.153262359276414, 5.158523515351117, 5.250758710019291, 5.281736856661737, 5.1620757971704005, 5.121279909200966, 5.060195054039359, 5.126660135835409, 5.285472669005394, 5.176167735867202, 5.257092254795134, 5.267357801534235, 5.129995215758681, 5.379664176553487, 5.165719314590096, 5.270458497293293]\n",
      "[7.717712879180908, 6.955950736999512, 6.704439640045166, 6.528388023376465, 6.3274617195129395, 6.1996750831604, 6.113377094268799, 6.011967658996582, 5.910389423370361, 5.87477970123291, 5.860624313354492, 5.7814507484436035, 5.771292686462402, 5.716648101806641, 5.757233619689941, 5.679626941680908, 5.713437080383301, 5.611827850341797, 5.663970947265625, 5.621941566467285, 5.755812644958496, 5.623030662536621, 5.574612617492676, 5.539113998413086, 5.730890274047852, 5.500331401824951, 5.504433631896973, 5.448913097381592, 5.507577896118164, 5.510786056518555, 5.459959983825684, 5.4007673263549805, 5.396493434906006, 5.44691276550293, 5.382143497467041, 5.412578582763672, 5.4137701988220215, 5.555471897125244, 5.43337869644165, 5.491706371307373, 5.595604419708252, 5.40668249130249, 5.5386128425598145, 5.346236705780029, 5.419410228729248, 5.356541156768799, 5.332381248474121, 5.363884449005127, 5.393413543701172, 5.354836940765381, 5.307928085327148, 5.325294494628906, 5.297708034515381, 5.33036994934082, 5.321070194244385, 5.3252997398376465, 5.322055816650391, 5.327525615692139, 5.321632385253906, 5.270559787750244, 5.568323612213135, 5.401540279388428, 5.27060604095459, 5.273929595947266, 5.256091117858887, 5.263978481292725, 5.2708282470703125, 5.270179748535156, 5.307251453399658, 5.20893669128418, 5.262117862701416, 5.2497735023498535, 5.262760639190674, 5.3784050941467285, 5.251499176025391, 5.226221561431885, 5.271778583526611, 5.216109752655029, 5.269227504730225, 5.23778772354126, 5.283673286437988, 5.283777236938477, 5.235329627990723, 5.291813850402832, 5.246300220489502, 5.190190315246582, 5.220808982849121, 5.2335100173950195, 5.274011135101318, 5.270923137664795]\n"
     ]
    },
    {
     "name": "stderr",
     "output_type": "stream",
     "text": [
      "0.161793: 100%|██████████| 3200/3200 [02:23<00:00, 22.34it/s]\n"
     ]
    },
    {
     "name": "stdout",
     "output_type": "stream",
     "text": [
      "4276/4276 [==============================] - 69s 16ms/step - loss: 5.2729\n",
      "Epoch 90 loss 5.1758036893606185 val loss 5.272883892059326\n",
      "[8.99688381895423, 7.447008701860905, 6.819614188373089, 6.756220295354724, 6.3309409860521555, 6.210726347230374, 6.219333339333534, 6.225389459840954, 5.978656517714262, 5.980397833921015, 5.72186337761581, 5.895540365539492, 5.849212531298399, 5.690261988639832, 5.624563320577145, 5.679155041836202, 5.586134704425931, 5.654708657674491, 5.715709848292172, 5.5188806889951225, 5.497861228436232, 5.571464146263898, 5.4665602750703695, 5.551240729577839, 5.368751032687723, 5.420417926572263, 5.53939581360668, 5.477566199973226, 5.522608667239547, 5.405717139951885, 5.456880302615463, 5.49130221568048, 5.47696663826704, 5.463503729626536, 5.355901707224548, 5.425206321999431, 5.4836160293594, 5.3817997147515415, 5.310110193789005, 5.2941837514936925, 5.384898569844663, 5.439891175143421, 5.379424596503377, 5.37850166361779, 5.273312831632793, 5.394021689407527, 5.30100776463747, 5.299571858793497, 5.346060801483691, 5.293473369292915, 5.3672544518485665, 5.2196143627166744, 5.376763070374727, 5.3546421390399335, 5.37157914634794, 5.220500768907368, 5.325444615446031, 5.172556496858597, 5.316729328632355, 5.310623440630734, 5.4102950366958975, 5.099037979356945, 5.2540016291290526, 5.15561858586967, 5.102626170776785, 5.306386022381485, 5.181827557757497, 5.064150472395122, 5.218263981938362, 5.1934698026254775, 5.220842763632536, 5.094147684536875, 5.186950975954533, 5.277704075276851, 5.153262359276414, 5.158523515351117, 5.250758710019291, 5.281736856661737, 5.1620757971704005, 5.121279909200966, 5.060195054039359, 5.126660135835409, 5.285472669005394, 5.176167735867202, 5.257092254795134, 5.267357801534235, 5.129995215758681, 5.379664176553487, 5.165719314590096, 5.270458497293293, 5.1758036893606185]\n",
      "[7.717712879180908, 6.955950736999512, 6.704439640045166, 6.528388023376465, 6.3274617195129395, 6.1996750831604, 6.113377094268799, 6.011967658996582, 5.910389423370361, 5.87477970123291, 5.860624313354492, 5.7814507484436035, 5.771292686462402, 5.716648101806641, 5.757233619689941, 5.679626941680908, 5.713437080383301, 5.611827850341797, 5.663970947265625, 5.621941566467285, 5.755812644958496, 5.623030662536621, 5.574612617492676, 5.539113998413086, 5.730890274047852, 5.500331401824951, 5.504433631896973, 5.448913097381592, 5.507577896118164, 5.510786056518555, 5.459959983825684, 5.4007673263549805, 5.396493434906006, 5.44691276550293, 5.382143497467041, 5.412578582763672, 5.4137701988220215, 5.555471897125244, 5.43337869644165, 5.491706371307373, 5.595604419708252, 5.40668249130249, 5.5386128425598145, 5.346236705780029, 5.419410228729248, 5.356541156768799, 5.332381248474121, 5.363884449005127, 5.393413543701172, 5.354836940765381, 5.307928085327148, 5.325294494628906, 5.297708034515381, 5.33036994934082, 5.321070194244385, 5.3252997398376465, 5.322055816650391, 5.327525615692139, 5.321632385253906, 5.270559787750244, 5.568323612213135, 5.401540279388428, 5.27060604095459, 5.273929595947266, 5.256091117858887, 5.263978481292725, 5.2708282470703125, 5.270179748535156, 5.307251453399658, 5.20893669128418, 5.262117862701416, 5.2497735023498535, 5.262760639190674, 5.3784050941467285, 5.251499176025391, 5.226221561431885, 5.271778583526611, 5.216109752655029, 5.269227504730225, 5.23778772354126, 5.283673286437988, 5.283777236938477, 5.235329627990723, 5.291813850402832, 5.246300220489502, 5.190190315246582, 5.220808982849121, 5.2335100173950195, 5.274011135101318, 5.270923137664795, 5.272883892059326]\n"
     ]
    },
    {
     "name": "stderr",
     "output_type": "stream",
     "text": [
      "0.162392: 100%|██████████| 3200/3200 [02:22<00:00, 22.39it/s]\n"
     ]
    },
    {
     "name": "stdout",
     "output_type": "stream",
     "text": [
      "4276/4276 [==============================] - 68s 16ms/step - loss: 5.2186\n",
      "Epoch 91 loss 5.194981796778738 val loss 5.218605041503906\n",
      "[8.99688381895423, 7.447008701860905, 6.819614188373089, 6.756220295354724, 6.3309409860521555, 6.210726347230374, 6.219333339333534, 6.225389459840954, 5.978656517714262, 5.980397833921015, 5.72186337761581, 5.895540365539492, 5.849212531298399, 5.690261988639832, 5.624563320577145, 5.679155041836202, 5.586134704425931, 5.654708657674491, 5.715709848292172, 5.5188806889951225, 5.497861228436232, 5.571464146263898, 5.4665602750703695, 5.551240729577839, 5.368751032687723, 5.420417926572263, 5.53939581360668, 5.477566199973226, 5.522608667239547, 5.405717139951885, 5.456880302615463, 5.49130221568048, 5.47696663826704, 5.463503729626536, 5.355901707224548, 5.425206321999431, 5.4836160293594, 5.3817997147515415, 5.310110193789005, 5.2941837514936925, 5.384898569844663, 5.439891175143421, 5.379424596503377, 5.37850166361779, 5.273312831632793, 5.394021689407527, 5.30100776463747, 5.299571858793497, 5.346060801483691, 5.293473369292915, 5.3672544518485665, 5.2196143627166744, 5.376763070374727, 5.3546421390399335, 5.37157914634794, 5.220500768907368, 5.325444615446031, 5.172556496858597, 5.316729328632355, 5.310623440630734, 5.4102950366958975, 5.099037979356945, 5.2540016291290526, 5.15561858586967, 5.102626170776785, 5.306386022381485, 5.181827557757497, 5.064150472395122, 5.218263981938362, 5.1934698026254775, 5.220842763632536, 5.094147684536875, 5.186950975954533, 5.277704075276851, 5.153262359276414, 5.158523515351117, 5.250758710019291, 5.281736856661737, 5.1620757971704005, 5.121279909200966, 5.060195054039359, 5.126660135835409, 5.285472669005394, 5.176167735867202, 5.257092254795134, 5.267357801534235, 5.129995215758681, 5.379664176553487, 5.165719314590096, 5.270458497293293, 5.1758036893606185, 5.194981796778738]\n",
      "[7.717712879180908, 6.955950736999512, 6.704439640045166, 6.528388023376465, 6.3274617195129395, 6.1996750831604, 6.113377094268799, 6.011967658996582, 5.910389423370361, 5.87477970123291, 5.860624313354492, 5.7814507484436035, 5.771292686462402, 5.716648101806641, 5.757233619689941, 5.679626941680908, 5.713437080383301, 5.611827850341797, 5.663970947265625, 5.621941566467285, 5.755812644958496, 5.623030662536621, 5.574612617492676, 5.539113998413086, 5.730890274047852, 5.500331401824951, 5.504433631896973, 5.448913097381592, 5.507577896118164, 5.510786056518555, 5.459959983825684, 5.4007673263549805, 5.396493434906006, 5.44691276550293, 5.382143497467041, 5.412578582763672, 5.4137701988220215, 5.555471897125244, 5.43337869644165, 5.491706371307373, 5.595604419708252, 5.40668249130249, 5.5386128425598145, 5.346236705780029, 5.419410228729248, 5.356541156768799, 5.332381248474121, 5.363884449005127, 5.393413543701172, 5.354836940765381, 5.307928085327148, 5.325294494628906, 5.297708034515381, 5.33036994934082, 5.321070194244385, 5.3252997398376465, 5.322055816650391, 5.327525615692139, 5.321632385253906, 5.270559787750244, 5.568323612213135, 5.401540279388428, 5.27060604095459, 5.273929595947266, 5.256091117858887, 5.263978481292725, 5.2708282470703125, 5.270179748535156, 5.307251453399658, 5.20893669128418, 5.262117862701416, 5.2497735023498535, 5.262760639190674, 5.3784050941467285, 5.251499176025391, 5.226221561431885, 5.271778583526611, 5.216109752655029, 5.269227504730225, 5.23778772354126, 5.283673286437988, 5.283777236938477, 5.235329627990723, 5.291813850402832, 5.246300220489502, 5.190190315246582, 5.220808982849121, 5.2335100173950195, 5.274011135101318, 5.270923137664795, 5.272883892059326, 5.218605041503906]\n"
     ]
    },
    {
     "name": "stderr",
     "output_type": "stream",
     "text": [
      "0.158048: 100%|██████████| 3200/3200 [02:22<00:00, 22.40it/s]\n"
     ]
    },
    {
     "name": "stdout",
     "output_type": "stream",
     "text": [
      "4276/4276 [==============================] - 69s 16ms/step - loss: 5.3252\n",
      "Epoch 92 loss 5.056013089567423 val loss 5.325164794921875\n",
      "[8.99688381895423, 7.447008701860905, 6.819614188373089, 6.756220295354724, 6.3309409860521555, 6.210726347230374, 6.219333339333534, 6.225389459840954, 5.978656517714262, 5.980397833921015, 5.72186337761581, 5.895540365539492, 5.849212531298399, 5.690261988639832, 5.624563320577145, 5.679155041836202, 5.586134704425931, 5.654708657674491, 5.715709848292172, 5.5188806889951225, 5.497861228436232, 5.571464146263898, 5.4665602750703695, 5.551240729577839, 5.368751032687723, 5.420417926572263, 5.53939581360668, 5.477566199973226, 5.522608667239547, 5.405717139951885, 5.456880302615463, 5.49130221568048, 5.47696663826704, 5.463503729626536, 5.355901707224548, 5.425206321999431, 5.4836160293594, 5.3817997147515415, 5.310110193789005, 5.2941837514936925, 5.384898569844663, 5.439891175143421, 5.379424596503377, 5.37850166361779, 5.273312831632793, 5.394021689407527, 5.30100776463747, 5.299571858793497, 5.346060801483691, 5.293473369292915, 5.3672544518485665, 5.2196143627166744, 5.376763070374727, 5.3546421390399335, 5.37157914634794, 5.220500768907368, 5.325444615446031, 5.172556496858597, 5.316729328632355, 5.310623440630734, 5.4102950366958975, 5.099037979356945, 5.2540016291290526, 5.15561858586967, 5.102626170776785, 5.306386022381485, 5.181827557757497, 5.064150472395122, 5.218263981938362, 5.1934698026254775, 5.220842763632536, 5.094147684536875, 5.186950975954533, 5.277704075276851, 5.153262359276414, 5.158523515351117, 5.250758710019291, 5.281736856661737, 5.1620757971704005, 5.121279909200966, 5.060195054039359, 5.126660135835409, 5.285472669005394, 5.176167735867202, 5.257092254795134, 5.267357801534235, 5.129995215758681, 5.379664176553487, 5.165719314590096, 5.270458497293293, 5.1758036893606185, 5.194981796778738, 5.056013089567423]\n",
      "[7.717712879180908, 6.955950736999512, 6.704439640045166, 6.528388023376465, 6.3274617195129395, 6.1996750831604, 6.113377094268799, 6.011967658996582, 5.910389423370361, 5.87477970123291, 5.860624313354492, 5.7814507484436035, 5.771292686462402, 5.716648101806641, 5.757233619689941, 5.679626941680908, 5.713437080383301, 5.611827850341797, 5.663970947265625, 5.621941566467285, 5.755812644958496, 5.623030662536621, 5.574612617492676, 5.539113998413086, 5.730890274047852, 5.500331401824951, 5.504433631896973, 5.448913097381592, 5.507577896118164, 5.510786056518555, 5.459959983825684, 5.4007673263549805, 5.396493434906006, 5.44691276550293, 5.382143497467041, 5.412578582763672, 5.4137701988220215, 5.555471897125244, 5.43337869644165, 5.491706371307373, 5.595604419708252, 5.40668249130249, 5.5386128425598145, 5.346236705780029, 5.419410228729248, 5.356541156768799, 5.332381248474121, 5.363884449005127, 5.393413543701172, 5.354836940765381, 5.307928085327148, 5.325294494628906, 5.297708034515381, 5.33036994934082, 5.321070194244385, 5.3252997398376465, 5.322055816650391, 5.327525615692139, 5.321632385253906, 5.270559787750244, 5.568323612213135, 5.401540279388428, 5.27060604095459, 5.273929595947266, 5.256091117858887, 5.263978481292725, 5.2708282470703125, 5.270179748535156, 5.307251453399658, 5.20893669128418, 5.262117862701416, 5.2497735023498535, 5.262760639190674, 5.3784050941467285, 5.251499176025391, 5.226221561431885, 5.271778583526611, 5.216109752655029, 5.269227504730225, 5.23778772354126, 5.283673286437988, 5.283777236938477, 5.235329627990723, 5.291813850402832, 5.246300220489502, 5.190190315246582, 5.220808982849121, 5.2335100173950195, 5.274011135101318, 5.270923137664795, 5.272883892059326, 5.218605041503906, 5.325164794921875]\n"
     ]
    },
    {
     "name": "stderr",
     "output_type": "stream",
     "text": [
      "0.164945: 100%|██████████| 3200/3200 [02:22<00:00, 22.43it/s]\n"
     ]
    },
    {
     "name": "stdout",
     "output_type": "stream",
     "text": [
      "4276/4276 [==============================] - 69s 16ms/step - loss: 5.2200\n",
      "Epoch 93 loss 5.276657947041095 val loss 5.220015525817871\n",
      "[8.99688381895423, 7.447008701860905, 6.819614188373089, 6.756220295354724, 6.3309409860521555, 6.210726347230374, 6.219333339333534, 6.225389459840954, 5.978656517714262, 5.980397833921015, 5.72186337761581, 5.895540365539492, 5.849212531298399, 5.690261988639832, 5.624563320577145, 5.679155041836202, 5.586134704425931, 5.654708657674491, 5.715709848292172, 5.5188806889951225, 5.497861228436232, 5.571464146263898, 5.4665602750703695, 5.551240729577839, 5.368751032687723, 5.420417926572263, 5.53939581360668, 5.477566199973226, 5.522608667239547, 5.405717139951885, 5.456880302615463, 5.49130221568048, 5.47696663826704, 5.463503729626536, 5.355901707224548, 5.425206321999431, 5.4836160293594, 5.3817997147515415, 5.310110193789005, 5.2941837514936925, 5.384898569844663, 5.439891175143421, 5.379424596503377, 5.37850166361779, 5.273312831632793, 5.394021689407527, 5.30100776463747, 5.299571858793497, 5.346060801483691, 5.293473369292915, 5.3672544518485665, 5.2196143627166744, 5.376763070374727, 5.3546421390399335, 5.37157914634794, 5.220500768907368, 5.325444615446031, 5.172556496858597, 5.316729328632355, 5.310623440630734, 5.4102950366958975, 5.099037979356945, 5.2540016291290526, 5.15561858586967, 5.102626170776785, 5.306386022381485, 5.181827557757497, 5.064150472395122, 5.218263981938362, 5.1934698026254775, 5.220842763632536, 5.094147684536875, 5.186950975954533, 5.277704075276851, 5.153262359276414, 5.158523515351117, 5.250758710019291, 5.281736856661737, 5.1620757971704005, 5.121279909200966, 5.060195054039359, 5.126660135835409, 5.285472669005394, 5.176167735867202, 5.257092254795134, 5.267357801534235, 5.129995215758681, 5.379664176553487, 5.165719314590096, 5.270458497293293, 5.1758036893606185, 5.194981796778738, 5.056013089567423, 5.276657947041095]\n",
      "[7.717712879180908, 6.955950736999512, 6.704439640045166, 6.528388023376465, 6.3274617195129395, 6.1996750831604, 6.113377094268799, 6.011967658996582, 5.910389423370361, 5.87477970123291, 5.860624313354492, 5.7814507484436035, 5.771292686462402, 5.716648101806641, 5.757233619689941, 5.679626941680908, 5.713437080383301, 5.611827850341797, 5.663970947265625, 5.621941566467285, 5.755812644958496, 5.623030662536621, 5.574612617492676, 5.539113998413086, 5.730890274047852, 5.500331401824951, 5.504433631896973, 5.448913097381592, 5.507577896118164, 5.510786056518555, 5.459959983825684, 5.4007673263549805, 5.396493434906006, 5.44691276550293, 5.382143497467041, 5.412578582763672, 5.4137701988220215, 5.555471897125244, 5.43337869644165, 5.491706371307373, 5.595604419708252, 5.40668249130249, 5.5386128425598145, 5.346236705780029, 5.419410228729248, 5.356541156768799, 5.332381248474121, 5.363884449005127, 5.393413543701172, 5.354836940765381, 5.307928085327148, 5.325294494628906, 5.297708034515381, 5.33036994934082, 5.321070194244385, 5.3252997398376465, 5.322055816650391, 5.327525615692139, 5.321632385253906, 5.270559787750244, 5.568323612213135, 5.401540279388428, 5.27060604095459, 5.273929595947266, 5.256091117858887, 5.263978481292725, 5.2708282470703125, 5.270179748535156, 5.307251453399658, 5.20893669128418, 5.262117862701416, 5.2497735023498535, 5.262760639190674, 5.3784050941467285, 5.251499176025391, 5.226221561431885, 5.271778583526611, 5.216109752655029, 5.269227504730225, 5.23778772354126, 5.283673286437988, 5.283777236938477, 5.235329627990723, 5.291813850402832, 5.246300220489502, 5.190190315246582, 5.220808982849121, 5.2335100173950195, 5.274011135101318, 5.270923137664795, 5.272883892059326, 5.218605041503906, 5.325164794921875, 5.220015525817871]\n"
     ]
    },
    {
     "name": "stderr",
     "output_type": "stream",
     "text": [
      "0.162681: 100%|██████████| 3200/3200 [02:22<00:00, 22.46it/s]\n"
     ]
    },
    {
     "name": "stdout",
     "output_type": "stream",
     "text": [
      "4276/4276 [==============================] - 69s 16ms/step - loss: 5.2501\n",
      "Epoch 94 loss 5.204209983497858 val loss 5.25007438659668\n",
      "[8.99688381895423, 7.447008701860905, 6.819614188373089, 6.756220295354724, 6.3309409860521555, 6.210726347230374, 6.219333339333534, 6.225389459840954, 5.978656517714262, 5.980397833921015, 5.72186337761581, 5.895540365539492, 5.849212531298399, 5.690261988639832, 5.624563320577145, 5.679155041836202, 5.586134704425931, 5.654708657674491, 5.715709848292172, 5.5188806889951225, 5.497861228436232, 5.571464146263898, 5.4665602750703695, 5.551240729577839, 5.368751032687723, 5.420417926572263, 5.53939581360668, 5.477566199973226, 5.522608667239547, 5.405717139951885, 5.456880302615463, 5.49130221568048, 5.47696663826704, 5.463503729626536, 5.355901707224548, 5.425206321999431, 5.4836160293594, 5.3817997147515415, 5.310110193789005, 5.2941837514936925, 5.384898569844663, 5.439891175143421, 5.379424596503377, 5.37850166361779, 5.273312831632793, 5.394021689407527, 5.30100776463747, 5.299571858793497, 5.346060801483691, 5.293473369292915, 5.3672544518485665, 5.2196143627166744, 5.376763070374727, 5.3546421390399335, 5.37157914634794, 5.220500768907368, 5.325444615446031, 5.172556496858597, 5.316729328632355, 5.310623440630734, 5.4102950366958975, 5.099037979356945, 5.2540016291290526, 5.15561858586967, 5.102626170776785, 5.306386022381485, 5.181827557757497, 5.064150472395122, 5.218263981938362, 5.1934698026254775, 5.220842763632536, 5.094147684536875, 5.186950975954533, 5.277704075276851, 5.153262359276414, 5.158523515351117, 5.250758710019291, 5.281736856661737, 5.1620757971704005, 5.121279909200966, 5.060195054039359, 5.126660135835409, 5.285472669005394, 5.176167735867202, 5.257092254795134, 5.267357801534235, 5.129995215758681, 5.379664176553487, 5.165719314590096, 5.270458497293293, 5.1758036893606185, 5.194981796778738, 5.056013089567423, 5.276657947041095, 5.204209983497858]\n",
      "[7.717712879180908, 6.955950736999512, 6.704439640045166, 6.528388023376465, 6.3274617195129395, 6.1996750831604, 6.113377094268799, 6.011967658996582, 5.910389423370361, 5.87477970123291, 5.860624313354492, 5.7814507484436035, 5.771292686462402, 5.716648101806641, 5.757233619689941, 5.679626941680908, 5.713437080383301, 5.611827850341797, 5.663970947265625, 5.621941566467285, 5.755812644958496, 5.623030662536621, 5.574612617492676, 5.539113998413086, 5.730890274047852, 5.500331401824951, 5.504433631896973, 5.448913097381592, 5.507577896118164, 5.510786056518555, 5.459959983825684, 5.4007673263549805, 5.396493434906006, 5.44691276550293, 5.382143497467041, 5.412578582763672, 5.4137701988220215, 5.555471897125244, 5.43337869644165, 5.491706371307373, 5.595604419708252, 5.40668249130249, 5.5386128425598145, 5.346236705780029, 5.419410228729248, 5.356541156768799, 5.332381248474121, 5.363884449005127, 5.393413543701172, 5.354836940765381, 5.307928085327148, 5.325294494628906, 5.297708034515381, 5.33036994934082, 5.321070194244385, 5.3252997398376465, 5.322055816650391, 5.327525615692139, 5.321632385253906, 5.270559787750244, 5.568323612213135, 5.401540279388428, 5.27060604095459, 5.273929595947266, 5.256091117858887, 5.263978481292725, 5.2708282470703125, 5.270179748535156, 5.307251453399658, 5.20893669128418, 5.262117862701416, 5.2497735023498535, 5.262760639190674, 5.3784050941467285, 5.251499176025391, 5.226221561431885, 5.271778583526611, 5.216109752655029, 5.269227504730225, 5.23778772354126, 5.283673286437988, 5.283777236938477, 5.235329627990723, 5.291813850402832, 5.246300220489502, 5.190190315246582, 5.220808982849121, 5.2335100173950195, 5.274011135101318, 5.270923137664795, 5.272883892059326, 5.218605041503906, 5.325164794921875, 5.220015525817871, 5.25007438659668]\n"
     ]
    },
    {
     "name": "stderr",
     "output_type": "stream",
     "text": [
      "0.162325: 100%|██████████| 3200/3200 [02:22<00:00, 22.48it/s]\n"
     ]
    },
    {
     "name": "stdout",
     "output_type": "stream",
     "text": [
      "4276/4276 [==============================] - 69s 16ms/step - loss: 5.2290\n",
      "Epoch 95 loss 5.1928393818810585 val loss 5.228995323181152\n",
      "[8.99688381895423, 7.447008701860905, 6.819614188373089, 6.756220295354724, 6.3309409860521555, 6.210726347230374, 6.219333339333534, 6.225389459840954, 5.978656517714262, 5.980397833921015, 5.72186337761581, 5.895540365539492, 5.849212531298399, 5.690261988639832, 5.624563320577145, 5.679155041836202, 5.586134704425931, 5.654708657674491, 5.715709848292172, 5.5188806889951225, 5.497861228436232, 5.571464146263898, 5.4665602750703695, 5.551240729577839, 5.368751032687723, 5.420417926572263, 5.53939581360668, 5.477566199973226, 5.522608667239547, 5.405717139951885, 5.456880302615463, 5.49130221568048, 5.47696663826704, 5.463503729626536, 5.355901707224548, 5.425206321999431, 5.4836160293594, 5.3817997147515415, 5.310110193789005, 5.2941837514936925, 5.384898569844663, 5.439891175143421, 5.379424596503377, 5.37850166361779, 5.273312831632793, 5.394021689407527, 5.30100776463747, 5.299571858793497, 5.346060801483691, 5.293473369292915, 5.3672544518485665, 5.2196143627166744, 5.376763070374727, 5.3546421390399335, 5.37157914634794, 5.220500768907368, 5.325444615446031, 5.172556496858597, 5.316729328632355, 5.310623440630734, 5.4102950366958975, 5.099037979356945, 5.2540016291290526, 5.15561858586967, 5.102626170776785, 5.306386022381485, 5.181827557757497, 5.064150472395122, 5.218263981938362, 5.1934698026254775, 5.220842763632536, 5.094147684536875, 5.186950975954533, 5.277704075276851, 5.153262359276414, 5.158523515351117, 5.250758710019291, 5.281736856661737, 5.1620757971704005, 5.121279909200966, 5.060195054039359, 5.126660135835409, 5.285472669005394, 5.176167735867202, 5.257092254795134, 5.267357801534235, 5.129995215758681, 5.379664176553487, 5.165719314590096, 5.270458497293293, 5.1758036893606185, 5.194981796778738, 5.056013089567423, 5.276657947041095, 5.204209983497858, 5.1928393818810585]\n",
      "[7.717712879180908, 6.955950736999512, 6.704439640045166, 6.528388023376465, 6.3274617195129395, 6.1996750831604, 6.113377094268799, 6.011967658996582, 5.910389423370361, 5.87477970123291, 5.860624313354492, 5.7814507484436035, 5.771292686462402, 5.716648101806641, 5.757233619689941, 5.679626941680908, 5.713437080383301, 5.611827850341797, 5.663970947265625, 5.621941566467285, 5.755812644958496, 5.623030662536621, 5.574612617492676, 5.539113998413086, 5.730890274047852, 5.500331401824951, 5.504433631896973, 5.448913097381592, 5.507577896118164, 5.510786056518555, 5.459959983825684, 5.4007673263549805, 5.396493434906006, 5.44691276550293, 5.382143497467041, 5.412578582763672, 5.4137701988220215, 5.555471897125244, 5.43337869644165, 5.491706371307373, 5.595604419708252, 5.40668249130249, 5.5386128425598145, 5.346236705780029, 5.419410228729248, 5.356541156768799, 5.332381248474121, 5.363884449005127, 5.393413543701172, 5.354836940765381, 5.307928085327148, 5.325294494628906, 5.297708034515381, 5.33036994934082, 5.321070194244385, 5.3252997398376465, 5.322055816650391, 5.327525615692139, 5.321632385253906, 5.270559787750244, 5.568323612213135, 5.401540279388428, 5.27060604095459, 5.273929595947266, 5.256091117858887, 5.263978481292725, 5.2708282470703125, 5.270179748535156, 5.307251453399658, 5.20893669128418, 5.262117862701416, 5.2497735023498535, 5.262760639190674, 5.3784050941467285, 5.251499176025391, 5.226221561431885, 5.271778583526611, 5.216109752655029, 5.269227504730225, 5.23778772354126, 5.283673286437988, 5.283777236938477, 5.235329627990723, 5.291813850402832, 5.246300220489502, 5.190190315246582, 5.220808982849121, 5.2335100173950195, 5.274011135101318, 5.270923137664795, 5.272883892059326, 5.218605041503906, 5.325164794921875, 5.220015525817871, 5.25007438659668, 5.228995323181152]\n"
     ]
    },
    {
     "name": "stderr",
     "output_type": "stream",
     "text": [
      "0.159356: 100%|██████████| 3200/3200 [02:22<00:00, 22.50it/s]\n"
     ]
    },
    {
     "name": "stdout",
     "output_type": "stream",
     "text": [
      "4276/4276 [==============================] - 69s 16ms/step - loss: 5.2221\n",
      "Epoch 96 loss 5.097861971333623 val loss 5.222075462341309\n",
      "[8.99688381895423, 7.447008701860905, 6.819614188373089, 6.756220295354724, 6.3309409860521555, 6.210726347230374, 6.219333339333534, 6.225389459840954, 5.978656517714262, 5.980397833921015, 5.72186337761581, 5.895540365539492, 5.849212531298399, 5.690261988639832, 5.624563320577145, 5.679155041836202, 5.586134704425931, 5.654708657674491, 5.715709848292172, 5.5188806889951225, 5.497861228436232, 5.571464146263898, 5.4665602750703695, 5.551240729577839, 5.368751032687723, 5.420417926572263, 5.53939581360668, 5.477566199973226, 5.522608667239547, 5.405717139951885, 5.456880302615463, 5.49130221568048, 5.47696663826704, 5.463503729626536, 5.355901707224548, 5.425206321999431, 5.4836160293594, 5.3817997147515415, 5.310110193789005, 5.2941837514936925, 5.384898569844663, 5.439891175143421, 5.379424596503377, 5.37850166361779, 5.273312831632793, 5.394021689407527, 5.30100776463747, 5.299571858793497, 5.346060801483691, 5.293473369292915, 5.3672544518485665, 5.2196143627166744, 5.376763070374727, 5.3546421390399335, 5.37157914634794, 5.220500768907368, 5.325444615446031, 5.172556496858597, 5.316729328632355, 5.310623440630734, 5.4102950366958975, 5.099037979356945, 5.2540016291290526, 5.15561858586967, 5.102626170776785, 5.306386022381485, 5.181827557757497, 5.064150472395122, 5.218263981938362, 5.1934698026254775, 5.220842763632536, 5.094147684536875, 5.186950975954533, 5.277704075276851, 5.153262359276414, 5.158523515351117, 5.250758710019291, 5.281736856661737, 5.1620757971704005, 5.121279909200966, 5.060195054039359, 5.126660135835409, 5.285472669005394, 5.176167735867202, 5.257092254795134, 5.267357801534235, 5.129995215758681, 5.379664176553487, 5.165719314590096, 5.270458497293293, 5.1758036893606185, 5.194981796778738, 5.056013089567423, 5.276657947041095, 5.204209983497858, 5.1928393818810585, 5.097861971333623]\n",
      "[7.717712879180908, 6.955950736999512, 6.704439640045166, 6.528388023376465, 6.3274617195129395, 6.1996750831604, 6.113377094268799, 6.011967658996582, 5.910389423370361, 5.87477970123291, 5.860624313354492, 5.7814507484436035, 5.771292686462402, 5.716648101806641, 5.757233619689941, 5.679626941680908, 5.713437080383301, 5.611827850341797, 5.663970947265625, 5.621941566467285, 5.755812644958496, 5.623030662536621, 5.574612617492676, 5.539113998413086, 5.730890274047852, 5.500331401824951, 5.504433631896973, 5.448913097381592, 5.507577896118164, 5.510786056518555, 5.459959983825684, 5.4007673263549805, 5.396493434906006, 5.44691276550293, 5.382143497467041, 5.412578582763672, 5.4137701988220215, 5.555471897125244, 5.43337869644165, 5.491706371307373, 5.595604419708252, 5.40668249130249, 5.5386128425598145, 5.346236705780029, 5.419410228729248, 5.356541156768799, 5.332381248474121, 5.363884449005127, 5.393413543701172, 5.354836940765381, 5.307928085327148, 5.325294494628906, 5.297708034515381, 5.33036994934082, 5.321070194244385, 5.3252997398376465, 5.322055816650391, 5.327525615692139, 5.321632385253906, 5.270559787750244, 5.568323612213135, 5.401540279388428, 5.27060604095459, 5.273929595947266, 5.256091117858887, 5.263978481292725, 5.2708282470703125, 5.270179748535156, 5.307251453399658, 5.20893669128418, 5.262117862701416, 5.2497735023498535, 5.262760639190674, 5.3784050941467285, 5.251499176025391, 5.226221561431885, 5.271778583526611, 5.216109752655029, 5.269227504730225, 5.23778772354126, 5.283673286437988, 5.283777236938477, 5.235329627990723, 5.291813850402832, 5.246300220489502, 5.190190315246582, 5.220808982849121, 5.2335100173950195, 5.274011135101318, 5.270923137664795, 5.272883892059326, 5.218605041503906, 5.325164794921875, 5.220015525817871, 5.25007438659668, 5.228995323181152, 5.222075462341309]\n"
     ]
    },
    {
     "name": "stderr",
     "output_type": "stream",
     "text": [
      "0.159031: 100%|██████████| 3200/3200 [02:23<00:00, 22.30it/s]\n"
     ]
    },
    {
     "name": "stdout",
     "output_type": "stream",
     "text": [
      "4276/4276 [==============================] - 69s 16ms/step - loss: 5.2010\n",
      "Epoch 97 loss 5.087461701929569 val loss 5.201001167297363\n",
      "[8.99688381895423, 7.447008701860905, 6.819614188373089, 6.756220295354724, 6.3309409860521555, 6.210726347230374, 6.219333339333534, 6.225389459840954, 5.978656517714262, 5.980397833921015, 5.72186337761581, 5.895540365539492, 5.849212531298399, 5.690261988639832, 5.624563320577145, 5.679155041836202, 5.586134704425931, 5.654708657674491, 5.715709848292172, 5.5188806889951225, 5.497861228436232, 5.571464146263898, 5.4665602750703695, 5.551240729577839, 5.368751032687723, 5.420417926572263, 5.53939581360668, 5.477566199973226, 5.522608667239547, 5.405717139951885, 5.456880302615463, 5.49130221568048, 5.47696663826704, 5.463503729626536, 5.355901707224548, 5.425206321999431, 5.4836160293594, 5.3817997147515415, 5.310110193789005, 5.2941837514936925, 5.384898569844663, 5.439891175143421, 5.379424596503377, 5.37850166361779, 5.273312831632793, 5.394021689407527, 5.30100776463747, 5.299571858793497, 5.346060801483691, 5.293473369292915, 5.3672544518485665, 5.2196143627166744, 5.376763070374727, 5.3546421390399335, 5.37157914634794, 5.220500768907368, 5.325444615446031, 5.172556496858597, 5.316729328632355, 5.310623440630734, 5.4102950366958975, 5.099037979356945, 5.2540016291290526, 5.15561858586967, 5.102626170776785, 5.306386022381485, 5.181827557757497, 5.064150472395122, 5.218263981938362, 5.1934698026254775, 5.220842763632536, 5.094147684536875, 5.186950975954533, 5.277704075276851, 5.153262359276414, 5.158523515351117, 5.250758710019291, 5.281736856661737, 5.1620757971704005, 5.121279909200966, 5.060195054039359, 5.126660135835409, 5.285472669005394, 5.176167735867202, 5.257092254795134, 5.267357801534235, 5.129995215758681, 5.379664176553487, 5.165719314590096, 5.270458497293293, 5.1758036893606185, 5.194981796778738, 5.056013089567423, 5.276657947041095, 5.204209983497858, 5.1928393818810585, 5.097861971333623, 5.087461701929569]\n",
      "[7.717712879180908, 6.955950736999512, 6.704439640045166, 6.528388023376465, 6.3274617195129395, 6.1996750831604, 6.113377094268799, 6.011967658996582, 5.910389423370361, 5.87477970123291, 5.860624313354492, 5.7814507484436035, 5.771292686462402, 5.716648101806641, 5.757233619689941, 5.679626941680908, 5.713437080383301, 5.611827850341797, 5.663970947265625, 5.621941566467285, 5.755812644958496, 5.623030662536621, 5.574612617492676, 5.539113998413086, 5.730890274047852, 5.500331401824951, 5.504433631896973, 5.448913097381592, 5.507577896118164, 5.510786056518555, 5.459959983825684, 5.4007673263549805, 5.396493434906006, 5.44691276550293, 5.382143497467041, 5.412578582763672, 5.4137701988220215, 5.555471897125244, 5.43337869644165, 5.491706371307373, 5.595604419708252, 5.40668249130249, 5.5386128425598145, 5.346236705780029, 5.419410228729248, 5.356541156768799, 5.332381248474121, 5.363884449005127, 5.393413543701172, 5.354836940765381, 5.307928085327148, 5.325294494628906, 5.297708034515381, 5.33036994934082, 5.321070194244385, 5.3252997398376465, 5.322055816650391, 5.327525615692139, 5.321632385253906, 5.270559787750244, 5.568323612213135, 5.401540279388428, 5.27060604095459, 5.273929595947266, 5.256091117858887, 5.263978481292725, 5.2708282470703125, 5.270179748535156, 5.307251453399658, 5.20893669128418, 5.262117862701416, 5.2497735023498535, 5.262760639190674, 5.3784050941467285, 5.251499176025391, 5.226221561431885, 5.271778583526611, 5.216109752655029, 5.269227504730225, 5.23778772354126, 5.283673286437988, 5.283777236938477, 5.235329627990723, 5.291813850402832, 5.246300220489502, 5.190190315246582, 5.220808982849121, 5.2335100173950195, 5.274011135101318, 5.270923137664795, 5.272883892059326, 5.218605041503906, 5.325164794921875, 5.220015525817871, 5.25007438659668, 5.228995323181152, 5.222075462341309, 5.201001167297363]\n"
     ]
    },
    {
     "name": "stderr",
     "output_type": "stream",
     "text": [
      "0.160983: 100%|██████████| 3200/3200 [02:22<00:00, 22.48it/s]\n"
     ]
    },
    {
     "name": "stdout",
     "output_type": "stream",
     "text": [
      "4276/4276 [==============================] - 69s 16ms/step - loss: 5.9360\n",
      "Epoch 98 loss 5.1498808505386116 val loss 5.936033725738525\n",
      "[8.99688381895423, 7.447008701860905, 6.819614188373089, 6.756220295354724, 6.3309409860521555, 6.210726347230374, 6.219333339333534, 6.225389459840954, 5.978656517714262, 5.980397833921015, 5.72186337761581, 5.895540365539492, 5.849212531298399, 5.690261988639832, 5.624563320577145, 5.679155041836202, 5.586134704425931, 5.654708657674491, 5.715709848292172, 5.5188806889951225, 5.497861228436232, 5.571464146263898, 5.4665602750703695, 5.551240729577839, 5.368751032687723, 5.420417926572263, 5.53939581360668, 5.477566199973226, 5.522608667239547, 5.405717139951885, 5.456880302615463, 5.49130221568048, 5.47696663826704, 5.463503729626536, 5.355901707224548, 5.425206321999431, 5.4836160293594, 5.3817997147515415, 5.310110193789005, 5.2941837514936925, 5.384898569844663, 5.439891175143421, 5.379424596503377, 5.37850166361779, 5.273312831632793, 5.394021689407527, 5.30100776463747, 5.299571858793497, 5.346060801483691, 5.293473369292915, 5.3672544518485665, 5.2196143627166744, 5.376763070374727, 5.3546421390399335, 5.37157914634794, 5.220500768907368, 5.325444615446031, 5.172556496858597, 5.316729328632355, 5.310623440630734, 5.4102950366958975, 5.099037979356945, 5.2540016291290526, 5.15561858586967, 5.102626170776785, 5.306386022381485, 5.181827557757497, 5.064150472395122, 5.218263981938362, 5.1934698026254775, 5.220842763632536, 5.094147684536875, 5.186950975954533, 5.277704075276851, 5.153262359276414, 5.158523515351117, 5.250758710019291, 5.281736856661737, 5.1620757971704005, 5.121279909200966, 5.060195054039359, 5.126660135835409, 5.285472669005394, 5.176167735867202, 5.257092254795134, 5.267357801534235, 5.129995215758681, 5.379664176553487, 5.165719314590096, 5.270458497293293, 5.1758036893606185, 5.194981796778738, 5.056013089567423, 5.276657947041095, 5.204209983497858, 5.1928393818810585, 5.097861971333623, 5.087461701929569, 5.1498808505386116]\n",
      "[7.717712879180908, 6.955950736999512, 6.704439640045166, 6.528388023376465, 6.3274617195129395, 6.1996750831604, 6.113377094268799, 6.011967658996582, 5.910389423370361, 5.87477970123291, 5.860624313354492, 5.7814507484436035, 5.771292686462402, 5.716648101806641, 5.757233619689941, 5.679626941680908, 5.713437080383301, 5.611827850341797, 5.663970947265625, 5.621941566467285, 5.755812644958496, 5.623030662536621, 5.574612617492676, 5.539113998413086, 5.730890274047852, 5.500331401824951, 5.504433631896973, 5.448913097381592, 5.507577896118164, 5.510786056518555, 5.459959983825684, 5.4007673263549805, 5.396493434906006, 5.44691276550293, 5.382143497467041, 5.412578582763672, 5.4137701988220215, 5.555471897125244, 5.43337869644165, 5.491706371307373, 5.595604419708252, 5.40668249130249, 5.5386128425598145, 5.346236705780029, 5.419410228729248, 5.356541156768799, 5.332381248474121, 5.363884449005127, 5.393413543701172, 5.354836940765381, 5.307928085327148, 5.325294494628906, 5.297708034515381, 5.33036994934082, 5.321070194244385, 5.3252997398376465, 5.322055816650391, 5.327525615692139, 5.321632385253906, 5.270559787750244, 5.568323612213135, 5.401540279388428, 5.27060604095459, 5.273929595947266, 5.256091117858887, 5.263978481292725, 5.2708282470703125, 5.270179748535156, 5.307251453399658, 5.20893669128418, 5.262117862701416, 5.2497735023498535, 5.262760639190674, 5.3784050941467285, 5.251499176025391, 5.226221561431885, 5.271778583526611, 5.216109752655029, 5.269227504730225, 5.23778772354126, 5.283673286437988, 5.283777236938477, 5.235329627990723, 5.291813850402832, 5.246300220489502, 5.190190315246582, 5.220808982849121, 5.2335100173950195, 5.274011135101318, 5.270923137664795, 5.272883892059326, 5.218605041503906, 5.325164794921875, 5.220015525817871, 5.25007438659668, 5.228995323181152, 5.222075462341309, 5.201001167297363, 5.936033725738525]\n"
     ]
    },
    {
     "name": "stderr",
     "output_type": "stream",
     "text": [
      "0.166231: 100%|██████████| 3200/3200 [02:22<00:00, 22.46it/s]\n"
     ]
    },
    {
     "name": "stdout",
     "output_type": "stream",
     "text": [
      "4276/4276 [==============================] - 69s 16ms/step - loss: 5.1771\n",
      "Epoch 99 loss 5.31779087215662 val loss 5.177071571350098\n",
      "[8.99688381895423, 7.447008701860905, 6.819614188373089, 6.756220295354724, 6.3309409860521555, 6.210726347230374, 6.219333339333534, 6.225389459840954, 5.978656517714262, 5.980397833921015, 5.72186337761581, 5.895540365539492, 5.849212531298399, 5.690261988639832, 5.624563320577145, 5.679155041836202, 5.586134704425931, 5.654708657674491, 5.715709848292172, 5.5188806889951225, 5.497861228436232, 5.571464146263898, 5.4665602750703695, 5.551240729577839, 5.368751032687723, 5.420417926572263, 5.53939581360668, 5.477566199973226, 5.522608667239547, 5.405717139951885, 5.456880302615463, 5.49130221568048, 5.47696663826704, 5.463503729626536, 5.355901707224548, 5.425206321999431, 5.4836160293594, 5.3817997147515415, 5.310110193789005, 5.2941837514936925, 5.384898569844663, 5.439891175143421, 5.379424596503377, 5.37850166361779, 5.273312831632793, 5.394021689407527, 5.30100776463747, 5.299571858793497, 5.346060801483691, 5.293473369292915, 5.3672544518485665, 5.2196143627166744, 5.376763070374727, 5.3546421390399335, 5.37157914634794, 5.220500768907368, 5.325444615446031, 5.172556496858597, 5.316729328632355, 5.310623440630734, 5.4102950366958975, 5.099037979356945, 5.2540016291290526, 5.15561858586967, 5.102626170776785, 5.306386022381485, 5.181827557757497, 5.064150472395122, 5.218263981938362, 5.1934698026254775, 5.220842763632536, 5.094147684536875, 5.186950975954533, 5.277704075276851, 5.153262359276414, 5.158523515351117, 5.250758710019291, 5.281736856661737, 5.1620757971704005, 5.121279909200966, 5.060195054039359, 5.126660135835409, 5.285472669005394, 5.176167735867202, 5.257092254795134, 5.267357801534235, 5.129995215758681, 5.379664176553487, 5.165719314590096, 5.270458497293293, 5.1758036893606185, 5.194981796778738, 5.056013089567423, 5.276657947041095, 5.204209983497858, 5.1928393818810585, 5.097861971333623, 5.087461701929569, 5.1498808505386116, 5.31779087215662]\n",
      "[7.717712879180908, 6.955950736999512, 6.704439640045166, 6.528388023376465, 6.3274617195129395, 6.1996750831604, 6.113377094268799, 6.011967658996582, 5.910389423370361, 5.87477970123291, 5.860624313354492, 5.7814507484436035, 5.771292686462402, 5.716648101806641, 5.757233619689941, 5.679626941680908, 5.713437080383301, 5.611827850341797, 5.663970947265625, 5.621941566467285, 5.755812644958496, 5.623030662536621, 5.574612617492676, 5.539113998413086, 5.730890274047852, 5.500331401824951, 5.504433631896973, 5.448913097381592, 5.507577896118164, 5.510786056518555, 5.459959983825684, 5.4007673263549805, 5.396493434906006, 5.44691276550293, 5.382143497467041, 5.412578582763672, 5.4137701988220215, 5.555471897125244, 5.43337869644165, 5.491706371307373, 5.595604419708252, 5.40668249130249, 5.5386128425598145, 5.346236705780029, 5.419410228729248, 5.356541156768799, 5.332381248474121, 5.363884449005127, 5.393413543701172, 5.354836940765381, 5.307928085327148, 5.325294494628906, 5.297708034515381, 5.33036994934082, 5.321070194244385, 5.3252997398376465, 5.322055816650391, 5.327525615692139, 5.321632385253906, 5.270559787750244, 5.568323612213135, 5.401540279388428, 5.27060604095459, 5.273929595947266, 5.256091117858887, 5.263978481292725, 5.2708282470703125, 5.270179748535156, 5.307251453399658, 5.20893669128418, 5.262117862701416, 5.2497735023498535, 5.262760639190674, 5.3784050941467285, 5.251499176025391, 5.226221561431885, 5.271778583526611, 5.216109752655029, 5.269227504730225, 5.23778772354126, 5.283673286437988, 5.283777236938477, 5.235329627990723, 5.291813850402832, 5.246300220489502, 5.190190315246582, 5.220808982849121, 5.2335100173950195, 5.274011135101318, 5.270923137664795, 5.272883892059326, 5.218605041503906, 5.325164794921875, 5.220015525817871, 5.25007438659668, 5.228995323181152, 5.222075462341309, 5.201001167297363, 5.936033725738525, 5.177071571350098]\n"
     ]
    },
    {
     "name": "stderr",
     "output_type": "stream",
     "text": [
      "0.164480: 100%|██████████| 3200/3200 [02:22<00:00, 22.41it/s]\n"
     ]
    },
    {
     "name": "stdout",
     "output_type": "stream",
     "text": [
      "4276/4276 [==============================] - 69s 16ms/step - loss: 5.2196\n",
      "Epoch 100 loss 5.261757250577212 val loss 5.219598770141602\n",
      "[8.99688381895423, 7.447008701860905, 6.819614188373089, 6.756220295354724, 6.3309409860521555, 6.210726347230374, 6.219333339333534, 6.225389459840954, 5.978656517714262, 5.980397833921015, 5.72186337761581, 5.895540365539492, 5.849212531298399, 5.690261988639832, 5.624563320577145, 5.679155041836202, 5.586134704425931, 5.654708657674491, 5.715709848292172, 5.5188806889951225, 5.497861228436232, 5.571464146263898, 5.4665602750703695, 5.551240729577839, 5.368751032687723, 5.420417926572263, 5.53939581360668, 5.477566199973226, 5.522608667239547, 5.405717139951885, 5.456880302615463, 5.49130221568048, 5.47696663826704, 5.463503729626536, 5.355901707224548, 5.425206321999431, 5.4836160293594, 5.3817997147515415, 5.310110193789005, 5.2941837514936925, 5.384898569844663, 5.439891175143421, 5.379424596503377, 5.37850166361779, 5.273312831632793, 5.394021689407527, 5.30100776463747, 5.299571858793497, 5.346060801483691, 5.293473369292915, 5.3672544518485665, 5.2196143627166744, 5.376763070374727, 5.3546421390399335, 5.37157914634794, 5.220500768907368, 5.325444615446031, 5.172556496858597, 5.316729328632355, 5.310623440630734, 5.4102950366958975, 5.099037979356945, 5.2540016291290526, 5.15561858586967, 5.102626170776785, 5.306386022381485, 5.181827557757497, 5.064150472395122, 5.218263981938362, 5.1934698026254775, 5.220842763632536, 5.094147684536875, 5.186950975954533, 5.277704075276851, 5.153262359276414, 5.158523515351117, 5.250758710019291, 5.281736856661737, 5.1620757971704005, 5.121279909200966, 5.060195054039359, 5.126660135835409, 5.285472669005394, 5.176167735867202, 5.257092254795134, 5.267357801534235, 5.129995215758681, 5.379664176553487, 5.165719314590096, 5.270458497293293, 5.1758036893606185, 5.194981796778738, 5.056013089567423, 5.276657947041095, 5.204209983497858, 5.1928393818810585, 5.097861971333623, 5.087461701929569, 5.1498808505386116, 5.31779087215662, 5.261757250577212]\n",
      "[7.717712879180908, 6.955950736999512, 6.704439640045166, 6.528388023376465, 6.3274617195129395, 6.1996750831604, 6.113377094268799, 6.011967658996582, 5.910389423370361, 5.87477970123291, 5.860624313354492, 5.7814507484436035, 5.771292686462402, 5.716648101806641, 5.757233619689941, 5.679626941680908, 5.713437080383301, 5.611827850341797, 5.663970947265625, 5.621941566467285, 5.755812644958496, 5.623030662536621, 5.574612617492676, 5.539113998413086, 5.730890274047852, 5.500331401824951, 5.504433631896973, 5.448913097381592, 5.507577896118164, 5.510786056518555, 5.459959983825684, 5.4007673263549805, 5.396493434906006, 5.44691276550293, 5.382143497467041, 5.412578582763672, 5.4137701988220215, 5.555471897125244, 5.43337869644165, 5.491706371307373, 5.595604419708252, 5.40668249130249, 5.5386128425598145, 5.346236705780029, 5.419410228729248, 5.356541156768799, 5.332381248474121, 5.363884449005127, 5.393413543701172, 5.354836940765381, 5.307928085327148, 5.325294494628906, 5.297708034515381, 5.33036994934082, 5.321070194244385, 5.3252997398376465, 5.322055816650391, 5.327525615692139, 5.321632385253906, 5.270559787750244, 5.568323612213135, 5.401540279388428, 5.27060604095459, 5.273929595947266, 5.256091117858887, 5.263978481292725, 5.2708282470703125, 5.270179748535156, 5.307251453399658, 5.20893669128418, 5.262117862701416, 5.2497735023498535, 5.262760639190674, 5.3784050941467285, 5.251499176025391, 5.226221561431885, 5.271778583526611, 5.216109752655029, 5.269227504730225, 5.23778772354126, 5.283673286437988, 5.283777236938477, 5.235329627990723, 5.291813850402832, 5.246300220489502, 5.190190315246582, 5.220808982849121, 5.2335100173950195, 5.274011135101318, 5.270923137664795, 5.272883892059326, 5.218605041503906, 5.325164794921875, 5.220015525817871, 5.25007438659668, 5.228995323181152, 5.222075462341309, 5.201001167297363, 5.936033725738525, 5.177071571350098, 5.219598770141602]\n"
     ]
    },
    {
     "name": "stderr",
     "output_type": "stream",
     "text": [
      "0.161784: 100%|██████████| 3200/3200 [02:22<00:00, 22.45it/s]\n"
     ]
    },
    {
     "name": "stdout",
     "output_type": "stream",
     "text": [
      "4276/4276 [==============================] - 69s 16ms/step - loss: 5.2001\n",
      "Epoch 101 loss 5.17551725525409 val loss 5.20013427734375\n",
      "[8.99688381895423, 7.447008701860905, 6.819614188373089, 6.756220295354724, 6.3309409860521555, 6.210726347230374, 6.219333339333534, 6.225389459840954, 5.978656517714262, 5.980397833921015, 5.72186337761581, 5.895540365539492, 5.849212531298399, 5.690261988639832, 5.624563320577145, 5.679155041836202, 5.586134704425931, 5.654708657674491, 5.715709848292172, 5.5188806889951225, 5.497861228436232, 5.571464146263898, 5.4665602750703695, 5.551240729577839, 5.368751032687723, 5.420417926572263, 5.53939581360668, 5.477566199973226, 5.522608667239547, 5.405717139951885, 5.456880302615463, 5.49130221568048, 5.47696663826704, 5.463503729626536, 5.355901707224548, 5.425206321999431, 5.4836160293594, 5.3817997147515415, 5.310110193789005, 5.2941837514936925, 5.384898569844663, 5.439891175143421, 5.379424596503377, 5.37850166361779, 5.273312831632793, 5.394021689407527, 5.30100776463747, 5.299571858793497, 5.346060801483691, 5.293473369292915, 5.3672544518485665, 5.2196143627166744, 5.376763070374727, 5.3546421390399335, 5.37157914634794, 5.220500768907368, 5.325444615446031, 5.172556496858597, 5.316729328632355, 5.310623440630734, 5.4102950366958975, 5.099037979356945, 5.2540016291290526, 5.15561858586967, 5.102626170776785, 5.306386022381485, 5.181827557757497, 5.064150472395122, 5.218263981938362, 5.1934698026254775, 5.220842763632536, 5.094147684536875, 5.186950975954533, 5.277704075276851, 5.153262359276414, 5.158523515351117, 5.250758710019291, 5.281736856661737, 5.1620757971704005, 5.121279909200966, 5.060195054039359, 5.126660135835409, 5.285472669005394, 5.176167735867202, 5.257092254795134, 5.267357801534235, 5.129995215758681, 5.379664176553487, 5.165719314590096, 5.270458497293293, 5.1758036893606185, 5.194981796778738, 5.056013089567423, 5.276657947041095, 5.204209983497858, 5.1928393818810585, 5.097861971333623, 5.087461701929569, 5.1498808505386116, 5.31779087215662, 5.261757250577212, 5.17551725525409]\n",
      "[7.717712879180908, 6.955950736999512, 6.704439640045166, 6.528388023376465, 6.3274617195129395, 6.1996750831604, 6.113377094268799, 6.011967658996582, 5.910389423370361, 5.87477970123291, 5.860624313354492, 5.7814507484436035, 5.771292686462402, 5.716648101806641, 5.757233619689941, 5.679626941680908, 5.713437080383301, 5.611827850341797, 5.663970947265625, 5.621941566467285, 5.755812644958496, 5.623030662536621, 5.574612617492676, 5.539113998413086, 5.730890274047852, 5.500331401824951, 5.504433631896973, 5.448913097381592, 5.507577896118164, 5.510786056518555, 5.459959983825684, 5.4007673263549805, 5.396493434906006, 5.44691276550293, 5.382143497467041, 5.412578582763672, 5.4137701988220215, 5.555471897125244, 5.43337869644165, 5.491706371307373, 5.595604419708252, 5.40668249130249, 5.5386128425598145, 5.346236705780029, 5.419410228729248, 5.356541156768799, 5.332381248474121, 5.363884449005127, 5.393413543701172, 5.354836940765381, 5.307928085327148, 5.325294494628906, 5.297708034515381, 5.33036994934082, 5.321070194244385, 5.3252997398376465, 5.322055816650391, 5.327525615692139, 5.321632385253906, 5.270559787750244, 5.568323612213135, 5.401540279388428, 5.27060604095459, 5.273929595947266, 5.256091117858887, 5.263978481292725, 5.2708282470703125, 5.270179748535156, 5.307251453399658, 5.20893669128418, 5.262117862701416, 5.2497735023498535, 5.262760639190674, 5.3784050941467285, 5.251499176025391, 5.226221561431885, 5.271778583526611, 5.216109752655029, 5.269227504730225, 5.23778772354126, 5.283673286437988, 5.283777236938477, 5.235329627990723, 5.291813850402832, 5.246300220489502, 5.190190315246582, 5.220808982849121, 5.2335100173950195, 5.274011135101318, 5.270923137664795, 5.272883892059326, 5.218605041503906, 5.325164794921875, 5.220015525817871, 5.25007438659668, 5.228995323181152, 5.222075462341309, 5.201001167297363, 5.936033725738525, 5.177071571350098, 5.219598770141602, 5.20013427734375]\n"
     ]
    },
    {
     "name": "stderr",
     "output_type": "stream",
     "text": [
      "0.162701: 100%|██████████| 3200/3200 [02:22<00:00, 22.45it/s]\n"
     ]
    },
    {
     "name": "stdout",
     "output_type": "stream",
     "text": [
      "4276/4276 [==============================] - 69s 16ms/step - loss: 5.2096\n",
      "Epoch 102 loss 5.204847362115979 val loss 5.2096405029296875\n",
      "[8.99688381895423, 7.447008701860905, 6.819614188373089, 6.756220295354724, 6.3309409860521555, 6.210726347230374, 6.219333339333534, 6.225389459840954, 5.978656517714262, 5.980397833921015, 5.72186337761581, 5.895540365539492, 5.849212531298399, 5.690261988639832, 5.624563320577145, 5.679155041836202, 5.586134704425931, 5.654708657674491, 5.715709848292172, 5.5188806889951225, 5.497861228436232, 5.571464146263898, 5.4665602750703695, 5.551240729577839, 5.368751032687723, 5.420417926572263, 5.53939581360668, 5.477566199973226, 5.522608667239547, 5.405717139951885, 5.456880302615463, 5.49130221568048, 5.47696663826704, 5.463503729626536, 5.355901707224548, 5.425206321999431, 5.4836160293594, 5.3817997147515415, 5.310110193789005, 5.2941837514936925, 5.384898569844663, 5.439891175143421, 5.379424596503377, 5.37850166361779, 5.273312831632793, 5.394021689407527, 5.30100776463747, 5.299571858793497, 5.346060801483691, 5.293473369292915, 5.3672544518485665, 5.2196143627166744, 5.376763070374727, 5.3546421390399335, 5.37157914634794, 5.220500768907368, 5.325444615446031, 5.172556496858597, 5.316729328632355, 5.310623440630734, 5.4102950366958975, 5.099037979356945, 5.2540016291290526, 5.15561858586967, 5.102626170776785, 5.306386022381485, 5.181827557757497, 5.064150472395122, 5.218263981938362, 5.1934698026254775, 5.220842763632536, 5.094147684536875, 5.186950975954533, 5.277704075276851, 5.153262359276414, 5.158523515351117, 5.250758710019291, 5.281736856661737, 5.1620757971704005, 5.121279909200966, 5.060195054039359, 5.126660135835409, 5.285472669005394, 5.176167735867202, 5.257092254795134, 5.267357801534235, 5.129995215758681, 5.379664176553487, 5.165719314590096, 5.270458497293293, 5.1758036893606185, 5.194981796778738, 5.056013089567423, 5.276657947041095, 5.204209983497858, 5.1928393818810585, 5.097861971333623, 5.087461701929569, 5.1498808505386116, 5.31779087215662, 5.261757250577212, 5.17551725525409, 5.204847362115979]\n",
      "[7.717712879180908, 6.955950736999512, 6.704439640045166, 6.528388023376465, 6.3274617195129395, 6.1996750831604, 6.113377094268799, 6.011967658996582, 5.910389423370361, 5.87477970123291, 5.860624313354492, 5.7814507484436035, 5.771292686462402, 5.716648101806641, 5.757233619689941, 5.679626941680908, 5.713437080383301, 5.611827850341797, 5.663970947265625, 5.621941566467285, 5.755812644958496, 5.623030662536621, 5.574612617492676, 5.539113998413086, 5.730890274047852, 5.500331401824951, 5.504433631896973, 5.448913097381592, 5.507577896118164, 5.510786056518555, 5.459959983825684, 5.4007673263549805, 5.396493434906006, 5.44691276550293, 5.382143497467041, 5.412578582763672, 5.4137701988220215, 5.555471897125244, 5.43337869644165, 5.491706371307373, 5.595604419708252, 5.40668249130249, 5.5386128425598145, 5.346236705780029, 5.419410228729248, 5.356541156768799, 5.332381248474121, 5.363884449005127, 5.393413543701172, 5.354836940765381, 5.307928085327148, 5.325294494628906, 5.297708034515381, 5.33036994934082, 5.321070194244385, 5.3252997398376465, 5.322055816650391, 5.327525615692139, 5.321632385253906, 5.270559787750244, 5.568323612213135, 5.401540279388428, 5.27060604095459, 5.273929595947266, 5.256091117858887, 5.263978481292725, 5.2708282470703125, 5.270179748535156, 5.307251453399658, 5.20893669128418, 5.262117862701416, 5.2497735023498535, 5.262760639190674, 5.3784050941467285, 5.251499176025391, 5.226221561431885, 5.271778583526611, 5.216109752655029, 5.269227504730225, 5.23778772354126, 5.283673286437988, 5.283777236938477, 5.235329627990723, 5.291813850402832, 5.246300220489502, 5.190190315246582, 5.220808982849121, 5.2335100173950195, 5.274011135101318, 5.270923137664795, 5.272883892059326, 5.218605041503906, 5.325164794921875, 5.220015525817871, 5.25007438659668, 5.228995323181152, 5.222075462341309, 5.201001167297363, 5.936033725738525, 5.177071571350098, 5.219598770141602, 5.20013427734375, 5.2096405029296875]\n"
     ]
    },
    {
     "name": "stderr",
     "output_type": "stream",
     "text": [
      "0.156496: 100%|██████████| 3200/3200 [02:22<00:00, 22.46it/s]\n"
     ]
    },
    {
     "name": "stdout",
     "output_type": "stream",
     "text": [
      "4276/4276 [==============================] - 69s 16ms/step - loss: 5.1849\n",
      "Epoch 103 loss 5.006366120018065 val loss 5.184871673583984\n",
      "[8.99688381895423, 7.447008701860905, 6.819614188373089, 6.756220295354724, 6.3309409860521555, 6.210726347230374, 6.219333339333534, 6.225389459840954, 5.978656517714262, 5.980397833921015, 5.72186337761581, 5.895540365539492, 5.849212531298399, 5.690261988639832, 5.624563320577145, 5.679155041836202, 5.586134704425931, 5.654708657674491, 5.715709848292172, 5.5188806889951225, 5.497861228436232, 5.571464146263898, 5.4665602750703695, 5.551240729577839, 5.368751032687723, 5.420417926572263, 5.53939581360668, 5.477566199973226, 5.522608667239547, 5.405717139951885, 5.456880302615463, 5.49130221568048, 5.47696663826704, 5.463503729626536, 5.355901707224548, 5.425206321999431, 5.4836160293594, 5.3817997147515415, 5.310110193789005, 5.2941837514936925, 5.384898569844663, 5.439891175143421, 5.379424596503377, 5.37850166361779, 5.273312831632793, 5.394021689407527, 5.30100776463747, 5.299571858793497, 5.346060801483691, 5.293473369292915, 5.3672544518485665, 5.2196143627166744, 5.376763070374727, 5.3546421390399335, 5.37157914634794, 5.220500768907368, 5.325444615446031, 5.172556496858597, 5.316729328632355, 5.310623440630734, 5.4102950366958975, 5.099037979356945, 5.2540016291290526, 5.15561858586967, 5.102626170776785, 5.306386022381485, 5.181827557757497, 5.064150472395122, 5.218263981938362, 5.1934698026254775, 5.220842763632536, 5.094147684536875, 5.186950975954533, 5.277704075276851, 5.153262359276414, 5.158523515351117, 5.250758710019291, 5.281736856661737, 5.1620757971704005, 5.121279909200966, 5.060195054039359, 5.126660135835409, 5.285472669005394, 5.176167735867202, 5.257092254795134, 5.267357801534235, 5.129995215758681, 5.379664176553487, 5.165719314590096, 5.270458497293293, 5.1758036893606185, 5.194981796778738, 5.056013089567423, 5.276657947041095, 5.204209983497858, 5.1928393818810585, 5.097861971333623, 5.087461701929569, 5.1498808505386116, 5.31779087215662, 5.261757250577212, 5.17551725525409, 5.204847362115979, 5.006366120018065]\n",
      "[7.717712879180908, 6.955950736999512, 6.704439640045166, 6.528388023376465, 6.3274617195129395, 6.1996750831604, 6.113377094268799, 6.011967658996582, 5.910389423370361, 5.87477970123291, 5.860624313354492, 5.7814507484436035, 5.771292686462402, 5.716648101806641, 5.757233619689941, 5.679626941680908, 5.713437080383301, 5.611827850341797, 5.663970947265625, 5.621941566467285, 5.755812644958496, 5.623030662536621, 5.574612617492676, 5.539113998413086, 5.730890274047852, 5.500331401824951, 5.504433631896973, 5.448913097381592, 5.507577896118164, 5.510786056518555, 5.459959983825684, 5.4007673263549805, 5.396493434906006, 5.44691276550293, 5.382143497467041, 5.412578582763672, 5.4137701988220215, 5.555471897125244, 5.43337869644165, 5.491706371307373, 5.595604419708252, 5.40668249130249, 5.5386128425598145, 5.346236705780029, 5.419410228729248, 5.356541156768799, 5.332381248474121, 5.363884449005127, 5.393413543701172, 5.354836940765381, 5.307928085327148, 5.325294494628906, 5.297708034515381, 5.33036994934082, 5.321070194244385, 5.3252997398376465, 5.322055816650391, 5.327525615692139, 5.321632385253906, 5.270559787750244, 5.568323612213135, 5.401540279388428, 5.27060604095459, 5.273929595947266, 5.256091117858887, 5.263978481292725, 5.2708282470703125, 5.270179748535156, 5.307251453399658, 5.20893669128418, 5.262117862701416, 5.2497735023498535, 5.262760639190674, 5.3784050941467285, 5.251499176025391, 5.226221561431885, 5.271778583526611, 5.216109752655029, 5.269227504730225, 5.23778772354126, 5.283673286437988, 5.283777236938477, 5.235329627990723, 5.291813850402832, 5.246300220489502, 5.190190315246582, 5.220808982849121, 5.2335100173950195, 5.274011135101318, 5.270923137664795, 5.272883892059326, 5.218605041503906, 5.325164794921875, 5.220015525817871, 5.25007438659668, 5.228995323181152, 5.222075462341309, 5.201001167297363, 5.936033725738525, 5.177071571350098, 5.219598770141602, 5.20013427734375, 5.2096405029296875, 5.184871673583984]\n"
     ]
    },
    {
     "name": "stderr",
     "output_type": "stream",
     "text": [
      "0.160189: 100%|██████████| 3200/3200 [02:22<00:00, 22.49it/s]\n"
     ]
    },
    {
     "name": "stdout",
     "output_type": "stream",
     "text": [
      "4276/4276 [==============================] - 69s 16ms/step - loss: 5.2035\n",
      "Epoch 104 loss 5.124508085623384 val loss 5.203546047210693\n",
      "[8.99688381895423, 7.447008701860905, 6.819614188373089, 6.756220295354724, 6.3309409860521555, 6.210726347230374, 6.219333339333534, 6.225389459840954, 5.978656517714262, 5.980397833921015, 5.72186337761581, 5.895540365539492, 5.849212531298399, 5.690261988639832, 5.624563320577145, 5.679155041836202, 5.586134704425931, 5.654708657674491, 5.715709848292172, 5.5188806889951225, 5.497861228436232, 5.571464146263898, 5.4665602750703695, 5.551240729577839, 5.368751032687723, 5.420417926572263, 5.53939581360668, 5.477566199973226, 5.522608667239547, 5.405717139951885, 5.456880302615463, 5.49130221568048, 5.47696663826704, 5.463503729626536, 5.355901707224548, 5.425206321999431, 5.4836160293594, 5.3817997147515415, 5.310110193789005, 5.2941837514936925, 5.384898569844663, 5.439891175143421, 5.379424596503377, 5.37850166361779, 5.273312831632793, 5.394021689407527, 5.30100776463747, 5.299571858793497, 5.346060801483691, 5.293473369292915, 5.3672544518485665, 5.2196143627166744, 5.376763070374727, 5.3546421390399335, 5.37157914634794, 5.220500768907368, 5.325444615446031, 5.172556496858597, 5.316729328632355, 5.310623440630734, 5.4102950366958975, 5.099037979356945, 5.2540016291290526, 5.15561858586967, 5.102626170776785, 5.306386022381485, 5.181827557757497, 5.064150472395122, 5.218263981938362, 5.1934698026254775, 5.220842763632536, 5.094147684536875, 5.186950975954533, 5.277704075276851, 5.153262359276414, 5.158523515351117, 5.250758710019291, 5.281736856661737, 5.1620757971704005, 5.121279909200966, 5.060195054039359, 5.126660135835409, 5.285472669005394, 5.176167735867202, 5.257092254795134, 5.267357801534235, 5.129995215758681, 5.379664176553487, 5.165719314590096, 5.270458497293293, 5.1758036893606185, 5.194981796778738, 5.056013089567423, 5.276657947041095, 5.204209983497858, 5.1928393818810585, 5.097861971333623, 5.087461701929569, 5.1498808505386116, 5.31779087215662, 5.261757250577212, 5.17551725525409, 5.204847362115979, 5.006366120018065, 5.124508085623384]\n",
      "[7.717712879180908, 6.955950736999512, 6.704439640045166, 6.528388023376465, 6.3274617195129395, 6.1996750831604, 6.113377094268799, 6.011967658996582, 5.910389423370361, 5.87477970123291, 5.860624313354492, 5.7814507484436035, 5.771292686462402, 5.716648101806641, 5.757233619689941, 5.679626941680908, 5.713437080383301, 5.611827850341797, 5.663970947265625, 5.621941566467285, 5.755812644958496, 5.623030662536621, 5.574612617492676, 5.539113998413086, 5.730890274047852, 5.500331401824951, 5.504433631896973, 5.448913097381592, 5.507577896118164, 5.510786056518555, 5.459959983825684, 5.4007673263549805, 5.396493434906006, 5.44691276550293, 5.382143497467041, 5.412578582763672, 5.4137701988220215, 5.555471897125244, 5.43337869644165, 5.491706371307373, 5.595604419708252, 5.40668249130249, 5.5386128425598145, 5.346236705780029, 5.419410228729248, 5.356541156768799, 5.332381248474121, 5.363884449005127, 5.393413543701172, 5.354836940765381, 5.307928085327148, 5.325294494628906, 5.297708034515381, 5.33036994934082, 5.321070194244385, 5.3252997398376465, 5.322055816650391, 5.327525615692139, 5.321632385253906, 5.270559787750244, 5.568323612213135, 5.401540279388428, 5.27060604095459, 5.273929595947266, 5.256091117858887, 5.263978481292725, 5.2708282470703125, 5.270179748535156, 5.307251453399658, 5.20893669128418, 5.262117862701416, 5.2497735023498535, 5.262760639190674, 5.3784050941467285, 5.251499176025391, 5.226221561431885, 5.271778583526611, 5.216109752655029, 5.269227504730225, 5.23778772354126, 5.283673286437988, 5.283777236938477, 5.235329627990723, 5.291813850402832, 5.246300220489502, 5.190190315246582, 5.220808982849121, 5.2335100173950195, 5.274011135101318, 5.270923137664795, 5.272883892059326, 5.218605041503906, 5.325164794921875, 5.220015525817871, 5.25007438659668, 5.228995323181152, 5.222075462341309, 5.201001167297363, 5.936033725738525, 5.177071571350098, 5.219598770141602, 5.20013427734375, 5.2096405029296875, 5.184871673583984, 5.203546047210693]\n"
     ]
    },
    {
     "name": "stderr",
     "output_type": "stream",
     "text": [
      "0.160557: 100%|██████████| 3200/3200 [02:22<00:00, 22.47it/s]\n"
     ]
    },
    {
     "name": "stdout",
     "output_type": "stream",
     "text": [
      "4276/4276 [==============================] - 69s 16ms/step - loss: 5.1928\n",
      "Epoch 105 loss 5.136281363926828 val loss 5.192833423614502\n",
      "[8.99688381895423, 7.447008701860905, 6.819614188373089, 6.756220295354724, 6.3309409860521555, 6.210726347230374, 6.219333339333534, 6.225389459840954, 5.978656517714262, 5.980397833921015, 5.72186337761581, 5.895540365539492, 5.849212531298399, 5.690261988639832, 5.624563320577145, 5.679155041836202, 5.586134704425931, 5.654708657674491, 5.715709848292172, 5.5188806889951225, 5.497861228436232, 5.571464146263898, 5.4665602750703695, 5.551240729577839, 5.368751032687723, 5.420417926572263, 5.53939581360668, 5.477566199973226, 5.522608667239547, 5.405717139951885, 5.456880302615463, 5.49130221568048, 5.47696663826704, 5.463503729626536, 5.355901707224548, 5.425206321999431, 5.4836160293594, 5.3817997147515415, 5.310110193789005, 5.2941837514936925, 5.384898569844663, 5.439891175143421, 5.379424596503377, 5.37850166361779, 5.273312831632793, 5.394021689407527, 5.30100776463747, 5.299571858793497, 5.346060801483691, 5.293473369292915, 5.3672544518485665, 5.2196143627166744, 5.376763070374727, 5.3546421390399335, 5.37157914634794, 5.220500768907368, 5.325444615446031, 5.172556496858597, 5.316729328632355, 5.310623440630734, 5.4102950366958975, 5.099037979356945, 5.2540016291290526, 5.15561858586967, 5.102626170776785, 5.306386022381485, 5.181827557757497, 5.064150472395122, 5.218263981938362, 5.1934698026254775, 5.220842763632536, 5.094147684536875, 5.186950975954533, 5.277704075276851, 5.153262359276414, 5.158523515351117, 5.250758710019291, 5.281736856661737, 5.1620757971704005, 5.121279909200966, 5.060195054039359, 5.126660135835409, 5.285472669005394, 5.176167735867202, 5.257092254795134, 5.267357801534235, 5.129995215758681, 5.379664176553487, 5.165719314590096, 5.270458497293293, 5.1758036893606185, 5.194981796778738, 5.056013089567423, 5.276657947041095, 5.204209983497858, 5.1928393818810585, 5.097861971333623, 5.087461701929569, 5.1498808505386116, 5.31779087215662, 5.261757250577212, 5.17551725525409, 5.204847362115979, 5.006366120018065, 5.124508085623384, 5.136281363926828]\n",
      "[7.717712879180908, 6.955950736999512, 6.704439640045166, 6.528388023376465, 6.3274617195129395, 6.1996750831604, 6.113377094268799, 6.011967658996582, 5.910389423370361, 5.87477970123291, 5.860624313354492, 5.7814507484436035, 5.771292686462402, 5.716648101806641, 5.757233619689941, 5.679626941680908, 5.713437080383301, 5.611827850341797, 5.663970947265625, 5.621941566467285, 5.755812644958496, 5.623030662536621, 5.574612617492676, 5.539113998413086, 5.730890274047852, 5.500331401824951, 5.504433631896973, 5.448913097381592, 5.507577896118164, 5.510786056518555, 5.459959983825684, 5.4007673263549805, 5.396493434906006, 5.44691276550293, 5.382143497467041, 5.412578582763672, 5.4137701988220215, 5.555471897125244, 5.43337869644165, 5.491706371307373, 5.595604419708252, 5.40668249130249, 5.5386128425598145, 5.346236705780029, 5.419410228729248, 5.356541156768799, 5.332381248474121, 5.363884449005127, 5.393413543701172, 5.354836940765381, 5.307928085327148, 5.325294494628906, 5.297708034515381, 5.33036994934082, 5.321070194244385, 5.3252997398376465, 5.322055816650391, 5.327525615692139, 5.321632385253906, 5.270559787750244, 5.568323612213135, 5.401540279388428, 5.27060604095459, 5.273929595947266, 5.256091117858887, 5.263978481292725, 5.2708282470703125, 5.270179748535156, 5.307251453399658, 5.20893669128418, 5.262117862701416, 5.2497735023498535, 5.262760639190674, 5.3784050941467285, 5.251499176025391, 5.226221561431885, 5.271778583526611, 5.216109752655029, 5.269227504730225, 5.23778772354126, 5.283673286437988, 5.283777236938477, 5.235329627990723, 5.291813850402832, 5.246300220489502, 5.190190315246582, 5.220808982849121, 5.2335100173950195, 5.274011135101318, 5.270923137664795, 5.272883892059326, 5.218605041503906, 5.325164794921875, 5.220015525817871, 5.25007438659668, 5.228995323181152, 5.222075462341309, 5.201001167297363, 5.936033725738525, 5.177071571350098, 5.219598770141602, 5.20013427734375, 5.2096405029296875, 5.184871673583984, 5.203546047210693, 5.192833423614502]\n"
     ]
    },
    {
     "name": "stderr",
     "output_type": "stream",
     "text": [
      "0.160618: 100%|██████████| 3200/3200 [02:22<00:00, 22.46it/s]\n"
     ]
    },
    {
     "name": "stdout",
     "output_type": "stream",
     "text": [
      "4276/4276 [==============================] - 69s 16ms/step - loss: 5.1631\n",
      "Epoch 106 loss 5.138223801106214 val loss 5.163064002990723\n",
      "[8.99688381895423, 7.447008701860905, 6.819614188373089, 6.756220295354724, 6.3309409860521555, 6.210726347230374, 6.219333339333534, 6.225389459840954, 5.978656517714262, 5.980397833921015, 5.72186337761581, 5.895540365539492, 5.849212531298399, 5.690261988639832, 5.624563320577145, 5.679155041836202, 5.586134704425931, 5.654708657674491, 5.715709848292172, 5.5188806889951225, 5.497861228436232, 5.571464146263898, 5.4665602750703695, 5.551240729577839, 5.368751032687723, 5.420417926572263, 5.53939581360668, 5.477566199973226, 5.522608667239547, 5.405717139951885, 5.456880302615463, 5.49130221568048, 5.47696663826704, 5.463503729626536, 5.355901707224548, 5.425206321999431, 5.4836160293594, 5.3817997147515415, 5.310110193789005, 5.2941837514936925, 5.384898569844663, 5.439891175143421, 5.379424596503377, 5.37850166361779, 5.273312831632793, 5.394021689407527, 5.30100776463747, 5.299571858793497, 5.346060801483691, 5.293473369292915, 5.3672544518485665, 5.2196143627166744, 5.376763070374727, 5.3546421390399335, 5.37157914634794, 5.220500768907368, 5.325444615446031, 5.172556496858597, 5.316729328632355, 5.310623440630734, 5.4102950366958975, 5.099037979356945, 5.2540016291290526, 5.15561858586967, 5.102626170776785, 5.306386022381485, 5.181827557757497, 5.064150472395122, 5.218263981938362, 5.1934698026254775, 5.220842763632536, 5.094147684536875, 5.186950975954533, 5.277704075276851, 5.153262359276414, 5.158523515351117, 5.250758710019291, 5.281736856661737, 5.1620757971704005, 5.121279909200966, 5.060195054039359, 5.126660135835409, 5.285472669005394, 5.176167735867202, 5.257092254795134, 5.267357801534235, 5.129995215758681, 5.379664176553487, 5.165719314590096, 5.270458497293293, 5.1758036893606185, 5.194981796778738, 5.056013089567423, 5.276657947041095, 5.204209983497858, 5.1928393818810585, 5.097861971333623, 5.087461701929569, 5.1498808505386116, 5.31779087215662, 5.261757250577212, 5.17551725525409, 5.204847362115979, 5.006366120018065, 5.124508085623384, 5.136281363926828, 5.138223801106214]\n",
      "[7.717712879180908, 6.955950736999512, 6.704439640045166, 6.528388023376465, 6.3274617195129395, 6.1996750831604, 6.113377094268799, 6.011967658996582, 5.910389423370361, 5.87477970123291, 5.860624313354492, 5.7814507484436035, 5.771292686462402, 5.716648101806641, 5.757233619689941, 5.679626941680908, 5.713437080383301, 5.611827850341797, 5.663970947265625, 5.621941566467285, 5.755812644958496, 5.623030662536621, 5.574612617492676, 5.539113998413086, 5.730890274047852, 5.500331401824951, 5.504433631896973, 5.448913097381592, 5.507577896118164, 5.510786056518555, 5.459959983825684, 5.4007673263549805, 5.396493434906006, 5.44691276550293, 5.382143497467041, 5.412578582763672, 5.4137701988220215, 5.555471897125244, 5.43337869644165, 5.491706371307373, 5.595604419708252, 5.40668249130249, 5.5386128425598145, 5.346236705780029, 5.419410228729248, 5.356541156768799, 5.332381248474121, 5.363884449005127, 5.393413543701172, 5.354836940765381, 5.307928085327148, 5.325294494628906, 5.297708034515381, 5.33036994934082, 5.321070194244385, 5.3252997398376465, 5.322055816650391, 5.327525615692139, 5.321632385253906, 5.270559787750244, 5.568323612213135, 5.401540279388428, 5.27060604095459, 5.273929595947266, 5.256091117858887, 5.263978481292725, 5.2708282470703125, 5.270179748535156, 5.307251453399658, 5.20893669128418, 5.262117862701416, 5.2497735023498535, 5.262760639190674, 5.3784050941467285, 5.251499176025391, 5.226221561431885, 5.271778583526611, 5.216109752655029, 5.269227504730225, 5.23778772354126, 5.283673286437988, 5.283777236938477, 5.235329627990723, 5.291813850402832, 5.246300220489502, 5.190190315246582, 5.220808982849121, 5.2335100173950195, 5.274011135101318, 5.270923137664795, 5.272883892059326, 5.218605041503906, 5.325164794921875, 5.220015525817871, 5.25007438659668, 5.228995323181152, 5.222075462341309, 5.201001167297363, 5.936033725738525, 5.177071571350098, 5.219598770141602, 5.20013427734375, 5.2096405029296875, 5.184871673583984, 5.203546047210693, 5.192833423614502, 5.163064002990723]\n"
     ]
    },
    {
     "name": "stderr",
     "output_type": "stream",
     "text": [
      "0.162454: 100%|██████████| 3200/3200 [02:22<00:00, 22.46it/s]\n"
     ]
    },
    {
     "name": "stdout",
     "output_type": "stream",
     "text": [
      "4276/4276 [==============================] - 69s 16ms/step - loss: 5.3659\n",
      "Epoch 107 loss 5.196939300298691 val loss 5.365893840789795\n",
      "[8.99688381895423, 7.447008701860905, 6.819614188373089, 6.756220295354724, 6.3309409860521555, 6.210726347230374, 6.219333339333534, 6.225389459840954, 5.978656517714262, 5.980397833921015, 5.72186337761581, 5.895540365539492, 5.849212531298399, 5.690261988639832, 5.624563320577145, 5.679155041836202, 5.586134704425931, 5.654708657674491, 5.715709848292172, 5.5188806889951225, 5.497861228436232, 5.571464146263898, 5.4665602750703695, 5.551240729577839, 5.368751032687723, 5.420417926572263, 5.53939581360668, 5.477566199973226, 5.522608667239547, 5.405717139951885, 5.456880302615463, 5.49130221568048, 5.47696663826704, 5.463503729626536, 5.355901707224548, 5.425206321999431, 5.4836160293594, 5.3817997147515415, 5.310110193789005, 5.2941837514936925, 5.384898569844663, 5.439891175143421, 5.379424596503377, 5.37850166361779, 5.273312831632793, 5.394021689407527, 5.30100776463747, 5.299571858793497, 5.346060801483691, 5.293473369292915, 5.3672544518485665, 5.2196143627166744, 5.376763070374727, 5.3546421390399335, 5.37157914634794, 5.220500768907368, 5.325444615446031, 5.172556496858597, 5.316729328632355, 5.310623440630734, 5.4102950366958975, 5.099037979356945, 5.2540016291290526, 5.15561858586967, 5.102626170776785, 5.306386022381485, 5.181827557757497, 5.064150472395122, 5.218263981938362, 5.1934698026254775, 5.220842763632536, 5.094147684536875, 5.186950975954533, 5.277704075276851, 5.153262359276414, 5.158523515351117, 5.250758710019291, 5.281736856661737, 5.1620757971704005, 5.121279909200966, 5.060195054039359, 5.126660135835409, 5.285472669005394, 5.176167735867202, 5.257092254795134, 5.267357801534235, 5.129995215758681, 5.379664176553487, 5.165719314590096, 5.270458497293293, 5.1758036893606185, 5.194981796778738, 5.056013089567423, 5.276657947041095, 5.204209983497858, 5.1928393818810585, 5.097861971333623, 5.087461701929569, 5.1498808505386116, 5.31779087215662, 5.261757250577212, 5.17551725525409, 5.204847362115979, 5.006366120018065, 5.124508085623384, 5.136281363926828, 5.138223801106214, 5.196939300298691]\n",
      "[7.717712879180908, 6.955950736999512, 6.704439640045166, 6.528388023376465, 6.3274617195129395, 6.1996750831604, 6.113377094268799, 6.011967658996582, 5.910389423370361, 5.87477970123291, 5.860624313354492, 5.7814507484436035, 5.771292686462402, 5.716648101806641, 5.757233619689941, 5.679626941680908, 5.713437080383301, 5.611827850341797, 5.663970947265625, 5.621941566467285, 5.755812644958496, 5.623030662536621, 5.574612617492676, 5.539113998413086, 5.730890274047852, 5.500331401824951, 5.504433631896973, 5.448913097381592, 5.507577896118164, 5.510786056518555, 5.459959983825684, 5.4007673263549805, 5.396493434906006, 5.44691276550293, 5.382143497467041, 5.412578582763672, 5.4137701988220215, 5.555471897125244, 5.43337869644165, 5.491706371307373, 5.595604419708252, 5.40668249130249, 5.5386128425598145, 5.346236705780029, 5.419410228729248, 5.356541156768799, 5.332381248474121, 5.363884449005127, 5.393413543701172, 5.354836940765381, 5.307928085327148, 5.325294494628906, 5.297708034515381, 5.33036994934082, 5.321070194244385, 5.3252997398376465, 5.322055816650391, 5.327525615692139, 5.321632385253906, 5.270559787750244, 5.568323612213135, 5.401540279388428, 5.27060604095459, 5.273929595947266, 5.256091117858887, 5.263978481292725, 5.2708282470703125, 5.270179748535156, 5.307251453399658, 5.20893669128418, 5.262117862701416, 5.2497735023498535, 5.262760639190674, 5.3784050941467285, 5.251499176025391, 5.226221561431885, 5.271778583526611, 5.216109752655029, 5.269227504730225, 5.23778772354126, 5.283673286437988, 5.283777236938477, 5.235329627990723, 5.291813850402832, 5.246300220489502, 5.190190315246582, 5.220808982849121, 5.2335100173950195, 5.274011135101318, 5.270923137664795, 5.272883892059326, 5.218605041503906, 5.325164794921875, 5.220015525817871, 5.25007438659668, 5.228995323181152, 5.222075462341309, 5.201001167297363, 5.936033725738525, 5.177071571350098, 5.219598770141602, 5.20013427734375, 5.2096405029296875, 5.184871673583984, 5.203546047210693, 5.192833423614502, 5.163064002990723, 5.365893840789795]\n"
     ]
    },
    {
     "name": "stderr",
     "output_type": "stream",
     "text": [
      "0.162984: 100%|██████████| 3200/3200 [02:23<00:00, 22.36it/s]\n"
     ]
    },
    {
     "name": "stdout",
     "output_type": "stream",
     "text": [
      "4276/4276 [==============================] - 69s 16ms/step - loss: 5.2024\n",
      "Epoch 108 loss 5.213922142721713 val loss 5.202376842498779\n",
      "[8.99688381895423, 7.447008701860905, 6.819614188373089, 6.756220295354724, 6.3309409860521555, 6.210726347230374, 6.219333339333534, 6.225389459840954, 5.978656517714262, 5.980397833921015, 5.72186337761581, 5.895540365539492, 5.849212531298399, 5.690261988639832, 5.624563320577145, 5.679155041836202, 5.586134704425931, 5.654708657674491, 5.715709848292172, 5.5188806889951225, 5.497861228436232, 5.571464146263898, 5.4665602750703695, 5.551240729577839, 5.368751032687723, 5.420417926572263, 5.53939581360668, 5.477566199973226, 5.522608667239547, 5.405717139951885, 5.456880302615463, 5.49130221568048, 5.47696663826704, 5.463503729626536, 5.355901707224548, 5.425206321999431, 5.4836160293594, 5.3817997147515415, 5.310110193789005, 5.2941837514936925, 5.384898569844663, 5.439891175143421, 5.379424596503377, 5.37850166361779, 5.273312831632793, 5.394021689407527, 5.30100776463747, 5.299571858793497, 5.346060801483691, 5.293473369292915, 5.3672544518485665, 5.2196143627166744, 5.376763070374727, 5.3546421390399335, 5.37157914634794, 5.220500768907368, 5.325444615446031, 5.172556496858597, 5.316729328632355, 5.310623440630734, 5.4102950366958975, 5.099037979356945, 5.2540016291290526, 5.15561858586967, 5.102626170776785, 5.306386022381485, 5.181827557757497, 5.064150472395122, 5.218263981938362, 5.1934698026254775, 5.220842763632536, 5.094147684536875, 5.186950975954533, 5.277704075276851, 5.153262359276414, 5.158523515351117, 5.250758710019291, 5.281736856661737, 5.1620757971704005, 5.121279909200966, 5.060195054039359, 5.126660135835409, 5.285472669005394, 5.176167735867202, 5.257092254795134, 5.267357801534235, 5.129995215758681, 5.379664176553487, 5.165719314590096, 5.270458497293293, 5.1758036893606185, 5.194981796778738, 5.056013089567423, 5.276657947041095, 5.204209983497858, 5.1928393818810585, 5.097861971333623, 5.087461701929569, 5.1498808505386116, 5.31779087215662, 5.261757250577212, 5.17551725525409, 5.204847362115979, 5.006366120018065, 5.124508085623384, 5.136281363926828, 5.138223801106214, 5.196939300298691, 5.213922142721713]\n",
      "[7.717712879180908, 6.955950736999512, 6.704439640045166, 6.528388023376465, 6.3274617195129395, 6.1996750831604, 6.113377094268799, 6.011967658996582, 5.910389423370361, 5.87477970123291, 5.860624313354492, 5.7814507484436035, 5.771292686462402, 5.716648101806641, 5.757233619689941, 5.679626941680908, 5.713437080383301, 5.611827850341797, 5.663970947265625, 5.621941566467285, 5.755812644958496, 5.623030662536621, 5.574612617492676, 5.539113998413086, 5.730890274047852, 5.500331401824951, 5.504433631896973, 5.448913097381592, 5.507577896118164, 5.510786056518555, 5.459959983825684, 5.4007673263549805, 5.396493434906006, 5.44691276550293, 5.382143497467041, 5.412578582763672, 5.4137701988220215, 5.555471897125244, 5.43337869644165, 5.491706371307373, 5.595604419708252, 5.40668249130249, 5.5386128425598145, 5.346236705780029, 5.419410228729248, 5.356541156768799, 5.332381248474121, 5.363884449005127, 5.393413543701172, 5.354836940765381, 5.307928085327148, 5.325294494628906, 5.297708034515381, 5.33036994934082, 5.321070194244385, 5.3252997398376465, 5.322055816650391, 5.327525615692139, 5.321632385253906, 5.270559787750244, 5.568323612213135, 5.401540279388428, 5.27060604095459, 5.273929595947266, 5.256091117858887, 5.263978481292725, 5.2708282470703125, 5.270179748535156, 5.307251453399658, 5.20893669128418, 5.262117862701416, 5.2497735023498535, 5.262760639190674, 5.3784050941467285, 5.251499176025391, 5.226221561431885, 5.271778583526611, 5.216109752655029, 5.269227504730225, 5.23778772354126, 5.283673286437988, 5.283777236938477, 5.235329627990723, 5.291813850402832, 5.246300220489502, 5.190190315246582, 5.220808982849121, 5.2335100173950195, 5.274011135101318, 5.270923137664795, 5.272883892059326, 5.218605041503906, 5.325164794921875, 5.220015525817871, 5.25007438659668, 5.228995323181152, 5.222075462341309, 5.201001167297363, 5.936033725738525, 5.177071571350098, 5.219598770141602, 5.20013427734375, 5.2096405029296875, 5.184871673583984, 5.203546047210693, 5.192833423614502, 5.163064002990723, 5.365893840789795, 5.202376842498779]\n"
     ]
    },
    {
     "name": "stderr",
     "output_type": "stream",
     "text": [
      "0.160588: 100%|██████████| 3200/3200 [02:23<00:00, 22.36it/s]\n"
     ]
    },
    {
     "name": "stdout",
     "output_type": "stream",
     "text": [
      "4276/4276 [==============================] - 69s 16ms/step - loss: 5.3196\n",
      "Epoch 109 loss 5.137269135005772 val loss 5.319567680358887\n",
      "[8.99688381895423, 7.447008701860905, 6.819614188373089, 6.756220295354724, 6.3309409860521555, 6.210726347230374, 6.219333339333534, 6.225389459840954, 5.978656517714262, 5.980397833921015, 5.72186337761581, 5.895540365539492, 5.849212531298399, 5.690261988639832, 5.624563320577145, 5.679155041836202, 5.586134704425931, 5.654708657674491, 5.715709848292172, 5.5188806889951225, 5.497861228436232, 5.571464146263898, 5.4665602750703695, 5.551240729577839, 5.368751032687723, 5.420417926572263, 5.53939581360668, 5.477566199973226, 5.522608667239547, 5.405717139951885, 5.456880302615463, 5.49130221568048, 5.47696663826704, 5.463503729626536, 5.355901707224548, 5.425206321999431, 5.4836160293594, 5.3817997147515415, 5.310110193789005, 5.2941837514936925, 5.384898569844663, 5.439891175143421, 5.379424596503377, 5.37850166361779, 5.273312831632793, 5.394021689407527, 5.30100776463747, 5.299571858793497, 5.346060801483691, 5.293473369292915, 5.3672544518485665, 5.2196143627166744, 5.376763070374727, 5.3546421390399335, 5.37157914634794, 5.220500768907368, 5.325444615446031, 5.172556496858597, 5.316729328632355, 5.310623440630734, 5.4102950366958975, 5.099037979356945, 5.2540016291290526, 5.15561858586967, 5.102626170776785, 5.306386022381485, 5.181827557757497, 5.064150472395122, 5.218263981938362, 5.1934698026254775, 5.220842763632536, 5.094147684536875, 5.186950975954533, 5.277704075276851, 5.153262359276414, 5.158523515351117, 5.250758710019291, 5.281736856661737, 5.1620757971704005, 5.121279909200966, 5.060195054039359, 5.126660135835409, 5.285472669005394, 5.176167735867202, 5.257092254795134, 5.267357801534235, 5.129995215758681, 5.379664176553487, 5.165719314590096, 5.270458497293293, 5.1758036893606185, 5.194981796778738, 5.056013089567423, 5.276657947041095, 5.204209983497858, 5.1928393818810585, 5.097861971333623, 5.087461701929569, 5.1498808505386116, 5.31779087215662, 5.261757250577212, 5.17551725525409, 5.204847362115979, 5.006366120018065, 5.124508085623384, 5.136281363926828, 5.138223801106214, 5.196939300298691, 5.213922142721713, 5.137269135005772]\n",
      "[7.717712879180908, 6.955950736999512, 6.704439640045166, 6.528388023376465, 6.3274617195129395, 6.1996750831604, 6.113377094268799, 6.011967658996582, 5.910389423370361, 5.87477970123291, 5.860624313354492, 5.7814507484436035, 5.771292686462402, 5.716648101806641, 5.757233619689941, 5.679626941680908, 5.713437080383301, 5.611827850341797, 5.663970947265625, 5.621941566467285, 5.755812644958496, 5.623030662536621, 5.574612617492676, 5.539113998413086, 5.730890274047852, 5.500331401824951, 5.504433631896973, 5.448913097381592, 5.507577896118164, 5.510786056518555, 5.459959983825684, 5.4007673263549805, 5.396493434906006, 5.44691276550293, 5.382143497467041, 5.412578582763672, 5.4137701988220215, 5.555471897125244, 5.43337869644165, 5.491706371307373, 5.595604419708252, 5.40668249130249, 5.5386128425598145, 5.346236705780029, 5.419410228729248, 5.356541156768799, 5.332381248474121, 5.363884449005127, 5.393413543701172, 5.354836940765381, 5.307928085327148, 5.325294494628906, 5.297708034515381, 5.33036994934082, 5.321070194244385, 5.3252997398376465, 5.322055816650391, 5.327525615692139, 5.321632385253906, 5.270559787750244, 5.568323612213135, 5.401540279388428, 5.27060604095459, 5.273929595947266, 5.256091117858887, 5.263978481292725, 5.2708282470703125, 5.270179748535156, 5.307251453399658, 5.20893669128418, 5.262117862701416, 5.2497735023498535, 5.262760639190674, 5.3784050941467285, 5.251499176025391, 5.226221561431885, 5.271778583526611, 5.216109752655029, 5.269227504730225, 5.23778772354126, 5.283673286437988, 5.283777236938477, 5.235329627990723, 5.291813850402832, 5.246300220489502, 5.190190315246582, 5.220808982849121, 5.2335100173950195, 5.274011135101318, 5.270923137664795, 5.272883892059326, 5.218605041503906, 5.325164794921875, 5.220015525817871, 5.25007438659668, 5.228995323181152, 5.222075462341309, 5.201001167297363, 5.936033725738525, 5.177071571350098, 5.219598770141602, 5.20013427734375, 5.2096405029296875, 5.184871673583984, 5.203546047210693, 5.192833423614502, 5.163064002990723, 5.365893840789795, 5.202376842498779, 5.319567680358887]\n"
     ]
    },
    {
     "name": "stderr",
     "output_type": "stream",
     "text": [
      "0.161630: 100%|██████████| 3200/3200 [02:22<00:00, 22.42it/s]\n"
     ]
    },
    {
     "name": "stdout",
     "output_type": "stream",
     "text": [
      "4276/4276 [==============================] - 71s 17ms/step - loss: 5.2747\n",
      "Epoch 110 loss 5.17060519888997 val loss 5.274674892425537\n",
      "[8.99688381895423, 7.447008701860905, 6.819614188373089, 6.756220295354724, 6.3309409860521555, 6.210726347230374, 6.219333339333534, 6.225389459840954, 5.978656517714262, 5.980397833921015, 5.72186337761581, 5.895540365539492, 5.849212531298399, 5.690261988639832, 5.624563320577145, 5.679155041836202, 5.586134704425931, 5.654708657674491, 5.715709848292172, 5.5188806889951225, 5.497861228436232, 5.571464146263898, 5.4665602750703695, 5.551240729577839, 5.368751032687723, 5.420417926572263, 5.53939581360668, 5.477566199973226, 5.522608667239547, 5.405717139951885, 5.456880302615463, 5.49130221568048, 5.47696663826704, 5.463503729626536, 5.355901707224548, 5.425206321999431, 5.4836160293594, 5.3817997147515415, 5.310110193789005, 5.2941837514936925, 5.384898569844663, 5.439891175143421, 5.379424596503377, 5.37850166361779, 5.273312831632793, 5.394021689407527, 5.30100776463747, 5.299571858793497, 5.346060801483691, 5.293473369292915, 5.3672544518485665, 5.2196143627166744, 5.376763070374727, 5.3546421390399335, 5.37157914634794, 5.220500768907368, 5.325444615446031, 5.172556496858597, 5.316729328632355, 5.310623440630734, 5.4102950366958975, 5.099037979356945, 5.2540016291290526, 5.15561858586967, 5.102626170776785, 5.306386022381485, 5.181827557757497, 5.064150472395122, 5.218263981938362, 5.1934698026254775, 5.220842763632536, 5.094147684536875, 5.186950975954533, 5.277704075276851, 5.153262359276414, 5.158523515351117, 5.250758710019291, 5.281736856661737, 5.1620757971704005, 5.121279909200966, 5.060195054039359, 5.126660135835409, 5.285472669005394, 5.176167735867202, 5.257092254795134, 5.267357801534235, 5.129995215758681, 5.379664176553487, 5.165719314590096, 5.270458497293293, 5.1758036893606185, 5.194981796778738, 5.056013089567423, 5.276657947041095, 5.204209983497858, 5.1928393818810585, 5.097861971333623, 5.087461701929569, 5.1498808505386116, 5.31779087215662, 5.261757250577212, 5.17551725525409, 5.204847362115979, 5.006366120018065, 5.124508085623384, 5.136281363926828, 5.138223801106214, 5.196939300298691, 5.213922142721713, 5.137269135005772, 5.17060519888997]\n",
      "[7.717712879180908, 6.955950736999512, 6.704439640045166, 6.528388023376465, 6.3274617195129395, 6.1996750831604, 6.113377094268799, 6.011967658996582, 5.910389423370361, 5.87477970123291, 5.860624313354492, 5.7814507484436035, 5.771292686462402, 5.716648101806641, 5.757233619689941, 5.679626941680908, 5.713437080383301, 5.611827850341797, 5.663970947265625, 5.621941566467285, 5.755812644958496, 5.623030662536621, 5.574612617492676, 5.539113998413086, 5.730890274047852, 5.500331401824951, 5.504433631896973, 5.448913097381592, 5.507577896118164, 5.510786056518555, 5.459959983825684, 5.4007673263549805, 5.396493434906006, 5.44691276550293, 5.382143497467041, 5.412578582763672, 5.4137701988220215, 5.555471897125244, 5.43337869644165, 5.491706371307373, 5.595604419708252, 5.40668249130249, 5.5386128425598145, 5.346236705780029, 5.419410228729248, 5.356541156768799, 5.332381248474121, 5.363884449005127, 5.393413543701172, 5.354836940765381, 5.307928085327148, 5.325294494628906, 5.297708034515381, 5.33036994934082, 5.321070194244385, 5.3252997398376465, 5.322055816650391, 5.327525615692139, 5.321632385253906, 5.270559787750244, 5.568323612213135, 5.401540279388428, 5.27060604095459, 5.273929595947266, 5.256091117858887, 5.263978481292725, 5.2708282470703125, 5.270179748535156, 5.307251453399658, 5.20893669128418, 5.262117862701416, 5.2497735023498535, 5.262760639190674, 5.3784050941467285, 5.251499176025391, 5.226221561431885, 5.271778583526611, 5.216109752655029, 5.269227504730225, 5.23778772354126, 5.283673286437988, 5.283777236938477, 5.235329627990723, 5.291813850402832, 5.246300220489502, 5.190190315246582, 5.220808982849121, 5.2335100173950195, 5.274011135101318, 5.270923137664795, 5.272883892059326, 5.218605041503906, 5.325164794921875, 5.220015525817871, 5.25007438659668, 5.228995323181152, 5.222075462341309, 5.201001167297363, 5.936033725738525, 5.177071571350098, 5.219598770141602, 5.20013427734375, 5.2096405029296875, 5.184871673583984, 5.203546047210693, 5.192833423614502, 5.163064002990723, 5.365893840789795, 5.202376842498779, 5.319567680358887, 5.274674892425537]\n"
     ]
    },
    {
     "name": "stderr",
     "output_type": "stream",
     "text": [
      "0.163511: 100%|██████████| 3200/3200 [02:22<00:00, 22.45it/s]\n"
     ]
    },
    {
     "name": "stdout",
     "output_type": "stream",
     "text": [
      "4276/4276 [==============================] - 69s 16ms/step - loss: 5.1466\n",
      "Epoch 111 loss 5.230781662985683 val loss 5.146553993225098\n",
      "[8.99688381895423, 7.447008701860905, 6.819614188373089, 6.756220295354724, 6.3309409860521555, 6.210726347230374, 6.219333339333534, 6.225389459840954, 5.978656517714262, 5.980397833921015, 5.72186337761581, 5.895540365539492, 5.849212531298399, 5.690261988639832, 5.624563320577145, 5.679155041836202, 5.586134704425931, 5.654708657674491, 5.715709848292172, 5.5188806889951225, 5.497861228436232, 5.571464146263898, 5.4665602750703695, 5.551240729577839, 5.368751032687723, 5.420417926572263, 5.53939581360668, 5.477566199973226, 5.522608667239547, 5.405717139951885, 5.456880302615463, 5.49130221568048, 5.47696663826704, 5.463503729626536, 5.355901707224548, 5.425206321999431, 5.4836160293594, 5.3817997147515415, 5.310110193789005, 5.2941837514936925, 5.384898569844663, 5.439891175143421, 5.379424596503377, 5.37850166361779, 5.273312831632793, 5.394021689407527, 5.30100776463747, 5.299571858793497, 5.346060801483691, 5.293473369292915, 5.3672544518485665, 5.2196143627166744, 5.376763070374727, 5.3546421390399335, 5.37157914634794, 5.220500768907368, 5.325444615446031, 5.172556496858597, 5.316729328632355, 5.310623440630734, 5.4102950366958975, 5.099037979356945, 5.2540016291290526, 5.15561858586967, 5.102626170776785, 5.306386022381485, 5.181827557757497, 5.064150472395122, 5.218263981938362, 5.1934698026254775, 5.220842763632536, 5.094147684536875, 5.186950975954533, 5.277704075276851, 5.153262359276414, 5.158523515351117, 5.250758710019291, 5.281736856661737, 5.1620757971704005, 5.121279909200966, 5.060195054039359, 5.126660135835409, 5.285472669005394, 5.176167735867202, 5.257092254795134, 5.267357801534235, 5.129995215758681, 5.379664176553487, 5.165719314590096, 5.270458497293293, 5.1758036893606185, 5.194981796778738, 5.056013089567423, 5.276657947041095, 5.204209983497858, 5.1928393818810585, 5.097861971333623, 5.087461701929569, 5.1498808505386116, 5.31779087215662, 5.261757250577212, 5.17551725525409, 5.204847362115979, 5.006366120018065, 5.124508085623384, 5.136281363926828, 5.138223801106214, 5.196939300298691, 5.213922142721713, 5.137269135005772, 5.17060519888997, 5.230781662985683]\n",
      "[7.717712879180908, 6.955950736999512, 6.704439640045166, 6.528388023376465, 6.3274617195129395, 6.1996750831604, 6.113377094268799, 6.011967658996582, 5.910389423370361, 5.87477970123291, 5.860624313354492, 5.7814507484436035, 5.771292686462402, 5.716648101806641, 5.757233619689941, 5.679626941680908, 5.713437080383301, 5.611827850341797, 5.663970947265625, 5.621941566467285, 5.755812644958496, 5.623030662536621, 5.574612617492676, 5.539113998413086, 5.730890274047852, 5.500331401824951, 5.504433631896973, 5.448913097381592, 5.507577896118164, 5.510786056518555, 5.459959983825684, 5.4007673263549805, 5.396493434906006, 5.44691276550293, 5.382143497467041, 5.412578582763672, 5.4137701988220215, 5.555471897125244, 5.43337869644165, 5.491706371307373, 5.595604419708252, 5.40668249130249, 5.5386128425598145, 5.346236705780029, 5.419410228729248, 5.356541156768799, 5.332381248474121, 5.363884449005127, 5.393413543701172, 5.354836940765381, 5.307928085327148, 5.325294494628906, 5.297708034515381, 5.33036994934082, 5.321070194244385, 5.3252997398376465, 5.322055816650391, 5.327525615692139, 5.321632385253906, 5.270559787750244, 5.568323612213135, 5.401540279388428, 5.27060604095459, 5.273929595947266, 5.256091117858887, 5.263978481292725, 5.2708282470703125, 5.270179748535156, 5.307251453399658, 5.20893669128418, 5.262117862701416, 5.2497735023498535, 5.262760639190674, 5.3784050941467285, 5.251499176025391, 5.226221561431885, 5.271778583526611, 5.216109752655029, 5.269227504730225, 5.23778772354126, 5.283673286437988, 5.283777236938477, 5.235329627990723, 5.291813850402832, 5.246300220489502, 5.190190315246582, 5.220808982849121, 5.2335100173950195, 5.274011135101318, 5.270923137664795, 5.272883892059326, 5.218605041503906, 5.325164794921875, 5.220015525817871, 5.25007438659668, 5.228995323181152, 5.222075462341309, 5.201001167297363, 5.936033725738525, 5.177071571350098, 5.219598770141602, 5.20013427734375, 5.2096405029296875, 5.184871673583984, 5.203546047210693, 5.192833423614502, 5.163064002990723, 5.365893840789795, 5.202376842498779, 5.319567680358887, 5.274674892425537, 5.146553993225098]\n"
     ]
    },
    {
     "name": "stderr",
     "output_type": "stream",
     "text": [
      "0.157644: 100%|██████████| 3200/3200 [02:22<00:00, 22.44it/s]\n"
     ]
    },
    {
     "name": "stdout",
     "output_type": "stream",
     "text": [
      "4276/4276 [==============================] - 69s 16ms/step - loss: 5.2274\n",
      "Epoch 112 loss 5.043082595728338 val loss 5.227417945861816\n",
      "[8.99688381895423, 7.447008701860905, 6.819614188373089, 6.756220295354724, 6.3309409860521555, 6.210726347230374, 6.219333339333534, 6.225389459840954, 5.978656517714262, 5.980397833921015, 5.72186337761581, 5.895540365539492, 5.849212531298399, 5.690261988639832, 5.624563320577145, 5.679155041836202, 5.586134704425931, 5.654708657674491, 5.715709848292172, 5.5188806889951225, 5.497861228436232, 5.571464146263898, 5.4665602750703695, 5.551240729577839, 5.368751032687723, 5.420417926572263, 5.53939581360668, 5.477566199973226, 5.522608667239547, 5.405717139951885, 5.456880302615463, 5.49130221568048, 5.47696663826704, 5.463503729626536, 5.355901707224548, 5.425206321999431, 5.4836160293594, 5.3817997147515415, 5.310110193789005, 5.2941837514936925, 5.384898569844663, 5.439891175143421, 5.379424596503377, 5.37850166361779, 5.273312831632793, 5.394021689407527, 5.30100776463747, 5.299571858793497, 5.346060801483691, 5.293473369292915, 5.3672544518485665, 5.2196143627166744, 5.376763070374727, 5.3546421390399335, 5.37157914634794, 5.220500768907368, 5.325444615446031, 5.172556496858597, 5.316729328632355, 5.310623440630734, 5.4102950366958975, 5.099037979356945, 5.2540016291290526, 5.15561858586967, 5.102626170776785, 5.306386022381485, 5.181827557757497, 5.064150472395122, 5.218263981938362, 5.1934698026254775, 5.220842763632536, 5.094147684536875, 5.186950975954533, 5.277704075276851, 5.153262359276414, 5.158523515351117, 5.250758710019291, 5.281736856661737, 5.1620757971704005, 5.121279909200966, 5.060195054039359, 5.126660135835409, 5.285472669005394, 5.176167735867202, 5.257092254795134, 5.267357801534235, 5.129995215758681, 5.379664176553487, 5.165719314590096, 5.270458497293293, 5.1758036893606185, 5.194981796778738, 5.056013089567423, 5.276657947041095, 5.204209983497858, 5.1928393818810585, 5.097861971333623, 5.087461701929569, 5.1498808505386116, 5.31779087215662, 5.261757250577212, 5.17551725525409, 5.204847362115979, 5.006366120018065, 5.124508085623384, 5.136281363926828, 5.138223801106214, 5.196939300298691, 5.213922142721713, 5.137269135005772, 5.17060519888997, 5.230781662985683, 5.043082595728338]\n",
      "[7.717712879180908, 6.955950736999512, 6.704439640045166, 6.528388023376465, 6.3274617195129395, 6.1996750831604, 6.113377094268799, 6.011967658996582, 5.910389423370361, 5.87477970123291, 5.860624313354492, 5.7814507484436035, 5.771292686462402, 5.716648101806641, 5.757233619689941, 5.679626941680908, 5.713437080383301, 5.611827850341797, 5.663970947265625, 5.621941566467285, 5.755812644958496, 5.623030662536621, 5.574612617492676, 5.539113998413086, 5.730890274047852, 5.500331401824951, 5.504433631896973, 5.448913097381592, 5.507577896118164, 5.510786056518555, 5.459959983825684, 5.4007673263549805, 5.396493434906006, 5.44691276550293, 5.382143497467041, 5.412578582763672, 5.4137701988220215, 5.555471897125244, 5.43337869644165, 5.491706371307373, 5.595604419708252, 5.40668249130249, 5.5386128425598145, 5.346236705780029, 5.419410228729248, 5.356541156768799, 5.332381248474121, 5.363884449005127, 5.393413543701172, 5.354836940765381, 5.307928085327148, 5.325294494628906, 5.297708034515381, 5.33036994934082, 5.321070194244385, 5.3252997398376465, 5.322055816650391, 5.327525615692139, 5.321632385253906, 5.270559787750244, 5.568323612213135, 5.401540279388428, 5.27060604095459, 5.273929595947266, 5.256091117858887, 5.263978481292725, 5.2708282470703125, 5.270179748535156, 5.307251453399658, 5.20893669128418, 5.262117862701416, 5.2497735023498535, 5.262760639190674, 5.3784050941467285, 5.251499176025391, 5.226221561431885, 5.271778583526611, 5.216109752655029, 5.269227504730225, 5.23778772354126, 5.283673286437988, 5.283777236938477, 5.235329627990723, 5.291813850402832, 5.246300220489502, 5.190190315246582, 5.220808982849121, 5.2335100173950195, 5.274011135101318, 5.270923137664795, 5.272883892059326, 5.218605041503906, 5.325164794921875, 5.220015525817871, 5.25007438659668, 5.228995323181152, 5.222075462341309, 5.201001167297363, 5.936033725738525, 5.177071571350098, 5.219598770141602, 5.20013427734375, 5.2096405029296875, 5.184871673583984, 5.203546047210693, 5.192833423614502, 5.163064002990723, 5.365893840789795, 5.202376842498779, 5.319567680358887, 5.274674892425537, 5.146553993225098, 5.227417945861816]\n"
     ]
    },
    {
     "name": "stderr",
     "output_type": "stream",
     "text": [
      "0.160478: 100%|██████████| 3200/3200 [02:22<00:00, 22.44it/s]\n"
     ]
    },
    {
     "name": "stdout",
     "output_type": "stream",
     "text": [
      "4276/4276 [==============================] - 69s 16ms/step - loss: 5.1784\n",
      "Epoch 113 loss 5.133747048340738 val loss 5.178448677062988\n",
      "[8.99688381895423, 7.447008701860905, 6.819614188373089, 6.756220295354724, 6.3309409860521555, 6.210726347230374, 6.219333339333534, 6.225389459840954, 5.978656517714262, 5.980397833921015, 5.72186337761581, 5.895540365539492, 5.849212531298399, 5.690261988639832, 5.624563320577145, 5.679155041836202, 5.586134704425931, 5.654708657674491, 5.715709848292172, 5.5188806889951225, 5.497861228436232, 5.571464146263898, 5.4665602750703695, 5.551240729577839, 5.368751032687723, 5.420417926572263, 5.53939581360668, 5.477566199973226, 5.522608667239547, 5.405717139951885, 5.456880302615463, 5.49130221568048, 5.47696663826704, 5.463503729626536, 5.355901707224548, 5.425206321999431, 5.4836160293594, 5.3817997147515415, 5.310110193789005, 5.2941837514936925, 5.384898569844663, 5.439891175143421, 5.379424596503377, 5.37850166361779, 5.273312831632793, 5.394021689407527, 5.30100776463747, 5.299571858793497, 5.346060801483691, 5.293473369292915, 5.3672544518485665, 5.2196143627166744, 5.376763070374727, 5.3546421390399335, 5.37157914634794, 5.220500768907368, 5.325444615446031, 5.172556496858597, 5.316729328632355, 5.310623440630734, 5.4102950366958975, 5.099037979356945, 5.2540016291290526, 5.15561858586967, 5.102626170776785, 5.306386022381485, 5.181827557757497, 5.064150472395122, 5.218263981938362, 5.1934698026254775, 5.220842763632536, 5.094147684536875, 5.186950975954533, 5.277704075276851, 5.153262359276414, 5.158523515351117, 5.250758710019291, 5.281736856661737, 5.1620757971704005, 5.121279909200966, 5.060195054039359, 5.126660135835409, 5.285472669005394, 5.176167735867202, 5.257092254795134, 5.267357801534235, 5.129995215758681, 5.379664176553487, 5.165719314590096, 5.270458497293293, 5.1758036893606185, 5.194981796778738, 5.056013089567423, 5.276657947041095, 5.204209983497858, 5.1928393818810585, 5.097861971333623, 5.087461701929569, 5.1498808505386116, 5.31779087215662, 5.261757250577212, 5.17551725525409, 5.204847362115979, 5.006366120018065, 5.124508085623384, 5.136281363926828, 5.138223801106214, 5.196939300298691, 5.213922142721713, 5.137269135005772, 5.17060519888997, 5.230781662985683, 5.043082595728338, 5.133747048340738]\n",
      "[7.717712879180908, 6.955950736999512, 6.704439640045166, 6.528388023376465, 6.3274617195129395, 6.1996750831604, 6.113377094268799, 6.011967658996582, 5.910389423370361, 5.87477970123291, 5.860624313354492, 5.7814507484436035, 5.771292686462402, 5.716648101806641, 5.757233619689941, 5.679626941680908, 5.713437080383301, 5.611827850341797, 5.663970947265625, 5.621941566467285, 5.755812644958496, 5.623030662536621, 5.574612617492676, 5.539113998413086, 5.730890274047852, 5.500331401824951, 5.504433631896973, 5.448913097381592, 5.507577896118164, 5.510786056518555, 5.459959983825684, 5.4007673263549805, 5.396493434906006, 5.44691276550293, 5.382143497467041, 5.412578582763672, 5.4137701988220215, 5.555471897125244, 5.43337869644165, 5.491706371307373, 5.595604419708252, 5.40668249130249, 5.5386128425598145, 5.346236705780029, 5.419410228729248, 5.356541156768799, 5.332381248474121, 5.363884449005127, 5.393413543701172, 5.354836940765381, 5.307928085327148, 5.325294494628906, 5.297708034515381, 5.33036994934082, 5.321070194244385, 5.3252997398376465, 5.322055816650391, 5.327525615692139, 5.321632385253906, 5.270559787750244, 5.568323612213135, 5.401540279388428, 5.27060604095459, 5.273929595947266, 5.256091117858887, 5.263978481292725, 5.2708282470703125, 5.270179748535156, 5.307251453399658, 5.20893669128418, 5.262117862701416, 5.2497735023498535, 5.262760639190674, 5.3784050941467285, 5.251499176025391, 5.226221561431885, 5.271778583526611, 5.216109752655029, 5.269227504730225, 5.23778772354126, 5.283673286437988, 5.283777236938477, 5.235329627990723, 5.291813850402832, 5.246300220489502, 5.190190315246582, 5.220808982849121, 5.2335100173950195, 5.274011135101318, 5.270923137664795, 5.272883892059326, 5.218605041503906, 5.325164794921875, 5.220015525817871, 5.25007438659668, 5.228995323181152, 5.222075462341309, 5.201001167297363, 5.936033725738525, 5.177071571350098, 5.219598770141602, 5.20013427734375, 5.2096405029296875, 5.184871673583984, 5.203546047210693, 5.192833423614502, 5.163064002990723, 5.365893840789795, 5.202376842498779, 5.319567680358887, 5.274674892425537, 5.146553993225098, 5.227417945861816, 5.178448677062988]\n"
     ]
    },
    {
     "name": "stderr",
     "output_type": "stream",
     "text": [
      "0.157260: 100%|██████████| 3200/3200 [02:22<00:00, 22.44it/s]\n"
     ]
    },
    {
     "name": "stdout",
     "output_type": "stream",
     "text": [
      "4276/4276 [==============================] - 69s 16ms/step - loss: 5.2695\n",
      "Epoch 114 loss 5.030794223733246 val loss 5.269516468048096\n",
      "[8.99688381895423, 7.447008701860905, 6.819614188373089, 6.756220295354724, 6.3309409860521555, 6.210726347230374, 6.219333339333534, 6.225389459840954, 5.978656517714262, 5.980397833921015, 5.72186337761581, 5.895540365539492, 5.849212531298399, 5.690261988639832, 5.624563320577145, 5.679155041836202, 5.586134704425931, 5.654708657674491, 5.715709848292172, 5.5188806889951225, 5.497861228436232, 5.571464146263898, 5.4665602750703695, 5.551240729577839, 5.368751032687723, 5.420417926572263, 5.53939581360668, 5.477566199973226, 5.522608667239547, 5.405717139951885, 5.456880302615463, 5.49130221568048, 5.47696663826704, 5.463503729626536, 5.355901707224548, 5.425206321999431, 5.4836160293594, 5.3817997147515415, 5.310110193789005, 5.2941837514936925, 5.384898569844663, 5.439891175143421, 5.379424596503377, 5.37850166361779, 5.273312831632793, 5.394021689407527, 5.30100776463747, 5.299571858793497, 5.346060801483691, 5.293473369292915, 5.3672544518485665, 5.2196143627166744, 5.376763070374727, 5.3546421390399335, 5.37157914634794, 5.220500768907368, 5.325444615446031, 5.172556496858597, 5.316729328632355, 5.310623440630734, 5.4102950366958975, 5.099037979356945, 5.2540016291290526, 5.15561858586967, 5.102626170776785, 5.306386022381485, 5.181827557757497, 5.064150472395122, 5.218263981938362, 5.1934698026254775, 5.220842763632536, 5.094147684536875, 5.186950975954533, 5.277704075276851, 5.153262359276414, 5.158523515351117, 5.250758710019291, 5.281736856661737, 5.1620757971704005, 5.121279909200966, 5.060195054039359, 5.126660135835409, 5.285472669005394, 5.176167735867202, 5.257092254795134, 5.267357801534235, 5.129995215758681, 5.379664176553487, 5.165719314590096, 5.270458497293293, 5.1758036893606185, 5.194981796778738, 5.056013089567423, 5.276657947041095, 5.204209983497858, 5.1928393818810585, 5.097861971333623, 5.087461701929569, 5.1498808505386116, 5.31779087215662, 5.261757250577212, 5.17551725525409, 5.204847362115979, 5.006366120018065, 5.124508085623384, 5.136281363926828, 5.138223801106214, 5.196939300298691, 5.213922142721713, 5.137269135005772, 5.17060519888997, 5.230781662985683, 5.043082595728338, 5.133747048340738, 5.030794223733246]\n",
      "[7.717712879180908, 6.955950736999512, 6.704439640045166, 6.528388023376465, 6.3274617195129395, 6.1996750831604, 6.113377094268799, 6.011967658996582, 5.910389423370361, 5.87477970123291, 5.860624313354492, 5.7814507484436035, 5.771292686462402, 5.716648101806641, 5.757233619689941, 5.679626941680908, 5.713437080383301, 5.611827850341797, 5.663970947265625, 5.621941566467285, 5.755812644958496, 5.623030662536621, 5.574612617492676, 5.539113998413086, 5.730890274047852, 5.500331401824951, 5.504433631896973, 5.448913097381592, 5.507577896118164, 5.510786056518555, 5.459959983825684, 5.4007673263549805, 5.396493434906006, 5.44691276550293, 5.382143497467041, 5.412578582763672, 5.4137701988220215, 5.555471897125244, 5.43337869644165, 5.491706371307373, 5.595604419708252, 5.40668249130249, 5.5386128425598145, 5.346236705780029, 5.419410228729248, 5.356541156768799, 5.332381248474121, 5.363884449005127, 5.393413543701172, 5.354836940765381, 5.307928085327148, 5.325294494628906, 5.297708034515381, 5.33036994934082, 5.321070194244385, 5.3252997398376465, 5.322055816650391, 5.327525615692139, 5.321632385253906, 5.270559787750244, 5.568323612213135, 5.401540279388428, 5.27060604095459, 5.273929595947266, 5.256091117858887, 5.263978481292725, 5.2708282470703125, 5.270179748535156, 5.307251453399658, 5.20893669128418, 5.262117862701416, 5.2497735023498535, 5.262760639190674, 5.3784050941467285, 5.251499176025391, 5.226221561431885, 5.271778583526611, 5.216109752655029, 5.269227504730225, 5.23778772354126, 5.283673286437988, 5.283777236938477, 5.235329627990723, 5.291813850402832, 5.246300220489502, 5.190190315246582, 5.220808982849121, 5.2335100173950195, 5.274011135101318, 5.270923137664795, 5.272883892059326, 5.218605041503906, 5.325164794921875, 5.220015525817871, 5.25007438659668, 5.228995323181152, 5.222075462341309, 5.201001167297363, 5.936033725738525, 5.177071571350098, 5.219598770141602, 5.20013427734375, 5.2096405029296875, 5.184871673583984, 5.203546047210693, 5.192833423614502, 5.163064002990723, 5.365893840789795, 5.202376842498779, 5.319567680358887, 5.274674892425537, 5.146553993225098, 5.227417945861816, 5.178448677062988, 5.269516468048096]\n"
     ]
    },
    {
     "name": "stderr",
     "output_type": "stream",
     "text": [
      "0.156683: 100%|██████████| 3200/3200 [02:23<00:00, 22.36it/s]\n"
     ]
    },
    {
     "name": "stdout",
     "output_type": "stream",
     "text": [
      "4276/4276 [==============================] - 69s 16ms/step - loss: 5.1448\n",
      "Epoch 115 loss 5.0123373138159515 val loss 5.14478063583374\n",
      "[8.99688381895423, 7.447008701860905, 6.819614188373089, 6.756220295354724, 6.3309409860521555, 6.210726347230374, 6.219333339333534, 6.225389459840954, 5.978656517714262, 5.980397833921015, 5.72186337761581, 5.895540365539492, 5.849212531298399, 5.690261988639832, 5.624563320577145, 5.679155041836202, 5.586134704425931, 5.654708657674491, 5.715709848292172, 5.5188806889951225, 5.497861228436232, 5.571464146263898, 5.4665602750703695, 5.551240729577839, 5.368751032687723, 5.420417926572263, 5.53939581360668, 5.477566199973226, 5.522608667239547, 5.405717139951885, 5.456880302615463, 5.49130221568048, 5.47696663826704, 5.463503729626536, 5.355901707224548, 5.425206321999431, 5.4836160293594, 5.3817997147515415, 5.310110193789005, 5.2941837514936925, 5.384898569844663, 5.439891175143421, 5.379424596503377, 5.37850166361779, 5.273312831632793, 5.394021689407527, 5.30100776463747, 5.299571858793497, 5.346060801483691, 5.293473369292915, 5.3672544518485665, 5.2196143627166744, 5.376763070374727, 5.3546421390399335, 5.37157914634794, 5.220500768907368, 5.325444615446031, 5.172556496858597, 5.316729328632355, 5.310623440630734, 5.4102950366958975, 5.099037979356945, 5.2540016291290526, 5.15561858586967, 5.102626170776785, 5.306386022381485, 5.181827557757497, 5.064150472395122, 5.218263981938362, 5.1934698026254775, 5.220842763632536, 5.094147684536875, 5.186950975954533, 5.277704075276851, 5.153262359276414, 5.158523515351117, 5.250758710019291, 5.281736856661737, 5.1620757971704005, 5.121279909200966, 5.060195054039359, 5.126660135835409, 5.285472669005394, 5.176167735867202, 5.257092254795134, 5.267357801534235, 5.129995215758681, 5.379664176553487, 5.165719314590096, 5.270458497293293, 5.1758036893606185, 5.194981796778738, 5.056013089567423, 5.276657947041095, 5.204209983497858, 5.1928393818810585, 5.097861971333623, 5.087461701929569, 5.1498808505386116, 5.31779087215662, 5.261757250577212, 5.17551725525409, 5.204847362115979, 5.006366120018065, 5.124508085623384, 5.136281363926828, 5.138223801106214, 5.196939300298691, 5.213922142721713, 5.137269135005772, 5.17060519888997, 5.230781662985683, 5.043082595728338, 5.133747048340738, 5.030794223733246, 5.0123373138159515]\n",
      "[7.717712879180908, 6.955950736999512, 6.704439640045166, 6.528388023376465, 6.3274617195129395, 6.1996750831604, 6.113377094268799, 6.011967658996582, 5.910389423370361, 5.87477970123291, 5.860624313354492, 5.7814507484436035, 5.771292686462402, 5.716648101806641, 5.757233619689941, 5.679626941680908, 5.713437080383301, 5.611827850341797, 5.663970947265625, 5.621941566467285, 5.755812644958496, 5.623030662536621, 5.574612617492676, 5.539113998413086, 5.730890274047852, 5.500331401824951, 5.504433631896973, 5.448913097381592, 5.507577896118164, 5.510786056518555, 5.459959983825684, 5.4007673263549805, 5.396493434906006, 5.44691276550293, 5.382143497467041, 5.412578582763672, 5.4137701988220215, 5.555471897125244, 5.43337869644165, 5.491706371307373, 5.595604419708252, 5.40668249130249, 5.5386128425598145, 5.346236705780029, 5.419410228729248, 5.356541156768799, 5.332381248474121, 5.363884449005127, 5.393413543701172, 5.354836940765381, 5.307928085327148, 5.325294494628906, 5.297708034515381, 5.33036994934082, 5.321070194244385, 5.3252997398376465, 5.322055816650391, 5.327525615692139, 5.321632385253906, 5.270559787750244, 5.568323612213135, 5.401540279388428, 5.27060604095459, 5.273929595947266, 5.256091117858887, 5.263978481292725, 5.2708282470703125, 5.270179748535156, 5.307251453399658, 5.20893669128418, 5.262117862701416, 5.2497735023498535, 5.262760639190674, 5.3784050941467285, 5.251499176025391, 5.226221561431885, 5.271778583526611, 5.216109752655029, 5.269227504730225, 5.23778772354126, 5.283673286437988, 5.283777236938477, 5.235329627990723, 5.291813850402832, 5.246300220489502, 5.190190315246582, 5.220808982849121, 5.2335100173950195, 5.274011135101318, 5.270923137664795, 5.272883892059326, 5.218605041503906, 5.325164794921875, 5.220015525817871, 5.25007438659668, 5.228995323181152, 5.222075462341309, 5.201001167297363, 5.936033725738525, 5.177071571350098, 5.219598770141602, 5.20013427734375, 5.2096405029296875, 5.184871673583984, 5.203546047210693, 5.192833423614502, 5.163064002990723, 5.365893840789795, 5.202376842498779, 5.319567680358887, 5.274674892425537, 5.146553993225098, 5.227417945861816, 5.178448677062988, 5.269516468048096, 5.14478063583374]\n"
     ]
    },
    {
     "name": "stderr",
     "output_type": "stream",
     "text": [
      "0.160703: 100%|██████████| 3200/3200 [02:22<00:00, 22.44it/s]\n"
     ]
    },
    {
     "name": "stdout",
     "output_type": "stream",
     "text": [
      "4276/4276 [==============================] - 69s 16ms/step - loss: 5.1924\n",
      "Epoch 116 loss 5.140952672287821 val loss 5.192399978637695\n",
      "[8.99688381895423, 7.447008701860905, 6.819614188373089, 6.756220295354724, 6.3309409860521555, 6.210726347230374, 6.219333339333534, 6.225389459840954, 5.978656517714262, 5.980397833921015, 5.72186337761581, 5.895540365539492, 5.849212531298399, 5.690261988639832, 5.624563320577145, 5.679155041836202, 5.586134704425931, 5.654708657674491, 5.715709848292172, 5.5188806889951225, 5.497861228436232, 5.571464146263898, 5.4665602750703695, 5.551240729577839, 5.368751032687723, 5.420417926572263, 5.53939581360668, 5.477566199973226, 5.522608667239547, 5.405717139951885, 5.456880302615463, 5.49130221568048, 5.47696663826704, 5.463503729626536, 5.355901707224548, 5.425206321999431, 5.4836160293594, 5.3817997147515415, 5.310110193789005, 5.2941837514936925, 5.384898569844663, 5.439891175143421, 5.379424596503377, 5.37850166361779, 5.273312831632793, 5.394021689407527, 5.30100776463747, 5.299571858793497, 5.346060801483691, 5.293473369292915, 5.3672544518485665, 5.2196143627166744, 5.376763070374727, 5.3546421390399335, 5.37157914634794, 5.220500768907368, 5.325444615446031, 5.172556496858597, 5.316729328632355, 5.310623440630734, 5.4102950366958975, 5.099037979356945, 5.2540016291290526, 5.15561858586967, 5.102626170776785, 5.306386022381485, 5.181827557757497, 5.064150472395122, 5.218263981938362, 5.1934698026254775, 5.220842763632536, 5.094147684536875, 5.186950975954533, 5.277704075276851, 5.153262359276414, 5.158523515351117, 5.250758710019291, 5.281736856661737, 5.1620757971704005, 5.121279909200966, 5.060195054039359, 5.126660135835409, 5.285472669005394, 5.176167735867202, 5.257092254795134, 5.267357801534235, 5.129995215758681, 5.379664176553487, 5.165719314590096, 5.270458497293293, 5.1758036893606185, 5.194981796778738, 5.056013089567423, 5.276657947041095, 5.204209983497858, 5.1928393818810585, 5.097861971333623, 5.087461701929569, 5.1498808505386116, 5.31779087215662, 5.261757250577212, 5.17551725525409, 5.204847362115979, 5.006366120018065, 5.124508085623384, 5.136281363926828, 5.138223801106214, 5.196939300298691, 5.213922142721713, 5.137269135005772, 5.17060519888997, 5.230781662985683, 5.043082595728338, 5.133747048340738, 5.030794223733246, 5.0123373138159515, 5.140952672287821]\n",
      "[7.717712879180908, 6.955950736999512, 6.704439640045166, 6.528388023376465, 6.3274617195129395, 6.1996750831604, 6.113377094268799, 6.011967658996582, 5.910389423370361, 5.87477970123291, 5.860624313354492, 5.7814507484436035, 5.771292686462402, 5.716648101806641, 5.757233619689941, 5.679626941680908, 5.713437080383301, 5.611827850341797, 5.663970947265625, 5.621941566467285, 5.755812644958496, 5.623030662536621, 5.574612617492676, 5.539113998413086, 5.730890274047852, 5.500331401824951, 5.504433631896973, 5.448913097381592, 5.507577896118164, 5.510786056518555, 5.459959983825684, 5.4007673263549805, 5.396493434906006, 5.44691276550293, 5.382143497467041, 5.412578582763672, 5.4137701988220215, 5.555471897125244, 5.43337869644165, 5.491706371307373, 5.595604419708252, 5.40668249130249, 5.5386128425598145, 5.346236705780029, 5.419410228729248, 5.356541156768799, 5.332381248474121, 5.363884449005127, 5.393413543701172, 5.354836940765381, 5.307928085327148, 5.325294494628906, 5.297708034515381, 5.33036994934082, 5.321070194244385, 5.3252997398376465, 5.322055816650391, 5.327525615692139, 5.321632385253906, 5.270559787750244, 5.568323612213135, 5.401540279388428, 5.27060604095459, 5.273929595947266, 5.256091117858887, 5.263978481292725, 5.2708282470703125, 5.270179748535156, 5.307251453399658, 5.20893669128418, 5.262117862701416, 5.2497735023498535, 5.262760639190674, 5.3784050941467285, 5.251499176025391, 5.226221561431885, 5.271778583526611, 5.216109752655029, 5.269227504730225, 5.23778772354126, 5.283673286437988, 5.283777236938477, 5.235329627990723, 5.291813850402832, 5.246300220489502, 5.190190315246582, 5.220808982849121, 5.2335100173950195, 5.274011135101318, 5.270923137664795, 5.272883892059326, 5.218605041503906, 5.325164794921875, 5.220015525817871, 5.25007438659668, 5.228995323181152, 5.222075462341309, 5.201001167297363, 5.936033725738525, 5.177071571350098, 5.219598770141602, 5.20013427734375, 5.2096405029296875, 5.184871673583984, 5.203546047210693, 5.192833423614502, 5.163064002990723, 5.365893840789795, 5.202376842498779, 5.319567680358887, 5.274674892425537, 5.146553993225098, 5.227417945861816, 5.178448677062988, 5.269516468048096, 5.14478063583374, 5.192399978637695]\n"
     ]
    },
    {
     "name": "stderr",
     "output_type": "stream",
     "text": [
      "0.161097: 100%|██████████| 3200/3200 [02:22<00:00, 22.47it/s]\n"
     ]
    },
    {
     "name": "stdout",
     "output_type": "stream",
     "text": [
      "4276/4276 [==============================] - 69s 16ms/step - loss: 5.1521\n",
      "Epoch 117 loss 5.1535502003133296 val loss 5.1520562171936035\n",
      "[8.99688381895423, 7.447008701860905, 6.819614188373089, 6.756220295354724, 6.3309409860521555, 6.210726347230374, 6.219333339333534, 6.225389459840954, 5.978656517714262, 5.980397833921015, 5.72186337761581, 5.895540365539492, 5.849212531298399, 5.690261988639832, 5.624563320577145, 5.679155041836202, 5.586134704425931, 5.654708657674491, 5.715709848292172, 5.5188806889951225, 5.497861228436232, 5.571464146263898, 5.4665602750703695, 5.551240729577839, 5.368751032687723, 5.420417926572263, 5.53939581360668, 5.477566199973226, 5.522608667239547, 5.405717139951885, 5.456880302615463, 5.49130221568048, 5.47696663826704, 5.463503729626536, 5.355901707224548, 5.425206321999431, 5.4836160293594, 5.3817997147515415, 5.310110193789005, 5.2941837514936925, 5.384898569844663, 5.439891175143421, 5.379424596503377, 5.37850166361779, 5.273312831632793, 5.394021689407527, 5.30100776463747, 5.299571858793497, 5.346060801483691, 5.293473369292915, 5.3672544518485665, 5.2196143627166744, 5.376763070374727, 5.3546421390399335, 5.37157914634794, 5.220500768907368, 5.325444615446031, 5.172556496858597, 5.316729328632355, 5.310623440630734, 5.4102950366958975, 5.099037979356945, 5.2540016291290526, 5.15561858586967, 5.102626170776785, 5.306386022381485, 5.181827557757497, 5.064150472395122, 5.218263981938362, 5.1934698026254775, 5.220842763632536, 5.094147684536875, 5.186950975954533, 5.277704075276851, 5.153262359276414, 5.158523515351117, 5.250758710019291, 5.281736856661737, 5.1620757971704005, 5.121279909200966, 5.060195054039359, 5.126660135835409, 5.285472669005394, 5.176167735867202, 5.257092254795134, 5.267357801534235, 5.129995215758681, 5.379664176553487, 5.165719314590096, 5.270458497293293, 5.1758036893606185, 5.194981796778738, 5.056013089567423, 5.276657947041095, 5.204209983497858, 5.1928393818810585, 5.097861971333623, 5.087461701929569, 5.1498808505386116, 5.31779087215662, 5.261757250577212, 5.17551725525409, 5.204847362115979, 5.006366120018065, 5.124508085623384, 5.136281363926828, 5.138223801106214, 5.196939300298691, 5.213922142721713, 5.137269135005772, 5.17060519888997, 5.230781662985683, 5.043082595728338, 5.133747048340738, 5.030794223733246, 5.0123373138159515, 5.140952672287821, 5.1535502003133296]\n",
      "[7.717712879180908, 6.955950736999512, 6.704439640045166, 6.528388023376465, 6.3274617195129395, 6.1996750831604, 6.113377094268799, 6.011967658996582, 5.910389423370361, 5.87477970123291, 5.860624313354492, 5.7814507484436035, 5.771292686462402, 5.716648101806641, 5.757233619689941, 5.679626941680908, 5.713437080383301, 5.611827850341797, 5.663970947265625, 5.621941566467285, 5.755812644958496, 5.623030662536621, 5.574612617492676, 5.539113998413086, 5.730890274047852, 5.500331401824951, 5.504433631896973, 5.448913097381592, 5.507577896118164, 5.510786056518555, 5.459959983825684, 5.4007673263549805, 5.396493434906006, 5.44691276550293, 5.382143497467041, 5.412578582763672, 5.4137701988220215, 5.555471897125244, 5.43337869644165, 5.491706371307373, 5.595604419708252, 5.40668249130249, 5.5386128425598145, 5.346236705780029, 5.419410228729248, 5.356541156768799, 5.332381248474121, 5.363884449005127, 5.393413543701172, 5.354836940765381, 5.307928085327148, 5.325294494628906, 5.297708034515381, 5.33036994934082, 5.321070194244385, 5.3252997398376465, 5.322055816650391, 5.327525615692139, 5.321632385253906, 5.270559787750244, 5.568323612213135, 5.401540279388428, 5.27060604095459, 5.273929595947266, 5.256091117858887, 5.263978481292725, 5.2708282470703125, 5.270179748535156, 5.307251453399658, 5.20893669128418, 5.262117862701416, 5.2497735023498535, 5.262760639190674, 5.3784050941467285, 5.251499176025391, 5.226221561431885, 5.271778583526611, 5.216109752655029, 5.269227504730225, 5.23778772354126, 5.283673286437988, 5.283777236938477, 5.235329627990723, 5.291813850402832, 5.246300220489502, 5.190190315246582, 5.220808982849121, 5.2335100173950195, 5.274011135101318, 5.270923137664795, 5.272883892059326, 5.218605041503906, 5.325164794921875, 5.220015525817871, 5.25007438659668, 5.228995323181152, 5.222075462341309, 5.201001167297363, 5.936033725738525, 5.177071571350098, 5.219598770141602, 5.20013427734375, 5.2096405029296875, 5.184871673583984, 5.203546047210693, 5.192833423614502, 5.163064002990723, 5.365893840789795, 5.202376842498779, 5.319567680358887, 5.274674892425537, 5.146553993225098, 5.227417945861816, 5.178448677062988, 5.269516468048096, 5.14478063583374, 5.192399978637695, 5.1520562171936035]\n"
     ]
    },
    {
     "name": "stderr",
     "output_type": "stream",
     "text": [
      "0.156909: 100%|██████████| 3200/3200 [02:22<00:00, 22.46it/s]\n"
     ]
    },
    {
     "name": "stdout",
     "output_type": "stream",
     "text": [
      "4276/4276 [==============================] - 69s 16ms/step - loss: 5.4921\n",
      "Epoch 118 loss 5.019577622935176 val loss 5.492075443267822\n",
      "[8.99688381895423, 7.447008701860905, 6.819614188373089, 6.756220295354724, 6.3309409860521555, 6.210726347230374, 6.219333339333534, 6.225389459840954, 5.978656517714262, 5.980397833921015, 5.72186337761581, 5.895540365539492, 5.849212531298399, 5.690261988639832, 5.624563320577145, 5.679155041836202, 5.586134704425931, 5.654708657674491, 5.715709848292172, 5.5188806889951225, 5.497861228436232, 5.571464146263898, 5.4665602750703695, 5.551240729577839, 5.368751032687723, 5.420417926572263, 5.53939581360668, 5.477566199973226, 5.522608667239547, 5.405717139951885, 5.456880302615463, 5.49130221568048, 5.47696663826704, 5.463503729626536, 5.355901707224548, 5.425206321999431, 5.4836160293594, 5.3817997147515415, 5.310110193789005, 5.2941837514936925, 5.384898569844663, 5.439891175143421, 5.379424596503377, 5.37850166361779, 5.273312831632793, 5.394021689407527, 5.30100776463747, 5.299571858793497, 5.346060801483691, 5.293473369292915, 5.3672544518485665, 5.2196143627166744, 5.376763070374727, 5.3546421390399335, 5.37157914634794, 5.220500768907368, 5.325444615446031, 5.172556496858597, 5.316729328632355, 5.310623440630734, 5.4102950366958975, 5.099037979356945, 5.2540016291290526, 5.15561858586967, 5.102626170776785, 5.306386022381485, 5.181827557757497, 5.064150472395122, 5.218263981938362, 5.1934698026254775, 5.220842763632536, 5.094147684536875, 5.186950975954533, 5.277704075276851, 5.153262359276414, 5.158523515351117, 5.250758710019291, 5.281736856661737, 5.1620757971704005, 5.121279909200966, 5.060195054039359, 5.126660135835409, 5.285472669005394, 5.176167735867202, 5.257092254795134, 5.267357801534235, 5.129995215758681, 5.379664176553487, 5.165719314590096, 5.270458497293293, 5.1758036893606185, 5.194981796778738, 5.056013089567423, 5.276657947041095, 5.204209983497858, 5.1928393818810585, 5.097861971333623, 5.087461701929569, 5.1498808505386116, 5.31779087215662, 5.261757250577212, 5.17551725525409, 5.204847362115979, 5.006366120018065, 5.124508085623384, 5.136281363926828, 5.138223801106214, 5.196939300298691, 5.213922142721713, 5.137269135005772, 5.17060519888997, 5.230781662985683, 5.043082595728338, 5.133747048340738, 5.030794223733246, 5.0123373138159515, 5.140952672287821, 5.1535502003133296, 5.019577622935176]\n",
      "[7.717712879180908, 6.955950736999512, 6.704439640045166, 6.528388023376465, 6.3274617195129395, 6.1996750831604, 6.113377094268799, 6.011967658996582, 5.910389423370361, 5.87477970123291, 5.860624313354492, 5.7814507484436035, 5.771292686462402, 5.716648101806641, 5.757233619689941, 5.679626941680908, 5.713437080383301, 5.611827850341797, 5.663970947265625, 5.621941566467285, 5.755812644958496, 5.623030662536621, 5.574612617492676, 5.539113998413086, 5.730890274047852, 5.500331401824951, 5.504433631896973, 5.448913097381592, 5.507577896118164, 5.510786056518555, 5.459959983825684, 5.4007673263549805, 5.396493434906006, 5.44691276550293, 5.382143497467041, 5.412578582763672, 5.4137701988220215, 5.555471897125244, 5.43337869644165, 5.491706371307373, 5.595604419708252, 5.40668249130249, 5.5386128425598145, 5.346236705780029, 5.419410228729248, 5.356541156768799, 5.332381248474121, 5.363884449005127, 5.393413543701172, 5.354836940765381, 5.307928085327148, 5.325294494628906, 5.297708034515381, 5.33036994934082, 5.321070194244385, 5.3252997398376465, 5.322055816650391, 5.327525615692139, 5.321632385253906, 5.270559787750244, 5.568323612213135, 5.401540279388428, 5.27060604095459, 5.273929595947266, 5.256091117858887, 5.263978481292725, 5.2708282470703125, 5.270179748535156, 5.307251453399658, 5.20893669128418, 5.262117862701416, 5.2497735023498535, 5.262760639190674, 5.3784050941467285, 5.251499176025391, 5.226221561431885, 5.271778583526611, 5.216109752655029, 5.269227504730225, 5.23778772354126, 5.283673286437988, 5.283777236938477, 5.235329627990723, 5.291813850402832, 5.246300220489502, 5.190190315246582, 5.220808982849121, 5.2335100173950195, 5.274011135101318, 5.270923137664795, 5.272883892059326, 5.218605041503906, 5.325164794921875, 5.220015525817871, 5.25007438659668, 5.228995323181152, 5.222075462341309, 5.201001167297363, 5.936033725738525, 5.177071571350098, 5.219598770141602, 5.20013427734375, 5.2096405029296875, 5.184871673583984, 5.203546047210693, 5.192833423614502, 5.163064002990723, 5.365893840789795, 5.202376842498779, 5.319567680358887, 5.274674892425537, 5.146553993225098, 5.227417945861816, 5.178448677062988, 5.269516468048096, 5.14478063583374, 5.192399978637695, 5.1520562171936035, 5.492075443267822]\n"
     ]
    },
    {
     "name": "stderr",
     "output_type": "stream",
     "text": [
      "0.160917: 100%|██████████| 3200/3200 [02:22<00:00, 22.45it/s]\n"
     ]
    },
    {
     "name": "stdout",
     "output_type": "stream",
     "text": [
      "4276/4276 [==============================] - 69s 16ms/step - loss: 5.1758\n",
      "Epoch 119 loss 5.1477901546284555 val loss 5.175837993621826\n",
      "[8.99688381895423, 7.447008701860905, 6.819614188373089, 6.756220295354724, 6.3309409860521555, 6.210726347230374, 6.219333339333534, 6.225389459840954, 5.978656517714262, 5.980397833921015, 5.72186337761581, 5.895540365539492, 5.849212531298399, 5.690261988639832, 5.624563320577145, 5.679155041836202, 5.586134704425931, 5.654708657674491, 5.715709848292172, 5.5188806889951225, 5.497861228436232, 5.571464146263898, 5.4665602750703695, 5.551240729577839, 5.368751032687723, 5.420417926572263, 5.53939581360668, 5.477566199973226, 5.522608667239547, 5.405717139951885, 5.456880302615463, 5.49130221568048, 5.47696663826704, 5.463503729626536, 5.355901707224548, 5.425206321999431, 5.4836160293594, 5.3817997147515415, 5.310110193789005, 5.2941837514936925, 5.384898569844663, 5.439891175143421, 5.379424596503377, 5.37850166361779, 5.273312831632793, 5.394021689407527, 5.30100776463747, 5.299571858793497, 5.346060801483691, 5.293473369292915, 5.3672544518485665, 5.2196143627166744, 5.376763070374727, 5.3546421390399335, 5.37157914634794, 5.220500768907368, 5.325444615446031, 5.172556496858597, 5.316729328632355, 5.310623440630734, 5.4102950366958975, 5.099037979356945, 5.2540016291290526, 5.15561858586967, 5.102626170776785, 5.306386022381485, 5.181827557757497, 5.064150472395122, 5.218263981938362, 5.1934698026254775, 5.220842763632536, 5.094147684536875, 5.186950975954533, 5.277704075276851, 5.153262359276414, 5.158523515351117, 5.250758710019291, 5.281736856661737, 5.1620757971704005, 5.121279909200966, 5.060195054039359, 5.126660135835409, 5.285472669005394, 5.176167735867202, 5.257092254795134, 5.267357801534235, 5.129995215758681, 5.379664176553487, 5.165719314590096, 5.270458497293293, 5.1758036893606185, 5.194981796778738, 5.056013089567423, 5.276657947041095, 5.204209983497858, 5.1928393818810585, 5.097861971333623, 5.087461701929569, 5.1498808505386116, 5.31779087215662, 5.261757250577212, 5.17551725525409, 5.204847362115979, 5.006366120018065, 5.124508085623384, 5.136281363926828, 5.138223801106214, 5.196939300298691, 5.213922142721713, 5.137269135005772, 5.17060519888997, 5.230781662985683, 5.043082595728338, 5.133747048340738, 5.030794223733246, 5.0123373138159515, 5.140952672287821, 5.1535502003133296, 5.019577622935176, 5.1477901546284555]\n",
      "[7.717712879180908, 6.955950736999512, 6.704439640045166, 6.528388023376465, 6.3274617195129395, 6.1996750831604, 6.113377094268799, 6.011967658996582, 5.910389423370361, 5.87477970123291, 5.860624313354492, 5.7814507484436035, 5.771292686462402, 5.716648101806641, 5.757233619689941, 5.679626941680908, 5.713437080383301, 5.611827850341797, 5.663970947265625, 5.621941566467285, 5.755812644958496, 5.623030662536621, 5.574612617492676, 5.539113998413086, 5.730890274047852, 5.500331401824951, 5.504433631896973, 5.448913097381592, 5.507577896118164, 5.510786056518555, 5.459959983825684, 5.4007673263549805, 5.396493434906006, 5.44691276550293, 5.382143497467041, 5.412578582763672, 5.4137701988220215, 5.555471897125244, 5.43337869644165, 5.491706371307373, 5.595604419708252, 5.40668249130249, 5.5386128425598145, 5.346236705780029, 5.419410228729248, 5.356541156768799, 5.332381248474121, 5.363884449005127, 5.393413543701172, 5.354836940765381, 5.307928085327148, 5.325294494628906, 5.297708034515381, 5.33036994934082, 5.321070194244385, 5.3252997398376465, 5.322055816650391, 5.327525615692139, 5.321632385253906, 5.270559787750244, 5.568323612213135, 5.401540279388428, 5.27060604095459, 5.273929595947266, 5.256091117858887, 5.263978481292725, 5.2708282470703125, 5.270179748535156, 5.307251453399658, 5.20893669128418, 5.262117862701416, 5.2497735023498535, 5.262760639190674, 5.3784050941467285, 5.251499176025391, 5.226221561431885, 5.271778583526611, 5.216109752655029, 5.269227504730225, 5.23778772354126, 5.283673286437988, 5.283777236938477, 5.235329627990723, 5.291813850402832, 5.246300220489502, 5.190190315246582, 5.220808982849121, 5.2335100173950195, 5.274011135101318, 5.270923137664795, 5.272883892059326, 5.218605041503906, 5.325164794921875, 5.220015525817871, 5.25007438659668, 5.228995323181152, 5.222075462341309, 5.201001167297363, 5.936033725738525, 5.177071571350098, 5.219598770141602, 5.20013427734375, 5.2096405029296875, 5.184871673583984, 5.203546047210693, 5.192833423614502, 5.163064002990723, 5.365893840789795, 5.202376842498779, 5.319567680358887, 5.274674892425537, 5.146553993225098, 5.227417945861816, 5.178448677062988, 5.269516468048096, 5.14478063583374, 5.192399978637695, 5.1520562171936035, 5.492075443267822, 5.175837993621826]\n"
     ]
    },
    {
     "name": "stderr",
     "output_type": "stream",
     "text": [
      "0.157234: 100%|██████████| 3200/3200 [02:22<00:00, 22.45it/s]\n"
     ]
    },
    {
     "name": "stdout",
     "output_type": "stream",
     "text": [
      "4276/4276 [==============================] - 69s 16ms/step - loss: 5.2081\n",
      "Epoch 120 loss 5.029976266548037 val loss 5.20806360244751\n",
      "[8.99688381895423, 7.447008701860905, 6.819614188373089, 6.756220295354724, 6.3309409860521555, 6.210726347230374, 6.219333339333534, 6.225389459840954, 5.978656517714262, 5.980397833921015, 5.72186337761581, 5.895540365539492, 5.849212531298399, 5.690261988639832, 5.624563320577145, 5.679155041836202, 5.586134704425931, 5.654708657674491, 5.715709848292172, 5.5188806889951225, 5.497861228436232, 5.571464146263898, 5.4665602750703695, 5.551240729577839, 5.368751032687723, 5.420417926572263, 5.53939581360668, 5.477566199973226, 5.522608667239547, 5.405717139951885, 5.456880302615463, 5.49130221568048, 5.47696663826704, 5.463503729626536, 5.355901707224548, 5.425206321999431, 5.4836160293594, 5.3817997147515415, 5.310110193789005, 5.2941837514936925, 5.384898569844663, 5.439891175143421, 5.379424596503377, 5.37850166361779, 5.273312831632793, 5.394021689407527, 5.30100776463747, 5.299571858793497, 5.346060801483691, 5.293473369292915, 5.3672544518485665, 5.2196143627166744, 5.376763070374727, 5.3546421390399335, 5.37157914634794, 5.220500768907368, 5.325444615446031, 5.172556496858597, 5.316729328632355, 5.310623440630734, 5.4102950366958975, 5.099037979356945, 5.2540016291290526, 5.15561858586967, 5.102626170776785, 5.306386022381485, 5.181827557757497, 5.064150472395122, 5.218263981938362, 5.1934698026254775, 5.220842763632536, 5.094147684536875, 5.186950975954533, 5.277704075276851, 5.153262359276414, 5.158523515351117, 5.250758710019291, 5.281736856661737, 5.1620757971704005, 5.121279909200966, 5.060195054039359, 5.126660135835409, 5.285472669005394, 5.176167735867202, 5.257092254795134, 5.267357801534235, 5.129995215758681, 5.379664176553487, 5.165719314590096, 5.270458497293293, 5.1758036893606185, 5.194981796778738, 5.056013089567423, 5.276657947041095, 5.204209983497858, 5.1928393818810585, 5.097861971333623, 5.087461701929569, 5.1498808505386116, 5.31779087215662, 5.261757250577212, 5.17551725525409, 5.204847362115979, 5.006366120018065, 5.124508085623384, 5.136281363926828, 5.138223801106214, 5.196939300298691, 5.213922142721713, 5.137269135005772, 5.17060519888997, 5.230781662985683, 5.043082595728338, 5.133747048340738, 5.030794223733246, 5.0123373138159515, 5.140952672287821, 5.1535502003133296, 5.019577622935176, 5.1477901546284555, 5.029976266548037]\n",
      "[7.717712879180908, 6.955950736999512, 6.704439640045166, 6.528388023376465, 6.3274617195129395, 6.1996750831604, 6.113377094268799, 6.011967658996582, 5.910389423370361, 5.87477970123291, 5.860624313354492, 5.7814507484436035, 5.771292686462402, 5.716648101806641, 5.757233619689941, 5.679626941680908, 5.713437080383301, 5.611827850341797, 5.663970947265625, 5.621941566467285, 5.755812644958496, 5.623030662536621, 5.574612617492676, 5.539113998413086, 5.730890274047852, 5.500331401824951, 5.504433631896973, 5.448913097381592, 5.507577896118164, 5.510786056518555, 5.459959983825684, 5.4007673263549805, 5.396493434906006, 5.44691276550293, 5.382143497467041, 5.412578582763672, 5.4137701988220215, 5.555471897125244, 5.43337869644165, 5.491706371307373, 5.595604419708252, 5.40668249130249, 5.5386128425598145, 5.346236705780029, 5.419410228729248, 5.356541156768799, 5.332381248474121, 5.363884449005127, 5.393413543701172, 5.354836940765381, 5.307928085327148, 5.325294494628906, 5.297708034515381, 5.33036994934082, 5.321070194244385, 5.3252997398376465, 5.322055816650391, 5.327525615692139, 5.321632385253906, 5.270559787750244, 5.568323612213135, 5.401540279388428, 5.27060604095459, 5.273929595947266, 5.256091117858887, 5.263978481292725, 5.2708282470703125, 5.270179748535156, 5.307251453399658, 5.20893669128418, 5.262117862701416, 5.2497735023498535, 5.262760639190674, 5.3784050941467285, 5.251499176025391, 5.226221561431885, 5.271778583526611, 5.216109752655029, 5.269227504730225, 5.23778772354126, 5.283673286437988, 5.283777236938477, 5.235329627990723, 5.291813850402832, 5.246300220489502, 5.190190315246582, 5.220808982849121, 5.2335100173950195, 5.274011135101318, 5.270923137664795, 5.272883892059326, 5.218605041503906, 5.325164794921875, 5.220015525817871, 5.25007438659668, 5.228995323181152, 5.222075462341309, 5.201001167297363, 5.936033725738525, 5.177071571350098, 5.219598770141602, 5.20013427734375, 5.2096405029296875, 5.184871673583984, 5.203546047210693, 5.192833423614502, 5.163064002990723, 5.365893840789795, 5.202376842498779, 5.319567680358887, 5.274674892425537, 5.146553993225098, 5.227417945861816, 5.178448677062988, 5.269516468048096, 5.14478063583374, 5.192399978637695, 5.1520562171936035, 5.492075443267822, 5.175837993621826, 5.20806360244751]\n"
     ]
    },
    {
     "name": "stderr",
     "output_type": "stream",
     "text": [
      "0.159787: 100%|██████████| 3200/3200 [02:22<00:00, 22.45it/s]\n"
     ]
    },
    {
     "name": "stdout",
     "output_type": "stream",
     "text": [
      "4276/4276 [==============================] - 69s 16ms/step - loss: 5.1561\n",
      "Epoch 121 loss 5.111636361554265 val loss 5.156072616577148\n",
      "[8.99688381895423, 7.447008701860905, 6.819614188373089, 6.756220295354724, 6.3309409860521555, 6.210726347230374, 6.219333339333534, 6.225389459840954, 5.978656517714262, 5.980397833921015, 5.72186337761581, 5.895540365539492, 5.849212531298399, 5.690261988639832, 5.624563320577145, 5.679155041836202, 5.586134704425931, 5.654708657674491, 5.715709848292172, 5.5188806889951225, 5.497861228436232, 5.571464146263898, 5.4665602750703695, 5.551240729577839, 5.368751032687723, 5.420417926572263, 5.53939581360668, 5.477566199973226, 5.522608667239547, 5.405717139951885, 5.456880302615463, 5.49130221568048, 5.47696663826704, 5.463503729626536, 5.355901707224548, 5.425206321999431, 5.4836160293594, 5.3817997147515415, 5.310110193789005, 5.2941837514936925, 5.384898569844663, 5.439891175143421, 5.379424596503377, 5.37850166361779, 5.273312831632793, 5.394021689407527, 5.30100776463747, 5.299571858793497, 5.346060801483691, 5.293473369292915, 5.3672544518485665, 5.2196143627166744, 5.376763070374727, 5.3546421390399335, 5.37157914634794, 5.220500768907368, 5.325444615446031, 5.172556496858597, 5.316729328632355, 5.310623440630734, 5.4102950366958975, 5.099037979356945, 5.2540016291290526, 5.15561858586967, 5.102626170776785, 5.306386022381485, 5.181827557757497, 5.064150472395122, 5.218263981938362, 5.1934698026254775, 5.220842763632536, 5.094147684536875, 5.186950975954533, 5.277704075276851, 5.153262359276414, 5.158523515351117, 5.250758710019291, 5.281736856661737, 5.1620757971704005, 5.121279909200966, 5.060195054039359, 5.126660135835409, 5.285472669005394, 5.176167735867202, 5.257092254795134, 5.267357801534235, 5.129995215758681, 5.379664176553487, 5.165719314590096, 5.270458497293293, 5.1758036893606185, 5.194981796778738, 5.056013089567423, 5.276657947041095, 5.204209983497858, 5.1928393818810585, 5.097861971333623, 5.087461701929569, 5.1498808505386116, 5.31779087215662, 5.261757250577212, 5.17551725525409, 5.204847362115979, 5.006366120018065, 5.124508085623384, 5.136281363926828, 5.138223801106214, 5.196939300298691, 5.213922142721713, 5.137269135005772, 5.17060519888997, 5.230781662985683, 5.043082595728338, 5.133747048340738, 5.030794223733246, 5.0123373138159515, 5.140952672287821, 5.1535502003133296, 5.019577622935176, 5.1477901546284555, 5.029976266548037, 5.111636361554265]\n",
      "[7.717712879180908, 6.955950736999512, 6.704439640045166, 6.528388023376465, 6.3274617195129395, 6.1996750831604, 6.113377094268799, 6.011967658996582, 5.910389423370361, 5.87477970123291, 5.860624313354492, 5.7814507484436035, 5.771292686462402, 5.716648101806641, 5.757233619689941, 5.679626941680908, 5.713437080383301, 5.611827850341797, 5.663970947265625, 5.621941566467285, 5.755812644958496, 5.623030662536621, 5.574612617492676, 5.539113998413086, 5.730890274047852, 5.500331401824951, 5.504433631896973, 5.448913097381592, 5.507577896118164, 5.510786056518555, 5.459959983825684, 5.4007673263549805, 5.396493434906006, 5.44691276550293, 5.382143497467041, 5.412578582763672, 5.4137701988220215, 5.555471897125244, 5.43337869644165, 5.491706371307373, 5.595604419708252, 5.40668249130249, 5.5386128425598145, 5.346236705780029, 5.419410228729248, 5.356541156768799, 5.332381248474121, 5.363884449005127, 5.393413543701172, 5.354836940765381, 5.307928085327148, 5.325294494628906, 5.297708034515381, 5.33036994934082, 5.321070194244385, 5.3252997398376465, 5.322055816650391, 5.327525615692139, 5.321632385253906, 5.270559787750244, 5.568323612213135, 5.401540279388428, 5.27060604095459, 5.273929595947266, 5.256091117858887, 5.263978481292725, 5.2708282470703125, 5.270179748535156, 5.307251453399658, 5.20893669128418, 5.262117862701416, 5.2497735023498535, 5.262760639190674, 5.3784050941467285, 5.251499176025391, 5.226221561431885, 5.271778583526611, 5.216109752655029, 5.269227504730225, 5.23778772354126, 5.283673286437988, 5.283777236938477, 5.235329627990723, 5.291813850402832, 5.246300220489502, 5.190190315246582, 5.220808982849121, 5.2335100173950195, 5.274011135101318, 5.270923137664795, 5.272883892059326, 5.218605041503906, 5.325164794921875, 5.220015525817871, 5.25007438659668, 5.228995323181152, 5.222075462341309, 5.201001167297363, 5.936033725738525, 5.177071571350098, 5.219598770141602, 5.20013427734375, 5.2096405029296875, 5.184871673583984, 5.203546047210693, 5.192833423614502, 5.163064002990723, 5.365893840789795, 5.202376842498779, 5.319567680358887, 5.274674892425537, 5.146553993225098, 5.227417945861816, 5.178448677062988, 5.269516468048096, 5.14478063583374, 5.192399978637695, 5.1520562171936035, 5.492075443267822, 5.175837993621826, 5.20806360244751, 5.156072616577148]\n"
     ]
    },
    {
     "name": "stderr",
     "output_type": "stream",
     "text": [
      "0.161216: 100%|██████████| 3200/3200 [02:23<00:00, 22.34it/s]\n"
     ]
    },
    {
     "name": "stdout",
     "output_type": "stream",
     "text": [
      "4276/4276 [==============================] - 69s 16ms/step - loss: 5.2222\n",
      "Epoch 122 loss 5.1573417661339045 val loss 5.222244739532471\n",
      "[8.99688381895423, 7.447008701860905, 6.819614188373089, 6.756220295354724, 6.3309409860521555, 6.210726347230374, 6.219333339333534, 6.225389459840954, 5.978656517714262, 5.980397833921015, 5.72186337761581, 5.895540365539492, 5.849212531298399, 5.690261988639832, 5.624563320577145, 5.679155041836202, 5.586134704425931, 5.654708657674491, 5.715709848292172, 5.5188806889951225, 5.497861228436232, 5.571464146263898, 5.4665602750703695, 5.551240729577839, 5.368751032687723, 5.420417926572263, 5.53939581360668, 5.477566199973226, 5.522608667239547, 5.405717139951885, 5.456880302615463, 5.49130221568048, 5.47696663826704, 5.463503729626536, 5.355901707224548, 5.425206321999431, 5.4836160293594, 5.3817997147515415, 5.310110193789005, 5.2941837514936925, 5.384898569844663, 5.439891175143421, 5.379424596503377, 5.37850166361779, 5.273312831632793, 5.394021689407527, 5.30100776463747, 5.299571858793497, 5.346060801483691, 5.293473369292915, 5.3672544518485665, 5.2196143627166744, 5.376763070374727, 5.3546421390399335, 5.37157914634794, 5.220500768907368, 5.325444615446031, 5.172556496858597, 5.316729328632355, 5.310623440630734, 5.4102950366958975, 5.099037979356945, 5.2540016291290526, 5.15561858586967, 5.102626170776785, 5.306386022381485, 5.181827557757497, 5.064150472395122, 5.218263981938362, 5.1934698026254775, 5.220842763632536, 5.094147684536875, 5.186950975954533, 5.277704075276851, 5.153262359276414, 5.158523515351117, 5.250758710019291, 5.281736856661737, 5.1620757971704005, 5.121279909200966, 5.060195054039359, 5.126660135835409, 5.285472669005394, 5.176167735867202, 5.257092254795134, 5.267357801534235, 5.129995215758681, 5.379664176553487, 5.165719314590096, 5.270458497293293, 5.1758036893606185, 5.194981796778738, 5.056013089567423, 5.276657947041095, 5.204209983497858, 5.1928393818810585, 5.097861971333623, 5.087461701929569, 5.1498808505386116, 5.31779087215662, 5.261757250577212, 5.17551725525409, 5.204847362115979, 5.006366120018065, 5.124508085623384, 5.136281363926828, 5.138223801106214, 5.196939300298691, 5.213922142721713, 5.137269135005772, 5.17060519888997, 5.230781662985683, 5.043082595728338, 5.133747048340738, 5.030794223733246, 5.0123373138159515, 5.140952672287821, 5.1535502003133296, 5.019577622935176, 5.1477901546284555, 5.029976266548037, 5.111636361554265, 5.1573417661339045]\n",
      "[7.717712879180908, 6.955950736999512, 6.704439640045166, 6.528388023376465, 6.3274617195129395, 6.1996750831604, 6.113377094268799, 6.011967658996582, 5.910389423370361, 5.87477970123291, 5.860624313354492, 5.7814507484436035, 5.771292686462402, 5.716648101806641, 5.757233619689941, 5.679626941680908, 5.713437080383301, 5.611827850341797, 5.663970947265625, 5.621941566467285, 5.755812644958496, 5.623030662536621, 5.574612617492676, 5.539113998413086, 5.730890274047852, 5.500331401824951, 5.504433631896973, 5.448913097381592, 5.507577896118164, 5.510786056518555, 5.459959983825684, 5.4007673263549805, 5.396493434906006, 5.44691276550293, 5.382143497467041, 5.412578582763672, 5.4137701988220215, 5.555471897125244, 5.43337869644165, 5.491706371307373, 5.595604419708252, 5.40668249130249, 5.5386128425598145, 5.346236705780029, 5.419410228729248, 5.356541156768799, 5.332381248474121, 5.363884449005127, 5.393413543701172, 5.354836940765381, 5.307928085327148, 5.325294494628906, 5.297708034515381, 5.33036994934082, 5.321070194244385, 5.3252997398376465, 5.322055816650391, 5.327525615692139, 5.321632385253906, 5.270559787750244, 5.568323612213135, 5.401540279388428, 5.27060604095459, 5.273929595947266, 5.256091117858887, 5.263978481292725, 5.2708282470703125, 5.270179748535156, 5.307251453399658, 5.20893669128418, 5.262117862701416, 5.2497735023498535, 5.262760639190674, 5.3784050941467285, 5.251499176025391, 5.226221561431885, 5.271778583526611, 5.216109752655029, 5.269227504730225, 5.23778772354126, 5.283673286437988, 5.283777236938477, 5.235329627990723, 5.291813850402832, 5.246300220489502, 5.190190315246582, 5.220808982849121, 5.2335100173950195, 5.274011135101318, 5.270923137664795, 5.272883892059326, 5.218605041503906, 5.325164794921875, 5.220015525817871, 5.25007438659668, 5.228995323181152, 5.222075462341309, 5.201001167297363, 5.936033725738525, 5.177071571350098, 5.219598770141602, 5.20013427734375, 5.2096405029296875, 5.184871673583984, 5.203546047210693, 5.192833423614502, 5.163064002990723, 5.365893840789795, 5.202376842498779, 5.319567680358887, 5.274674892425537, 5.146553993225098, 5.227417945861816, 5.178448677062988, 5.269516468048096, 5.14478063583374, 5.192399978637695, 5.1520562171936035, 5.492075443267822, 5.175837993621826, 5.20806360244751, 5.156072616577148, 5.222244739532471]\n"
     ]
    },
    {
     "name": "stderr",
     "output_type": "stream",
     "text": [
      "0.157026: 100%|██████████| 3200/3200 [02:22<00:00, 22.42it/s]\n"
     ]
    },
    {
     "name": "stdout",
     "output_type": "stream",
     "text": [
      "4276/4276 [==============================] - 69s 16ms/step - loss: 5.1889\n",
      "Epoch 123 loss 5.023297566361725 val loss 5.188858985900879\n",
      "[8.99688381895423, 7.447008701860905, 6.819614188373089, 6.756220295354724, 6.3309409860521555, 6.210726347230374, 6.219333339333534, 6.225389459840954, 5.978656517714262, 5.980397833921015, 5.72186337761581, 5.895540365539492, 5.849212531298399, 5.690261988639832, 5.624563320577145, 5.679155041836202, 5.586134704425931, 5.654708657674491, 5.715709848292172, 5.5188806889951225, 5.497861228436232, 5.571464146263898, 5.4665602750703695, 5.551240729577839, 5.368751032687723, 5.420417926572263, 5.53939581360668, 5.477566199973226, 5.522608667239547, 5.405717139951885, 5.456880302615463, 5.49130221568048, 5.47696663826704, 5.463503729626536, 5.355901707224548, 5.425206321999431, 5.4836160293594, 5.3817997147515415, 5.310110193789005, 5.2941837514936925, 5.384898569844663, 5.439891175143421, 5.379424596503377, 5.37850166361779, 5.273312831632793, 5.394021689407527, 5.30100776463747, 5.299571858793497, 5.346060801483691, 5.293473369292915, 5.3672544518485665, 5.2196143627166744, 5.376763070374727, 5.3546421390399335, 5.37157914634794, 5.220500768907368, 5.325444615446031, 5.172556496858597, 5.316729328632355, 5.310623440630734, 5.4102950366958975, 5.099037979356945, 5.2540016291290526, 5.15561858586967, 5.102626170776785, 5.306386022381485, 5.181827557757497, 5.064150472395122, 5.218263981938362, 5.1934698026254775, 5.220842763632536, 5.094147684536875, 5.186950975954533, 5.277704075276851, 5.153262359276414, 5.158523515351117, 5.250758710019291, 5.281736856661737, 5.1620757971704005, 5.121279909200966, 5.060195054039359, 5.126660135835409, 5.285472669005394, 5.176167735867202, 5.257092254795134, 5.267357801534235, 5.129995215758681, 5.379664176553487, 5.165719314590096, 5.270458497293293, 5.1758036893606185, 5.194981796778738, 5.056013089567423, 5.276657947041095, 5.204209983497858, 5.1928393818810585, 5.097861971333623, 5.087461701929569, 5.1498808505386116, 5.31779087215662, 5.261757250577212, 5.17551725525409, 5.204847362115979, 5.006366120018065, 5.124508085623384, 5.136281363926828, 5.138223801106214, 5.196939300298691, 5.213922142721713, 5.137269135005772, 5.17060519888997, 5.230781662985683, 5.043082595728338, 5.133747048340738, 5.030794223733246, 5.0123373138159515, 5.140952672287821, 5.1535502003133296, 5.019577622935176, 5.1477901546284555, 5.029976266548037, 5.111636361554265, 5.1573417661339045, 5.023297566361725]\n",
      "[7.717712879180908, 6.955950736999512, 6.704439640045166, 6.528388023376465, 6.3274617195129395, 6.1996750831604, 6.113377094268799, 6.011967658996582, 5.910389423370361, 5.87477970123291, 5.860624313354492, 5.7814507484436035, 5.771292686462402, 5.716648101806641, 5.757233619689941, 5.679626941680908, 5.713437080383301, 5.611827850341797, 5.663970947265625, 5.621941566467285, 5.755812644958496, 5.623030662536621, 5.574612617492676, 5.539113998413086, 5.730890274047852, 5.500331401824951, 5.504433631896973, 5.448913097381592, 5.507577896118164, 5.510786056518555, 5.459959983825684, 5.4007673263549805, 5.396493434906006, 5.44691276550293, 5.382143497467041, 5.412578582763672, 5.4137701988220215, 5.555471897125244, 5.43337869644165, 5.491706371307373, 5.595604419708252, 5.40668249130249, 5.5386128425598145, 5.346236705780029, 5.419410228729248, 5.356541156768799, 5.332381248474121, 5.363884449005127, 5.393413543701172, 5.354836940765381, 5.307928085327148, 5.325294494628906, 5.297708034515381, 5.33036994934082, 5.321070194244385, 5.3252997398376465, 5.322055816650391, 5.327525615692139, 5.321632385253906, 5.270559787750244, 5.568323612213135, 5.401540279388428, 5.27060604095459, 5.273929595947266, 5.256091117858887, 5.263978481292725, 5.2708282470703125, 5.270179748535156, 5.307251453399658, 5.20893669128418, 5.262117862701416, 5.2497735023498535, 5.262760639190674, 5.3784050941467285, 5.251499176025391, 5.226221561431885, 5.271778583526611, 5.216109752655029, 5.269227504730225, 5.23778772354126, 5.283673286437988, 5.283777236938477, 5.235329627990723, 5.291813850402832, 5.246300220489502, 5.190190315246582, 5.220808982849121, 5.2335100173950195, 5.274011135101318, 5.270923137664795, 5.272883892059326, 5.218605041503906, 5.325164794921875, 5.220015525817871, 5.25007438659668, 5.228995323181152, 5.222075462341309, 5.201001167297363, 5.936033725738525, 5.177071571350098, 5.219598770141602, 5.20013427734375, 5.2096405029296875, 5.184871673583984, 5.203546047210693, 5.192833423614502, 5.163064002990723, 5.365893840789795, 5.202376842498779, 5.319567680358887, 5.274674892425537, 5.146553993225098, 5.227417945861816, 5.178448677062988, 5.269516468048096, 5.14478063583374, 5.192399978637695, 5.1520562171936035, 5.492075443267822, 5.175837993621826, 5.20806360244751, 5.156072616577148, 5.222244739532471, 5.188858985900879]\n"
     ]
    },
    {
     "name": "stderr",
     "output_type": "stream",
     "text": [
      "0.154556: 100%|██████████| 3200/3200 [02:22<00:00, 22.45it/s]\n"
     ]
    },
    {
     "name": "stdout",
     "output_type": "stream",
     "text": [
      "4276/4276 [==============================] - 72s 17ms/step - loss: 5.1889\n",
      "Epoch 124 loss 4.9443010994791985 val loss 5.18893575668335\n",
      "[8.99688381895423, 7.447008701860905, 6.819614188373089, 6.756220295354724, 6.3309409860521555, 6.210726347230374, 6.219333339333534, 6.225389459840954, 5.978656517714262, 5.980397833921015, 5.72186337761581, 5.895540365539492, 5.849212531298399, 5.690261988639832, 5.624563320577145, 5.679155041836202, 5.586134704425931, 5.654708657674491, 5.715709848292172, 5.5188806889951225, 5.497861228436232, 5.571464146263898, 5.4665602750703695, 5.551240729577839, 5.368751032687723, 5.420417926572263, 5.53939581360668, 5.477566199973226, 5.522608667239547, 5.405717139951885, 5.456880302615463, 5.49130221568048, 5.47696663826704, 5.463503729626536, 5.355901707224548, 5.425206321999431, 5.4836160293594, 5.3817997147515415, 5.310110193789005, 5.2941837514936925, 5.384898569844663, 5.439891175143421, 5.379424596503377, 5.37850166361779, 5.273312831632793, 5.394021689407527, 5.30100776463747, 5.299571858793497, 5.346060801483691, 5.293473369292915, 5.3672544518485665, 5.2196143627166744, 5.376763070374727, 5.3546421390399335, 5.37157914634794, 5.220500768907368, 5.325444615446031, 5.172556496858597, 5.316729328632355, 5.310623440630734, 5.4102950366958975, 5.099037979356945, 5.2540016291290526, 5.15561858586967, 5.102626170776785, 5.306386022381485, 5.181827557757497, 5.064150472395122, 5.218263981938362, 5.1934698026254775, 5.220842763632536, 5.094147684536875, 5.186950975954533, 5.277704075276851, 5.153262359276414, 5.158523515351117, 5.250758710019291, 5.281736856661737, 5.1620757971704005, 5.121279909200966, 5.060195054039359, 5.126660135835409, 5.285472669005394, 5.176167735867202, 5.257092254795134, 5.267357801534235, 5.129995215758681, 5.379664176553487, 5.165719314590096, 5.270458497293293, 5.1758036893606185, 5.194981796778738, 5.056013089567423, 5.276657947041095, 5.204209983497858, 5.1928393818810585, 5.097861971333623, 5.087461701929569, 5.1498808505386116, 5.31779087215662, 5.261757250577212, 5.17551725525409, 5.204847362115979, 5.006366120018065, 5.124508085623384, 5.136281363926828, 5.138223801106214, 5.196939300298691, 5.213922142721713, 5.137269135005772, 5.17060519888997, 5.230781662985683, 5.043082595728338, 5.133747048340738, 5.030794223733246, 5.0123373138159515, 5.140952672287821, 5.1535502003133296, 5.019577622935176, 5.1477901546284555, 5.029976266548037, 5.111636361554265, 5.1573417661339045, 5.023297566361725, 4.9443010994791985]\n",
      "[7.717712879180908, 6.955950736999512, 6.704439640045166, 6.528388023376465, 6.3274617195129395, 6.1996750831604, 6.113377094268799, 6.011967658996582, 5.910389423370361, 5.87477970123291, 5.860624313354492, 5.7814507484436035, 5.771292686462402, 5.716648101806641, 5.757233619689941, 5.679626941680908, 5.713437080383301, 5.611827850341797, 5.663970947265625, 5.621941566467285, 5.755812644958496, 5.623030662536621, 5.574612617492676, 5.539113998413086, 5.730890274047852, 5.500331401824951, 5.504433631896973, 5.448913097381592, 5.507577896118164, 5.510786056518555, 5.459959983825684, 5.4007673263549805, 5.396493434906006, 5.44691276550293, 5.382143497467041, 5.412578582763672, 5.4137701988220215, 5.555471897125244, 5.43337869644165, 5.491706371307373, 5.595604419708252, 5.40668249130249, 5.5386128425598145, 5.346236705780029, 5.419410228729248, 5.356541156768799, 5.332381248474121, 5.363884449005127, 5.393413543701172, 5.354836940765381, 5.307928085327148, 5.325294494628906, 5.297708034515381, 5.33036994934082, 5.321070194244385, 5.3252997398376465, 5.322055816650391, 5.327525615692139, 5.321632385253906, 5.270559787750244, 5.568323612213135, 5.401540279388428, 5.27060604095459, 5.273929595947266, 5.256091117858887, 5.263978481292725, 5.2708282470703125, 5.270179748535156, 5.307251453399658, 5.20893669128418, 5.262117862701416, 5.2497735023498535, 5.262760639190674, 5.3784050941467285, 5.251499176025391, 5.226221561431885, 5.271778583526611, 5.216109752655029, 5.269227504730225, 5.23778772354126, 5.283673286437988, 5.283777236938477, 5.235329627990723, 5.291813850402832, 5.246300220489502, 5.190190315246582, 5.220808982849121, 5.2335100173950195, 5.274011135101318, 5.270923137664795, 5.272883892059326, 5.218605041503906, 5.325164794921875, 5.220015525817871, 5.25007438659668, 5.228995323181152, 5.222075462341309, 5.201001167297363, 5.936033725738525, 5.177071571350098, 5.219598770141602, 5.20013427734375, 5.2096405029296875, 5.184871673583984, 5.203546047210693, 5.192833423614502, 5.163064002990723, 5.365893840789795, 5.202376842498779, 5.319567680358887, 5.274674892425537, 5.146553993225098, 5.227417945861816, 5.178448677062988, 5.269516468048096, 5.14478063583374, 5.192399978637695, 5.1520562171936035, 5.492075443267822, 5.175837993621826, 5.20806360244751, 5.156072616577148, 5.222244739532471, 5.188858985900879, 5.18893575668335]\n"
     ]
    },
    {
     "name": "stderr",
     "output_type": "stream",
     "text": [
      "0.160557: 100%|██████████| 3200/3200 [02:24<00:00, 22.22it/s]\n"
     ]
    },
    {
     "name": "stdout",
     "output_type": "stream",
     "text": [
      "4276/4276 [==============================] - 69s 16ms/step - loss: 5.1046\n",
      "Epoch 125 loss 5.136277704536915 val loss 5.104616641998291\n",
      "[8.99688381895423, 7.447008701860905, 6.819614188373089, 6.756220295354724, 6.3309409860521555, 6.210726347230374, 6.219333339333534, 6.225389459840954, 5.978656517714262, 5.980397833921015, 5.72186337761581, 5.895540365539492, 5.849212531298399, 5.690261988639832, 5.624563320577145, 5.679155041836202, 5.586134704425931, 5.654708657674491, 5.715709848292172, 5.5188806889951225, 5.497861228436232, 5.571464146263898, 5.4665602750703695, 5.551240729577839, 5.368751032687723, 5.420417926572263, 5.53939581360668, 5.477566199973226, 5.522608667239547, 5.405717139951885, 5.456880302615463, 5.49130221568048, 5.47696663826704, 5.463503729626536, 5.355901707224548, 5.425206321999431, 5.4836160293594, 5.3817997147515415, 5.310110193789005, 5.2941837514936925, 5.384898569844663, 5.439891175143421, 5.379424596503377, 5.37850166361779, 5.273312831632793, 5.394021689407527, 5.30100776463747, 5.299571858793497, 5.346060801483691, 5.293473369292915, 5.3672544518485665, 5.2196143627166744, 5.376763070374727, 5.3546421390399335, 5.37157914634794, 5.220500768907368, 5.325444615446031, 5.172556496858597, 5.316729328632355, 5.310623440630734, 5.4102950366958975, 5.099037979356945, 5.2540016291290526, 5.15561858586967, 5.102626170776785, 5.306386022381485, 5.181827557757497, 5.064150472395122, 5.218263981938362, 5.1934698026254775, 5.220842763632536, 5.094147684536875, 5.186950975954533, 5.277704075276851, 5.153262359276414, 5.158523515351117, 5.250758710019291, 5.281736856661737, 5.1620757971704005, 5.121279909200966, 5.060195054039359, 5.126660135835409, 5.285472669005394, 5.176167735867202, 5.257092254795134, 5.267357801534235, 5.129995215758681, 5.379664176553487, 5.165719314590096, 5.270458497293293, 5.1758036893606185, 5.194981796778738, 5.056013089567423, 5.276657947041095, 5.204209983497858, 5.1928393818810585, 5.097861971333623, 5.087461701929569, 5.1498808505386116, 5.31779087215662, 5.261757250577212, 5.17551725525409, 5.204847362115979, 5.006366120018065, 5.124508085623384, 5.136281363926828, 5.138223801106214, 5.196939300298691, 5.213922142721713, 5.137269135005772, 5.17060519888997, 5.230781662985683, 5.043082595728338, 5.133747048340738, 5.030794223733246, 5.0123373138159515, 5.140952672287821, 5.1535502003133296, 5.019577622935176, 5.1477901546284555, 5.029976266548037, 5.111636361554265, 5.1573417661339045, 5.023297566361725, 4.9443010994791985, 5.136277704536915]\n",
      "[7.717712879180908, 6.955950736999512, 6.704439640045166, 6.528388023376465, 6.3274617195129395, 6.1996750831604, 6.113377094268799, 6.011967658996582, 5.910389423370361, 5.87477970123291, 5.860624313354492, 5.7814507484436035, 5.771292686462402, 5.716648101806641, 5.757233619689941, 5.679626941680908, 5.713437080383301, 5.611827850341797, 5.663970947265625, 5.621941566467285, 5.755812644958496, 5.623030662536621, 5.574612617492676, 5.539113998413086, 5.730890274047852, 5.500331401824951, 5.504433631896973, 5.448913097381592, 5.507577896118164, 5.510786056518555, 5.459959983825684, 5.4007673263549805, 5.396493434906006, 5.44691276550293, 5.382143497467041, 5.412578582763672, 5.4137701988220215, 5.555471897125244, 5.43337869644165, 5.491706371307373, 5.595604419708252, 5.40668249130249, 5.5386128425598145, 5.346236705780029, 5.419410228729248, 5.356541156768799, 5.332381248474121, 5.363884449005127, 5.393413543701172, 5.354836940765381, 5.307928085327148, 5.325294494628906, 5.297708034515381, 5.33036994934082, 5.321070194244385, 5.3252997398376465, 5.322055816650391, 5.327525615692139, 5.321632385253906, 5.270559787750244, 5.568323612213135, 5.401540279388428, 5.27060604095459, 5.273929595947266, 5.256091117858887, 5.263978481292725, 5.2708282470703125, 5.270179748535156, 5.307251453399658, 5.20893669128418, 5.262117862701416, 5.2497735023498535, 5.262760639190674, 5.3784050941467285, 5.251499176025391, 5.226221561431885, 5.271778583526611, 5.216109752655029, 5.269227504730225, 5.23778772354126, 5.283673286437988, 5.283777236938477, 5.235329627990723, 5.291813850402832, 5.246300220489502, 5.190190315246582, 5.220808982849121, 5.2335100173950195, 5.274011135101318, 5.270923137664795, 5.272883892059326, 5.218605041503906, 5.325164794921875, 5.220015525817871, 5.25007438659668, 5.228995323181152, 5.222075462341309, 5.201001167297363, 5.936033725738525, 5.177071571350098, 5.219598770141602, 5.20013427734375, 5.2096405029296875, 5.184871673583984, 5.203546047210693, 5.192833423614502, 5.163064002990723, 5.365893840789795, 5.202376842498779, 5.319567680358887, 5.274674892425537, 5.146553993225098, 5.227417945861816, 5.178448677062988, 5.269516468048096, 5.14478063583374, 5.192399978637695, 5.1520562171936035, 5.492075443267822, 5.175837993621826, 5.20806360244751, 5.156072616577148, 5.222244739532471, 5.188858985900879, 5.18893575668335, 5.104616641998291]\n"
     ]
    },
    {
     "name": "stderr",
     "output_type": "stream",
     "text": [
      "0.162981: 100%|██████████| 3200/3200 [02:22<00:00, 22.46it/s]\n"
     ]
    },
    {
     "name": "stdout",
     "output_type": "stream",
     "text": [
      "4276/4276 [==============================] - 69s 16ms/step - loss: 5.1564\n",
      "Epoch 126 loss 5.213804485425353 val loss 5.156430244445801\n",
      "[8.99688381895423, 7.447008701860905, 6.819614188373089, 6.756220295354724, 6.3309409860521555, 6.210726347230374, 6.219333339333534, 6.225389459840954, 5.978656517714262, 5.980397833921015, 5.72186337761581, 5.895540365539492, 5.849212531298399, 5.690261988639832, 5.624563320577145, 5.679155041836202, 5.586134704425931, 5.654708657674491, 5.715709848292172, 5.5188806889951225, 5.497861228436232, 5.571464146263898, 5.4665602750703695, 5.551240729577839, 5.368751032687723, 5.420417926572263, 5.53939581360668, 5.477566199973226, 5.522608667239547, 5.405717139951885, 5.456880302615463, 5.49130221568048, 5.47696663826704, 5.463503729626536, 5.355901707224548, 5.425206321999431, 5.4836160293594, 5.3817997147515415, 5.310110193789005, 5.2941837514936925, 5.384898569844663, 5.439891175143421, 5.379424596503377, 5.37850166361779, 5.273312831632793, 5.394021689407527, 5.30100776463747, 5.299571858793497, 5.346060801483691, 5.293473369292915, 5.3672544518485665, 5.2196143627166744, 5.376763070374727, 5.3546421390399335, 5.37157914634794, 5.220500768907368, 5.325444615446031, 5.172556496858597, 5.316729328632355, 5.310623440630734, 5.4102950366958975, 5.099037979356945, 5.2540016291290526, 5.15561858586967, 5.102626170776785, 5.306386022381485, 5.181827557757497, 5.064150472395122, 5.218263981938362, 5.1934698026254775, 5.220842763632536, 5.094147684536875, 5.186950975954533, 5.277704075276851, 5.153262359276414, 5.158523515351117, 5.250758710019291, 5.281736856661737, 5.1620757971704005, 5.121279909200966, 5.060195054039359, 5.126660135835409, 5.285472669005394, 5.176167735867202, 5.257092254795134, 5.267357801534235, 5.129995215758681, 5.379664176553487, 5.165719314590096, 5.270458497293293, 5.1758036893606185, 5.194981796778738, 5.056013089567423, 5.276657947041095, 5.204209983497858, 5.1928393818810585, 5.097861971333623, 5.087461701929569, 5.1498808505386116, 5.31779087215662, 5.261757250577212, 5.17551725525409, 5.204847362115979, 5.006366120018065, 5.124508085623384, 5.136281363926828, 5.138223801106214, 5.196939300298691, 5.213922142721713, 5.137269135005772, 5.17060519888997, 5.230781662985683, 5.043082595728338, 5.133747048340738, 5.030794223733246, 5.0123373138159515, 5.140952672287821, 5.1535502003133296, 5.019577622935176, 5.1477901546284555, 5.029976266548037, 5.111636361554265, 5.1573417661339045, 5.023297566361725, 4.9443010994791985, 5.136277704536915, 5.213804485425353]\n",
      "[7.717712879180908, 6.955950736999512, 6.704439640045166, 6.528388023376465, 6.3274617195129395, 6.1996750831604, 6.113377094268799, 6.011967658996582, 5.910389423370361, 5.87477970123291, 5.860624313354492, 5.7814507484436035, 5.771292686462402, 5.716648101806641, 5.757233619689941, 5.679626941680908, 5.713437080383301, 5.611827850341797, 5.663970947265625, 5.621941566467285, 5.755812644958496, 5.623030662536621, 5.574612617492676, 5.539113998413086, 5.730890274047852, 5.500331401824951, 5.504433631896973, 5.448913097381592, 5.507577896118164, 5.510786056518555, 5.459959983825684, 5.4007673263549805, 5.396493434906006, 5.44691276550293, 5.382143497467041, 5.412578582763672, 5.4137701988220215, 5.555471897125244, 5.43337869644165, 5.491706371307373, 5.595604419708252, 5.40668249130249, 5.5386128425598145, 5.346236705780029, 5.419410228729248, 5.356541156768799, 5.332381248474121, 5.363884449005127, 5.393413543701172, 5.354836940765381, 5.307928085327148, 5.325294494628906, 5.297708034515381, 5.33036994934082, 5.321070194244385, 5.3252997398376465, 5.322055816650391, 5.327525615692139, 5.321632385253906, 5.270559787750244, 5.568323612213135, 5.401540279388428, 5.27060604095459, 5.273929595947266, 5.256091117858887, 5.263978481292725, 5.2708282470703125, 5.270179748535156, 5.307251453399658, 5.20893669128418, 5.262117862701416, 5.2497735023498535, 5.262760639190674, 5.3784050941467285, 5.251499176025391, 5.226221561431885, 5.271778583526611, 5.216109752655029, 5.269227504730225, 5.23778772354126, 5.283673286437988, 5.283777236938477, 5.235329627990723, 5.291813850402832, 5.246300220489502, 5.190190315246582, 5.220808982849121, 5.2335100173950195, 5.274011135101318, 5.270923137664795, 5.272883892059326, 5.218605041503906, 5.325164794921875, 5.220015525817871, 5.25007438659668, 5.228995323181152, 5.222075462341309, 5.201001167297363, 5.936033725738525, 5.177071571350098, 5.219598770141602, 5.20013427734375, 5.2096405029296875, 5.184871673583984, 5.203546047210693, 5.192833423614502, 5.163064002990723, 5.365893840789795, 5.202376842498779, 5.319567680358887, 5.274674892425537, 5.146553993225098, 5.227417945861816, 5.178448677062988, 5.269516468048096, 5.14478063583374, 5.192399978637695, 5.1520562171936035, 5.492075443267822, 5.175837993621826, 5.20806360244751, 5.156072616577148, 5.222244739532471, 5.188858985900879, 5.18893575668335, 5.104616641998291, 5.156430244445801]\n"
     ]
    },
    {
     "name": "stderr",
     "output_type": "stream",
     "text": [
      "0.162225: 100%|██████████| 3200/3200 [02:22<00:00, 22.43it/s]\n"
     ]
    },
    {
     "name": "stdout",
     "output_type": "stream",
     "text": [
      "4276/4276 [==============================] - 69s 16ms/step - loss: 5.1872\n",
      "Epoch 127 loss 5.189623730406165 val loss 5.187168598175049\n",
      "[8.99688381895423, 7.447008701860905, 6.819614188373089, 6.756220295354724, 6.3309409860521555, 6.210726347230374, 6.219333339333534, 6.225389459840954, 5.978656517714262, 5.980397833921015, 5.72186337761581, 5.895540365539492, 5.849212531298399, 5.690261988639832, 5.624563320577145, 5.679155041836202, 5.586134704425931, 5.654708657674491, 5.715709848292172, 5.5188806889951225, 5.497861228436232, 5.571464146263898, 5.4665602750703695, 5.551240729577839, 5.368751032687723, 5.420417926572263, 5.53939581360668, 5.477566199973226, 5.522608667239547, 5.405717139951885, 5.456880302615463, 5.49130221568048, 5.47696663826704, 5.463503729626536, 5.355901707224548, 5.425206321999431, 5.4836160293594, 5.3817997147515415, 5.310110193789005, 5.2941837514936925, 5.384898569844663, 5.439891175143421, 5.379424596503377, 5.37850166361779, 5.273312831632793, 5.394021689407527, 5.30100776463747, 5.299571858793497, 5.346060801483691, 5.293473369292915, 5.3672544518485665, 5.2196143627166744, 5.376763070374727, 5.3546421390399335, 5.37157914634794, 5.220500768907368, 5.325444615446031, 5.172556496858597, 5.316729328632355, 5.310623440630734, 5.4102950366958975, 5.099037979356945, 5.2540016291290526, 5.15561858586967, 5.102626170776785, 5.306386022381485, 5.181827557757497, 5.064150472395122, 5.218263981938362, 5.1934698026254775, 5.220842763632536, 5.094147684536875, 5.186950975954533, 5.277704075276851, 5.153262359276414, 5.158523515351117, 5.250758710019291, 5.281736856661737, 5.1620757971704005, 5.121279909200966, 5.060195054039359, 5.126660135835409, 5.285472669005394, 5.176167735867202, 5.257092254795134, 5.267357801534235, 5.129995215758681, 5.379664176553487, 5.165719314590096, 5.270458497293293, 5.1758036893606185, 5.194981796778738, 5.056013089567423, 5.276657947041095, 5.204209983497858, 5.1928393818810585, 5.097861971333623, 5.087461701929569, 5.1498808505386116, 5.31779087215662, 5.261757250577212, 5.17551725525409, 5.204847362115979, 5.006366120018065, 5.124508085623384, 5.136281363926828, 5.138223801106214, 5.196939300298691, 5.213922142721713, 5.137269135005772, 5.17060519888997, 5.230781662985683, 5.043082595728338, 5.133747048340738, 5.030794223733246, 5.0123373138159515, 5.140952672287821, 5.1535502003133296, 5.019577622935176, 5.1477901546284555, 5.029976266548037, 5.111636361554265, 5.1573417661339045, 5.023297566361725, 4.9443010994791985, 5.136277704536915, 5.213804485425353, 5.189623730406165]\n",
      "[7.717712879180908, 6.955950736999512, 6.704439640045166, 6.528388023376465, 6.3274617195129395, 6.1996750831604, 6.113377094268799, 6.011967658996582, 5.910389423370361, 5.87477970123291, 5.860624313354492, 5.7814507484436035, 5.771292686462402, 5.716648101806641, 5.757233619689941, 5.679626941680908, 5.713437080383301, 5.611827850341797, 5.663970947265625, 5.621941566467285, 5.755812644958496, 5.623030662536621, 5.574612617492676, 5.539113998413086, 5.730890274047852, 5.500331401824951, 5.504433631896973, 5.448913097381592, 5.507577896118164, 5.510786056518555, 5.459959983825684, 5.4007673263549805, 5.396493434906006, 5.44691276550293, 5.382143497467041, 5.412578582763672, 5.4137701988220215, 5.555471897125244, 5.43337869644165, 5.491706371307373, 5.595604419708252, 5.40668249130249, 5.5386128425598145, 5.346236705780029, 5.419410228729248, 5.356541156768799, 5.332381248474121, 5.363884449005127, 5.393413543701172, 5.354836940765381, 5.307928085327148, 5.325294494628906, 5.297708034515381, 5.33036994934082, 5.321070194244385, 5.3252997398376465, 5.322055816650391, 5.327525615692139, 5.321632385253906, 5.270559787750244, 5.568323612213135, 5.401540279388428, 5.27060604095459, 5.273929595947266, 5.256091117858887, 5.263978481292725, 5.2708282470703125, 5.270179748535156, 5.307251453399658, 5.20893669128418, 5.262117862701416, 5.2497735023498535, 5.262760639190674, 5.3784050941467285, 5.251499176025391, 5.226221561431885, 5.271778583526611, 5.216109752655029, 5.269227504730225, 5.23778772354126, 5.283673286437988, 5.283777236938477, 5.235329627990723, 5.291813850402832, 5.246300220489502, 5.190190315246582, 5.220808982849121, 5.2335100173950195, 5.274011135101318, 5.270923137664795, 5.272883892059326, 5.218605041503906, 5.325164794921875, 5.220015525817871, 5.25007438659668, 5.228995323181152, 5.222075462341309, 5.201001167297363, 5.936033725738525, 5.177071571350098, 5.219598770141602, 5.20013427734375, 5.2096405029296875, 5.184871673583984, 5.203546047210693, 5.192833423614502, 5.163064002990723, 5.365893840789795, 5.202376842498779, 5.319567680358887, 5.274674892425537, 5.146553993225098, 5.227417945861816, 5.178448677062988, 5.269516468048096, 5.14478063583374, 5.192399978637695, 5.1520562171936035, 5.492075443267822, 5.175837993621826, 5.20806360244751, 5.156072616577148, 5.222244739532471, 5.188858985900879, 5.18893575668335, 5.104616641998291, 5.156430244445801, 5.187168598175049]\n"
     ]
    },
    {
     "name": "stderr",
     "output_type": "stream",
     "text": [
      "0.161797:  66%|██████▌   | 2115/3200 [01:34<00:48, 22.47it/s]"
     ]
    }
   ],
   "source": [
    "train_losses = [8.99688381895423, 7.447008701860905, 6.819614188373089, 6.756220295354724, 6.3309409860521555, 6.210726347230374, 6.219333339333534, 6.225389459840954, 5.978656517714262, 5.980397833921015, 5.72186337761581, 5.895540365539492, 5.849212531298399, 5.690261988639832, 5.624563320577145, 5.679155041836202, 5.586134704425931, 5.654708657674491, 5.715709848292172, 5.5188806889951225, 5.497861228436232, 5.571464146263898, 5.4665602750703695, 5.551240729577839, 5.368751032687723, 5.420417926572263, 5.53939581360668, 5.477566199973226, 5.522608667239547, 5.405717139951885, 5.456880302615463, 5.49130221568048, 5.47696663826704, 5.463503729626536, 5.355901707224548, 5.425206321999431, 5.4836160293594, 5.3817997147515415, 5.310110193789005, 5.2941837514936925, 5.384898569844663, 5.439891175143421, 5.379424596503377, 5.37850166361779, 5.273312831632793, 5.394021689407527, 5.30100776463747, 5.299571858793497, 5.346060801483691, 5.293473369292915, 5.3672544518485665, 5.2196143627166744, 5.376763070374727, 5.3546421390399335, 5.37157914634794, 5.220500768907368, 5.325444615446031, 5.172556496858597, 5.316729328632355, 5.310623440630734, 5.4102950366958975, 5.099037979356945, 5.2540016291290526, 5.15561858586967, 5.102626170776785, 5.306386022381485, 5.181827557757497, 5.064150472395122, 5.218263981938362, 5.1934698026254775, 5.220842763632536, 5.094147684536875, 5.186950975954533, 5.277704075276851, 5.153262359276414, 5.158523515351117, 5.250758710019291, 5.281736856661737, 5.1620757971704005, 5.121279909200966, 5.060195054039359]\n",
    "val_losses = [7.717712879180908, 6.955950736999512, 6.704439640045166, 6.528388023376465, 6.3274617195129395, 6.1996750831604, 6.113377094268799, 6.011967658996582, 5.910389423370361, 5.87477970123291, 5.860624313354492, 5.7814507484436035, 5.771292686462402, 5.716648101806641, 5.757233619689941, 5.679626941680908, 5.713437080383301, 5.611827850341797, 5.663970947265625, 5.621941566467285, 5.755812644958496, 5.623030662536621, 5.574612617492676, 5.539113998413086, 5.730890274047852, 5.500331401824951, 5.504433631896973, 5.448913097381592, 5.507577896118164, 5.510786056518555, 5.459959983825684, 5.4007673263549805, 5.396493434906006, 5.44691276550293, 5.382143497467041, 5.412578582763672, 5.4137701988220215, 5.555471897125244, 5.43337869644165, 5.491706371307373, 5.595604419708252, 5.40668249130249, 5.5386128425598145, 5.346236705780029, 5.419410228729248, 5.356541156768799, 5.332381248474121, 5.363884449005127, 5.393413543701172, 5.354836940765381, 5.307928085327148, 5.325294494628906, 5.297708034515381, 5.33036994934082, 5.321070194244385, 5.3252997398376465, 5.322055816650391, 5.327525615692139, 5.321632385253906, 5.270559787750244, 5.568323612213135, 5.401540279388428, 5.27060604095459, 5.273929595947266, 5.256091117858887, 5.263978481292725, 5.2708282470703125, 5.270179748535156, 5.307251453399658, 5.20893669128418, 5.262117862701416, 5.2497735023498535, 5.262760639190674, 5.3784050941467285, 5.251499176025391, 5.226221561431885, 5.271778583526611, 5.216109752655029, 5.269227504730225, 5.23778772354126, 5.283673286437988]\n",
    "\n",
    "lr, batch_size, samples_per_epoch, patience = 0.0005, 32, 102400, 15\n",
    "d, N, he, dropout = 50, 2, 4, 0.2\n",
    "model, fore_model =  build_strats(D, fore_max_len, V, d, N, he, dropout, forecast=True)\n",
    "print (fore_model.summary())\n",
    "fore_model.compile(loss=forecast_loss, optimizer=Adam(lr))\n",
    "fore_loadpath = 'Baseline/models/forecasting/strats_baseline_forecasting_patience_10.h5'\n",
    "fore_model.load_weights(fore_loadpath)\n",
    "\n",
    "fore_savepath = 'Baseline/models/forecasting/strats_baseline_forecasting_patience_15.h5'\n",
    "\n",
    "\n",
    "# Pretrain fore_model.\n",
    "best_val_loss = 5.20893669128418\n",
    "N_fore = len(fore_train_op)\n",
    "\n",
    "# train_losses = []\n",
    "# val_losses = []\n",
    "\n",
    "best_epoch = 69\n",
    "\n",
    "for e in range(81, 1000):\n",
    "    e_indices = np.random.choice(range(N_fore), size=samples_per_epoch, replace=False)\n",
    "    e_loss = 0\n",
    "    pbar = tqdm(range(0, len(e_indices), batch_size))\n",
    "    for start in pbar:\n",
    "        ind = e_indices[start:start+batch_size]\n",
    "        e_loss += fore_model.train_on_batch([ip[ind] for ip in fore_train_ip], fore_train_op[ind])\n",
    "        pbar.set_description('%f'%(e_loss/(start+1)))\n",
    "    val_loss = fore_model.evaluate(fore_valid_ip, fore_valid_op, batch_size=batch_size, verbose=1)\n",
    "    \n",
    "    train_losses.append(e_loss*batch_size/samples_per_epoch)\n",
    "    val_losses.append(val_loss)\n",
    "    \n",
    "    print ('Epoch', e, 'loss', e_loss*batch_size/samples_per_epoch, 'val loss', val_loss)\n",
    "    \n",
    "    print(train_losses)\n",
    "    print(val_losses)\n",
    "    \n",
    "    if val_loss < best_val_loss:\n",
    "        best_val_loss = val_loss\n",
    "        fore_model.save_weights(fore_savepath)\n",
    "        best_epoch = e\n",
    "    if (e-best_epoch)>patience:\n",
    "        break"
   ]
  },
  {
   "cell_type": "code",
   "execution_count": null,
   "metadata": {},
   "outputs": [],
   "source": [
    "# 0.158179: 100%|██████████| 3200/3200 [02:25<00:00, 21.92it/s]\n",
    "# 4276/4276 [==============================] - 68s 16ms/step - loss: 5.2837\n",
    "# Epoch 80 loss 5.060195054039359 val loss 5.283673286437988\n",
    "# [8.99688381895423, 7.447008701860905, 6.819614188373089, 6.756220295354724, 6.3309409860521555, 6.210726347230374, 6.219333339333534, 6.225389459840954, 5.978656517714262, 5.980397833921015, 5.72186337761581, 5.895540365539492, 5.849212531298399, 5.690261988639832, 5.624563320577145, 5.679155041836202, 5.586134704425931, 5.654708657674491, 5.715709848292172, 5.5188806889951225, 5.497861228436232, 5.571464146263898, 5.4665602750703695, 5.551240729577839, 5.368751032687723, 5.420417926572263, 5.53939581360668, 5.477566199973226, 5.522608667239547, 5.405717139951885, 5.456880302615463, 5.49130221568048, 5.47696663826704, 5.463503729626536, 5.355901707224548, 5.425206321999431, 5.4836160293594, 5.3817997147515415, 5.310110193789005, 5.2941837514936925, 5.384898569844663, 5.439891175143421, 5.379424596503377, 5.37850166361779, 5.273312831632793, 5.394021689407527, 5.30100776463747, 5.299571858793497, 5.346060801483691, 5.293473369292915, 5.3672544518485665, 5.2196143627166744, 5.376763070374727, 5.3546421390399335, 5.37157914634794, 5.220500768907368, 5.325444615446031, 5.172556496858597, 5.316729328632355, 5.310623440630734, 5.4102950366958975, 5.099037979356945, 5.2540016291290526, 5.15561858586967, 5.102626170776785, 5.306386022381485, 5.181827557757497, 5.064150472395122, 5.218263981938362, 5.1934698026254775, 5.220842763632536, 5.094147684536875, 5.186950975954533, 5.277704075276851, 5.153262359276414, 5.158523515351117, 5.250758710019291, 5.281736856661737, 5.1620757971704005, 5.121279909200966, 5.060195054039359]\n",
    "# [7.717712879180908, 6.955950736999512, 6.704439640045166, 6.528388023376465, 6.3274617195129395, 6.1996750831604, 6.113377094268799, 6.011967658996582, 5.910389423370361, 5.87477970123291, 5.860624313354492, 5.7814507484436035, 5.771292686462402, 5.716648101806641, 5.757233619689941, 5.679626941680908, 5.713437080383301, 5.611827850341797, 5.663970947265625, 5.621941566467285, 5.755812644958496, 5.623030662536621, 5.574612617492676, 5.539113998413086, 5.730890274047852, 5.500331401824951, 5.504433631896973, 5.448913097381592, 5.507577896118164, 5.510786056518555, 5.459959983825684, 5.4007673263549805, 5.396493434906006, 5.44691276550293, 5.382143497467041, 5.412578582763672, 5.4137701988220215, 5.555471897125244, 5.43337869644165, 5.491706371307373, 5.595604419708252, 5.40668249130249, 5.5386128425598145, 5.346236705780029, 5.419410228729248, 5.356541156768799, 5.332381248474121, 5.363884449005127, 5.393413543701172, 5.354836940765381, 5.307928085327148, 5.325294494628906, 5.297708034515381, 5.33036994934082, 5.321070194244385, 5.3252997398376465, 5.322055816650391, 5.327525615692139, 5.321632385253906, 5.270559787750244, 5.568323612213135, 5.401540279388428, 5.27060604095459, 5.273929595947266, 5.256091117858887, 5.263978481292725, 5.2708282470703125, 5.270179748535156, 5.307251453399658, 5.20893669128418, 5.262117862701416, 5.2497735023498535, 5.262760639190674, 5.3784050941467285, 5.251499176025391, 5.226221561431885, 5.271778583526611, 5.216109752655029, 5.269227504730225, 5.23778772354126, 5.283673286437988]"
   ]
  },
  {
   "cell_type": "code",
   "execution_count": null,
   "metadata": {},
   "outputs": [],
   "source": [
    "# train_losses = [8.99688381895423, 7.447008701860905, 6.819614188373089, 6.756220295354724, 6.3309409860521555, 6.210726347230374, 6.219333339333534, 6.225389459840954, 5.978656517714262, 5.980397833921015, 5.72186337761581, 5.895540365539492, 5.849212531298399, 5.690261988639832, 5.624563320577145, 5.679155041836202, 5.586134704425931, 5.654708657674491, 5.715709848292172, 5.5188806889951225, 5.497861228436232, 5.571464146263898, 5.4665602750703695, 5.551240729577839, 5.368751032687723, 5.420417926572263, 5.53939581360668, 5.477566199973226, 5.522608667239547, 5.405717139951885, 5.456880302615463, 5.49130221568048, 5.47696663826704, 5.463503729626536, 5.355901707224548, 5.425206321999431, 5.4836160293594, 5.3817997147515415]\n",
    "# val_losses = [7.717712879180908, 6.955950736999512, 6.704439640045166, 6.528388023376465, 6.3274617195129395, 6.1996750831604, 6.113377094268799, 6.011967658996582, 5.910389423370361, 5.87477970123291, 5.860624313354492, 5.7814507484436035, 5.771292686462402, 5.716648101806641, 5.757233619689941, 5.679626941680908, 5.713437080383301, 5.611827850341797, 5.663970947265625, 5.621941566467285, 5.755812644958496, 5.623030662536621, 5.574612617492676, 5.539113998413086, 5.730890274047852, 5.500331401824951, 5.504433631896973, 5.448913097381592, 5.507577896118164, 5.510786056518555, 5.459959983825684, 5.4007673263549805, 5.396493434906006, 5.44691276550293, 5.382143497467041, 5.412578582763672, 5.4137701988220215, 5.555471897125244]"
   ]
  },
  {
   "cell_type": "code",
   "execution_count": null,
   "metadata": {
    "tags": []
   },
   "outputs": [],
   "source": [
    "# import matplotlib.pyplot as plt\n",
    "# import numpy as np\n",
    "\n",
    "# train_losses = [8.957182633876801, 7.444346153885126, 6.718132002651691, 6.606167373768986, 6.334112568087876, 6.222601437494159, 6.099050151444971, 6.009203886091709, 5.77085709810257, 5.949807133153081, 5.8031801933795215, 5.635595956072211, 5.798708248250186, 5.686658313274384, 5.617710028290748, 5.546603025831282, 5.4439452893659475, 5.569199087247252, 5.440258623324334, 5.6310957011580465, 5.472006217092275, 5.4239358650147915, 5.410358652472496, 5.457051942534744, 5.244602517709136, 5.531149811521172, 5.505790843628347, 5.510934510603547, 5.33967715986073]\n",
    "# plt.plot(train_losses)\n",
    "# plt.title('Training loss over epochs (baseline model)')\n",
    "# plt.xlabel('epochs')\n",
    "# plt.ylabel('training loss')\n",
    "# plt.savefig('plots/train_losses.png')\n",
    "# plt.show()"
   ]
  },
  {
   "cell_type": "code",
   "execution_count": null,
   "metadata": {
    "tags": []
   },
   "outputs": [],
   "source": [
    "# val_losses = [7.574024677276611, 6.8714728355407715, 6.6017351150512695, 6.405410289764404, 6.308310508728027, 6.093061923980713, 5.992845058441162, 6.107646465301514, 5.939321994781494, 5.784503936767578, 5.81207275390625, 5.778130054473877, 5.717212677001953, 5.657232284545898, 5.574744701385498, 5.6003875732421875, 5.6966986656188965, 5.5241217613220215, 5.555541515350342, 5.584465503692627, 5.486431121826172, 5.501025199890137, 5.439569473266602, 5.72035551071167, 5.5537919998168945, 5.444085597991943, 5.448609828948975, 5.465628147125244, 5.454106330871582]\n",
    "# plt.plot(val_losses)\n",
    "# plt.title('Validation loss over epochs (baseline model)')\n",
    "# plt.xlabel('epochs')\n",
    "# plt.ylabel('validation loss')\n",
    "# plt.savefig('plots/validation_losses.png')\n",
    "# plt.show()"
   ]
  }
 ],
 "metadata": {
  "accelerator": "GPU",
  "colab": {
   "machine_shape": "hm",
   "provenance": [],
   "toc_visible": true
  },
  "gpuClass": "standard",
  "kernelspec": {
   "display_name": "Python 3.10.9 64-bit",
   "language": "python",
   "name": "python3"
  },
  "language_info": {
   "codemirror_mode": {
    "name": "ipython",
    "version": 3
   },
   "file_extension": ".py",
   "mimetype": "text/x-python",
   "name": "python",
   "nbconvert_exporter": "python",
   "pygments_lexer": "ipython3",
   "version": "3.10.9"
  },
  "vscode": {
   "interpreter": {
    "hash": "aee8b7b246df8f9039afb4144a1f6fd8d2ca17a180786b69acc140d282b71a49"
   }
  }
 },
 "nbformat": 4,
 "nbformat_minor": 4
}
